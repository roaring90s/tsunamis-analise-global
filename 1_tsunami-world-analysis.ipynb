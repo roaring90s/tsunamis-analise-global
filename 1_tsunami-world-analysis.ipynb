{
 "cells": [
  {
   "cell_type": "markdown",
   "id": "01b011f9",
   "metadata": {},
   "source": [
    "# 🌊 Análise Global de Tsunamis com Dados da NOAA\n",
    "\n",
    "Este notebook tem como objetivo analisar dados históricos de tsunamis ao redor do mundo, utilizando um dataset disponibilizado pela NOAA.\n",
    "\n",
    "A análise inclui:\n",
    "- Localizações mais afetadas\n",
    "- Número de mortes e danos\n",
    "- Magnitudes de terremotos\n",
    "- Altura máxima da água\n",
    "- Visualizações geográficas interativas\n",
    "\n",
    "O projeto busca gerar insights relevantes sobre a ocorrência e o impacto desses eventos naturais extremos.\n"
   ]
  },
  {
   "cell_type": "code",
   "execution_count": 1,
   "id": "99d52662",
   "metadata": {},
   "outputs": [],
   "source": [
    "import pandas as pd\n",
    "import numpy as np\n",
    "from datetime import timedelta\n",
    "import plotly.express as px\n",
    "\n"
   ]
  },
  {
   "cell_type": "code",
   "execution_count": 2,
   "id": "5cecdce8",
   "metadata": {},
   "outputs": [],
   "source": [
    "df = pd.read_csv('../data/tsunamis-data.tsv', sep='\\t') "
   ]
  },
  {
   "cell_type": "code",
   "execution_count": 3,
   "id": "a24c4958",
   "metadata": {},
   "outputs": [
    {
     "data": {
      "text/html": [
       "<div>\n",
       "<style scoped>\n",
       "    .dataframe tbody tr th:only-of-type {\n",
       "        vertical-align: middle;\n",
       "    }\n",
       "\n",
       "    .dataframe tbody tr th {\n",
       "        vertical-align: top;\n",
       "    }\n",
       "\n",
       "    .dataframe thead th {\n",
       "        text-align: right;\n",
       "    }\n",
       "</style>\n",
       "<table border=\"1\" class=\"dataframe\">\n",
       "  <thead>\n",
       "    <tr style=\"text-align: right;\">\n",
       "      <th></th>\n",
       "      <th>Search Parameters</th>\n",
       "      <th>Year</th>\n",
       "      <th>Mo</th>\n",
       "      <th>Dy</th>\n",
       "      <th>Hr</th>\n",
       "      <th>Mn</th>\n",
       "      <th>Sec</th>\n",
       "      <th>Earthquake Magnitude</th>\n",
       "      <th>Vol</th>\n",
       "      <th>Deposits</th>\n",
       "      <th>...</th>\n",
       "      <th>Injuries</th>\n",
       "      <th>Damage ($Mil)</th>\n",
       "      <th>Houses Destroyed</th>\n",
       "      <th>Houses Damaged</th>\n",
       "      <th>Total Deaths</th>\n",
       "      <th>Total Missing</th>\n",
       "      <th>Total Injuries</th>\n",
       "      <th>Total Damage ($Mil)</th>\n",
       "      <th>Total Houses Destroyed</th>\n",
       "      <th>Total Houses Damaged</th>\n",
       "    </tr>\n",
       "  </thead>\n",
       "  <tbody>\n",
       "    <tr>\n",
       "      <th>0</th>\n",
       "      <td>[\"1700 &lt;= Year &gt;= 2024\"]</td>\n",
       "      <td>NaN</td>\n",
       "      <td>NaN</td>\n",
       "      <td>NaN</td>\n",
       "      <td>NaN</td>\n",
       "      <td>NaN</td>\n",
       "      <td>NaN</td>\n",
       "      <td>NaN</td>\n",
       "      <td>NaN</td>\n",
       "      <td>NaN</td>\n",
       "      <td>...</td>\n",
       "      <td>NaN</td>\n",
       "      <td>NaN</td>\n",
       "      <td>NaN</td>\n",
       "      <td>NaN</td>\n",
       "      <td>NaN</td>\n",
       "      <td>NaN</td>\n",
       "      <td>NaN</td>\n",
       "      <td>NaN</td>\n",
       "      <td>NaN</td>\n",
       "      <td>NaN</td>\n",
       "    </tr>\n",
       "    <tr>\n",
       "      <th>1</th>\n",
       "      <td>NaN</td>\n",
       "      <td>1700.0</td>\n",
       "      <td>1.0</td>\n",
       "      <td>27.0</td>\n",
       "      <td>5.0</td>\n",
       "      <td>0.0</td>\n",
       "      <td>NaN</td>\n",
       "      <td>9.0</td>\n",
       "      <td>NaN</td>\n",
       "      <td>56.0</td>\n",
       "      <td>...</td>\n",
       "      <td>NaN</td>\n",
       "      <td>NaN</td>\n",
       "      <td>NaN</td>\n",
       "      <td>NaN</td>\n",
       "      <td>NaN</td>\n",
       "      <td>NaN</td>\n",
       "      <td>NaN</td>\n",
       "      <td>NaN</td>\n",
       "      <td>NaN</td>\n",
       "      <td>NaN</td>\n",
       "    </tr>\n",
       "    <tr>\n",
       "      <th>2</th>\n",
       "      <td>NaN</td>\n",
       "      <td>1700.0</td>\n",
       "      <td>4.0</td>\n",
       "      <td>1.0</td>\n",
       "      <td>NaN</td>\n",
       "      <td>NaN</td>\n",
       "      <td>NaN</td>\n",
       "      <td>NaN</td>\n",
       "      <td>NaN</td>\n",
       "      <td>0.0</td>\n",
       "      <td>...</td>\n",
       "      <td>NaN</td>\n",
       "      <td>NaN</td>\n",
       "      <td>300.0</td>\n",
       "      <td>NaN</td>\n",
       "      <td>1001.0</td>\n",
       "      <td>NaN</td>\n",
       "      <td>NaN</td>\n",
       "      <td>NaN</td>\n",
       "      <td>300.0</td>\n",
       "      <td>NaN</td>\n",
       "    </tr>\n",
       "    <tr>\n",
       "      <th>3</th>\n",
       "      <td>NaN</td>\n",
       "      <td>1700.0</td>\n",
       "      <td>4.0</td>\n",
       "      <td>16.0</td>\n",
       "      <td>NaN</td>\n",
       "      <td>NaN</td>\n",
       "      <td>NaN</td>\n",
       "      <td>7.0</td>\n",
       "      <td>NaN</td>\n",
       "      <td>0.0</td>\n",
       "      <td>...</td>\n",
       "      <td>NaN</td>\n",
       "      <td>NaN</td>\n",
       "      <td>NaN</td>\n",
       "      <td>NaN</td>\n",
       "      <td>1000.0</td>\n",
       "      <td>NaN</td>\n",
       "      <td>NaN</td>\n",
       "      <td>NaN</td>\n",
       "      <td>NaN</td>\n",
       "      <td>NaN</td>\n",
       "    </tr>\n",
       "    <tr>\n",
       "      <th>4</th>\n",
       "      <td>NaN</td>\n",
       "      <td>1700.0</td>\n",
       "      <td>9.0</td>\n",
       "      <td>12.0</td>\n",
       "      <td>NaN</td>\n",
       "      <td>NaN</td>\n",
       "      <td>NaN</td>\n",
       "      <td>6.5</td>\n",
       "      <td>NaN</td>\n",
       "      <td>0.0</td>\n",
       "      <td>...</td>\n",
       "      <td>NaN</td>\n",
       "      <td>NaN</td>\n",
       "      <td>NaN</td>\n",
       "      <td>NaN</td>\n",
       "      <td>NaN</td>\n",
       "      <td>NaN</td>\n",
       "      <td>NaN</td>\n",
       "      <td>NaN</td>\n",
       "      <td>NaN</td>\n",
       "      <td>NaN</td>\n",
       "    </tr>\n",
       "  </tbody>\n",
       "</table>\n",
       "<p>5 rows × 32 columns</p>\n",
       "</div>"
      ],
      "text/plain": [
       "          Search Parameters    Year   Mo    Dy   Hr   Mn  Sec  \\\n",
       "0  [\"1700 <= Year >= 2024\"]     NaN  NaN   NaN  NaN  NaN  NaN   \n",
       "1                       NaN  1700.0  1.0  27.0  5.0  0.0  NaN   \n",
       "2                       NaN  1700.0  4.0   1.0  NaN  NaN  NaN   \n",
       "3                       NaN  1700.0  4.0  16.0  NaN  NaN  NaN   \n",
       "4                       NaN  1700.0  9.0  12.0  NaN  NaN  NaN   \n",
       "\n",
       "   Earthquake Magnitude  Vol  Deposits  ... Injuries Damage ($Mil)  \\\n",
       "0                   NaN  NaN       NaN  ...      NaN           NaN   \n",
       "1                   9.0  NaN      56.0  ...      NaN           NaN   \n",
       "2                   NaN  NaN       0.0  ...      NaN           NaN   \n",
       "3                   7.0  NaN       0.0  ...      NaN           NaN   \n",
       "4                   6.5  NaN       0.0  ...      NaN           NaN   \n",
       "\n",
       "   Houses Destroyed  Houses Damaged  Total Deaths  Total Missing  \\\n",
       "0               NaN             NaN           NaN            NaN   \n",
       "1               NaN             NaN           NaN            NaN   \n",
       "2             300.0             NaN        1001.0            NaN   \n",
       "3               NaN             NaN        1000.0            NaN   \n",
       "4               NaN             NaN           NaN            NaN   \n",
       "\n",
       "   Total Injuries  Total Damage ($Mil)  Total Houses Destroyed  \\\n",
       "0             NaN                  NaN                     NaN   \n",
       "1             NaN                  NaN                     NaN   \n",
       "2             NaN                  NaN                   300.0   \n",
       "3             NaN                  NaN                     NaN   \n",
       "4             NaN                  NaN                     NaN   \n",
       "\n",
       "   Total Houses Damaged  \n",
       "0                   NaN  \n",
       "1                   NaN  \n",
       "2                   NaN  \n",
       "3                   NaN  \n",
       "4                   NaN  \n",
       "\n",
       "[5 rows x 32 columns]"
      ]
     },
     "execution_count": 3,
     "metadata": {},
     "output_type": "execute_result"
    }
   ],
   "source": [
    "df.head()"
   ]
  },
  {
   "cell_type": "code",
   "execution_count": 4,
   "id": "e73483c2",
   "metadata": {},
   "outputs": [
    {
     "name": "stdout",
     "output_type": "stream",
     "text": [
      "<class 'pandas.core.frame.DataFrame'>\n",
      "RangeIndex: 2568 entries, 0 to 2567\n",
      "Data columns (total 32 columns):\n",
      " #   Column                    Non-Null Count  Dtype  \n",
      "---  ------                    --------------  -----  \n",
      " 0   Search Parameters         1 non-null      object \n",
      " 1   Year                      2567 non-null   float64\n",
      " 2   Mo                        2496 non-null   float64\n",
      " 3   Dy                        2418 non-null   float64\n",
      " 4   Hr                        1522 non-null   float64\n",
      " 5   Mn                        1450 non-null   float64\n",
      " 6   Sec                       1032 non-null   float64\n",
      " 7   Earthquake Magnitude      1485 non-null   float64\n",
      " 8   Vol                       158 non-null    float64\n",
      " 9   Deposits                  2567 non-null   float64\n",
      " 10  Country                   2566 non-null   object \n",
      " 11  Location Name             2564 non-null   object \n",
      " 12  Latitude                  2242 non-null   float64\n",
      " 13  Longitude                 2242 non-null   float64\n",
      " 14  Maximum Water Height (m)  1295 non-null   float64\n",
      " 15  Number of Runups          2567 non-null   float64\n",
      " 16  Tsunami Magnitude (Abe)   1 non-null      float64\n",
      " 17  Tsunami Magnitude (Iida)  648 non-null    float64\n",
      " 18  Tsunami Intensity         1019 non-null   float64\n",
      " 19  Deaths                    246 non-null    float64\n",
      " 20  Missing                   6 non-null      float64\n",
      " 21  Missing Description       7 non-null      float64\n",
      " 22  Injuries                  77 non-null     float64\n",
      " 23  Damage ($Mil)             51 non-null     float64\n",
      " 24  Houses Destroyed          93 non-null     float64\n",
      " 25  Houses Damaged            17 non-null     float64\n",
      " 26  Total Deaths              606 non-null    float64\n",
      " 27  Total Missing             16 non-null     float64\n",
      " 28  Total Injuries            322 non-null    float64\n",
      " 29  Total Damage ($Mil)       171 non-null    float64\n",
      " 30  Total Houses Destroyed    248 non-null    float64\n",
      " 31  Total Houses Damaged      104 non-null    float64\n",
      "dtypes: float64(29), object(3)\n",
      "memory usage: 642.1+ KB\n"
     ]
    },
    {
     "data": {
      "text/html": [
       "<div>\n",
       "<style scoped>\n",
       "    .dataframe tbody tr th:only-of-type {\n",
       "        vertical-align: middle;\n",
       "    }\n",
       "\n",
       "    .dataframe tbody tr th {\n",
       "        vertical-align: top;\n",
       "    }\n",
       "\n",
       "    .dataframe thead th {\n",
       "        text-align: right;\n",
       "    }\n",
       "</style>\n",
       "<table border=\"1\" class=\"dataframe\">\n",
       "  <thead>\n",
       "    <tr style=\"text-align: right;\">\n",
       "      <th></th>\n",
       "      <th>Year</th>\n",
       "      <th>Mo</th>\n",
       "      <th>Dy</th>\n",
       "      <th>Hr</th>\n",
       "      <th>Mn</th>\n",
       "      <th>Sec</th>\n",
       "      <th>Earthquake Magnitude</th>\n",
       "      <th>Vol</th>\n",
       "      <th>Deposits</th>\n",
       "      <th>Latitude</th>\n",
       "      <th>...</th>\n",
       "      <th>Injuries</th>\n",
       "      <th>Damage ($Mil)</th>\n",
       "      <th>Houses Destroyed</th>\n",
       "      <th>Houses Damaged</th>\n",
       "      <th>Total Deaths</th>\n",
       "      <th>Total Missing</th>\n",
       "      <th>Total Injuries</th>\n",
       "      <th>Total Damage ($Mil)</th>\n",
       "      <th>Total Houses Destroyed</th>\n",
       "      <th>Total Houses Damaged</th>\n",
       "    </tr>\n",
       "  </thead>\n",
       "  <tbody>\n",
       "    <tr>\n",
       "      <th>count</th>\n",
       "      <td>2567.000000</td>\n",
       "      <td>2496.000000</td>\n",
       "      <td>2418.000000</td>\n",
       "      <td>1522.000000</td>\n",
       "      <td>1450.000000</td>\n",
       "      <td>1032.000000</td>\n",
       "      <td>1485.000000</td>\n",
       "      <td>158.000000</td>\n",
       "      <td>2567.000000</td>\n",
       "      <td>2242.00000</td>\n",
       "      <td>...</td>\n",
       "      <td>77.000000</td>\n",
       "      <td>51.000000</td>\n",
       "      <td>93.000000</td>\n",
       "      <td>17.000000</td>\n",
       "      <td>606.000000</td>\n",
       "      <td>16.000000</td>\n",
       "      <td>322.000000</td>\n",
       "      <td>171.000000</td>\n",
       "      <td>2.480000e+02</td>\n",
       "      <td>1.040000e+02</td>\n",
       "    </tr>\n",
       "    <tr>\n",
       "      <th>mean</th>\n",
       "      <td>1913.958317</td>\n",
       "      <td>6.578926</td>\n",
       "      <td>15.605045</td>\n",
       "      <td>11.204993</td>\n",
       "      <td>28.184138</td>\n",
       "      <td>27.552907</td>\n",
       "      <td>7.007744</td>\n",
       "      <td>4134.044304</td>\n",
       "      <td>0.266848</td>\n",
       "      <td>15.33955</td>\n",
       "      <td>...</td>\n",
       "      <td>1410.220779</td>\n",
       "      <td>5216.178255</td>\n",
       "      <td>4093.935484</td>\n",
       "      <td>19456.235294</td>\n",
       "      <td>3147.250825</td>\n",
       "      <td>145.375000</td>\n",
       "      <td>5039.394410</td>\n",
       "      <td>3993.013830</td>\n",
       "      <td>3.735959e+04</td>\n",
       "      <td>4.034084e+04</td>\n",
       "    </tr>\n",
       "    <tr>\n",
       "      <th>std</th>\n",
       "      <td>76.611410</td>\n",
       "      <td>3.480518</td>\n",
       "      <td>8.627678</td>\n",
       "      <td>6.935129</td>\n",
       "      <td>17.302645</td>\n",
       "      <td>18.058100</td>\n",
       "      <td>0.791464</td>\n",
       "      <td>2483.804667</td>\n",
       "      <td>3.387900</td>\n",
       "      <td>28.53894</td>\n",
       "      <td>...</td>\n",
       "      <td>4740.261931</td>\n",
       "      <td>31009.046958</td>\n",
       "      <td>14678.249879</td>\n",
       "      <td>68035.788041</td>\n",
       "      <td>18338.957091</td>\n",
       "      <td>245.822395</td>\n",
       "      <td>29385.972145</td>\n",
       "      <td>20140.706704</td>\n",
       "      <td>3.452819e+05</td>\n",
       "      <td>1.585805e+05</td>\n",
       "    </tr>\n",
       "    <tr>\n",
       "      <th>min</th>\n",
       "      <td>1700.000000</td>\n",
       "      <td>1.000000</td>\n",
       "      <td>1.000000</td>\n",
       "      <td>0.000000</td>\n",
       "      <td>0.000000</td>\n",
       "      <td>0.000000</td>\n",
       "      <td>3.200000</td>\n",
       "      <td>4.000000</td>\n",
       "      <td>0.000000</td>\n",
       "      <td>-69.41700</td>\n",
       "      <td>...</td>\n",
       "      <td>1.000000</td>\n",
       "      <td>0.010000</td>\n",
       "      <td>1.000000</td>\n",
       "      <td>1.000000</td>\n",
       "      <td>1.000000</td>\n",
       "      <td>1.000000</td>\n",
       "      <td>1.000000</td>\n",
       "      <td>0.003000</td>\n",
       "      <td>1.000000e+00</td>\n",
       "      <td>1.000000e+00</td>\n",
       "    </tr>\n",
       "    <tr>\n",
       "      <th>25%</th>\n",
       "      <td>1865.000000</td>\n",
       "      <td>3.000000</td>\n",
       "      <td>8.000000</td>\n",
       "      <td>5.000000</td>\n",
       "      <td>14.000000</td>\n",
       "      <td>11.975000</td>\n",
       "      <td>6.500000</td>\n",
       "      <td>2065.750000</td>\n",
       "      <td>0.000000</td>\n",
       "      <td>-6.50000</td>\n",
       "      <td>...</td>\n",
       "      <td>3.000000</td>\n",
       "      <td>1.000000</td>\n",
       "      <td>11.000000</td>\n",
       "      <td>8.000000</td>\n",
       "      <td>4.000000</td>\n",
       "      <td>8.250000</td>\n",
       "      <td>15.000000</td>\n",
       "      <td>2.812500</td>\n",
       "      <td>4.075000e+01</td>\n",
       "      <td>2.285000e+02</td>\n",
       "    </tr>\n",
       "    <tr>\n",
       "      <th>50%</th>\n",
       "      <td>1923.000000</td>\n",
       "      <td>7.000000</td>\n",
       "      <td>16.000000</td>\n",
       "      <td>11.000000</td>\n",
       "      <td>29.000000</td>\n",
       "      <td>27.000000</td>\n",
       "      <td>7.000000</td>\n",
       "      <td>4532.500000</td>\n",
       "      <td>0.000000</td>\n",
       "      <td>18.10000</td>\n",
       "      <td>...</td>\n",
       "      <td>22.000000</td>\n",
       "      <td>4.200000</td>\n",
       "      <td>104.000000</td>\n",
       "      <td>182.000000</td>\n",
       "      <td>25.000000</td>\n",
       "      <td>30.000000</td>\n",
       "      <td>97.500000</td>\n",
       "      <td>48.480000</td>\n",
       "      <td>6.500000e+02</td>\n",
       "      <td>1.000000e+03</td>\n",
       "    </tr>\n",
       "    <tr>\n",
       "      <th>75%</th>\n",
       "      <td>1978.000000</td>\n",
       "      <td>10.000000</td>\n",
       "      <td>23.000000</td>\n",
       "      <td>17.000000</td>\n",
       "      <td>43.000000</td>\n",
       "      <td>43.000000</td>\n",
       "      <td>7.500000</td>\n",
       "      <td>6009.000000</td>\n",
       "      <td>0.000000</td>\n",
       "      <td>38.59575</td>\n",
       "      <td>...</td>\n",
       "      <td>233.000000</td>\n",
       "      <td>90.000000</td>\n",
       "      <td>1960.000000</td>\n",
       "      <td>500.000000</td>\n",
       "      <td>346.250000</td>\n",
       "      <td>130.500000</td>\n",
       "      <td>499.500000</td>\n",
       "      <td>509.500000</td>\n",
       "      <td>5.256000e+03</td>\n",
       "      <td>9.876750e+03</td>\n",
       "    </tr>\n",
       "    <tr>\n",
       "      <th>max</th>\n",
       "      <td>2024.000000</td>\n",
       "      <td>12.000000</td>\n",
       "      <td>31.000000</td>\n",
       "      <td>23.000000</td>\n",
       "      <td>59.000000</td>\n",
       "      <td>59.900000</td>\n",
       "      <td>9.500000</td>\n",
       "      <td>7575.000000</td>\n",
       "      <td>146.000000</td>\n",
       "      <td>78.37000</td>\n",
       "      <td>...</td>\n",
       "      <td>31943.000000</td>\n",
       "      <td>220136.600000</td>\n",
       "      <td>123661.000000</td>\n",
       "      <td>280920.000000</td>\n",
       "      <td>316000.000000</td>\n",
       "      <td>800.000000</td>\n",
       "      <td>374171.000000</td>\n",
       "      <td>220136.600000</td>\n",
       "      <td>5.360000e+06</td>\n",
       "      <td>1.474182e+06</td>\n",
       "    </tr>\n",
       "  </tbody>\n",
       "</table>\n",
       "<p>8 rows × 29 columns</p>\n",
       "</div>"
      ],
      "text/plain": [
       "              Year           Mo           Dy           Hr           Mn  \\\n",
       "count  2567.000000  2496.000000  2418.000000  1522.000000  1450.000000   \n",
       "mean   1913.958317     6.578926    15.605045    11.204993    28.184138   \n",
       "std      76.611410     3.480518     8.627678     6.935129    17.302645   \n",
       "min    1700.000000     1.000000     1.000000     0.000000     0.000000   \n",
       "25%    1865.000000     3.000000     8.000000     5.000000    14.000000   \n",
       "50%    1923.000000     7.000000    16.000000    11.000000    29.000000   \n",
       "75%    1978.000000    10.000000    23.000000    17.000000    43.000000   \n",
       "max    2024.000000    12.000000    31.000000    23.000000    59.000000   \n",
       "\n",
       "               Sec  Earthquake Magnitude          Vol     Deposits  \\\n",
       "count  1032.000000           1485.000000   158.000000  2567.000000   \n",
       "mean     27.552907              7.007744  4134.044304     0.266848   \n",
       "std      18.058100              0.791464  2483.804667     3.387900   \n",
       "min       0.000000              3.200000     4.000000     0.000000   \n",
       "25%      11.975000              6.500000  2065.750000     0.000000   \n",
       "50%      27.000000              7.000000  4532.500000     0.000000   \n",
       "75%      43.000000              7.500000  6009.000000     0.000000   \n",
       "max      59.900000              9.500000  7575.000000   146.000000   \n",
       "\n",
       "         Latitude  ...      Injuries  Damage ($Mil)  Houses Destroyed  \\\n",
       "count  2242.00000  ...     77.000000      51.000000         93.000000   \n",
       "mean     15.33955  ...   1410.220779    5216.178255       4093.935484   \n",
       "std      28.53894  ...   4740.261931   31009.046958      14678.249879   \n",
       "min     -69.41700  ...      1.000000       0.010000          1.000000   \n",
       "25%      -6.50000  ...      3.000000       1.000000         11.000000   \n",
       "50%      18.10000  ...     22.000000       4.200000        104.000000   \n",
       "75%      38.59575  ...    233.000000      90.000000       1960.000000   \n",
       "max      78.37000  ...  31943.000000  220136.600000     123661.000000   \n",
       "\n",
       "       Houses Damaged   Total Deaths  Total Missing  Total Injuries  \\\n",
       "count       17.000000     606.000000      16.000000      322.000000   \n",
       "mean     19456.235294    3147.250825     145.375000     5039.394410   \n",
       "std      68035.788041   18338.957091     245.822395    29385.972145   \n",
       "min          1.000000       1.000000       1.000000        1.000000   \n",
       "25%          8.000000       4.000000       8.250000       15.000000   \n",
       "50%        182.000000      25.000000      30.000000       97.500000   \n",
       "75%        500.000000     346.250000     130.500000      499.500000   \n",
       "max     280920.000000  316000.000000     800.000000   374171.000000   \n",
       "\n",
       "       Total Damage ($Mil)  Total Houses Destroyed  Total Houses Damaged  \n",
       "count           171.000000            2.480000e+02          1.040000e+02  \n",
       "mean           3993.013830            3.735959e+04          4.034084e+04  \n",
       "std           20140.706704            3.452819e+05          1.585805e+05  \n",
       "min               0.003000            1.000000e+00          1.000000e+00  \n",
       "25%               2.812500            4.075000e+01          2.285000e+02  \n",
       "50%              48.480000            6.500000e+02          1.000000e+03  \n",
       "75%             509.500000            5.256000e+03          9.876750e+03  \n",
       "max          220136.600000            5.360000e+06          1.474182e+06  \n",
       "\n",
       "[8 rows x 29 columns]"
      ]
     },
     "execution_count": 4,
     "metadata": {},
     "output_type": "execute_result"
    }
   ],
   "source": [
    "df.info()\n",
    "df.describe()"
   ]
  },
  {
   "cell_type": "code",
   "execution_count": 5,
   "id": "6aef7ccd",
   "metadata": {},
   "outputs": [
    {
     "data": {
      "text/plain": [
       "Index(['Search Parameters', 'Year', 'Mo', 'Dy', 'Hr', 'Mn', 'Sec',\n",
       "       'Earthquake Magnitude', 'Vol', 'Deposits', 'Country', 'Location Name',\n",
       "       'Latitude', 'Longitude', 'Maximum Water Height (m)', 'Number of Runups',\n",
       "       'Tsunami Magnitude (Abe)', 'Tsunami Magnitude (Iida)',\n",
       "       'Tsunami Intensity', 'Deaths', 'Missing', 'Missing Description',\n",
       "       'Injuries', 'Damage ($Mil)', 'Houses Destroyed', 'Houses Damaged',\n",
       "       'Total Deaths', 'Total Missing', 'Total Injuries',\n",
       "       'Total Damage ($Mil)', 'Total Houses Destroyed',\n",
       "       'Total Houses Damaged'],\n",
       "      dtype='object')"
      ]
     },
     "execution_count": 5,
     "metadata": {},
     "output_type": "execute_result"
    }
   ],
   "source": [
    "df.columns"
   ]
  },
  {
   "cell_type": "markdown",
   "id": "3fe6bae0",
   "metadata": {},
   "source": [
    "## 🧼 Limpeza e Estruturação dos Dados\n",
    "\n",
    "Nesta etapa, foram aplicadas transformações para deixar os dados prontos para análise:\n",
    "\n",
    "- Remoção de registros com `Year`, `Mo`, `Dy` nulos\n",
    "- Criação da coluna `Date` a partir de `Year`, `Mo` e `Dy`\n",
    "- Criação da coluna `Datetime` com `Hr`, `Mn`, `Sec`\n",
    "- Unificação opcional de `Date` com `Datetime`\n",
    "- Conversão de tipos numéricos\n",
    "- Padronização de valores (ex: `4.` para `4.0`)\n",
    "- Substituição de valores nulos em colunas categóricas (como `Total Deaths`, `Missing`, `Total Injuries`) por `0`\n",
    "- Remoção de colunas redundantes, mantendo as versões agregadas (como `Total Deaths`)\n"
   ]
  },
  {
   "cell_type": "code",
   "execution_count": 6,
   "id": "6b43cb4f",
   "metadata": {},
   "outputs": [],
   "source": [
    "df = df.drop(columns=['Search Parameters'])"
   ]
  },
  {
   "cell_type": "code",
   "execution_count": 7,
   "id": "f65e7fa3",
   "metadata": {},
   "outputs": [
    {
     "data": {
      "text/plain": [
       "Year      1\n",
       "Mo       72\n",
       "Dy      150\n",
       "dtype: int64"
      ]
     },
     "execution_count": 7,
     "metadata": {},
     "output_type": "execute_result"
    }
   ],
   "source": [
    "df[['Year', 'Mo', 'Dy']].isnull().sum()"
   ]
  },
  {
   "cell_type": "code",
   "execution_count": 8,
   "id": "99a77173",
   "metadata": {},
   "outputs": [],
   "source": [
    "df = df.dropna(subset=['Year', 'Mo', 'Dy'])"
   ]
  },
  {
   "cell_type": "code",
   "execution_count": 9,
   "id": "e40359d2",
   "metadata": {},
   "outputs": [
    {
     "data": {
      "text/plain": [
       "Year    0\n",
       "Mo      0\n",
       "Dy      0\n",
       "dtype: int64"
      ]
     },
     "execution_count": 9,
     "metadata": {},
     "output_type": "execute_result"
    }
   ],
   "source": [
    "df[['Year', 'Mo', 'Dy']].isnull().sum()"
   ]
  },
  {
   "cell_type": "code",
   "execution_count": 10,
   "id": "05b78702",
   "metadata": {},
   "outputs": [
    {
     "name": "stdout",
     "output_type": "stream",
     "text": [
      "[1700. 1703. 1705. 1706. 1707. 1708. 1710. 1711. 1714. 1715. 1716. 1718.\n",
      " 1721. 1722. 1723. 1725. 1726. 1727. 1730. 1731. 1732. 1735. 1737. 1738.\n",
      " 1741. 1742. 1743. 1746. 1748. 1749. 1750. 1751. 1752. 1754. 1755. 1756.\n",
      " 1757. 1759. 1760. 1761. 1762. 1763. 1764. 1765. 1766. 1767. 1768. 1769.\n",
      " 1770. 1771. 1772. 1773. 1774. 1775. 1777. 1778. 1780. 1781. 1782. 1783.\n",
      " 1784. 1787. 1788. 1790. 1791. 1792. 1793. 1794. 1796. 1797. 1798. 1799.\n",
      " 1800. 1802. 1804. 1805. 1806. 1808. 1809. 1810. 1811. 1812. 1813. 1815.\n",
      " 1816. 1817. 1818. 1819. 1820. 1821. 1822. 1823. 1824. 1825. 1826. 1827.\n",
      " 1828. 1829. 1830. 1831. 1832. 1833. 1834. 1835. 1836. 1837. 1838. 1839.\n",
      " 1840. 1841. 1842. 1843. 1844. 1845. 1846. 1847. 1848. 1849. 1850. 1851.\n",
      " 1852. 1853. 1854. 1855. 1856. 1857. 1858. 1859. 1860. 1861. 1862. 1863.\n",
      " 1864. 1865. 1866. 1867. 1868. 1869. 1870. 1871. 1872. 1873. 1874. 1875.\n",
      " 1876. 1877. 1878. 1879. 1880. 1881. 1882. 1883. 1884. 1885. 1886. 1887.\n",
      " 1888. 1889. 1890. 1891. 1892. 1893. 1894. 1895. 1896. 1897. 1898. 1899.\n",
      " 1900. 1901. 1902. 1903. 1904. 1905. 1906. 1907. 1908. 1909. 1910. 1911.\n",
      " 1912. 1913. 1914. 1915. 1916. 1917. 1918. 1919. 1920. 1921. 1922. 1923.\n",
      " 1924. 1925. 1926. 1927. 1928. 1929. 1930. 1931. 1932. 1933. 1934. 1935.\n",
      " 1936. 1937. 1938. 1939. 1940. 1941. 1942. 1943. 1944. 1945. 1946. 1947.\n",
      " 1948. 1949. 1950. 1951. 1952. 1953. 1954. 1955. 1956. 1957. 1958. 1959.\n",
      " 1960. 1961. 1962. 1963. 1964. 1965. 1966. 1967. 1968. 1969. 1970. 1971.\n",
      " 1972. 1973. 1974. 1975. 1976. 1977. 1978. 1979. 1980. 1981. 1982. 1983.\n",
      " 1984. 1985. 1986. 1987. 1988. 1989. 1990. 1991. 1992. 1993. 1994. 1995.\n",
      " 1996. 1997. 1998. 1999. 2000. 2001. 2002. 2003. 2004. 2005. 2006. 2007.\n",
      " 2008. 2009. 2010. 2011. 2012. 2013. 2014. 2015. 2016. 2017. 2018. 2019.\n",
      " 2020. 2021. 2022. 2023. 2024.]\n",
      "[ 1.  4.  9.  2.  7. 12. 11.  5. 10.  3.  6.  8.]\n",
      "[27.  1. 16. 12.  2. 30. 26.  5. 20. 28. 13.  6.  4. 23. 29. 24. 18.  8.\n",
      " 10.  7. 25. 11. 17. 19. 31. 21. 14. 15. 22.  9.  3.]\n"
     ]
    }
   ],
   "source": [
    "print(df['Year'].unique())\n",
    "print(df['Mo'].unique())\n",
    "print(df['Dy'].unique())"
   ]
  },
  {
   "cell_type": "code",
   "execution_count": 11,
   "id": "ab8b6722",
   "metadata": {},
   "outputs": [
    {
     "name": "stdout",
     "output_type": "stream",
     "text": [
      "1    1700.0\n",
      "2    1700.0\n",
      "3    1700.0\n",
      "4    1700.0\n",
      "5    1703.0\n",
      "Name: Year, dtype: float64\n",
      "1    1.0\n",
      "2    4.0\n",
      "3    4.0\n",
      "4    9.0\n",
      "5    2.0\n",
      "Name: Mo, dtype: float64\n",
      "1    27.0\n",
      "2     1.0\n",
      "3    16.0\n",
      "4    12.0\n",
      "5     2.0\n",
      "Name: Dy, dtype: float64\n"
     ]
    }
   ],
   "source": [
    "print(df['Year'].head())\n",
    "print(df['Mo'].head()) \n",
    "print(df['Dy'].head())\n"
   ]
  },
  {
   "cell_type": "code",
   "execution_count": 12,
   "id": "e275e111",
   "metadata": {},
   "outputs": [],
   "source": [
    "df['Mo'] = df['Mo'].replace(0, np.nan)"
   ]
  },
  {
   "cell_type": "code",
   "execution_count": 13,
   "id": "6fa60b71",
   "metadata": {},
   "outputs": [],
   "source": [
    "df['Dy'] = df['Dy'].astype(int)"
   ]
  },
  {
   "cell_type": "code",
   "execution_count": 14,
   "id": "b0dceb53",
   "metadata": {},
   "outputs": [],
   "source": [
    "df['Mo'] = df['Mo'].replace(0, np.nan)\n",
    "df.dropna(subset=['Year', 'Mo', 'Dy'], inplace=True)\n",
    "\n"
   ]
  },
  {
   "cell_type": "code",
   "execution_count": 15,
   "id": "ac70c6be",
   "metadata": {},
   "outputs": [],
   "source": [
    "df = df.rename(columns={'Year': 'year', 'Mo': 'month', 'Dy': 'day'})"
   ]
  },
  {
   "cell_type": "code",
   "execution_count": 16,
   "id": "4810c303",
   "metadata": {},
   "outputs": [],
   "source": [
    "df['Date'] = pd.to_datetime(df[['year', 'month', 'day']], errors='coerce')"
   ]
  },
  {
   "cell_type": "code",
   "execution_count": 17,
   "id": "1ee644e2",
   "metadata": {},
   "outputs": [],
   "source": [
    "df.drop(columns=['year', 'month', 'day'], inplace=True)"
   ]
  },
  {
   "cell_type": "code",
   "execution_count": 18,
   "id": "ce9ec0da",
   "metadata": {},
   "outputs": [],
   "source": [
    "df['Hr'] = df['Hr'].fillna(0)\n",
    "df['Mn'] = df['Mn'].fillna(0)\n",
    "df['Sec'] = df['Sec'].fillna(0)"
   ]
  },
  {
   "cell_type": "code",
   "execution_count": 19,
   "id": "e6db8aa2",
   "metadata": {},
   "outputs": [],
   "source": [
    "df['Hr'] = df['Hr'].astype(int)\n",
    "df['Mn'] = df['Mn'].astype(int)\n",
    "df['Sec'] = df['Sec'].astype(int)"
   ]
  },
  {
   "cell_type": "code",
   "execution_count": 20,
   "id": "ad8202d6",
   "metadata": {},
   "outputs": [],
   "source": [
    "df['Datetime'] = df['Date'] + pd.to_timedelta(df['Hr'], unit='h') + \\\n",
    "                            pd.to_timedelta(df['Mn'], unit='m') + \\\n",
    "                            pd.to_timedelta(df['Sec'], unit='s')"
   ]
  },
  {
   "cell_type": "code",
   "execution_count": 21,
   "id": "8a34a40b",
   "metadata": {},
   "outputs": [],
   "source": [
    "df.drop(columns=['Hr', 'Mn', 'Sec'], inplace=True)"
   ]
  },
  {
   "cell_type": "code",
   "execution_count": 22,
   "id": "74ad2807",
   "metadata": {},
   "outputs": [],
   "source": [
    "df.drop(columns=['Missing Description'], inplace=True)"
   ]
  },
  {
   "cell_type": "code",
   "execution_count": 23,
   "id": "9fe74412",
   "metadata": {},
   "outputs": [],
   "source": [
    "df.drop(columns=['Vol', 'Deposits', 'Houses Destroyed', 'Injuries', 'Missing', 'Total Houses Damaged'], inplace=True)"
   ]
  },
  {
   "cell_type": "code",
   "execution_count": 24,
   "id": "36e4260b",
   "metadata": {},
   "outputs": [
    {
     "data": {
      "text/plain": [
       "Deaths          2183\n",
       "Total Deaths    1823\n",
       "dtype: int64"
      ]
     },
     "execution_count": 24,
     "metadata": {},
     "output_type": "execute_result"
    }
   ],
   "source": [
    "df[['Deaths', 'Total Deaths']].isnull().sum()"
   ]
  },
  {
   "cell_type": "code",
   "execution_count": 25,
   "id": "f212e1ea",
   "metadata": {},
   "outputs": [],
   "source": [
    "df.drop(columns=['Deaths'], inplace=True)"
   ]
  },
  {
   "cell_type": "code",
   "execution_count": 26,
   "id": "de5d274b",
   "metadata": {},
   "outputs": [
    {
     "data": {
      "text/plain": [
       "Index(['Earthquake Magnitude', 'Country', 'Location Name', 'Latitude',\n",
       "       'Longitude', 'Maximum Water Height (m)', 'Number of Runups',\n",
       "       'Tsunami Magnitude (Abe)', 'Tsunami Magnitude (Iida)',\n",
       "       'Tsunami Intensity', 'Damage ($Mil)', 'Houses Damaged', 'Total Deaths',\n",
       "       'Total Missing', 'Total Injuries', 'Total Damage ($Mil)',\n",
       "       'Total Houses Destroyed', 'Date', 'Datetime'],\n",
       "      dtype='object')"
      ]
     },
     "execution_count": 26,
     "metadata": {},
     "output_type": "execute_result"
    }
   ],
   "source": [
    "df.columns"
   ]
  },
  {
   "cell_type": "code",
   "execution_count": 27,
   "id": "acaa38fc",
   "metadata": {},
   "outputs": [],
   "source": [
    "df.drop(columns=['Houses Damaged'], inplace=True)"
   ]
  },
  {
   "cell_type": "code",
   "execution_count": 28,
   "id": "2dbdd3da",
   "metadata": {},
   "outputs": [
    {
     "name": "stdout",
     "output_type": "stream",
     "text": [
      "Index(['Date', 'Datetime', 'Country', 'Location Name', 'Latitude', 'Longitude',\n",
      "       'Earthquake Magnitude', 'Tsunami Magnitude (Abe)',\n",
      "       'Tsunami Magnitude (Iida)', 'Tsunami Intensity',\n",
      "       'Maximum Water Height (m)', 'Number of Runups', 'Damage ($Mil)',\n",
      "       'Total Deaths', 'Total Missing', 'Total Injuries',\n",
      "       'Total Damage ($Mil)', 'Total Houses Destroyed'],\n",
      "      dtype='object')\n"
     ]
    }
   ],
   "source": [
    "new_order = [\n",
    "    'Date', 'Datetime', 'Country', 'Location Name', 'Latitude', 'Longitude', 'Earthquake Magnitude', 'Tsunami Magnitude (Abe)', 'Tsunami Magnitude (Iida)', 'Tsunami Intensity', 'Maximum Water Height (m)', 'Number of Runups', 'Damage ($Mil)', 'Total Deaths', 'Total Missing', 'Total Injuries', 'Total Damage ($Mil)', 'Total Houses Destroyed',\n",
    "]\n",
    "\n",
    "df = df[new_order]\n",
    "\n",
    "print(df.columns)"
   ]
  },
  {
   "cell_type": "code",
   "execution_count": 29,
   "id": "ee27d048",
   "metadata": {},
   "outputs": [],
   "source": [
    "df = df.drop_duplicates()"
   ]
  },
  {
   "cell_type": "code",
   "execution_count": 30,
   "id": "37c47ef4",
   "metadata": {},
   "outputs": [
    {
     "name": "stdout",
     "output_type": "stream",
     "text": [
      "944\n"
     ]
    }
   ],
   "source": [
    "print(df['Earthquake Magnitude'].isnull().sum())\n"
   ]
  },
  {
   "cell_type": "code",
   "execution_count": 31,
   "id": "aecf29b3",
   "metadata": {},
   "outputs": [],
   "source": [
    "df['Total Deaths'] = pd.to_numeric(df['Total Deaths'], errors='coerce').fillna(0)\n",
    "df['Total Injuries'] = pd.to_numeric(df['Total Injuries'], errors='coerce').fillna(0)\n",
    "df['Total Missing'] = pd.to_numeric(df['Total Missing'], errors='coerce').fillna(0)"
   ]
  },
  {
   "cell_type": "code",
   "execution_count": 32,
   "id": "fe5af77e",
   "metadata": {},
   "outputs": [],
   "source": [
    "df['Earthquake Magnitude'] = pd.to_numeric(df['Earthquake Magnitude'], errors='coerce')"
   ]
  },
  {
   "cell_type": "code",
   "execution_count": 33,
   "id": "95541aa0",
   "metadata": {},
   "outputs": [
    {
     "data": {
      "text/plain": [
       "array([9. , nan, 7. , 6.5, 6.7, 3.2, 8.2, 8.4, 5.5, 7.5, 6.6, 5.8, 5.2,\n",
       "       9.1, 7.6, 6.3, 8. , 7.3, 6.9, 6.8, 8.5, 6. , 7.4, 7.8, 7.1, 5.9,\n",
       "       4.1, 8.3, 6.4, 5.7, 8.8, 7.7, 5.6, 5.3, 8.1, 6.1, 7.9, 7.2, 5. ,\n",
       "       6.2, 4.3, 8.6, 8.7, 5.1, 4.9, 4. , 4.5, 9.5, 9.2, 4.6, 5.4, 4.4,\n",
       "       3.7])"
      ]
     },
     "execution_count": 33,
     "metadata": {},
     "output_type": "execute_result"
    }
   ],
   "source": [
    "df['Earthquake Magnitude'].unique()"
   ]
  },
  {
   "cell_type": "code",
   "execution_count": 34,
   "id": "16073cc8",
   "metadata": {},
   "outputs": [
    {
     "name": "stderr",
     "output_type": "stream",
     "text": [
      "C:\\Users\\marko\\AppData\\Local\\Temp\\ipykernel_13716\\1208233439.py:1: UserWarning: Could not infer format, so each element will be parsed individually, falling back to `dateutil`. To ensure parsing is consistent and as-expected, please specify a format.\n",
      "  df['Full Datetime'] = pd.to_datetime(df['Date'].astype(str) + ' ' + df['Datetime'].astype(str), errors='coerce')\n",
      "C:\\Users\\marko\\AppData\\Local\\Temp\\ipykernel_13716\\1208233439.py:1: FutureWarning: In a future version of pandas, parsing datetimes with mixed time zones will raise an error unless `utc=True`. Please specify `utc=True` to opt in to the new behaviour and silence this warning. To create a `Series` with mixed offsets and `object` dtype, please use `apply` and `datetime.datetime.strptime`\n",
      "  df['Full Datetime'] = pd.to_datetime(df['Date'].astype(str) + ' ' + df['Datetime'].astype(str), errors='coerce')\n"
     ]
    }
   ],
   "source": [
    "df['Full Datetime'] = pd.to_datetime(df['Date'].astype(str) + ' ' + df['Datetime'].astype(str), errors='coerce')\n"
   ]
  },
  {
   "cell_type": "markdown",
   "id": "216e30f8",
   "metadata": {},
   "source": [
    "## 📊 Análise Exploratória\n",
    "\n",
    "Aqui foram exploradas as seguintes variáveis principais:\n",
    "\n",
    "- Distribuição das magnitudes de terremotos\n",
    "- Altura máxima da água em metros\n",
    "- Total de mortes, feridos e desaparecidos\n",
    "- Países mais afetados por tsunamis\n",
    "- Comparação entre magnitude do terremoto e impacto humano\n",
    "\n",
    "Gráficos e tabelas são utilizados para facilitar a interpretação dos dados.\n"
   ]
  },
  {
   "cell_type": "code",
   "execution_count": null,
   "id": "56057faa",
   "metadata": {},
   "outputs": [
    {
     "data": {
      "application/vnd.plotly.v1+json": {
       "config": {
        "plotlyServerURL": "https://plot.ly"
       },
       "data": [
        {
         "bingroup": "x",
         "hovertemplate": "Magnitude=%{x}<br>count=%{y}<extra></extra>",
         "legendgroup": "",
         "marker": {
          "color": "indianred",
          "pattern": {
           "shape": ""
          }
         },
         "name": "",
         "nbinsx": 30,
         "orientation": "v",
         "showlegend": false,
         "type": "histogram",
         "x": {
          "bdata": "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",
          "dtype": "f8"
         },
         "xaxis": "x",
         "yaxis": "y"
        }
       ],
       "layout": {
        "barmode": "relative",
        "legend": {
         "tracegroupgap": 0
        },
        "template": {
         "data": {
          "bar": [
           {
            "error_x": {
             "color": "#2a3f5f"
            },
            "error_y": {
             "color": "#2a3f5f"
            },
            "marker": {
             "line": {
              "color": "#E5ECF6",
              "width": 0.5
             },
             "pattern": {
              "fillmode": "overlay",
              "size": 10,
              "solidity": 0.2
             }
            },
            "type": "bar"
           }
          ],
          "barpolar": [
           {
            "marker": {
             "line": {
              "color": "#E5ECF6",
              "width": 0.5
             },
             "pattern": {
              "fillmode": "overlay",
              "size": 10,
              "solidity": 0.2
             }
            },
            "type": "barpolar"
           }
          ],
          "carpet": [
           {
            "aaxis": {
             "endlinecolor": "#2a3f5f",
             "gridcolor": "white",
             "linecolor": "white",
             "minorgridcolor": "white",
             "startlinecolor": "#2a3f5f"
            },
            "baxis": {
             "endlinecolor": "#2a3f5f",
             "gridcolor": "white",
             "linecolor": "white",
             "minorgridcolor": "white",
             "startlinecolor": "#2a3f5f"
            },
            "type": "carpet"
           }
          ],
          "choropleth": [
           {
            "colorbar": {
             "outlinewidth": 0,
             "ticks": ""
            },
            "type": "choropleth"
           }
          ],
          "contour": [
           {
            "colorbar": {
             "outlinewidth": 0,
             "ticks": ""
            },
            "colorscale": [
             [
              0,
              "#0d0887"
             ],
             [
              0.1111111111111111,
              "#46039f"
             ],
             [
              0.2222222222222222,
              "#7201a8"
             ],
             [
              0.3333333333333333,
              "#9c179e"
             ],
             [
              0.4444444444444444,
              "#bd3786"
             ],
             [
              0.5555555555555556,
              "#d8576b"
             ],
             [
              0.6666666666666666,
              "#ed7953"
             ],
             [
              0.7777777777777778,
              "#fb9f3a"
             ],
             [
              0.8888888888888888,
              "#fdca26"
             ],
             [
              1,
              "#f0f921"
             ]
            ],
            "type": "contour"
           }
          ],
          "contourcarpet": [
           {
            "colorbar": {
             "outlinewidth": 0,
             "ticks": ""
            },
            "type": "contourcarpet"
           }
          ],
          "heatmap": [
           {
            "colorbar": {
             "outlinewidth": 0,
             "ticks": ""
            },
            "colorscale": [
             [
              0,
              "#0d0887"
             ],
             [
              0.1111111111111111,
              "#46039f"
             ],
             [
              0.2222222222222222,
              "#7201a8"
             ],
             [
              0.3333333333333333,
              "#9c179e"
             ],
             [
              0.4444444444444444,
              "#bd3786"
             ],
             [
              0.5555555555555556,
              "#d8576b"
             ],
             [
              0.6666666666666666,
              "#ed7953"
             ],
             [
              0.7777777777777778,
              "#fb9f3a"
             ],
             [
              0.8888888888888888,
              "#fdca26"
             ],
             [
              1,
              "#f0f921"
             ]
            ],
            "type": "heatmap"
           }
          ],
          "histogram": [
           {
            "marker": {
             "pattern": {
              "fillmode": "overlay",
              "size": 10,
              "solidity": 0.2
             }
            },
            "type": "histogram"
           }
          ],
          "histogram2d": [
           {
            "colorbar": {
             "outlinewidth": 0,
             "ticks": ""
            },
            "colorscale": [
             [
              0,
              "#0d0887"
             ],
             [
              0.1111111111111111,
              "#46039f"
             ],
             [
              0.2222222222222222,
              "#7201a8"
             ],
             [
              0.3333333333333333,
              "#9c179e"
             ],
             [
              0.4444444444444444,
              "#bd3786"
             ],
             [
              0.5555555555555556,
              "#d8576b"
             ],
             [
              0.6666666666666666,
              "#ed7953"
             ],
             [
              0.7777777777777778,
              "#fb9f3a"
             ],
             [
              0.8888888888888888,
              "#fdca26"
             ],
             [
              1,
              "#f0f921"
             ]
            ],
            "type": "histogram2d"
           }
          ],
          "histogram2dcontour": [
           {
            "colorbar": {
             "outlinewidth": 0,
             "ticks": ""
            },
            "colorscale": [
             [
              0,
              "#0d0887"
             ],
             [
              0.1111111111111111,
              "#46039f"
             ],
             [
              0.2222222222222222,
              "#7201a8"
             ],
             [
              0.3333333333333333,
              "#9c179e"
             ],
             [
              0.4444444444444444,
              "#bd3786"
             ],
             [
              0.5555555555555556,
              "#d8576b"
             ],
             [
              0.6666666666666666,
              "#ed7953"
             ],
             [
              0.7777777777777778,
              "#fb9f3a"
             ],
             [
              0.8888888888888888,
              "#fdca26"
             ],
             [
              1,
              "#f0f921"
             ]
            ],
            "type": "histogram2dcontour"
           }
          ],
          "mesh3d": [
           {
            "colorbar": {
             "outlinewidth": 0,
             "ticks": ""
            },
            "type": "mesh3d"
           }
          ],
          "parcoords": [
           {
            "line": {
             "colorbar": {
              "outlinewidth": 0,
              "ticks": ""
             }
            },
            "type": "parcoords"
           }
          ],
          "pie": [
           {
            "automargin": true,
            "type": "pie"
           }
          ],
          "scatter": [
           {
            "fillpattern": {
             "fillmode": "overlay",
             "size": 10,
             "solidity": 0.2
            },
            "type": "scatter"
           }
          ],
          "scatter3d": [
           {
            "line": {
             "colorbar": {
              "outlinewidth": 0,
              "ticks": ""
             }
            },
            "marker": {
             "colorbar": {
              "outlinewidth": 0,
              "ticks": ""
             }
            },
            "type": "scatter3d"
           }
          ],
          "scattercarpet": [
           {
            "marker": {
             "colorbar": {
              "outlinewidth": 0,
              "ticks": ""
             }
            },
            "type": "scattercarpet"
           }
          ],
          "scattergeo": [
           {
            "marker": {
             "colorbar": {
              "outlinewidth": 0,
              "ticks": ""
             }
            },
            "type": "scattergeo"
           }
          ],
          "scattergl": [
           {
            "marker": {
             "colorbar": {
              "outlinewidth": 0,
              "ticks": ""
             }
            },
            "type": "scattergl"
           }
          ],
          "scattermap": [
           {
            "marker": {
             "colorbar": {
              "outlinewidth": 0,
              "ticks": ""
             }
            },
            "type": "scattermap"
           }
          ],
          "scattermapbox": [
           {
            "marker": {
             "colorbar": {
              "outlinewidth": 0,
              "ticks": ""
             }
            },
            "type": "scattermapbox"
           }
          ],
          "scatterpolar": [
           {
            "marker": {
             "colorbar": {
              "outlinewidth": 0,
              "ticks": ""
             }
            },
            "type": "scatterpolar"
           }
          ],
          "scatterpolargl": [
           {
            "marker": {
             "colorbar": {
              "outlinewidth": 0,
              "ticks": ""
             }
            },
            "type": "scatterpolargl"
           }
          ],
          "scatterternary": [
           {
            "marker": {
             "colorbar": {
              "outlinewidth": 0,
              "ticks": ""
             }
            },
            "type": "scatterternary"
           }
          ],
          "surface": [
           {
            "colorbar": {
             "outlinewidth": 0,
             "ticks": ""
            },
            "colorscale": [
             [
              0,
              "#0d0887"
             ],
             [
              0.1111111111111111,
              "#46039f"
             ],
             [
              0.2222222222222222,
              "#7201a8"
             ],
             [
              0.3333333333333333,
              "#9c179e"
             ],
             [
              0.4444444444444444,
              "#bd3786"
             ],
             [
              0.5555555555555556,
              "#d8576b"
             ],
             [
              0.6666666666666666,
              "#ed7953"
             ],
             [
              0.7777777777777778,
              "#fb9f3a"
             ],
             [
              0.8888888888888888,
              "#fdca26"
             ],
             [
              1,
              "#f0f921"
             ]
            ],
            "type": "surface"
           }
          ],
          "table": [
           {
            "cells": {
             "fill": {
              "color": "#EBF0F8"
             },
             "line": {
              "color": "white"
             }
            },
            "header": {
             "fill": {
              "color": "#C8D4E3"
             },
             "line": {
              "color": "white"
             }
            },
            "type": "table"
           }
          ]
         },
         "layout": {
          "annotationdefaults": {
           "arrowcolor": "#2a3f5f",
           "arrowhead": 0,
           "arrowwidth": 1
          },
          "autotypenumbers": "strict",
          "coloraxis": {
           "colorbar": {
            "outlinewidth": 0,
            "ticks": ""
           }
          },
          "colorscale": {
           "diverging": [
            [
             0,
             "#8e0152"
            ],
            [
             0.1,
             "#c51b7d"
            ],
            [
             0.2,
             "#de77ae"
            ],
            [
             0.3,
             "#f1b6da"
            ],
            [
             0.4,
             "#fde0ef"
            ],
            [
             0.5,
             "#f7f7f7"
            ],
            [
             0.6,
             "#e6f5d0"
            ],
            [
             0.7,
             "#b8e186"
            ],
            [
             0.8,
             "#7fbc41"
            ],
            [
             0.9,
             "#4d9221"
            ],
            [
             1,
             "#276419"
            ]
           ],
           "sequential": [
            [
             0,
             "#0d0887"
            ],
            [
             0.1111111111111111,
             "#46039f"
            ],
            [
             0.2222222222222222,
             "#7201a8"
            ],
            [
             0.3333333333333333,
             "#9c179e"
            ],
            [
             0.4444444444444444,
             "#bd3786"
            ],
            [
             0.5555555555555556,
             "#d8576b"
            ],
            [
             0.6666666666666666,
             "#ed7953"
            ],
            [
             0.7777777777777778,
             "#fb9f3a"
            ],
            [
             0.8888888888888888,
             "#fdca26"
            ],
            [
             1,
             "#f0f921"
            ]
           ],
           "sequentialminus": [
            [
             0,
             "#0d0887"
            ],
            [
             0.1111111111111111,
             "#46039f"
            ],
            [
             0.2222222222222222,
             "#7201a8"
            ],
            [
             0.3333333333333333,
             "#9c179e"
            ],
            [
             0.4444444444444444,
             "#bd3786"
            ],
            [
             0.5555555555555556,
             "#d8576b"
            ],
            [
             0.6666666666666666,
             "#ed7953"
            ],
            [
             0.7777777777777778,
             "#fb9f3a"
            ],
            [
             0.8888888888888888,
             "#fdca26"
            ],
            [
             1,
             "#f0f921"
            ]
           ]
          },
          "colorway": [
           "#636efa",
           "#EF553B",
           "#00cc96",
           "#ab63fa",
           "#FFA15A",
           "#19d3f3",
           "#FF6692",
           "#B6E880",
           "#FF97FF",
           "#FECB52"
          ],
          "font": {
           "color": "#2a3f5f"
          },
          "geo": {
           "bgcolor": "white",
           "lakecolor": "white",
           "landcolor": "#E5ECF6",
           "showlakes": true,
           "showland": true,
           "subunitcolor": "white"
          },
          "hoverlabel": {
           "align": "left"
          },
          "hovermode": "closest",
          "mapbox": {
           "style": "light"
          },
          "paper_bgcolor": "white",
          "plot_bgcolor": "#E5ECF6",
          "polar": {
           "angularaxis": {
            "gridcolor": "white",
            "linecolor": "white",
            "ticks": ""
           },
           "bgcolor": "#E5ECF6",
           "radialaxis": {
            "gridcolor": "white",
            "linecolor": "white",
            "ticks": ""
           }
          },
          "scene": {
           "xaxis": {
            "backgroundcolor": "#E5ECF6",
            "gridcolor": "white",
            "gridwidth": 2,
            "linecolor": "white",
            "showbackground": true,
            "ticks": "",
            "zerolinecolor": "white"
           },
           "yaxis": {
            "backgroundcolor": "#E5ECF6",
            "gridcolor": "white",
            "gridwidth": 2,
            "linecolor": "white",
            "showbackground": true,
            "ticks": "",
            "zerolinecolor": "white"
           },
           "zaxis": {
            "backgroundcolor": "#E5ECF6",
            "gridcolor": "white",
            "gridwidth": 2,
            "linecolor": "white",
            "showbackground": true,
            "ticks": "",
            "zerolinecolor": "white"
           }
          },
          "shapedefaults": {
           "line": {
            "color": "#2a3f5f"
           }
          },
          "ternary": {
           "aaxis": {
            "gridcolor": "white",
            "linecolor": "white",
            "ticks": ""
           },
           "baxis": {
            "gridcolor": "white",
            "linecolor": "white",
            "ticks": ""
           },
           "bgcolor": "#E5ECF6",
           "caxis": {
            "gridcolor": "white",
            "linecolor": "white",
            "ticks": ""
           }
          },
          "title": {
           "x": 0.05
          },
          "xaxis": {
           "automargin": true,
           "gridcolor": "white",
           "linecolor": "white",
           "ticks": "",
           "title": {
            "standoff": 15
           },
           "zerolinecolor": "white",
           "zerolinewidth": 2
          },
          "yaxis": {
           "automargin": true,
           "gridcolor": "white",
           "linecolor": "white",
           "ticks": "",
           "title": {
            "standoff": 15
           },
           "zerolinecolor": "white",
           "zerolinewidth": 2
          }
         }
        },
        "title": {
         "text": "Distribuição das Magnitudes de Terremotos"
        },
        "xaxis": {
         "anchor": "y",
         "domain": [
          0,
          1
         ],
         "title": {
          "text": "Magnitude"
         }
        },
        "yaxis": {
         "anchor": "x",
         "domain": [
          0,
          1
         ],
         "title": {
          "text": "count"
         }
        }
       }
      }
     },
     "metadata": {},
     "output_type": "display_data"
    }
   ],
   "source": [
    "\n",
    "fig = px.histogram(\n",
    "    df,\n",
    "    x='Earthquake Magnitude',\n",
    "    nbins=30,\n",
    "    title='Distribuição das Magnitudes de Terremotos',\n",
    "    labels={'Earthquake Magnitude': 'Magnitude'},\n",
    "    color_discrete_sequence=['indianred']\n",
    "\n",
    ")\n",
    "\n",
    "fig.show()"
   ]
  },
  {
   "cell_type": "code",
   "execution_count": 36,
   "id": "2ad013b1",
   "metadata": {},
   "outputs": [
    {
     "data": {
      "application/vnd.plotly.v1+json": {
       "config": {
        "plotlyServerURL": "https://plot.ly"
       },
       "data": [
        {
         "bingroup": "x",
         "hovertemplate": "Altura Máxima (m)=%{x}<br>count=%{y}<extra></extra>",
         "legendgroup": "",
         "marker": {
          "color": "dodgerblue",
          "pattern": {
           "shape": ""
          }
         },
         "name": "",
         "nbinsx": 30,
         "orientation": "v",
         "showlegend": false,
         "type": "histogram",
         "x": {
          "bdata": "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",
          "dtype": "f8"
         },
         "xaxis": "x",
         "yaxis": "y"
        }
       ],
       "layout": {
        "barmode": "relative",
        "legend": {
         "tracegroupgap": 0
        },
        "template": {
         "data": {
          "bar": [
           {
            "error_x": {
             "color": "#2a3f5f"
            },
            "error_y": {
             "color": "#2a3f5f"
            },
            "marker": {
             "line": {
              "color": "#E5ECF6",
              "width": 0.5
             },
             "pattern": {
              "fillmode": "overlay",
              "size": 10,
              "solidity": 0.2
             }
            },
            "type": "bar"
           }
          ],
          "barpolar": [
           {
            "marker": {
             "line": {
              "color": "#E5ECF6",
              "width": 0.5
             },
             "pattern": {
              "fillmode": "overlay",
              "size": 10,
              "solidity": 0.2
             }
            },
            "type": "barpolar"
           }
          ],
          "carpet": [
           {
            "aaxis": {
             "endlinecolor": "#2a3f5f",
             "gridcolor": "white",
             "linecolor": "white",
             "minorgridcolor": "white",
             "startlinecolor": "#2a3f5f"
            },
            "baxis": {
             "endlinecolor": "#2a3f5f",
             "gridcolor": "white",
             "linecolor": "white",
             "minorgridcolor": "white",
             "startlinecolor": "#2a3f5f"
            },
            "type": "carpet"
           }
          ],
          "choropleth": [
           {
            "colorbar": {
             "outlinewidth": 0,
             "ticks": ""
            },
            "type": "choropleth"
           }
          ],
          "contour": [
           {
            "colorbar": {
             "outlinewidth": 0,
             "ticks": ""
            },
            "colorscale": [
             [
              0,
              "#0d0887"
             ],
             [
              0.1111111111111111,
              "#46039f"
             ],
             [
              0.2222222222222222,
              "#7201a8"
             ],
             [
              0.3333333333333333,
              "#9c179e"
             ],
             [
              0.4444444444444444,
              "#bd3786"
             ],
             [
              0.5555555555555556,
              "#d8576b"
             ],
             [
              0.6666666666666666,
              "#ed7953"
             ],
             [
              0.7777777777777778,
              "#fb9f3a"
             ],
             [
              0.8888888888888888,
              "#fdca26"
             ],
             [
              1,
              "#f0f921"
             ]
            ],
            "type": "contour"
           }
          ],
          "contourcarpet": [
           {
            "colorbar": {
             "outlinewidth": 0,
             "ticks": ""
            },
            "type": "contourcarpet"
           }
          ],
          "heatmap": [
           {
            "colorbar": {
             "outlinewidth": 0,
             "ticks": ""
            },
            "colorscale": [
             [
              0,
              "#0d0887"
             ],
             [
              0.1111111111111111,
              "#46039f"
             ],
             [
              0.2222222222222222,
              "#7201a8"
             ],
             [
              0.3333333333333333,
              "#9c179e"
             ],
             [
              0.4444444444444444,
              "#bd3786"
             ],
             [
              0.5555555555555556,
              "#d8576b"
             ],
             [
              0.6666666666666666,
              "#ed7953"
             ],
             [
              0.7777777777777778,
              "#fb9f3a"
             ],
             [
              0.8888888888888888,
              "#fdca26"
             ],
             [
              1,
              "#f0f921"
             ]
            ],
            "type": "heatmap"
           }
          ],
          "histogram": [
           {
            "marker": {
             "pattern": {
              "fillmode": "overlay",
              "size": 10,
              "solidity": 0.2
             }
            },
            "type": "histogram"
           }
          ],
          "histogram2d": [
           {
            "colorbar": {
             "outlinewidth": 0,
             "ticks": ""
            },
            "colorscale": [
             [
              0,
              "#0d0887"
             ],
             [
              0.1111111111111111,
              "#46039f"
             ],
             [
              0.2222222222222222,
              "#7201a8"
             ],
             [
              0.3333333333333333,
              "#9c179e"
             ],
             [
              0.4444444444444444,
              "#bd3786"
             ],
             [
              0.5555555555555556,
              "#d8576b"
             ],
             [
              0.6666666666666666,
              "#ed7953"
             ],
             [
              0.7777777777777778,
              "#fb9f3a"
             ],
             [
              0.8888888888888888,
              "#fdca26"
             ],
             [
              1,
              "#f0f921"
             ]
            ],
            "type": "histogram2d"
           }
          ],
          "histogram2dcontour": [
           {
            "colorbar": {
             "outlinewidth": 0,
             "ticks": ""
            },
            "colorscale": [
             [
              0,
              "#0d0887"
             ],
             [
              0.1111111111111111,
              "#46039f"
             ],
             [
              0.2222222222222222,
              "#7201a8"
             ],
             [
              0.3333333333333333,
              "#9c179e"
             ],
             [
              0.4444444444444444,
              "#bd3786"
             ],
             [
              0.5555555555555556,
              "#d8576b"
             ],
             [
              0.6666666666666666,
              "#ed7953"
             ],
             [
              0.7777777777777778,
              "#fb9f3a"
             ],
             [
              0.8888888888888888,
              "#fdca26"
             ],
             [
              1,
              "#f0f921"
             ]
            ],
            "type": "histogram2dcontour"
           }
          ],
          "mesh3d": [
           {
            "colorbar": {
             "outlinewidth": 0,
             "ticks": ""
            },
            "type": "mesh3d"
           }
          ],
          "parcoords": [
           {
            "line": {
             "colorbar": {
              "outlinewidth": 0,
              "ticks": ""
             }
            },
            "type": "parcoords"
           }
          ],
          "pie": [
           {
            "automargin": true,
            "type": "pie"
           }
          ],
          "scatter": [
           {
            "fillpattern": {
             "fillmode": "overlay",
             "size": 10,
             "solidity": 0.2
            },
            "type": "scatter"
           }
          ],
          "scatter3d": [
           {
            "line": {
             "colorbar": {
              "outlinewidth": 0,
              "ticks": ""
             }
            },
            "marker": {
             "colorbar": {
              "outlinewidth": 0,
              "ticks": ""
             }
            },
            "type": "scatter3d"
           }
          ],
          "scattercarpet": [
           {
            "marker": {
             "colorbar": {
              "outlinewidth": 0,
              "ticks": ""
             }
            },
            "type": "scattercarpet"
           }
          ],
          "scattergeo": [
           {
            "marker": {
             "colorbar": {
              "outlinewidth": 0,
              "ticks": ""
             }
            },
            "type": "scattergeo"
           }
          ],
          "scattergl": [
           {
            "marker": {
             "colorbar": {
              "outlinewidth": 0,
              "ticks": ""
             }
            },
            "type": "scattergl"
           }
          ],
          "scattermap": [
           {
            "marker": {
             "colorbar": {
              "outlinewidth": 0,
              "ticks": ""
             }
            },
            "type": "scattermap"
           }
          ],
          "scattermapbox": [
           {
            "marker": {
             "colorbar": {
              "outlinewidth": 0,
              "ticks": ""
             }
            },
            "type": "scattermapbox"
           }
          ],
          "scatterpolar": [
           {
            "marker": {
             "colorbar": {
              "outlinewidth": 0,
              "ticks": ""
             }
            },
            "type": "scatterpolar"
           }
          ],
          "scatterpolargl": [
           {
            "marker": {
             "colorbar": {
              "outlinewidth": 0,
              "ticks": ""
             }
            },
            "type": "scatterpolargl"
           }
          ],
          "scatterternary": [
           {
            "marker": {
             "colorbar": {
              "outlinewidth": 0,
              "ticks": ""
             }
            },
            "type": "scatterternary"
           }
          ],
          "surface": [
           {
            "colorbar": {
             "outlinewidth": 0,
             "ticks": ""
            },
            "colorscale": [
             [
              0,
              "#0d0887"
             ],
             [
              0.1111111111111111,
              "#46039f"
             ],
             [
              0.2222222222222222,
              "#7201a8"
             ],
             [
              0.3333333333333333,
              "#9c179e"
             ],
             [
              0.4444444444444444,
              "#bd3786"
             ],
             [
              0.5555555555555556,
              "#d8576b"
             ],
             [
              0.6666666666666666,
              "#ed7953"
             ],
             [
              0.7777777777777778,
              "#fb9f3a"
             ],
             [
              0.8888888888888888,
              "#fdca26"
             ],
             [
              1,
              "#f0f921"
             ]
            ],
            "type": "surface"
           }
          ],
          "table": [
           {
            "cells": {
             "fill": {
              "color": "#EBF0F8"
             },
             "line": {
              "color": "white"
             }
            },
            "header": {
             "fill": {
              "color": "#C8D4E3"
             },
             "line": {
              "color": "white"
             }
            },
            "type": "table"
           }
          ]
         },
         "layout": {
          "annotationdefaults": {
           "arrowcolor": "#2a3f5f",
           "arrowhead": 0,
           "arrowwidth": 1
          },
          "autotypenumbers": "strict",
          "coloraxis": {
           "colorbar": {
            "outlinewidth": 0,
            "ticks": ""
           }
          },
          "colorscale": {
           "diverging": [
            [
             0,
             "#8e0152"
            ],
            [
             0.1,
             "#c51b7d"
            ],
            [
             0.2,
             "#de77ae"
            ],
            [
             0.3,
             "#f1b6da"
            ],
            [
             0.4,
             "#fde0ef"
            ],
            [
             0.5,
             "#f7f7f7"
            ],
            [
             0.6,
             "#e6f5d0"
            ],
            [
             0.7,
             "#b8e186"
            ],
            [
             0.8,
             "#7fbc41"
            ],
            [
             0.9,
             "#4d9221"
            ],
            [
             1,
             "#276419"
            ]
           ],
           "sequential": [
            [
             0,
             "#0d0887"
            ],
            [
             0.1111111111111111,
             "#46039f"
            ],
            [
             0.2222222222222222,
             "#7201a8"
            ],
            [
             0.3333333333333333,
             "#9c179e"
            ],
            [
             0.4444444444444444,
             "#bd3786"
            ],
            [
             0.5555555555555556,
             "#d8576b"
            ],
            [
             0.6666666666666666,
             "#ed7953"
            ],
            [
             0.7777777777777778,
             "#fb9f3a"
            ],
            [
             0.8888888888888888,
             "#fdca26"
            ],
            [
             1,
             "#f0f921"
            ]
           ],
           "sequentialminus": [
            [
             0,
             "#0d0887"
            ],
            [
             0.1111111111111111,
             "#46039f"
            ],
            [
             0.2222222222222222,
             "#7201a8"
            ],
            [
             0.3333333333333333,
             "#9c179e"
            ],
            [
             0.4444444444444444,
             "#bd3786"
            ],
            [
             0.5555555555555556,
             "#d8576b"
            ],
            [
             0.6666666666666666,
             "#ed7953"
            ],
            [
             0.7777777777777778,
             "#fb9f3a"
            ],
            [
             0.8888888888888888,
             "#fdca26"
            ],
            [
             1,
             "#f0f921"
            ]
           ]
          },
          "colorway": [
           "#636efa",
           "#EF553B",
           "#00cc96",
           "#ab63fa",
           "#FFA15A",
           "#19d3f3",
           "#FF6692",
           "#B6E880",
           "#FF97FF",
           "#FECB52"
          ],
          "font": {
           "color": "#2a3f5f"
          },
          "geo": {
           "bgcolor": "white",
           "lakecolor": "white",
           "landcolor": "#E5ECF6",
           "showlakes": true,
           "showland": true,
           "subunitcolor": "white"
          },
          "hoverlabel": {
           "align": "left"
          },
          "hovermode": "closest",
          "mapbox": {
           "style": "light"
          },
          "paper_bgcolor": "white",
          "plot_bgcolor": "#E5ECF6",
          "polar": {
           "angularaxis": {
            "gridcolor": "white",
            "linecolor": "white",
            "ticks": ""
           },
           "bgcolor": "#E5ECF6",
           "radialaxis": {
            "gridcolor": "white",
            "linecolor": "white",
            "ticks": ""
           }
          },
          "scene": {
           "xaxis": {
            "backgroundcolor": "#E5ECF6",
            "gridcolor": "white",
            "gridwidth": 2,
            "linecolor": "white",
            "showbackground": true,
            "ticks": "",
            "zerolinecolor": "white"
           },
           "yaxis": {
            "backgroundcolor": "#E5ECF6",
            "gridcolor": "white",
            "gridwidth": 2,
            "linecolor": "white",
            "showbackground": true,
            "ticks": "",
            "zerolinecolor": "white"
           },
           "zaxis": {
            "backgroundcolor": "#E5ECF6",
            "gridcolor": "white",
            "gridwidth": 2,
            "linecolor": "white",
            "showbackground": true,
            "ticks": "",
            "zerolinecolor": "white"
           }
          },
          "shapedefaults": {
           "line": {
            "color": "#2a3f5f"
           }
          },
          "ternary": {
           "aaxis": {
            "gridcolor": "white",
            "linecolor": "white",
            "ticks": ""
           },
           "baxis": {
            "gridcolor": "white",
            "linecolor": "white",
            "ticks": ""
           },
           "bgcolor": "#E5ECF6",
           "caxis": {
            "gridcolor": "white",
            "linecolor": "white",
            "ticks": ""
           }
          },
          "title": {
           "x": 0.05
          },
          "xaxis": {
           "automargin": true,
           "gridcolor": "white",
           "linecolor": "white",
           "ticks": "",
           "title": {
            "standoff": 15
           },
           "zerolinecolor": "white",
           "zerolinewidth": 2
          },
          "yaxis": {
           "automargin": true,
           "gridcolor": "white",
           "linecolor": "white",
           "ticks": "",
           "title": {
            "standoff": 15
           },
           "zerolinecolor": "white",
           "zerolinewidth": 2
          }
         }
        },
        "title": {
         "text": "Distribuição da Altura Máxima da Água (m)"
        },
        "xaxis": {
         "anchor": "y",
         "domain": [
          0,
          1
         ],
         "title": {
          "text": "Altura Máxima (m)"
         }
        },
        "yaxis": {
         "anchor": "x",
         "domain": [
          0,
          1
         ],
         "title": {
          "text": "count"
         }
        }
       }
      }
     },
     "metadata": {},
     "output_type": "display_data"
    }
   ],
   "source": [
    "fig = px.histogram(\n",
    "    df,\n",
    "    x='Maximum Water Height (m)',\n",
    "    nbins=30,\n",
    "    title='Distribuição da Altura Máxima da Água (m)',\n",
    "    labels={'Maximum Water Height (m)': 'Altura Máxima (m)'},\n",
    "    color_discrete_sequence=['dodgerblue']\n",
    ")\n",
    "\n",
    "fig.show()"
   ]
  },
  {
   "cell_type": "code",
   "execution_count": 37,
   "id": "18c19695",
   "metadata": {},
   "outputs": [
    {
     "data": {
      "application/vnd.plotly.v1+json": {
       "config": {
        "plotlyServerURL": "https://plot.ly"
       },
       "data": [
        {
         "hovertemplate": "Impacto=%{x}<br>Total=%{text}<extra></extra>",
         "legendgroup": "Total Deaths",
         "marker": {
          "color": "rgb(255,245,240)",
          "pattern": {
           "shape": ""
          }
         },
         "name": "Total Deaths",
         "orientation": "v",
         "showlegend": true,
         "text": {
          "bdata": "AAAAAJ/hPEE=",
          "dtype": "f8"
         },
         "textposition": "outside",
         "type": "bar",
         "x": [
          "Total Deaths"
         ],
         "xaxis": "x",
         "y": {
          "bdata": "AAAAAJ/hPEE=",
          "dtype": "f8"
         },
         "yaxis": "y"
        },
        {
         "hovertemplate": "Impacto=%{x}<br>Total=%{text}<extra></extra>",
         "legendgroup": "Total Injuries",
         "marker": {
          "color": "rgb(254,224,210)",
          "pattern": {
           "shape": ""
          }
         },
         "name": "Total Injuries",
         "orientation": "v",
         "showlegend": true,
         "text": {
          "bdata": "AAAAAJ3COEE=",
          "dtype": "f8"
         },
         "textposition": "outside",
         "type": "bar",
         "x": [
          "Total Injuries"
         ],
         "xaxis": "x",
         "y": {
          "bdata": "AAAAAJ3COEE=",
          "dtype": "f8"
         },
         "yaxis": "y"
        },
        {
         "hovertemplate": "Impacto=%{x}<br>Total=%{text}<extra></extra>",
         "legendgroup": "Total Missing",
         "marker": {
          "color": "rgb(252,187,161)",
          "pattern": {
           "shape": ""
          }
         },
         "name": "Total Missing",
         "orientation": "v",
         "showlegend": true,
         "text": {
          "bdata": "AAAAAAAsokA=",
          "dtype": "f8"
         },
         "textposition": "outside",
         "type": "bar",
         "x": [
          "Total Missing"
         ],
         "xaxis": "x",
         "y": {
          "bdata": "AAAAAAAsokA=",
          "dtype": "f8"
         },
         "yaxis": "y"
        }
       ],
       "layout": {
        "barmode": "relative",
        "legend": {
         "title": {
          "text": "Impacto"
         },
         "tracegroupgap": 0
        },
        "template": {
         "data": {
          "bar": [
           {
            "error_x": {
             "color": "#2a3f5f"
            },
            "error_y": {
             "color": "#2a3f5f"
            },
            "marker": {
             "line": {
              "color": "#E5ECF6",
              "width": 0.5
             },
             "pattern": {
              "fillmode": "overlay",
              "size": 10,
              "solidity": 0.2
             }
            },
            "type": "bar"
           }
          ],
          "barpolar": [
           {
            "marker": {
             "line": {
              "color": "#E5ECF6",
              "width": 0.5
             },
             "pattern": {
              "fillmode": "overlay",
              "size": 10,
              "solidity": 0.2
             }
            },
            "type": "barpolar"
           }
          ],
          "carpet": [
           {
            "aaxis": {
             "endlinecolor": "#2a3f5f",
             "gridcolor": "white",
             "linecolor": "white",
             "minorgridcolor": "white",
             "startlinecolor": "#2a3f5f"
            },
            "baxis": {
             "endlinecolor": "#2a3f5f",
             "gridcolor": "white",
             "linecolor": "white",
             "minorgridcolor": "white",
             "startlinecolor": "#2a3f5f"
            },
            "type": "carpet"
           }
          ],
          "choropleth": [
           {
            "colorbar": {
             "outlinewidth": 0,
             "ticks": ""
            },
            "type": "choropleth"
           }
          ],
          "contour": [
           {
            "colorbar": {
             "outlinewidth": 0,
             "ticks": ""
            },
            "colorscale": [
             [
              0,
              "#0d0887"
             ],
             [
              0.1111111111111111,
              "#46039f"
             ],
             [
              0.2222222222222222,
              "#7201a8"
             ],
             [
              0.3333333333333333,
              "#9c179e"
             ],
             [
              0.4444444444444444,
              "#bd3786"
             ],
             [
              0.5555555555555556,
              "#d8576b"
             ],
             [
              0.6666666666666666,
              "#ed7953"
             ],
             [
              0.7777777777777778,
              "#fb9f3a"
             ],
             [
              0.8888888888888888,
              "#fdca26"
             ],
             [
              1,
              "#f0f921"
             ]
            ],
            "type": "contour"
           }
          ],
          "contourcarpet": [
           {
            "colorbar": {
             "outlinewidth": 0,
             "ticks": ""
            },
            "type": "contourcarpet"
           }
          ],
          "heatmap": [
           {
            "colorbar": {
             "outlinewidth": 0,
             "ticks": ""
            },
            "colorscale": [
             [
              0,
              "#0d0887"
             ],
             [
              0.1111111111111111,
              "#46039f"
             ],
             [
              0.2222222222222222,
              "#7201a8"
             ],
             [
              0.3333333333333333,
              "#9c179e"
             ],
             [
              0.4444444444444444,
              "#bd3786"
             ],
             [
              0.5555555555555556,
              "#d8576b"
             ],
             [
              0.6666666666666666,
              "#ed7953"
             ],
             [
              0.7777777777777778,
              "#fb9f3a"
             ],
             [
              0.8888888888888888,
              "#fdca26"
             ],
             [
              1,
              "#f0f921"
             ]
            ],
            "type": "heatmap"
           }
          ],
          "histogram": [
           {
            "marker": {
             "pattern": {
              "fillmode": "overlay",
              "size": 10,
              "solidity": 0.2
             }
            },
            "type": "histogram"
           }
          ],
          "histogram2d": [
           {
            "colorbar": {
             "outlinewidth": 0,
             "ticks": ""
            },
            "colorscale": [
             [
              0,
              "#0d0887"
             ],
             [
              0.1111111111111111,
              "#46039f"
             ],
             [
              0.2222222222222222,
              "#7201a8"
             ],
             [
              0.3333333333333333,
              "#9c179e"
             ],
             [
              0.4444444444444444,
              "#bd3786"
             ],
             [
              0.5555555555555556,
              "#d8576b"
             ],
             [
              0.6666666666666666,
              "#ed7953"
             ],
             [
              0.7777777777777778,
              "#fb9f3a"
             ],
             [
              0.8888888888888888,
              "#fdca26"
             ],
             [
              1,
              "#f0f921"
             ]
            ],
            "type": "histogram2d"
           }
          ],
          "histogram2dcontour": [
           {
            "colorbar": {
             "outlinewidth": 0,
             "ticks": ""
            },
            "colorscale": [
             [
              0,
              "#0d0887"
             ],
             [
              0.1111111111111111,
              "#46039f"
             ],
             [
              0.2222222222222222,
              "#7201a8"
             ],
             [
              0.3333333333333333,
              "#9c179e"
             ],
             [
              0.4444444444444444,
              "#bd3786"
             ],
             [
              0.5555555555555556,
              "#d8576b"
             ],
             [
              0.6666666666666666,
              "#ed7953"
             ],
             [
              0.7777777777777778,
              "#fb9f3a"
             ],
             [
              0.8888888888888888,
              "#fdca26"
             ],
             [
              1,
              "#f0f921"
             ]
            ],
            "type": "histogram2dcontour"
           }
          ],
          "mesh3d": [
           {
            "colorbar": {
             "outlinewidth": 0,
             "ticks": ""
            },
            "type": "mesh3d"
           }
          ],
          "parcoords": [
           {
            "line": {
             "colorbar": {
              "outlinewidth": 0,
              "ticks": ""
             }
            },
            "type": "parcoords"
           }
          ],
          "pie": [
           {
            "automargin": true,
            "type": "pie"
           }
          ],
          "scatter": [
           {
            "fillpattern": {
             "fillmode": "overlay",
             "size": 10,
             "solidity": 0.2
            },
            "type": "scatter"
           }
          ],
          "scatter3d": [
           {
            "line": {
             "colorbar": {
              "outlinewidth": 0,
              "ticks": ""
             }
            },
            "marker": {
             "colorbar": {
              "outlinewidth": 0,
              "ticks": ""
             }
            },
            "type": "scatter3d"
           }
          ],
          "scattercarpet": [
           {
            "marker": {
             "colorbar": {
              "outlinewidth": 0,
              "ticks": ""
             }
            },
            "type": "scattercarpet"
           }
          ],
          "scattergeo": [
           {
            "marker": {
             "colorbar": {
              "outlinewidth": 0,
              "ticks": ""
             }
            },
            "type": "scattergeo"
           }
          ],
          "scattergl": [
           {
            "marker": {
             "colorbar": {
              "outlinewidth": 0,
              "ticks": ""
             }
            },
            "type": "scattergl"
           }
          ],
          "scattermap": [
           {
            "marker": {
             "colorbar": {
              "outlinewidth": 0,
              "ticks": ""
             }
            },
            "type": "scattermap"
           }
          ],
          "scattermapbox": [
           {
            "marker": {
             "colorbar": {
              "outlinewidth": 0,
              "ticks": ""
             }
            },
            "type": "scattermapbox"
           }
          ],
          "scatterpolar": [
           {
            "marker": {
             "colorbar": {
              "outlinewidth": 0,
              "ticks": ""
             }
            },
            "type": "scatterpolar"
           }
          ],
          "scatterpolargl": [
           {
            "marker": {
             "colorbar": {
              "outlinewidth": 0,
              "ticks": ""
             }
            },
            "type": "scatterpolargl"
           }
          ],
          "scatterternary": [
           {
            "marker": {
             "colorbar": {
              "outlinewidth": 0,
              "ticks": ""
             }
            },
            "type": "scatterternary"
           }
          ],
          "surface": [
           {
            "colorbar": {
             "outlinewidth": 0,
             "ticks": ""
            },
            "colorscale": [
             [
              0,
              "#0d0887"
             ],
             [
              0.1111111111111111,
              "#46039f"
             ],
             [
              0.2222222222222222,
              "#7201a8"
             ],
             [
              0.3333333333333333,
              "#9c179e"
             ],
             [
              0.4444444444444444,
              "#bd3786"
             ],
             [
              0.5555555555555556,
              "#d8576b"
             ],
             [
              0.6666666666666666,
              "#ed7953"
             ],
             [
              0.7777777777777778,
              "#fb9f3a"
             ],
             [
              0.8888888888888888,
              "#fdca26"
             ],
             [
              1,
              "#f0f921"
             ]
            ],
            "type": "surface"
           }
          ],
          "table": [
           {
            "cells": {
             "fill": {
              "color": "#EBF0F8"
             },
             "line": {
              "color": "white"
             }
            },
            "header": {
             "fill": {
              "color": "#C8D4E3"
             },
             "line": {
              "color": "white"
             }
            },
            "type": "table"
           }
          ]
         },
         "layout": {
          "annotationdefaults": {
           "arrowcolor": "#2a3f5f",
           "arrowhead": 0,
           "arrowwidth": 1
          },
          "autotypenumbers": "strict",
          "coloraxis": {
           "colorbar": {
            "outlinewidth": 0,
            "ticks": ""
           }
          },
          "colorscale": {
           "diverging": [
            [
             0,
             "#8e0152"
            ],
            [
             0.1,
             "#c51b7d"
            ],
            [
             0.2,
             "#de77ae"
            ],
            [
             0.3,
             "#f1b6da"
            ],
            [
             0.4,
             "#fde0ef"
            ],
            [
             0.5,
             "#f7f7f7"
            ],
            [
             0.6,
             "#e6f5d0"
            ],
            [
             0.7,
             "#b8e186"
            ],
            [
             0.8,
             "#7fbc41"
            ],
            [
             0.9,
             "#4d9221"
            ],
            [
             1,
             "#276419"
            ]
           ],
           "sequential": [
            [
             0,
             "#0d0887"
            ],
            [
             0.1111111111111111,
             "#46039f"
            ],
            [
             0.2222222222222222,
             "#7201a8"
            ],
            [
             0.3333333333333333,
             "#9c179e"
            ],
            [
             0.4444444444444444,
             "#bd3786"
            ],
            [
             0.5555555555555556,
             "#d8576b"
            ],
            [
             0.6666666666666666,
             "#ed7953"
            ],
            [
             0.7777777777777778,
             "#fb9f3a"
            ],
            [
             0.8888888888888888,
             "#fdca26"
            ],
            [
             1,
             "#f0f921"
            ]
           ],
           "sequentialminus": [
            [
             0,
             "#0d0887"
            ],
            [
             0.1111111111111111,
             "#46039f"
            ],
            [
             0.2222222222222222,
             "#7201a8"
            ],
            [
             0.3333333333333333,
             "#9c179e"
            ],
            [
             0.4444444444444444,
             "#bd3786"
            ],
            [
             0.5555555555555556,
             "#d8576b"
            ],
            [
             0.6666666666666666,
             "#ed7953"
            ],
            [
             0.7777777777777778,
             "#fb9f3a"
            ],
            [
             0.8888888888888888,
             "#fdca26"
            ],
            [
             1,
             "#f0f921"
            ]
           ]
          },
          "colorway": [
           "#636efa",
           "#EF553B",
           "#00cc96",
           "#ab63fa",
           "#FFA15A",
           "#19d3f3",
           "#FF6692",
           "#B6E880",
           "#FF97FF",
           "#FECB52"
          ],
          "font": {
           "color": "#2a3f5f"
          },
          "geo": {
           "bgcolor": "white",
           "lakecolor": "white",
           "landcolor": "#E5ECF6",
           "showlakes": true,
           "showland": true,
           "subunitcolor": "white"
          },
          "hoverlabel": {
           "align": "left"
          },
          "hovermode": "closest",
          "mapbox": {
           "style": "light"
          },
          "paper_bgcolor": "white",
          "plot_bgcolor": "#E5ECF6",
          "polar": {
           "angularaxis": {
            "gridcolor": "white",
            "linecolor": "white",
            "ticks": ""
           },
           "bgcolor": "#E5ECF6",
           "radialaxis": {
            "gridcolor": "white",
            "linecolor": "white",
            "ticks": ""
           }
          },
          "scene": {
           "xaxis": {
            "backgroundcolor": "#E5ECF6",
            "gridcolor": "white",
            "gridwidth": 2,
            "linecolor": "white",
            "showbackground": true,
            "ticks": "",
            "zerolinecolor": "white"
           },
           "yaxis": {
            "backgroundcolor": "#E5ECF6",
            "gridcolor": "white",
            "gridwidth": 2,
            "linecolor": "white",
            "showbackground": true,
            "ticks": "",
            "zerolinecolor": "white"
           },
           "zaxis": {
            "backgroundcolor": "#E5ECF6",
            "gridcolor": "white",
            "gridwidth": 2,
            "linecolor": "white",
            "showbackground": true,
            "ticks": "",
            "zerolinecolor": "white"
           }
          },
          "shapedefaults": {
           "line": {
            "color": "#2a3f5f"
           }
          },
          "ternary": {
           "aaxis": {
            "gridcolor": "white",
            "linecolor": "white",
            "ticks": ""
           },
           "baxis": {
            "gridcolor": "white",
            "linecolor": "white",
            "ticks": ""
           },
           "bgcolor": "#E5ECF6",
           "caxis": {
            "gridcolor": "white",
            "linecolor": "white",
            "ticks": ""
           }
          },
          "title": {
           "x": 0.05
          },
          "xaxis": {
           "automargin": true,
           "gridcolor": "white",
           "linecolor": "white",
           "ticks": "",
           "title": {
            "standoff": 15
           },
           "zerolinecolor": "white",
           "zerolinewidth": 2
          },
          "yaxis": {
           "automargin": true,
           "gridcolor": "white",
           "linecolor": "white",
           "ticks": "",
           "title": {
            "standoff": 15
           },
           "zerolinecolor": "white",
           "zerolinewidth": 2
          }
         }
        },
        "title": {
         "text": "Total de Mortes, Feridos e Desaparecidos"
        },
        "xaxis": {
         "anchor": "y",
         "categoryarray": [
          "Total Deaths",
          "Total Injuries",
          "Total Missing"
         ],
         "categoryorder": "array",
         "domain": [
          0,
          1
         ],
         "title": {
          "text": "Impacto"
         }
        },
        "yaxis": {
         "anchor": "x",
         "domain": [
          0,
          1
         ],
         "title": {
          "text": "Total"
         }
        }
       }
      }
     },
     "metadata": {},
     "output_type": "display_data"
    }
   ],
   "source": [
    "impacto_humano = df[['Total Deaths', 'Total Injuries', 'Total Missing']].sum().to_frame(name='Total')\n",
    "\n",
    "impacto_humano.reset_index(inplace=True)\n",
    "\n",
    "impacto_humano.columns = ['Impacto', 'Total']\n",
    "\n",
    "fig = px.bar(\n",
    "    impacto_humano,\n",
    "    x='Impacto',\n",
    "    y='Total',\n",
    "    title='Total de Mortes, Feridos e Desaparecidos',\n",
    "    color='Impacto',\n",
    "    text='Total',\n",
    "    color_discrete_sequence=px.colors.sequential.Reds\n",
    "\n",
    ")\n",
    "\n",
    "fig.update_traces(textposition='outside')\n",
    "fig.show()"
   ]
  },
  {
   "cell_type": "code",
   "execution_count": 38,
   "id": "e2683244",
   "metadata": {},
   "outputs": [
    {
     "data": {
      "application/vnd.plotly.v1+json": {
       "config": {
        "plotlyServerURL": "https://plot.ly"
       },
       "data": [
        {
         "hovertemplate": "Country=%{x}<br>Quantidade de Tsunamis=%{marker.color}<extra></extra>",
         "legendgroup": "",
         "marker": {
          "color": {
           "bdata": "DgEFAesAnAB8AHgAZABkAFAATQA=",
           "dtype": "i2"
          },
          "coloraxis": "coloraxis",
          "pattern": {
           "shape": ""
          }
         },
         "name": "",
         "orientation": "v",
         "showlegend": false,
         "textposition": "auto",
         "type": "bar",
         "x": [
          "JAPAN",
          "USA",
          "INDONESIA",
          "CHILE",
          "GREECE",
          "ITALY",
          "PHILIPPINES",
          "RUSSIA",
          "NEW ZEALAND",
          "MEXICO"
         ],
         "xaxis": "x",
         "y": {
          "bdata": "DgEFAesAnAB8AHgAZABkAFAATQA=",
          "dtype": "i2"
         },
         "yaxis": "y"
        }
       ],
       "layout": {
        "barmode": "relative",
        "coloraxis": {
         "colorbar": {
          "title": {
           "text": "Quantidade de Tsunamis"
          }
         },
         "colorscale": [
          [
           0,
           "rgb(247,251,255)"
          ],
          [
           0.125,
           "rgb(222,235,247)"
          ],
          [
           0.25,
           "rgb(198,219,239)"
          ],
          [
           0.375,
           "rgb(158,202,225)"
          ],
          [
           0.5,
           "rgb(107,174,214)"
          ],
          [
           0.625,
           "rgb(66,146,198)"
          ],
          [
           0.75,
           "rgb(33,113,181)"
          ],
          [
           0.875,
           "rgb(8,81,156)"
          ],
          [
           1,
           "rgb(8,48,107)"
          ]
         ]
        },
        "legend": {
         "tracegroupgap": 0
        },
        "template": {
         "data": {
          "bar": [
           {
            "error_x": {
             "color": "#2a3f5f"
            },
            "error_y": {
             "color": "#2a3f5f"
            },
            "marker": {
             "line": {
              "color": "#E5ECF6",
              "width": 0.5
             },
             "pattern": {
              "fillmode": "overlay",
              "size": 10,
              "solidity": 0.2
             }
            },
            "type": "bar"
           }
          ],
          "barpolar": [
           {
            "marker": {
             "line": {
              "color": "#E5ECF6",
              "width": 0.5
             },
             "pattern": {
              "fillmode": "overlay",
              "size": 10,
              "solidity": 0.2
             }
            },
            "type": "barpolar"
           }
          ],
          "carpet": [
           {
            "aaxis": {
             "endlinecolor": "#2a3f5f",
             "gridcolor": "white",
             "linecolor": "white",
             "minorgridcolor": "white",
             "startlinecolor": "#2a3f5f"
            },
            "baxis": {
             "endlinecolor": "#2a3f5f",
             "gridcolor": "white",
             "linecolor": "white",
             "minorgridcolor": "white",
             "startlinecolor": "#2a3f5f"
            },
            "type": "carpet"
           }
          ],
          "choropleth": [
           {
            "colorbar": {
             "outlinewidth": 0,
             "ticks": ""
            },
            "type": "choropleth"
           }
          ],
          "contour": [
           {
            "colorbar": {
             "outlinewidth": 0,
             "ticks": ""
            },
            "colorscale": [
             [
              0,
              "#0d0887"
             ],
             [
              0.1111111111111111,
              "#46039f"
             ],
             [
              0.2222222222222222,
              "#7201a8"
             ],
             [
              0.3333333333333333,
              "#9c179e"
             ],
             [
              0.4444444444444444,
              "#bd3786"
             ],
             [
              0.5555555555555556,
              "#d8576b"
             ],
             [
              0.6666666666666666,
              "#ed7953"
             ],
             [
              0.7777777777777778,
              "#fb9f3a"
             ],
             [
              0.8888888888888888,
              "#fdca26"
             ],
             [
              1,
              "#f0f921"
             ]
            ],
            "type": "contour"
           }
          ],
          "contourcarpet": [
           {
            "colorbar": {
             "outlinewidth": 0,
             "ticks": ""
            },
            "type": "contourcarpet"
           }
          ],
          "heatmap": [
           {
            "colorbar": {
             "outlinewidth": 0,
             "ticks": ""
            },
            "colorscale": [
             [
              0,
              "#0d0887"
             ],
             [
              0.1111111111111111,
              "#46039f"
             ],
             [
              0.2222222222222222,
              "#7201a8"
             ],
             [
              0.3333333333333333,
              "#9c179e"
             ],
             [
              0.4444444444444444,
              "#bd3786"
             ],
             [
              0.5555555555555556,
              "#d8576b"
             ],
             [
              0.6666666666666666,
              "#ed7953"
             ],
             [
              0.7777777777777778,
              "#fb9f3a"
             ],
             [
              0.8888888888888888,
              "#fdca26"
             ],
             [
              1,
              "#f0f921"
             ]
            ],
            "type": "heatmap"
           }
          ],
          "histogram": [
           {
            "marker": {
             "pattern": {
              "fillmode": "overlay",
              "size": 10,
              "solidity": 0.2
             }
            },
            "type": "histogram"
           }
          ],
          "histogram2d": [
           {
            "colorbar": {
             "outlinewidth": 0,
             "ticks": ""
            },
            "colorscale": [
             [
              0,
              "#0d0887"
             ],
             [
              0.1111111111111111,
              "#46039f"
             ],
             [
              0.2222222222222222,
              "#7201a8"
             ],
             [
              0.3333333333333333,
              "#9c179e"
             ],
             [
              0.4444444444444444,
              "#bd3786"
             ],
             [
              0.5555555555555556,
              "#d8576b"
             ],
             [
              0.6666666666666666,
              "#ed7953"
             ],
             [
              0.7777777777777778,
              "#fb9f3a"
             ],
             [
              0.8888888888888888,
              "#fdca26"
             ],
             [
              1,
              "#f0f921"
             ]
            ],
            "type": "histogram2d"
           }
          ],
          "histogram2dcontour": [
           {
            "colorbar": {
             "outlinewidth": 0,
             "ticks": ""
            },
            "colorscale": [
             [
              0,
              "#0d0887"
             ],
             [
              0.1111111111111111,
              "#46039f"
             ],
             [
              0.2222222222222222,
              "#7201a8"
             ],
             [
              0.3333333333333333,
              "#9c179e"
             ],
             [
              0.4444444444444444,
              "#bd3786"
             ],
             [
              0.5555555555555556,
              "#d8576b"
             ],
             [
              0.6666666666666666,
              "#ed7953"
             ],
             [
              0.7777777777777778,
              "#fb9f3a"
             ],
             [
              0.8888888888888888,
              "#fdca26"
             ],
             [
              1,
              "#f0f921"
             ]
            ],
            "type": "histogram2dcontour"
           }
          ],
          "mesh3d": [
           {
            "colorbar": {
             "outlinewidth": 0,
             "ticks": ""
            },
            "type": "mesh3d"
           }
          ],
          "parcoords": [
           {
            "line": {
             "colorbar": {
              "outlinewidth": 0,
              "ticks": ""
             }
            },
            "type": "parcoords"
           }
          ],
          "pie": [
           {
            "automargin": true,
            "type": "pie"
           }
          ],
          "scatter": [
           {
            "fillpattern": {
             "fillmode": "overlay",
             "size": 10,
             "solidity": 0.2
            },
            "type": "scatter"
           }
          ],
          "scatter3d": [
           {
            "line": {
             "colorbar": {
              "outlinewidth": 0,
              "ticks": ""
             }
            },
            "marker": {
             "colorbar": {
              "outlinewidth": 0,
              "ticks": ""
             }
            },
            "type": "scatter3d"
           }
          ],
          "scattercarpet": [
           {
            "marker": {
             "colorbar": {
              "outlinewidth": 0,
              "ticks": ""
             }
            },
            "type": "scattercarpet"
           }
          ],
          "scattergeo": [
           {
            "marker": {
             "colorbar": {
              "outlinewidth": 0,
              "ticks": ""
             }
            },
            "type": "scattergeo"
           }
          ],
          "scattergl": [
           {
            "marker": {
             "colorbar": {
              "outlinewidth": 0,
              "ticks": ""
             }
            },
            "type": "scattergl"
           }
          ],
          "scattermap": [
           {
            "marker": {
             "colorbar": {
              "outlinewidth": 0,
              "ticks": ""
             }
            },
            "type": "scattermap"
           }
          ],
          "scattermapbox": [
           {
            "marker": {
             "colorbar": {
              "outlinewidth": 0,
              "ticks": ""
             }
            },
            "type": "scattermapbox"
           }
          ],
          "scatterpolar": [
           {
            "marker": {
             "colorbar": {
              "outlinewidth": 0,
              "ticks": ""
             }
            },
            "type": "scatterpolar"
           }
          ],
          "scatterpolargl": [
           {
            "marker": {
             "colorbar": {
              "outlinewidth": 0,
              "ticks": ""
             }
            },
            "type": "scatterpolargl"
           }
          ],
          "scatterternary": [
           {
            "marker": {
             "colorbar": {
              "outlinewidth": 0,
              "ticks": ""
             }
            },
            "type": "scatterternary"
           }
          ],
          "surface": [
           {
            "colorbar": {
             "outlinewidth": 0,
             "ticks": ""
            },
            "colorscale": [
             [
              0,
              "#0d0887"
             ],
             [
              0.1111111111111111,
              "#46039f"
             ],
             [
              0.2222222222222222,
              "#7201a8"
             ],
             [
              0.3333333333333333,
              "#9c179e"
             ],
             [
              0.4444444444444444,
              "#bd3786"
             ],
             [
              0.5555555555555556,
              "#d8576b"
             ],
             [
              0.6666666666666666,
              "#ed7953"
             ],
             [
              0.7777777777777778,
              "#fb9f3a"
             ],
             [
              0.8888888888888888,
              "#fdca26"
             ],
             [
              1,
              "#f0f921"
             ]
            ],
            "type": "surface"
           }
          ],
          "table": [
           {
            "cells": {
             "fill": {
              "color": "#EBF0F8"
             },
             "line": {
              "color": "white"
             }
            },
            "header": {
             "fill": {
              "color": "#C8D4E3"
             },
             "line": {
              "color": "white"
             }
            },
            "type": "table"
           }
          ]
         },
         "layout": {
          "annotationdefaults": {
           "arrowcolor": "#2a3f5f",
           "arrowhead": 0,
           "arrowwidth": 1
          },
          "autotypenumbers": "strict",
          "coloraxis": {
           "colorbar": {
            "outlinewidth": 0,
            "ticks": ""
           }
          },
          "colorscale": {
           "diverging": [
            [
             0,
             "#8e0152"
            ],
            [
             0.1,
             "#c51b7d"
            ],
            [
             0.2,
             "#de77ae"
            ],
            [
             0.3,
             "#f1b6da"
            ],
            [
             0.4,
             "#fde0ef"
            ],
            [
             0.5,
             "#f7f7f7"
            ],
            [
             0.6,
             "#e6f5d0"
            ],
            [
             0.7,
             "#b8e186"
            ],
            [
             0.8,
             "#7fbc41"
            ],
            [
             0.9,
             "#4d9221"
            ],
            [
             1,
             "#276419"
            ]
           ],
           "sequential": [
            [
             0,
             "#0d0887"
            ],
            [
             0.1111111111111111,
             "#46039f"
            ],
            [
             0.2222222222222222,
             "#7201a8"
            ],
            [
             0.3333333333333333,
             "#9c179e"
            ],
            [
             0.4444444444444444,
             "#bd3786"
            ],
            [
             0.5555555555555556,
             "#d8576b"
            ],
            [
             0.6666666666666666,
             "#ed7953"
            ],
            [
             0.7777777777777778,
             "#fb9f3a"
            ],
            [
             0.8888888888888888,
             "#fdca26"
            ],
            [
             1,
             "#f0f921"
            ]
           ],
           "sequentialminus": [
            [
             0,
             "#0d0887"
            ],
            [
             0.1111111111111111,
             "#46039f"
            ],
            [
             0.2222222222222222,
             "#7201a8"
            ],
            [
             0.3333333333333333,
             "#9c179e"
            ],
            [
             0.4444444444444444,
             "#bd3786"
            ],
            [
             0.5555555555555556,
             "#d8576b"
            ],
            [
             0.6666666666666666,
             "#ed7953"
            ],
            [
             0.7777777777777778,
             "#fb9f3a"
            ],
            [
             0.8888888888888888,
             "#fdca26"
            ],
            [
             1,
             "#f0f921"
            ]
           ]
          },
          "colorway": [
           "#636efa",
           "#EF553B",
           "#00cc96",
           "#ab63fa",
           "#FFA15A",
           "#19d3f3",
           "#FF6692",
           "#B6E880",
           "#FF97FF",
           "#FECB52"
          ],
          "font": {
           "color": "#2a3f5f"
          },
          "geo": {
           "bgcolor": "white",
           "lakecolor": "white",
           "landcolor": "#E5ECF6",
           "showlakes": true,
           "showland": true,
           "subunitcolor": "white"
          },
          "hoverlabel": {
           "align": "left"
          },
          "hovermode": "closest",
          "mapbox": {
           "style": "light"
          },
          "paper_bgcolor": "white",
          "plot_bgcolor": "#E5ECF6",
          "polar": {
           "angularaxis": {
            "gridcolor": "white",
            "linecolor": "white",
            "ticks": ""
           },
           "bgcolor": "#E5ECF6",
           "radialaxis": {
            "gridcolor": "white",
            "linecolor": "white",
            "ticks": ""
           }
          },
          "scene": {
           "xaxis": {
            "backgroundcolor": "#E5ECF6",
            "gridcolor": "white",
            "gridwidth": 2,
            "linecolor": "white",
            "showbackground": true,
            "ticks": "",
            "zerolinecolor": "white"
           },
           "yaxis": {
            "backgroundcolor": "#E5ECF6",
            "gridcolor": "white",
            "gridwidth": 2,
            "linecolor": "white",
            "showbackground": true,
            "ticks": "",
            "zerolinecolor": "white"
           },
           "zaxis": {
            "backgroundcolor": "#E5ECF6",
            "gridcolor": "white",
            "gridwidth": 2,
            "linecolor": "white",
            "showbackground": true,
            "ticks": "",
            "zerolinecolor": "white"
           }
          },
          "shapedefaults": {
           "line": {
            "color": "#2a3f5f"
           }
          },
          "ternary": {
           "aaxis": {
            "gridcolor": "white",
            "linecolor": "white",
            "ticks": ""
           },
           "baxis": {
            "gridcolor": "white",
            "linecolor": "white",
            "ticks": ""
           },
           "bgcolor": "#E5ECF6",
           "caxis": {
            "gridcolor": "white",
            "linecolor": "white",
            "ticks": ""
           }
          },
          "title": {
           "x": 0.05
          },
          "xaxis": {
           "automargin": true,
           "gridcolor": "white",
           "linecolor": "white",
           "ticks": "",
           "title": {
            "standoff": 15
           },
           "zerolinecolor": "white",
           "zerolinewidth": 2
          },
          "yaxis": {
           "automargin": true,
           "gridcolor": "white",
           "linecolor": "white",
           "ticks": "",
           "title": {
            "standoff": 15
           },
           "zerolinecolor": "white",
           "zerolinewidth": 2
          }
         }
        },
        "title": {
         "text": "Top 10 Países Mais Afetados por Tsunamis"
        },
        "xaxis": {
         "anchor": "y",
         "domain": [
          0,
          1
         ],
         "title": {
          "text": "Country"
         }
        },
        "yaxis": {
         "anchor": "x",
         "domain": [
          0,
          1
         ],
         "title": {
          "text": "Quantidade de Tsunamis"
         }
        }
       }
      }
     },
     "metadata": {},
     "output_type": "display_data"
    }
   ],
   "source": [
    "top_paises = df['Country'].value_counts().nlargest(10).reset_index()\n",
    "top_paises.columns = ['Country', 'Quantidade de Tsunamis']\n",
    "\n",
    "fig = px.bar (\n",
    "    top_paises,\n",
    "    x='Country',\n",
    "    y='Quantidade de Tsunamis',\n",
    "    title='Top 10 Países Mais Afetados por Tsunamis',\n",
    "    color='Quantidade de Tsunamis',\n",
    "    color_continuous_scale='blues'\n",
    "\n",
    ")\n",
    "\n",
    "fig.show()"
   ]
  },
  {
   "cell_type": "code",
   "execution_count": null,
   "id": "c9f86176",
   "metadata": {},
   "outputs": [
    {
     "name": "stderr",
     "output_type": "stream",
     "text": [
      "C:\\Users\\marko\\AppData\\Local\\Temp\\ipykernel_13716\\1108754981.py:4: FutureWarning:\n",
      "\n",
      "A value is trying to be set on a copy of a DataFrame or Series through chained assignment using an inplace method.\n",
      "The behavior will change in pandas 3.0. This inplace method will never work because the intermediate object on which we are setting values always behaves as a copy.\n",
      "\n",
      "For example, when doing 'df[col].method(value, inplace=True)', try using 'df.method({col: value}, inplace=True)' or df[col] = df[col].method(value) instead, to perform the operation inplace on the original object.\n",
      "\n",
      "\n",
      "\n"
     ]
    },
    {
     "data": {
      "application/vnd.plotly.v1+json": {
       "config": {
        "plotlyServerURL": "https://plot.ly"
       },
       "data": [
        {
         "hovertemplate": "<b>%{hovertext}</b><br><br>Country=USA<br>Magnitude do Terremoto=%{x}<br>Total de Mortes=%{y}<br>Maximum Water Height (m)=%{marker.size}<extra></extra>",
         "hovertext": [
          "CASCADIA SUBDUCTION ZONE",
          "LAKE ONTARIO",
          "MASSACHUSETTS: EAST OF CAPE ANN",
          "ALASKA PENINSULA, AK",
          "SHUMAGIN ISLANDS, AK",
          "E. ALEUTIAN ISLANDS, AK",
          "BOGOSLOF ISLAND, AK",
          "SANTA BARBARA, S. CALIFORNIA",
          "AR: NE -  NEW MADRID EARTHQUAKES",
          "AR: NE  - NEW MADRID EARTHQUAKES",
          "NEW MADRID, MO",
          "NEW MADRID, MO",
          "S. CALIFORNIA",
          "PHILADELPHIA, PENNSYLVANIA",
          "E. ALEUTIAN ISLANDS, AK",
          "ASSATEAGUE ISLAND, VA",
          "UNIMAK ISLAND, AK",
          "UNIMAK ISLAND, AK",
          "N. CALIFORNIA",
          "ALASKA PENINSULA, AK",
          "S. CALIFORNIA",
          "PHILADELPHIA, PENNSYLVANIA",
          "N. CALIFORNIA",
          "SAN FRANCISCO BAY, N. CALIFORNIA",
          "SAN FRANCISCO, N. CALIFORNIA",
          "KODIAK ISLAND, AK",
          "S. CALIFORNIA",
          "S. CALIFORNIA",
          "S. CALIFORNIA",
          "N. CALIFORNIA",
          "N. CALIFORNIA",
          "N. CALIFORNIA",
          "N. CALIFORNIA",
          "N. CALIFORNIA",
          "N. CALIFORNIA",
          "S. CALIFORNIA",
          "N. CALIFORNIA",
          "N. CALIFORNIA",
          "UNIMAK ISLAND, AK",
          "HALF MOON BAY, N. CALIFORNIA",
          "HAWAII",
          "N. CALIFORNIA",
          "N. CALIFORNIA",
          "HAWAII",
          "S. CALIFORNIA",
          "UNALASKA ISLAND, AK",
          "SAN FRANCISCO, CA",
          "N. CALIFORNIA",
          "KODIAK ISLAND, AK",
          "PORT TOWNSEND, WA",
          "HAWAII",
          "HAWAII",
          "HAWAII",
          "HAWAII",
          "SHUMAGIN ISLANDS, AK",
          "S. CALIFORNIA",
          "HAWAII",
          "N. CALIFORNIA",
          "N. CALIFORNIA",
          "N. CALIFORNIA",
          "N. CALIFORNIA",
          "OFF COAST OF HAWAII",
          "HAWAII",
          "HAWAII",
          "LONG ISLAND, NEW YORK",
          "HAWAII",
          "HAWAII",
          "S. CALIFORNIA",
          "LAKE ONTARIO",
          "FOX ISLANDS, ALEUTIAN ISLANDS, AK",
          "HAWAII",
          "SAN FRANCISCO, N. CALIFORNIA",
          "PENOBSCOT BAY, MAINE",
          "N. CALIFORNIA",
          "N. CALIFORNIA",
          "S.W. COAST OF HAWAII",
          "S.W. COAST OF HAWAII",
          "N. TO S. CALIFORNIA",
          "HAWAII",
          "CALIFORNIA",
          "ALEUTIAN ISLANDS, AK",
          "UNALASKA ISLAND, AK",
          "S. CALIFORNIA",
          "S. CALIFORNIA",
          "CHIRIKOF ISLAND, AK",
          "SITKA, AK",
          "COOK INLET, AK",
          "PUUNALUU, HAWAII",
          "N. CALIFORNIA",
          "ROCKAWAY BEACH, NEW YORK",
          "IN THE DETROIT RIVER, MI",
          "N. CALIFORNIA",
          "NEW HAVEN, CT",
          "N. CALIFORNIA",
          "N. CALIFORNIA",
          "CHARLESTON, SC",
          "HAWAII",
          "N. CALIFORNIA",
          "HAWAII",
          "ASBURY PARK, NJ",
          "WASHINGTON",
          "PUYALLUP RIVER DELTA, TACOMA, WA",
          "HAWAII",
          "S. CALIFORNIA",
          "HIGH BRIDGE, NJ",
          "N. CALIFORNIA",
          "CHARLESTON, MO",
          "SANTA BARBARA, CA",
          "GULF OF ALASKA, AK",
          "OAKLAND, N. CALIFORNIA",
          "CAPE YAKATAGA, AK",
          "YAKUTAT BAY, AK",
          "S. CALIFORNIA",
          "LITUYA BAY, AK",
          "MONTEREY BAY, N. CALIFORNIA",
          "FOX ISLANDS, ALEUTIAN ISLANDS, AK",
          "HAWAII",
          "HAWAII",
          "HAWAII",
          "HAWAII",
          "HAWAII",
          "WASHINGTON-OREGON",
          "DISENCHANTMENT BAY, AK",
          "N. CALIFORNIA",
          "S. CALIFORNIA",
          "WASHINGTON-OREGON",
          "SKAGWAY, AK",
          "PRINCE WILLIAM SOUND, AK",
          "HAWAII",
          "LOUISIANA: GRAND ISLE",
          "UTAH",
          "NOME, AK",
          "SAN FRANCISCO, CA",
          "PRINCE WILLIAM SOUND, AK",
          "SOUTHERN SHORE, LAKE ERIE (OHIO)",
          "LONGPORT, NJ",
          "SANTA BARBARA, S. CALIFORNIA",
          "TAKU INLET, JUNEAU, AK",
          "HAWAII",
          "ALIKA, HAWAII",
          "HAWAII",
          "GULF OF MEXICO",
          "N. CALIFORNIA",
          "ROCKAWAY BEACH, NY",
          "N. CALIFORNIA",
          "HAWAII",
          "CONEY ISLAND, NY",
          "GULF OF ALASKA, AK",
          "CALIFORNIA",
          "BERNARD, ME",
          "HAWAII",
          "S. CALIFORNIA",
          "SE. ALASKA, AK",
          "SE. ALASKA, AK",
          "S. CALIFORNIA",
          "FOX ISLANDS, ALEUTIAN ISLANDS, AK",
          "GRAND HAVEN, MICHIGAN",
          "ATTICA, NEW YORK",
          "S. CALIFORNIA",
          "ATLANTIC CITY, NJ",
          "WILLETTS POINT, NEW YORK",
          "S. CALIFORNIA",
          "S. CALIFORNIA",
          "HAWAII",
          "LITUYA BAY, AK",
          "BERING SEA, AK",
          "HOLLAND, MICHIGAN",
          "NEW JERSEY COAST",
          "SHUMAGIN ISLANDS, AK",
          "NORTHERN CALIFORNIA",
          "COLUMBIA RIVER VALLEY, WA",
          "NEW JERSEY COAST",
          "UNIMAK ISLAND, AK",
          "ANDREANOF ISLANDS, AK",
          "PUGET SOUND, WA",
          "PUGET SOUND, WA",
          "COLUMBIA RIVER VALLEY, WA",
          "GULF OF ALASKA, AK",
          "COLUMBIA RIVER VALLEY, WA",
          "HAWAII",
          "HAWAII",
          "MISSISSIPPI RIVER",
          "COLUMBIA RIVER VALLEY, WA",
          "LAKE HURON, MI",
          "COLUMBIA RIVER VALLEY, WA",
          "COLUMBIA RIVER VALLEY, WA",
          "COLUMBIA RIVER VALLEY, WA",
          "COLUMBIA RIVER VALLEY, WA",
          "MICHIGAN CITY, IN (LAKE MICHIGAN)",
          "ANDREANOF ISLANDS, AK",
          "HAWAII",
          "SE. ALASKA, AK",
          "HEGBEN LAKE, MONTANA",
          "FOX ISLANDS, ALEUTIAN ISLANDS, AK",
          "GULF OF ALASKA, AK",
          "PRINCE WILLIAM SOUND, AK",
          "LONG ISLAND, NY",
          "COLUMBIA RIVER VALLEY, WA",
          "RAT ISLANDS, ALEUTIAN ISLANDS, AK",
          "RAT ISLANDS, ALEUTIAN ISLANDS, AK",
          "FOX ISLANDS, ALEUTIAN ISLANDS, AK",
          "ANDREANOF ISLANDS, AK",
          "ANDREANOF ISLANDS, AK",
          "RAT ISLANDS, ALEUTIAN ISLANDS, AK",
          "SE. ALASKA, AK",
          "HAWAII",
          "SE. ALASKA, AK",
          "WASHINGTON",
          "ANDREANOF ISLANDS, AK",
          "ANDREANOF ISLANDS, AK",
          "GULF OF ALASKA, AK",
          "GULF OF ALASKA, AK",
          "GULF OF ALASKA, AK",
          "S. CALIFORNIA",
          "HAWAII",
          "SEMIDI ISLANDS, AK",
          "N. CALIFORNIA",
          "BERING SEA, AK",
          "CAPE MENDOCINO, N. CALIFORNIA",
          "DAYTONA BEACH, FL",
          "COREA HARBOR, MAINE",
          "WEST COAST, USA",
          "HAWAII",
          "N. CALIFORNIA",
          "SKAGWAY, AK",
          "ANDREANOF ISLANDS, AK",
          "ANDREANOF ISLANDS, AK",
          "POINT ARGUELLO, S. CALIFORNIA",
          "WARREN DUNES, MICHIGAN",
          "RAT ISLANDS, ALEUTIAN ISLANDS, AK",
          "N. CALIFORNIA",
          "HAWAII",
          "ALEUTIAN ISLANDS, AK",
          "KASATOCHI VOLCANO, ALEUTIAN IS, AK",
          "MAINE",
          "COLUMBIA RIVER VALLEY, WA",
          "COLUMBIA RIVER VALLEY, WA",
          "ATKA, ALEUTIAN ISLANDS, AK",
          "FOX ISLANDS, ALEUTIAN ISLANDS, AK",
          "SE. ALASKA, AK",
          "NORTHWEST ATLANTIC OCEAN",
          "ALEUTIAN ISLANDS, AK",
          "PALMA BAY, AK",
          "FOX ISLANDS, ALEUTIAN ISLANDS, AK",
          "ICY BAY, AK",
          "SKAGWAY, AK",
          "KODIAK ISLAND, AK",
          "HAWAII",
          "NORTHEAST U.S.A.",
          "LAKE ERIE",
          "GULF OF MEXICO",
          "GULF OF MEXICO",
          "SHUMAGIN ISLANDS, AK",
          "SHUMAGIN ISLANDS, AK",
          "KODIAK ISLAND, AK",
          "RESURRECTION BAY, AK",
          "GULF OF MEXICO",
          "SAND POINT, AK",
          "PEDERSEN LAGOON, AK",
          "COLUMBIA RIVER VALLEY, WA",
          "CAPE MENDOCINO, N. CALIFORNIA"
         ],
         "legendgroup": "USA",
         "marker": {
          "color": "#636efa",
          "size": {
           "bdata": "AAAAAAAAAABSuB6F61H4PwAAAAAAAAAAAAAAAAAAPkAAAAAAAABWQAAAAAAAAAAAAAAAAAAAAAAAAAAAAAAAAAAAAAAAAAAAAAAAAAAAAAAAAAAAAAAAAAAAAAAAAAAAMzMzMzMzC0AzMzMzMzPTPwAAAAAAAAAAAAAAAAAAAAAAAAAAAAAAAAAAAAAAAAAAAAAAAAAAAAAAAAAAAAAAAAAAAAAAAAAAAAAAAAAAAAAAAAAAAAAAAAAAAAAAAAAAAAAAAAAAAAAzMzMzMzMDQAAAAAAAAAAAmpmZmZmZuT+4HoXrUbieP7gehetRuJ4/AAAAAAAAAAAAAAAAAAAAAAAAAAAAAAAAAAAAAAAAAAAAAAAAAAAAAAAAAAAAAAAAAAAAAAAAAAAzMzMzMzPjPwAAAAAAAAAAZmZmZmZmEkDNzMzMzMwMQAAAAAAAAAAAAAAAAAAAAAAAAAAAAAAAADMzMzMzM/M/AAAAAAAAAAAAAAAAAAAAAAAAAAAAAAAAAAAAAAAAAAAAAAAAAAAAAGZmZmZmZitAAAAAAAAAAAAAAAAAAAAAAAAAAAAAAAAAZmZmZmZmGEAAAAAAAAAAAGZmZmZmZhhAAAAAAAAAEkAAAAAAAAAAAAAAAAAAAAAAAAAAAAAAAABmZmZmZmYgQAAAAAAAAAAAAAAAAAAAAAAAAAAAAAAAAAAAAAAAAAAAAAAAAAAAAAAAAAAAAAAAADMzMzMzM+M/zczMzMzM9D8AAAAAAAAAAJqZmZmZmbk/UrgehetR4D9mZmZmZmYIQAAAAAAAAAAAAAAAAAAAAAAAAAAAAAAAAM3MzMzMzPw/AAAAAAAAAAAAAAAAAAAAAM3MzMzMzAxAAAAAAAAAAAAAAAAAAADwPwAAAAAAAAAAAAAAAAAAAADNzMzMzMz8P0jhehSuRyJAAAAAAAAAAAAAAAAAAAAAAAAAAAAAAAAAAAAAAAAAAACamZmZmZm5PzMzMzMzMwNAAAAAAAAAAAAAAAAAAAAAAAAAAAAAAAAAAAAAAAAAAAC4HoXrUbiuPwAAAAAAAAAAAAAAAAAAAACF61G4HoUDQAAAAAAAAAhAAAAAAAAAAAAAAAAAAAAAAAAAAAAAAAAAAAAAAAAAAAAAAAAAAAAAAAAAAAAAAARAAAAAAAAAAADXo3A9CtfTP83MzMzMzAhAexSuR+F6TkAAAAAAAAAAAAAAAAAAAAAAAAAAAAAAAAAAAAAAAAAAAAAAAAAAAAAAAAAAAAAAAAAAAAAAAAAAAAAAAAAAAAAAZmZmZmZmL0AAAAAAAAAAAKRwPQrXw0BAmpmZmZmZuT97FK5H4XqUPwAAAAAAAAAAZmZmZmZm5j8AAAAAAAAAADMzMzMzM/M/AAAAAAAAAADNzMzMzMwMQAAAAAAAAAAAMzMzMzMz0z8AAAAAAAAAAAAAAAAAAAAAAAAAAAAAAAAAAAAAAAASQDMzMzMzMwNAAAAAAAAAAAAzMzMzMzMRQAAAAAAAAAAAexSuR+F65D+amZmZmZm5PwAAAAAAAAAAZmZmZmZmGEAAAAAAAAAUQGZmZmZmZhJAZmZmZmZm9j/D9Shcj8LVPwAAAAAAAAhAAAAAAAAA+D8AAAAAAAAAAAAAAAAAAAAAAAAAAAAAAADNzMzMzMz8PwAAAAAAAPA/AAAAAAAAGEAAAAAAAAAAAGZmZmZmZghAAAAAAAAACECamZmZmZkVQJqZmZmZmbk/AAAAAAAAKEAAAAAAAAAAADMzMzMzq2JAAAAAAAAAAAAAAAAAAAAAAAAAAAAAAAAAMzMzMzMz0z8AAAAAAAAAAEjhehSuRyJAAAAAAAAAAAAAAAAAAABFQAAAAAAAAAAAAAAAAAAAAAAzMzMzMzMDQI/C9ShczzNAAAAAAAAAAAAAAAAAAAAIQM3MzMzMzAxAAAAAAAAACEAAAAAAAAAAAI/C9ShczzNAUrgehetR+D8AAAAAAAAAAAAAAAAAAAAAMzMzMzMzE0AAAAAAAAAAAAAAAAAAAAhAAAAAAAAAQECamZmZmZm5P83MzMzMZIBAAAAAAAAA8D8AAAAAAAAAAHsUrkfherQ/ZmZmZmbmSUDsUbgehevRPwAAAAAAAAAAZmZmZmZmJUCamZmZmZm5P3sUrkfherQ/uB6F61G4nj97FK5H4XqkP5qZmZmZmbk/mpmZmZmZuT+amZmZmZksQDMzMzMzM8M/AAAAAABAb0DNzMzMzMzsPwAAAAAAAAAAuB6F61G4rj+F61G4HoXbP1K4HoXrUcg/AAAAAAAAAACPwvUoXI/SP5qZmZmZmbk/AAAAAAAA8D8zMzMzMzPDP83MzMzMzPw/AAAAAAAACEAAAAAAAAD4P5qZmZmZmbk/AAAAAAAAAADsUbgeheuxPwAAAAAAACJAUrgehetR4D8K16NwPQrHP2ZmZmZmZhJAAAAAAAAAAAAfhetRuB7VP5qZmZmZmbk/mpmZmZmZuT+4HoXrUbieP1K4HoXrUcg/zczMzMzMDEAAAAAAAAAiQAAAAAAAAAAAmpmZmZmZuT+4HoXrUbiuPwAAAAAAAPg/zczMzMzM/D/D9Shcj8LFP3sUrkfherQ/exSuR+F6tD8AAAAAACBoQLgehetRuK4/AAAAAAAA0D+amZmZmZnZPylcj8L1KMw/MzMzMzMz8z8AAAAAAADgPwAAAAAAAOA/uB6F61G4zj9SuB6F61HoP+F6FK5H4do/uB6F61G4rj8zMzMzMzPjPzMzMzMzM8M/AAAAAAAAMUAAAAAAAAAiQArXo3A9Crc/",
           "dtype": "f8"
          },
          "sizemode": "area",
          "sizeref": 1.3115,
          "symbol": "circle"
         },
         "mode": "markers",
         "name": "USA",
         "showlegend": true,
         "type": "scattergl",
         "x": {
          "bdata": "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",
          "dtype": "f8"
         },
         "xaxis": "x",
         "y": {
          "bdata": "AAAAAAAAAAAAAAAAAAAAAAAAAAAAAAAAAAAAAAAAAAAAAAAAAAAAAAAAAAAAAAAAAAAAAAAAAAAAAAAAAAAAAAAAAAAAAAAAAAAAAAAAAAAAAAAAAAAAAAAAAAAAAAAAAAAAAAAA8D8AAAAAAAAAAAAAAAAAAAAAAAAAAAAAAAAAAAAAAAAAAAAAAAAAAAAAAAAAAAAAAAAAAAAAAAAAAAAAAAAAAAAAAAAAAAAAAAAAAAAAAAAAAAAAAAAAAAAAAAAAAAAAAAAAAAAAAAAAAAAAAAAAAAAAAAAAAAAAAAAAAAAAAAAAAAAAAAAAAAAAAAAAAAAAAAAAAAAAAAAAAAAAAAAAAAAAAAAAAAAAAAAAAAAAAAAAAAAAAAAAAAAAAAAAAAAAAAAAAAAAAAAAAAAAAAAAAAAAAAAAAAAAAAAAAAAAAAAAAAAAAAAAAAAAAAAAAAAAAAAAAAAAAAAAAAAAAAAAAAAAAAAAAAAAAAAAAAAAAAAAAAAAAAAAAAAAAAAAAAAAAAAAAAAAAAAAAAAAAAAAQFNAAAAAAAAAAAAAAAAAAAAAAAAAAAAAAAAAAAAAAAAAAAAAAAAAAAAAAAAAAAAAAAAAAAAAAAAAPkAAAAAAAAAAAAAAAAAAAAAAAAAAAAAAAAAAAAAAAAAAAAAAAAAAAAAAAAAAAAAAAAAAAAAAAAAAAAAAAAAAAAAAAAAAAAAAAAAAAAAAAAAAAAAAAAAAAAAAAAAAAAAAAAAAAAAAAAAAAAAAAAAAAAAAAAAAAAAAAAAAAAAAAAAAAAAAAAAAAAAAAAAAAAAAAAAAAAAAAAAAAAAAAAAAAAAAAAAAAAAAAAAAAAAAAAAAAAAAAAAAAAAAAAAAAAAAAAAAAAAAAADwPwAAAAAAAAAAAAAAAAAAAAAAAAAAAAAAAAAAAAAAACBAAAAAAAAAAAAAAAAAAAAAAAAAAAAAAAhAAAAAAAAAAAAAAAAAAAAAAAAAAAAAAAAAAAAAAAAAAAAAAAAAAAAAAAAAAAAAAAAAAAAAAAAAAAAAAAAAAAAAAAAAAAAAAAAAAAAAAAAAAAAAAAAAAAAAAAAAAAAAAABAAAAAAAAAAAAAAAAAAAAAAAAAAAAAAAAAAAAAAAAAAAAAAAAAAAAAAAAAAAAAAAAAAAAAAAAAAAAAAAAAAAAAAAAAAAAAAAAAAAAAAAAAAAAAAAAAAAAAAAAAAAAAABRAAAAAAAAAAAAAAAAAAAAAAAAAAAAAAAAAAAAAAAAAAAAAAAAAAAAAAAAAAAAAAAAAAAAAAAAAAAAAAAAAAAAAAAAAAAAAAAAAAAAAAAAAAAAAAAAAAAAAAAAAAAAAAAAAAAAAAAAAAAAAAAAAAAAAAAAAAAAAAAAAAAAAAADAckAAAAAAAAAAAAAAAAAAAAAAAAAAAAAAAAAAAAAAAAAAAAAAAAAAAAAAAAAAAAAAAAAAAAAAAAAAAAAAAAAAAPA/AAAAAAAAAAAAAAAAAAAAAAAAAAAAAAAAAAAAAAAAAAAAAAAAAAAAAAAAAAAAAABAAAAAAAAAAAAAAAAAAAAAAAAAAAAAAAAAAAAAAAAAAAAAAAAAAAAAAAAAAAAAAAAAAAAAAAAAAAAAAAAAAADwPwAAAAAAAAAAAAAAAAAAAAAAAAAAAAAAAAAAAAAAAAAAAAAAAAAAJEAAAAAAAAAAAAAAAAAAAPA/AAAAAAAAEEAAAAAAAAAAAAAAAAAAAF5AAAAAAAAAAAAAAAAAAAAAAAAAAAAAAAAAAAAAAAAAAAAAAAAAAAAUQAAAAAAAAAAAAAAAAAAAAAAAAAAAAAAAAAAAAAAAAAAAAAAAAAAAAAAAAAAAAABlQAAAAAAAAAAAAAAAAAAAIEAAAAAAAAAAAAAAAAAAAAAAAAAAAAAAAAAAAAAAAAAAAAAAAAAAAAAAAAAAAAAAAAAAAAAAAAAAAAAAAAAAAAAAAAAAAAAAAAAAAAAAAAAAAAAAAAAAAAAAAAAAAAAAAAAAAAAAAAAAAAAAAAAAABxAAAAAAAAAAEAAAAAAAAAAAAAAAAAAABRAAAAAAAAAPEAAAAAAAAAAAAAAAAAAAAAAAAAAAABgYUAAAAAAAAAAAAAAAAAAAPA/AAAAAAAAAAAAAAAAAAAAAAAAAAAAAAAAAAAAAAAAAAAAAAAAAAAAAAAAAAAAAAAAAAAAAAAAAAAAAAAAAAAAQAAAAAAAAAAAAAAAAACATkAAAAAAAAAAAAAAAAAAAAAAAAAAAAAAAAAAAAAAAAAAAAAAAAAAAAAAAAAAAAAAAAAAAAAAAAAAAAAAAAAAAAAAAAAAAAAAT0AAAAAAAAAAAAAAAAAAAAAAAAAAAAAAAAAAAAAAAAAAAAAAAAAAgExAAAAAAAAAAAAAAAAAAAAAAAAAAAAAAPA/AAAAAAAAAAAAAAAAAAAAAAAAAAAAAAAAAAAAAAAAHEAAAAAAAAAAAAAAAAAAAAAAAAAAAAAAAAAAAAAAAAAAAAAAAAAAAAAAAAAAAAAAAAAAAAAAAAAAAAAAAAAAAAAAAAAAAAAAAAAAAAAAAAAAAAAAAAAAAAAAAAAAAAAAAAAAAAAAAAAAAAAAAAAAAAAAAAAAAAAAAAAAAAAAAAAAAAAAAAAAAAAAAAAAAAAAAAAAAAAAAAAAAAAAAAAAAAAAAAAAAAAAAAAAAAAAAAAAAAAAAAAAAAAAAAAAAAAAAAAAAAAAAAAAAAAAAAAAAAAAAAAAAAAAAAAAAAAAAAAAAAAAAAAAAPA/AAAAAAAAAAAAAAAAAAAAAAAAAAAAAAAA",
          "dtype": "f8"
         },
         "yaxis": "y"
        },
        {
         "hovertemplate": "<b>%{hovertext}</b><br><br>Country=JAPAN<br>Magnitude do Terremoto=%{x}<br>Total de Mortes=%{y}<br>Maximum Water Height (m)=%{marker.size}<extra></extra>",
         "hovertext": [
          "NAGASAKI PREFECTURE",
          "TSUSHIMA, NAGASAKI PREFECTURE",
          "OFF SW BOSO PENINSULA",
          "ENSHUNADA",
          "NANKAIDO",
          "TOKAIDO",
          "SEIONAIKAI, JAPAN",
          "SEIKAIDO",
          "TOKAIDO",
          "ISE BAY, JAPAN",
          "KATSUYAMA",
          "KASHIMA",
          "SANRIKU",
          "KUJUKURI BEACH, JAPAN",
          "W. HOKKAIDO ISLAND",
          "NW. HONSHU ISLAND",
          "MIYAGI",
          "NW. HONSHU ISLAND",
          "SANRIKU",
          "N. SANRIKU",
          "SANRIKU, HACHIONHE",
          "SANRIKU",
          "RYUKYU ISLANDS",
          "SW. KYUSHU ISLAND",
          "RYUKYU ISLANDS",
          "SW. KYUSHU ISLAND",
          "SW. KYUSHU ISLAND",
          "SW. KYUSHU ISLAND",
          "ODAWARA, SAGAMI BAY",
          "RYUKYU ISLANDS",
          "OASAKA BAY",
          "SHIMABARA BAY, KYUSHU ISLAND",
          "W. HOKKAIDO ISLAND",
          "TOKAIDO",
          "W. OFF AOMORI",
          "SANRIKU",
          "SW. KYUSHU ISLAND",
          "SW. HONSHU ISLAND",
          "NW. HONSHU ISLAND",
          "NW. HONSHU ISLAND",
          "E. AWA, TOKUSHIMA PREFECTURE",
          "TOKAIDO",
          "NW. HONSHU ISLAND",
          "W. IZU PENIN., JAPAN",
          "AMAKUSA SEA",
          "NW. HONSHU ISLAND",
          "NW. HONSHU ISLAND",
          "W. HOKKAIDO ISLAND",
          "SANRIKU",
          "MIYAGI, JAPAN",
          "SANRIKU",
          "SE. HOKKAIDO ISLAND",
          "SE. HOKKAIDO ISLAND",
          "IAMACHI, JAPAN",
          "SANRIKU",
          "SANRIKU",
          "OKINAWA ISLAND",
          "ENSHUNADA SEA",
          "NANKAIDO",
          "ENSHUNADA",
          "TOKAIDO",
          "NANKAIDO",
          "SE. HOKKAIDO ISLAND",
          "TOKAIDO",
          "OFF MIYAGI",
          "NW. HOKKAIDO ISLAND",
          "RYUKYU ISLANDS",
          "SW. HONSHU ISLAND",
          "RYUKYU ISLANDS",
          "HOKKAIDO ISLAND",
          "OKAYAMA PREFECTURE",
          "SW. HONSHU ISLAND",
          "NEMURO, JAPAN",
          "SE. HOKKAIDO ISLAND",
          "YAMAGATA, JAPAN",
          "W. KYUSHU ISLAND",
          "KASHIMA, JAPAN",
          "SANRIKU",
          "SANRIKU",
          "SANRIKU",
          "HONSHU ISLAND",
          "TAGONOURA",
          "SEIKAIDO",
          "SEIKAIDO",
          "IWATE, JAPAN",
          "RYUKYU ISLANDS",
          "OFF NORTHEAST COAST HONSHU",
          "OFF NORTHEAST COAST HONSHU",
          "OFF NORTHEAST COAST HONSHU",
          "JAPAN:  OFF FUKUSHIMA",
          "OFF BOSO PENINSULA",
          "OFF BOSO PENINSULA",
          "ANEGAWA, JAPAN",
          "RYUKYU ISLANDS",
          "SANRIKU",
          "SEIKAIDO",
          "MYOJINSHO SUBMARINE VOLCANO",
          "SANRIKU",
          "KASHIMA, JAPAN",
          "SAGAMI BAY",
          "RYUKYU ISLANDS",
          "SW. HONSHU ISLAND",
          "SANRIKU",
          "KASHIMA, JAPAN",
          "SANRIKU",
          "SAPPORO",
          "HYUGANADA SEA",
          "SANRIKU",
          "SEIKAIDO",
          "SANRIKU",
          "SANRIKU",
          "JAPAN",
          "SANRIKU",
          "SANRIKU",
          "SANRIKU",
          "JAPAN TRENCH",
          "E. HOKKAIDO ISLAND",
          "RYUKYU ISLANDS",
          "SANRIKU",
          "SANRIKU",
          "OFF FUKUSHIMA PREFECTURE",
          "OFF FUKUSHIMA PREFECTURE",
          "SANRIKU",
          "SANRIKU",
          "SANRIKU",
          "SANRIKU",
          "SANRIKU",
          "SEIKAIDO",
          "NW. HONSHU ISLAND",
          "W. HOKKAIDO ISLAND",
          "SEIKAIDO",
          "SE. HOKKAIDO ISLAND",
          "OFF SOUTHEAST COAST KII PENINSULA",
          "TOKAIDO",
          "SANRIKU",
          "HONSHU: S COAST",
          "W. HOKKAIDO ISLAND",
          "TOKAIDO",
          "SE. HOKKAIDO ISLAND",
          "SE. HOKKAIDO ISLAND",
          "MYOJINSHO SUBMARINE VOLCANO",
          "MYOJINSHO SUBMARINE VOLCANO",
          "MYOJINSHO SUBMARINE VOLCANO",
          "MYOJINSHO SUBMARINE VOLCANO",
          "MYOJINSHO SUBMARINE VOLCANO",
          "MYOJINSHO SUBMARINE VOLCANO",
          "MYOJINSHO SUBMARINE VOLCANO",
          "KASHIMA, JAPAN",
          "MIYAGI, JAPAN",
          "NE. HOKKAIDO ISLAND",
          "IZU PENINSULA",
          "SANRIKU",
          "SANRIKU",
          "SANRIKU",
          "SANRIKU",
          "SANRIKU",
          "KASHIMA, JAPAN",
          "KASHIMA, JAPAN",
          "KASHIMA, JAPAN",
          "SEIKAIDO",
          "RYUKYU ISLANDS",
          "SE. HOKKAIDO ISLAND",
          "SE. HOKKAIDO ISLAND",
          "SANRIKU",
          "SE. HOKKAIDO ISLAND",
          "OFF COAST OF HONSHU ISLAND",
          "NW. HONSHU ISLAND",
          "NW. HONSHU ISLAND",
          "NW. HONSHU ISLAND",
          "NW. HONSHU ISLAND",
          "AICHI PREFECTURE",
          "SEIKAIDO",
          "OFF EAST COAST OF HONSHU ISLAND",
          "OFF COAST OF HONSHU ISLAND",
          "SANRIKU",
          "SEIKAIDO-NANKAIDO",
          "RYUKYU ISLANDS",
          "SEIKAIDO",
          "JAPAN TRENCH",
          "EAST OFF HACHIJO ISLAND",
          "JAPAN",
          "CHICHI JIMA",
          "HOKKAIDO ISLAND",
          "TOKAIDO",
          "TOKAIDO",
          "SANRIKU",
          "IWATE, JAPAN",
          "NAGASAKI, JAPAN",
          "HONSHU ISLAND",
          "E. HONSHU ISLAND",
          "HOKKAIDO ISLAND",
          "IBARAKI, JAPAN",
          "S. OF HONSHU ISLAND",
          "NOSHIRO, JAPAN",
          "NOSHIRO, JAPAN",
          "N. HONSHU ISLAND",
          "TORI SHIMA, OKINAWA",
          "KYUSHU, JAPAN",
          "HONSHU ISLAND",
          "E. HONSHU ISLAND",
          "KYUSHU ISLAND",
          "HONSHU ISLAND",
          "N. HONSHU ISLAND",
          "JAPAN",
          "JAPAN",
          "W. OF BONIN ISLANDS, IZU IS., JAPAN",
          "HONSHU ISLAND",
          "HONSHU",
          "HONSHU ISLAND",
          "SEA OF JAPAN",
          "JAPAN",
          "HOKKAIDO ISLAND",
          "TOHUKU, JAPAN",
          "KOBE, JAPAN",
          "RYUKYU ISLANDS",
          "RYUKYU ISLANDS",
          "HONSHU ISLAND",
          "KYUSHU ISLAND",
          "KYUSHU ISLAND",
          "SEA OF JAPAN",
          "S. OF HONSHU ISLAND",
          "SANRIKU",
          "KOZU-SHIMA ISLAND, HONSHU",
          "HONSHU: S COAST",
          "HONSHU: S COAST",
          "JAPAN",
          "HOKKAIDO ISLAND",
          "E. HONSHU ISLAND",
          "SOUTH COAST HONSHU ISLAND",
          "SOUTH COAST HONSHU ISLAND",
          "HOKKAIDO ISLAND",
          "E. HONSHU ISLAND",
          "E. COAST HONSHU ISLAND",
          "E. COAST HONSHU ISLAND",
          "S. OF HONSHU ISLAND",
          "IZU ISLANDS, JAPAN",
          "HONSHU: W COAST",
          "HONSHU: W COAST",
          "ARATOZAWA, JAPAN",
          "OFF EAST COAST OF HONSHU ISLAND",
          "HOKKAIDO ISLAND",
          "HONSHU: S COAST",
          "RYUKYU ISLANDS",
          "BONIN ISLANDS",
          "HONSHU ISLAND",
          "OFF SANRIKU",
          "HONSHU ISLAND",
          "E. COAST HONSHU ISLAND",
          "OFF EAST COAST OF HONSHU ISLAND",
          "HOKKAIDO ISLAND",
          "OFF EAST COAST OF HONSHU ISLAND",
          "E. COAST HONSHU ISLAND",
          "SANRIKU",
          "HONSHU",
          "S. OF HONSHU ISLAND",
          "JAPAN",
          "SANRIKU",
          "E. COAST HONSHU ISLAND",
          "S. OF HONSHU ISLAND",
          "NAGASAKI, JAPAN",
          "NIIGATA",
          "OFF FUKUSHIMA PREFECTURE",
          "OFF FUKUSHIMA PREFECTURE",
          "NOTO PENINSULA, JAPAN",
          "IZU ISLANDS, JAPAN",
          "IZU ISLANDS, JAPAN",
          "IZU ISLANDS, JAPAN",
          "HONSHU: W COAST",
          "HYUGANADA SEA",
          "IZU ISLANDS, JAPAN"
         ],
         "legendgroup": "JAPAN",
         "marker": {
          "color": "#EF553B",
          "size": {
           "bdata": "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",
           "dtype": "f8"
          },
          "sizemode": "area",
          "sizeref": 1.3115,
          "symbol": "circle"
         },
         "mode": "markers",
         "name": "JAPAN",
         "showlegend": true,
         "type": "scattergl",
         "x": {
          "bdata": "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",
          "dtype": "f8"
         },
         "xaxis": "x",
         "y": {
          "bdata": "AAAAAABIj0AAAAAAAECPQAAAAAAAcbRAAAAAAABAn0AAAAAAAIizQAAAAAAAAAAAAAAAAABAj0AAAAAAAAAAAAAAAAAAAAAAAAAAAAAAAAAAAAAAAAAAAAAAAAAAAAAAAAAAAAAAAAAAAAAAAAAAAAAAAAAAQJ9AAAAAAABooEAAAAAAAAAAAAAAAAAAAAAAAAAAAAAAAAAAAAAAAAAAAAAAAAAAAAAAAAAAAACQmkAAAAAAAAAAAAAAAAAAAAAAAAAAAABXykAAAAAAAAAAAAAAAAAAAAAAAAAAAAAAQ0AAAAAAAAAAAAAAAAAAAAAAAAAAAAAAAAAAAAAAAEzNQAAAAAAAAAAAAAAAAAAAAAAAAAAAAAAoQAAAAAAASIdAAAAAAAAAAAAAAAAAAAAAAAAAAAAAADNAAAAAAAAgfEAAAAAAAAAAAAAAAAAAAAAAAAAAAACATEAAAAAAAAAAAAAAAAAAAAAAAAAAAACMlkAAAAAAAEBVQAAAAAAAAAAAAAAAAAAAAAAAAAAAAAAAAAAAAAAAAAAAAAAAAAAAAAAAAAAAAIBGQAAAAAAAAAAAAAAAAADwdEAAAAAAAAAAAAAAAAAAAAAAAAAAAABAj0AAAAAAAHCnQAAAAAAAAAAAAAAAAABlukAAAAAAAAAAAAAAAAAAADpAAAAAAAAAAAAAAAAAAAAAAAAAAAAAAAAAAAAAAAAAAAAAAAAAACCJQAAAAAAAAAAAAAAAAAAAAAAAAAAAAAAAAAAAAAAAAPA/AAAAAAAAAAAAAAAAAADwPwAAAAAAsIZAAAAAAAAAAAAAAAAAAAAAAAAAAACAfNpAAAAAAAAAAAAAAAAAAAAAAAAAAAAAAAAAAAAAAAAAAAAAAAAAAAAAAAAAAAAAAAAAAAAAAAAAAAAAAAAAAAAAAAAAAAAAAAAAAAAAAAAAMkAAAAAAAAAAAAAAAAAAgExAAAAAAAAAAAAAAAAAAAAAAAAAAAAAgERAAAAAAAAAKEAAAAAAAAAAAAAAAAAAgE9AAAAAAAAAAAAAAAAAAAAAAAAAAAAAAAAAAAAAAJC6+UAAAAAAAAAAAAAAAAAAnKdAAAAAAAAAAAAAAAAAAAAAAAAAAAAAAAAAAAAAAAAAAAAAAAAAAAAAAAAAAAAAAAAAAAAAAAAA8D8AAAAAAJynQAAAAAAAAAAAAAAAAAAAAAAAAAAAAAAAAAAAAAAAAAAAAAAAAAAAAAAAAAAAAAAAAAAAAAAAAPA/AAAAAAAAAAAAAAAAAADwPwAAAAAAAAAAAAAAAAAAAAAAAAAAAAAAAAAAAAAAAAAAAAAAAAAAAAAAAAAAAAAAAAAAAAAAAAAAAAAAAAAAAAAAAAAAAADwPwAAAAAAADtAAAAAAAAAJEAAAAAAAAAAQAAAAAAAAAAAAAAAAAAck0AAAAAAAASiQAAAAAAAAABAAAAAAABIlUAAAAAAAAAAAAAAAAAAAAAAAAAAAACAQEAAAAAAAAAAAAAAAAAAAAAAAAAAAAAAAAAAAAAAAAAAAAAAAAAAAD9AAAAAAAAAAAAAAAAAAAAAAAAAAAAAAAAAAAAAAAAA8D8AAAAAAAAAAAAAAAAAAAAAAAAAAAAAAAAAAAAAAAAAAAAAAAAAAAAAAAAAAAAAAAAAAAAAAAAAAAAAAAAAAAAAAAAAAAAAAAAAAAAAAAAAAAAAAAAAAAAAAAAAAAAAAEAAAAAAAAAAAAAAAAAAAAAAAAAAAAAAAAAAAAAAAAAAAAAAAAAAAAAAAAAAAAAAAAAAAAAAAAAAAAAAAAAAAAAAAAAAAAAAOkAAAAAAAAAAAAAAAAAAAAAAAAAAAAAA8D8AAAAAAABKQAAAAAAAAAAAAAAAAAAAAAAAAAAAAAAAAAAAAAAAAAAAAAAAAAAAAAAAAAAAAAAAAAAAAAAAAAAAAAAAAAAAAAAAAAAAAAAAAAAAAAAAAAAAAAAAAAAAPkAAAAAAAAA5QAAAAAAAADxAAAAAAAAAAAAAAAAAAAAIQAAAAAAAAAAAAAAAAAAAAAAAAAAAAIBbQAAAAAAAAAAAAAAAAAAAAAAAAAAAAABaQAAAAAAAAAAAAAAAAAAAAAAAAAAAAAAAAAAAAAAAAAAAAAAAAAAAAAAAAAAAAAAAAAAAAAAAAABAAAAAAAAAAAAAAAAAAAAAAAAAAAAAAAAAAAAAAAAAAAAAAAAAAAAAAAAAAAAAAAAAAAAAAAAAAAAAAAAAAAAAAAAAAAAA4GxAAAAAAAAAAAAAAAAAAAAAAAAAAAAAAAhAAAAAAAAiuUAAAAAAAAAAAAAAAAAAAAAAAAAAAAAAAAAAAAAAAAAAAAAAAAAAAAAAAAAAAAAAAAAAAAAAAAAAAAAAAAAAAAAAAAAAAAAA8D8AAAAAAAAAAAAAAAAAAAAAAAAAAAAAAAAAAAAAAAAAQAAAAAAAAAAAAAAAAAAAAAAAAAAAAAAAAAAAAAAAAAAAAAAAAAAAAAAAAAAAAAAAAAAAAAAAAAAAAAAAAAAAAAAAAAAAAAAAAAAAAAAAAPA/AAAAAAAAIkAAAAAAAAA3QAAAAAAAAAAAAAAAAAAAGEAAAAAAAADwPwAAAAAAAAAAAAAAAAAAAAAAAAAAAAAAAAAAAAAAAAAAAAAAAAD/0UAAAAAAAAAIQAAAAAAAAAAAAAAAAAAAAAAAAAAAAAAAAAAAAAAAAAAAAAAAAAAAAAAAAAAAAAAAAAAAAAAAAAAAAAAAAAAAAAAAAAAAAAAAAAAAAAAAAAAAAAAAAAAAAAAAAAAAAAAAAAAAAAAAAAAAAAAAAAAA8D8AAAAAAAAQQAAAAAAAAPA/AAAAAAAAAAAAAAAAAAAAAAAAAAAAAAAAAAAAAAAogUAAAAAAAAAAAAAAAAAAAAAA",
          "dtype": "f8"
         },
         "yaxis": "y"
        },
        {
         "hovertemplate": "<b>%{hovertext}</b><br><br>Country=SOUTH KOREA<br>Magnitude do Terremoto=%{x}<br>Total de Mortes=%{y}<br>Maximum Water Height (m)=%{marker.size}<extra></extra>",
         "hovertext": [
          "YELLOW SEA",
          "YELLOW SEA",
          "YELLOW SEA",
          "YELLOW SEA",
          "CHEJU (JEJU) STRAIT"
         ],
         "legendgroup": "SOUTH KOREA",
         "marker": {
          "color": "#00cc96",
          "size": {
           "bdata": "AAAAAAAAAAAAAAAAAAAAAGZmZmZmZvo/zczMzMzM9D8AAAAAAAAAAA==",
           "dtype": "f8"
          },
          "sizemode": "area",
          "sizeref": 1.3115,
          "symbol": "circle"
         },
         "mode": "markers",
         "name": "SOUTH KOREA",
         "showlegend": true,
         "type": "scattergl",
         "x": {
          "bdata": "AAAAAAAAGkAAAAAAAAD4fwAAAAAAAPh/AAAAAAAA+H8AAAAAAAD4fw==",
          "dtype": "f8"
         },
         "xaxis": "x",
         "y": {
          "bdata": "AAAAAAAAAAAAAAAAAADwPwAAAAAAABBAAAAAAAAAIkAAAAAAAADwPw==",
          "dtype": "f8"
         },
         "yaxis": "y"
        },
        {
         "hovertemplate": "<b>%{hovertext}</b><br><br>Country=ITALY<br>Magnitude do Terremoto=%{x}<br>Total de Mortes=%{y}<br>Maximum Water Height (m)=%{marker.size}<extra></extra>",
         "hovertext": [
          "LATIUM",
          "LIGURIA-COTE D'AZUR",
          "BAY OF NAPLES",
          "CAMPANIA",
          "BAY OF NAPLES",
          "NORTHERN SICILY",
          "SICILY CHANNEL",
          "TORRE ANNUNZIATA",
          "TYRRHENIAN SEA",
          "LIVORNO",
          "TUSCANY COAST",
          "IONIAN AND ADRIATIC SEAS",
          "LIGURIAN SEA",
          "GARGANO PENINSULA",
          "BAY OF NAPLES",
          "LIVORNO",
          "TYRRHENIAN CALABRIA",
          "TYRRHENIAN CALABRIA",
          "MESSINA STRAITS",
          "TYRRHENIAN CALABRIA",
          "TYRRHENIAN CALABRIA",
          "MESSINA STRAITS",
          "TYRRHENIAN CALABRIA",
          "IONIAN CALABRIA",
          "TYRRHENIAN CALABRIA",
          "MESSINA STRAITS",
          "BAY OF NAPLES",
          "CAMPANIA",
          "TERRACINA",
          "ITALIAN COAST",
          "GULF OF LA SPEZIA",
          "CAMPANIA",
          "SICILY CHANNEL",
          "EASTERN SICILY",
          "LIGURIA-COTE D'AZUR",
          "GENOA",
          "GENOA",
          "GENOA",
          "CALABRIAN ARC",
          "PALERMO",
          "SENIGALLIA",
          "GENOA",
          "SAN REMO",
          "SCIACCA",
          "CUTRO",
          "ROSSANO",
          "ISLAND OF SICILY",
          "LIVORNO",
          "TUSCANY",
          "TUSCANY",
          "TUSCANY",
          "TUSCANY",
          "TUSCANY",
          "TUSCANY",
          "TUSCANY",
          "TUSCANY",
          "TUSCANY",
          "TUSCANY",
          "LIVORNO",
          "LIVORNO",
          "LIVORNO",
          "NAPLES",
          "LIVORNO",
          "LIVORNO",
          "LIVORNO",
          "LIGURIAN SEA",
          "LIVORNO",
          "LIVORNO",
          "LIVORNO",
          "LIVORNO - LIGURIAN SEA",
          "TYRRHENIAN SEA -SALERNO",
          "GULF OF GENOVA",
          "LAKE MAGGIORE",
          "LAKE GARDA",
          "CALABRIAN ARC",
          "TYRRHENIAN SEA",
          "CALABRIAN ARC",
          "LIGURIAN SEA",
          "ADRIATIC SEA",
          "LIGURIAN SEA",
          "STROMBOLI ISLAND",
          "CALIBRIAN ARC",
          "LIGURIAN SEA",
          "LIGURIAN SEA",
          "GARGANO PENINSULA",
          "TYRRHENIAN SEA",
          "CALABRIAN ARC",
          "TYRRHENIAN SEA",
          "LIGURIAN SEA",
          "CALABRIAN ARC",
          "TYRRHENIAN CALABRIA",
          "TYRRHENIAN SEA",
          "IONIAN CALABRIA",
          "MESSINA STRAIT, IONIAN SEA",
          "LIGURIAN SEA",
          "STROMBOLI ISLAND",
          "CENTRAL ADRIATIC",
          "STROMBOLI ISLAND",
          "TYRRHENIAN SEA",
          "CALABRIAN ARC",
          "AEOLIAN ISLANDS",
          "STROMBOLI ISLAND",
          "CENTRAL ADRIATIC",
          "CALABRIAN ARC",
          "CALABRIAN ARC",
          "NORTHERN SICILY",
          "CALABRIAN ARC",
          "STROMBOLI ISLAND",
          "AEGEAN SEA",
          "VAJONT DAM, VAJONT RIVER",
          "LIGURIA-COTE D'AZUR",
          "EASTERN ITALY, ADRIATIC SEA",
          "LA FOSSA VOLCANO, VULCANO IS.",
          "EASTERN SICILY",
          "STROMBOLI ISLAND",
          "STROMBOLI ISLAND",
          "STROMBOLI ISLAND",
          "STROMBOLI ISLAND",
          "STROMBOLI ISLAND",
          "STROMBOLI ISLAND"
         ],
         "legendgroup": "ITALY",
         "marker": {
          "color": "#ab63fa",
          "size": {
           "bdata": "AAAAAAAAAAAAAAAAAAAAAAAAAAAAAAAAAAAAAAAAAAAAAAAAAAAAAAAAAAAAAAAAAAAAAAAAAAAAAAAAAAAAAAAAAAAAAAAAAAAAAAAAAAAAAAAAAAAAAAAAAAAAAAAAAAAAAAAAAAAAAAAAAAAAAAAAAAAAAAAAAAAAAAAAAAAAAAAAAAAAAAAAAAAAAAAAAAAAAAAAMEAAAAAAAAAAAAAAAAAAAAAAAAAAAAAAAAAAAAAAAAAAAAAAAAAAAAAAAAAAAAAAAAAAAAAAAAAAAAAAAAAAAAAAAAAAAAAAAAAAAAAAAAAAADMzMzMzM8M/AAAAAAAAAAAAAAAAAAAAAAAAAAAAAAAAAAAAAAAAAAAAAAAAAAAAAAAAAAAAAAAAAAAAAAAAAAAAAAAAAAAAAAAAAAAAAAAAAAAAAAAAAAAAAAAAAAAAAAAAAAAAAAAAAAAAAAAAAAAAAAAAAAAAAAAAAAAAAAAAAAAAAAAAAAAAAAAAAAAAAAAAAAAAAAAAAAAAAAAAAAAAAAAAAAAAAAAAAAAAAAAAAAAAAAAAAAAAAAAAAAAAAAAAAAAAAAAAAAAAAAAAAAAAAAAAAAAAAAAAAAAAAAAAAAAAAAAAAAAAAAAAAAAAAAAAAAAAAAAAAAAAAAAAAAAAAAAAAAAAAAAAAAAAAAAAAAAAAAAAAAAAAAAAAAAAAAAAAAAAAAAAAAAAAAAAAAAAAAAAAAAAAAAAAAAAAAAAAAAAAAAAAAAAAAAAAAAAAAAAAAAAAAAAAAAAAAAAAAAAAAAAAAAAAAAAAAAAAAAAAAAAAAAAAAAAAAAAAAAAAAAAAAAAAAAAAAAAAAAAAAAAAAAAAAAAAAAAAAAAAAAAAAAAAAAAAAAAAAAAAAAAQAAAAAAAAAAAAAAAAAAAAAAAAAAAAAAAAAAAAAAAAAAAAAAAAAAAAAAAAAAAAAAAAAAAAAAAAAAAzczMzMzM9D+amZmZmZnZPwAAAAAAAAAAAAAAAAAAKkAAAAAAAAAAAAAAAAAAACRAAAAAAAAAAAAAAAAAAADoPwAAAAAAAAAAAAAAAAAAAAAAAAAAAAAAAAAAAAAAAARAAAAAAAAAAAAAAAAAAAAAAAAAAAAAAAAAAAAAAAAAAAAAAAAAAAAAAAAAAAAAAAAAzczMzMzM7D8AAAAAAGBtQAAAAAAAAAhAAAAAAAAACEAAAAAAAAAAQAAAAAAAAAAAzczMzMzMJUDNzMzMzMz0PzMzMzMzM9M/CtejcD0K1z97FK5H4XqkPwAAAAAAAOg/",
           "dtype": "f8"
          },
          "sizemode": "area",
          "sizeref": 1.3115,
          "symbol": "circle"
         },
         "mode": "markers",
         "name": "ITALY",
         "showlegend": true,
         "type": "scattergl",
         "x": {
          "bdata": "zczMzMzMGkCamZmZmZkJQAAAAAAAAPh/AAAAAAAA+H8AAAAAAAD4fzMzMzMzMxdAzczMzMzMFEAAAAAAAAD4fzMzMzMzMxlAAAAAAAAA+H8AAAAAAAD4f5qZmZmZmRtAAAAAAAAA+H8AAAAAAAAcQAAAAAAAAPh/AAAAAAAA+H8AAAAAAAD4f5qZmZmZmRtAmpmZmZmZF0BmZmZmZmYaQJqZmZmZmRdAAAAAAAAA+H+amZmZmZkbQGZmZmZmZhBAAAAAAAAA+H9mZmZmZmYQQAAAAAAAAPh/ZmZmZmZmGkAAAAAAAAD4f83MzMzMzBZAAAAAAAAA+H8AAAAAAAD4fwAAAAAAAPh/AAAAAAAAGEBmZmZmZmYWQAAAAAAAAPh/AAAAAAAA+H8AAAAAAAD4fwAAAAAAAPh/AAAAAAAA+H8AAAAAAAD4fwAAAAAAAPh/AAAAAAAA+H8AAAAAAAD4fwAAAAAAAPh/AAAAAAAA+H8AAAAAAAD4f2ZmZmZmZhhAAAAAAAAA+H8AAAAAAAD4fwAAAAAAAPh/AAAAAAAA+H8AAAAAAAD4fwAAAAAAAPh/AAAAAAAA+H8AAAAAAAD4fwAAAAAAAPh/AAAAAAAA+H8AAAAAAAD4fwAAAAAAAPh/AAAAAAAA+H8AAAAAAAD4fwAAAAAAAPh/AAAAAAAA+H8AAAAAAAD4f2ZmZmZmZhBAAAAAAAAA+H8AAAAAAAD4fwAAAAAAAPh/AAAAAAAA+H8AAAAAAAD4fwAAAAAAAPh/AAAAAAAA+H8AAAAAAAD4fwAAAAAAAPh/AAAAAAAA+H8AAAAAAAD4fwAAAAAAAPh/AAAAAAAA+H8AAAAAAAD4fwAAAAAAAPh/AAAAAAAA+H8AAAAAAAD4fwAAAAAAAPh/AAAAAAAA+H8AAAAAAAD4fwAAAAAAAPh/AAAAAAAA+H8AAAAAAAD4fwAAAAAAAPh/ZmZmZmZmHEAAAAAAAAD4f5qZmZmZmRdAAAAAAAAAHEAAAAAAAAD4f2ZmZmZmZhRAAAAAAAAAGEAAAAAAAAD4f2ZmZmZmZhZAAAAAAAAA+H8zMzMzMzMVQAAAAAAAAPh/AAAAAAAAGEAAAAAAAAD4fwAAAAAAAPh/ZmZmZmZmFEAAAAAAAAD4fwAAAAAAAPh/AAAAAAAA+H8AAAAAAAD4f2ZmZmZmZhJAAAAAAAAA+H8AAAAAAAD4fzMzMzMzMxVAAAAAAAAA+H8AAAAAAAD4fwAAAAAAAPh/AAAAAAAA+H8AAAAAAAD4fwAAAAAAAPh/",
          "dtype": "f8"
         },
         "xaxis": "x",
         "y": {
          "bdata": "AAAAAACIw0AAAAAAAAAAAAAAAAAAAAAAAAAAAAAAAAAAAAAAAAAAAAAAAAAAQG9AAAAAAAAAAAAAAAAAAAAAAAAAAAAAIKxAAAAAAAAAAAAAAAAAAAAAAAAAAAAAAAAAAAAAAAAAAAAAAAAAAAAAAAAAAAAAAAAAAAAAAAAAAAAAAAAAAAAAAAAAAAAATN1AAAAAAABwl0AAAAAAAAAAAAAAAAAAAAAAAAAAAAAA8D8AAAAAAAAAAAAAAAAAAAAAAAAAAAAAAAAAAAAAAAAAAAAAAAAAAAAAAAAAAAAAAAAAAAAAAAAAAAAAAAAAAABAAAAAAAAAAAAAAAAAAAAAAAAAAAAAAAAAAAAAAAAAUkAAAAAAAAAAAAAAAAAAAAAAAAAAAAAAAAAAAAAAAAAAAAAAAAAAAAAAAAAAAAAAAAAAAAAAAAAAAAAAAAAAAAAAAAAAAAAAAAAAAAAAAAAAAAAAAAAAQG1AAAAAAABogkAAAAAAAAAAAAAAAAAAAExAAAAAAAAAAAAAAAAAAAAAAAAAAAAAAAAAAAAAAAAAAAAAAAAAAAAAAAAAAAAAAAAAAAAAAAAAAAAAAAAAAAAAAAAAAAAAAAAAAAAAAAAAAAAAAAAAAAAAAAAAAAAAAAAAAAAAAAAAAAAAAAAAAAAAAAAAAAAAAAAAAAAAAAAAAAAAAAAAAAAAAAAAAAAAAAAAAAAAAAAAAAAAAAAAAAAAAAAAAAAAAAAAAAAAAAAAAAAAAAAAAAAAAAAAAAAAAAAAAAAAAAAAMEAAAAAAAAAAAAAAAAAAAAAAAAAAAAAAAAAAAAAAAAAAAAAAAAAAAAAAAAAAAAAAAAAAAAAAAAAAAAAAAAAAAAAAAAAAAAAAAAAAAAAAAAAAAAAAAAAAAAAAAAAAAAAAAAAAAAAAAAAAAAAAAAAAQFlAAAAAAAAAAAAAAAAAAAAAAAAAAAAAAAAAAAAAAABogUAAAAAAAOB1QAAAAAAAwGNAAAAAAACI80AAAAAAAAAAAAAAAAAAAAAAAAAAAAAAEEAAAAAAAAAQQAAAAAAAAAAAAAAAAAAAAAAAAAAAAAAAAAAAAAAAABhAAAAAAAAAMkAAAAAAAAAAAAAAAAAAAAAAAAAAAAAAAAAAAAAAAAAAAAAAAAAAAAAAAAAAAAAAAAAAAAAAAECfQAAAAAAAAAAAAAAAAAAAAAAAAAAAAAAAAAAAAAAAADNAAAAAAAAAAAAAAAAAAADwPwAAAAAAAAAAAAAAAAAAAAAAAAAAAAAAAAAAAAAAAAAA",
          "dtype": "f8"
         },
         "yaxis": "y"
        },
        {
         "hovertemplate": "<b>%{hovertext}</b><br><br>Country=CHILE<br>Magnitude do Terremoto=%{x}<br>Total de Mortes=%{y}<br>Maximum Water Height (m)=%{marker.size}<extra></extra>",
         "hovertext": [
          "NORTHERN CHILE",
          "CENTRAL CHILE",
          "SOUTHERN CHILE",
          "CENTRAL CHILE",
          "CENTRAL CHILE",
          "CENTRAL CHILE",
          "NORTHERN CHILE",
          "CENTRAL CHILE",
          "SC. CHILE",
          "CENTRAL CHILE",
          "NORTHERN CHILE",
          "SOUTHERN CHILE",
          "CENTRAL CHILE",
          "CENTRAL CHILE",
          "CENTRAL CHILE",
          "CENTRAL CHILE",
          "CENTRAL CHILE",
          "NORTHERN CHILE",
          "CENTRAL CHILE",
          "CENTRAL CHILE",
          "NORTHERN CHILE",
          "N. CENTRAL CHILE",
          "SC. CHILE",
          "NORTHERN CHILE",
          "NORTHERN CHILE",
          "CENTRAL CHILE",
          "CENTRAL CHILE",
          "CENTRAL CHILE",
          "SOUTHERN CHILE",
          "NORTHERN CHILE",
          "CENTRAL CHILE",
          "NORTHERN CHILE",
          "NORTHERN CHILE",
          "CENTRAL CHILE",
          "CENTRAL CHILE",
          "NORTHERN CHILE",
          "SOUTHERN CHILE",
          "NC. CHILE/ SC. CHILE",
          "NORTHERN CHILE",
          "NORTHERN CHILE",
          "NORTHERN CHILE",
          "NORTHERN CHILE",
          "NORTHERN CHILE",
          "CENTRAL CHILE",
          "NORTHERN CHILE",
          "NORTHERN CHILE",
          "CENTRAL CHILE",
          "NORTHERN CHILE",
          "CENTRAL CHILE",
          "NORTHERN CHILE",
          "NORTHERN CHILE",
          "NORTHERN CHILE",
          "NORTHERN CHILE",
          "NORTHERN CHILE",
          "CENTRAL CHILE",
          "CENTRAL CHILE",
          "CENTRAL CHILE",
          "NORTHERN CHILE",
          "NORTHERN CHILE",
          "CENTRAL CHILE",
          "NORTHERN CHILE",
          "NORTHERN CHILE",
          "SC. CHILE",
          "NORTHERN CHILE",
          "NORTHERN CHILE",
          "CENTRAL CHILE",
          "CENTRAL CHILE",
          "NORTHERN CHILE",
          "NORTHERN CHILE",
          "NORTHERN CHILE",
          "CENTRAL CHILE",
          "NORTHERN CHILE",
          "NORTHERN CHILE",
          "NORTHERN CHILE",
          "NORTHERN CHILE",
          "CENTRAL CHILE",
          "NORTHERN CHILE",
          "NORTHERN CHILE",
          "CENTRAL CHILE",
          "SAN FELIX ISLAND",
          "NORTHERN CHILE",
          "NORTHERN CHILE",
          "NORTHERN CHILE",
          "NORTHERN CHILE",
          "NORTHERN CHILE",
          "SOUTHERN CHILE",
          "NORTHERN CHILE",
          "NORTHERN CHILE",
          "CENTRAL CHILE",
          "NORTHERN CHILE",
          "NORTHERN CHILE",
          "CENTRAL CHILE",
          "NORTHERN CHILE",
          "NORTHERN CHILE",
          "NORTHERN CHILE",
          "CENTRAL CHILE",
          "NORTHERN CHILE",
          "NORTHERN CHILE",
          "SOUTHERN CHILE",
          "CENTRAL CHILE",
          "NORTHERN CHILE",
          "NORTHERN CHILE",
          "CENTRAL CHILE",
          "SOUTHERN CHILE",
          "SOUTHERN CHILE",
          "SOUTHERN CHILE",
          "CENTRAL CHILE",
          "CENTRAL CHILE",
          "NORTHERN CHILE",
          "NORTHERN CHILE",
          "NORTHERN CHILE",
          "CENTRAL CHILE",
          "SOUTHERN CHILE",
          "SOUTHERN CHILE",
          "SOUTHERN CHILE",
          "CENTRAL CHILE",
          "SOUTHERN CHILE",
          "NORTHERN CHILE",
          "CENTRAL CHILE",
          "SOUTHERN CHILE",
          "NORTHERN CHILE",
          "NORTHERN CHILE",
          "NORTHERN CHILE",
          "EASTER ISLAND REGION",
          "SOUTHERN CHILE",
          "NORTHERN CHILE",
          "NORTHERN CHILE",
          "CENTRAL CHILE",
          "CENTRAL CHILE",
          "CENTRAL CHILE",
          "CENTRAL CHILE",
          "SOUTHERN CHILE",
          "CENTRAL CHILE",
          "NORTHERN CHILE",
          "CENTRAL CHILE",
          "NORTHERN CHILE",
          "NORTHERN CHILE",
          "NORTHERN CHILE",
          "NORTHERN CHILE",
          "EASTER ISLAND REGION",
          "SOUTHERN CHILE",
          "NORTHERN CHILE",
          "CENTRAL CHILE",
          "CENTRAL CHILE",
          "CENTRAL CHILE",
          "NORTHERN CHILE",
          "NORTHERN CHILE",
          "NORTHERN CHILE",
          "EASTER ISLAND REGION",
          "CENTRAL CHILE",
          "CENTRAL CHILE",
          "SOUTHERN CHILE",
          "CENTRAL CHILE",
          "CENTRAL CHILE",
          "CENTRAL CHILE",
          "TODOS LOS SANTOS LAKE"
         ],
         "legendgroup": "CHILE",
         "marker": {
          "color": "#FFA15A",
          "size": {
           "bdata": "AAAAAAAAIEAAAAAAAAAgQAAAAAAAAAAAAAAAAAAAAAAAAAAAAAAMQAAAAAAAABBAAAAAAAAAEEDNzMzMzMwMQAAAAAAAAAAAAAAAAAAAOEAAAAAAAAAAAAAAAAAAABhAmpmZmZmZ6T8AAAAAAAAAAAAAAAAAAAAAAAAAAAAAFEAAAAAAAAAAAAAAAAAAAAhAAAAAAAAAAAAAAAAAAAAAAAAAAAAAABhAAAAAAAAAAAAAAAAAAAAAAAAAAAAAADJAw/UoXI/CxT8AAAAAAADwPwAAAAAAAPA/AAAAAAAAAAAAAAAAAAAAAAAAAAAAAAAAAAAAAAAACEAAAAAAAAAAAAAAAAAAAABAAAAAAAAA8D8AAAAAAAAAAAAAAAAAAAAAAAAAAAAAAAAAAAAAAAAAAAAAAAAAAAAAAAAAAAAAMkAAAAAAAAAAAAAAAAAAAAAAAAAAAAAA8D8AAAAAAAAAAAAAAAAAAAAAAAAAAAAAAAAAAAAAAAAAAAAAAAAAAAAAAAAAAAAAAAAAAAAAAAAAAAAAAAAAAAAAAAAAAAAAAAAAAAAAAAAAAAAAAAAAAAAAAAAAAAAAAAAAAAAAAAAAAAAAAAAAAAAAZmZmZmZm9j8AAAAAAAAAAAAAAAAAAAAAAAAAAAAAAAAAAAAAAADwPwAAAAAAAAAAAAAAAAAAAAAAAAAAAAAAAAAAAAAAAAAAAAAAAAAAAAAAAAAAAAAAAAAAAAAAAAAAAAAAAAAAAAAAAAAAAAAMQAAAAAAAAAAAAAAAAAAAAAAAAAAAAAAAAAAAAAAAABRAZmZmZmZm9j8AAAAAAAAAAAAAAAAAACJAAAAAAAAA+D8AAAAAAIBBQAAAAAAAAAAAAAAAAAAAAAAAAAAAAAAAAAAAAAAAAAAAAAAAAAAAAAAAAAAAAAAAAAAAAAAAAAAAAAAAAAAAAAAAAAAAAAD4PwAAAAAAAB5AAAAAAAAA8D8AAAAAAAAAAAAAAAAAAAAAAAAAAAAAAAAAAAAAAADwPwAAAAAAAAAAAAAAAAAAAAAAAAAAAAAAAAAAAAAAAAAAAAAAAAAA8D8AAAAAAAAAAAAAAAAAAAAAAAAAAAAAAAAAAAAAAAAAAAAAAAAAAAAAAAAAAAAAAAAAAAAAAAAAAAAAAAAAAPA/AAAAAAAAAAAAAAAAAAAAAAAAAAAAAAAAAAAAAAAA4D8AAAAAAAA5QAAAAAAAAAAAAAAAAAAAAAAAAAAAAAAAAAAAAAAAAE5AAAAAAAAAAAAAAAAAAAAAAAAAAAAAAAAA4XoUrkfh2j8AAAAAAAAAAAAAAAAAAAAAAAAAAAAAAAAAAAAAAAAAAAAAAAAAAAAAAAAAAAAAAAAzMzMzMzPjPwAAAAAAAAAAAAAAAAAAAACamZmZmZnJPwAAAAAAAAAAAAAAAAAAAACamZmZmZnJPwAAAAAAAAxAmpmZmZmZyT+amZmZmZm5PwAAAAAAAAhA7FG4HoXrsT8K16NwPQq3PwAAAAAAAElA7FG4HoXr0T8AAAAAAAA9QOxRuB6F68E/MzMzMzMzwz+kcD0K16PQP4XrUbgehRJArkfhehSu5z8UrkfhehTePzMzMzMzMytAmpmZmZmZ4T8pXI/C9SjcP3sUrkfhesQ/7FG4HoXrsT97FK5H4XrEP5qZmZmZmek/",
           "dtype": "f8"
          },
          "sizemode": "area",
          "sizeref": 1.3115,
          "symbol": "circle"
         },
         "mode": "markers",
         "name": "CHILE",
         "showlegend": true,
         "type": "scattergl",
         "x": {
          "bdata": "AAAAAAAA+H8zMzMzMzMiQAAAAAAAACBAAAAAAAAA+H8AAAAAAAAhQAAAAAAAAPh/AAAAAAAAIUAAAAAAAAAhQAAAAAAAAPh/ZmZmZmZmIEAAAAAAAAAeQAAAAAAAACFAAAAAAAAA+H8AAAAAAAD4fwAAAAAAAPh/AAAAAAAAHkBmZmZmZmYcQM3MzMzMzBxAAAAAAAAA+H8AAAAAAAAaQGZmZmZmZh5AAAAAAAAA+H8AAAAAAAD4fwAAAAAAACFAAAAAAAAAIUAAAAAAAAD4fwAAAAAAAPh/AAAAAAAA+H8AAAAAAAD4fwAAAAAAAPh/AAAAAAAA+H8zMzMzMzMbQAAAAAAAAB5AAAAAAAAAHkAAAAAAAAD4fwAAAAAAAPh/AAAAAAAA+H8AAAAAAAD4fwAAAAAAAPh/mpmZmZmZIEAAAAAAAAD4fwAAAAAAAPh/AAAAAAAA+H8AAAAAAAD4fwAAAAAAAPh/mpmZmZmZH0AAAAAAAAD4fwAAAAAAAPh/AAAAAAAA+H8AAAAAAAD4fwAAAAAAAPh/AAAAAAAA+H8AAAAAAAD4fwAAAAAAAPh/AAAAAAAA+H8AAAAAAAD4f83MzMzMzB5AAAAAAAAA+H8AAAAAAAD4fwAAAAAAAPh/AAAAAAAA+H8AAAAAAAD4fwAAAAAAAPh/AAAAAAAA+H8AAAAAAAD4fwAAAAAAABpAAAAAAAAA+H8AAAAAAAD4fwAAAAAAABpAAAAAAAAA+H9mZmZmZmYgQGZmZmZmZh5AMzMzMzMzHUCamZmZmZkfQDMzMzMzMx9AAAAAAAAAHEAAAAAAAAAcQAAAAAAAACFAAAAAAAAA+H8AAAAAAAD4fwAAAAAAABxAAAAAAAAA+H8AAAAAAAD4f2ZmZmZmZhxAAAAAAAAAGEBmZmZmZmYcQAAAAAAAAPh/ZmZmZmZmHEBmZmZmZmYeQAAAAAAAAPh/AAAAAAAAGEBmZmZmZmYcQGZmZmZmZh5AmpmZmZmZG0AzMzMzMzMdQJqZmZmZmSBAmpmZmZmZHUAzMzMzMzMdQAAAAAAAABxAZmZmZmZmIECamZmZmZkfQAAAAAAAABxAMzMzMzMzHUAzMzMzMzMfQDMzMzMzMx9AAAAAAAAAHEBmZmZmZmYeQGZmZmZmZhxAZmZmZmZmHEAAAAAAAAAcQAAAAAAAABxAZmZmZmZmIEAAAAAAAAAjQM3MzMzMzBpAmpmZmZmZHUAAAAAAAAAaQAAAAAAAAPh/AAAAAAAAHEAAAAAAAAAYQAAAAAAAABpAMzMzMzMzH0CamZmZmZkXQAAAAAAAAB5AAAAAAAAA+H8AAAAAAAAYQJqZmZmZmRlAAAAAAAAAGEAzMzMzMzMfQGZmZmZmZhpAmpmZmZmZFUDNzMzMzMwaQGZmZmZmZhxAmpmZmZmZG0DNzMzMzMweQAAAAAAAACBAZmZmZmZmHkDNzMzMzMwcQAAAAAAAACBAzczMzMzMGkCamZmZmZkbQM3MzMzMzBhAzczMzMzMHkCamZmZmZkhQJqZmZmZmRtAMzMzMzMzG0DNzMzMzMwaQGZmZmZmZiBAzczMzMzMHkAAAAAAAAAcQJqZmZmZmSBAmpmZmZmZG0BmZmZmZmYeQJqZmZmZmRtAmpmZmZmZGUDNzMzMzMwaQAAAAAAAAPh/",
          "dtype": "f8"
         },
         "xaxis": "x",
         "y": {
          "bdata": "AAAAAAAAAAAAAAAAAAAUQAAAAAAAAAAAAAAAAAAAAAAAAAAAAEBQQAAAAAAAAAAAAAAAAAAAAAAAAAAAAABSQAAAAAAAAAAAAAAAAACASkAAAAAAAAAAAAAAAAAAADBAAAAAAAAAAAAAAAAAAAAAAAAAAAAAAAAAAAAAAAAAAAAAAAAAAAAAAAAAAAAAAAAAAAAAAAAAAAAAAAAAAAAAAAAAAAAAACRAAAAAAAAAAAAAAAAAAAAAAAAAAAAAathAAAAAAAAAAAAAAAAAAAAAAAAAAAAAAAAAAAAAAAAAAAAAAAAAAAAAAAAAAAAAAAAAAAAAAAAAAAAAAAAAAAAAAAAAAAAAAAAAAAAAAAAAAAAAAAAAAAAAAAAAAAAAAAAAAAAAAAAAAAAAAAAAAAAAAAAAAAAAAAAAAAAAAACiokAAAAAAAAAAAAAAAAAAAAAAAAAAAAAAAAAAAAAAAAAAAAAAAAAAAAAAAAAAAAAAAAAAAAAAAAAAAAAAAAAAAAAAAAAAAAAAAAAAAAAAAAAAAAAAAAAAAAAAAAAAAAAAAAAAAAAAAAAAAAAAAAAAAAAAAAAAAAAAAAAAAAAAAAAAAAAAAAAAAABAAAAAAAAAAAAAAAAAAAAAAAAAAAAAAAAAAAAAAAAAAAAAAAAAAAAAAAAAAAAAAAAAAAAAAAAAAAAAAAAAAAAAAAAAAAAAABhAAAAAAAAAAAAAAAAAAAAAAAAAAAAAAAAAAAAAAAAAAAAAAAAAAECvQAAAAAAAAAAAAAAAAAAAAAAAAAAAAAAAAAAAAAAAAAAAAAAAAAAAAAAAAAAAAAAAAAAAAAAA4IVAAAAAAAAAAAAAAAAAAAAAAAAAAAAAAAAAAAAAAAAAAAAAAAAAAAAAAAAAAAAAAAAAAAAAAAAAAAAAAAAAAAAAAAAAAAAAAAAAAAAAAAAAAAAAAAAAAHBxQAAAAAAAAAAAAAAAAAAAAAAAAAAAAAAAAAAAAAAAAAAAAAAAAAAAAAAAAAAAAADwPwAAAAAATN1AAAAAAAAAAAAAAAAAAAAAAAAAAAAAAAAAAAAAAAAAJkAAAAAAAAAAQAAAAAAAAAAAAAAAAAAAAAAAAAAAAADwPwAAAAAAAAhAAAAAAAAAAAAAAAAAAAAiQAAAAAAAAPA/AAAAAAAAAAAAAAAAAAAAAAAAAAAAAAAAAAAAAAAAAAAAAAAAAGShQAAAAAAAAAAAAAAAAAAAAAAAAAAAAAAAAAAAAAAAADtAAAAAAAAAAAAAAAAAAAAAAAAAAAAAAAAAAAAAAAAACEAAAAAAAAAAAAAAAAAAAPA/AAAAAAAAAAAAAAAAAAAAAAAAAAAAAAAAAAAAAAAAAAAAAAAAAMBUQAAAAAAAAAAAAAAAAAAAAAAAAAAAAAAAAAAAAAAAAAAAAAAAAAAAAEAAAAAAAAAUQAAAAAAAgGZAAAAAAAAA8D8AAAAAAAAAAAAAAAAAAAhAAAAAAAAAAAAAAAAAAAAAAAAAAAAAACRAAAAAAAAAAEAAAAAAAHCBQAAAAAAAAAAAAAAAAAAAAAAAAAAAAAAAAAAAAAAAABxAAAAAAAAAAAAAAAAAAAAAAAAAAAAAAC5AAAAAAAAAAAAAAAAAAAAAAAAAAAAAAAAAAAAAAAAAAAAAAAAAAAAAAAAAAAAAAAAA",
          "dtype": "f8"
         },
         "yaxis": "y"
        },
        {
         "hovertemplate": "<b>%{hovertext}</b><br><br>Country=SPAIN<br>Magnitude do Terremoto=%{x}<br>Total de Mortes=%{y}<br>Maximum Water Height (m)=%{marker.size}<extra></extra>",
         "hovertext": [
          "TENERIFE, CANARY ISLANDS",
          "BALEARIC ISLANDS",
          "CORUNA",
          "BALEARES",
          "ALBORAN SEA",
          "SEA OF ALBORAN",
          "OFF SOUTHERN COAST",
          "TENERIFE, CANARY ISLANDS",
          "CADIZ",
          "CIUTADELLA, MENORCA ISLAND",
          "MEDITERRANEAN AND BLACK SEAS",
          "BALEARIC ISLANDS",
          "VALLE GRAN REY, LA GOMERA ISLAND"
         ],
         "legendgroup": "SPAIN",
         "marker": {
          "color": "#19d3f3",
          "size": {
           "bdata": "AAAAAAAAAAAAAAAAAAAAAAAAAAAAAAAAAAAAAAAAAAAAAAAAAAAAAAAAAAAAAAAAAAAAAAAAAAAAAAAAAAAYQLgehetRuL4/AAAAAAAAGEAAAAAAAAAEQAAAAAAAAOg/AAAAAAAA4D8=",
           "dtype": "f8"
          },
          "sizemode": "area",
          "sizeref": 1.3115,
          "symbol": "circle"
         },
         "mode": "markers",
         "name": "SPAIN",
         "showlegend": true,
         "type": "scattergl",
         "x": {
          "bdata": "AAAAAAAA+H8AAAAAAAD4fwAAAAAAAPh/AAAAAAAA+H/NzMzMzMwaQAAAAAAAAPh/AAAAAAAA+H8AAAAAAAD4f5qZmZmZmRFAAAAAAAAA+H8AAAAAAAD4fwAAAAAAAPh/AAAAAAAA+H8=",
          "dtype": "f8"
         },
         "xaxis": "x",
         "y": {
          "bdata": "AAAAAAAAAAAAAAAAAAAAAAAAAAAAAAAAAAAAAAAAAAAAAAAAAAAAQAAAAAAAAAAAAAAAAAAAAAAAAAAAAAAAAAAAAAAAAAAAAAAAAAAAAAAAAAAAAAAAAAAAAAAAAPA/AAAAAAAAAAA=",
          "dtype": "f8"
         },
         "yaxis": "y"
        },
        {
         "hovertemplate": "<b>%{hovertext}</b><br><br>Country=INDONESIA<br>Magnitude do Terremoto=%{x}<br>Total de Mortes=%{y}<br>Maximum Water Height (m)=%{marker.size}<extra></extra>",
         "hovertext": [
          "BANDA SEA",
          "BANDA SEA",
          "BANDA SEA",
          "BANDA SEA",
          "BANDA SEA",
          "JAKARTA",
          "BANDA SEA",
          "N. MOLUCCAS ISLANDS",
          "AMBON ISLAND",
          "SW. SUMATRA",
          "TAMBORA",
          "AMBON ISLAND",
          "BALI SEA",
          "MALACCA STRAIT",
          "BENGKULU, SUMATRA",
          "BALI SEA",
          "FLORES SEA",
          "JAVA",
          "FLORES SEA",
          "SW. SUMATRA",
          "FLORES SEA",
          "FLORES SEA",
          "BANDA ACEH",
          "JAVA",
          "N. MOLUCCAS ISLANDS",
          "MOLUCCAS ISLANDS",
          "BANDA SEA",
          "SW. SUMATRA",
          "BALI SEA",
          "CELEBES SEA",
          "TERNATE ISLAND, N. MOLUCCAS ISLANDS",
          "LAMPUNG BAY",
          "JAVA",
          "BANDA SEA",
          "SIBOLGA, SUMATRA",
          "BANDA SEA",
          "AMBON ISLAND, BANDA SEA",
          "BANDA SEA",
          "BANDA SEA",
          "BANDANEIRA",
          "BANDA SEA",
          "N. MOLUCCAS ISLANDS",
          "FLORES ISLAND",
          "SANGIHE ISLAND",
          "JAVA-FLORES SEA",
          "BALI SEA",
          "KEMA, SULAWESI I, N. MOLUCCAS IS",
          "KEMA, SULAWESI I, N. MOLUCCAS IS",
          "N. MOLUCCAS ISLANDS",
          "N. MOLUCCAS ISLANDS",
          "LONTOR ISLAND, BANDA SEA",
          "N. MOLUCCAS ISLANDS",
          "BANDA SEA",
          "SOUTH OF JAVA",
          "N. MOLUCCAS ISLANDS",
          "N. MOLUCCAS ISLANDS",
          "N. MOLUCCAS ISLANDS",
          "CERAM SEA",
          "SW. SUMATRA",
          "WANAIDJAS",
          "SW. SUMATRA",
          "SW. SUMATRA",
          "JAVA",
          "SW. SUMATRA",
          "SW. SUMATRA",
          "CHERIBON DISTRICT, JAVA",
          "JAVA",
          "SW. SUMATRA",
          "NW. IRIAN JAYA",
          "JAVA",
          "RUANG",
          "N. MOLUCCAS ISLANDS",
          "CERAM SEA",
          "BANDA SEA",
          "HORN ISLAND [AYER ISLAND], JAKARTA",
          "BANKA ISLAND",
          "KRAKATAU",
          "JAVA-S. JAVA",
          "MOLUCCAS ISLANDS",
          "AJERBANGIS, SUMATRA",
          "SULAWESI ISLAND",
          "BANDA ACEH",
          "BANDA ACEH",
          "SIGLI, ACEH, SUMATRA",
          "BREUEH ISLAND",
          "JAVA-S. JAVA",
          "N. MOLUCCAS ISLANDS",
          "MOLUCCAS ISLANDS",
          "JAVA",
          "SIGLI, ACEH, SUMATRA",
          "N. MOLUCCAS ISLANDS",
          "BANDA SEA",
          "TIMOR SEA",
          "AURI, HALMAHERA",
          "NORTHEAST SUMATRA",
          "AWU VOLCANO, SANGIHE ISLAND",
          "SERAM ISLAND",
          "TIMOR ISLAND",
          "SW. SUMATRA",
          "FLORES SEA",
          "BANDA SEA",
          "GALELA, HALMAHERA ISLAND",
          "BISMARCK SEA",
          "BANDA SEA",
          "CELEBES SEA",
          "BANDA SEA",
          "S. JAVA",
          "NW. SUMATRA",
          "KARAKELONG, TALAUD ISLANDS",
          "SW. SUMATRA",
          "TIMOR SEA",
          "SUMATRA",
          "SULAWESI",
          "SANGIHE ISLAND",
          "INDONESIA",
          "NW. IRIAN JAYA",
          "INDONESIA",
          "AMBON ISLAND",
          "KAIMANA",
          "NW. IRIAN JAYA",
          "CELEBES SEA",
          "BALI SEA",
          "JAVA SEA",
          "BANDA SEA",
          "SULAWESI",
          "TIMOR SEA",
          "SULAWESI",
          "NW. IRIAN JAYA",
          "N. MOLUCCAS ISLANDS",
          "MAKASSAR STRAIT",
          "JAVA",
          "BANDA SEA",
          "SW. SUMATRA",
          "LHOKNGA, ACEH",
          "BANDA SEA",
          "SW. SUMATRA",
          "SULAWESI",
          "KRAKATAU",
          "FLORES SEA",
          "TJALANG, N.W. SUMATRA",
          "KRAKATAU",
          "SOUTH OF JAVA",
          "SOUTH OF JAVA",
          "CELEBES SEA",
          "SW. SUMATRA",
          "BANDA SEA",
          "CELEBES SEA",
          "SW. SUMATRA",
          "SULAWESI",
          "OFF NORTHWEST COAST",
          "BANDA SEA",
          "BANDA SEA",
          "BANDA SEA",
          "MAKASSAR STRAIT",
          "N. MOLUCCAS ISLANDS",
          "OFF NORTHWEST COAST",
          "BANDA ACEH",
          "BANDA SEA",
          "NW. IRIAN JAYA",
          "SOUTH OF JAVA",
          "MAKASSAR STRAIT",
          "BENGKULU, SUMATRA",
          "LESSER SUNDA: BALI: AGUNG VOLCANO",
          "JAVA",
          "OFF NORTHWEST COAST OF INDONESIA",
          "SANANA ISLAND",
          "MAKASSAR STRAIT",
          "NORTHEAST SUMATRA",
          "N. MOLUCCAS ISLANDS",
          "BANDA SEA",
          "MAKASSAR STRAIT",
          "BANDA SEA",
          "SANANA ISLAND",
          "SUNDA ISLANDS",
          "LOMBLEN ISLAND [LEMBATA]",
          "LOMBLEN ISLAND [LEMBATA]",
          "IRIAN JAYA",
          "KRAKATAU",
          "JAVA TRENCH",
          "SUMBAWA ISLAND",
          "FLORES SEA",
          "BANDA SEA",
          "LESSER SUNDA ISLANDS",
          "SULAWESI",
          "BALI ISLAND",
          "TIMOR SEA",
          "FLORES SEA",
          "HALMAHERA",
          "SOUTHERN SUMATRA",
          "SOUTH OF JAVA",
          "SOUTH OF JAVA",
          "SOUTH OF JAVA",
          "SOUTH OF JAVA",
          "HALMAHERA",
          "TIMOR SEA",
          "SULAWESI",
          "IRIAN JAYA",
          "TALIABU ISLAND",
          "SULAWESI",
          "IRIAN JAYA",
          "SERAM ISLAND",
          "KEPULAUAN ALOR",
          "OFF W. COAST OF SUMATRA",
          "INDONESIA",
          "KEPULAUAN MENTAWAI",
          "SERAM ISLAND",
          "SOUTH OF JAVA",
          "SUMATRA",
          "SUMATRA",
          "SULAWESI",
          "NEAR NORTH COAST",
          "NEAR NORTH COAST",
          "CELEBES SEA",
          "SUMATRA",
          "JAVA SEA",
          "SUMATRA",
          "SUMATRA",
          "SUMATRA",
          "OFF W. COAST OF N SUMATRA",
          "OFF W. COAST OF N SUMATRA",
          "N. MOLUCCAS ISLANDS",
          "SW. SUMATRA",
          "BALI SEA",
          "BALI SEA",
          "BALI SEA",
          "SULAWESI",
          "KRAKATAU",
          "W. JAVA",
          "N. MOLUCCAS ISLANDS",
          "LESSER SUNDA: BALI: IJEN VOLCANO",
          "BANDA SEA",
          "FLORES SEA",
          "SW. SUMATRA",
          "SOUTH MALUKU",
          "SW. SUMATRA"
         ],
         "legendgroup": "INDONESIA",
         "marker": {
          "color": "#FF6692",
          "size": {
           "bdata": "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",
           "dtype": "f8"
          },
          "sizemode": "area",
          "sizeref": 1.3115,
          "symbol": "circle"
         },
         "mode": "markers",
         "name": "INDONESIA",
         "showlegend": true,
         "type": "scattergl",
         "x": {
          "bdata": "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",
          "dtype": "f8"
         },
         "xaxis": "x",
         "y": {
          "bdata": "AAAAAAAAAAAAAAAAAAAAAAAAAAAAAABAAAAAAAAAEEAAAAAAAAAAAAAAAAAAAAAAAAAAAAAAHEAAAAAAAADwPwAAAAAAAAAAAAAAAADAckAAAAAAAEztQAAAAAAAAAAAAAAAAIBexkAAAAAAAAAAAAAAAAAAAAAAAAAAAAAAAAAAAAAAAEB/QAAAAAAAAAAAAAAAAAAAAAAAAAAAAAAAAAAAAAAAAAAAAAAAAAAAAAAAAAAAAAAAAAAAAAAAAAAAAAAAAAAAAAAAAAAAAAAAAAAAAAAAAAAAAAAAAAAAAAAAAAAAAAAAAAAAAAAAgF1AAAAAAAAAAAAAAAAAAAAAAAAAAAAAAAAAAAAAAAAAAAAAAAAAAAAAAAAAAAAAAAAAAAAAAAAAAAAAAAAAAAAAAAAAAAAAAE5AAAAAAAAAAAAAAAAAAAAAAAAAAAAAAAAAAAAAAAAAAAAAAAAAAOylQAAAAAAAAAAAAAAAAAAAQkAAAAAAAAAAAAAAAAAAAAAAAAAAAAAAAAAAAAAAAAAAAAAAAAAAAAAAAAAAAAAAAAAAAAAAAAAAAAAAAAAAAABAAAAAAAAAAAAAAAAAAAAAAAAAAAAAAAAAAAAAAAAAAAAAAAAAAESRQAAAAAAAAAAAAAAAAACwjUAAAAAAAAAAAAAAAAAAAAAAAAAAAAAAAAAAAAAAAAAAAAAAAAAAAAAAAAAAAAAAAAAAAAAAAAAAAAAAAAAAQG9AAAAAAAAAFEAAAAAAAAB5QAAAAAAAAAAAAAAAAAAAAAAAAAAAAAAAAAAAAAAAAAAAAAAAAAAAAAAAAAAAIMjhQAAAAAAAAAAAAAAAAAAAAAAAAAAAAAAAAAAAAAAAAAAAAAAAAAAAAAAAAAAAAAAAAAAAAAAAAAAAAAAAAAAAAAAAAAAAAAAAAAAAAAAAAAAAAAAAAAAAAAAAAAAAAAAAAAAAAAAAAAAAAAAAAAAAAAAAAAAAAAAAAAAAAAAAAAAAAAAAAAAAAAAAAAAAAAAAAAAAAAAA8JdAAAAAAAAAAAAAAAAAAEBvQAAAAAAAAAAAAAAAAAAAAAAAAAAAADijQAAAAAAAAAAAAAAAAAAAFEAAAAAAAAAAAAAAAAAAAAAAAAAAAAAAAAAAAAAAAAAAAAAAAAAAGKFAAAAAAAAAAAAAAAAAAAAAAAAAAAAAAAAAAAAAAAAAAAAAAAAAAAAAAAAAAAAAQGFAAAAAAAAAAAAAAAAAAAAAAAAAAAAAADRAAAAAAAAAAAAAAAAAAAAAAAAAAAAAAAAAAAAAAAAAAAAAAAAAAHCXQAAAAAAAAAAAAAAAAAAAAAAAAAAAAAAAAAAAAAAAAAAAAAAAAAAAAAAAAAAAAAAAAAAAAAAAAAAAAAAAAAAAAAAAAAAAAAAAAAAAAAAAAAAAAAAAAAAAAAAAAAAAAAAAAAAAAAAAAAAAAAAAAAAAAAAAAAAAAABJQAAAAAAAAAAAAAAAAABAbEAAAAAAAAAYQAAAAAAAAAAAAAAAAAAAAAAAAAAAAAAAAAAAAAAAAAAAAAAAAAAAAAAAAAAAAAAAAAAAAAAAAAAAAAAAAAAAAAAAAAAAAAAAAAAAAAAAACJAAAAAAAAAAAAAAAAAAAAAAAAAAAAAAAAAAAAAAAAAMUAAAAAAAAAAAAAAAAAAAAAAAAAAAAAAAAAAAAAAAADwPwAAAAAAAAAAAAAAAAAAAAAAAAAAAAAAAAAAAAAAAAAAAAAAAAAQkEAAAAAAAAAAAAAAAAAAAAAAAAAAAADAUUAAAAAAAMBRQAAAAAAAACxAAAAAAAAAAAAAAAAAAABpQAAAAAAAwIRAAAAAAAAAAAAAAAAAAAAAAAAAAAAAoGdAAAAAAABck0AAAAAAAAAAAAAAAAAAwFxAAAAAAAAAAAAAAAAAAAAAAAAAAAAAAAAAAAAAAAAAKkAAAAAAAAAAAAAAAAAAAAAAAAAAAAAAAEAAAAAAAAAAAAAAAAAAAAAAAAAAAACIo0AAAAAAAAAiQAAAAAAAAAAAAAAAAADAbUAAAAAAAAAAAAAAAAAAAAAAAAAAAAAAAAAAAAAAAADwPwAAAAAAACZAAAAAAAAAIkAAAAAAAIBkQAAAAAAAgERAAAAAAAAAS0AAAAAAAAAgQAAAAAAAAAAAAAAAAAAAQUAAAAAA2NELQQAAAAAAnJRAAAAAAAAAAAAAAAAAAAAQQAAAAAAAEIlAAAAAAAAAOUAAAAAAAAAAAAAAAAAAABhAAAAAAAAAFEAAAAAAAAAAAAAAAAAAAAAAAAAAAAAAAAAAAAAAAEBUQAAAAAAAdJFAAAAAAAAAAAAAAAAAAPB6QAAAAAAAACRAAAAAAAAAAAAAAAAAAAAAAAAAAAAAAAAAAAAAAAAAMUAAAAAAAICBQAAAAAAAAABAAAAAAAD0sEAAAAAAAFB7QAAAAAAAACBAAAAAAAAA8D8AAAAAAADwPwAAAAAAAAAAAAAAAAAAAAAAAAAAAAAAAAAAAAAAAPA/AAAAAAAAAAA=",
          "dtype": "f8"
         },
         "yaxis": "y"
        },
        {
         "hovertemplate": "<b>%{hovertext}</b><br><br>Country=CHINA<br>Magnitude do Terremoto=%{x}<br>Total de Mortes=%{y}<br>Maximum Water Height (m)=%{marker.size}<extra></extra>",
         "hovertext": [
          "HUNAN PROVINCE",
          "SOUTH CHINA SEA",
          "YUNNAN PROVINCE",
          "BOHAI GULF",
          "SOUTH CHINA SEA",
          "GUANGDONG PROVINCE",
          "YUNNAN PROVINCE",
          "CHINA: GANSU AND SHANXI PROVINCES",
          "XIAOSI, DANDONG, LIAONING",
          "JIANGSU PROVINCE",
          "SICHUAN PROVINCE",
          "SHANDONG PROVINCE",
          "CHINA: GANSU AND SHANXI PROVINCES",
          "CHINA: GANSU AND SHANXI PROVINCES",
          "JINSHA RIVER, YUNNAN PROVINCE",
          "SICHUAN PROVINCE",
          "BOHAI SEA",
          "QUYUAN, ZIGUI COUNTY",
          "SOUTH CHINA SEA",
          "QINGGAN RIVER, HUBEI PROVINCE",
          "DAYANTANG, ENSHI",
          "SICHUAN PROVINCE",
          "WU GORGE, WUSHAN COUNTY",
          "XIAOWAN RESERVOIR, YUNNAN PROVINCE",
          "ZHAOJUN BRIDGE, HUBEI PROVINCE",
          "WUSHAN, CHONGQING",
          "BAIGE (JINSHA RIVER)"
         ],
         "legendgroup": "CHINA",
         "marker": {
          "color": "#B6E880",
          "size": {
           "bdata": "AAAAAAAAAEAAAAAAAAAAAAAAAAAAAAAAAAAAAAAAAAAAAAAAAAAAAAAAAAAAAAAAAAAAAAAAAAAAAAAAAADoPwAAAAAAAAAAAAAAAAAAAAAAAAAAAAAAAAAAAAAAAAhAAAAAAAAAAEAAAAAAAAAAAAAAAAAAAPA/AAAAAAAAAACamZmZmZm5PwAAAAAAAEtAmpmZmZmZ6T8AAAAAAIBDQAAAAAAAAElAAAAAAAAAAAAzMzMzMzMqQAAAAAAAAD5AzczMzMzMFEDNzMzMzMwYQAAAAAAAAAAA",
           "dtype": "f8"
          },
          "sizemode": "area",
          "sizeref": 1.3115,
          "symbol": "circle"
         },
         "mode": "markers",
         "name": "CHINA",
         "showlegend": true,
         "type": "scattergl",
         "x": {
          "bdata": "AAAAAAAAFkAAAAAAAAD4fwAAAAAAACBAAAAAAAAAHkAAAAAAAAAaQAAAAAAAAB5AAAAAAAAAFkCamZmZmZkgQAAAAAAAAPh/AAAAAAAAFkAAAAAAAAAYQAAAAAAAABhAMzMzMzMzGUAzMzMzMzMdQDMzMzMzMxtAzczMzMzMGECamZmZmZkdQAAAAAAAAPh/mpmZmZmZDUAAAAAAAAD4fwAAAAAAAPh/mpmZmZmZH0AAAAAAAAD4fwAAAAAAAPh/AAAAAAAA+H8AAAAAAAD4fwAAAAAAAPh/",
          "dtype": "f8"
         },
         "xaxis": "x",
         "y": {
          "bdata": "AAAAAAAAAAAAAAAAAAAAAAAAAAAALLpAAAAAAAAAAAAAAAAAAAAAAAAAAAAAQJ9AAAAAAAAAAAAAAAAAAAAAAAAAAAAAAAAAAAAAAAAAAAAAAAAAAABZQAAAAAAAAAAAAAAAAAAAAAAAAAAAAAAAAAAAAAAAAAAAAAAAAAAAAAAAAAAAAAAkQAAAAAAAACRAAAAAAAAAAAAAAAAAAAA4QAAAAAAAACBAAAAAAEBm9UAAAAAAAAAAAAAAAAAAAABAAAAAAAAAAAAAAAAAAAAAQAAAAAAAAAAA",
          "dtype": "f8"
         },
         "yaxis": "y"
        },
        {
         "hovertemplate": "<b>%{hovertext}</b><br><br>Country=MYANMAR (BURMA)<br>Magnitude do Terremoto=%{x}<br>Total de Mortes=%{y}<br>Maximum Water Height (m)=%{marker.size}<extra></extra>",
         "hovertext": [
          "AVA (INNWA)",
          "MYANMAR COAST"
         ],
         "legendgroup": "MYANMAR (BURMA)",
         "marker": {
          "color": "#FF97FF",
          "size": {
           "bdata": "AAAAAAAAAAD2KFyPwvXwPw==",
           "dtype": "f8"
          },
          "sizemode": "area",
          "sizeref": 1.3115,
          "symbol": "circle"
         },
         "mode": "markers",
         "name": "MYANMAR (BURMA)",
         "showlegend": true,
         "type": "scattergl",
         "x": {
          "bdata": "AAAAAAAA+H+amZmZmZkdQA==",
          "dtype": "f8"
         },
         "xaxis": "x",
         "y": {
          "bdata": "AAAAAAAAAAAAAAAAAEB/QA==",
          "dtype": "f8"
         },
         "yaxis": "y"
        },
        {
         "hovertemplate": "<b>%{hovertext}</b><br><br>Country=PERU<br>Magnitude do Terremoto=%{x}<br>Total de Mortes=%{y}<br>Maximum Water Height (m)=%{marker.size}<extra></extra>",
         "hovertext": [
          "PERU",
          "S. PERU",
          "CENTRAL PERU",
          "S. PERU",
          "CENTRAL PERU",
          "CENTRAL PERU",
          "S. PERU",
          "CENTRAL PERU",
          "CENTRAL PERU",
          "PERU",
          "CENTRAL PERU",
          "CENTRAL PERU",
          "CALLAO",
          "CENTRAL PERU",
          "PERU-NORTHERN CHILE",
          "S. PERU",
          "PERU",
          "S. PERU",
          "S. PERU",
          "S. PERU",
          "S. PERU",
          "CENTRAL PERU",
          "CENTRAL PERU",
          "CENTRAL PERU",
          "S. PERU",
          "S. PERU",
          "S. PERU",
          "S. PERU",
          "CENTRAL PERU",
          "S. PERU",
          "S. PERU",
          "S. PERU",
          "S. PERU",
          "N. PERU",
          "CENTRAL PERU",
          "S. PERU",
          "S. PERU",
          "S. PERU",
          "CENTRAL PERU",
          "N. PERU",
          "PERU",
          "N. PERU",
          "S. PERU",
          "N. PERU",
          "CENTRAL PERU",
          "CENTRAL PERU",
          "CENTRAL PERU",
          "N. PERU",
          "CHUNGAR",
          "CENTRAL PERU",
          "N. PERU",
          "S. PERU",
          "S. PERU",
          "S. PERU",
          "513 LAKE, HUALCAN GLACIER",
          "S. PERU",
          "S. PERU",
          "PERU-ECUADOR-CHILE"
         ],
         "legendgroup": "PERU",
         "marker": {
          "color": "#FECB52",
          "size": {
           "bdata": "AAAAAAAAAAAAAAAAAAAAQAAAAAAAADhAAAAAAAAAAAAAAAAAAADwPwAAAAAAAAAAAAAAAAAAIkAAAAAAAAAAAAAAAAAAAABAAAAAAAAAAAAAAAAAAAAAAAAAAAAAAABAAAAAAAAAAAAAAAAAAAAAAAAAAAAAAAAAAAAAAAAAAAAAAAAAAAAAAAAAAAAAAAAAAAAAAAAAAAAAAAAAAAAAAAAAAAAAAAAAAAAAAAAAAAAAAAAAAAAAAAAAAAAAAAAAAAAAAAAAAAAAAAAAAAAAAAAAAAAAAAAAAAAAAAAAAAAAAAAAAADwPwAAAAAAAAAAAAAAAAAAAAAAAAAAAAAAAAAAAAAAAAAAAAAAAAAAAAAAAAAAAAAAQAAAAAAAAABAAAAAAAAAAABmZmZmZmbmP2ZmZmZmZuY/AAAAAAAA8D8AAAAAAAAAAJqZmZmZmdk/zczMzMzMFkAAAAAAAAAiQAAAAAAAAAAAAAAAAAAACEAAAAAAAAAAQHE9CtejcN0/AAAAAAAAPkBxPQrXo3DtPylcj8L1KBRAmpmZmZmZ2T+amZmZmZkhQJqZmZmZGSRAAAAAAAAAN0AzMzMzMzPDP5qZmZmZmck/AAAAAAAAEEA=",
           "dtype": "f8"
          },
          "sizemode": "area",
          "sizeref": 1.3115,
          "symbol": "circle"
         },
         "mode": "markers",
         "name": "PERU",
         "showlegend": true,
         "type": "scattergl",
         "x": {
          "bdata": "AAAAAAAAHkAAAAAAAAD4fwAAAAAAACBAAAAAAAAAIEAAAAAAAAAeQJqZmZmZmSBAzczMzMzMHkAAAAAAAAD4fwAAAAAAAPh/AAAAAAAA+H8AAAAAAAD4fwAAAAAAAPh/AAAAAAAA+H8AAAAAAAD4fwAAAAAAAPh/AAAAAAAA+H8AAAAAAAD4fwAAAAAAABpAAAAAAAAA+H8AAAAAAAAcQAAAAAAAABpAAAAAAAAA+H8AAAAAAAD4fwAAAAAAAPh/mpmZmZmZH0AAAAAAAAD4fwAAAAAAABxAmpmZmZmZH0AAAAAAAAD4f83MzMzMzBxAzczMzMzMHECamZmZmZkbQDMzMzMzMxtAAAAAAAAAHEBmZmZmZmYgQGZmZmZmZiBAAAAAAAAAHEAAAAAAAAAcQAAAAAAAABZAmpmZmZmZHUAAAAAAAAD4f5qZmZmZmR1AMzMzMzMzH0AzMzMzMzMbQAAAAAAAABxAMzMzMzMzIEAAAAAAAAAcQJqZmZmZmR9AAAAAAAAA+H8zMzMzMzMgQAAAAAAAAB5AzczMzMzMHkDNzMzMzMwgQAAAAAAAACBAAAAAAAAA+H9mZmZmZmYcQM3MzMzMzBxAAAAAAAAA+H8=",
          "dtype": "f8"
         },
         "xaxis": "x",
         "y": {
          "bdata": "AAAAAAAAAAAAAAAAAAAAAAAAAAAANbdAAAAAAADwd0AAAAAAAAAAAAAAAAAAAAAAAAAAAADghUAAAAAAAAAAAAAAAAAAAAAAAAAAAAAAAAAAAAAAAAAAAAAAAAAAABRAAAAAAAAAAAAAAAAAAAAAAAAAAAAAAAAAAAAAAAAAAAAAAAAAAAAAAAAAAAAAAAAAAAAAAAAAAAAAAAAAAAAAAAAAAAAAAAAAAAAAAAAAAAAAAAAAAAAUQAAAAAAAAAAAAAAAAAAAAAAAAAAAAAAAAAAAAAAAAAAAAAAAAAAAAAAAAAAAAAAAAAAAAAAAAAAAAAAAAAAAAAAAAAAAAAAkQAAAAAAAAAAAAAAAAAAAAAAAAAAAAGBmQAAAAAAAAD5AAAAAAAAAAAAAAAAAAAAQQAAAAAAAAAAAAAAAAAAAGEAAAAAAAAAAAAAAAAAAAAAAAAAAAAAAAAAAAAAAAIBQQAAAAAAAAPA/AAAAAACAW0AAAAAAAAAAAAAAAACgTvBAAAAAAADAgkAAAAAAAIBTQAAAAAAAAChAAAAAAAAALEAAAAAAAMBZQAAAAAAAEIBAAAAAAAAA8D8AAAAAAAAAAAAAAAAAAAAAAAAAAAAACEA=",
          "dtype": "f8"
         },
         "yaxis": "y"
        },
        {
         "hovertemplate": "<b>%{hovertext}</b><br><br>Country=PHILIPPINES<br>Magnitude do Terremoto=%{x}<br>Total de Mortes=%{y}<br>Maximum Water Height (m)=%{marker.size}<extra></extra>",
         "hovertext": [
          "TAAL, LUZON ISLAND",
          "E. LUZON ISLAND",
          "TAAL, LUZON ISLAND",
          "TAAL, LUZON ISLAND",
          "LUZON ISLAND",
          "W. LUZON ISLAND",
          "W. LUZON ISLAND",
          "W. LUZON ISLAND",
          "W. LUZON ISLAND",
          "PHILIPPINE SEA",
          "W. LUZON ISLAND",
          "W. LUZON ISLAND",
          "W. LUZON ISLAND",
          "SULU SEA",
          "PHILIPPINES",
          "SULU SEA",
          "SULU SEA",
          "PHILIPPINES",
          "E. LUZON ISLAND",
          "PANAY ISLAND",
          "MINDORO ISLAND",
          "AGUSAN RIVER",
          "CELEBES SEA",
          "SAMAR SEA",
          "SULU SEA",
          "SULU SEA",
          "SAMAR ISLAND",
          "E. LUZON ISLAND",
          "ILLANA BAY, CELEBES SEA",
          "W. LUZON ISLAND",
          "SULU SEA",
          "TAAL, LUZON ISLAND",
          "PHILIPPINE TRENCH",
          "W. LUZON ISLAND",
          "CELEBES SEA",
          "CELEBES SEA",
          "MINDANAO ISLAND, PHILIPPINES",
          "PHILIPPINE TRENCH",
          "CEBU ISLAND",
          "SULU SEA",
          "NEGROS ISLAND",
          "PHILIPPINES",
          "MINDANAO ISLAND, PHILIPPINES",
          "BUTUAN, SULU SEA",
          "E. MINDANAO ISLAND",
          "PHILIPPINES",
          "W. LUZON ISLAND",
          "E. MINDANAO ISLAND",
          "W. LUZON ISLAND",
          "W. LUZON ISLAND",
          "PHILIPPINE SEA",
          "SULU SEA",
          "SULU SEA",
          "CELEBES SEA",
          "PHILIPPINES",
          "E. MINDANAO ISLAND",
          "PHILIPPINES",
          "MINDANAO ISLAND, PHILIPPINES",
          "E. SAMAR ISLAND",
          "SOUTH CHINA SEA",
          "W. LUZON ISLAND",
          "TAYABAS BAY, SULU SEA",
          "SULU SEA",
          "NORTHERN LUZON ISLAND",
          "E. LUZON ISLAND",
          "E. OF MINDANO, PHILIPPINES",
          "LAKE LANAO",
          "TAAL, LUZON ISLAND",
          "E. LUZON ISLAND",
          "LUZON ISLAND",
          "PHILIPPINE TRENCH",
          "PHILIPPINE SEA",
          "PHILIPPINE TRENCH",
          "MINDANAO ISLAND, PHILIPPINES",
          "QUEZON",
          "PHILIPPINE TRENCH",
          "MORO GULF",
          "MINDANAO ISLAND, PHILIPPINES",
          "PHILIPPINES",
          "LUZON ISLAND",
          "SABTANG ISLAND",
          "NORTH OF LUZON ISLAND",
          "PHILIPPINES",
          "W. LUZON ISLAND",
          "PHILIPPINES",
          "PHILIPPINE ISLANDS",
          "SAMAR ISLAND",
          "SAMAR ISLAND",
          "LUZON ISLAND",
          "TAWI-TAWI, PHILIPPINES",
          "PHILIPPINE TRENCH",
          "MINDANAO ISLAND, PHILIPPINES",
          "SAMAR SEA",
          "TANON STRAIT",
          "PHILIPPINE ISLANDS",
          "SOCCSKSARGEN, PHILIPPINES",
          "MINDANAO ISLAND, PHILIPPINES",
          "ABUYOG, LEYTE",
          "N. LUZON ISLAND",
          "E. MINDANAO ISLAND"
         ],
         "legendgroup": "PHILIPPINES",
         "marker": {
          "color": "#636efa",
          "size": {
           "bdata": "AAAAAAAAAAAAAAAAAAAAAAAAAAAAAAAAAAAAAAAAAAAAAAAAAAAAAAAAAAAAAAAAAAAAAAAAAAAAAAAAAADwPwAAAAAAAAAAAAAAAAAAAAAAAAAAAAAAAAAAAAAAAAAAAAAAAAAAAAAAAAAAAAAAAAAAAAAAAAAAAAAAAAAAAAAAAAAAAAAAAAAAAAAAAAAAAAAAAAAAAAAAAAAAAAAAAJqZmZmZmbk/AAAAAAAAAAAAAAAAAAAAAAAAAAAAAAAAAAAAAAAAAEAAAAAAAAAcQAAAAAAAAAAAAAAAAAAAAAAAAAAAAAAAAAAAAAAAAAAAAAAAAAAAAAAAAAAAAAAIQAAAAAAAAAAAAAAAAAAAAAAAAAAAAAD4P83MzMzMzBxAKVyPwvUo3D8AAAAAAAAAAGZmZmZmZuY/AAAAAAAAAAAAAAAAAAAAAAAAAAAAAAAAAAAAAAAAAAAAAAAAAAAAAAAAAAAAAAAAAAAAAAAAAAAAAAAAAAAAAAAAAAAAAAAAAAAAAAAAAAAAAAAAAAAAAAAAAAAAAAAAAAAAAAAAAAAAAAAAAAAAAAAAAAAAAAAAAAAAAAAAAAAAAAAAAAAAQAAAAAAAAAAAAAAAAAAAAAAAAAAAAAAAAAAAAAAAAAAAAAAAAAAAAAAAAAAAAAAAAAAAAAAAAAAAmpmZmZmZuT8AAAAAAAAAAB+F61G4HtU/AAAAAAAAAADNzMzMzMwSQHsUrkfhesQ/AAAAAAAAAAC4HoXrUbiuPxSuR+F6FBFAAAAAAAAAAAAAAAAAAADgP83MzMzMzPQ/AAAAAAAACEAAAAAAAAAiQLgehetRuJ4/mpmZmZmZuT8AAAAAAAAAAAAAAAAAAAAAexSuR+F68D/NzMzMzMwAQAAAAAAAAABAAAAAAAAAGEAzMzMzMzMdQAAAAAAAAABAmpmZmZmZuT8AAAAAAAD4PwAAAAAAADRAmpmZmZmZ2T8AAAAAAAAIQAAAAAAAAPA/AAAAAAAAFEAzMzMzMzPDP5qZmZmZmck/mpmZmZmZqT8AAAAAAAAAAHsUrkfherQ/exSuR+F61D8=",
           "dtype": "f8"
          },
          "sizemode": "area",
          "sizeref": 1.3115,
          "symbol": "circle"
         },
         "mode": "markers",
         "name": "PHILIPPINES",
         "showlegend": true,
         "type": "scattergl",
         "x": {
          "bdata": "AAAAAAAA+H8AAAAAAAD4fwAAAAAAAPh/AAAAAAAA+H8AAAAAAAD4fwAAAAAAAPh/AAAAAAAAHkAAAAAAAAD4fwAAAAAAAPh/AAAAAAAAGkAAAAAAAAAeQAAAAAAAABhAAAAAAAAAGkAAAAAAAAD4fwAAAAAAABhAAAAAAAAAHEAAAAAAAAD4fwAAAAAAABhAAAAAAAAAHkAAAAAAAAD4fzMzMzMzMxtAAAAAAAAA+H9mZmZmZmYgQAAAAAAAAPh/MzMzMzMzIUBmZmZmZmYhQDMzMzMzMyBAAAAAAAAAHEAzMzMzMzMdQAAAAAAAABpAzczMzMzMGEAAAAAAAAD4fzMzMzMzMx9AmpmZmZmZGUCamZmZmZkZQJqZmZmZmSBAmpmZmZmZHUAAAAAAAAAeQDMzMzMzMxlAAAAAAAAAGEAAAAAAAAAYQAAAAAAAAPh/zczMzMzMHEAAAAAAAAAWQJqZmZmZmSBAAAAAAAAAGkAAAAAAAAD4fzMzMzMzMx1AMzMzMzMzG0AzMzMzMzMZQDMzMzMzMx1AAAAAAAAA+H8AAAAAAAAcQDMzMzMzMx1AmpmZmZmZG0DNzMzMzMwcQAAAAAAAABpAMzMzMzMzH0AAAAAAAAD4f5qZmZmZmR9AAAAAAAAAHkAAAAAAAAAaQDMzMzMzMx9AmpmZmZmZGUDNzMzMzMwcQDMzMzMzMx9AmpmZmZmZHUAAAAAAAAD4fzMzMzMzMx1AAAAAAAAA+H9mZmZmZmYeQDMzMzMzMx1AAAAAAAAAGECamZmZmZkdQAAAAAAAAB5AZmZmZmZmHkAAAAAAAAAgQJqZmZmZmRtAZmZmZmZmHEBmZmZmZmYaQGZmZmZmZhhAmpmZmZmZFUBmZmZmZmYaQDMzMzMzMx9AMzMzMzMzHUBmZmZmZmYcQM3MzMzMzBxAMzMzMzMzG0AzMzMzMzMdQAAAAAAAAPh/mpmZmZmZGUAAAAAAAAAeQDMzMzMzMxlAzczMzMzMGkBmZmZmZmYeQJqZmZmZmRtAZmZmZmZmHEAAAAAAAAD4fwAAAAAAABxAZmZmZmZmHkA=",
          "dtype": "f8"
         },
         "xaxis": "x",
         "y": {
          "bdata": "AAAAAAAAAAAAAAAAAAAAAAAAAAAAAAAAAAAAAAAAKEAAAAAAAAAAAAAAAAAAAAAAAAAAAAAAAAAAAAAAAAAAAAAAAAAAAAAAAAAAAAAASkAAAAAAAAAIQAAAAAAAAAAAAAAAAAAAeUAAAAAAAAAAAAAAAAAAAAAAAAAAAAAAAAAAAAAAAAAAAAAAAAAAAAAAAAAAAAAANEAAAAAAAAAAAAAAAAAAAAAAAAAAAAAAAAAAAAAAAABZQAAAAAAAAAAAAAAAAAAAAAAAAAAAAAAqQAAAAAAAAAAAAAAAAAAAAAAAAAAAAAAAAAAAAAAAAAAAAAAAAAAAAAAAAAAAANyUQAAAAAAAAAAAAAAAAAAAAAAAAAAAAAAcQAAAAAAAAEpAAAAAAAAAAAAAAAAAAAAAAAAAAAAAABRAAAAAAAAAAAAAAAAAAAAAAAAAAAAAAAAAAAAAAAAAAAAAAAAAAAAAAAAAAAAAAAAAAAAAAAAAAAAAAAAAAAAAAAAAAAAAAAAAAAAAAAAAMUAAAAAAAAAAAAAAAAAAAAAAAAAAAAAAAAAAAAAAAAAAAAAAAAAAQFhAAAAAAAAAAAAAAAAAAAAAAAAAAAAAAAAAAAAAAAAAAAAAAAAAAAAiQAAAAAAAAAAAAAAAAAAA8D8AAAAAAAAAAAAAAAAAgFJAAAAAAAAAAAAAAAAAAAAwQAAAAAAAAAAAAAAAAAAQfUAAAAAAADB2QAAAAAAA4HBAAAAAAAAACEAAAAAAAAAAAAAAAAAAAC5AAAAAAAAAAAAAAAAAAAAAAAAAAAAAAC5AAAAAAAAA8D8AAAAAAEC/QAAAAAAAAAAAAAAAAAAAAAAAAAAAAAAwQAAAAAAAAAAAAAAAAAAAAAAAAAAAAAAYQAAAAAAA2KJAAAAAAAAAAAAAAAAAAEBUQAAAAAAAAAAAAAAAAAAAAAAAAAAAAAAUQAAAAAAAAAAAAAAAAAAAAAAAAAAAAAAuQAAAAAAAAAAAAAAAAACASUAAAAAAAADwPwAAAAAAAAAAAAAAAAAA8D8AAAAAAEBlQAAAAAAAACZAAAAAAAAACEA=",
          "dtype": "f8"
         },
         "yaxis": "y"
        },
        {
         "hovertemplate": "<b>%{hovertext}</b><br><br>Country=PORTUGAL<br>Magnitude do Terremoto=%{x}<br>Total de Mortes=%{y}<br>Maximum Water Height (m)=%{marker.size}<extra></extra>",
         "hovertext": [
          "TAVIRA, ALGARVE",
          "PORTUGAL",
          "PORTUGAL",
          "LISBON",
          "SW PORTUGAL",
          "SW PORTUGAL",
          "LISBON",
          "AZORES",
          "SW PORTUGAL",
          "LISBON",
          "AZORES",
          "AZORES",
          "PORTUGAL",
          "LISBON",
          "AZORES",
          "AZORES",
          "AZORES",
          "AZORES",
          "AZORES",
          "PORTUGAL",
          "MADEIRA ISLAND",
          "AZORES",
          "AZORES",
          "AZORES",
          "PORTUGAL",
          "AZORES",
          "AZORES"
         ],
         "legendgroup": "PORTUGAL",
         "marker": {
          "color": "#EF553B",
          "size": {
           "bdata": "AAAAAAAAAAAAAAAAAAAAAAAAAAAAAAAAzczMzMxMMkAAAAAAAAAAAAAAAAAAAAAAAAAAAAAAAAAAAAAAAAAAADMzMzMzMwNAAAAAAAAAAAAAAAAAAAAAAAAAAAAAAAAAAAAAAAAAAAAAAAAAAAAAAAAAAAAAABxAAAAAAAAAJEAAAAAAAAAkQAAAAAAAACRAMzMzMzMz0z8AAAAAAAAAAAAAAAAAABRAAAAAAAAAAAAAAAAAAAAAAJqZmZmZmck/zczMzMzM7D89CtejcD3aPwAAAAAAAAAA",
           "dtype": "f8"
          },
          "sizemode": "area",
          "sizeref": 1.3115,
          "symbol": "circle"
         },
         "mode": "markers",
         "name": "PORTUGAL",
         "showlegend": true,
         "type": "scattergl",
         "x": {
          "bdata": "AAAAAAAA+H8AAAAAAAD4fwAAAAAAAPh/AAAAAAAAIUAAAAAAAAD4fwAAAAAAAPh/AAAAAAAA+H8AAAAAAAD4fwAAAAAAACFAAAAAAAAA+H8AAAAAAAD4fwAAAAAAAPh/AAAAAAAA+H8AAAAAAAAcQAAAAAAAAPh/AAAAAAAA+H8AAAAAAAD4fwAAAAAAAPh/MzMzMzMzF0AAAAAAAAD4fwAAAAAAAPh/AAAAAAAA+H8AAAAAAAD4f83MzMzMzBpAMzMzMzMzH0CamZmZmZkbQAAAAAAAAPh/",
          "dtype": "f8"
         },
         "xaxis": "x",
         "y": {
          "bdata": "AAAAAAAAAAAAAAAAAAAAAAAAAAAAAAAAAAAAAABq6EAAAAAAAAAAAAAAAAAAwHJAAAAAAAAAAAAAAAAAAHSQQAAAAAAAADlAAAAAAAAAAAAAAAAAAAAAAAAAAAAAAAAAAAAAAAAAAAAAAAAAAAAAAAAAAAAAACRAAAAAAAAAAAAAAAAAAAAAAAAAAAAAAPA/AAAAAAAAIkAAAAAAAAAAAAAAAAAAADNAAAAAAAAAAAAAAAAAAAAAAAAAAAAAAAAAAAAAAAAAOUAAAAAAAEBRQAAAAAAAAAAA",
          "dtype": "f8"
         },
         "yaxis": "y"
        },
        {
         "hovertemplate": "<b>%{hovertext}</b><br><br>Country=GREECE<br>Magnitude do Terremoto=%{x}<br>Total de Mortes=%{y}<br>Maximum Water Height (m)=%{marker.size}<extra></extra>",
         "hovertext": [
          "IONIAN SEA",
          "MILOS ISLAND, AEGEAN ISLANDS",
          "ISLAND OF RHODES",
          "CORINTH GULF",
          "GULF OF CORINTH",
          "CORINTHOS-PATRAS GULF",
          "AEGEAN SEA",
          "AEGEAN SEA",
          "IONIAN SEA",
          "CORINTH GULF",
          "PELOPONNESUS, GREECE",
          "CORINTHOS-PATRAS GULF",
          "GULF OF PATRAS",
          "CRETE",
          "IONIAN SEA",
          "CORINTHOS-PATRAS GULF",
          "ISLAND OF LEVKAS",
          "ISLAND OF ZAKYNTHOS",
          "IONIAN SEA",
          "IONIAN SEA",
          "IONIAN ISLANDS",
          "PELOPONNESUS, GREECE",
          "ISLAND OF CHALKI",
          "KHALKI ISLET",
          "CENTRAL GREECE (EVOIKOS GULF)",
          "CRETE",
          "CHIOS ISLAND, AEGEAN ISLANDS",
          "GULF OF CORINTH",
          "PIREAUS",
          "CORINTH GULF",
          "IONIAN SEA",
          "AEGEAN SEA",
          "CHIOS ISLAND, AEGEAN ISLANDS",
          "THERA ISLAND (SANTORINI)",
          "E. SPORADES ISLANDS, AEGEAN ISLANDS",
          "S. COASTS PELOPONNESUS, GREECE",
          "IONIAN SEA",
          "LESBOS",
          "LIXOURI",
          "PELOPONNESUS, GREECE",
          "IONIAN SEA",
          "AEGEAN SEA",
          "AEGEAN SEA",
          "IONIAN SEA",
          "IONIAN SEA",
          "CORINTH GULF",
          "IONIAN SEA",
          "IONIAN SEA",
          "CHIOS ISLAND, AEGEAN ISLANDS",
          "CHIOS ISLAND, AEGEAN ISLANDS",
          "AETOLIKO LAGOON",
          "IONIAN ISLANDS",
          "IONIAN SEA",
          "PELOPONNESUS, GREECE",
          "GULF OF CORINTH",
          "SAMOTHRACE",
          "SAMOTHRACE",
          "IONIAN SEA",
          "NORTH EVOIKOS GULF",
          "IONIAN SEA",
          "PELOPONNESUS, GREECE",
          "IONIAN ISLANDS",
          "IONIAN SEA",
          "CENTRAL GREECE (EVOIKOS GULF)",
          "AEGEAN SEA",
          "AEGEAN SEA",
          "NORTH AEGEAN SEA",
          "IONIAN SEA",
          "IONIAN SEA",
          "IONIAN SEA",
          "IONIAN SEA",
          "AEGEAN SEA",
          "NORTH AEGEAN SEA",
          "ARGOLIKOS GULF",
          "EAST AEGEAN",
          "CORINTHOS-PATRAS GULF",
          "AEGEAN SEA",
          "GRECIAN ARCHIPELAGO, CRETE",
          "AEGEAN SEA",
          "NORTH AEGEAN",
          "NORTH AEGEAN",
          "COS, DODECANESE",
          "PELOPONNESUS, GREECE",
          "DODECANESE, KARPATHOS IS.",
          "IONIAN SEA",
          "WEST COAST OF GREECE",
          "CHIOS ISLAND, AEGEAN ISLANDS",
          "IONIAN SEA",
          "IONIAN SEA",
          "VOLOS GULF",
          "EAST AEGEAN SEA",
          "CYCLADES",
          "AMORGOS ISLAND, AEGEAN ISLANDS",
          "NORTH AEGEAN",
          "GRECIAN ARCHIPELAGO, CRETE",
          "NORTH AEGEAN SEA",
          "CORINTH GULF",
          "AEGEAN SEA",
          "NORTH CORINTH GULF",
          "LEMNOS ISLAND, NORTH AEGEAN SEA",
          "THESSALONIKI (SALONICA), GREECE",
          "CRETE",
          "ATHENS-EASTERN GULF OF CORINTH",
          "GULF OF CORINTH",
          "IONIAN SEA",
          "NORTH AEGEAN SEA",
          "CORINTHOS GULF, GREECE",
          "EAST AEGEAN SEA",
          "EAST AEGEAN SEA",
          "GREECE",
          "GULF OF CORINTH: AIYION",
          "W. CORINTH GULF",
          "CRETE",
          "DODECANESE ISLANDS",
          "IONIAN SEA",
          "CRETE",
          "CRETE",
          "CRETE",
          "NORTH AEGEAN SEA",
          "IONIAN SEA",
          "LESBOS",
          "IONIAN SEA",
          "CRETE",
          "CRETE"
         ],
         "legendgroup": "GREECE",
         "marker": {
          "color": "#00cc96",
          "size": {
           "bdata": "AAAAAAAAAAAAAAAAAAAAAAAAAAAAAAAAAAAAAAAAAAAAAAAAAAAAAAAAAAAAAAAAAAAAAAAAAAAAAAAAAAAAAAAAAAAAAAAAAAAAAAAAAAAAAAAAAAAAAAAAAAAAAAAAAAAAAAAAAAAAAAAAAAAAAAAAAAAAAAAAAAAAAAAAFEAAAAAAAAAAAAAAAAAAAAAAAAAAAAAAAAAAAAAAAAAAAAAAAAAAAAAAAAAAAAAAAAAAAAAAAAAAAAAAAAAAAAAAAAAAAAAAAAAAAAAAAAAAAAAAAAAAAAAAAAAAAAAAAAAAAAAAAAAAAM3MzMzMzABAAAAAAAAAAAAAAAAAAAAAAAAAAAAAAAAAAAAAAAAAAAAAAAAAAAAAADMzMzMzMyFAAAAAAAAAAAAAAAAAAAAAAAAAAAAAAAAAAAAAAAAAGEAAAAAAAAAAAAAAAAAAAAAAAAAAAAAAAAAAAAAAAAAAAAAAAAAAAAAAAAAAAAAAAAAAAAAAAAAAAAAAAAAAAAAAAAAAAAAAAAAAAAAAAAAAAAAAAAAAAABAAAAAAAAAAAAAAAAAAAAAAAAAAAAAAAAAAAAAAAAAAAAAAAAAAAAAAAAAAAAAAPA/AAAAAAAAAAAAAAAAAAAIQAAAAAAAAAAAAAAAAAAAAACamZmZmZnZPwAAAAAAAPA/AAAAAAAAAAAAAAAAAAAAAAAAAAAAAAAAAAAAAAAACEAAAAAAAAAAAAAAAAAAAAhAAAAAAAAAAAAAAAAAAAD4PwAAAAAAAAAAAAAAAAAAAAAAAAAAAAAAAAAAAAAAAAAAMzMzMzMz4z8AAAAAAAAAAAAAAAAAAAAAMzMzMzMz4z8AAAAAAAAAAAAAAAAAAABAAAAAAAAAAEAAAAAAAADwPzMzMzMzMx1AAAAAAAAA8D8AAAAAAAAAAAAAAAAAAABAAAAAAAAA8D8AAAAAAAAAAAAAAAAAAAAAAAAAAAAAAEAAAAAAAAA+QAAAAAAAACRAMzMzMzMz8z8AAAAAAADwPwAAAAAAAAAAAAAAAAAAGEAAAAAAAAAAAAAAAAAAAAhAMzMzMzMz8z/NzMzMzMzcPwAAAAAAAAAAAAAAAAAA8D8AAAAAAADwPwAAAAAAAAAAAAAAAAAAAAAAAAAAAAAAAAAAAAAAAAAAAAAAAAAA4D8AAAAAAAAAAAAAAAAAAPA/AAAAAAAAAEAAAAAAAADgPwAAAAAAABBAAAAAAAAA4D8zMzMzMzPTP3sUrkfheoQ/exSuR+F6hD97FK5H4XrEPzMzMzMzM8M/mpmZmZmZyT8AAAAAAAD4P2ZmZmZmZu4/AAAAAAAAAAA=",
           "dtype": "f8"
          },
          "sizemode": "area",
          "sizeref": 1.3115,
          "symbol": "circle"
         },
         "mode": "markers",
         "name": "GREECE",
         "showlegend": true,
         "type": "scattergl",
         "x": {
          "bdata": "AAAAAAAAHEAAAAAAAAAaQDMzMzMzMx1AAAAAAAAA+H9mZmZmZmYaQDMzMzMzMxtAAAAAAAAA+H8AAAAAAAD4fwAAAAAAABxAAAAAAAAAFkAAAAAAAAD4f83MzMzMzBpAAAAAAAAA+H8AAAAAAAD4fwAAAAAAAPh/MzMzMzMzG0BmZmZmZmYaQJqZmZmZmRtAAAAAAAAAGkAzMzMzMzMbQAAAAAAAAPh/AAAAAAAA+H8AAAAAAAAaQAAAAAAAAPh/AAAAAAAA+H+amZmZmZkgQGZmZmZmZhpAAAAAAAAAGkAAAAAAAAD4fzMzMzMzMx1AAAAAAAAA+H8zMzMzMzMfQDMzMzMzMxtAZmZmZmZmGECamZmZmZkZQDMzMzMzMxtAmpmZmZmZHUAAAAAAAAAcQAAAAAAAAPh/ZmZmZmZmHEAAAAAAAAD4fwAAAAAAAPh/AAAAAAAA+H+amZmZmZkbQAAAAAAAABxAAAAAAAAA+H8AAAAAAAD4fwAAAAAAAPh/AAAAAAAAGkAAAAAAAAD4fwAAAAAAAPh/AAAAAAAA+H8zMzMzMzMbQM3MzMzMzBhAZmZmZmZmGEAAAAAAAAD4fwAAAAAAABpAAAAAAAAAGkAAAAAAAAAcQAAAAAAAAPh/AAAAAAAAHEAAAAAAAAD4fwAAAAAAABpAzczMzMzMFkBmZmZmZmYaQDMzMzMzMxlAzczMzMzMHECamZmZmZkZQDMzMzMzMxlAAAAAAAAAGkDNzMzMzMwaQJqZmZmZmRdAmpmZmZmZGUDNzMzMzMwcQAAAAAAAABpAAAAAAAAAGEAAAAAAAAAUQM3MzMzMzBRAAAAAAAAA+H/NzMzMzMwYQJqZmZmZmRtAmpmZmZmZGUAzMzMzMzMdQDMzMzMzMx1AAAAAAAAAGkAAAAAAAAD4fwAAAAAAABpAMzMzMzMzG0DNzMzMzMwcQM3MzMzMzBhAZmZmZmZmGkDNzMzMzMweQDMzMzMzMxtAMzMzMzMzF0AAAAAAAAD4fwAAAAAAABJAAAAAAAAA+H8zMzMzMzMZQGZmZmZmZhhAzczMzMzMHECamZmZmZkZQGZmZmZmZhZAzczMzMzMGkCamZmZmZkZQM3MzMzMzBxAAAAAAAAAHEBmZmZmZmYWQAAAAAAAAPh/AAAAAAAA+H9mZmZmZmYaQAAAAAAAABpAAAAAAAAA+H8AAAAAAAAWQAAAAAAAAPh/MzMzMzMzGUCamZmZmZkZQM3MzMzMzBhAZmZmZmZmGkCamZmZmZkbQAAAAAAAABpAMzMzMzMzGUAzMzMzMzMbQGZmZmZmZhpAmpmZmZmZGUA=",
          "dtype": "f8"
         },
         "xaxis": "x",
         "y": {
          "bdata": "AAAAAAAAAAAAAAAAAAAAAAAAAAAAAAAAAAAAAAAAAAAAAAAAAABeQAAAAAAAAAAAAAAAAAAAAAAAAAAAAAAAAAAAAAAAAElAAAAAAAAAAAAAAAAAAAAAAAAAAAAAAAAAAAAAAAAAAAAAAAAAAHCnQAAAAAAAAAAAAAAAAAAAAAAAAAAAAAAAAAAAAAAAQHhAAAAAAAAAAAAAAAAAAABOQAAAAAAAAAAAAAAAAAAAAAAAAAAAAMCCQAAAAAAAAAAAAAAAAAAAMUAAAAAAAMCCQAAAAAAAAAAAAAAAAAAAAAAAAAAAAAAAAAAAAAAAAAAAAAAAAAAAAAAAAAAAAMByQAAAAAAAAAAAAAAAAAAAAAAAAAAAAAAAAAAAAAAAAAAAAAAAAADga0AAAAAAAJiBQAAAAAAAAAAAAAAAAAAAAAAAAAAAAAAAAAAAAAAAAAAAAAAAAAAAAAAAAAAAAAAAAAAAAAAAAFlAAAAAAAAAAAAAAAAAAAAAAAAAAAAAAAAAAAAAAAC6vkAAAAAAAAAAAAAAAAAAAAAAAAAAAAAAAAAAAAAAAGB0QAAAAAAAAAAAAAAAAAAAAAAAAAAAAAAAAAAAAAAAAPA/AAAAAAAAAAAAAAAAAAAAAAAAAAAAAAAAAAAAAAAAAAAAAAAAAAAAAAAAAAAAAAAAAAAAAAAAAAAAAAAAAAAAAAAAAAAAAAAAAAAAAAAAJkAAAAAAAAAgQAAAAAAAACxAAAAAAAAAAAAAAAAAAAAAAAAAAAAAAAAAAAAAAAAAAAAAAAAAAAAAAAAAAAAAQGVAAAAAAAAANEAAAAAAAAAAAAAAAAAAAAAAAAAAAAAAAAAAAAAAAAAAAAAAAAAAIGRAAAAAAACgZkAAAAAAAAAIQAAAAAAAAAAAAAAAAAAAHEAAAAAAAAAAAAAAAAAAABxAAAAAAAAAAAAAAAAAAMB9QAAAAAAAACBAAAAAAAAAN0AAAAAAAABMQAAAAAAAAAAAAAAAAAAAAAAAAAAAAAAAAAAAAAAAAAAAAAAAAAAAAEAAAAAAAABDQAAAAAAAAABAAAAAAAAANEAAAAAAAABJQAAAAAAAAAAAAAAAAAAANkAAAAAAAAAAAAAAAAAAAAAAAAAAAAAAAAAAAAAAAAAAAAAAAAAAAAAAAAAAAAAAAAAAAAAAAAAAAAAAAAAAADpAAAAAAAAAAAAAAAAAAAAAAAAAAAAAAAAAAAAAAAAAAAAAAAAAAAAAAAAAAAAAAAAAAAAAAAAAAAAAAAAAAAAIQAAAAAAAAABAAAAAAAAA8D8AAAAAAAAAAAAAAAAAAAAAAAAAAAAAAAA=",
          "dtype": "f8"
         },
         "yaxis": "y"
        },
        {
         "hovertemplate": "<b>%{hovertext}</b><br><br>Country=ALGERIA<br>Magnitude do Terremoto=%{x}<br>Total de Mortes=%{y}<br>Maximum Water Height (m)=%{marker.size}<extra></extra>",
         "hovertext": [
          "BONE (ANNABA)",
          "ORAN",
          "HARBOUR OF ALGIERS",
          "SEA OF ALBORAN",
          "SEA OF ALBORAN",
          "SEA OF ALBORAN",
          "ALGERIA",
          "SEA OF ALBORAN",
          "SEA OF ALBORAN",
          "EL ASNAM",
          "ALGIERS, CHERCHELL, TIPAZA",
          "N. ALGERIA",
          "ALGIERS",
          "N. ALGERIA"
         ],
         "legendgroup": "ALGERIA",
         "marker": {
          "color": "#ab63fa",
          "size": {
           "bdata": "AAAAAAAAAAAAAAAAAAAAAAAAAAAAAAAAAAAAAAAADkAAAAAAAAAUQAAAAAAAAAAAAAAAAAAAAAAAAAAAAAAAAB+F61G4HtU/ZmZmZmZm5j8AAAAAAAAAAAAAAAAAAAhAexSuR+F6tD+amZmZmZmpPw==",
           "dtype": "f8"
          },
          "sizemode": "area",
          "sizeref": 1.3115,
          "symbol": "circle"
         },
         "mode": "markers",
         "name": "ALGERIA",
         "showlegend": true,
         "type": "scattergl",
         "x": {
          "bdata": "AAAAAAAA+H8AAAAAAAD4fwAAAAAAAPh/AAAAAAAA+H8AAAAAAAD4fwAAAAAAAPh/AAAAAAAA+H8AAAAAAAD4f83MzMzMzBpAZmZmZmZmHECamZmZmZkXQDMzMzMzMxtAzczMzMzMFkAAAAAAAAAYQA==",
          "dtype": "f8"
         },
         "xaxis": "x",
         "y": {
          "bdata": "AAAAAAAAAAAAAAAAAHCnQAAAAAAAAAAAAAAAAAAAFEAAAAAAAAAgQAAAAAAAAAAAAAAAAAAAAAAAAAAAAABCQAAAAAAAbJNAAAAAAACIs0AAAAAAAAA+QAAAAAAA3qFAAAAAAAAAIkAAAAAAAAAAAA==",
          "dtype": "f8"
         },
         "yaxis": "y"
        },
        {
         "hovertemplate": "<b>%{hovertext}</b><br><br>Country=FRANCE<br>Magnitude do Terremoto=%{x}<br>Total de Mortes=%{y}<br>Maximum Water Height (m)=%{marker.size}<extra></extra>",
         "hovertext": [
          "MARSEILLES",
          "ISLAND OF CORSICA",
          "FRANCE: AIGEUS-MORTES",
          "MARSEILLES",
          "LIGURIAN SEA",
          "LIGURIAN SEA",
          "LIGURIAN SEA  - NICE",
          "LIGURIAN SEA",
          "NORTHERN FRANCE: ILLE-ET-VILAINE",
          "LIGURIAN SEA",
          "FRENCH RIVIERA (LIGURIAN SEA)",
          "MARSEILLES"
         ],
         "legendgroup": "FRANCE",
         "marker": {
          "color": "#FFA15A",
          "size": {
           "bdata": "AAAAAAAA+D8AAAAAAAAAAAAAAAAAAAAAAAAAAAAAAAAAAAAAAAAAAAAAAAAAAAAAAAAAAAAAAAAAAAAAAAAAAAAAAAAAAAAAAAAAAAAAAAAAAAAAAAAkQAAAAAAAAAAA",
           "dtype": "f8"
          },
          "sizemode": "area",
          "sizeref": 1.3115,
          "symbol": "circle"
         },
         "mode": "markers",
         "name": "FRANCE",
         "showlegend": true,
         "type": "scattergl",
         "x": {
          "bdata": "AAAAAAAA+H8AAAAAAAD4fwAAAAAAAPh/AAAAAAAA+H8AAAAAAAD4fwAAAAAAAPh/AAAAAAAA+H8AAAAAAAD4fwAAAAAAAPh/AAAAAAAA+H8AAAAAAAD4fwAAAAAAAPh/",
          "dtype": "f8"
         },
         "xaxis": "x",
         "y": {
          "bdata": "AAAAAAAAAAAAAAAAAAAAAAAAAAAAAAAAAAAAAAAAAAAAAAAAAAAAAAAAAAAAAAAAAAAAAAAAAAAAAAAAAAAAAAAAAAAAAAAAAAAAAAAAAAAAAAAAAAAiQAAAAAAAAAAA",
          "dtype": "f8"
         },
         "yaxis": "y"
        },
        {
         "hovertemplate": "<b>%{hovertext}</b><br><br>Country=NORWAY<br>Magnitude do Terremoto=%{x}<br>Total de Mortes=%{y}<br>Maximum Water Height (m)=%{marker.size}<extra></extra>",
         "hovertext": [
          "WESTERN NORWAY",
          "NORWAY: BERGEN",
          "NORWAY:  RANA REGION: LUROY",
          "WESTERN NORWAY",
          "WESTERN NORWAY",
          "MID-NORWAY",
          "LOEN",
          "DRAMSFJORD",
          "WESTERN NORWAY",
          "MID-NORWAY",
          "TAFJORD",
          "LOEN",
          "LAKE LOVATNET",
          "LAKE LOVATNET",
          "NORTHERN NORWAY",
          "MID-NORWAY",
          "MID-NORWAY",
          "NORTHERN NORWAY",
          "EASTERN NORWAY",
          "NORWAY: RISSA",
          "NORTHERN NORWAY",
          "WESTERN NORWAY",
          "WESTERN NORWAY",
          "WESTERN NORWAY",
          "WESTERN NORWAY",
          "SVALBARD",
          "LYSEFJOREN, WESTERN NORWAY",
          "LYSEFJOREN, WESTERN NORWAY",
          "STATLAND",
          "NORTHERN NORWAY"
         ],
         "legendgroup": "NORWAY",
         "marker": {
          "color": "#19d3f3",
          "size": {
           "bdata": "AAAAAAAAAAAAAAAAAAAAAAAAAAAAAAAAAAAAAAAAAAAAAAAAAAAAAAAAAAAAABxAAAAAAABAREAAAAAAAADwPwAAAAAAAAAAAAAAAAAAAABmZmZmZiZPQAAAAAAAgFJAAAAAAAAAREAAAAAAAIBSQAAAAAAAAAAAAAAAAAAAAAAAAAAAAAAAQAAAAAAAABBAAAAAAAAAGEAzMzMzMzMbQAAAAAAAAABAAAAAAAAAHEAAAAAAAAAIQAAAAAAAABBAAAAAAAAAGEAzMzMzMzPTPwAAAAAAAPg/AAAAAAAAAABmZmZmZmYgQAAAAAAAAAAA",
           "dtype": "f8"
          },
          "sizemode": "area",
          "sizeref": 1.3115,
          "symbol": "circle"
         },
         "mode": "markers",
         "name": "NORWAY",
         "showlegend": true,
         "type": "scattergl",
         "x": {
          "bdata": "AAAAAAAA+H8AAAAAAAD4fzMzMzMzMxdAAAAAAAAA+H8AAAAAAAD4fwAAAAAAAPh/AAAAAAAA+H8AAAAAAAD4f2ZmZmZmZhRAAAAAAAAA+H8AAAAAAAD4fwAAAAAAAPh/AAAAAAAA+H8AAAAAAAD4fwAAAAAAAPh/AAAAAAAA+H8AAAAAAAD4fwAAAAAAAPh/AAAAAAAA+H8AAAAAAAD4fwAAAAAAAPh/AAAAAAAA+H8AAAAAAAD4fwAAAAAAAPh/AAAAAAAA+H8AAAAAAAD4fwAAAAAAAPh/AAAAAAAA+H8AAAAAAAD4fwAAAAAAAPh/",
          "dtype": "f8"
         },
         "xaxis": "x",
         "y": {
          "bdata": "AAAAAAAAMUAAAAAAAAAAAAAAAAAAAAAAAAAAAAAAAAAAAAAAAAAAAAAAAAAAAPA/AAAAAACATkAAAAAAAAAAAAAAAAAAAAAAAAAAAAAAAAAAAAAAAIBEQAAAAAAAQFJAAAAAAAAAAAAAAAAAAAAAAAAAAAAAAAAAAAAAAAAAAAAAAAAAAAAAAAAAAAAAACJAAAAAAAAAAAAAAAAAAADwPwAAAAAAAAAAAAAAAAAAAAAAAAAAAAAAAAAAAAAAAAAAAAAAAAAAAAAAAAAAAAAAAAAAAAAAAAAAAAAAAAAAAAAAAAAAAAAAAAAAAAAAAAAA",
          "dtype": "f8"
         },
         "yaxis": "y"
        },
        {
         "hovertemplate": "<b>%{hovertext}</b><br><br>Country=MEXICO<br>Magnitude do Terremoto=%{x}<br>Total de Mortes=%{y}<br>Maximum Water Height (m)=%{marker.size}<extra></extra>",
         "hovertext": [
          "S. MEXICO",
          "S. MEXICO",
          "S. MEXICO",
          "SAN MARCOS",
          "SAN MARCOS",
          "MEXICO",
          "CENTRAL MEXICO",
          "CENTRAL MEXICO",
          "S. MEXICO",
          "S. MEXICO",
          "S. MEXICO",
          "ACAPULCO",
          "MEXICO CITY",
          "S. MEXICO",
          "N. MEXICO",
          "S. MEXICO",
          "S. MEXICO",
          "S. MEXICO",
          "S. MEXICO",
          "S. MEXICO",
          "PUERTO ANGEL, MEXICO",
          "S. MEXICO",
          "S. MEXICO",
          "CENTRAL MEXICO",
          "S. MEXICO",
          "N. MEXICO",
          "N. MEXICO",
          "OFF WEST COAST",
          "S. MEXICO",
          "MEXICO",
          "MEXICO",
          "MEXICO",
          "S. MEXICO",
          "S. MEXICO",
          "S. MEXICO",
          "MEXICO",
          "MEXICO",
          "S. MEXICO",
          "MEXICO",
          "MEXICO",
          "S. MEXICO",
          "CENTRAL MEXICO",
          "CENTRAL MEXICO",
          "CENTRAL MEXICO",
          "S. MEXICO",
          "MEXICO",
          "MEXICO",
          "MEXICO",
          "MEXICO",
          "MEXICO",
          "S. MEXICO",
          "S. MEXICO",
          "S. MEXICO",
          "S. MEXICO",
          "MEXICO",
          "ACAPULCO",
          "S. MEXICO-GUATEMALA-NICARAGUA",
          "S. MEXICO",
          "MEXICO",
          "S. MEXICO",
          "MEXICO",
          "MEXICO",
          "MEXICO",
          "S. MEXICO",
          "S. MEXICO",
          "MEXICO",
          "S. MEXICO",
          "JUAN DE GRIJALVA, CHIAPAS",
          "S. MEXICO",
          "MEXICO",
          "S. MEXICO",
          "S. MEXICO",
          "OFF COAST OF OAXACA",
          "S. MEXICO",
          "S. MEXICO",
          "MEXICO",
          "S. MEXICO"
         ],
         "legendgroup": "MEXICO",
         "marker": {
          "color": "#FF6692",
          "size": {
           "bdata": "AAAAAAAACEAAAAAAAAAQQAAAAAAAAAhAAAAAAAAAEEAAAAAAAAAQQAAAAAAAAAAAAAAAAAAAOUDNzMzMzMwrQAAAAAAAABBAAAAAAAAAAAAAAAAAAAAAAAAAAAAAAAAAAAAAAAAAAAAAAAAAAAAAAAAAAAAAAAhAAAAAAAAAAAAAAAAAAAAAAAAAAAAAAAAAAAAAAAAAAAAAAAAAAAAAAAAAAAAAAAAAMzMzMzMz0z8AAAAAAAAAAAAAAAAAAAAAAAAAAAAAAAAAAAAAAAAAAAAAAAAAAAAAAAAAAAAAGEAAAAAAAAAAAAAAAAAAAAAAAAAAAAAAAAAAAAAAAAAAAAAAAAAAAAAAAAAAAAAAAEAAAAAAAAAiQAAAAAAAAAAAAAAAAAAAAAAAAAAAAAAmQAAAAAAAAAAAAAAAAAAAAACamZmZmZnJPwAAAAAAACRAAAAAAAAA8D8AAAAAAAAkQAAAAAAAAAAAFK5H4XoU8j8AAAAAAAAAAClcj8L1KLw/AAAAAAAAAAAAAAAAAAAAADMzMzMzM9M/zczMzMzM9D/sUbgehevpP8P1KFyPwtU/mpmZmZmZ2T8AAAAAAAAAAAAAAAAAAABAFK5H4XoU8j8AAAAAAAD4P83MzMzMzPQ/CtejcD0Ktz8AAAAAAAAIQDMzMzMzM/M/mpmZmZmZ2T8AAAAAAAAmQJqZmZmZmbk/hetRuB6F4z8AAAAAAABJQJqZmZmZmck/pHA9CtejwD+F61G4HoXbP5qZmZmZmQVAH4XrUbge+T+4HoXrUbjeP7gehetRuM4/SOF6FK5H6T8K16NwPQq3Pw==",
           "dtype": "f8"
          },
          "sizemode": "area",
          "sizeref": 1.3115,
          "symbol": "circle"
         },
         "mode": "markers",
         "name": "MEXICO",
         "showlegend": true,
         "type": "scattergl",
         "x": {
          "bdata": "AAAAAAAA+H8AAAAAAAD4fwAAAAAAAPh/mpmZmZmZIEAzMzMzMzMdQJqZmZmZmR1AAAAAAAAA+H9mZmZmZmYgQGZmZmZmZh5AAAAAAAAA+H8AAAAAAAAcQAAAAAAAABpAAAAAAAAAHECamZmZmZkgQAAAAAAAABxAAAAAAAAAHEAAAAAAAAD4fwAAAAAAAPh/AAAAAAAA+H8AAAAAAAD4f5qZmZmZmR9AAAAAAAAA+H8AAAAAAAAaQJqZmZmZmR1AAAAAAAAA+H+amZmZmZkdQAAAAAAAAPh/AAAAAAAA+H8AAAAAAAAcQDMzMzMzMx1AmpmZmZmZG0AAAAAAAAD4fwAAAAAAAPh/MzMzMzMzIECamZmZmZkdQGZmZmZmZh5AAAAAAAAA+H8AAAAAAAAcQAAAAAAAAPh/zczMzMzMHkDNzMzMzMweQDMzMzMzMyBAMzMzMzMzH0DNzMzMzMweQAAAAAAAAPh/AAAAAAAAEEDNzMzMzMwaQAAAAAAAABxAZmZmZmZmHkBmZmZmZmYaQAAAAAAAAB5AmpmZmZmZH0AAAAAAAAAcQM3MzMzMzBxAMzMzMzMzH0AzMzMzMzMdQGZmZmZmZhhAAAAAAAAAHkAzMzMzMzMfQGZmZmZmZh5AMzMzMzMzHUAAAAAAAAAgQGZmZmZmZh5AmpmZmZmZHUAAAAAAAAAgQGZmZmZmZhxAAAAAAAAAHkAAAAAAAAD4f5qZmZmZmR1AAAAAAAAAGEDNzMzMzMwcQGZmZmZmZiBAmpmZmZmZHUAAAAAAAAAcQAAAAAAAABZAZmZmZmZmHkAzMzMzMzMbQA==",
          "dtype": "f8"
         },
         "xaxis": "x",
         "y": {
          "bdata": "AAAAAAAAAAAAAAAAAAAAAAAAAAAAAAAAAAAAAAAAJkAAAAAAAAAAAAAAAAAAAAAAAAAAAAAAAAAAAAAAAECfQAAAAAAAAAAAAAAAAAAAAAAAAAAAAAAAAAAAAAAAAAAAAAAAAAAAAAAAAAAAAAAAAAAAAAAAAAAAAAAAAAAA8D8AAAAAAAAAAAAAAAAAAAAAAAAAAAAAAAAAAAAAAAAAAAAAAAAAADhAAAAAAAAAAAAAAAAAAAAAAAAAAAAAAAAAAAAAAAAAAAAAAAAAAIBJQAAAAAAAAAAAAAAAAAAAAAAAAAAAAAAAAAAAAAAAAAAAAAAAAAAAAAAAAAAAAAAAAAAAAAAAAAAAAAAAAAAAIEAAAAAAAAAAAAAAAAAAAAAAAAAAAAAAAAAAAAAAAAAAAAAAAAAAAAAAAAAAAAAAAAAAAAAAAAAQQAAAAAAAAHlAAAAAAAAAAAAAAAAAAMBSQAAAAAAAAAAAAAAAAAAAAAAAAAAAAAAAAAAAAAAAAAAAAAAAAAAAVUAAAAAAAAAQQAAAAAAAAAAAAAAAAABAUEAAAAAAAAAQQAAAAAAAAAhAAAAAAAAAGEAAAAAAAAAyQAAAAAAAADRAAAAAAAAATEAAAAAAAAAiQAAAAAAAABRAAAAAAAAACEAAAAAAAI7CQAAAAAAAAAAAAAAAAAAACEAAAAAAAABJQAAAAAAAAAAAAAAAAAAAPUAAAAAAAAAzQAAAAAAAAABAAAAAAAAAAAAAAAAAAAAAAAAAAAAAgFhAAAAAAAAAJEAAAAAAAAAIQAAAAAAAAAAAAAAAAAAAAEAAAAAAAAAAQA==",
          "dtype": "f8"
         },
         "yaxis": "y"
        },
        {
         "hovertemplate": "<b>%{hovertext}</b><br><br>Country=INDIA<br>Magnitude do Terremoto=%{x}<br>Total de Mortes=%{y}<br>Maximum Water Height (m)=%{marker.size}<extra></extra>",
         "hovertext": [
          "CALCUTTA",
          "KUTCH",
          "RANN OF KUTCH",
          "LITTLE NICOBAR ISLAND",
          "ANDAMAN ISLANDS",
          "BAY OF BENGAL: W OF CAR NICOBAR IS",
          "ASSAM",
          "KANGRA, INDIA",
          "ANDAMAN SEA, E. COAST INDIA",
          "INDIA-CHINA",
          "LITTLE NICOBAR ISLAND",
          "INDIA",
          "ANDAMAN ISLANDS, INDIA",
          "ANDAMAN ISLANDS",
          "LITTLE NICOBAR ISLAND"
         ],
         "legendgroup": "INDIA",
         "marker": {
          "color": "#B6E880",
          "size": {
           "bdata": "AAAAAAAAAAAAAAAAAAAAAAAAAAAAAAAAAAAAAAAAAAAAAAAAAAAQQIXrUbgehfM/AAAAAAAACEAAAAAAAAAAAAAAAAAAAPg/AAAAAAAA4D8AAAAAAAAAAAAAAAAAAAAAAAAAAAAAAAB7FK5H4XqEP7gehetRuJ4/",
           "dtype": "f8"
          },
          "sizemode": "area",
          "sizeref": 1.3115,
          "symbol": "circle"
         },
         "mode": "markers",
         "name": "INDIA",
         "showlegend": true,
         "type": "scattergl",
         "x": {
          "bdata": "AAAAAAAA+H/NzMzMzMweQDMzMzMzMxlAAAAAAAAA+H8AAAAAAAD4f5qZmZmZmR9AAAAAAAAAIECamZmZmZkfQAAAAAAAACBAMzMzMzMzIUAzMzMzMzMdQAAAAAAAAPh/AAAAAAAAGkAAAAAAAAAeQAAAAAAAAB5A",
          "dtype": "f8"
         },
         "xaxis": "x",
         "y": {
          "bdata": "AAAAAAAAAAAAAAAAAByYQAAAAAAAAAAAAAAAAAAAAAAAAAAAAAAAAAAAAAAAAAAAAAAAAAAYmEAAAAAAAI7SQAAAAAAAAAAAAAAAAADol0AAAAAAAAAAAAAAAAAAAAAAAAAAAAAAAEAAAAAAAAAAAAAAAAAAAAAA",
          "dtype": "f8"
         },
         "yaxis": "y"
        },
        {
         "hovertemplate": "<b>%{hovertext}</b><br><br>Country=RUSSIA<br>Magnitude do Terremoto=%{x}<br>Total de Mortes=%{y}<br>Maximum Water Height (m)=%{marker.size}<extra></extra>",
         "hovertext": [
          "KAMCHATKA",
          "KAMCHATKA",
          "N. KURIL ISLANDS",
          "S. KURIL ISLANDS",
          "S. KURIL ISLANDS",
          "KAMCHATKA",
          "KAMCHATKA",
          "KAMCHATKA",
          "KAMCHATKA",
          "KAMCHATKA",
          "N. KURIL ISLANDS",
          "N. KURIL ISLANDS",
          "LAKE BAYKAL (BAIKAL)",
          "TATAR STRAIT",
          "S. KURIL ISLANDS",
          "KAMCHATKA PENINSULA, RUSSIA",
          "KAMCHATKA PENINSULA, RUSSIA",
          "BLACK SEA",
          "BLACK SEA",
          "KAMCHATKA",
          "S. KURIL ISLANDS",
          "S. KURIL ISLANDS",
          "KAMCHATKA",
          "KAMCHATKA",
          "TATAR STRAIT",
          "TATAR STRAIT",
          "TATAR STRAIT",
          "KAMCHATKA",
          "KHARIMKOTAN, N. KURIL ISLANDS",
          "KAMCHATKA",
          "KAMCHATKA",
          "KAMCHATKA",
          "N. KURIL ISLANDS",
          "KAMCHATKA",
          "KAMCHATKA",
          "N. KURIL ISLANDS",
          "KAMCHATKA",
          "N. KURIL ISLANDS",
          "S. KURIL ISLANDS",
          "S. KURIL ISLANDS",
          "S. KURIL ISLANDS",
          "KAMCHATKA",
          "LAKE BAYKAL (BAIKAL)",
          "S. KURIL ISLANDS",
          "S. KURIL ISLANDS",
          "S. KURIL ISLANDS",
          "S. KURIL ISLANDS",
          "S. KURIL ISLANDS",
          "S. KURIL ISLANDS",
          "BLACK SEA",
          "S. KURIL ISLANDS",
          "S. KURIL ISLANDS",
          "S. KURIL ISLANDS",
          "KAMCHATKA",
          "CASPIAN SEA",
          "BLACK SEA",
          "TATAR STRAIT",
          "TATAR STRAIT",
          "TATAR STRAIT",
          "TATAR STRAIT",
          "TATAR STRAIT",
          "KAMCHATKA",
          "N. KURIL ISLANDS",
          "S. KURIL ISLANDS",
          "S. KURIL ISLANDS",
          "S. KURIL ISLANDS",
          "S. KURIL ISLANDS",
          "S. KURIL ISLANDS",
          "S. KURIL ISLANDS",
          "S. KURIL ISLANDS",
          "S. KURIL ISLANDS",
          "S. KURIL ISLANDS",
          "S. KURIL ISLANDS",
          "S. KURIL ISLANDS",
          "KAMCHATKA BAY, RUSSIA",
          "S. KURIL ISLANDS",
          "KAMCHATKA",
          "N. KURIL ISLANDS",
          "S. KURIL ISLANDS",
          "KAMCHATKA",
          "KAMCHATKA",
          "S. KURIL ISLANDS",
          "S. KURIL ISLANDS",
          "SAKHALIN ISLAND",
          "S. KURIL ISLANDS",
          "KARYMSKOYE, KAMCHATKA, RUSSIA",
          "KAMCHATKA",
          "KAMCHATKA",
          "KERCH STRAIT",
          "S. KURIL ISLANDS",
          "S. KURIL ISLANDS",
          "TATAR STRAIT",
          "KAMCHATKA",
          "S. KURIL ISLANDS",
          "BERING ISLAND",
          "BUREYA, FAR EASTERN RUSSIA",
          "KAMCHATKA",
          "KAMCHATKA",
          "N. KURIL ISLANDS",
          "KAMCHATKA"
         ],
         "legendgroup": "RUSSIA",
         "marker": {
          "color": "#FF97FF",
          "size": {
           "bdata": "exSuR+F6LkAAAAAAAAAAAAAAAAAAAAAAAAAAAAAAAAAAAAAAAAAoQAAAAAAAAAAAAAAAAAAAAAAAAAAAAAAAAAAAAAAAAC5AAAAAAAAAAAAAAAAAAAAAAAAAAAAAAAAAAAAAAAAAAAAAAAAAAAAAAAAAAAAAAARAAAAAAAAAAAAAAAAAAAAAAAAAAAAAAOA/AAAAAAAAEEAAAAAAAAAAAAAAAAAAAChAAAAAAAAA4D8AAAAAAAAgQAAAAAAAADRAAAAAAAAAAAAAAAAAAAAAAAAAAAAAAAAAAAAAAAAAAEAAAAAAAAAiQAAAAAAAACpAAAAAAAAAAAAAAAAAAAAAAAAAAAAAAAAAAAAAAAAAAAAAAAAAAAA3QAAAAAAAAAhAMzMzMzMz0z9xPQrXo3DNPwAAAAAAABRAAAAAAAAA8D+amZmZmZm5P5qZmZmZmck/AAAAAAAAAAAAAAAAAADwP7gehetRuL4/AAAAAAAAEkAAAAAAAAAuQHsUrkfherQ/mpmZmZmZuT+amZmZmZnJPwAAAAAAAAAACtejcD0Kxz8AAAAAAAAUQAAAAAAAAC5AAAAAAAAAAACamZmZmZnpPwAAAAAAAABAexSuR+F61D8K16NwPQq3P+xRuB6F67E/uB6F61G4nj8UrkfhehTePwAAAAAAAPg/exSuR+F65D/hehSuR+HKP65H4XoUrtc/AAAAAAAAFkBSuB6F61HYP+xRuB6F67E/mpmZmZmZqT/D9Shcj8LFPzMzMzMzM9M/zczMzMzM5D97FK5H4XrEP5qZmZmZmbk/mpmZmZmZyT+amZmZmZnJP5qZmZmZmbk/pHA9Ctej4D+amZmZmZm5P5qZmZmZmak/zczMzMzMJECamZmZmZnJP5qZmZmZmbk/mpmZmZmZ8T8AAAAAAAA+QAAAAAAAACBAAAAAAAAAIEAAAAAAAADgP2ZmZmZm5jVAmpmZmZmZ2T+amZmZmZkJQClcj8L1KLw/mpmZmZmZyT+amZmZmZm5PwAAAAAAgFZAAAAAAAAAAAAAAAAAAAAAAAAAAAAAANA/AAAAAAAAAAA=",
           "dtype": "f8"
          },
          "sizemode": "area",
          "sizeref": 1.3115,
          "symbol": "circle"
         },
         "mode": "markers",
         "name": "RUSSIA",
         "showlegend": true,
         "type": "scattergl",
         "x": {
          "bdata": "AAAAAAAA+H8AAAAAAAAeQAAAAAAAABxAAAAAAAAA+H8AAAAAAAAeQDMzMzMzMxtAzczMzMzMIEAAAAAAAAD4f83MzMzMzCBAAAAAAAAA+H8AAAAAAAAcQAAAAAAAAPh/AAAAAAAAHkAAAAAAAAD4fwAAAAAAABxAmpmZmZmZIEAzMzMzMzMgQGZmZmZmZhRAAAAAAAAA+H8zMzMzMzMfQGZmZmZmZiBAMzMzMzMzH0DNzMzMzMwgQM3MzMzMzBxAMzMzMzMzG0AAAAAAAAD4fwAAAAAAAPh/AAAAAAAAHkAAAAAAAAAYQDMzMzMzMx1AzczMzMzMFkAzMzMzMzMXQAAAAAAAAPh/mpmZmZmZF0AAAAAAAAAiQDMzMzMzMxdAAAAAAAAA+H8AAAAAAAAUQJqZmZmZmSBAAAAAAAAAHEAAAAAAAAAUQGZmZmZmZiBAAAAAAAAAGkBmZmZmZmYaQGZmZmZmZhxAAAAAAAAAIUCamZmZmZkfQDMzMzMzMxtAzczMzMzMHEAAAAAAAAAWQAAAAAAAABxAMzMzMzMzHUBmZmZmZmYgQM3MzMzMzB5AAAAAAAAAGkBmZmZmZmYUQGZmZmZmZhxAAAAAAAAAFkBmZmZmZmYaQM3MzMzMzBhAAAAAAAAAGEAzMzMzMzMfQM3MzMzMzBxAZmZmZmZmHEBmZmZmZmYaQM3MzMzMzBpAAAAAAAAAHEAAAAAAAAAcQM3MzMzMzBpAZmZmZmZmGkAzMzMzMzMbQAAAAAAAAB5AZmZmZmZmHkAAAAAAAAAcQGZmZmZmZhxAzczMzMzMHEAzMzMzMzMbQM3MzMzMzBZAZmZmZmZmHkAAAAAAAAAeQAAAAAAAABxAmpmZmZmZIEAzMzMzMzMdQGZmZmZmZhxAmpmZmZmZH0AAAAAAAAD4fzMzMzMzMx9AAAAAAAAA+H8AAAAAAAD4f5qZmZmZmSBAMzMzMzMzIEDNzMzMzMwYQJqZmZmZmR1AzczMzMzMHEDNzMzMzMweQAAAAAAAAPh/MzMzMzMzHUAzMzMzMzMZQAAAAAAAAB5AAAAAAAAAHEA=",
          "dtype": "f8"
         },
         "xaxis": "x",
         "y": {
          "bdata": "AAAAAAAAWUAAAAAAAAAAAAAAAAAAAAAAAAAAAAAAAAAAAAAAAAAoQAAAAAAAAAAAAAAAAAAAAAAAAAAAAAAAAAAAAAAAAAAAAAAAAAAAAAAAAAAAAAAAAAAAAAAAAAAAAAAAAAAAAAAAAAAAAAAAAAAAAAAAAAAAAAAAAAAAAAAAAAAAAAAAAAAAAAAAAAAAAAAAAAAAAAAAAAAAAAAAAAAAAAAAADdAAAAAAAAAAAAAAAAAAAAIQAAAAAAAADJAAAAAAAAAAAAAAAAAAAAAAAAAAAAAAAAAAAAAAAAAAAAAAAAAAAAAQAAAAAAAAAAAAAAAAAAAAAAAAAAAAAAAAAAAAAAAAAAAAAAAAAAAAAAAAAAAAIjDQAAAAAAAAAAAAAAAAAAAAAAAAAAAAAAAAAAAAAAAAAAAAAAAAAAAAAAAAAAAAAAAAAAAAAAAAAAAAAAAAAAAAAAAAAAAAAAAAAAAAAAAAAAAAAAAAAAAAAAAAAAAAAAAAAAAAAAAAAAAAAAAAAAAAAAAAAAAAAAAAAAAAAAAAAAAAAAAAAAAAAAAAAAAAAAAAAAAAAAAAAAAAAAAAAAAAAAAAAAAAAAAAAAAAAAAAAAAAAAAAAAAAAAAAAAAAAAAAAAAAAAAAAAAAAAAAAAAAAAAAAAAAAAAAAAAAAAAAAAAAAAAAAAAAAAAAAAAAAAAAAAAAAAAAAAAAAAAAAAAAAAAAAAAAAAAAAAAAAAAAAAAAAAAAAAAAAAAAAAAAAAAAAAAAAAAAAAAAAAAAAAAAAAAAAAAAAAAAAAAAAAAAAAAAAAAAAAAAAAAAAAAAAAAAAAAAAAAAAAAAAAAAAAAAAAAAAAAAAAAAAAAAAAAAAAAAAAAAAAAJkAAAAAAAAAAAAAAAAAAFJ9AAAAAAAAAAAAAAAAAAAAAAAAAAAAAAAAAAAAAAAAAAAAAAAAAAAAAAAAAAAAAAAAAAAAAAAAAAAAAAAAAAAAAQAAAAAAAAAAAAAAAAAAAAAAAAAAAAAAAAAAAAAAAAAAAAAAAAAAAAAAAAAAAAAAAAAAAAAAAAAAAAAAAAAAAAAA=",
          "dtype": "f8"
         },
         "yaxis": "y"
        },
        {
         "hovertemplate": "<b>%{hovertext}</b><br><br>Country=TURKEY<br>Magnitude do Terremoto=%{x}<br>Total de Mortes=%{y}<br>Maximum Water Height (m)=%{marker.size}<extra></extra>",
         "hovertext": [
          "ANTALYA, TURKEY",
          "MARMARA SEA",
          "MARMARA SEA",
          "MARMARA SEA",
          "ANTIOCHIA",
          "CONSTANTINOPLE",
          "IZMIR",
          "FETIYE, ASIA MINOR",
          "ASIA MINOR",
          "ASIA MINOR",
          "ASIA MINOR",
          "ASIA MINOR",
          "MARMARA SEA",
          "IMROZ - AEGEAN SEA",
          "SAMANDAG (SUAIDIYA)",
          "GULF OF IZMIT",
          "MARMARA SEA",
          "MARMARA SEA",
          "WESTERN TURKEY",
          "MARMARA SEA",
          "SOUTH BLACK SEA",
          "EDREMIT GULF, AEGEAN SEA",
          "ASIA MINOR",
          "MARMARA SEA",
          "BLACK SEA",
          "KOCAELI, TURKEY",
          "GULF OF GÖKOVA",
          "AEGEAN SEA",
          "GULF OF ISKENDERUN",
          "EASTERN TURKEY",
          "ANTALYA, TURKEY"
         ],
         "legendgroup": "TURKEY",
         "marker": {
          "color": "#FECB52",
          "size": {
           "bdata": "AAAAAAAAAAAAAAAAAAAAAAAAAAAAAAAAAAAAAAAAAAAAAAAAAAAAAAAAAAAAAAAAAAAAAAAAAAAzMzMzMzPjP83MzMzMzPw/AAAAAAAAAAAAAAAAAAAAAAAAAAAAAAAAAAAAAAAAAAAAAAAAAAAAAAAAAAAAAAAAAAAAAAAAAAAAAAAAAAASQJqZmZmZmQVAAAAAAAAAAAAAAAAAAAAAAPYoXI/C9eA/AAAAAAAAAAAAAAAAAAAAAAAAAAAAAPA/AAAAAAAACEApXI/C9SgEQGZmZmZmZv4/MzMzMzMzFUAAAAAAAADQPwAAAAAAAAAAAAAAAAAAAAA=",
           "dtype": "f8"
          },
          "sizemode": "area",
          "sizeref": 1.3115,
          "symbol": "circle"
         },
         "mode": "markers",
         "name": "TURKEY",
         "showlegend": true,
         "type": "scattergl",
         "x": {
          "bdata": "AAAAAAAA+H8zMzMzMzMbQAAAAAAAAPh/AAAAAAAAGkBmZmZmZmYcQDMzMzMzMx1AAAAAAAAA+H9mZmZmZmYcQAAAAAAAAPh/AAAAAAAA+H8AAAAAAAD4fwAAAAAAAPh/AAAAAAAA+H+amZmZmZkbQDMzMzMzMx1AZmZmZmZmGkDNzMzMzMwaQM3MzMzMzBxAMzMzMzMzEUCamZmZmZkZQDMzMzMzMx9AzczMzMzMGkCamZmZmZkZQM3MzMzMzBhAZmZmZmZmGkBmZmZmZmYeQGZmZmZmZhpAAAAAAAAAHEAzMzMzMzMfQAAAAAAAAB5AMzMzMzMzGUA=",
          "dtype": "f8"
         },
         "xaxis": "x",
         "y": {
          "bdata": "AAAAAAAAAAAAAAAAAAAAAAAAAAAAAAAAAAAAAAAAAAAAAAAAAEC/QAAAAAAAAAAAAAAAAAAAAAAAAAAAAAAAAAAAAAAAAAAAAAAAAAAAAAAAAAAAAAAAAAAAAAAAAAAAAAAAAAAAAAAAAAAAAAAAAAAAAAAAIJxAAAAAAAAAREAAAAAAAAAAAAAAAAAA4KVAAAAAAAAAAAAAAAAAAAAUQAAAAAAA799AAAAAAAAAPkAAAAAAAAAAAAAAAAAAAPA/AAAAAAAAOEAAAAAAgLfQQAAAAAAAAABAAAAAAACAXUAAAAAAIK/rQAAAAAAAAAAAAAAAAAAAGEA=",
          "dtype": "f8"
         },
         "yaxis": "y"
        },
        {
         "hovertemplate": "<b>%{hovertext}</b><br><br>Country=COSTA RICA<br>Magnitude do Terremoto=%{x}<br>Total de Mortes=%{y}<br>Maximum Water Height (m)=%{marker.size}<extra></extra>",
         "hovertext": [
          "MATINA",
          "MATINA",
          "LA MATINA",
          "MATINA",
          "COSTA RICA-PANAMA",
          "COSTA RICA-PANAMA",
          "GULF OF NICOYA",
          "COSTA RICA-PANAMA",
          "COSTA RICA",
          "COSTA RICA-PANAMA",
          "COSTA RICA-PANAMA",
          "COSTA RICA-NICARAGUA",
          "COSTA RICA-PANAMA",
          "COSTA RICA",
          "COSTA RICA",
          "LIMON, PANDORA",
          "COSTA RICA",
          "IRAZU VOLCANO"
         ],
         "legendgroup": "COSTA RICA",
         "marker": {
          "color": "#636efa",
          "size": {
           "bdata": "AAAAAAAAAAAAAAAAAAAAAAAAAAAAAAAAAAAAAAAAAAAAAAAAAAAAAAAAAAAAAAAAAAAAAAAAAAAAAAAAAAAAAAAAAAAAAAAA4XoUrkfhyj+4HoXrUbi+PwAAAAAAAABA7FG4HoXrsT+kcD0K16PAPwAAAAAAAPA/AAAAAAAACEB7FK5H4XrEPwAAAAAAAAAA",
           "dtype": "f8"
          },
          "sizemode": "area",
          "sizeref": 1.3115,
          "symbol": "circle"
         },
         "mode": "markers",
         "name": "COSTA RICA",
         "showlegend": true,
         "type": "scattergl",
         "x": {
          "bdata": "AAAAAAAA+H8AAAAAAAD4fwAAAAAAAPh/ZmZmZmZmHkAzMzMzMzMdQM3MzMzMzBxAMzMzMzMzG0AAAAAAAAD4f83MzMzMzBpAZmZmZmZmHkCamZmZmZkbQM3MzMzMzB5AmpmZmZmZGUAAAAAAAAAeQDMzMzMzMx1AZmZmZmZmHkBmZmZmZmYeQAAAAAAAAPh/",
          "dtype": "f8"
         },
         "xaxis": "x",
         "y": {
          "bdata": "AAAAAAAAAAAAAAAAAAAAAAAAAAAAAAAAAAAAAAAAAAAAAAAAAAAAAAAAAAAAAAAAAAAAAAAAAAAAAAAAAAAAAAAAAAAAAAAAAAAAAAAAGEAAAAAAAAAAAAAAAAAAAAAAAAAAAAAAAAAAAAAAAAAYQAAAAAAAAAAAAAAAAACAVkAAAAAAAAAAQAAAAAAAAAAA",
          "dtype": "f8"
         },
         "yaxis": "y"
        },
        {
         "hovertemplate": "<b>%{hovertext}</b><br><br>Country=CROATIA<br>Magnitude do Terremoto=%{x}<br>Total de Mortes=%{y}<br>Maximum Water Height (m)=%{marker.size}<extra></extra>",
         "hovertext": [
          "RIJEKA",
          "BAKAR",
          "DUBROVNIK",
          "RIJEKA",
          "DUBROVNIK",
          "DUBROVNIK",
          "DUBROVNIK",
          "DUBROVNIK",
          "ADRIATIC SEA",
          "ADRIATIC SEA",
          "ADRIATIC SEA",
          "DALMATIAN COASTS"
         ],
         "legendgroup": "CROATIA",
         "marker": {
          "color": "#EF553B",
          "size": {
           "bdata": "AAAAAAAAAAAAAAAAAAAAAAAAAAAAAAAAAAAAAAAAAAAAAAAAAAAAAAAAAAAAAAAAAAAAAAAAAAAAAAAAAAAAAAAAAAAAAAAAAAAAAAAAAAAAAAAAAAAAAHsUrkfheqQ/",
           "dtype": "f8"
          },
          "sizemode": "area",
          "sizeref": 1.3115,
          "symbol": "circle"
         },
         "mode": "markers",
         "name": "CROATIA",
         "showlegend": true,
         "type": "scattergl",
         "x": {
          "bdata": "AAAAAAAA+H8AAAAAAAD4fwAAAAAAAPh/MzMzMzMzFUAAAAAAAAAaQAAAAAAAAPh/AAAAAAAA+H8AAAAAAAD4fwAAAAAAAPh/AAAAAAAA+H8AAAAAAAD4f2ZmZmZmZhhA",
          "dtype": "f8"
         },
         "xaxis": "x",
         "y": {
          "bdata": "AAAAAAAAAAAAAAAAAAAAAAAAAAAAAAAAAAAAAAAAAAAAAAAAAAAAAAAAAAAAAAAAAAAAAAAAAAAAAAAAAAAAAAAAAAAAAAAAAAAAAAAAAAAAAAAAAAAAAAAAAAAAAPA/",
          "dtype": "f8"
         },
         "yaxis": "y"
        },
        {
         "hovertemplate": "<b>%{hovertext}</b><br><br>Country=HAITI<br>Magnitude do Terremoto=%{x}<br>Total de Mortes=%{y}<br>Maximum Water Height (m)=%{marker.size}<extra></extra>",
         "hovertext": [
          "PORT-AU-PRINCE",
          "PORT-AU-PRINCE",
          "PORT-AU-PRINCE",
          "PORT-AU-PRINCE",
          "HAITI & DOMINICAN REPUBLIC",
          "CAP-HAITIAN",
          "ANSE-A-VEAU",
          "PETIT TROU NIPPES",
          "JACMEL",
          "MOLE SAINT-NICOLAS",
          "HAITI & DOMINICAN REPUBLIC",
          "PORT-AU-PRINCE"
         ],
         "legendgroup": "HAITI",
         "marker": {
          "color": "#00cc96",
          "size": {
           "bdata": "AAAAAAAAAAAAAAAAAAAAAAAAAAAAAAAAAAAAAAAAAAAAAAAAAAAAAAAAAAAAABRAAAAAAAAAAAAAAAAAAAAAAAAAAAAAAAAAAAAAAAAAAACuR+F6FK4JQAAAAAAAAAAA",
           "dtype": "f8"
          },
          "sizemode": "area",
          "sizeref": 1.3115,
          "symbol": "circle"
         },
         "mode": "markers",
         "name": "HAITI",
         "showlegend": true,
         "type": "scattergl",
         "x": {
          "bdata": "MzMzMzMzHUAAAAAAAAD4fwAAAAAAAPh/AAAAAAAAHkAAAAAAAAD4fzMzMzMzMyBAAAAAAAAAHkAAAAAAAAD4fwAAAAAAAPh/AAAAAAAA+H8AAAAAAAAcQM3MzMzMzBxA",
          "dtype": "f8"
         },
         "xaxis": "x",
         "y": {
          "bdata": "AAAAAAAAAAAAAAAAAAAAAAAAAAAAAAAAAAAAAAAAaUAAAAAAAAAAAAAAAAAAtLRAAAAAAAAAAAAAAAAAAAAAAAAAAAAAAAAAAAAAAAAAAAAAAAAAgEkTQQAAAAAAkKFA",
          "dtype": "f8"
         },
         "yaxis": "y"
        },
        {
         "hovertemplate": "<b>%{hovertext}</b><br><br>Country=DOMINICAN REPUBLIC<br>Magnitude do Terremoto=%{x}<br>Total de Mortes=%{y}<br>Maximum Water Height (m)=%{marker.size}<extra></extra>",
         "hovertext": [
          "AZUA  DE COMPOSTELA",
          "SANTO DOMINGO",
          "SANTO DOMINGO",
          "NORTHEASTERN COAST",
          "NORTHEASTERN COAST",
          "PUERTO PLATA"
         ],
         "legendgroup": "DOMINICAN REPUBLIC",
         "marker": {
          "color": "#ab63fa",
          "size": {
           "bdata": "AAAAAAAAAAAAAAAAAAAAAAAAAAAAAAAAAAAAAAAAFEAzMzMzMzPjP7gehetRuK4/",
           "dtype": "f8"
          },
          "sizemode": "area",
          "sizeref": 1.3115,
          "symbol": "circle"
         },
         "mode": "markers",
         "name": "DOMINICAN REPUBLIC",
         "showlegend": true,
         "type": "scattergl",
         "x": {
          "bdata": "MzMzMzMzHUAAAAAAAAD4fwAAAAAAAPh/mpmZmZmZH0AAAAAAAAAeQM3MzMzMzBxA",
          "dtype": "f8"
         },
         "xaxis": "x",
         "y": {
          "bdata": "AAAAAAAAAAAAAAAAAAAAAAAAAAAAgEVAAAAAAAD4m0AAAAAAAMBSQAAAAAAAAAAA",
          "dtype": "f8"
         },
         "yaxis": "y"
        },
        {
         "hovertemplate": "<b>%{hovertext}</b><br><br>Country=BARBADOS<br>Magnitude do Terremoto=%{x}<br>Total de Mortes=%{y}<br>Maximum Water Height (m)=%{marker.size}<extra></extra>",
         "hovertext": [
          "LESSER ANTILLES",
          "BARBADOS",
          "BARBADOS"
         ],
         "legendgroup": "BARBADOS",
         "marker": {
          "color": "#FFA15A",
          "size": {
           "bdata": "AAAAAAAAAAAAAAAAAAAAAAAAAAAAAAAA",
           "dtype": "f8"
          },
          "sizemode": "area",
          "sizeref": 1.3115,
          "symbol": "circle"
         },
         "mode": "markers",
         "name": "BARBADOS",
         "showlegend": true,
         "type": "scattergl",
         "x": {
          "bdata": "AAAAAAAA+H8AAAAAAAD4fwAAAAAAAPh/",
          "dtype": "f8"
         },
         "xaxis": "x",
         "y": {
          "bdata": "AAAAAAAAAAAAAAAAAAAAAAAAAAAAAAAA",
          "dtype": "f8"
         },
         "yaxis": "y"
        },
        {
         "hovertemplate": "<b>%{hovertext}</b><br><br>Country=SYRIA<br>Magnitude do Terremoto=%{x}<br>Total de Mortes=%{y}<br>Maximum Water Height (m)=%{marker.size}<extra></extra>",
         "hovertext": [
          "LATAKIA"
         ],
         "legendgroup": "SYRIA",
         "marker": {
          "color": "#19d3f3",
          "size": {
           "bdata": "AAAAAAAAAAA=",
           "dtype": "f8"
          },
          "sizemode": "area",
          "sizeref": 1.3115,
          "symbol": "circle"
         },
         "mode": "markers",
         "name": "SYRIA",
         "showlegend": true,
         "type": "scattergl",
         "x": {
          "bdata": "AAAAAAAAHEA=",
          "dtype": "f8"
         },
         "xaxis": "x",
         "y": {
          "bdata": "AAAAAACI00A=",
          "dtype": "f8"
         },
         "yaxis": "y"
        },
        {
         "hovertemplate": "<b>%{hovertext}</b><br><br>Country=UK<br>Magnitude do Terremoto=%{x}<br>Total de Mortes=%{y}<br>Maximum Water Height (m)=%{marker.size}<extra></extra>",
         "hovertext": [
          "RIVER TEES, ENGLAND",
          "ILFRACOMBE, ENGLAND",
          "SCILLY ISLANDS, ENGLAND",
          "MOUNT'S BAY, ENGLAND",
          "GUERNSEY, ENGLISH CHANNEL",
          "THE THAMES, ENGLAND",
          "WEYMOUTH, ENGLAND",
          "BRISTOL, ENGLAND",
          "LONDON, ENGLAND",
          "PLYMOUTH, ENGLAND",
          "SW ENGLAND",
          "CORNWALL, ENGLAND",
          "DOVER STRAITS, ENGLAND",
          "SW ENGLAND",
          "ENGLISH CHANNEL",
          "DOGGER BANK, ENGLAND",
          "PLYMOUTH, ENGLAND"
         ],
         "legendgroup": "UK",
         "marker": {
          "color": "#FF6692",
          "size": {
           "bdata": "zczMzMzM7D/NzMzMzMz8PwAAAAAAAAAAAAAAAAAAAAAAAAAAAAAAAAAAAAAAAAhAAAAAAAAACEAAAAAAAAAAAAAAAAAAAAAAAAAAAAAAAAAAAAAAAAAAAAAAAAAAAAAAMzMzMzMzA0AAAAAAAAAAAAAAAAAAAAAAAAAAAAAAAACamZmZmZnZPw==",
           "dtype": "f8"
          },
          "sizemode": "area",
          "sizeref": 1.3115,
          "symbol": "circle"
         },
         "mode": "markers",
         "name": "UK",
         "showlegend": true,
         "type": "scattergl",
         "x": {
          "bdata": "AAAAAAAA+H8AAAAAAAD4fwAAAAAAAPh/AAAAAAAA+H8AAAAAAAD4fwAAAAAAAPh/AAAAAAAA+H8AAAAAAAD4fwAAAAAAAPh/AAAAAAAA+H8AAAAAAAD4fwAAAAAAAPh/AAAAAAAA+H8AAAAAAAD4fwAAAAAAAPh/AAAAAAAAGEAAAAAAAAD4fw==",
          "dtype": "f8"
         },
         "xaxis": "x",
         "y": {
          "bdata": "AAAAAAAAAAAAAAAAAAAAAAAAAAAAAAAAAAAAAAAAAAAAAAAAAAAAAAAAAAAAAAAAAAAAAAAAAAAAAAAAAAAAAAAAAAAAAAAAAAAAAAAAAAAAAAAAAAAAAAAAAAAAAAAAAAAAAAAAAAAAAAAAAAAAAAAAAAAAAAAAAAAAAAAAAAAAAAAAAAAAAA==",
          "dtype": "f8"
         },
         "yaxis": "y"
        },
        {
         "hovertemplate": "<b>%{hovertext}</b><br><br>Country=ISRAEL<br>Magnitude do Terremoto=%{x}<br>Total de Mortes=%{y}<br>Maximum Water Height (m)=%{marker.size}<extra></extra>",
         "hovertext": [
          "AKKO",
          "ISRAEL and SYRIAN COASTS",
          "DEAD SEA"
         ],
         "legendgroup": "ISRAEL",
         "marker": {
          "color": "#B6E880",
          "size": {
           "bdata": "AAAAAAAAIEAAAAAAAAAAAAAAAAAAAPA/",
           "dtype": "f8"
          },
          "sizemode": "area",
          "sizeref": 1.3115,
          "symbol": "circle"
         },
         "mode": "markers",
         "name": "ISRAEL",
         "showlegend": true,
         "type": "scattergl",
         "x": {
          "bdata": "ZmZmZmZmGkAAAAAAAAD4fzMzMzMzMxlA",
          "dtype": "f8"
         },
         "xaxis": "x",
         "y": {
          "bdata": "AAAAAABAn0AAAAAAAAAAAAAAAAAAwHBA",
          "dtype": "f8"
         },
         "yaxis": "y"
        },
        {
         "hovertemplate": "<b>%{hovertext}</b><br><br>Country=LEBANON<br>Magnitude do Terremoto=%{x}<br>Total de Mortes=%{y}<br>Maximum Water Height (m)=%{marker.size}<extra></extra>",
         "hovertext": [
          "ISRAEL AND LEBANON COASTS",
          "BEIRUT"
         ],
         "legendgroup": "LEBANON",
         "marker": {
          "color": "#FF97FF",
          "size": {
           "bdata": "AAAAAAAAAAAAAAAAAAAAAA==",
           "dtype": "f8"
          },
          "sizemode": "area",
          "sizeref": 1.3115,
          "symbol": "circle"
         },
         "mode": "markers",
         "name": "LEBANON",
         "showlegend": true,
         "type": "scattergl",
         "x": {
          "bdata": "mpmZmZmZHUAAAAAAAAD4fw==",
          "dtype": "f8"
         },
         "xaxis": "x",
         "y": {
          "bdata": "AAAAAABM3UAAAAAAAAAAAA==",
          "dtype": "f8"
         },
         "yaxis": "y"
        },
        {
         "hovertemplate": "<b>%{hovertext}</b><br><br>Country=GERMANY<br>Magnitude do Terremoto=%{x}<br>Total de Mortes=%{y}<br>Maximum Water Height (m)=%{marker.size}<extra></extra>",
         "hovertext": [
          "GERMANY & DENMARK"
         ],
         "legendgroup": "GERMANY",
         "marker": {
          "color": "#FECB52",
          "size": {
           "bdata": "AAAAAAAAAAA=",
           "dtype": "f8"
          },
          "sizemode": "area",
          "sizeref": 1.3115,
          "symbol": "circle"
         },
         "mode": "markers",
         "name": "GERMANY",
         "showlegend": true,
         "type": "scattergl",
         "x": {
          "bdata": "AAAAAAAA+H8=",
          "dtype": "f8"
         },
         "xaxis": "x",
         "y": {
          "bdata": "AAAAAAAAAAA=",
          "dtype": "f8"
         },
         "yaxis": "y"
        },
        {
         "hovertemplate": "<b>%{hovertext}</b><br><br>Country=BANGLADESH<br>Magnitude do Terremoto=%{x}<br>Total de Mortes=%{y}<br>Maximum Water Height (m)=%{marker.size}<extra></extra>",
         "hovertext": [
          "NORTHERN BAY OF BENGAL",
          "BAY OF BENGAL:  NORTHERN END",
          "JAMUNA RIVER, ARICHA, BANGLADESH",
          "BANGLADESH"
         ],
         "legendgroup": "BANGLADESH",
         "marker": {
          "color": "#636efa",
          "size": {
           "bdata": "SOF6FK5H/T8AAAAAAAAAAAAAAAAAAAAAAAAAAAAAAAA=",
           "dtype": "f8"
          },
          "sizemode": "area",
          "sizeref": 1.3115,
          "symbol": "circle"
         },
         "mode": "markers",
         "name": "BANGLADESH",
         "showlegend": true,
         "type": "scattergl",
         "x": {
          "bdata": "AAAAAAAA+H8AAAAAAAAYQM3MzMzMzBxAZmZmZmZmGkA=",
          "dtype": "f8"
         },
         "xaxis": "x",
         "y": {
          "bdata": "AAAAAAAAAAAAAAAAAAAAAAAAAAAAABRAAAAAAAAwj0A=",
          "dtype": "f8"
         },
         "yaxis": "y"
        },
        {
         "hovertemplate": "<b>%{hovertext}</b><br><br>Country=SWEDEN<br>Magnitude do Terremoto=%{x}<br>Total de Mortes=%{y}<br>Maximum Water Height (m)=%{marker.size}<extra></extra>",
         "hovertext": [
          "SWEDEN",
          "SWEDEN: SUNDVAL",
          "NORSALV RIVER"
         ],
         "legendgroup": "SWEDEN",
         "marker": {
          "color": "#EF553B",
          "size": {
           "bdata": "MzMzMzMz8z8AAAAAAAAAAAAAAAAAABRA",
           "dtype": "f8"
          },
          "sizemode": "area",
          "sizeref": 1.3115,
          "symbol": "circle"
         },
         "mode": "markers",
         "name": "SWEDEN",
         "showlegend": true,
         "type": "scattergl",
         "x": {
          "bdata": "AAAAAAAA+H8AAAAAAAD4fwAAAAAAAPh/",
          "dtype": "f8"
         },
         "xaxis": "x",
         "y": {
          "bdata": "AAAAAAAAAAAAAAAAAAAAAAAAAAAAAAAA",
          "dtype": "f8"
         },
         "yaxis": "y"
        },
        {
         "hovertemplate": "<b>%{hovertext}</b><br><br>Country=CUBA<br>Magnitude do Terremoto=%{x}<br>Total de Mortes=%{y}<br>Maximum Water Height (m)=%{marker.size}<extra></extra>",
         "hovertext": [
          "SANTIAGO DE CUBA",
          "SANTIAGO DE CUBA",
          "SANTIAGO DE CUBA",
          "NORTHERN COAST (LAS VILLAS)",
          "SANTIAGO DE CUBA",
          "SANTA CLARA",
          "OFF SE COAST OF CUBA"
         ],
         "legendgroup": "CUBA",
         "marker": {
          "color": "#00cc96",
          "size": {
           "bdata": "AAAAAAAAAAAAAAAAAAAAAAAAAAAAAAAAAAAAAAAA8D8AAAAAAAAAAAAAAAAAAAAAKVyPwvUovD8=",
           "dtype": "f8"
          },
          "sizemode": "area",
          "sizeref": 1.3115,
          "symbol": "circle"
         },
         "mode": "markers",
         "name": "CUBA",
         "showlegend": true,
         "type": "scattergl",
         "x": {
          "bdata": "MzMzMzMzG0AAAAAAAAD4fwAAAAAAAPh/AAAAAAAA+H/NzMzMzMwaQGZmZmZmZhZAzczMzMzMHkA=",
          "dtype": "f8"
         },
         "xaxis": "x",
         "y": {
          "bdata": "AAAAAAAAREAAAAAAAAAAAAAAAAAAAAAAAAAAAAAAAAAAAAAAAAAsQAAAAAAAAAAAAAAAAAAAAAA=",
          "dtype": "f8"
         },
         "yaxis": "y"
        },
        {
         "hovertemplate": "<b>%{hovertext}</b><br><br>Country=VENEZUELA<br>Magnitude do Terremoto=%{x}<br>Total de Mortes=%{y}<br>Maximum Water Height (m)=%{marker.size}<extra></extra>",
         "hovertext": [
          "CUMANA",
          "CUMANA",
          "LA GUAIRA",
          "CUMANA",
          "RIO CARIBE",
          "MANCUTO",
          "CARACAS",
          "OCUMARE DE LA COSTA DE ORO",
          "LAGO DE MARACAIBO",
          "CARUPANO",
          "CUMANA",
          "CUMANA",
          "EL TOCUYO",
          "OFF THE COAST NEAR LA VELA",
          "CARACAS",
          "CARUPANO",
          "PUERTO CUMAREBO",
          "CARIACO-CUMANA",
          "SUCRE"
         ],
         "legendgroup": "VENEZUELA",
         "marker": {
          "color": "#ab63fa",
          "size": {
           "bdata": "AAAAAAAAAAAAAAAAAAAAAAAAAAAAAAAAAAAAAAAAFEAAAAAAAAAAAAAAAAAAACRAAAAAAAAAAAAAAAAAAAAAAAAAAAAAAAAAAAAAAAAAAAAAAAAAAAAYQAAAAAAAAAAAAAAAAAAAAAAAAAAAAAAAAHsUrkfherQ/AAAAAAAAAAAAAAAAAAAAAAAAAAAAAAAAAAAAAAAAAAA=",
           "dtype": "f8"
          },
          "sizemode": "area",
          "sizeref": 1.3115,
          "symbol": "circle"
         },
         "mode": "markers",
         "name": "VENEZUELA",
         "showlegend": true,
         "type": "scattergl",
         "x": {
          "bdata": "AAAAAAAAHkAAAAAAAAD4f83MzMzMzB5AzczMzMzMGkAAAAAAAAAhQM3MzMzMzB5AAAAAAAAA+H8AAAAAAAD4fwAAAAAAAPh/AAAAAAAA+H+amZmZmZkbQAAAAAAAAPh/mpmZmZmZGUAAAAAAAAAWQGZmZmZmZhpAAAAAAAAAGkAAAAAAAAAUQAAAAAAAABxAMzMzMzMzHUA=",
          "dtype": "f8"
         },
         "xaxis": "x",
         "y": {
          "bdata": "AAAAAAAAAAAAAAAAAAAAAAAAAAAAZNlAAAAAAABAj0AAAAAAAAAAAAAAAAAAADlAAAAAAAAAAAAAAAAAAAAAAAAAAAAAAAAAAAAAAAAAAAAAAAAAAABJQAAAAAAAAAAAAAAAAAAAWUAAAAAAAAAAAAAAAAAAwHJAAAAAAAAACEAAAAAAAAAAAAAAAAAAQFRAAAAAAAAAFEA=",
          "dtype": "f8"
         },
         "yaxis": "y"
        },
        {
         "hovertemplate": "<b>%{hovertext}</b><br><br>Country=MARTINIQUE (FRENCH TERRITORY)<br>Magnitude do Terremoto=%{x}<br>Total de Mortes=%{y}<br>Maximum Water Height (m)=%{marker.size}<extra></extra>",
         "hovertext": [
          "MARTINIQUE & BARBADOS",
          "SAINT PIERRE",
          "SAINT PIERRE",
          "MARTINIQUE",
          "MOUNT PELEE",
          "MOUNT PELEE",
          "MOUNT PELEE",
          "FORT-DE-FRANCE",
          "MARTINIQUE",
          "MOUNT PELEE",
          "MARTINIQUE"
         ],
         "legendgroup": "MARTINIQUE (FRENCH TERRITORY)",
         "marker": {
          "color": "#FFA15A",
          "size": {
           "bdata": "AAAAAAAAAAAAAAAAAAAAAAAAAAAAAAAAAAAAAAAAAAAAAAAAAAAUQAAAAAAAAABAAAAAAAAAEEAAAAAAAADwPzMzMzMzM+M/AAAAAAAACEAAAAAAAAAAAA==",
           "dtype": "f8"
          },
          "sizemode": "area",
          "sizeref": 1.3115,
          "symbol": "circle"
         },
         "mode": "markers",
         "name": "MARTINIQUE (FRENCH TERRITORY)",
         "showlegend": true,
         "type": "scattergl",
         "x": {
          "bdata": "AAAAAAAA+H8AAAAAAAD4fwAAAAAAAPh/MzMzMzMzH0AAAAAAAAD4fwAAAAAAAPh/AAAAAAAA+H8AAAAAAAD4fwAAAAAAAPh/AAAAAAAA+H+amZmZmZkdQA==",
          "dtype": "f8"
         },
         "xaxis": "x",
         "y": {
          "bdata": "AAAAAAAAAAAAAAAAAAAAAAAAAAAAAAAAAAAAAABgeEAAAAAAAAA3QAAAAAAAWNtAAAAAAAAAAAAAAAAAAAAAAAAAAAAAAAAAAAAAAABwl0AAAAAAAAAAAA==",
          "dtype": "f8"
         },
         "yaxis": "y"
        },
        {
         "hovertemplate": "<b>%{hovertext}</b><br><br>Country=IRELAND<br>Magnitude do Terremoto=%{x}<br>Total de Mortes=%{y}<br>Maximum Water Height (m)=%{marker.size}<extra></extra>",
         "hovertext": [
          "IRELAND"
         ],
         "legendgroup": "IRELAND",
         "marker": {
          "color": "#19d3f3",
          "size": {
           "bdata": "AAAAAAAA+D8=",
           "dtype": "f8"
          },
          "sizemode": "area",
          "sizeref": 1.3115,
          "symbol": "circle"
         },
         "mode": "markers",
         "name": "IRELAND",
         "showlegend": true,
         "type": "scattergl",
         "x": {
          "bdata": "AAAAAAAA+H8=",
          "dtype": "f8"
         },
         "xaxis": "x",
         "y": {
          "bdata": "AAAAAAAAAAA=",
          "dtype": "f8"
         },
         "yaxis": "y"
        },
        {
         "hovertemplate": "<b>%{hovertext}</b><br><br>Country=PAPUA NEW GUINEA<br>Magnitude do Terremoto=%{x}<br>Total de Mortes=%{y}<br>Maximum Water Height (m)=%{marker.size}<extra></extra>",
         "hovertext": [
          "CAPE SAINT GEORGE, NEW IRELAND",
          "BISMARCK SEA",
          "BISMARCK SEA",
          "RITTER ISLAND",
          "SOLOMON SEA",
          "EAST COAST, NEW IRELAND",
          "BISMARCK SEA",
          "BISMARCK SEA",
          "RABAUL HARBOR",
          "SOLOMON SEA",
          "BISMARCK SEA",
          "BISMARCK SEA",
          "MATUPI HARBOR",
          "BLANCHE BAY, BISMARCK SEA",
          "SOLOMON SEA",
          "BISMARCK SEA",
          "BISMARCK SEA",
          "SOLOMON SEA",
          "SOLOMON SEA",
          "BISMARCK SEA",
          "BISMARCK SEA",
          "NEW BRITAIN",
          "BISMARCK SEA",
          "BISMARCK SEA",
          "BISMARCK SEA",
          "BISMARCK SEA",
          "BISMARCK SEA",
          "BISMARCK SEA",
          "RABAUL",
          "SOLOMON SEA",
          "SOLOMON SEA",
          "SOLOMON SEA",
          "BISMARCK SEA",
          "SOLOMON SEA",
          "BISMARCK SEA",
          "RABAUL, NEW BRITAIN",
          "BISMARCK SEA",
          "SOLOMON SEA",
          "BISMARCK SEA",
          "SOLOMON SEA",
          "NEW BRITAIN",
          "BISMARCK SEA",
          "BISMARCK SEA",
          "PAPUA NEW GUINEA",
          "SOLOMON SEA",
          "SOLOMON SEA",
          "BISMARCK SEA",
          "SOLOMON SEA",
          "SOLOMON SEA",
          "RITTER ISLAND, PAPUA NEW GUINEA",
          "RITTER ISLAND, PAPUA NEW GUINEA",
          "SOLOMON SEA",
          "ADMIRALTY ISLANDS",
          "ADMIRALTY ISLANDS",
          "NEW BRITAIN",
          "NEW IRELAND",
          "SOLOMON SEA",
          "SOLOMON SEA",
          "SOLOMON SEA",
          "PAPUA NEW GUINEA",
          "RABAUL HARBOR",
          "PAPUA NEW GUINEA",
          "SOLOMON SEA",
          "PAPUA NEW GUINEA",
          "BISMARCK SEA",
          "BISMARCK SEA",
          "RITTER ISLAND, PAPUA NEW GUINEA",
          "SOLOMON SEA",
          "SOLOMON SEA",
          "SOLOMON SEA",
          "BISMARCK SEA",
          "NEW BRITAIN",
          "SOLOMON SEA",
          "BOUGAINVILLE ISLAND",
          "SOLOMON SEA",
          "KADOVAR ISLAND, PAPUA NEW GUINEA",
          "RABAUL, NEW BRITAIN"
         ],
         "legendgroup": "PAPUA NEW GUINEA",
         "marker": {
          "color": "#FF6692",
          "size": {
           "bdata": "AAAAAAAAAAAAAAAAAAAAAAAAAAAAAAAAAAAAAAAALkAAAAAAAAAYQAAAAAAAAAAAAAAAAAAAAAAAAAAAAAAAAAAAAAAAAAhAAAAAAAAA+D8zMzMzMzPzPwAAAAAAAAAAAAAAAAAAAAAAAAAAAAAAAJqZmZmZmbk/AAAAAAAAAADNzMzMzMzsPwAAAAAAAAAAAAAAAAAAAADNzMzMzMz8PwAAAAAAAAAAAAAAAAAAAAAAAAAAAAAAAAAAAAAAAChAAAAAAAAAAAAAAAAAAAAAAAAAAAAAAAAAAAAAAAAAAAAAAAAAAAAEQLgehetRuJ4/AAAAAAAAAAAAAAAAAAAAADMzMzMzM8M/MzMzMzMz0z8AAAAAAAAYQAAAAAAAAAAAAAAAAAAAAAAAAAAAAAAAAAAAAAAAAAAAAAAAAAAAAACamZmZmZmpP5qZmZmZmbk/AAAAAAAAAAAAAAAAAAAIQAAAAAAAABhAAAAAAAAAJEDNzMzMzMz8PzMzMzMzM+M/AAAAAAAA+D8AAAAAAAAAAAAAAAAAAOA/AAAAAAAAAEAAAAAAAADgPzMzMzMzM+M/pHA9CtejwD/NzMzMzMz0PwAAAAAAAPg/exSuR+F6pD/sUbgeheuxPwAAAAAAAAAAMzMzMzMz0z8AAAAAAAAIQOxRuB6F69E/j8L1KFwPLkAAAAAAAAAIQAAAAAAAABZAAAAAAAAAJEAAAAAAAAAAALgehetRuK4/KVyPwvUovD8AAAAAAADgPwAAAAAAAPA/exSuR+F6tD97FK5H4XqkP3sUrkfheqQ/AAAAAAAA8D8AAAAAAAAAAA==",
           "dtype": "f8"
          },
          "sizemode": "area",
          "sizeref": 1.3115,
          "symbol": "circle"
         },
         "mode": "markers",
         "name": "PAPUA NEW GUINEA",
         "showlegend": true,
         "type": "scattergl",
         "x": {
          "bdata": "AAAAAAAAHkAAAAAAAAAgQAAAAAAAAPh/AAAAAAAA+H8zMzMzMzMdQAAAAAAAAPh/AAAAAAAA+H8zMzMzMzMbQGZmZmZmZhxAAAAAAAAAIEDNzMzMzMwcQJqZmZmZmR1AAAAAAAAAGEAAAAAAAAD4fwAAAAAAABxAmpmZmZmZH0AAAAAAAAAeQGZmZmZmZiBAzczMzMzMHkCamZmZmZkbQGZmZmZmZhxAZmZmZmZmHEBmZmZmZmYaQAAAAAAAABpAAAAAAAAAHEAAAAAAAAD4fwAAAAAAAPh/MzMzMzMzH0AAAAAAAAD4fwAAAAAAAPh/AAAAAAAAHkDNzMzMzMweQJqZmZmZmR1AAAAAAAAAHkBmZmZmZmYYQJqZmZmZmR1AAAAAAAAA+H8AAAAAAAAaQDMzMzMzMx1AZmZmZmZmGkBmZmZmZmYeQJqZmZmZmRlAmpmZmZmZFUAzMzMzMzMdQJqZmZmZmR9AmpmZmZmZH0AAAAAAAAAcQGZmZmZmZhxAAAAAAAAA+H8AAAAAAAD4fwAAAAAAAPh/mpmZmZmZH0AAAAAAAAAWQAAAAAAAABZAmpmZmZmZH0AzMzMzMzMdQJqZmZmZmR1AAAAAAAAAHECamZmZmZkdQDMzMzMzMxtAZmZmZmZmEkAAAAAAAAD4f83MzMzMzB5AAAAAAAAAHEAAAAAAAAAgQGZmZmZmZh5AAAAAAAAA+H/NzMzMzMwaQDMzMzMzMx1AAAAAAAAAHkAAAAAAAAAeQAAAAAAAAB5AmpmZmZmZH0CamZmZmZkfQJqZmZmZmRlAAAAAAAAA+H9mZmZmZmYeQA==",
          "dtype": "f8"
         },
         "xaxis": "x",
         "y": {
          "bdata": "AAAAAAAAAAAAAAAAAAAAAAAAAAAAAPA/AAAAAAAAAAAAAAAAAAAAAAAAAAAAAAAAAAAAAAAAAAAAAAAAAAAAAAAAAAAAAAAAAAAAAAAAAAAAAAAAAAAAAAAAAAAAAAAAAAAAAAAAAAAAAAAAAAAAAAAAAAAAAAAAAAAAAAAAAAAAAAAAAAAAAAAAAAAAAAAAAAAAAAAAAAAAAAAAAAAAAAAAAAAAAAAAAAAAAAAAAAAAAAAAAAAAAAAAAAAAADtAAAAAAAAAAAAAAAAAAAAAAAAAAAAAAAAAAAAAAAAAAAAAAAAAALB/QAAAAAAAAAAAAAAAAAAAAAAAAAAAAAAUQAAAAAAAABBAAAAAAAAAAAAAAAAAAAAAAAAAAAAAAAAAAAAAAAAAAAAAAAAAAAAAAAAAAAAAAAAAAAAAAAAAAAAAAAAAAAAAAAAAAAAAAAAAAAAAAAAAAAAAAAAAAAAyQAAAAAAAAAhAAAAAAAAAAAAAAAAAAAAAAAAAAAAAAAAAAAAAAAAAAAAAAAAAAAAAAAAAAAAAAAAAAAAAAAAAAAAAAAAAAAAAAAAAAAAAAAAAAAAAAAAAAAAAAAAAAAAAAAAAAAAAAAhAAAAAAAAAAAAAAAAAAAAAAAAAAAAAAAAAAAAAAAAAAAAAAAAAAAAQQAAAAAAAAAAAAAAAAACQmUAAAAAAAAAAQAAAAAAAABBAAAAAAAAAAAAAAAAAAAAAAAAAAAAAAAAAAAAAAAAAAAAAAAAAAAAAAAAAAAAAAAAAAAAAAAAAAAAAAAAAAAAIQAAAAAAAAAAAAAAAAAAAAAAAAAAAAAAAAA==",
          "dtype": "f8"
         },
         "yaxis": "y"
        },
        {
         "hovertemplate": "<b>%{hovertext}</b><br><br>Country=MOROCCO<br>Magnitude do Terremoto=%{x}<br>Total de Mortes=%{y}<br>Maximum Water Height (m)=%{marker.size}<extra></extra>",
         "hovertext": [
          "TANGIERS",
          "MOROCCO",
          "MOROCCO"
         ],
         "legendgroup": "MOROCCO",
         "marker": {
          "color": "#B6E880",
          "size": {
           "bdata": "AAAAAAAAIkAAAAAAAAAAAHsUrkfhepQ/",
           "dtype": "f8"
          },
          "sizemode": "area",
          "sizeref": 1.3115,
          "symbol": "circle"
         },
         "mode": "markers",
         "name": "MOROCCO",
         "showlegend": true,
         "type": "scattergl",
         "x": {
          "bdata": "AAAAAAAA+H8zMzMzMzMbQDMzMzMzMxlA",
          "dtype": "f8"
         },
         "xaxis": "x",
         "y": {
          "bdata": "AAAAAAAAAAAAAAAAAJbJQAAAAAAAAPA/",
          "dtype": "f8"
         },
         "yaxis": "y"
        },
        {
         "hovertemplate": "<b>%{hovertext}</b><br><br>Country=GUATEMALA<br>Magnitude do Terremoto=%{x}<br>Total de Mortes=%{y}<br>Maximum Water Height (m)=%{marker.size}<extra></extra>",
         "hovertext": [
          "GUATEMALA-NICARAGUA",
          "OCOSA",
          "OCOS",
          "OCOS",
          "GUATEMALA",
          "GUATEMALA",
          "GUATEMALA"
         ],
         "legendgroup": "GUATEMALA",
         "marker": {
          "color": "#FF97FF",
          "size": {
           "bdata": "AAAAAAAAAAAAAAAAAAAAAAAAAAAAAAAAAAAAAAAAAACamZmZmZnJP7gehetRuL4/ZmZmZmZm1j8=",
           "dtype": "f8"
          },
          "sizemode": "area",
          "sizeref": 1.3115,
          "symbol": "circle"
         },
         "mode": "markers",
         "name": "GUATEMALA",
         "showlegend": true,
         "type": "scattergl",
         "x": {
          "bdata": "AAAAAAAA+H8zMzMzMzMZQAAAAAAAAB5AAAAAAAAA+H8AAAAAAAAeQAAAAAAAAB5AMzMzMzMzHUA=",
          "dtype": "f8"
         },
         "xaxis": "x",
         "y": {
          "bdata": "AAAAAABAv0AAAAAAAAAAAAAAAAAAQJ9AAAAAAAAAAAAAAAAAAAAAAAAAAAAAdtZAAAAAAAAASEA=",
          "dtype": "f8"
         },
         "yaxis": "y"
        },
        {
         "hovertemplate": "<b>%{hovertext}</b><br><br>Country=BALTIC SEA<br>Magnitude do Terremoto=%{x}<br>Total de Mortes=%{y}<br>Maximum Water Height (m)=%{marker.size}<extra></extra>",
         "hovertext": [
          "BALTIC SEA"
         ],
         "legendgroup": "BALTIC SEA",
         "marker": {
          "color": "#636efa",
          "size": {
           "bdata": "AAAAAAAAAAA=",
           "dtype": "f8"
          },
          "sizemode": "area",
          "sizeref": 1.3115,
          "symbol": "circle"
         },
         "mode": "markers",
         "name": "BALTIC SEA",
         "showlegend": true,
         "type": "scattergl",
         "x": {
          "bdata": "AAAAAAAA+H8=",
          "dtype": "f8"
         },
         "xaxis": "x",
         "y": {
          "bdata": "AAAAAAAAAAA=",
          "dtype": "f8"
         },
         "yaxis": "y"
        },
        {
         "hovertemplate": "<b>%{hovertext}</b><br><br>Country=MONTENEGRO<br>Magnitude do Terremoto=%{x}<br>Total de Mortes=%{y}<br>Maximum Water Height (m)=%{marker.size}<extra></extra>",
         "hovertext": [
          "BAY OF KOTOR",
          "DALMATIA - ADRIATIC SEA",
          "MONTENEGRO: BAR ULCINJ",
          "MONTENEGRO"
         ],
         "legendgroup": "MONTENEGRO",
         "marker": {
          "color": "#EF553B",
          "size": {
           "bdata": "MzMzMzMz+z8AAAAAAADwPwAAAAAAAAAAAAAAAAAACEA=",
           "dtype": "f8"
          },
          "sizemode": "area",
          "sizeref": 1.3115,
          "symbol": "circle"
         },
         "mode": "markers",
         "name": "MONTENEGRO",
         "showlegend": true,
         "type": "scattergl",
         "x": {
          "bdata": "AAAAAAAA+H8zMzMzMzMVQDMzMzMzMxVAmpmZmZmZG0A=",
          "dtype": "f8"
         },
         "xaxis": "x",
         "y": {
          "bdata": "AAAAAAAAAAAAAAAAAAAAAAAAAAAAAAAAAAAAAABgYEA=",
          "dtype": "f8"
         },
         "yaxis": "y"
        },
        {
         "hovertemplate": "<b>%{hovertext}</b><br><br>Country=JAMAICA<br>Magnitude do Terremoto=%{x}<br>Total de Mortes=%{y}<br>Maximum Water Height (m)=%{marker.size}<extra></extra>",
         "hovertext": [
          "SAVANNA LA MAR",
          "JAMAICA: UNKNOWN LOCATION",
          "JAMAICA",
          "MONTEGO BAY",
          "KINGSTON",
          "KINGSTON",
          "KINGSTON",
          "KINGSTON",
          "JAMAICA"
         ],
         "legendgroup": "JAMAICA",
         "marker": {
          "color": "#00cc96",
          "size": {
           "bdata": "AAAAAAAACEAAAAAAAAAAAAAAAAAAAAhAAAAAAAAAAAAAAAAAAAAAAHE9CtejcN0/AAAAAAAAAAAAAAAAAAAAAAAAAAAAAARA",
           "dtype": "f8"
          },
          "sizemode": "area",
          "sizeref": 1.3115,
          "symbol": "circle"
         },
         "mode": "markers",
         "name": "JAMAICA",
         "showlegend": true,
         "type": "scattergl",
         "x": {
          "bdata": "AAAAAAAA+H8AAAAAAAD4fwAAAAAAAPh/AAAAAAAA+H8AAAAAAAD4fwAAAAAAAPh/AAAAAAAA+H8AAAAAAAD4f83MzMzMzBhA",
          "dtype": "f8"
         },
         "xaxis": "x",
         "y": {
          "bdata": "AAAAAAAAAAAAAAAAAAAAAAAAAAAAAAAAAAAAAAAAAAAAAAAAAAAAAAAAAAAAAAAAAAAAAAAAAAAAAAAAAAAAAAAAAAAAQI9A",
          "dtype": "f8"
         },
         "yaxis": "y"
        },
        {
         "hovertemplate": "<b>%{hovertext}</b><br><br>Country=TAIWAN<br>Magnitude do Terremoto=%{x}<br>Total de Mortes=%{y}<br>Maximum Water Height (m)=%{marker.size}<extra></extra>",
         "hovertext": [
          "TAIWAN STRAIT",
          "TAINAN",
          "E. TAIWAN-RYUKYU ISLANDS",
          "E. CHINA SEA",
          "SOUTH CHINA SEA",
          "TAIWAN",
          "TAIWAN",
          "TAIWAN",
          "TAIWAN",
          "E. TAIWAN-RYUKYU ISLANDS",
          "E. TAIWAN-RYUKYU ISLANDS",
          "E. TAIWAN",
          "TAIWAN",
          "TAIWAN",
          "TAIWAN",
          "TAIWAN",
          "TAIWAN STRAIT",
          "TAIWAN REGION",
          "TAIWAN:  SOUTHEAST OF",
          "TAIWAN",
          "TAIWAN",
          "SOUTH CHINA SEA",
          "TAIWAN",
          "E. TAIWAN-RYUKYU ISLANDS"
         ],
         "legendgroup": "TAIWAN",
         "marker": {
          "color": "#ab63fa",
          "size": {
           "bdata": "AAAAAAAAJEAAAAAAAAAkQAAAAAAAAAAAAAAAAAAALkAAAAAAAAAAAAAAAAAAAAAAAAAAAAAA4D8AAAAAAAAAADMzMzMzM9M/mpmZmZmZyT+amZmZmZm5P5qZmZmZmak/mpmZmZmZqT8zMzMzMzPTP3sUrkfheqQ/exSuR+F6lD+4HoXrUbjOPylcj8L1KLw/pHA9CtejwD97FK5H4XrEP5qZmZmZmck/MzMzMzMzwz+4HoXrUbi+PwAAAAAAAPA/",
           "dtype": "f8"
          },
          "sizemode": "area",
          "sizeref": 1.3115,
          "symbol": "circle"
         },
         "mode": "markers",
         "name": "TAIWAN",
         "showlegend": true,
         "type": "scattergl",
         "x": {
          "bdata": "AAAAAAAAHEAAAAAAAAAYQAAAAAAAAPh/AAAAAAAAHEAzMzMzMzMZQAAAAAAAAPh/MzMzMzMzF0BmZmZmZmYeQDMzMzMzMx1AMzMzMzMzHUBmZmZmZmYeQAAAAAAAAB5AmpmZmZmZHUAzMzMzMzMfQDMzMzMzMxlAAAAAAAAAGkDNzMzMzMwaQDMzMzMzMxtAAAAAAAAAHkAzMzMzMzMbQGZmZmZmZhxAzczMzMzMFEAAAAAAAAAcQJqZmZmZmR1A",
          "dtype": "f8"
         },
         "xaxis": "x",
         "y": {
          "bdata": "AAAAAACI40AAAAAAAIBvQAAAAAAAAAAAAAAAAAAggkAAAAAAAAAgQAAAAAAAAAAAAAAAAAAAAAAAAAAAAAAUQAAAAAAAAFFAAAAAAAAALkAAAAAAAAAcQAAAAAAAAPA/AAAAAAAAAAAAAAAAAAAuQAAAAAAAAAAAAAAAAAAAAAAAAAAAAADwPwAAAAAAAAAAAAAAAAAAAAAAAAAAAAAAAAAAAAAAABRAAAAAAAAAAAAAAAAAAAAAQAAAAAAAADRA",
          "dtype": "f8"
         },
         "yaxis": "y"
        },
        {
         "hovertemplate": "<b>%{hovertext}</b><br><br>Country=IRISH SEA<br>Magnitude do Terremoto=%{x}<br>Total de Mortes=%{y}<br>Maximum Water Height (m)=%{marker.size}<extra></extra>",
         "hovertext": [
          "IRISH SEA"
         ],
         "legendgroup": "IRISH SEA",
         "marker": {
          "color": "#FFA15A",
          "size": {
           "bdata": "AAAAAAAAAAA=",
           "dtype": "f8"
          },
          "sizemode": "area",
          "sizeref": 1.3115,
          "symbol": "circle"
         },
         "mode": "markers",
         "name": "IRISH SEA",
         "showlegend": true,
         "type": "scattergl",
         "x": {
          "bdata": "AAAAAAAA+H8=",
          "dtype": "f8"
         },
         "xaxis": "x",
         "y": {
          "bdata": "AAAAAAAAAAA=",
          "dtype": "f8"
         },
         "yaxis": "y"
        },
        {
         "hovertemplate": "<b>%{hovertext}</b><br><br>Country=HOLLAND<br>Magnitude do Terremoto=%{x}<br>Total de Mortes=%{y}<br>Maximum Water Height (m)=%{marker.size}<extra></extra>",
         "hovertext": [
          "NORTH SEA",
          "HOLLAND"
         ],
         "legendgroup": "HOLLAND",
         "marker": {
          "color": "#19d3f3",
          "size": {
           "bdata": "AAAAAAAAAAAAAAAAAAAAAA==",
           "dtype": "f8"
          },
          "sizemode": "area",
          "sizeref": 1.3115,
          "symbol": "circle"
         },
         "mode": "markers",
         "name": "HOLLAND",
         "showlegend": true,
         "type": "scattergl",
         "x": {
          "bdata": "AAAAAAAA+H8AAAAAAAD4fw==",
          "dtype": "f8"
         },
         "xaxis": "x",
         "y": {
          "bdata": "AAAAAAAAAAAAAAAAAAAAAA==",
          "dtype": "f8"
         },
         "yaxis": "y"
        },
        {
         "hovertemplate": "<b>%{hovertext}</b><br><br>Country=ICELAND<br>Magnitude do Terremoto=%{x}<br>Total de Mortes=%{y}<br>Maximum Water Height (m)=%{marker.size}<extra></extra>",
         "hovertext": [
          "ICELAND: BASINDER",
          "ICELAND: REYKJAVIK",
          "ICELAND",
          "ICELAND: CENTRAL-SOUTH",
          "ASKJA LAKE"
         ],
         "legendgroup": "ICELAND",
         "marker": {
          "color": "#FF6692",
          "size": {
           "bdata": "AAAAAAAAAAAAAAAAAAAAAAAAAAAAAAAAAAAAAADAUkAAAAAAAABOQA==",
           "dtype": "f8"
          },
          "sizemode": "area",
          "sizeref": 1.3115,
          "symbol": "circle"
         },
         "mode": "markers",
         "name": "ICELAND",
         "showlegend": true,
         "type": "scattergl",
         "x": {
          "bdata": "AAAAAAAA+H8AAAAAAAD4fwAAAAAAAPh/AAAAAAAA+H8AAAAAAAD4fw==",
          "dtype": "f8"
         },
         "xaxis": "x",
         "y": {
          "bdata": "AAAAAAAAAAAAAAAAAAAAAAAAAAAAAAAAAAAAAAAAAAAAAAAAAAAAAA==",
          "dtype": "f8"
         },
         "yaxis": "y"
        },
        {
         "hovertemplate": "<b>%{hovertext}</b><br><br>Country=ANTIGUA AND BARBUDA<br>Magnitude do Terremoto=%{x}<br>Total de Mortes=%{y}<br>Maximum Water Height (m)=%{marker.size}<extra></extra>",
         "hovertext": [
          "ANTIGUA ISLAND & ST. CHRISTOPHER"
         ],
         "legendgroup": "ANTIGUA AND BARBUDA",
         "marker": {
          "color": "#B6E880",
          "size": {
           "bdata": "AAAAAAAAAAA=",
           "dtype": "f8"
          },
          "sizemode": "area",
          "sizeref": 1.3115,
          "symbol": "circle"
         },
         "mode": "markers",
         "name": "ANTIGUA AND BARBUDA",
         "showlegend": true,
         "type": "scattergl",
         "x": {
          "bdata": "AAAAAAAA+H8=",
          "dtype": "f8"
         },
         "xaxis": "x",
         "y": {
          "bdata": "AAAAAAAAAAA=",
          "dtype": "f8"
         },
         "yaxis": "y"
        },
        {
         "hovertemplate": "<b>%{hovertext}</b><br><br>Country=ROMANIA<br>Magnitude do Terremoto=%{x}<br>Total de Mortes=%{y}<br>Maximum Water Height (m)=%{marker.size}<extra></extra>",
         "hovertext": [
          "BLACK SEA",
          "BLACK SEA",
          "BLACK SEA"
         ],
         "legendgroup": "ROMANIA",
         "marker": {
          "color": "#FF97FF",
          "size": {
           "bdata": "AAAAAAAAAACamZmZmZm5PwAAAAAAAAAA",
           "dtype": "f8"
          },
          "sizemode": "area",
          "sizeref": 1.3115,
          "symbol": "circle"
         },
         "mode": "markers",
         "name": "ROMANIA",
         "showlegend": true,
         "type": "scattergl",
         "x": {
          "bdata": "mpmZmZmZHUDNzMzMzMwaQJqZmZmZmRtA",
          "dtype": "f8"
         },
         "xaxis": "x",
         "y": {
          "bdata": "AAAAAAAAAAAAAAAAAAAAAAAAAAAAAEVA",
          "dtype": "f8"
         },
         "yaxis": "y"
        },
        {
         "hovertemplate": "<b>%{hovertext}</b><br><br>Country=AUSTRALIA<br>Magnitude do Terremoto=%{x}<br>Total de Mortes=%{y}<br>Maximum Water Height (m)=%{marker.size}<extra></extra>",
         "hovertext": [
          "NORFOLK ISLAND",
          "TASMANIA",
          "TASMANIA",
          "TASMAN SEA",
          "TASMANIA",
          "SYDNEY HARBOR",
          "SYDNEY HARBOR",
          "SYDNEY HARBOR",
          "SYDNEY HARBOR",
          "SYDNEY HARBOR",
          "TASMANIA",
          "SYDNEY HARBOR",
          "NORTHERN AUSTRALIA",
          "TASMAN SEA",
          "MACQUARIE ISLAND",
          "BONDI BEACH, SYDNEY",
          "TASMANIA",
          "MACQUARIE ISLAND",
          "NORFOLK ISLAND",
          "SOUTH INDIAN OCEAN",
          "MACQUARIE ISLAND"
         ],
         "legendgroup": "AUSTRALIA",
         "marker": {
          "color": "#FECB52",
          "size": {
           "bdata": "AAAAAAAAFEAAAAAAAAAAADMzMzMzM/M/AAAAAAAAAAAAAAAAAAAAAAAAAAAAAAAAAAAAAAAAAAAAAAAAAAAAAAAAAAAAAAAAAAAAAAAAAAAAAAAAAAAAAHsUrkfherQ/zczMzMzM/D8AAAAAAAAAAAAAAAAAAAAAAAAAAAAAAAAzMzMzMzMDQDMzMzMzM8M/AAAAAAAAAAAzMzMzMzPTPzMzMzMzM9M/",
           "dtype": "f8"
          },
          "sizemode": "area",
          "sizeref": 1.3115,
          "symbol": "circle"
         },
         "mode": "markers",
         "name": "AUSTRALIA",
         "showlegend": true,
         "type": "scattergl",
         "x": {
          "bdata": "AAAAAAAA+H8AAAAAAAD4fwAAAAAAAPh/AAAAAAAA+H8AAAAAAAD4fwAAAAAAAPh/AAAAAAAA+H8AAAAAAAD4fwAAAAAAAPh/AAAAAAAA+H8AAAAAAAD4fwAAAAAAAPh/AAAAAAAA+H8AAAAAAAD4fzMzMzMzMx9AAAAAAAAA+H8AAAAAAAD4fzMzMzMzMyBAAAAAAAAA+H+amZmZmZkfQDMzMzMzMyBA",
          "dtype": "f8"
         },
         "xaxis": "x",
         "y": {
          "bdata": "AAAAAAAAAAAAAAAAAAAAAAAAAAAAAAAAAAAAAAAAAAAAAAAAAAAAAAAAAAAAAAAAAAAAAAAAAAAAAAAAAAAAAAAAAAAAAAAAAAAAAAAAAAAAAAAAAAAAAAAAAAAAAAAAAAAAAAAAAAAAAAAAAAAAAAAAAAAAAAAAAAAAAAAAFEAAAAAAAADwPwAAAAAAAAAAAAAAAAAAAAAAAAAAAAAAAAAAAAAAAAAA",
          "dtype": "f8"
         },
         "yaxis": "y"
        },
        {
         "hovertemplate": "<b>%{hovertext}</b><br><br>Country=SOUTH AFRICA<br>Magnitude do Terremoto=%{x}<br>Total de Mortes=%{y}<br>Maximum Water Height (m)=%{marker.size}<extra></extra>",
         "hovertext": [
          "CAPE OF GOOD HOPE",
          "SOUTH AFRICA",
          "AGULHAS BANK",
          "SOUTHERN ATLANTIC OCEAN"
         ],
         "legendgroup": "SOUTH AFRICA",
         "marker": {
          "color": "#636efa",
          "size": {
           "bdata": "AAAAAAAAAAAzMzMzMzMHQI/C9Shcj9I/ZmZmZmZmBEA=",
           "dtype": "f8"
          },
          "sizemode": "area",
          "sizeref": 1.3115,
          "symbol": "circle"
         },
         "mode": "markers",
         "name": "SOUTH AFRICA",
         "showlegend": true,
         "type": "scattergl",
         "x": {
          "bdata": "AAAAAAAA+H8AAAAAAAD4fwAAAAAAAPh/AAAAAAAA+H8=",
          "dtype": "f8"
         },
         "xaxis": "x",
         "y": {
          "bdata": "AAAAAAAAAAAAAAAAAAAAAAAAAAAAAAAAAAAAAAAAAAA=",
          "dtype": "f8"
         },
         "yaxis": "y"
        },
        {
         "hovertemplate": "<b>%{hovertext}</b><br><br>Country=CANADA<br>Magnitude do Terremoto=%{x}<br>Total de Mortes=%{y}<br>Maximum Water Height (m)=%{marker.size}<extra></extra>",
         "hovertext": [
          "LAKE ERIE",
          "ST. LAWRENCE",
          "FISHING SHIPS HARBOUR, NEWFOUNDLAND",
          "SW AVALON PENINSULA, NEWFOUNDLAND",
          "CAPE TRINITY, QUEBEC",
          "BLACKLEAD ISLAND, CUMBERLAND SOUND",
          "NOTRE DAME DE LA SALETTE",
          "GULF OF SAINT LAWRENCE",
          "HALIFAX, NOVA SCOTIA",
          "BRITISH COLUMBIA",
          "BRITISH COLUMBIA",
          "GRAND BANKS, NEWFOUNDLAND",
          "BRITISH COLUMBIA",
          "BRITISH COLUMBIA",
          "BRITISH COLUMBIA",
          "RIPPLE ROCK, BC",
          "GRAHAM ISLAND, BRITISH COLUMBIA",
          "KITIMAT INLET, BRITISH COLOMBIA",
          "KITIMAT INLET, BRITISH COLUMBIA",
          "QUEEN CHARLOTTE ISLANDS",
          "VANCOUVER ISLAND",
          "BRITISH COLUMBIA",
          "CHEHALIS LAKE, CHILLIWACK",
          "BRITISH COLUMBIA",
          "ELLIOT CREEK, BC",
          "VANCOUVER ISLAND",
          "WHITEHORSE, YUKON"
         ],
         "legendgroup": "CANADA",
         "marker": {
          "color": "#EF553B",
          "size": {
           "bdata": "7FG4HoXrBUAAAAAAAAAAAAAAAAAAAAAAAAAAAAAAAAAAAAAAAAAAAAAAAAAAAAAAAAAAAAAALkAAAAAAAAAAAAAAAAAAABxAAAAAAAAAAAAAAAAAAAD4PwAAAAAAACpAAAAAAAAAAAAAAAAAAAAiQIXrUbgeheM/cT0K16Nw3T8AAAAAAAAWQGZmZmZmZgZAZmZmZmZmEEApXI/C9Si8P7gehetRuK4/exSuR+F6tD8AAAAAAABDQPYoXI/C9SlAAAAAAAAAAAAzMzMzMzPDPwAAAAAAAARA",
           "dtype": "f8"
          },
          "sizemode": "area",
          "sizeref": 1.3115,
          "symbol": "circle"
         },
         "mode": "markers",
         "name": "CANADA",
         "showlegend": true,
         "type": "scattergl",
         "x": {
          "bdata": "AAAAAAAA+H8AAAAAAAD4fwAAAAAAAPh/AAAAAAAA+H8AAAAAAAD4fwAAAAAAAPh/AAAAAAAA+H8AAAAAAAD4fwAAAAAAAPh/MzMzMzMzF0AAAAAAAAAcQM3MzMzMzBxAMzMzMzMzGUAzMzMzMzMdQDMzMzMzMyBAAAAAAAAA+H8AAAAAAAD4fwAAAAAAAPh/AAAAAAAA+H9mZmZmZmYYQGZmZmZmZhpAAAAAAAAA+H8AAAAAAAD4f83MzMzMzB5AAAAAAAAA+H8AAAAAAAD4fwAAAAAAAPh/",
          "dtype": "f8"
         },
         "xaxis": "x",
         "y": {
          "bdata": "AAAAAAAAAAAAAAAAAAAAAAAAAAAAAAAAAAAAAAAAAAAAAAAAAAAAQAAAAAAAAAAAAAAAAACAQEAAAAAAAAAAAAAAAAAAQJ9AAAAAAAAAAAAAAAAAAAAAAAAAAAAAADxAAAAAAAAAAAAAAAAAAADwPwAAAAAAAAAAAAAAAAAAAAAAAAAAAADwPwAAAAAAAAAAAAAAAAAAAAAAAAAAAAAAAAAAAAAAAAAAAAAAAAAAAAAAAAAAAAAAAAAAAAAAAPA/AAAAAAAAAAAAAAAAAAAAAAAAAAAAAAAA",
          "dtype": "f8"
         },
         "yaxis": "y"
        },
        {
         "hovertemplate": "<b>%{hovertext}</b><br><br>Country=GUADELOUPE (FRENCH TERRITORY)<br>Magnitude do Terremoto=%{x}<br>Total de Mortes=%{y}<br>Maximum Water Height (m)=%{marker.size}<extra></extra>",
         "hovertext": [
          "BASSE TERRE",
          "POINTE-A-PITRE",
          "MARIE-GALANTE ISLAND",
          "GUADELOUPE",
          "GRAND BOURG",
          "GUADELOUPE",
          "BASSE-TERRE, LES SAINTES",
          "DOMINICA PASSAGE"
         ],
         "legendgroup": "GUADELOUPE (FRENCH TERRITORY)",
         "marker": {
          "color": "#00cc96",
          "size": {
           "bdata": "AAAAAAAAAAAzMzMzMzPzPwAAAAAAAAAAAAAAAAAAAABxPQrXo3DNP7gehetRuL4/AAAAAAAAAEAAAAAAAAAAAA==",
           "dtype": "f8"
          },
          "sizemode": "area",
          "sizeref": 1.3115,
          "symbol": "circle"
         },
         "mode": "markers",
         "name": "GUADELOUPE (FRENCH TERRITORY)",
         "showlegend": true,
         "type": "scattergl",
         "x": {
          "bdata": "AAAAAAAA+H+amZmZmZkgQAAAAAAAAPh/AAAAAAAA+H/NzMzMzMwcQJqZmZmZmRlAMzMzMzMzGUAzMzMzMzMXQA==",
          "dtype": "f8"
         },
         "xaxis": "x",
         "y": {
          "bdata": "AAAAAAAAAAAAAAAAAIizQAAAAAAAAAAAAAAAAAAAAAAAAAAAAAAAAAAAAAAAAAAAAAAAAAAA8D8AAAAAAAAAAA==",
          "dtype": "f8"
         },
         "yaxis": "y"
        },
        {
         "hovertemplate": "<b>%{hovertext}</b><br><br>Country=DENMARK<br>Magnitude do Terremoto=%{x}<br>Total de Mortes=%{y}<br>Maximum Water Height (m)=%{marker.size}<extra></extra>",
         "hovertext": [
          "DENMARK"
         ],
         "legendgroup": "DENMARK",
         "marker": {
          "color": "#ab63fa",
          "size": {
           "bdata": "AAAAAAAAAAA=",
           "dtype": "f8"
          },
          "sizemode": "area",
          "sizeref": 1.3115,
          "symbol": "circle"
         },
         "mode": "markers",
         "name": "DENMARK",
         "showlegend": true,
         "type": "scattergl",
         "x": {
          "bdata": "AAAAAAAA+H8=",
          "dtype": "f8"
         },
         "xaxis": "x",
         "y": {
          "bdata": "AAAAAAAAAAA=",
          "dtype": "f8"
         },
         "yaxis": "y"
        },
        {
         "hovertemplate": "<b>%{hovertext}</b><br><br>Country=COLOMBIA<br>Magnitude do Terremoto=%{x}<br>Total de Mortes=%{y}<br>Maximum Water Height (m)=%{marker.size}<extra></extra>",
         "hovertext": [
          "SANTA MARTA",
          "BUENAVENTURA",
          "OFF THE COAST PANAMA-COLOMBIA",
          "BUENAVENTURA",
          "COLOMBIA",
          "NORTHEASTERN",
          "COLOMBIA: OFF SHORE, PACIFIC OCEAN",
          "OFF THE COAST NEAR SANTA MARTA"
         ],
         "legendgroup": "COLOMBIA",
         "marker": {
          "color": "#FFA15A",
          "size": {
           "bdata": "AAAAAAAAAAAAAAAAAAAAAAAAAAAAAAAAAAAAAAAAAAAAAAAAAADwPwAAAAAAAAAAAAAAAAAAGEAAAAAAAAAgQA==",
           "dtype": "f8"
          },
          "sizemode": "area",
          "sizeref": 1.3115,
          "symbol": "circle"
         },
         "mode": "markers",
         "name": "COLOMBIA",
         "showlegend": true,
         "type": "scattergl",
         "x": {
          "bdata": "MzMzMzMzGUAAAAAAAAD4f5qZmZmZmR9AAAAAAAAA+H8zMzMzMzMXQAAAAAAAABpAMzMzMzMzIEAAAAAAAAD4fw==",
          "dtype": "f8"
         },
         "xaxis": "x",
         "y": {
          "bdata": "AAAAAAAAAAAAAAAAAAAAAAAAAAAAAAAAAAAAAAAAAAAAAAAAAAAAAAAAAAAAAAAAAAAAAADAgkAAAAAAAAAAAA==",
          "dtype": "f8"
         },
         "yaxis": "y"
        },
        {
         "hovertemplate": "<b>%{hovertext}</b><br><br>Country=TRINIDAD AND TOBAGO<br>Magnitude do Terremoto=%{x}<br>Total de Mortes=%{y}<br>Maximum Water Height (m)=%{marker.size}<extra></extra>",
         "hovertext": [
          "PORT-OF-SPAIN",
          "TRINIDAD & ST. CHRISTOPHER",
          "TRINIDAD"
         ],
         "legendgroup": "TRINIDAD AND TOBAGO",
         "marker": {
          "color": "#19d3f3",
          "size": {
           "bdata": "AAAAAAAAAAAAAAAAAAAAAAAAAAAAAAAA",
           "dtype": "f8"
          },
          "sizemode": "area",
          "sizeref": 1.3115,
          "symbol": "circle"
         },
         "mode": "markers",
         "name": "TRINIDAD AND TOBAGO",
         "showlegend": true,
         "type": "scattergl",
         "x": {
          "bdata": "AAAAAAAA+H8AAAAAAAD4fwAAAAAAAPh/",
          "dtype": "f8"
         },
         "xaxis": "x",
         "y": {
          "bdata": "AAAAAAAAAAAAAAAAAAAAAAAAAAAAAAAA",
          "dtype": "f8"
         },
         "yaxis": "y"
        },
        {
         "hovertemplate": "<b>%{hovertext}</b><br><br>Country=ECUADOR<br>Magnitude do Terremoto=%{x}<br>Total de Mortes=%{y}<br>Maximum Water Height (m)=%{marker.size}<extra></extra>",
         "hovertext": [
          "ECUADOR",
          "OFF COAST",
          "COLOMBIA-ECUADOR",
          "ECUADOR",
          "COLOMBIA-ECUADOR",
          "OFF COAST"
         ],
         "legendgroup": "ECUADOR",
         "marker": {
          "color": "#FF6692",
          "size": {
           "bdata": "AAAAAAAAAAAAAAAAAAAUQAAAAAAAANA/AAAAAAAAAAAAAAAAAAAAADMzMzMzM+M/",
           "dtype": "f8"
          },
          "sizemode": "area",
          "sizeref": 1.3115,
          "symbol": "circle"
         },
         "mode": "markers",
         "name": "ECUADOR",
         "showlegend": true,
         "type": "scattergl",
         "x": {
          "bdata": "AAAAAAAAHECamZmZmZkhQAAAAAAAAPh/mpmZmZmZG0BmZmZmZmYeQDMzMzMzMx9A",
          "dtype": "f8"
         },
         "xaxis": "x",
         "y": {
          "bdata": "AAAAAAAAAAAAAAAAAECPQAAAAAAAAAAAAAAAAAAAAAAAAAAAAMBcQAAAAAAAuIRA",
          "dtype": "f8"
         },
         "yaxis": "y"
        },
        {
         "hovertemplate": "<b>%{hovertext}</b><br><br>Country=ALBANIA<br>Magnitude do Terremoto=%{x}<br>Total de Mortes=%{y}<br>Maximum Water Height (m)=%{marker.size}<extra></extra>",
         "hovertext": [
          "ALBANIA",
          "ALBANIAN COASTS",
          "ALBANIAN COASTS",
          "ALBANIAN COASTS",
          "ALBANIAN COASTS",
          "BAY OF VLORE",
          "ALBANIAN COASTS",
          "ALBANIAN COASTS",
          "OCHRIDA LAKE",
          "ALBANIAN COASTS"
         ],
         "legendgroup": "ALBANIA",
         "marker": {
          "color": "#B6E880",
          "size": {
           "bdata": "AAAAAAAAAAAfhetRuB7lPwAAAAAAAAAAAAAAAAAAAAAAAAAAAAAAAAAAAAAAAAAAAAAAAAAAAAAAAAAAAAAAAAAAAAAAAAAAAAAAAAAAAAA=",
           "dtype": "f8"
          },
          "sizemode": "area",
          "sizeref": 1.3115,
          "symbol": "circle"
         },
         "mode": "markers",
         "name": "ALBANIA",
         "showlegend": true,
         "type": "scattergl",
         "x": {
          "bdata": "mpmZmZmZGUBmZmZmZmYaQGZmZmZmZhpAAAAAAAAA+H8zMzMzMzMZQDMzMzMzMxlAAAAAAAAAFkAAAAAAAAAeQM3MzMzMzBpAAAAAAAAAGEA=",
          "dtype": "f8"
         },
         "xaxis": "x",
         "y": {
          "bdata": "AAAAAAAAAAAAAAAAAECfQAAAAAAAAE5AAAAAAAAAAAAAAAAAAABOQAAAAAAAAAAAAAAAAAAAAAAAAAAAAAAAAAAAAAAAAAAAAAAAAAAAAAA=",
          "dtype": "f8"
         },
         "yaxis": "y"
        },
        {
         "hovertemplate": "<b>%{hovertext}</b><br><br>Country=NETHERLANDS<br>Magnitude do Terremoto=%{x}<br>Total de Mortes=%{y}<br>Maximum Water Height (m)=%{marker.size}<extra></extra>",
         "hovertext": [
          "VLISSINGEN",
          "NORTH SEA"
         ],
         "legendgroup": "NETHERLANDS",
         "marker": {
          "color": "#FF97FF",
          "size": {
           "bdata": "AAAAAAAAAAAAAAAAAAAAQA==",
           "dtype": "f8"
          },
          "sizemode": "area",
          "sizeref": 1.3115,
          "symbol": "circle"
         },
         "mode": "markers",
         "name": "NETHERLANDS",
         "showlegend": true,
         "type": "scattergl",
         "x": {
          "bdata": "AAAAAAAA+H8AAAAAAAD4fw==",
          "dtype": "f8"
         },
         "xaxis": "x",
         "y": {
          "bdata": "AAAAAAAAAAAAAAAAAAAAAA==",
          "dtype": "f8"
         },
         "yaxis": "y"
        },
        {
         "hovertemplate": "<b>%{hovertext}</b><br><br>Country=USA TERRITORY<br>Magnitude do Terremoto=%{x}<br>Total de Mortes=%{y}<br>Maximum Water Height (m)=%{marker.size}<extra></extra>",
         "hovertext": [
          "VIRGIN ISLANDS",
          "GUAM, MARIANA ISLANDS",
          "MANUA ISLANDS, AMERICAN SAMOA",
          "VIRGIN ISLANDS",
          "VIRGIN ISLANDS",
          "VIRGIN ISLANDS",
          "GUAM, MARIANA ISLANDS",
          "GUAM, MARIANA ISLANDS",
          "GUAM, MARIANA ISLANDS",
          "MANUA ISLANDS, AMERICAN SAMOA",
          "PUERTO RICO: MONA PASSAGE",
          "PUERTO RICO",
          "PUERTO RICO",
          "DESECHEO ISLAND",
          "NORTHERN COAST OF PUERTO RICO",
          "PUERTO RICO",
          "MARIANA TRENCH, N. MARIANA ISLANDS",
          "GUAM, MARIANA ISLANDS",
          "SOUTH OF SARIGAN IS, N. MARIANA IS",
          "GUAM, MARIANA ISLANDS",
          "PUERTO RICO"
         ],
         "legendgroup": "USA TERRITORY",
         "marker": {
          "color": "#FECB52",
          "size": {
           "bdata": "AAAAAAAAAABmZmZmZmYYQAAAAAAAAAAAZmZmZmZmLkAAAAAAAAD4PwAAAAAAAAAAAAAAAAAAAAAzMzMzMzPDPwAAAAAAAAAAMzMzMzMzA0BmZmZmZmYYQAAAAAAAAAAAAAAAAAAAAAAAAAAAAAAAAAAAAAAAAAAAmpmZmZmZuT/NzMzMzMz8PzMzMzMzMwNAexSuR+F6pD/sUbgeheuxP7gehetRuK4/",
           "dtype": "f8"
          },
          "sizemode": "area",
          "sizeref": 1.3115,
          "symbol": "circle"
         },
         "mode": "markers",
         "name": "USA TERRITORY",
         "showlegend": true,
         "type": "scattergl",
         "x": {
          "bdata": "AAAAAAAA+H8AAAAAAAAeQAAAAAAAAPh/MzMzMzMzHUAAAAAAAAD4fwAAAAAAAPh/AAAAAAAAHkAAAAAAAAD4fwAAAAAAACBAAAAAAAAA+H9mZmZmZmYcQJqZmZmZmRlAAAAAAAAA+H8AAAAAAAD4fwAAAAAAAPh/mpmZmZmZEUAAAAAAAAAeQDMzMzMzMx9AAAAAAAAA+H+amZmZmZkbQJqZmZmZmRlA",
          "dtype": "f8"
         },
         "xaxis": "x",
         "y": {
          "bdata": "AAAAAAAAAAAAAAAAAAAAAAAAAAAAAAAAAAAAAAAAOEAAAAAAAAAAAAAAAAAAAAAAAAAAAAAAAAAAAAAAAAAAAAAAAAAAAAAAAAAAAAAACEAAAAAAAABiQAAAAAAAAAAAAAAAAAAAAAAAAAAAAAAAAAAAAAAAAAAAAAAAAAAAAAAAAAAAAAAAAAAAAAAAAAAAAAAAAAAAAAAAAAAAAAAAAAAAAAAAABBA",
          "dtype": "f8"
         },
         "yaxis": "y"
        },
        {
         "hovertemplate": "<b>%{hovertext}</b><br><br>Country=NEW ZEALAND<br>Magnitude do Terremoto=%{x}<br>Total de Mortes=%{y}<br>Maximum Water Height (m)=%{marker.size}<extra></extra>",
         "hovertext": [
          "WHITIANGA",
          "NEW ZEALAND",
          "N. NEW ZEALAND",
          "LAKE TAUPO, NORTH ISLAND",
          "COOK STRAIT",
          "COOK STRAIT",
          "WELLINGTON",
          "NORTHERN ISLAND",
          "WHARANUI",
          null,
          null,
          "SE. NEW ZEALAND",
          "NEW ZEALAND",
          "NORTH ISLAND",
          "NEW ZEALAND",
          "SOUTH ISlAND",
          "WELLINGTON",
          "WESTPORT",
          "WAIPIRO BAY",
          "GREYMOUTH",
          "GISBORNE",
          "PIGEON BAY (BANKS PENINSULA)",
          "GLENBURN, WAIRARAPA",
          "LAKE TARAWERA, NORTH ISLAND",
          "NEW ZEALAND",
          "NEW BRIGHTON",
          "PIEGON BAY",
          "LAKE TAUPO, NORTH ISLAND",
          "OFF EAST COAST OF SOUTH ISLAND",
          "WELLINGTON",
          "CAPE TURNAGAIN",
          "NEW ZEALAND",
          "N. NEW ZEALAND",
          "LAKE TAUPO, NORTH ISLAND",
          "TASMAN SEA",
          "TOLAGA BAY, NORTH ISLAND",
          "KERMADEC ISLANDS",
          "KERMADEC ISLANDS",
          "SE. NEW ZEALAND",
          "CHATHAM I.",
          "TASMAN SEA",
          "N. NEW ZEALAND",
          "N. NEW ZEALAND",
          "N. NEW ZEALAND",
          "N. NEW ZEALAND",
          "GOOSE BAY, SOUTH ISLAND",
          "OFF COAST OF NORTH ISLAND",
          "OFF COAST OF NORTH ISLAND",
          "N. NEW ZEALAND",
          "LAKE TAUPO, NORTH ISLAND",
          "KERMADEC ISLANDS",
          "NEW ZEALAND",
          "KERMADEC ISLANDS",
          "OFF EAST COAST OF SOUTH ISLAND",
          "NEW ZEALAND",
          "KERMADEC ISLANDS",
          "DEEP COVE",
          "KERMADEC ISLANDS",
          "ALBERT TOWN",
          "SOUTH ISLAND",
          "PUYSEGUR TRENCH",
          "AUCKLAND ISLANDS",
          "OFF WEST COAST OF SOUTH ISLAND",
          "SOUTH ISLAND",
          "KERMADEC ISLANDS",
          "KERMADEC ISLANDS",
          "COOK STRAIT",
          "WELLINGTON",
          "S OF RAOUL ISLAND, KERMADEC ISLANDS",
          "S OF RAOUL ISLAND, KERMADEC ISLANDS",
          "GISBORNE",
          "OFF EAST COAST OF SOUTH ISLAND",
          "S OF RAOUL ISLAND, KERMADEC ISLANDS",
          "S OF RAOUL ISLAND, KERMADEC ISLANDS",
          "GISBORNE",
          "S OF RAOUL ISLAND, KERMADEC ISLANDS",
          "S OF RAOUL ISLAND, KERMADEC ISLANDS",
          "KERMADEC ISLANDS",
          "LAKE TAUPO, NORTH ISLAND",
          "S OF RAOUL ISLAND, KERMADEC ISLANDS"
         ],
         "legendgroup": "NEW ZEALAND",
         "marker": {
          "color": "#636efa",
          "size": {
           "bdata": "AAAAAAAAAAAAAAAAAAAAAAAAAAAAAPA/AAAAAAAAAAAzMzMzMzPTPwAAAAAAAAAAAAAAAAAAAAAAAAAAAAAmQAAAAAAAAAAAAAAAAAAAAAAAAAAAAAAAAAAAAAAAAAAAAAAAAAAACEAAAAAAAAAAADMzMzMzM+M/AAAAAAAAAAAzMzMzMzPjPwAAAAAAAAAAAAAAAAAAAADNzMzMzMzsPwAAAAAAAAAAAAAAAAAACEAzMzMzMzPzPzMzMzMzM9M/AAAAAAAAAAAAAAAAAAAAAAAAAAAAABRAAAAAAAAAAAAAAAAAAAAAAAAAAAAAAPA/AAAAAAAACEAAAAAAAAAAAAAAAAAAAAAAAAAAAAAA+D8AAAAAAAD4PwAAAAAAAAAAMzMzMzMz0z8AAAAAAAAEQJqZmZmZmdk/AAAAAAAAAAAAAAAAAAAEQAAAAAAAAC5AmpmZmZmZuT8AAAAAAAAAAAAAAAAAAAAAAAAAAAAAAAAAAAAAAAAkQAAAAAAAABhAAAAAAAAAAADNzMzMzMzsP5qZmZmZmak/AAAAAAAA8D/NzMzMzMzsPwAAAAAAAAAAMzMzMzMz0z8pXI/C9SjMPwAAAAAAAAAAAAAAAAAAAAAAAAAAAAAAAAAAAAAAABBAAAAAAAAAAABmZmZmZmbWPxSuR+F6FN4/AAAAAAAADEAzMzMzMzPzP+xRuB6F68E/7FG4HoXrsT97FK5H4Xq0P+xRuB6F67E/pHA9CtejwD/hehSuR+HKPwAAAAAAABpA7FG4HoXrwT8pXI/C9Si8P+xRuB6F69E/16NwPQrX0z8AAAAAAADwP5qZmZmZmbk/AAAAAAAA8D8pXI/C9Si8Pw==",
           "dtype": "f8"
          },
          "sizemode": "area",
          "sizeref": 1.3115,
          "symbol": "circle"
         },
         "mode": "markers",
         "name": "NEW ZEALAND",
         "showlegend": true,
         "type": "scattergl",
         "x": {
          "bdata": "AAAAAAAA+H8AAAAAAAAeQAAAAAAAAPh/AAAAAAAA+H+amZmZmZkfQAAAAAAAABhAAAAAAAAAGEAAAAAAAAAgQAAAAAAAAPh/AAAAAAAAFkAAAAAAAAD4fwAAAAAAAPh/ZmZmZmZmHkAAAAAAAAD4fwAAAAAAAPh/AAAAAAAA+H8AAAAAAAD4fwAAAAAAAPh/AAAAAAAA+H8AAAAAAAD4fwAAAAAAABxAAAAAAAAA+H8AAAAAAAD4fwAAAAAAAPh/AAAAAAAA+H8AAAAAAAD4fwAAAAAAAPh/AAAAAAAAGEAAAAAAAAD4fwAAAAAAAPh/zczMzMzMHEAAAAAAAAD4fwAAAAAAAPh/AAAAAAAA+H8zMzMzMzMbQAAAAAAAAPh/AAAAAAAAIEAAAAAAAAAeQDMzMzMzMxlAAAAAAAAA+H8AAAAAAAAeQM3MzMzMzB5AZmZmZmZmHEAAAAAAAAD4fzMzMzMzMxtAAAAAAAAA+H9mZmZmZmYcQJqZmZmZmRtAMzMzMzMzF0AzMzMzMzMVQDMzMzMzMx1AZmZmZmZmFEAAAAAAAAAgQAAAAAAAAPh/ZmZmZmZmHkAzMzMzMzMfQAAAAAAAAPh/ZmZmZmZmGkAAAAAAAAD4f83MzMzMzBxAZmZmZmZmHECamZmZmZkdQDMzMzMzMx9AZmZmZmZmGEBmZmZmZmYeQJqZmZmZmR1AAAAAAAAAGkAAAAAAAAAaQAAAAAAAABpAmpmZmZmZG0AAAAAAAAAcQDMzMzMzMx9AzczMzMzMHECamZmZmZkdQDMzMzMzMx1AmpmZmZmZHUAzMzMzMzMgQAAAAAAAABpAmpmZmZmZFUBmZmZmZmYcQA==",
          "dtype": "f8"
         },
         "xaxis": "x",
         "y": {
          "bdata": "AAAAAAAAAAAAAAAAAAAAAAAAAAAAAAAAAAAAAAAAAAAAAAAAAAAAAAAAAAAAAAAAAAAAAAAACEAAAAAAAAAAAAAAAAAAAAAAAAAAAAAAAAAAAAAAAAAAAAAAAAAAAAAAAAAAAAAAAAAAAAAAAAAAAAAAAAAAAAAAAAAAAAAAAAAAAAAAAAAAAAAAAAAAAAAAAAAAAAAAAAAAAAAAAAAAAAAAAAAAAAAAAAAAAAAAAAAAAAAAAAAAAAAAAAAAAAAAAAAAAAAAAAAAAAAAAAAAAAAAAAAAAAAAAAAAAAAAAAAAAAAAAAAAAAAAAAAAAAAAAAAAAAAAAAAAAAAAAAAAAAAAAAAAAPA/AAAAAAAA8D8AAAAAAAAAAAAAAAAAAPA/AAAAAAAAAAAAAAAAAAAAAAAAAAAAAAAAAAAAAAAAAAAAAAAAAAAxQAAAAAAAUHBAAAAAAAAAAAAAAAAAAAAAAAAAAAAAAAAAAAAAAAAAAAAAAAAAAAAAAAAAAAAAAAAAAAAAAAAAAAAAAAAAAAAAAAAAAAAAAAAAAAAAAAAAAAAAAAAAAAAAAAAAAAAAAAAAAAAAAAAAAAAAAAAAAAAAAAAAAAAAAAAAAAAAAAAAAAAAAAAAAAAAAAAAAAAAAAAAAAAAAAAAAAAAAAAAAAAAAAAAAAAAAAAAAAAAAAAgZ0AAAAAAAAAAAAAAAAAAAAAAAAAAAAAAAAAAAAAAAAAAAAAAAAAAAAAAAAAAAAAAAAAAAAAAAAAAAAAAAAAAAABAAAAAAAAAAAAAAAAAAAAAAAAAAAAAAAAAAAAAAAAAAAAAAAAAAAAAAAAAAAAAAAAAAAAAAAAAAAAAAAAAAAAAAA==",
          "dtype": "f8"
         },
         "yaxis": "y"
        },
        {
         "hovertemplate": "<b>%{hovertext}</b><br><br>Country=FRENCH POLYNESIA<br>Magnitude do Terremoto=%{x}<br>Total de Mortes=%{y}<br>Maximum Water Height (m)=%{marker.size}<extra></extra>",
         "hovertext": [
          "TAHITI",
          "MAUPIHAA",
          "FATU HIVA"
         ],
         "legendgroup": "FRENCH POLYNESIA",
         "marker": {
          "color": "#EF553B",
          "size": {
           "bdata": "AAAAAAAAAABmZmZmZmb+PwAAAAAAACBA",
           "dtype": "f8"
          },
          "sizemode": "area",
          "sizeref": 1.3115,
          "symbol": "circle"
         },
         "mode": "markers",
         "name": "FRENCH POLYNESIA",
         "showlegend": true,
         "type": "scattergl",
         "x": {
          "bdata": "AAAAAAAA+H8AAAAAAAD4fwAAAAAAAPh/",
          "dtype": "f8"
         },
         "xaxis": "x",
         "y": {
          "bdata": "AAAAAAAAAAAAAAAAAAAAAAAAAAAAAAAA",
          "dtype": "f8"
         },
         "yaxis": "y"
        },
        {
         "hovertemplate": "<b>%{hovertext}</b><br><br>Country=TONGA<br>Magnitude do Terremoto=%{x}<br>Total de Mortes=%{y}<br>Maximum Water Height (m)=%{marker.size}<extra></extra>",
         "hovertext": [
          "TONGATAPU ISLAND",
          "TONGA ISLANDS",
          "ISLAND OF TONGATAPU",
          "TONGA",
          "TOFUA",
          "TONGA ISLANDS",
          "TONGA ISLANDS",
          "TONGA ISLANDS",
          "LIFUKA ISLAND",
          "TONGA TRENCH",
          "TONGA TRENCH",
          "TONGA TRENCH",
          "TONGA TRENCH",
          "KERMADEC ISLANDS",
          "TONGA ISLANDS",
          "TONGA ISLANDS",
          "TONGA",
          "TONGA",
          "TONGA ISLANDS",
          "TONGA ISLANDS",
          "TONGA ISLANDS",
          "TONGA ISLANDS"
         ],
         "legendgroup": "TONGA",
         "marker": {
          "color": "#00cc96",
          "size": {
           "bdata": "AAAAAAAAAAAAAAAAAAD0PwAAAAAAAAAAAAAAAAAAJkAAAAAAAAAAAJqZmZmZmdk/AAAAAAAAAAAAAAAAAAAEQAAAAAAAAAAAmpmZmZmZuT8AAAAAAAAAAJqZmZmZmdk/uB6F61G4nj+amZmZmZnJPwAAAAAAANA/mpmZmZmZuT9I4XoUrkfRPzMzMzMzM8M/MzMzMzMzwz8AAAAAAAA2QArXo3A9Ctc/uB6F61G4vj8=",
           "dtype": "f8"
          },
          "sizemode": "area",
          "sizeref": 1.3115,
          "symbol": "circle"
         },
         "mode": "markers",
         "name": "TONGA",
         "showlegend": true,
         "type": "scattergl",
         "x": {
          "bdata": "AAAAAAAA+H8AAAAAAAAgQAAAAAAAAPh/AAAAAAAA+H8AAAAAAAD4f5qZmZmZmSBAAAAAAAAA+H8zMzMzMzMgQAAAAAAAAPh/MzMzMzMzH0DNzMzMzMwcQM3MzMzMzBxAzczMzMzMHEAAAAAAAAAeQDMzMzMzMx1AzczMzMzMHkAAAAAAAAAgQGZmZmZmZh5AAAAAAAAA+H8AAAAAAAD4fwAAAAAAAPh/MzMzMzMzHUA=",
          "dtype": "f8"
         },
         "xaxis": "x",
         "y": {
          "bdata": "AAAAAAAAAAAAAAAAAAAAAAAAAAAAAAAAAAAAAAAAAAAAAAAAAAAAAAAAAAAAAAAAAAAAAAAAAAAAAAAAAAAAAAAAAAAAAAAAAAAAAAAAAAAAAAAAAAAAAAAAAAAAAPA/AAAAAAAAAAAAAAAAAAAAAAAAAAAAAAAAAAAAAAAAAAAAAAAAAAAAAAAAAAAAAAAAAAAAAAAAAAAAAAAAAAAYQAAAAAAAAAAAAAAAAAAAAAA=",
          "dtype": "f8"
         },
         "yaxis": "y"
        },
        {
         "hovertemplate": "<b>%{hovertext}</b><br><br>Country=NORTHWEST PACIFIC OCEAN<br>Magnitude do Terremoto=%{x}<br>Total de Mortes=%{y}<br>Maximum Water Height (m)=%{marker.size}<extra></extra>",
         "hovertext": [
          "PHILIPPINE SEA"
         ],
         "legendgroup": "NORTHWEST PACIFIC OCEAN",
         "marker": {
          "color": "#ab63fa",
          "size": {
           "bdata": "AAAAAAAAAAA=",
           "dtype": "f8"
          },
          "sizemode": "area",
          "sizeref": 1.3115,
          "symbol": "circle"
         },
         "mode": "markers",
         "name": "NORTHWEST PACIFIC OCEAN",
         "showlegend": true,
         "type": "scattergl",
         "x": {
          "bdata": "AAAAAAAA+H8=",
          "dtype": "f8"
         },
         "xaxis": "x",
         "y": {
          "bdata": "AAAAAAAAAAA=",
          "dtype": "f8"
         },
         "yaxis": "y"
        },
        {
         "hovertemplate": "<b>%{hovertext}</b><br><br>Country=HONDURAS<br>Magnitude do Terremoto=%{x}<br>Total de Mortes=%{y}<br>Maximum Water Height (m)=%{marker.size}<extra></extra>",
         "hovertext": [
          "TRUJILLO",
          "BAY OF HONDURAS",
          "GULF OF FONSECA",
          "OFF COAST OF HONDURAS",
          "OFF COAST OF HONDURAS"
         ],
         "legendgroup": "HONDURAS",
         "marker": {
          "color": "#FFA15A",
          "size": {
           "bdata": "AAAAAAAAAAAAAAAAAAAUQAAAAAAAAC5AAAAAAAAAEECamZmZmZnZPw==",
           "dtype": "f8"
          },
          "sizemode": "area",
          "sizeref": 1.3115,
          "symbol": "circle"
         },
         "mode": "markers",
         "name": "HONDURAS",
         "showlegend": true,
         "type": "scattergl",
         "x": {
          "bdata": "AAAAAAAA+H8AAAAAAAAeQAAAAAAAAPh/MzMzMzMzHUAAAAAAAAAeQA==",
          "dtype": "f8"
         },
         "xaxis": "x",
         "y": {
          "bdata": "AAAAAAAAAAAAAAAAAAAAAAAAAAAAAAAAAAAAAAAAHEAAAAAAAAAAAA==",
          "dtype": "f8"
         },
         "yaxis": "y"
        },
        {
         "hovertemplate": "<b>%{hovertext}</b><br><br>Country=SUDAN<br>Magnitude do Terremoto=%{x}<br>Total de Mortes=%{y}<br>Maximum Water Height (m)=%{marker.size}<extra></extra>",
         "hovertext": [
          "NILE RIVER"
         ],
         "legendgroup": "SUDAN",
         "marker": {
          "color": "#19d3f3",
          "size": {
           "bdata": "AAAAAAAAAAA=",
           "dtype": "f8"
          },
          "sizemode": "area",
          "sizeref": 1.3115,
          "symbol": "circle"
         },
         "mode": "markers",
         "name": "SUDAN",
         "showlegend": true,
         "type": "scattergl",
         "x": {
          "bdata": "AAAAAAAAFEA=",
          "dtype": "f8"
         },
         "xaxis": "x",
         "y": {
          "bdata": "AAAAAAAAAAA=",
          "dtype": "f8"
         },
         "yaxis": "y"
        },
        {
         "hovertemplate": "<b>%{hovertext}</b><br><br>Country=EL SALVADOR<br>Magnitude do Terremoto=%{x}<br>Total de Mortes=%{y}<br>Maximum Water Height (m)=%{marker.size}<extra></extra>",
         "hovertext": [
          "EL SALVADOR",
          "EL SALVADOR",
          "EL SALVADOR-GUATEMALA",
          "OFF COAST",
          "EL SALVADOR",
          "EL SALVADOR",
          "EL SALVADOR-NICARAGUA",
          "GULF OF FONSECA"
         ],
         "legendgroup": "EL SALVADOR",
         "marker": {
          "color": "#FF6692",
          "size": {
           "bdata": "AAAAAAAAAAAAAAAAAAAAAAAAAAAAAAAAAAAAAAAAAAAAAAAAAAAAAAAAAAAAANA/MzMzMzMzGUB7FK5H4XqUPw==",
           "dtype": "f8"
          },
          "sizemode": "area",
          "sizeref": 1.3115,
          "symbol": "circle"
         },
         "mode": "markers",
         "name": "EL SALVADOR",
         "showlegend": true,
         "type": "scattergl",
         "x": {
          "bdata": "zczMzMzMGEAAAAAAAAAcQAAAAAAAABxAAAAAAAAA+H+amZmZmZkfQM3MzMzMzB5AMzMzMzMzHUAzMzMzMzMdQA==",
          "dtype": "f8"
         },
         "xaxis": "x",
         "y": {
          "bdata": "AAAAAAAAAAAAAAAAAAAAAAAAAAAAIGdAAAAAAAAAAAAAAAAAAAAAAAAAAAAAYIpAAAAAAAAAAAAAAAAAAADwPw==",
          "dtype": "f8"
         },
         "yaxis": "y"
        },
        {
         "hovertemplate": "<b>%{hovertext}</b><br><br>Country=GHANA<br>Magnitude do Terremoto=%{x}<br>Total de Mortes=%{y}<br>Maximum Water Height (m)=%{marker.size}<extra></extra>",
         "hovertext": [
          "GOLD COAST",
          "GOLD COAST",
          "GOLD COAST"
         ],
         "legendgroup": "GHANA",
         "marker": {
          "color": "#B6E880",
          "size": {
           "bdata": "AAAAAAAAAAAAAAAAAAAAAAAAAAAAAAAA",
           "dtype": "f8"
          },
          "sizemode": "area",
          "sizeref": 1.3115,
          "symbol": "circle"
         },
         "mode": "markers",
         "name": "GHANA",
         "showlegend": true,
         "type": "scattergl",
         "x": {
          "bdata": "AAAAAAAAGkAAAAAAAAAUQJqZmZmZmRlA",
          "dtype": "f8"
         },
         "xaxis": "x",
         "y": {
          "bdata": "AAAAAAAACEAAAAAAAAAAAAAAAAAAADZA",
          "dtype": "f8"
         },
         "yaxis": "y"
        },
        {
         "hovertemplate": "<b>%{hovertext}</b><br><br>Country=VANUATU<br>Magnitude do Terremoto=%{x}<br>Total de Mortes=%{y}<br>Maximum Water Height (m)=%{marker.size}<extra></extra>",
         "hovertext": [
          "VANUATU ISLANDS",
          "VANUATU ISLANDS",
          "VANUATU ISLANDS",
          "VANUATU ISLANDS",
          "TANNA ISLAND",
          "TANNA ISLAND",
          "PORT VILA, EFATE ISLAND",
          "PORT VILA, EFATE ISLAND",
          "MALO PASS",
          "PORT VILA",
          "PORT VILA",
          "VANUATU ISLANDS",
          "VANUATU ISLANDS",
          "VANUATU ISLANDS",
          "VANUATU ISLANDS",
          "VANUATU ISLANDS",
          "OFF EAST COAST OF VANUATU",
          "KUWAE VOLCANO",
          "VANUATU ISLANDS",
          "VANUATU ISLANDS",
          "VANUATU ISLANDS",
          "VANUATU ISLANDS",
          "SANTA CRUZ IS. VANUATU",
          "VANUATU ISLANDS",
          "VANUATU ISLANDS",
          "VANUATU ISLANDS",
          "VANUATU ISLANDS",
          "VANUATU ISLANDS",
          "VANUATU ISLANDS",
          "VANUATU ISLANDS",
          "VANUATU ISLANDS",
          "VANUATU ISLANDS",
          "VANUATU ISLANDS",
          "VANUATU ISLANDS",
          "VANUATU ISLANDS",
          "VANUATU ISLANDS",
          "VANUATU ISLANDS",
          "VANUATU ISLANDS",
          "VANUATU ISLANDS",
          "OFF EAST COAST OF VANUATU",
          "VANUATU ISLANDS",
          "VANUATU ISLANDS",
          "VANUATU ISLANDS",
          "VANUATU ISLANDS",
          "EAST EPI VOLCANO",
          "VANUATU ISLANDS",
          "VANUATU ISLANDS",
          "VANUATU ISLANDS"
         ],
         "legendgroup": "VANUATU",
         "marker": {
          "color": "#FF97FF",
          "size": {
           "bdata": "AAAAAAAAAAAAAAAAAAAAAAAAAAAAAAAAAAAAAAAAAAAAAAAAAAAoQAAAAAAAAAAAAAAAAAAAAAAAAAAAAAAAADMzMzMzM+M/AAAAAAAAAAAAAAAAAAAAAAAAAAAAAAAAAAAAAAAAAAAAAAAAAAAAAAAAAAAAAAAAAAAAAAAABEAAAAAAAAAAAAAAAAAAAAAAzczMzMzM7D8AAAAAAAAcQAAAAAAAAABAAAAAAAAAAAAAAAAAAAAAAJqZmZmZmbk/uB6F61G4nj97FK5H4Xq0P2ZmZmZmZhpAAAAAAAAACEB7FK5H4Xq0P7gehetRuJ4/j8L1KFyP0j97FK5H4XqkP3E9CtejcM0/ZmZmZmZmEEC4HoXrUbieP3sUrkfheqQ/UrgehetRyD8zMzMzMzPDP3sUrkfherQ/mpmZmZmZqT8AAAAAAAAAAAAAAAAAACBAuB6F61G4nj97FK5H4XqUP5qZmZmZmak/uB6F61G4rj97FK5H4Xq0PwAAAAAAANA/",
           "dtype": "f8"
          },
          "sizemode": "area",
          "sizeref": 1.3115,
          "symbol": "circle"
         },
         "mode": "markers",
         "name": "VANUATU",
         "showlegend": true,
         "type": "scattergl",
         "x": {
          "bdata": "AAAAAAAAHkAAAAAAAAD4fwAAAAAAAPh/AAAAAAAAHEAAAAAAAAAeQAAAAAAAACBAAAAAAAAAGEAAAAAAAAD4fwAAAAAAAPh/AAAAAAAA+H8AAAAAAAD4fwAAAAAAAPh/zczMzMzMHEAzMzMzMzMfQJqZmZmZmRlAMzMzMzMzH0AzMzMzMzMbQAAAAAAAAPh/MzMzMzMzHUAAAAAAAAAcQJqZmZmZmR1AZmZmZmZmGEAAAAAAAAAeQM3MzMzMzBpAAAAAAAAAHEDNzMzMzMwcQAAAAAAAAB5AzczMzMzMHEBmZmZmZmYcQJqZmZmZmRlAZmZmZmZmHkDNzMzMzMwcQM3MzMzMzBxAMzMzMzMzHUAAAAAAAAAaQAAAAAAAABxAZmZmZmZmHEAAAAAAAAAcQAAAAAAAABxAzczMzMzMGkAzMzMzMzMZQJqZmZmZmRlAmpmZmZmZG0AAAAAAAAAcQAAAAAAAAPh/zczMzMzMGkBmZmZmZmYcQDMzMzMzMx1A",
          "dtype": "f8"
         },
         "xaxis": "x",
         "y": {
          "bdata": "AAAAAAAAAAAAAAAAAAAAAAAAAAAAAAAAAAAAAAAAAAAAAAAAAAAAAAAAAAAAAAAAAAAAAAAAAAAAAAAAAAAAAAAAAAAAAAAAAAAAAAAAAAAAAAAAAAAAAAAAAAAAAAAAAAAAAAAAAAAAAAAAAAAAAAAAAAAAAAAAAAAAAAAAAAAAAAAAAAAAAAAAAAAAAAAAAAAAAAAAAAAAAAAAAAAAAAAAAAAAAAAAAAAAAAAAAAAAAAAAAAAAAAAAAAAAAAAAAAAAAAAAAAAAAAAAAAAAAAAAAAAAACRAAAAAAAAAAAAAAAAAAAAAAAAAAAAAAAAAAAAAAAAAAAAAAAAAAAAAAAAAAAAAAAAAAAAAAAAAAAAAAAAAAAAAAAAAAAAAAAAAAAAAAAAAAAAAAAAAAAAAAAAAAAAAAAAAAAAAAAAAAAAAAAAAAAAAAAAAAAAAAAAAAAAAAAAAAAAAAAAAAAAAAAAAAAAAAAAAAAAAAAAAAAAAAAAAAAAAAAAAAAAAACxA",
          "dtype": "f8"
         },
         "yaxis": "y"
        },
        {
         "hovertemplate": "<b>%{hovertext}</b><br><br>Country=UKRAINE<br>Magnitude do Terremoto=%{x}<br>Total de Mortes=%{y}<br>Maximum Water Height (m)=%{marker.size}<extra></extra>",
         "hovertext": [
          "BLACK SEA",
          "CRIMEA",
          "CRIMEA",
          "CRIMEA",
          "CRIMEA, BLACK SEA",
          "CRIMEA, BLACK SEA",
          "CRIMEA, BLACK SEA",
          "ODESSA"
         ],
         "legendgroup": "UKRAINE",
         "marker": {
          "color": "#FECB52",
          "size": {
           "bdata": "AAAAAAAA8D8AAAAAAAAAAAAAAAAAAAAAAAAAAAAAAABmZmZmZmbmPwAAAAAAAPA/AAAAAAAAAAAAAAAAAAAAQA==",
           "dtype": "f8"
          },
          "sizemode": "area",
          "sizeref": 1.3115,
          "symbol": "circle"
         },
         "mode": "markers",
         "name": "UKRAINE",
         "showlegend": true,
         "type": "scattergl",
         "x": {
          "bdata": "ZmZmZmZmFkAAAAAAAAAWQAAAAAAAABpAAAAAAAAA+H8AAAAAAAAYQDMzMzMzMxtAmpmZmZmZE0AAAAAAAAD4fw==",
          "dtype": "f8"
         },
         "xaxis": "x",
         "y": {
          "bdata": "AAAAAAAAAAAAAAAAAAAAAAAAAAAAAAAAAAAAAAAAAAAAAAAAAAAAAAAAAAAAACZAAAAAAAAAAAAAAAAAAAAAAA==",
          "dtype": "f8"
         },
         "yaxis": "y"
        },
        {
         "hovertemplate": "<b>%{hovertext}</b><br><br>Country=EGYPT<br>Magnitude do Terremoto=%{x}<br>Total de Mortes=%{y}<br>Maximum Water Height (m)=%{marker.size}<extra></extra>",
         "hovertext": [
          "ALEXANDRIA",
          "GULF OF SUEZ",
          "GULF OF SUEZ",
          "GULF OF ELAT-AQABA"
         ],
         "legendgroup": "EGYPT",
         "marker": {
          "color": "#636efa",
          "size": {
           "bdata": "AAAAAAAAAAAAAAAAAAAAAAAAAAAAAAAAAAAAAAAAEEA=",
           "dtype": "f8"
          },
          "sizemode": "area",
          "sizeref": 1.3115,
          "symbol": "circle"
         },
         "mode": "markers",
         "name": "EGYPT",
         "showlegend": true,
         "type": "scattergl",
         "x": {
          "bdata": "AAAAAAAA+H+amZmZmZkXQAAAAAAAABxAzczMzMzMHEA=",
          "dtype": "f8"
         },
         "xaxis": "x",
         "y": {
          "bdata": "AAAAAAAAAAAAAAAAAAAAAAAAAAAAAABAAAAAAAAAJkA=",
          "dtype": "f8"
         },
         "yaxis": "y"
        },
        {
         "hovertemplate": "<b>%{hovertext}</b><br><br>Country=PANAMA<br>Magnitude do Terremoto=%{x}<br>Total de Mortes=%{y}<br>Maximum Water Height (m)=%{marker.size}<extra></extra>",
         "hovertext": [
          "PANAMA CITY",
          "SAN BLAS ARCHIPELAGO",
          "GULF OF PANAMA",
          "BOCAS DEL TORO",
          "OFF COAST",
          "BOCAS DEL TORO",
          "COSTA RICA-PANAMA",
          "OFF COAST",
          "COSTA RICA-PANAMA",
          "PANAMA"
         ],
         "legendgroup": "PANAMA",
         "marker": {
          "color": "#EF553B",
          "size": {
           "bdata": "AAAAAAAAAAAAAAAAAAAIQAAAAAAAAAAAAAAAAAAAAAAAAAAAAAAAAM3MzMzMzPQ/AAAAAAAAAAAAAAAAAAAAAJqZmZmZmbk/AAAAAAAAAAA=",
           "dtype": "f8"
          },
          "sizemode": "area",
          "sizeref": 1.3115,
          "symbol": "circle"
         },
         "mode": "markers",
         "name": "PANAMA",
         "showlegend": true,
         "type": "scattergl",
         "x": {
          "bdata": "AAAAAAAA+H+amZmZmZkfQAAAAAAAAB5AzczMzMzMHEDNzMzMzMwaQAAAAAAAABxAzczMzMzMHkAAAAAAAAD4fzMzMzMzMxtAzczMzMzMGkA=",
          "dtype": "f8"
         },
         "xaxis": "x",
         "y": {
          "bdata": "AAAAAAAAAAAAAAAAAAAAAAAAAAAAAAAAAAAAAAAAAAAAAAAAAAAAAAAAAAAAAAAAAAAAAAAAAAAAAAAAAAAAAAAAAAAAAAAAAAAAAAAAFEA=",
          "dtype": "f8"
         },
         "yaxis": "y"
        },
        {
         "hovertemplate": "<b>%{hovertext}</b><br><br>Country=NEW CALEDONIA<br>Magnitude do Terremoto=%{x}<br>Total de Mortes=%{y}<br>Maximum Water Height (m)=%{marker.size}<extra></extra>",
         "hovertext": [
          "LIFOU ISLAND, LOYALTY ISLANDS",
          "LOYALTY ISLANDS",
          "LOYALTY ISLANDS",
          "NEW CALEDONIA",
          "LOYALTY ISLANDS",
          "LOYALTY ISLANDS",
          "LOYALTY ISLANDS",
          "LOYALTY ISLANDS",
          "LOYALTY ISLANDS",
          "LOYALTY ISLANDS",
          "LOYALTY ISLANDS",
          "LOYALTY ISLANDS",
          "LOYALTY ISLANDS",
          "LOYALTY ISLANDS",
          "LOYALTY ISLANDS",
          "LOYALTY ISLANDS",
          "LOYALTY ISLANDS",
          "LOYALTY ISLANDS",
          "LOYALTY ISLANDS",
          "LOYALTY ISLANDS",
          "LOYALTY ISLANDS",
          "LOYALTY ISLANDS",
          "LOYALTY ISLANDS"
         ],
         "legendgroup": "NEW CALEDONIA",
         "marker": {
          "color": "#00cc96",
          "size": {
           "bdata": "AAAAAAAAEEAzMzMzMzPzPwAAAAAAACBAAAAAAAAAAEAzMzMzMzPDP+xRuB6F67E/exSuR+F6xD+4HoXrUbieP3sUrkfheqQ/UrgehetRyD8zMzMzMzPDP5qZmZmZmbk/mpmZmZmZqT97FK5H4Xq0P65H4XoUrtc/SOF6FK5H0T+amZmZmZmpPwAAAAAAABBA9ihcj8L16D/sUbgeheuxP5qZmZmZmak/hetRuB6F4z/sUbgehevBPw==",
           "dtype": "f8"
          },
          "sizemode": "area",
          "sizeref": 1.3115,
          "symbol": "circle"
         },
         "mode": "markers",
         "name": "NEW CALEDONIA",
         "showlegend": true,
         "type": "scattergl",
         "x": {
          "bdata": "AAAAAAAAIECamZmZmZkfQM3MzMzMzB5AAAAAAAAA+H8zMzMzMzMdQGZmZmZmZhxAMzMzMzMzHUAzMzMzMzMbQGZmZmZmZhpAzczMzMzMHEDNzMzMzMwaQGZmZmZmZhpAMzMzMzMzGUBmZmZmZmYaQAAAAAAAABxAZmZmZmZmHEAAAAAAAAAaQAAAAAAAAB5AzczMzMzMHkCamZmZmZkbQAAAAAAAABxAzczMzMzMHkBmZmZmZmYcQA==",
          "dtype": "f8"
         },
         "xaxis": "x",
         "y": {
          "bdata": "AAAAAAAAOkAAAAAAAAAAAAAAAAAAAAAAAAAAAAAAAAAAAAAAAAAAAAAAAAAAAAAAAAAAAAAAAAAAAAAAAAAAAAAAAAAAAAAAAAAAAAAAAAAAAAAAAAAAAAAAAAAAAAAAAAAAAAAAAAAAAAAAAAAAAAAAAAAAAAAAAAAAAAAAAAAAAAAAAAAAAAAAAAAAAAAAAAAAAAAAAAAAAAAAAAAAAAAAAAAAAAAAAAAAAAAAAAAAAAAAAAAAAA==",
          "dtype": "f8"
         },
         "yaxis": "y"
        },
        {
         "hovertemplate": "<b>%{hovertext}</b><br><br>Country=FIJI<br>Magnitude do Terremoto=%{x}<br>Total de Mortes=%{y}<br>Maximum Water Height (m)=%{marker.size}<extra></extra>",
         "hovertext": [
          "FIJI ISLANDS",
          "LAKEBA ISLAND",
          "FIJI ISLANDS",
          "FIJI ISLANDS",
          "FIJI ISLANDS",
          "FIJI ISLANDS",
          "FIJI ISLANDS"
         ],
         "legendgroup": "FIJI",
         "marker": {
          "color": "#ab63fa",
          "size": {
           "bdata": "cT0K16Nw3T8AAAAAAAAAAAAAAAAAAC5AAAAAAAAA0D8AAAAAAAAAAOxRuB6F67E/AAAAAAAAAAA=",
           "dtype": "f8"
          },
          "sizemode": "area",
          "sizeref": 1.3115,
          "symbol": "circle"
         },
         "mode": "markers",
         "name": "FIJI",
         "showlegend": true,
         "type": "scattergl",
         "x": {
          "bdata": "AAAAAAAA+H8AAAAAAAD4f5qZmZmZmRlAmpmZmZmZE0CamZmZmZkbQJqZmZmZmRtAZmZmZmZmIEA=",
          "dtype": "f8"
         },
         "xaxis": "x",
         "y": {
          "bdata": "AAAAAAAAAAAAAAAAAAAAAAAAAAAAACBAAAAAAAAAAAAAAAAAAAAAAAAAAAAAAAAAAAAAAAAAAAA=",
          "dtype": "f8"
         },
         "yaxis": "y"
        },
        {
         "hovertemplate": "<b>%{hovertext}</b><br><br>Country=SAMOA<br>Magnitude do Terremoto=%{x}<br>Total de Mortes=%{y}<br>Maximum Water Height (m)=%{marker.size}<extra></extra>",
         "hovertext": [
          "SAMOA",
          "MATAVANU VOLCANO",
          "MATAVANU VOLCANO",
          "MATAVANU VOLCANO",
          "MATAVANU VOLCANO",
          "MATAVANU VOLCANO",
          "MATAVANU VOLCANO",
          "MATAVANU VOLCANO",
          "MATAVANU VOLCANO",
          "SAMOA ISLANDS",
          "SAMOA ISLANDS",
          "SAMOA ISLANDS",
          "SAMOA ISLANDS",
          "SAMOA ISLANDS",
          "SAMOA ISLANDS",
          "SAMOA ISLANDS"
         ],
         "legendgroup": "SAMOA",
         "marker": {
          "color": "#FFA15A",
          "size": {
           "bdata": "AAAAAAAAAAAAAAAAAAAAAAAAAAAAAAAAAAAAAAAAAAAAAAAAAAAAAAAAAAAAAAAAAAAAAAAAAAAAAAAAAAAAAM3MzMzMzAxAZmZmZmZmKEBSuB6F61HYP3sUrkfherQ/AAAAAAAA8D8K16NwPQq3P3sUrkfherQ/mpmZmZlZNkA=",
           "dtype": "f8"
          },
          "sizemode": "area",
          "sizeref": 1.3115,
          "symbol": "circle"
         },
         "mode": "markers",
         "name": "SAMOA",
         "showlegend": true,
         "type": "scattergl",
         "x": {
          "bdata": "AAAAAAAA+H8AAAAAAAD4fwAAAAAAAPh/AAAAAAAA+H8AAAAAAAD4fwAAAAAAAPh/AAAAAAAA+H8AAAAAAAD4fwAAAAAAAPh/mpmZmZmZIEAzMzMzMzMfQGZmZmZmZh5AzczMzMzMHkCamZmZmZkdQJqZmZmZmRtAMzMzMzMzIEA=",
          "dtype": "f8"
         },
         "xaxis": "x",
         "y": {
          "bdata": "AAAAAAAAAAAAAAAAAAAAAAAAAAAAAAAAAAAAAAAAAAAAAAAAAAAAAAAAAAAAAAAAAAAAAAAAAAAAAAAAAAAAAAAAAAAAAAAAAAAAAAAAAEAAAAAAAAAAAAAAAAAAAAAAAAAAAAAAAAAAAAAAAAAAAAAAAAAAAAAAAAAAAAAAaEA=",
          "dtype": "f8"
         },
         "yaxis": "y"
        },
        {
         "hovertemplate": "<b>%{hovertext}</b><br><br>Country=URUGUAY<br>Magnitude do Terremoto=%{x}<br>Total de Mortes=%{y}<br>Maximum Water Height (m)=%{marker.size}<extra></extra>",
         "hovertext": [
          "MONTEVIDEO",
          "LA PLATA RIVER",
          "MONTEVIDEO"
         ],
         "legendgroup": "URUGUAY",
         "marker": {
          "color": "#19d3f3",
          "size": {
           "bdata": "AAAAAAAAAAAAAAAAAAAAAAAAAAAAAAAA",
           "dtype": "f8"
          },
          "sizemode": "area",
          "sizeref": 1.3115,
          "symbol": "circle"
         },
         "mode": "markers",
         "name": "URUGUAY",
         "showlegend": true,
         "type": "scattergl",
         "x": {
          "bdata": "AAAAAAAA+H8AAAAAAAD4fwAAAAAAAPh/",
          "dtype": "f8"
         },
         "xaxis": "x",
         "y": {
          "bdata": "AAAAAAAAAAAAAAAAAAAAAAAAAAAAAAAA",
          "dtype": "f8"
         },
         "yaxis": "y"
        },
        {
         "hovertemplate": "<b>%{hovertext}</b><br><br>Country=ERITREA<br>Magnitude do Terremoto=%{x}<br>Total de Mortes=%{y}<br>Maximum Water Height (m)=%{marker.size}<extra></extra>",
         "hovertext": [
          "OFFSHORE MASSAWA"
         ],
         "legendgroup": "ERITREA",
         "marker": {
          "color": "#FF6692",
          "size": {
           "bdata": "AAAAAAAAAAA=",
           "dtype": "f8"
          },
          "sizemode": "area",
          "sizeref": 1.3115,
          "symbol": "circle"
         },
         "mode": "markers",
         "name": "ERITREA",
         "showlegend": true,
         "type": "scattergl",
         "x": {
          "bdata": "zczMzMzMGEA=",
          "dtype": "f8"
         },
         "xaxis": "x",
         "y": {
          "bdata": "AAAAAAAAAAA=",
          "dtype": "f8"
         },
         "yaxis": "y"
        },
        {
         "hovertemplate": "<b>%{hovertext}</b><br><br>Country=IRAN<br>Magnitude do Terremoto=%{x}<br>Total de Mortes=%{y}<br>Maximum Water Height (m)=%{marker.size}<extra></extra>",
         "hovertext": [
          "CASPIAN SEA",
          "CASPIAN SEA",
          "PERSIAN GULF"
         ],
         "legendgroup": "IRAN",
         "marker": {
          "color": "#B6E880",
          "size": {
           "bdata": "AAAAAAAAAAAAAAAAAAAAQAAAAAAAAAhA",
           "dtype": "f8"
          },
          "sizemode": "area",
          "sizeref": 1.3115,
          "symbol": "circle"
         },
         "mode": "markers",
         "name": "IRAN",
         "showlegend": true,
         "type": "scattergl",
         "x": {
          "bdata": "zczMzMzMHEAzMzMzMzMdQAAAAAAAAPh/",
          "dtype": "f8"
         },
         "xaxis": "x",
         "y": {
          "bdata": "AAAAAABgZUAAAAAAAIjjQAAAAAAAABRA",
          "dtype": "f8"
         },
         "yaxis": "y"
        },
        {
         "hovertemplate": "<b>%{hovertext}</b><br><br>Country=ATLANTIC OCEAN<br>Magnitude do Terremoto=%{x}<br>Total de Mortes=%{y}<br>Maximum Water Height (m)=%{marker.size}<extra></extra>",
         "hovertext": [
          "ATLANTIC OCEAN",
          "AZORES GIBRALTAR FRACTURE ZONE",
          "SOUTHWEST IBERIAN",
          "AZORES GIBRALTAR FRACTURE ZONE"
         ],
         "legendgroup": "ATLANTIC OCEAN",
         "marker": {
          "color": "#FF97FF",
          "size": {
           "bdata": "ZmZmZmZmKEBxPQrXo3DNP7gehetRuK4/AAAAAAAA4D8=",
           "dtype": "f8"
          },
          "sizemode": "area",
          "sizeref": 1.3115,
          "symbol": "circle"
         },
         "mode": "markers",
         "name": "ATLANTIC OCEAN",
         "showlegend": true,
         "type": "scattergl",
         "x": {
          "bdata": "AAAAAAAA+H8zMzMzMzMfQAAAAAAAAPh/MzMzMzMzH0A=",
          "dtype": "f8"
         },
         "xaxis": "x",
         "y": {
          "bdata": "AAAAAAAAAAAAAAAAAAAAAAAAAAAAAAAAAAAAAAAAAAA=",
          "dtype": "f8"
         },
         "yaxis": "y"
        },
        {
         "hovertemplate": "<b>%{hovertext}</b><br><br>Country=TURKMENISTAN<br>Magnitude do Terremoto=%{x}<br>Total de Mortes=%{y}<br>Maximum Water Height (m)=%{marker.size}<extra></extra>",
         "hovertext": [
          "CASPIAN SEA"
         ],
         "legendgroup": "TURKMENISTAN",
         "marker": {
          "color": "#FECB52",
          "size": {
           "bdata": "AAAAAAAAAAA=",
           "dtype": "f8"
          },
          "sizemode": "area",
          "sizeref": 1.3115,
          "symbol": "circle"
         },
         "mode": "markers",
         "name": "TURKMENISTAN",
         "showlegend": true,
         "type": "scattergl",
         "x": {
          "bdata": "ZmZmZmZmIEA=",
          "dtype": "f8"
         },
         "xaxis": "x",
         "y": {
          "bdata": "AAAAAAAAAAA=",
          "dtype": "f8"
         },
         "yaxis": "y"
        },
        {
         "hovertemplate": "<b>%{hovertext}</b><br><br>Country=SOLOMON ISLANDS<br>Magnitude do Terremoto=%{x}<br>Total de Mortes=%{y}<br>Maximum Water Height (m)=%{marker.size}<extra></extra>",
         "hovertext": [
          "TINAKULA, SANTA CRUZ ISLANDS",
          "SOLOMON SEA",
          "SOLOMON ISLANDS",
          "SAN CRISTOBAL ISLAND",
          "SOLOMON ISLANDS",
          "SOLOMON ISLANDS",
          "SOLOMON ISLANDS",
          "SOLOMON SEA",
          "KAVACHI",
          "SOLOMON ISLANDS",
          "HONIARA, GUADALCANAL",
          "SOLOMON SEA",
          "SOLOMON ISLANDS",
          "MOHAWK BAY, SANTA CRUZ ISLANDS",
          "SANTA CRUZ ISLANDS",
          "SANTA CRUZ ISLANDS",
          "TINAKULA, SANTA CRUZ ISLANDS",
          "SOLOMON ISLANDS",
          "SOLOMON ISLANDS",
          "SOLOMON ISLANDS",
          "SOLOMON ISLANDS",
          "SOLOMON ISLANDS",
          "SOLOMON ISLANDS",
          "SOLOMON ISLANDS",
          "SOLOMON ISLANDS",
          "SOLOMON ISLANDS",
          "SOLOMON ISLANDS",
          "SANTA CRUZ ISLANDS",
          "SANTA CRUZ IS. VANUATU",
          "SOLOMON ISLANDS",
          "SOLOMON ISLANDS",
          "SANTA CRUZ ISLANDS",
          "SOLOMON ISLANDS",
          "SOLOMON ISLANDS",
          "SOLOMON ISLANDS",
          "SANTA CRUZ ISLANDS",
          "SANTA CRUZ ISLANDS",
          "SANTA CRUZ ISLANDS",
          "SOLOMON ISLANDS",
          "SOLOMON ISLANDS",
          "SOLOMON ISLANDS",
          "SANTA CRUZ ISLANDS",
          "SOLOMON ISLANDS",
          "SOLOMON ISLANDS",
          "SOLOMON ISLANDS",
          "SOLOMON ISLANDS"
         ],
         "legendgroup": "SOLOMON ISLANDS",
         "marker": {
          "color": "#636efa",
          "size": {
           "bdata": "AAAAAAAAAAAAAAAAAAAAAAAAAAAAAABAAAAAAAAAIkDNzMzMzMzkPwAAAAAAAAAAAAAAAAAAJUAzMzMzMzPzPwAAAAAAAAAAAAAAAAAA8D/NzMzMzMwMQM3MzMzMzOw/mpmZmZmZyT8AAAAAAAAAAAAAAAAAAABAmpmZmZmZ6T8AAAAAAAAAAAAAAAAAAPg/AAAAAAAAEkAzMzMzMzPDPwAAAAAAAAAAexSuR+F6pD/sUbgehevBPwAAAAAAAAAACtejcD0Ktz97FK5H4XqUPzMzMzMzM8M/AAAAAAAAAAAAAAAAAAAIQAAAAAAAAABAMzMzMzMzKECamZmZmZmpP3sUrkfheoQ/FK5H4XoUHkC4HoXrUbieP7gehetRuJ4/AAAAAAAAJkAK16NwPQq3P5qZmZmZmak/exSuR+F6xD97FK5H4XqEPwrXo3A9Crc/mpmZmZmZuT+F61G4HoXbP5qZmZmZmak/uB6F61G4nj8=",
           "dtype": "f8"
          },
          "sizemode": "area",
          "sizeref": 1.3115,
          "symbol": "circle"
         },
         "mode": "markers",
         "name": "SOLOMON ISLANDS",
         "showlegend": true,
         "type": "scattergl",
         "x": {
          "bdata": "AAAAAAAA+H8AAAAAAAAeQJqZmZmZmRtAMzMzMzMzH0AzMzMzMzMfQM3MzMzMzBxAmpmZmZmZH0AzMzMzMzMdQAAAAAAAAPh/MzMzMzMzHUAAAAAAAAD4f5qZmZmZmRlAZmZmZmZmHEAAAAAAAAD4fzMzMzMzMx9AzczMzMzMHEAAAAAAAAD4fwAAAAAAABxAZmZmZmZmHEAzMzMzMzMbQGZmZmZmZh5AMzMzMzMzIECamZmZmZkfQDMzMzMzMxlAZmZmZmZmHkCamZmZmZkbQM3MzMzMzBxAZmZmZmZmHEDNzMzMzMweQDMzMzMzMx1AMzMzMzMzIEDNzMzMzMwcQGZmZmZmZhpAZmZmZmZmHEAzMzMzMzMbQJqZmZmZmRlAmpmZmZmZH0AAAAAAAAAcQGZmZmZmZh5AmpmZmZmZHUDNzMzMzMwaQAAAAAAAABxAMzMzMzMzG0AzMzMzMzMfQJqZmZmZmRtAAAAAAAAAHEA=",
          "dtype": "f8"
         },
         "xaxis": "x",
         "y": {
          "bdata": "AAAAAAAAAAAAAAAAAAAAAAAAAAAAAAAAAAAAAAAASUAAAAAAAAAAAAAAAAAAAAAAAAAAAAAAKEAAAAAAAAAAAAAAAAAAAAAAAAAAAAAAAAAAAAAAAAAAAAAAAAAAAAAAAAAAAAAAAAAAAAAAAAAAAAAAAAAAAAAAAAAAAAAAAAAAAAAAAAAAAAAAAAAAAAAAAAAAAAAAAAAAAAAAAABBQAAAAAAAAAAAAAAAAAAAMkAAAAAAAAAAAAAAAAAAAAAAAAAAAAAA8D8AAAAAAAAAAAAAAAAAAAAAAAAAAAAAAAAAAAAAAAAAAAAAAAAAAAAAAAAAAAAASkAAAAAAAAAAAAAAAAAAAAAAAAAAAAAAAAAAAAAAAAAAAAAAAAAAAAAAAAAAAAAAJEAAAAAAAAAAAAAAAAAAAAAAAAAAAAAAAAAAAAAAAAAAAAAAAAAAAAAAAAAAAAAAAAAAAAAAAADwPwAAAAAAAAAAAAAAAAAAAAA=",
          "dtype": "f8"
         },
         "yaxis": "y"
        },
        {
         "hovertemplate": "<b>%{hovertext}</b><br><br>Country=BULGARIA<br>Magnitude do Terremoto=%{x}<br>Total de Mortes=%{y}<br>Maximum Water Height (m)=%{marker.size}<extra></extra>",
         "hovertext": [
          "BLACK SEA",
          "BLACK SEA"
         ],
         "legendgroup": "BULGARIA",
         "marker": {
          "color": "#EF553B",
          "size": {
           "bdata": "AAAAAAAACEAAAAAAAAAIQA==",
           "dtype": "f8"
          },
          "sizemode": "area",
          "sizeref": 1.3115,
          "symbol": "circle"
         },
         "mode": "markers",
         "name": "BULGARIA",
         "showlegend": true,
         "type": "scattergl",
         "x": {
          "bdata": "zczMzMzMHEAAAAAAAAD4fw==",
          "dtype": "f8"
         },
         "xaxis": "x",
         "y": {
          "bdata": "AAAAAAAAEEAAAAAAAAAAAA==",
          "dtype": "f8"
         },
         "yaxis": "y"
        },
        {
         "hovertemplate": "<b>%{hovertext}</b><br><br>Country=NICARAGUA<br>Magnitude do Terremoto=%{x}<br>Total de Mortes=%{y}<br>Maximum Water Height (m)=%{marker.size}<extra></extra>",
         "hovertext": [
          "NICARAGUA",
          "GULF OF FONSECA",
          "COSIGUINA VOLCANO",
          "NICARAGUA",
          "NICARAGUA"
         ],
         "legendgroup": "NICARAGUA",
         "marker": {
          "color": "#00cc96",
          "size": {
           "bdata": "AAAAAAAA+D8AAAAAAAAAAAAAAAAAAAAAzczMzMzMI0B7FK5H4Xq0Pw==",
           "dtype": "f8"
          },
          "sizemode": "area",
          "sizeref": 1.3115,
          "symbol": "circle"
         },
         "mode": "markers",
         "name": "NICARAGUA",
         "showlegend": true,
         "type": "scattergl",
         "x": {
          "bdata": "AAAAAAAAHEBmZmZmZmYaQAAAAAAAABhAZmZmZmZmHkCamZmZmZkbQA==",
          "dtype": "f8"
         },
         "xaxis": "x",
         "y": {
          "bdata": "AAAAAAAAAAAAAAAAAAAAAAAAAAAAAAAAAAAAAABAZUAAAAAAAAAAAA==",
          "dtype": "f8"
         },
         "yaxis": "y"
        },
        {
         "hovertemplate": "<b>%{hovertext}</b><br><br>Country=SAINT VINCENT AND THE GRENADINES<br>Magnitude do Terremoto=%{x}<br>Total de Mortes=%{y}<br>Maximum Water Height (m)=%{marker.size}<extra></extra>",
         "hovertext": [
          "SOUFRIERE VOLCANO",
          "SOUFRIERE VOLCANO"
         ],
         "legendgroup": "SAINT VINCENT AND THE GRENADINES",
         "marker": {
          "color": "#ab63fa",
          "size": {
           "bdata": "AAAAAAAA8D+amZmZmZm5Pw==",
           "dtype": "f8"
          },
          "sizemode": "area",
          "sizeref": 1.3115,
          "symbol": "circle"
         },
         "mode": "markers",
         "name": "SAINT VINCENT AND THE GRENADINES",
         "showlegend": true,
         "type": "scattergl",
         "x": {
          "bdata": "AAAAAAAA+H8AAAAAAAD4fw==",
          "dtype": "f8"
         },
         "xaxis": "x",
         "y": {
          "bdata": "AAAAAABAmkAAAAAAAAAAAA==",
          "dtype": "f8"
         },
         "yaxis": "y"
        },
        {
         "hovertemplate": "<b>%{hovertext}</b><br><br>Country=COOK ISLANDS<br>Magnitude do Terremoto=%{x}<br>Total de Mortes=%{y}<br>Maximum Water Height (m)=%{marker.size}<extra></extra>",
         "hovertext": [
          "COOK IS.",
          "RAROTONGA",
          "COOK ISLANDS",
          "MANGAIA ISLAND, COOK ISLANDS"
         ],
         "legendgroup": "COOK ISLANDS",
         "marker": {
          "color": "#FFA15A",
          "size": {
           "bdata": "AAAAAAAAAAAAAAAAAAAIQAAAAAAAAAAAAAAAAAAAAAA=",
           "dtype": "f8"
          },
          "sizemode": "area",
          "sizeref": 1.3115,
          "symbol": "circle"
         },
         "mode": "markers",
         "name": "COOK ISLANDS",
         "showlegend": true,
         "type": "scattergl",
         "x": {
          "bdata": "AAAAAAAA+H8AAAAAAAD4fwAAAAAAAPh/AAAAAAAA+H8=",
          "dtype": "f8"
         },
         "xaxis": "x",
         "y": {
          "bdata": "AAAAAAAAAAAAAAAAAAAAAAAAAAAAAPA/AAAAAAAAAAA=",
          "dtype": "f8"
         },
         "yaxis": "y"
        },
        {
         "hovertemplate": "<b>%{hovertext}</b><br><br>Country=GEORGIA<br>Magnitude do Terremoto=%{x}<br>Total de Mortes=%{y}<br>Maximum Water Height (m)=%{marker.size}<extra></extra>",
         "hovertext": [
          "CAUCASUS"
         ],
         "legendgroup": "GEORGIA",
         "marker": {
          "color": "#19d3f3",
          "size": {
           "bdata": "AAAAAAAAAAA=",
           "dtype": "f8"
          },
          "sizemode": "area",
          "sizeref": 1.3115,
          "symbol": "circle"
         },
         "mode": "markers",
         "name": "GEORGIA",
         "showlegend": true,
         "type": "scattergl",
         "x": {
          "bdata": "AAAAAAAAHkA=",
          "dtype": "f8"
         },
         "xaxis": "x",
         "y": {
          "bdata": "AAAAAAAAAAA=",
          "dtype": "f8"
         },
         "yaxis": "y"
        },
        {
         "hovertemplate": "<b>%{hovertext}</b><br><br>Country=MARSHALL ISLANDS, REP. OF<br>Magnitude do Terremoto=%{x}<br>Total de Mortes=%{y}<br>Maximum Water Height (m)=%{marker.size}<extra></extra>",
         "hovertext": [
          "MARSHALL ISLANDS"
         ],
         "legendgroup": "MARSHALL ISLANDS, REP. OF",
         "marker": {
          "color": "#FF6692",
          "size": {
           "bdata": "AAAAAAAAAAA=",
           "dtype": "f8"
          },
          "sizemode": "area",
          "sizeref": 1.3115,
          "symbol": "circle"
         },
         "mode": "markers",
         "name": "MARSHALL ISLANDS, REP. OF",
         "showlegend": true,
         "type": "scattergl",
         "x": {
          "bdata": "AAAAAAAA+H8=",
          "dtype": "f8"
         },
         "xaxis": "x",
         "y": {
          "bdata": "AAAAAAAAAAA=",
          "dtype": "f8"
         },
         "yaxis": "y"
        },
        {
         "hovertemplate": "<b>%{hovertext}</b><br><br>Country=TOGO<br>Magnitude do Terremoto=%{x}<br>Total de Mortes=%{y}<br>Maximum Water Height (m)=%{marker.size}<extra></extra>",
         "hovertext": [
          "GOLD COAST",
          "GOLD COAST"
         ],
         "legendgroup": "TOGO",
         "marker": {
          "color": "#B6E880",
          "size": {
           "bdata": "AAAAAAAAFEAAAAAAAAAAAA==",
           "dtype": "f8"
          },
          "sizemode": "area",
          "sizeref": 1.3115,
          "symbol": "circle"
         },
         "mode": "markers",
         "name": "TOGO",
         "showlegend": true,
         "type": "scattergl",
         "x": {
          "bdata": "ZmZmZmZmGkAAAAAAAAD4fw==",
          "dtype": "f8"
         },
         "xaxis": "x",
         "y": {
          "bdata": "AAAAAAAAAAAAAAAAAAAAAA==",
          "dtype": "f8"
         },
         "yaxis": "y"
        },
        {
         "hovertemplate": "<b>%{hovertext}</b><br><br>Country=MICRONESIA, FED. STATES OF<br>Magnitude do Terremoto=%{x}<br>Total de Mortes=%{y}<br>Maximum Water Height (m)=%{marker.size}<extra></extra>",
         "hovertext": [
          "CAROLINE ISLANDS",
          "YAP ISLANDS, CAROLINE ISLANDS",
          "CAROLINE ISLANDS"
         ],
         "legendgroup": "MICRONESIA, FED. STATES OF",
         "marker": {
          "color": "#FF97FF",
          "size": {
           "bdata": "AAAAAAAAAAAAAAAAAAAAAAAAAAAAAAAA",
           "dtype": "f8"
          },
          "sizemode": "area",
          "sizeref": 1.3115,
          "symbol": "circle"
         },
         "mode": "markers",
         "name": "MICRONESIA, FED. STATES OF",
         "showlegend": true,
         "type": "scattergl",
         "x": {
          "bdata": "mpmZmZmZG0AAAAAAAAD4fwAAAAAAAPh/",
          "dtype": "f8"
         },
         "xaxis": "x",
         "y": {
          "bdata": "AAAAAAAAAAAAAAAAAAAAAAAAAAAAAAAA",
          "dtype": "f8"
         },
         "yaxis": "y"
        },
        {
         "hovertemplate": "<b>%{hovertext}</b><br><br>Country=KENYA<br>Magnitude do Terremoto=%{x}<br>Total de Mortes=%{y}<br>Maximum Water Height (m)=%{marker.size}<extra></extra>",
         "hovertext": [
          "MOMBASA"
         ],
         "legendgroup": "KENYA",
         "marker": {
          "color": "#FECB52",
          "size": {
           "bdata": "AAAAAAAAGEA=",
           "dtype": "f8"
          },
          "sizemode": "area",
          "sizeref": 1.3115,
          "symbol": "circle"
         },
         "mode": "markers",
         "name": "KENYA",
         "showlegend": true,
         "type": "scattergl",
         "x": {
          "bdata": "AAAAAAAA+H8=",
          "dtype": "f8"
         },
         "xaxis": "x",
         "y": {
          "bdata": "AAAAAAAAAAA=",
          "dtype": "f8"
         },
         "yaxis": "y"
        },
        {
         "hovertemplate": "<b>%{hovertext}</b><br><br>Country=NEPAL<br>Magnitude do Terremoto=%{x}<br>Total de Mortes=%{y}<br>Maximum Water Height (m)=%{marker.size}<extra></extra>",
         "hovertext": [
          "BIHAR-NEPAL, GANGES RIVER"
         ],
         "legendgroup": "NEPAL",
         "marker": {
          "color": "#636efa",
          "size": {
           "bdata": "AAAAAAAAAAA=",
           "dtype": "f8"
          },
          "sizemode": "area",
          "sizeref": 1.3115,
          "symbol": "circle"
         },
         "mode": "markers",
         "name": "NEPAL",
         "showlegend": true,
         "type": "scattergl",
         "x": {
          "bdata": "AAAAAAAAIEA=",
          "dtype": "f8"
         },
         "xaxis": "x",
         "y": {
          "bdata": "AAAAAAC0xEA=",
          "dtype": "f8"
         },
         "yaxis": "y"
        },
        {
         "hovertemplate": "<b>%{hovertext}</b><br><br>Country=PAKISTAN<br>Magnitude do Terremoto=%{x}<br>Total de Mortes=%{y}<br>Maximum Water Height (m)=%{marker.size}<extra></extra>",
         "hovertext": [
          "QUETTA",
          "MAKRAN COAST",
          "PAKISTAN",
          "OFF COAST GWADAR"
         ],
         "legendgroup": "PAKISTAN",
         "marker": {
          "color": "#EF553B",
          "size": {
           "bdata": "AAAAAAAAAAAAAAAAAAAxQAAAAAAAAAAAPQrXo3A94j8=",
           "dtype": "f8"
          },
          "sizemode": "area",
          "sizeref": 1.3115,
          "symbol": "circle"
         },
         "mode": "markers",
         "name": "PAKISTAN",
         "showlegend": true,
         "type": "scattergl",
         "x": {
          "bdata": "AAAAAAAAHkAAAAAAAAAgQM3MzMzMzBhAzczMzMzMHkA=",
          "dtype": "f8"
         },
         "xaxis": "x",
         "y": {
          "bdata": "AAAAAABM7UAAAAAAAMByQAAAAAAAtLRAAAAAAADIiUA=",
          "dtype": "f8"
         },
         "yaxis": "y"
        },
        {
         "hovertemplate": "<b>%{hovertext}</b><br><br>Country=NAURU<br>Magnitude do Terremoto=%{x}<br>Total de Mortes=%{y}<br>Maximum Water Height (m)=%{marker.size}<extra></extra>",
         "hovertext": [
          "NAURU, OCEAN ISLAND"
         ],
         "legendgroup": "NAURU",
         "marker": {
          "color": "#00cc96",
          "size": {
           "bdata": "AAAAAAAAAAA=",
           "dtype": "f8"
          },
          "sizemode": "area",
          "sizeref": 1.3115,
          "symbol": "circle"
         },
         "mode": "markers",
         "name": "NAURU",
         "showlegend": true,
         "type": "scattergl",
         "x": {
          "bdata": "AAAAAAAA+H8=",
          "dtype": "f8"
         },
         "xaxis": "x",
         "y": {
          "bdata": "AAAAAAAAAAA=",
          "dtype": "f8"
         },
         "yaxis": "y"
        },
        {
         "hovertemplate": "<b>%{hovertext}</b><br><br>Country=CONGO<br>Magnitude do Terremoto=%{x}<br>Total de Mortes=%{y}<br>Maximum Water Height (m)=%{marker.size}<extra></extra>",
         "hovertext": [
          "NYAMURAGIRA"
         ],
         "legendgroup": "CONGO",
         "marker": {
          "color": "#ab63fa",
          "size": {
           "bdata": "AAAAAAAAAAA=",
           "dtype": "f8"
          },
          "sizemode": "area",
          "sizeref": 1.3115,
          "symbol": "circle"
         },
         "mode": "markers",
         "name": "CONGO",
         "showlegend": true,
         "type": "scattergl",
         "x": {
          "bdata": "AAAAAAAA+H8=",
          "dtype": "f8"
         },
         "xaxis": "x",
         "y": {
          "bdata": "AAAAAAAAAAA=",
          "dtype": "f8"
         },
         "yaxis": "y"
        },
        {
         "hovertemplate": "<b>%{hovertext}</b><br><br>Country=GRENADA<br>Magnitude do Terremoto=%{x}<br>Total de Mortes=%{y}<br>Maximum Water Height (m)=%{marker.size}<extra></extra>",
         "hovertext": [
          "KICK 'EM JENNY VOLCANO",
          "KICK 'EM JENNY VOLCANO"
         ],
         "legendgroup": "GRENADA",
         "marker": {
          "color": "#FFA15A",
          "size": {
           "bdata": "AAAAAAAAAEAAAAAAAAAAAA==",
           "dtype": "f8"
          },
          "sizemode": "area",
          "sizeref": 1.3115,
          "symbol": "circle"
         },
         "mode": "markers",
         "name": "GRENADA",
         "showlegend": true,
         "type": "scattergl",
         "x": {
          "bdata": "AAAAAAAA+H8AAAAAAAD4fw==",
          "dtype": "f8"
         },
         "xaxis": "x",
         "y": {
          "bdata": "AAAAAAAAAAAAAAAAAAAAAA==",
          "dtype": "f8"
         },
         "yaxis": "y"
        },
        {
         "hovertemplate": "<b>%{hovertext}</b><br><br>Country=CYPRUS<br>Magnitude do Terremoto=%{x}<br>Total de Mortes=%{y}<br>Maximum Water Height (m)=%{marker.size}<extra></extra>",
         "hovertext": [
          "LEVANTIAN SEA",
          "LEVANTIAN SEA"
         ],
         "legendgroup": "CYPRUS",
         "marker": {
          "color": "#19d3f3",
          "size": {
           "bdata": "AAAAAAAAAAAAAAAAAAAAAA==",
           "dtype": "f8"
          },
          "sizemode": "area",
          "sizeref": 1.3115,
          "symbol": "circle"
         },
         "mode": "markers",
         "name": "CYPRUS",
         "showlegend": true,
         "type": "scattergl",
         "x": {
          "bdata": "AAAAAAAAGEAzMzMzMzMZQA==",
          "dtype": "f8"
         },
         "xaxis": "x",
         "y": {
          "bdata": "AAAAAAAAAAAAAAAAAABEQA==",
          "dtype": "f8"
         },
         "yaxis": "y"
        },
        {
         "hovertemplate": "<b>%{hovertext}</b><br><br>Country=GREENLAND<br>Magnitude do Terremoto=%{x}<br>Total de Mortes=%{y}<br>Maximum Water Height (m)=%{marker.size}<extra></extra>",
         "hovertext": [
          "SOUTH COAST OF NUUSSUAQ, GREENLAND",
          "PAATUUT, GREENLAND",
          "ILULISSAT ICEFJORD, GREENLAND",
          "ILULISSAT ICEFJORD, GREENLAND",
          "KARRAT FJORD, GREENLAND",
          "DICKSON FJORD, GREENLAND"
         ],
         "legendgroup": "GREENLAND",
         "marker": {
          "color": "#FF6692",
          "size": {
           "bdata": "AAAAAAAABEAAAAAAAABJQAAAAAAAAAAAAAAAAAAAJEAAAAAAAIBWQAAAAAAAAGlA",
           "dtype": "f8"
          },
          "sizemode": "area",
          "sizeref": 1.3115,
          "symbol": "circle"
         },
         "mode": "markers",
         "name": "GREENLAND",
         "showlegend": true,
         "type": "scattergl",
         "x": {
          "bdata": "AAAAAAAA+H8AAAAAAAD4fwAAAAAAAPh/AAAAAAAA+H8AAAAAAAD4fwAAAAAAAPh/",
          "dtype": "f8"
         },
         "xaxis": "x",
         "y": {
          "bdata": "AAAAAAAA8D8AAAAAAAAAAAAAAAAAAAAAAAAAAAAAAAAAAAAAAAAQQAAAAAAAAAAA",
          "dtype": "f8"
         },
         "yaxis": "y"
        },
        {
         "hovertemplate": "<b>%{hovertext}</b><br><br>Country=ARGENTINA<br>Magnitude do Terremoto=%{x}<br>Total de Mortes=%{y}<br>Maximum Water Height (m)=%{marker.size}<extra></extra>",
         "hovertext": [
          "MAR DEL PLATA",
          "LAGO ARGENTINO",
          "MAR DEL PLATA"
         ],
         "legendgroup": "ARGENTINA",
         "marker": {
          "color": "#B6E880",
          "size": {
           "bdata": "AAAAAAAA8D8AAAAAAAAAQHE9CtejcN0/",
           "dtype": "f8"
          },
          "sizemode": "area",
          "sizeref": 1.3115,
          "symbol": "circle"
         },
         "mode": "markers",
         "name": "ARGENTINA",
         "showlegend": true,
         "type": "scattergl",
         "x": {
          "bdata": "AAAAAAAA+H8AAAAAAAD4fwAAAAAAAPh/",
          "dtype": "f8"
         },
         "xaxis": "x",
         "y": {
          "bdata": "AAAAAAAAAAAAAAAAAAAAAAAAAAAAAAAA",
          "dtype": "f8"
         },
         "yaxis": "y"
        },
        {
         "hovertemplate": "<b>%{hovertext}</b><br><br>Country=PACIFIC OCEAN<br>Magnitude do Terremoto=%{x}<br>Total de Mortes=%{y}<br>Maximum Water Height (m)=%{marker.size}<extra></extra>",
         "hovertext": [
          "EAST PACIFIC RISE"
         ],
         "legendgroup": "PACIFIC OCEAN",
         "marker": {
          "color": "#FF97FF",
          "size": {
           "bdata": "mpmZmZmZuT8=",
           "dtype": "f8"
          },
          "sizemode": "area",
          "sizeref": 1.3115,
          "symbol": "circle"
         },
         "mode": "markers",
         "name": "PACIFIC OCEAN",
         "showlegend": true,
         "type": "scattergl",
         "x": {
          "bdata": "ZmZmZmZmGEA=",
          "dtype": "f8"
         },
         "xaxis": "x",
         "y": {
          "bdata": "AAAAAAAAAAA=",
          "dtype": "f8"
         },
         "yaxis": "y"
        },
        {
         "hovertemplate": "<b>%{hovertext}</b><br><br>Country=ANTARCTICA<br>Magnitude do Terremoto=%{x}<br>Total de Mortes=%{y}<br>Maximum Water Height (m)=%{marker.size}<extra></extra>",
         "hovertext": [
          "TELEPHONE BAY, DECEPCION ISLAND",
          "BALLENY ISLANDS",
          "SCOTIA SEA",
          "SCOTIA SEA",
          "DALK GLACIER",
          "SCOTIA SEA"
         ],
         "legendgroup": "ANTARCTICA",
         "marker": {
          "color": "#FECB52",
          "size": {
           "bdata": "AAAAAAAA8D97FK5H4Xq0PwAAAAAAAAAAMzMzMzMzwz+PwvUoXI/iP3sUrkfheqQ/",
           "dtype": "f8"
          },
          "sizemode": "area",
          "sizeref": 1.3115,
          "symbol": "circle"
         },
         "mode": "markers",
         "name": "ANTARCTICA",
         "showlegend": true,
         "type": "scattergl",
         "x": {
          "bdata": "AAAAAAAA+H8zMzMzMzMgQGZmZmZmZh5AzczMzMzMHkAAAAAAAAD4f5qZmZmZmRtA",
          "dtype": "f8"
         },
         "xaxis": "x",
         "y": {
          "bdata": "AAAAAAAAAAAAAAAAAAAAAAAAAAAAAAAAAAAAAAAAAAAAAAAAAAAAAAAAAAAAAAAA",
          "dtype": "f8"
         },
         "yaxis": "y"
        },
        {
         "hovertemplate": "<b>%{hovertext}</b><br><br>Country=BRAZIL<br>Magnitude do Terremoto=%{x}<br>Total de Mortes=%{y}<br>Maximum Water Height (m)=%{marker.size}<extra></extra>",
         "hovertext": [
          "CASSINO BEACH, RIO GRANDE DO SUL",
          "ARRAIAL DO CABO",
          "PANTANO DO SUL, SANTA CATARINA",
          "CASSINO BEACH, RIO GRANDE DO SUL",
          "ARARANGUA",
          "IMBITUBA, SANTA CATARINA",
          "UBATUBA, SAO PAULO",
          "CASSINO BEACH, RIO GRANDE DO SUL"
         ],
         "legendgroup": "BRAZIL",
         "marker": {
          "color": "#636efa",
          "size": {
           "bdata": "AAAAAAAAAABmZmZmZmbmPwAAAAAAAAhAAAAAAAAA8D8AAAAAAAAAAOF6FK5H4eI/AAAAAAAAAAAAAAAAAAAAAA==",
           "dtype": "f8"
          },
          "sizemode": "area",
          "sizeref": 1.3115,
          "symbol": "circle"
         },
         "mode": "markers",
         "name": "BRAZIL",
         "showlegend": true,
         "type": "scattergl",
         "x": {
          "bdata": "AAAAAAAA+H8AAAAAAAD4fwAAAAAAAPh/AAAAAAAA+H8AAAAAAAD4fwAAAAAAAPh/AAAAAAAA+H8AAAAAAAD4fw==",
          "dtype": "f8"
         },
         "xaxis": "x",
         "y": {
          "bdata": "AAAAAAAA8D8AAAAAAAAAAAAAAAAAAAAAAAAAAAAAAAAAAAAAAADwPwAAAAAAAAAAAAAAAAAAAAAAAAAAAAAAAA==",
          "dtype": "f8"
         },
         "yaxis": "y"
        },
        {
         "hovertemplate": "<b>%{hovertext}</b><br><br>Country=UK TERRITORY<br>Magnitude do Terremoto=%{x}<br>Total de Mortes=%{y}<br>Maximum Water Height (m)=%{marker.size}<extra></extra>",
         "hovertext": [
          "CHAGOS ARCHIPELAGO REGION",
          "SOUTHERN ATLANTIC OCEAN",
          "SOUTHERN ATLANTIC OCEAN"
         ],
         "legendgroup": "UK TERRITORY",
         "marker": {
          "color": "#EF553B",
          "size": {
           "bdata": "AAAAAAAA+D+amZmZmZm5P3sUrkfheuQ/",
           "dtype": "f8"
          },
          "sizemode": "area",
          "sizeref": 1.3115,
          "symbol": "circle"
         },
         "mode": "markers",
         "name": "UK TERRITORY",
         "showlegend": true,
         "type": "scattergl",
         "x": {
          "bdata": "zczMzMzMHkCamZmZmZkdQDMzMzMzMyBA",
          "dtype": "f8"
         },
         "xaxis": "x",
         "y": {
          "bdata": "AAAAAAAAAAAAAAAAAAAAAAAAAAAAAAAA",
          "dtype": "f8"
         },
         "yaxis": "y"
        },
        {
         "hovertemplate": "<b>%{hovertext}</b><br><br>Country=CAMEROON<br>Magnitude do Terremoto=%{x}<br>Total de Mortes=%{y}<br>Maximum Water Height (m)=%{marker.size}<extra></extra>",
         "hovertext": [
          "LAKE MONOUN",
          "LAKE NYOS"
         ],
         "legendgroup": "CAMEROON",
         "marker": {
          "color": "#00cc96",
          "size": {
           "bdata": "AAAAAAAAFEAAAAAAAMBSQA==",
           "dtype": "f8"
          },
          "sizemode": "area",
          "sizeref": 1.3115,
          "symbol": "circle"
         },
         "mode": "markers",
         "name": "CAMEROON",
         "showlegend": true,
         "type": "scattergl",
         "x": {
          "bdata": "AAAAAAAA+H8AAAAAAAD4fw==",
          "dtype": "f8"
         },
         "xaxis": "x",
         "y": {
          "bdata": "AAAAAACAQkAAAAAAAJCaQA==",
          "dtype": "f8"
         },
         "yaxis": "y"
        },
        {
         "hovertemplate": "<b>%{hovertext}</b><br><br>Country=WALLIS AND FUTUNA (FRENCH TERRITORY)<br>Magnitude do Terremoto=%{x}<br>Total de Mortes=%{y}<br>Maximum Water Height (m)=%{marker.size}<extra></extra>",
         "hovertext": [
          "FUTUNA"
         ],
         "legendgroup": "WALLIS AND FUTUNA (FRENCH TERRITORY)",
         "marker": {
          "color": "#ab63fa",
          "size": {
           "bdata": "AAAAAAAAAAA=",
           "dtype": "f8"
          },
          "sizemode": "area",
          "sizeref": 1.3115,
          "symbol": "circle"
         },
         "mode": "markers",
         "name": "WALLIS AND FUTUNA (FRENCH TERRITORY)",
         "showlegend": true,
         "type": "scattergl",
         "x": {
          "bdata": "mpmZmZmZGUA=",
          "dtype": "f8"
         },
         "xaxis": "x",
         "y": {
          "bdata": "AAAAAAAAFEA=",
          "dtype": "f8"
         },
         "yaxis": "y"
        },
        {
         "hovertemplate": "<b>%{hovertext}</b><br><br>Country=SWITZERLAND<br>Magnitude do Terremoto=%{x}<br>Total de Mortes=%{y}<br>Maximum Water Height (m)=%{marker.size}<extra></extra>",
         "hovertext": [
          "LAKE BRIENZ"
         ],
         "legendgroup": "SWITZERLAND",
         "marker": {
          "color": "#FFA15A",
          "size": {
           "bdata": "AAAAAAAA4D8=",
           "dtype": "f8"
          },
          "sizemode": "area",
          "sizeref": 1.3115,
          "symbol": "circle"
         },
         "mode": "markers",
         "name": "SWITZERLAND",
         "showlegend": true,
         "type": "scattergl",
         "x": {
          "bdata": "AAAAAAAA+H8=",
          "dtype": "f8"
         },
         "xaxis": "x",
         "y": {
          "bdata": "AAAAAAAAAAA=",
          "dtype": "f8"
         },
         "yaxis": "y"
        },
        {
         "hovertemplate": "<b>%{hovertext}</b><br><br>Country=MONTSERRAT<br>Magnitude do Terremoto=%{x}<br>Total de Mortes=%{y}<br>Maximum Water Height (m)=%{marker.size}<extra></extra>",
         "hovertext": [
          "WHITE RIVER VALLEY",
          "SOUFRIERE HILLS VOLCANO",
          "SOUFRIERE HILLS VOLCANO",
          "SOUFRIERE HILLS VOLCANO"
         ],
         "legendgroup": "MONTSERRAT",
         "marker": {
          "color": "#19d3f3",
          "size": {
           "bdata": "AAAAAAAACEAAAAAAAAAAQAAAAAAAABBAAAAAAAAA8D8=",
           "dtype": "f8"
          },
          "sizemode": "area",
          "sizeref": 1.3115,
          "symbol": "circle"
         },
         "mode": "markers",
         "name": "MONTSERRAT",
         "showlegend": true,
         "type": "scattergl",
         "x": {
          "bdata": "AAAAAAAA+H8AAAAAAAD4fwAAAAAAAPh/AAAAAAAA+H8=",
          "dtype": "f8"
         },
         "xaxis": "x",
         "y": {
          "bdata": "AAAAAAAAAAAAAAAAAAAAAAAAAAAAAAAAAAAAAAAAAAA=",
          "dtype": "f8"
         },
         "yaxis": "y"
        },
        {
         "hovertemplate": "<b>%{hovertext}</b><br><br>Country=JORDAN<br>Magnitude do Terremoto=%{x}<br>Total de Mortes=%{y}<br>Maximum Water Height (m)=%{marker.size}<extra></extra>",
         "hovertext": [
          "DEAD SEA"
         ],
         "legendgroup": "JORDAN",
         "marker": {
          "color": "#FF6692",
          "size": {
           "bdata": "AAAAAAAA8D8=",
           "dtype": "f8"
          },
          "sizemode": "area",
          "sizeref": 1.3115,
          "symbol": "circle"
         },
         "mode": "markers",
         "name": "JORDAN",
         "showlegend": true,
         "type": "scattergl",
         "x": {
          "bdata": "MzMzMzMzFUA=",
          "dtype": "f8"
         },
         "xaxis": "x",
         "y": {
          "bdata": "AAAAAAAAAAA=",
          "dtype": "f8"
         },
         "yaxis": "y"
        },
        {
         "hovertemplate": "<b>%{hovertext}</b><br><br>Country=KERMADEC ISLANDS<br>Magnitude do Terremoto=%{x}<br>Total de Mortes=%{y}<br>Maximum Water Height (m)=%{marker.size}<extra></extra>",
         "hovertext": [
          "KERMADEC ISLANDS",
          "KERMADEC ISLANDS",
          "KERMADEC ISLANDS",
          "SE RAOUL ISLAND, KERMADEC ISLANDS"
         ],
         "legendgroup": "KERMADEC ISLANDS",
         "marker": {
          "color": "#B6E880",
          "size": {
           "bdata": "uB6F61G4nj8AAAAAAADgP3sUrkfhepQ/KVyPwvUovD8=",
           "dtype": "f8"
          },
          "sizemode": "area",
          "sizeref": 1.3115,
          "symbol": "circle"
         },
         "mode": "markers",
         "name": "KERMADEC ISLANDS",
         "showlegend": true,
         "type": "scattergl",
         "x": {
          "bdata": "MzMzMzMzH0AAAAAAAAD4f5qZmZmZmRlAAAAAAAAAHEA=",
          "dtype": "f8"
         },
         "xaxis": "x",
         "y": {
          "bdata": "AAAAAAAAAAAAAAAAAAAAAAAAAAAAAAAAAAAAAAAAAAA=",
          "dtype": "f8"
         },
         "yaxis": "y"
        },
        {
         "hovertemplate": "<b>%{hovertext}</b><br><br>Country=EAST CHINA SEA<br>Magnitude do Terremoto=%{x}<br>Total de Mortes=%{y}<br>Maximum Water Height (m)=%{marker.size}<extra></extra>",
         "hovertext": [
          "E. CHINA SEA-S.JAPAN"
         ],
         "legendgroup": "EAST CHINA SEA",
         "marker": {
          "color": "#FF97FF",
          "size": {
           "bdata": "MzMzMzMz9z8=",
           "dtype": "f8"
          },
          "sizemode": "area",
          "sizeref": 1.3115,
          "symbol": "circle"
         },
         "mode": "markers",
         "name": "EAST CHINA SEA",
         "showlegend": true,
         "type": "scattergl",
         "x": {
          "bdata": "AAAAAAAA+H8=",
          "dtype": "f8"
         },
         "xaxis": "x",
         "y": {
          "bdata": "AAAAAAAAAAA=",
          "dtype": "f8"
         },
         "yaxis": "y"
        },
        {
         "hovertemplate": "<b>%{hovertext}</b><br><br>Country=SCOTLAND<br>Magnitude do Terremoto=%{x}<br>Total de Mortes=%{y}<br>Maximum Water Height (m)=%{marker.size}<extra></extra>",
         "hovertext": [
          "NORTH SEA"
         ],
         "legendgroup": "SCOTLAND",
         "marker": {
          "color": "#FECB52",
          "size": {
           "bdata": "CtejcD0Kxz8=",
           "dtype": "f8"
          },
          "sizemode": "area",
          "sizeref": 1.3115,
          "symbol": "circle"
         },
         "mode": "markers",
         "name": "SCOTLAND",
         "showlegend": true,
         "type": "scattergl",
         "x": {
          "bdata": "AAAAAAAA+H8=",
          "dtype": "f8"
         },
         "xaxis": "x",
         "y": {
          "bdata": "AAAAAAAAAAA=",
          "dtype": "f8"
         },
         "yaxis": "y"
        },
        {
         "hovertemplate": "<b>%{hovertext}</b><br><br>Country=VIETNAM<br>Magnitude do Terremoto=%{x}<br>Total de Mortes=%{y}<br>Maximum Water Height (m)=%{marker.size}<extra></extra>",
         "hovertext": [
          "QUANG NAM"
         ],
         "legendgroup": "VIETNAM",
         "marker": {
          "color": "#636efa",
          "size": {
           "bdata": "AAAAAAAAIUA=",
           "dtype": "f8"
          },
          "sizemode": "area",
          "sizeref": 1.3115,
          "symbol": "circle"
         },
         "mode": "markers",
         "name": "VIETNAM",
         "showlegend": true,
         "type": "scattergl",
         "x": {
          "bdata": "AAAAAAAA+H8=",
          "dtype": "f8"
         },
         "xaxis": "x",
         "y": {
          "bdata": "AAAAAAAA8D8=",
          "dtype": "f8"
         },
         "yaxis": "y"
        }
       ],
       "layout": {
        "legend": {
         "itemsizing": "constant",
         "title": {
          "text": "Country"
         },
         "tracegroupgap": 0
        },
        "template": {
         "data": {
          "bar": [
           {
            "error_x": {
             "color": "#2a3f5f"
            },
            "error_y": {
             "color": "#2a3f5f"
            },
            "marker": {
             "line": {
              "color": "#E5ECF6",
              "width": 0.5
             },
             "pattern": {
              "fillmode": "overlay",
              "size": 10,
              "solidity": 0.2
             }
            },
            "type": "bar"
           }
          ],
          "barpolar": [
           {
            "marker": {
             "line": {
              "color": "#E5ECF6",
              "width": 0.5
             },
             "pattern": {
              "fillmode": "overlay",
              "size": 10,
              "solidity": 0.2
             }
            },
            "type": "barpolar"
           }
          ],
          "carpet": [
           {
            "aaxis": {
             "endlinecolor": "#2a3f5f",
             "gridcolor": "white",
             "linecolor": "white",
             "minorgridcolor": "white",
             "startlinecolor": "#2a3f5f"
            },
            "baxis": {
             "endlinecolor": "#2a3f5f",
             "gridcolor": "white",
             "linecolor": "white",
             "minorgridcolor": "white",
             "startlinecolor": "#2a3f5f"
            },
            "type": "carpet"
           }
          ],
          "choropleth": [
           {
            "colorbar": {
             "outlinewidth": 0,
             "ticks": ""
            },
            "type": "choropleth"
           }
          ],
          "contour": [
           {
            "colorbar": {
             "outlinewidth": 0,
             "ticks": ""
            },
            "colorscale": [
             [
              0,
              "#0d0887"
             ],
             [
              0.1111111111111111,
              "#46039f"
             ],
             [
              0.2222222222222222,
              "#7201a8"
             ],
             [
              0.3333333333333333,
              "#9c179e"
             ],
             [
              0.4444444444444444,
              "#bd3786"
             ],
             [
              0.5555555555555556,
              "#d8576b"
             ],
             [
              0.6666666666666666,
              "#ed7953"
             ],
             [
              0.7777777777777778,
              "#fb9f3a"
             ],
             [
              0.8888888888888888,
              "#fdca26"
             ],
             [
              1,
              "#f0f921"
             ]
            ],
            "type": "contour"
           }
          ],
          "contourcarpet": [
           {
            "colorbar": {
             "outlinewidth": 0,
             "ticks": ""
            },
            "type": "contourcarpet"
           }
          ],
          "heatmap": [
           {
            "colorbar": {
             "outlinewidth": 0,
             "ticks": ""
            },
            "colorscale": [
             [
              0,
              "#0d0887"
             ],
             [
              0.1111111111111111,
              "#46039f"
             ],
             [
              0.2222222222222222,
              "#7201a8"
             ],
             [
              0.3333333333333333,
              "#9c179e"
             ],
             [
              0.4444444444444444,
              "#bd3786"
             ],
             [
              0.5555555555555556,
              "#d8576b"
             ],
             [
              0.6666666666666666,
              "#ed7953"
             ],
             [
              0.7777777777777778,
              "#fb9f3a"
             ],
             [
              0.8888888888888888,
              "#fdca26"
             ],
             [
              1,
              "#f0f921"
             ]
            ],
            "type": "heatmap"
           }
          ],
          "histogram": [
           {
            "marker": {
             "pattern": {
              "fillmode": "overlay",
              "size": 10,
              "solidity": 0.2
             }
            },
            "type": "histogram"
           }
          ],
          "histogram2d": [
           {
            "colorbar": {
             "outlinewidth": 0,
             "ticks": ""
            },
            "colorscale": [
             [
              0,
              "#0d0887"
             ],
             [
              0.1111111111111111,
              "#46039f"
             ],
             [
              0.2222222222222222,
              "#7201a8"
             ],
             [
              0.3333333333333333,
              "#9c179e"
             ],
             [
              0.4444444444444444,
              "#bd3786"
             ],
             [
              0.5555555555555556,
              "#d8576b"
             ],
             [
              0.6666666666666666,
              "#ed7953"
             ],
             [
              0.7777777777777778,
              "#fb9f3a"
             ],
             [
              0.8888888888888888,
              "#fdca26"
             ],
             [
              1,
              "#f0f921"
             ]
            ],
            "type": "histogram2d"
           }
          ],
          "histogram2dcontour": [
           {
            "colorbar": {
             "outlinewidth": 0,
             "ticks": ""
            },
            "colorscale": [
             [
              0,
              "#0d0887"
             ],
             [
              0.1111111111111111,
              "#46039f"
             ],
             [
              0.2222222222222222,
              "#7201a8"
             ],
             [
              0.3333333333333333,
              "#9c179e"
             ],
             [
              0.4444444444444444,
              "#bd3786"
             ],
             [
              0.5555555555555556,
              "#d8576b"
             ],
             [
              0.6666666666666666,
              "#ed7953"
             ],
             [
              0.7777777777777778,
              "#fb9f3a"
             ],
             [
              0.8888888888888888,
              "#fdca26"
             ],
             [
              1,
              "#f0f921"
             ]
            ],
            "type": "histogram2dcontour"
           }
          ],
          "mesh3d": [
           {
            "colorbar": {
             "outlinewidth": 0,
             "ticks": ""
            },
            "type": "mesh3d"
           }
          ],
          "parcoords": [
           {
            "line": {
             "colorbar": {
              "outlinewidth": 0,
              "ticks": ""
             }
            },
            "type": "parcoords"
           }
          ],
          "pie": [
           {
            "automargin": true,
            "type": "pie"
           }
          ],
          "scatter": [
           {
            "fillpattern": {
             "fillmode": "overlay",
             "size": 10,
             "solidity": 0.2
            },
            "type": "scatter"
           }
          ],
          "scatter3d": [
           {
            "line": {
             "colorbar": {
              "outlinewidth": 0,
              "ticks": ""
             }
            },
            "marker": {
             "colorbar": {
              "outlinewidth": 0,
              "ticks": ""
             }
            },
            "type": "scatter3d"
           }
          ],
          "scattercarpet": [
           {
            "marker": {
             "colorbar": {
              "outlinewidth": 0,
              "ticks": ""
             }
            },
            "type": "scattercarpet"
           }
          ],
          "scattergeo": [
           {
            "marker": {
             "colorbar": {
              "outlinewidth": 0,
              "ticks": ""
             }
            },
            "type": "scattergeo"
           }
          ],
          "scattergl": [
           {
            "marker": {
             "colorbar": {
              "outlinewidth": 0,
              "ticks": ""
             }
            },
            "type": "scattergl"
           }
          ],
          "scattermap": [
           {
            "marker": {
             "colorbar": {
              "outlinewidth": 0,
              "ticks": ""
             }
            },
            "type": "scattermap"
           }
          ],
          "scattermapbox": [
           {
            "marker": {
             "colorbar": {
              "outlinewidth": 0,
              "ticks": ""
             }
            },
            "type": "scattermapbox"
           }
          ],
          "scatterpolar": [
           {
            "marker": {
             "colorbar": {
              "outlinewidth": 0,
              "ticks": ""
             }
            },
            "type": "scatterpolar"
           }
          ],
          "scatterpolargl": [
           {
            "marker": {
             "colorbar": {
              "outlinewidth": 0,
              "ticks": ""
             }
            },
            "type": "scatterpolargl"
           }
          ],
          "scatterternary": [
           {
            "marker": {
             "colorbar": {
              "outlinewidth": 0,
              "ticks": ""
             }
            },
            "type": "scatterternary"
           }
          ],
          "surface": [
           {
            "colorbar": {
             "outlinewidth": 0,
             "ticks": ""
            },
            "colorscale": [
             [
              0,
              "#0d0887"
             ],
             [
              0.1111111111111111,
              "#46039f"
             ],
             [
              0.2222222222222222,
              "#7201a8"
             ],
             [
              0.3333333333333333,
              "#9c179e"
             ],
             [
              0.4444444444444444,
              "#bd3786"
             ],
             [
              0.5555555555555556,
              "#d8576b"
             ],
             [
              0.6666666666666666,
              "#ed7953"
             ],
             [
              0.7777777777777778,
              "#fb9f3a"
             ],
             [
              0.8888888888888888,
              "#fdca26"
             ],
             [
              1,
              "#f0f921"
             ]
            ],
            "type": "surface"
           }
          ],
          "table": [
           {
            "cells": {
             "fill": {
              "color": "#EBF0F8"
             },
             "line": {
              "color": "white"
             }
            },
            "header": {
             "fill": {
              "color": "#C8D4E3"
             },
             "line": {
              "color": "white"
             }
            },
            "type": "table"
           }
          ]
         },
         "layout": {
          "annotationdefaults": {
           "arrowcolor": "#2a3f5f",
           "arrowhead": 0,
           "arrowwidth": 1
          },
          "autotypenumbers": "strict",
          "coloraxis": {
           "colorbar": {
            "outlinewidth": 0,
            "ticks": ""
           }
          },
          "colorscale": {
           "diverging": [
            [
             0,
             "#8e0152"
            ],
            [
             0.1,
             "#c51b7d"
            ],
            [
             0.2,
             "#de77ae"
            ],
            [
             0.3,
             "#f1b6da"
            ],
            [
             0.4,
             "#fde0ef"
            ],
            [
             0.5,
             "#f7f7f7"
            ],
            [
             0.6,
             "#e6f5d0"
            ],
            [
             0.7,
             "#b8e186"
            ],
            [
             0.8,
             "#7fbc41"
            ],
            [
             0.9,
             "#4d9221"
            ],
            [
             1,
             "#276419"
            ]
           ],
           "sequential": [
            [
             0,
             "#0d0887"
            ],
            [
             0.1111111111111111,
             "#46039f"
            ],
            [
             0.2222222222222222,
             "#7201a8"
            ],
            [
             0.3333333333333333,
             "#9c179e"
            ],
            [
             0.4444444444444444,
             "#bd3786"
            ],
            [
             0.5555555555555556,
             "#d8576b"
            ],
            [
             0.6666666666666666,
             "#ed7953"
            ],
            [
             0.7777777777777778,
             "#fb9f3a"
            ],
            [
             0.8888888888888888,
             "#fdca26"
            ],
            [
             1,
             "#f0f921"
            ]
           ],
           "sequentialminus": [
            [
             0,
             "#0d0887"
            ],
            [
             0.1111111111111111,
             "#46039f"
            ],
            [
             0.2222222222222222,
             "#7201a8"
            ],
            [
             0.3333333333333333,
             "#9c179e"
            ],
            [
             0.4444444444444444,
             "#bd3786"
            ],
            [
             0.5555555555555556,
             "#d8576b"
            ],
            [
             0.6666666666666666,
             "#ed7953"
            ],
            [
             0.7777777777777778,
             "#fb9f3a"
            ],
            [
             0.8888888888888888,
             "#fdca26"
            ],
            [
             1,
             "#f0f921"
            ]
           ]
          },
          "colorway": [
           "#636efa",
           "#EF553B",
           "#00cc96",
           "#ab63fa",
           "#FFA15A",
           "#19d3f3",
           "#FF6692",
           "#B6E880",
           "#FF97FF",
           "#FECB52"
          ],
          "font": {
           "color": "#2a3f5f"
          },
          "geo": {
           "bgcolor": "white",
           "lakecolor": "white",
           "landcolor": "#E5ECF6",
           "showlakes": true,
           "showland": true,
           "subunitcolor": "white"
          },
          "hoverlabel": {
           "align": "left"
          },
          "hovermode": "closest",
          "mapbox": {
           "style": "light"
          },
          "paper_bgcolor": "white",
          "plot_bgcolor": "#E5ECF6",
          "polar": {
           "angularaxis": {
            "gridcolor": "white",
            "linecolor": "white",
            "ticks": ""
           },
           "bgcolor": "#E5ECF6",
           "radialaxis": {
            "gridcolor": "white",
            "linecolor": "white",
            "ticks": ""
           }
          },
          "scene": {
           "xaxis": {
            "backgroundcolor": "#E5ECF6",
            "gridcolor": "white",
            "gridwidth": 2,
            "linecolor": "white",
            "showbackground": true,
            "ticks": "",
            "zerolinecolor": "white"
           },
           "yaxis": {
            "backgroundcolor": "#E5ECF6",
            "gridcolor": "white",
            "gridwidth": 2,
            "linecolor": "white",
            "showbackground": true,
            "ticks": "",
            "zerolinecolor": "white"
           },
           "zaxis": {
            "backgroundcolor": "#E5ECF6",
            "gridcolor": "white",
            "gridwidth": 2,
            "linecolor": "white",
            "showbackground": true,
            "ticks": "",
            "zerolinecolor": "white"
           }
          },
          "shapedefaults": {
           "line": {
            "color": "#2a3f5f"
           }
          },
          "ternary": {
           "aaxis": {
            "gridcolor": "white",
            "linecolor": "white",
            "ticks": ""
           },
           "baxis": {
            "gridcolor": "white",
            "linecolor": "white",
            "ticks": ""
           },
           "bgcolor": "#E5ECF6",
           "caxis": {
            "gridcolor": "white",
            "linecolor": "white",
            "ticks": ""
           }
          },
          "title": {
           "x": 0.05
          },
          "xaxis": {
           "automargin": true,
           "gridcolor": "white",
           "linecolor": "white",
           "ticks": "",
           "title": {
            "standoff": 15
           },
           "zerolinecolor": "white",
           "zerolinewidth": 2
          },
          "yaxis": {
           "automargin": true,
           "gridcolor": "white",
           "linecolor": "white",
           "ticks": "",
           "title": {
            "standoff": 15
           },
           "zerolinecolor": "white",
           "zerolinewidth": 2
          }
         }
        },
        "title": {
         "text": "Magnitude vs Mortes com Tamanho pela Altura da Água"
        },
        "xaxis": {
         "anchor": "y",
         "domain": [
          0,
          1
         ],
         "title": {
          "text": "Magnitude do Terremoto"
         }
        },
        "yaxis": {
         "anchor": "x",
         "domain": [
          0,
          1
         ],
         "title": {
          "text": "Total de Mortes"
         }
        }
       }
      }
     },
     "metadata": {},
     "output_type": "display_data"
    }
   ],
   "source": [
    "import plotly.express as px\n",
    "\n",
    "df['Maximum Water Height (m)'].fillna(0, inplace=True)\n",
    "\n",
    "fig = px.scatter(\n",
    "    df,\n",
    "    x='Earthquake Magnitude',\n",
    "    y='Total Deaths',\n",
    "    color='Country',\n",
    "    size='Maximum Water Height (m)',\n",
    "    hover_name='Location Name',\n",
    "    title='Magnitude vs Mortes com Tamanho pela Altura da Água',\n",
    "    labels={\n",
    "        'Earthquake Magnitude': 'Magnitude do Terremoto',\n",
    "        'Total Deaths': 'Total de Mortes'\n",
    "    }\n",
    ")\n",
    "\n",
    "fig.show()\n"
   ]
  },
  {
   "cell_type": "markdown",
   "id": "d936e039",
   "metadata": {},
   "source": [
    "## 🗺️ Visualização Geográfica: Mapa Global dos Tsunamis\n",
    "\n",
    "Para esta visualização foi utilizado Plotly, criando um `scatter_geo` com:\n",
    "\n",
    "- Coordenadas de latitude e longitude\n",
    "- Tamanho e cor com base na magnitude do terremoto\n",
    "- Hover com local, data, número de mortes e altura da água\n",
    "- Projeção do tipo `natural earth`\n",
    "\n",
    "Essa visualização oferece uma maneira intuitiva de perceber a distribuição dos eventos ao redor do globo.\n"
   ]
  },
  {
   "cell_type": "code",
   "execution_count": 40,
   "id": "e6be9dc3",
   "metadata": {},
   "outputs": [
    {
     "data": {
      "application/vnd.plotly.v1+json": {
       "config": {
        "plotlyServerURL": "https://plot.ly"
       },
       "data": [
        {
         "customdata": [
          [
           "USA",
           null,
           9,
           0,
           0
          ],
          [
           "JAPAN",
           "1700-04-01T00:00:00-01:00",
           null,
           0,
           1001
          ],
          [
           "JAPAN",
           "1700-04-16T00:00:00-16:00",
           7,
           6,
           1000
          ],
          [
           "SOUTH KOREA",
           "1700-09-12T00:00:00-12:00",
           6.5,
           0,
           0
          ],
          [
           "ITALY",
           "1703-02-02T11:05:00-02:00",
           6.7,
           0,
           10000
          ],
          [
           "ITALY",
           "1703-07-02T00:00:00-02:00",
           3.2,
           0,
           0
          ],
          [
           "JAPAN",
           null,
           8.2,
           11.7,
           5233
          ],
          [
           "CHILE",
           null,
           null,
           8,
           0
          ],
          [
           "SPAIN",
           "1706-05-05T00:00:00-05:00",
           null,
           0,
           0
          ],
          [
           "ITALY",
           "1707-07-20T17:00:00-20:00",
           null,
           0,
           0
          ],
          [
           "JAPAN",
           null,
           8.4,
           11,
           2000
          ],
          [
           "JAPAN",
           null,
           8.4,
           25.7,
           5000
          ],
          [
           "JAPAN",
           "1708-02-13T00:00:00-13:00",
           7,
           0,
           0
          ],
          [
           "INDONESIA",
           null,
           null,
           0,
           0
          ],
          [
           "INDONESIA",
           "1710-03-06T00:00:00-06:00",
           null,
           0,
           0
          ],
          [
           "CHINA",
           "1710-04-16T00:00:00-16:00",
           5.5,
           2,
           0
          ],
          [
           "INDONESIA",
           "1711-09-05T00:00:00-05:00",
           7,
           1.2,
           2
          ],
          [
           "JAPAN",
           "1711-12-20T00:00:00-20:00",
           6.7,
           2,
           1000
          ],
          [
           "ITALY",
           null,
           null,
           0,
           0
          ],
          [
           "MYANMAR (BURMA)",
           "1714-08-04T00:00:00-04:00",
           null,
           0,
           0
          ],
          [
           "PERU",
           "1715-08-23T00:00:00-23:00",
           7.5,
           0,
           0
          ],
          [
           "JAPAN",
           null,
           6.6,
           0,
           0
          ],
          [
           "PHILIPPINES",
           null,
           null,
           0,
           0
          ],
          [
           "JAPAN",
           "1718-10-05T00:00:00-05:00",
           null,
           0,
           0
          ],
          [
           "SPAIN",
           null,
           null,
           0,
           0
          ],
          [
           "JAPAN",
           null,
           null,
           0,
           0
          ],
          [
           "PORTUGAL",
           null,
           null,
           0,
           0
          ],
          [
           "GREECE",
           "1723-02-18T02:00:00-18:00",
           7,
           0,
           0
          ],
          [
           "ITALY",
           null,
           null,
           0,
           0
          ],
          [
           "PERU",
           null,
           null,
           2,
           0
          ],
          [
           "ALGERIA",
           "1725-06-04T00:00:00-04:00",
           null,
           0,
           0
          ],
          [
           "FRANCE",
           null,
           null,
           1.5,
           0
          ],
          [
           "JAPAN",
           "1726-04-01T00:00:00-01:00",
           6.6,
           0,
           0
          ],
          [
           "ITALY",
           "1726-09-01T21:55:00-01:00",
           5.8,
           0,
           250
          ],
          [
           "ITALY",
           "1727-07-04T00:00:00-04:00",
           5.2,
           0,
           0
          ],
          [
           "ITALY",
           "1730-03-23T00:00:00-23:00",
           null,
           0,
           0
          ],
          [
           "CHILE",
           "1730-07-08T08:45:00-08:00",
           9.1,
           8,
           5
          ],
          [
           "JAPAN",
           "1730-11-10T00:00:00-10:00",
           7.6,
           0,
           0
          ],
          [
           "NORWAY",
           "1731-01-08T00:00:00-08:00",
           null,
           0,
           17
          ],
          [
           "ITALY",
           "1731-03-20T02:30:00-20:00",
           6.3,
           0,
           3600
          ],
          [
           "JAPAN",
           "1731-10-07T00:00:00-07:00",
           6.6,
           0,
           0
          ],
          [
           "MEXICO",
           null,
           null,
           3,
           0
          ],
          [
           "JAPAN",
           "1732-12-04T00:00:00-04:00",
           6.5,
           2,
           0
          ],
          [
           "PHILIPPINES",
           null,
           null,
           0,
           0
          ],
          [
           "INDIA",
           "1737-10-11T00:00:00-11:00",
           null,
           0,
           0
          ],
          [
           "RUSSIA",
           "1737-10-16T16:00:00-16:00",
           null,
           15.24,
           100
          ],
          [
           "RUSSIA",
           "1737-12-17T00:00:00-17:00",
           7.5,
           0,
           0
          ],
          [
           "CHILE",
           null,
           8,
           0,
           0
          ],
          [
           "GREECE",
           "1738-07-19T00:00:00-19:00",
           6.5,
           0,
           0
          ],
          [
           "GREECE",
           null,
           7.3,
           0,
           0
          ],
          [
           "JAPAN",
           null,
           6.9,
           90,
           2000
          ],
          [
           "ITALY",
           "1742-01-16T00:00:00-16:00",
           null,
           0,
           0
          ],
          [
           "GREECE",
           "1742-02-21T00:00:00-21:00",
           null,
           0,
           0
          ],
          [
           "GREECE",
           null,
           6.6,
           0,
           120
          ],
          [
           "CHILE",
           "1742-03-23T00:00:00-23:00",
           null,
           0,
           0
          ],
          [
           "RUSSIA",
           "1742-11-18T00:00:00-18:00",
           7,
           0,
           0
          ],
          [
           "ITALY",
           "1742-11-19T00:00:00-19:00",
           null,
           0,
           0
          ],
          [
           "ITALY",
           "1743-02-20T23:30:00-20:00",
           6.9,
           0,
           0
          ],
          [
           "TURKEY",
           "1743-03-14T00:00:00-14:00",
           null,
           0,
           0
          ],
          [
           "COSTA RICA",
           "1746-06-21T00:00:00-21:00",
           null,
           0,
           0
          ],
          [
           "PERU",
           null,
           8,
           24,
           5941
          ],
          [
           "PORTUGAL",
           null,
           null,
           0,
           0
          ],
          [
           "GREECE",
           "1748-05-14T00:00:00-14:00",
           6.8,
           0,
           0
          ],
          [
           "PHILIPPINES",
           "1749-08-12T01:00:00-12:00",
           null,
           0,
           0
          ],
          [
           "CROATIA",
           "1750-12-17T00:00:00-17:00",
           null,
           0,
           0
          ],
          [
           "JAPAN",
           "1751-05-20T00:00:00-20:00",
           6.6,
           0,
           2100
          ],
          [
           "CHILE",
           null,
           8.5,
           3.5,
           65
          ],
          [
           "JAPAN",
           null,
           null,
           0,
           0
          ],
          [
           "HAITI",
           "1751-09-15T19:00:00-15:00",
           7.3,
           0,
           0
          ],
          [
           "DOMINICAN REPUBLIC",
           "1751-10-18T19:00:00-18:00",
           7.3,
           0,
           0
          ],
          [
           "BARBADOS",
           "1751-11-20T00:00:00-20:00",
           null,
           0,
           0
          ],
          [
           "ITALY",
           "1751-11-21T09:45:00-21:00",
           null,
           0,
           0
          ],
          [
           "HAITI",
           "1751-11-21T00:00:00-21:00",
           null,
           0,
           0
          ],
          [
           "PORTUGAL",
           null,
           null,
           0,
           0
          ],
          [
           "SYRIA",
           "1752-07-21T00:00:00-21:00",
           7,
           0,
           20000
          ],
          [
           "INDONESIA",
           "1754-08-18T00:00:00-18:00",
           6.5,
           0,
           4
          ],
          [
           "MEXICO",
           "1754-09-01T07:00:00-01:00",
           null,
           4,
           0
          ],
          [
           "TURKEY",
           "1754-09-02T21:45:00-02:00",
           6.8,
           0,
           0
          ],
          [
           "INDONESIA",
           "1754-09-07T00:00:00-07:00",
           null,
           0,
           0
          ],
          [
           "TURKEY",
           "1754-09-16T16:03:00-16:00",
           null,
           0,
           0
          ],
          [
           "PHILIPPINES",
           "1754-11-15T00:00:00-15:00",
           null,
           0,
           12
          ],
          [
           "USA",
           "1755-10-04T00:00:00-04:00",
           null,
           1.52,
           0
          ],
          [
           "PORTUGAL",
           "1755-11-01T09:30:00-01:00",
           8.5,
           18.3,
           50000
          ],
          [
           "PORTUGAL",
           "1755-11-02T00:00:00-02:00",
           null,
           0,
           0
          ],
          [
           "UK",
           "1755-11-05T00:00:00-05:00",
           null,
           0.9,
           0
          ],
          [
           "SPAIN",
           "1755-11-16T15:30:00-16:00",
           null,
           0,
           0
          ],
          [
           "USA",
           "1755-11-18T00:00:00-18:00",
           6,
           0,
           0
          ],
          [
           "PORTUGAL",
           "1755-12-21T09:00:00-21:00",
           null,
           0,
           300
          ],
          [
           "SPAIN",
           null,
           null,
           0,
           0
          ],
          [
           "UK",
           null,
           null,
           1.8,
           0
          ],
          [
           "PORTUGAL",
           null,
           null,
           0,
           0
          ],
          [
           "ITALY",
           "1756-10-22T15:30:00-22:00",
           7,
           0,
           0
          ],
          [
           "PORTUGAL",
           "1757-07-09T23:45:00-09:00",
           null,
           0,
           1053
          ],
          [
           "UK",
           "1757-07-15T00:00:00-15:00",
           null,
           0,
           0
          ],
          [
           "INDONESIA",
           null,
           7.5,
           0.5,
           0
          ],
          [
           "ISRAEL",
           null,
           6.6,
           8,
           2000
          ],
          [
           "LEBANON",
           null,
           7.4,
           0,
           30000
          ],
          [
           "GERMANY",
           "1760-01-21T00:00:00-21:00",
           null,
           0,
           0
          ],
          [
           "ITALY",
           "1760-06-16T16:00:00-16:00",
           null,
           0,
           0
          ],
          [
           "PORTUGAL",
           null,
           8.5,
           2.4,
           25
          ],
          [
           "UK",
           null,
           null,
           0,
           0
          ],
          [
           "UK",
           "1761-08-14T00:00:00-14:00",
           null,
           0,
           0
          ],
          [
           "BANGLADESH",
           "1762-04-02T00:00:00-02:00",
           null,
           1.83,
           0
          ],
          [
           "NORWAY",
           null,
           null,
           0,
           0
          ],
          [
           "UK",
           null,
           null,
           3,
           0
          ],
          [
           "JAPAN",
           null,
           6.6,
           0,
           0
          ],
          [
           "JAPAN",
           null,
           7.4,
           5,
           0
          ],
          [
           "JAPAN",
           "1763-03-11T00:00:00-11:00",
           7.8,
           0,
           0
          ],
          [
           "JAPAN",
           "1763-03-15T00:00:00-15:00",
           7.1,
           0,
           0
          ],
          [
           "INDONESIA",
           "1763-09-12T00:00:00-12:00",
           null,
           9,
           7
          ],
          [
           "UK",
           "1763-09-18T00:00:00-18:00",
           null,
           3,
           0
          ],
          [
           "UK",
           "1764-02-11T00:00:00-11:00",
           null,
           0,
           0
          ],
          [
           "PORTUGAL",
           null,
           null,
           0,
           0
          ],
          [
           "SWEDEN",
           "1765-07-23T00:00:00-23:00",
           null,
           1.2,
           0
          ],
          [
           "JAPAN",
           "1766-03-08T00:00:00-08:00",
           6.9,
           0,
           1700
          ],
          [
           "TURKEY",
           "1766-05-22T05:30:00-22:00",
           6.5,
           0,
           0
          ],
          [
           "CUBA",
           "1766-06-12T05:00:00-12:00",
           6.8,
           0,
           40
          ],
          [
           "VENEZUELA",
           "1766-10-21T09:00:00-21:00",
           7.5,
           0,
           0
          ],
          [
           "MARTINIQUE (FRENCH TERRITORY)",
           null,
           null,
           0,
           0
          ],
          [
           "IRELAND",
           "1767-09-05T00:00:00-05:00",
           null,
           1.5,
           0
          ],
          [
           "CHINA",
           "1767-11-22T00:00:00-22:00",
           null,
           0,
           0
          ],
          [
           "UK",
           null,
           null,
           0,
           0
          ],
          [
           "PAPUA NEW GUINEA",
           "1768-06-22T00:00:00-22:00",
           7.5,
           0,
           0
          ],
          [
           "JAPAN",
           "1768-07-22T00:00:00-22:00",
           6.5,
           1.2,
           0
          ],
          [
           "HAITI",
           "1769-06-03T00:00:00-03:00",
           null,
           0,
           0
          ],
          [
           "JAPAN",
           null,
           7.4,
           2.5,
           0
          ],
          [
           "HAITI",
           "1770-06-03T00:00:00-03:00",
           7.5,
           0,
           200
          ],
          [
           "JAPAN",
           null,
           7.4,
           85.4,
           13486
          ],
          [
           "INDONESIA",
           "1771-11-09T00:00:00-09:00",
           null,
           0,
           1
          ],
          [
           "GREECE",
           null,
           null,
           0,
           0
          ],
          [
           "MOROCCO",
           "1773-05-06T00:00:00-06:00",
           null,
           9,
           0
          ],
          [
           "GUATEMALA",
           "1773-06-03T00:00:00-03:00",
           null,
           0,
           8000
          ],
          [
           "ITALY",
           null,
           null,
           0,
           0
          ],
          [
           null,
           null,
           null,
           0.6,
           0
          ],
          [
           "CUBA",
           "1775-02-11T00:00:00-11:00",
           null,
           0,
           0
          ],
          [
           "INDONESIA",
           "1775-04-18T00:00:00-18:00",
           null,
           0,
           0
          ],
          [
           "FRANCE",
           "1775-10-22T00:00:00-22:00",
           null,
           0,
           0
          ],
          [
           "HAITI",
           "1775-12-18T00:00:00-18:00",
           null,
           0,
           0
          ],
          [
           "SWEDEN",
           "1777-11-14T00:00:00-14:00",
           null,
           0,
           0
          ],
          [
           "BALTIC SEA",
           "1778-03-04T00:00:00-04:00",
           null,
           0,
           0
          ],
          [
           "GREECE",
           "1778-06-16T18:30:00-16:00",
           null,
           0,
           0
          ],
          [
           "RUSSIA",
           "1780-06-18T00:00:00-18:00",
           null,
           0,
           0
          ],
          [
           "RUSSIA",
           null,
           7.5,
           12,
           12
          ],
          [
           "JAPAN",
           "1780-09-09T00:00:00-09:00",
           null,
           6,
           0
          ],
          [
           "MONTENEGRO",
           "1780-09-21T00:00:00-21:00",
           null,
           1.7,
           0
          ],
          [
           "JAMAICA",
           "1780-10-03T00:00:00-03:00",
           null,
           3,
           0
          ],
          [
           "JAPAN",
           null,
           null,
           0,
           0
          ],
          [
           "JAPAN",
           "1781-04-11T00:00:00-11:00",
           null,
           0,
           38
          ],
          [
           "JAMAICA",
           "1781-08-01T00:00:00-01:00",
           null,
           0,
           0
          ],
          [
           "JAMAICA",
           "1781-10-02T00:00:00-02:00",
           null,
           3,
           0
          ],
          [
           "TAIWAN",
           "1782-05-22T00:00:00-22:00",
           7,
           10,
           40000
          ],
          [
           "JAPAN",
           "1782-08-22T00:00:00-22:00",
           7.3,
           0,
           0
          ],
          [
           "ITALY",
           "1783-02-05T08:00:00-05:00",
           null,
           0,
           0
          ],
          [
           "ITALY",
           "1783-02-05T12:00:00-05:00",
           6.9,
           0,
           30000
          ],
          [
           "ITALY",
           "1783-02-06T00:20:00-06:00",
           5.9,
           16,
           1500
          ],
          [
           "ITALY",
           "1783-02-07T13:10:00-07:00",
           6.6,
           0,
           0
          ],
          [
           "ITALY",
           "1783-03-01T01:40:00-01:00",
           5.9,
           0,
           0
          ],
          [
           "ITALY",
           null,
           null,
           0,
           1
          ],
          [
           "ITALY",
           null,
           6.9,
           0,
           0
          ],
          [
           "ITALY",
           "1784-01-07T00:00:00-07:00",
           4.1,
           0,
           0
          ],
          [
           "ITALY",
           "1784-01-09T02:00:00-09:00",
           null,
           0,
           0
          ],
          [
           "ITALY",
           "1784-01-19T00:00:00-19:00",
           4.1,
           0,
           0
          ],
          [
           "MEXICO",
           null,
           null,
           3,
           0
          ],
          [
           "PERU",
           "1784-05-13T12:35:00-13:00",
           8,
           0,
           383
          ],
          [
           "MEXICO",
           null,
           8.3,
           4,
           11
          ],
          [
           "MEXICO",
           "1787-04-03T15:30:00-03:00",
           7.3,
           4,
           0
          ],
          [
           "JAMAICA",
           null,
           null,
           0,
           0
          ],
          [
           "IRISH SEA",
           "1788-07-08T00:00:00-08:00",
           null,
           0,
           0
          ],
          [
           "USA",
           "1788-07-21T00:00:00-21:00",
           8,
           30,
           0
          ],
          [
           "USA",
           "1788-08-06T00:00:00-06:00",
           8,
           88,
           0
          ],
          [
           "USA",
           "1790-09-11T00:00:00-11:00",
           null,
           0,
           0
          ],
          [
           "ALGERIA",
           "1790-10-09T01:15:00-09:00",
           null,
           0,
           3000
          ],
          [
           "RUSSIA",
           "1791-04-15T00:00:00-15:00",
           6.8,
           0,
           0
          ],
          [
           "JAPAN",
           "1791-05-13T00:00:00-13:00",
           null,
           11,
           0
          ],
          [
           "JAPAN",
           "1791-09-13T00:00:00-13:00",
           6.5,
           0,
           0
          ],
          [
           "GREECE",
           "1791-11-02T21:00:00-02:00",
           7,
           0,
           50
          ],
          [
           "PORTUGAL",
           "1792-01-23T00:00:00-23:00",
           null,
           0,
           0
          ],
          [
           "HOLLAND",
           "1792-05-21T00:00:00-21:00",
           null,
           0,
           0
          ],
          [
           "JAPAN",
           "1792-05-21T00:00:00-21:00",
           6.4,
           55,
           15000
          ],
          [
           "JAPAN",
           "1792-06-13T00:00:00-13:00",
           6.9,
           0,
           0
          ],
          [
           "TAIWAN",
           "1792-08-09T00:00:00-09:00",
           6,
           10,
           252
          ],
          [
           "RUSSIA",
           "1792-08-22T18:00:00-22:00",
           8.4,
           0,
           0
          ],
          [
           "JAPAN",
           null,
           null,
           0,
           0
          ],
          [
           "JAPAN",
           "1793-02-08T03:00:00-08:00",
           6.9,
           1.8,
           12
          ],
          [
           "JAPAN",
           "1793-02-17T00:00:00-17:00",
           8.3,
           4.5,
           745
          ],
          [
           "UK",
           "1793-07-17T00:00:00-17:00",
           null,
           0,
           0
          ],
          [
           "GREECE",
           "1794-06-11T03:00:00-11:00",
           5.5,
           0,
           0
          ],
          [
           "USA",
           null,
           null,
           0,
           0
          ],
          [
           "PHILIPPINES",
           "1796-11-05T06:00:00-05:00",
           null,
           0,
           0
          ],
          [
           "INDONESIA",
           "1797-02-10T00:00:00-10:00",
           8,
           0,
           300
          ],
          [
           "JAPAN",
           "1797-11-21T00:00:00-21:00",
           null,
           0,
           0
          ],
          [
           "COSTA RICA",
           "1798-02-22T00:00:00-22:00",
           null,
           0,
           0
          ],
          [
           "FRANCE",
           "1798-12-17T00:00:00-17:00",
           null,
           0,
           0
          ],
          [
           "ICELAND",
           "1799-01-07T00:00:00-07:00",
           null,
           0,
           0
          ],
          [
           "JAPAN",
           null,
           6.4,
           0,
           0
          ],
          [
           "PORTUGAL",
           "1800-06-02T20:17:00-02:00",
           null,
           0,
           0
          ],
          [
           "CROATIA",
           "1802-01-04T07:00:00-04:00",
           null,
           0,
           0
          ],
          [
           "ANTIGUA AND BARBUDA",
           "1802-03-19T00:00:00-19:00",
           null,
           0,
           0
          ],
          [
           "UK",
           "1802-08-10T00:00:00-10:00",
           null,
           0,
           0
          ],
          [
           "VENEZUELA",
           "1802-08-15T00:00:00-15:00",
           null,
           0,
           0
          ],
          [
           "ROMANIA",
           null,
           7.4,
           0,
           0
          ],
          [
           "ALGERIA",
           "1802-11-07T10:45:00-07:00",
           null,
           0,
           0
          ],
          [
           "JAPAN",
           "1802-12-09T05:00:00-09:00",
           6.6,
           0,
           19
          ],
          [
           "GREECE",
           "1804-01-08T00:00:00-08:00",
           null,
           0,
           0
          ],
          [
           "SPAIN",
           "1804-01-13T17:45:00-13:00",
           6.7,
           0,
           2
          ],
          [
           "GREECE",
           "1804-06-08T03:00:00-08:00",
           6.7,
           0,
           0
          ],
          [
           "JAPAN",
           "1804-07-10T13:00:00-10:00",
           7.3,
           1,
           450
          ],
          [
           "ITALY",
           null,
           null,
           0,
           0
          ],
          [
           "GREECE",
           "1805-01-08T00:00:00-08:00",
           null,
           0,
           0
          ],
          [
           "AUSTRALIA",
           "1805-05-08T00:00:00-08:00",
           null,
           5,
           0
          ],
          [
           "ITALY",
           null,
           6.6,
           0,
           0
          ],
          [
           "USA",
           null,
           null,
           0,
           0
          ],
          [
           "ITALY",
           null,
           null,
           0,
           0
          ],
          [
           "PERU",
           "1806-12-01T23:00:00-01:00",
           7.5,
           1,
           0
          ],
          [
           "ITALY",
           "1808-04-02T16:43:00-02:00",
           5.7,
           0.15,
           2
          ],
          [
           "JAPAN",
           "1808-08-08T00:00:00-08:00",
           6.5,
           1.5,
           0
          ],
          [
           "JAPAN",
           "1808-12-04T00:00:00-04:00",
           null,
           0,
           0
          ],
          [
           "ITALY",
           "1809-07-03T00:00:00-03:00",
           null,
           0,
           0
          ],
          [
           "PORTUGAL",
           "1809-07-04T00:00:00-04:00",
           null,
           0,
           0
          ],
          [
           "SOUTH AFRICA",
           "1809-12-04T00:00:00-04:00",
           null,
           0,
           0
          ],
          [
           "GREECE",
           "1810-02-16T00:00:00-16:00",
           null,
           0,
           3000
          ],
          [
           "MEXICO",
           null,
           7.4,
           0,
           0
          ],
          [
           "JAPAN",
           null,
           6.6,
           1,
           57
          ],
          [
           "CHILE",
           "1811-11-19T14:15:00-19:00",
           null,
           4,
           0
          ],
          [
           "USA",
           "1811-12-16T08:15:00-16:00",
           8.5,
           0,
           0
          ],
          [
           "USA",
           "1811-12-16T14:15:00-16:00",
           8,
           0,
           0
          ],
          [
           "USA",
           "1812-01-23T15:00:00-23:00",
           8.4,
           0,
           0
          ],
          [
           "USA",
           "1812-02-07T09:45:00-07:00",
           8.8,
           0,
           0
          ],
          [
           "VENEZUELA",
           null,
           7.7,
           0,
           26000
          ],
          [
           "FRANCE",
           "1812-06-23T00:00:00-23:00",
           null,
           0,
           0
          ],
          [
           "JAMAICA",
           "1812-11-11T10:50:00-11:00",
           null,
           0,
           0
          ],
          [
           "USA",
           "1812-12-21T19:00:00-21:00",
           7.5,
           3.4,
           1
          ],
          [
           "ITALY",
           "1813-05-17T00:00:00-17:00",
           null,
           0,
           0
          ],
          [
           "INDONESIA",
           "1815-04-10T00:00:00-10:00",
           null,
           4,
           60000
          ],
          [
           "INDONESIA",
           "1815-04-11T00:00:00-11:00",
           null,
           0,
           0
          ],
          [
           "INDONESIA",
           "1815-11-22T00:00:00-22:00",
           7,
           0,
           11453
          ],
          [
           "PORTUGAL",
           "1816-02-02T00:40:00-02:00",
           7,
           0,
           0
          ],
          [
           "INDONESIA",
           "1816-05-01T00:00:00-01:00",
           null,
           0,
           0
          ],
          [
           "MEXICO",
           "1816-11-14T00:00:00-14:00",
           null,
           25,
           0
          ],
          [
           "JAPAN",
           "1816-12-20T00:00:00-20:00",
           null,
           0,
           0
          ],
          [
           "GREECE",
           "1817-01-01T00:00:00-01:00",
           null,
           0,
           0
          ],
          [
           "USA",
           "1817-01-08T00:00:00-08:00",
           null,
           0.3,
           0
          ],
          [
           "ITALY",
           "1817-01-14T03:30:00-14:00",
           null,
           0,
           0
          ],
          [
           "GREECE",
           "1817-08-23T08:00:00-23:00",
           6.8,
           5,
           0
          ],
          [
           "ITALY",
           "1818-02-20T18:15:00-20:00",
           6,
           0,
           72
          ],
          [
           "ITALY",
           "1818-02-23T18:10:00-23:00",
           5.6,
           0,
           0
          ],
          [
           "INDONESIA",
           "1818-03-18T00:00:00-18:00",
           7,
           0,
           0
          ],
          [
           "MEXICO",
           null,
           8.2,
           13.9,
           2000
          ],
          [
           "INDONESIA",
           "1818-11-08T00:00:00-08:00",
           8.5,
           3.5,
           0
          ],
          [
           "ITALY",
           "1818-12-09T00:00:00-09:00",
           null,
           0,
           0
          ],
          [
           "ITALY",
           "1819-01-08T11:30:00-08:00",
           null,
           0,
           0
          ],
          [
           "CHILE",
           "1819-04-12T03:00:00-12:00",
           8.5,
           4,
           0
          ],
          [
           "INDIA",
           "1819-06-16T00:00:00-16:00",
           7.7,
           0,
           1543
          ],
          [
           "NORWAY",
           null,
           5.8,
           0,
           0
          ],
          [
           "USA",
           "1820-03-01T00:00:00-01:00",
           null,
           0,
           0
          ],
          [
           "GREECE",
           "1820-03-17T00:00:00-17:00",
           6.6,
           0,
           0
          ],
          [
           "MEXICO",
           "1820-05-04T00:00:00-04:00",
           7.6,
           4,
           0
          ],
          [
           "ITALY",
           "1820-07-23T00:00:00-23:00",
           null,
           0,
           0
          ],
          [
           "INDONESIA",
           null,
           7.5,
           25,
           500
          ],
          [
           "GREECE",
           null,
           6.9,
           0,
           388
          ],
          [
           "GREECE",
           "1821-01-09T00:00:00-09:00",
           6.5,
           0,
           0
          ],
          [
           "COSTA RICA",
           "1821-04-10T00:00:00-10:00",
           null,
           0,
           0
          ],
          [
           "USA",
           "1821-09-03T00:00:00-03:00",
           null,
           0,
           0
          ],
          [
           "ROMANIA",
           "1821-11-17T13:30:00-17:00",
           6.7,
           0.1,
           0
          ],
          [
           "LEBANON",
           "1822-03-20T00:00:00-20:00",
           null,
           0,
           0
          ],
          [
           "ITALY",
           "1822-04-10T00:00:00-10:00",
           null,
           0,
           0
          ],
          [
           "COSTA RICA",
           "1822-05-07T00:00:00-07:00",
           7.6,
           0,
           0
          ],
          [
           "TURKEY",
           "1822-08-13T20:00:00-13:00",
           7.1,
           0,
           8000
          ],
          [
           "CHILE",
           "1822-11-20T02:30:00-20:00",
           8.5,
           3.6,
           72
          ],
          [
           "ITALY",
           "1823-03-05T17:37:00-05:00",
           null,
           0,
           0
          ],
          [
           "CANADA",
           null,
           null,
           2.74,
           0
          ],
          [
           "CROATIA",
           "1823-08-20T00:00:00-20:00",
           null,
           0,
           0
          ],
          [
           "INDONESIA",
           "1823-09-09T00:00:00-09:00",
           6.8,
           0.3,
           0
          ],
          [
           "MARTINIQUE (FRENCH TERRITORY)",
           null,
           null,
           0,
           0
          ],
          [
           "GUADELOUPE (FRENCH TERRITORY)",
           "1824-09-13T00:00:00-13:00",
           null,
           0,
           0
          ],
          [
           "PHILIPPINES",
           null,
           null,
           0,
           0
          ],
          [
           "MARTINIQUE (FRENCH TERRITORY)",
           null,
           null,
           0,
           0
          ],
          [
           "DENMARK",
           "1825-01-03T00:00:00-03:00",
           null,
           0,
           0
          ],
          [
           "GREECE",
           "1825-01-19T11:45:00-19:00",
           6.8,
           0,
           60
          ],
          [
           "COLOMBIA",
           null,
           6.3,
           0,
           0
          ],
          [
           "USA",
           "1825-03-21T00:00:00-21:00",
           null,
           0,
           0
          ],
          [
           "TRINIDAD AND TOBAGO",
           "1825-09-21T01:45:00-21:00",
           null,
           0,
           0
          ],
          [
           "ITALY",
           "1826-03-18T00:20:00-18:00",
           null,
           0,
           0
          ],
          [
           "USA",
           "1826-10-22T00:00:00-22:00",
           null,
           0,
           0
          ],
          [
           "USA",
           "1827-01-18T00:00:00-18:00",
           null,
           0,
           0
          ],
          [
           "USA",
           "1827-08-08T00:00:00-08:00",
           null,
           0,
           0
          ],
          [
           "RUSSIA",
           "1827-08-09T00:00:00-09:00",
           null,
           0,
           0
          ],
          [
           "ECUADOR",
           "1827-11-16T22:45:00-16:00",
           7,
           0,
           0
          ],
          [
           "PERU",
           null,
           8.3,
           0,
           0
          ],
          [
           "JAPAN",
           null,
           6.4,
           0,
           0
          ],
          [
           "ITALY",
           "1828-10-09T13:11:00-09:00",
           null,
           0,
           0
          ],
          [
           "PHILIPPINES",
           "1828-11-09T10:30:00-09:00",
           7.5,
           0,
           0
          ],
          [
           "JAPAN",
           "1828-12-18T00:00:00-18:00",
           6.9,
           0,
           1443
          ],
          [
           "INDONESIA",
           null,
           null,
           0,
           0
          ],
          [
           "TURKEY",
           "1829-05-23T00:00:00-23:00",
           7.3,
           0,
           0
          ],
          [
           "CHILE",
           null,
           null,
           0,
           0
          ],
          [
           "HOLLAND",
           "1830-01-10T00:00:00-10:00",
           null,
           0,
           0
          ],
          [
           "PHILIPPINES",
           "1830-01-18T09:15:00-18:00",
           null,
           1,
           0
          ],
          [
           "PHILIPPINES",
           "1830-09-16T00:00:00-16:00",
           null,
           0,
           0
          ],
          [
           "ITALY",
           null,
           null,
           0,
           0
          ],
          [
           "ITALY",
           "1831-07-02T00:00:00-02:00",
           null,
           0,
           0
          ],
          [
           "TRINIDAD AND TOBAGO",
           "1831-12-03T23:40:00-03:00",
           null,
           0,
           0
          ],
          [
           "ITALY",
           "1832-03-08T01:15:00-08:00",
           null,
           0,
           234
          ],
          [
           "ALBANIA",
           "1833-01-19T00:00:00-19:00",
           6.4,
           0,
           0
          ],
          [
           "MEXICO",
           "1833-03-10T00:00:00-10:00",
           null,
           0,
           0
          ],
          [
           "CHINA",
           "1833-09-06T00:00:00-06:00",
           8,
           0,
           6700
          ],
          [
           "PERU",
           "1833-09-18T10:45:00-18:00",
           7.7,
           9,
           700
          ],
          [
           "INDONESIA",
           null,
           8.3,
           0,
           0
          ],
          [
           "JAPAN",
           "1833-12-07T00:00:00-07:00",
           7.4,
           9,
           85
          ],
          [
           "JAPAN",
           "1834-02-09T01:00:00-09:00",
           6.4,
           0,
           0
          ],
          [
           "MEXICO",
           "1834-03-14T00:00:00-14:00",
           7,
           0,
           0
          ],
          [
           "CHILE",
           "1835-02-20T16:22:00-20:00",
           8.2,
           24,
           53
          ],
          [
           "GREECE",
           "1835-07-12T00:00:00-12:00",
           null,
           0,
           0
          ],
          [
           "JAPAN",
           "1835-07-20T00:00:00-20:00",
           7.6,
           5,
           0
          ],
          [
           "JAPAN",
           "1835-08-19T00:00:00-19:00",
           null,
           0,
           0
          ],
          [
           "AUSTRALIA",
           "1836-01-21T00:00:00-21:00",
           null,
           0,
           0
          ],
          [
           "INDONESIA",
           "1836-03-05T00:00:00-05:00",
           null,
           0,
           0
          ],
          [
           "ITALY",
           null,
           null,
           0,
           589
          ],
          [
           "CHILE",
           "1836-07-03T00:00:00-03:00",
           7.5,
           0,
           0
          ],
          [
           "JAPAN",
           "1836-09-05T00:00:00-05:00",
           5.9,
           0,
           0
          ],
          [
           "INDONESIA",
           null,
           7.5,
           0,
           0
          ],
          [
           "ISRAEL",
           "1837-01-01T01:00:00-01:00",
           null,
           0,
           0
          ],
          [
           "NETHERLANDS",
           "1837-08-01T00:00:00-01:00",
           null,
           0,
           0
          ],
          [
           "USA TERRITORY",
           "1837-08-02T00:00:00-02:00",
           null,
           0,
           0
          ],
          [
           "MEXICO",
           "1837-08-09T00:00:00-09:00",
           6.5,
           0,
           0
          ],
          [
           "INDONESIA",
           null,
           7.3,
           0,
           0
          ],
          [
           "MEXICO",
           "1837-10-18T00:00:00-18:00",
           7,
           0,
           0
          ],
          [
           "CHILE",
           "1837-11-07T12:51:00-07:00",
           8.5,
           6,
           16
          ],
          [
           "ROMANIA",
           "1838-01-23T18:36:00-23:00",
           6.9,
           0,
           42
          ],
          [
           "CHILE",
           "1838-05-07T00:00:00-07:00",
           null,
           0.8,
           0
          ],
          [
           "CROATIA",
           "1838-08-10T20:30:00-10:00",
           5.3,
           0,
           0
          ],
          [
           "MARTINIQUE (FRENCH TERRITORY)",
           "1839-01-11T09:55:00-11:00",
           7.8,
           0,
           390
          ],
          [
           "CHILE",
           "1839-02-12T00:00:00-12:00",
           null,
           0,
           0
          ],
          [
           "JAPAN",
           "1839-05-01T00:00:00-01:00",
           7.3,
           0,
           0
          ],
          [
           "INDONESIA",
           "1840-01-04T00:00:00-04:00",
           7,
           0,
           0
          ],
          [
           "USA",
           "1840-01-16T00:00:00-16:00",
           null,
           0,
           0
          ],
          [
           "PERU",
           null,
           null,
           0,
           0
          ],
          [
           "INDONESIA",
           "1840-02-14T00:00:00-14:00",
           null,
           0,
           0
          ],
          [
           "PHILIPPINES",
           "1840-03-22T00:00:00-22:00",
           6.5,
           0,
           52
          ],
          [
           "NEW ZEALAND",
           null,
           null,
           0,
           0
          ],
          [
           "USA",
           "1840-11-11T00:00:00-11:00",
           5.2,
           0,
           0
          ],
          [
           "RUSSIA",
           "1841-05-17T21:30:00-17:00",
           8.4,
           15,
           0
          ],
          [
           "INDONESIA",
           null,
           null,
           3,
           0
          ],
          [
           "INDONESIA",
           "1841-12-16T00:00:00-16:00",
           6,
           1.5,
           0
          ],
          [
           "GREECE",
           "1842-04-18T08:30:00-18:00",
           null,
           0,
           0
          ],
          [
           "HAITI",
           "1842-05-07T21:00:00-07:00",
           8.1,
           5,
           5300
          ],
          [
           "CANADA",
           "1842-11-01T00:00:00-01:00",
           null,
           0,
           0
          ],
          [
           "BANGLADESH",
           "1842-11-11T00:00:00-11:00",
           6,
           0,
           0
          ],
          [
           "INDONESIA",
           "1843-01-05T00:00:00-05:00",
           7.3,
           0,
           0
          ],
          [
           "INDONESIA",
           "1843-02-07T00:00:00-07:00",
           6,
           0,
           0
          ],
          [
           "GUADELOUPE (FRENCH TERRITORY)",
           "1843-02-08T14:50:00-08:00",
           8.3,
           1.2,
           5000
          ],
          [
           "GUADELOUPE (FRENCH TERRITORY)",
           "1843-02-17T00:00:00-17:00",
           null,
           0,
           0
          ],
          [
           "JAPAN",
           null,
           8.4,
           4.5,
           45
          ],
          [
           "UK",
           "1843-07-05T00:00:00-05:00",
           null,
           0,
           0
          ],
          [
           "NEW ZEALAND",
           "1843-07-08T05:05:00-08:00",
           7.5,
           0,
           0
          ],
          [
           "CROATIA",
           "1843-09-14T10:30:00-14:00",
           6.5,
           0,
           0
          ],
          [
           "GREECE",
           "1843-10-18T00:00:00-18:00",
           6.5,
           0,
           600
          ],
          [
           "CROATIA",
           "1844-03-03T18:25:00-03:00",
           null,
           0,
           0
          ],
          [
           "JAPAN",
           "1844-03-08T00:00:00-08:00",
           null,
           0,
           0
          ],
          [
           "CROATIA",
           "1844-03-22T10:13:00-22:00",
           null,
           0,
           0
          ],
          [
           "INDONESIA",
           "1845-02-08T07:30:00-08:00",
           7,
           0,
           118
          ],
          [
           "MEXICO",
           "1845-04-07T00:00:00-07:00",
           8.3,
           0,
           0
          ],
          [
           "ITALY",
           "1845-06-18T00:00:00-18:00",
           null,
           0,
           0
          ],
          [
           "INDIA",
           "1845-06-19T00:00:00-19:00",
           6.3,
           0,
           0
          ],
          [
           "NEW ZEALAND",
           "1845-07-05T00:00:00-05:00",
           null,
           1,
           0
          ],
          [
           "CROATIA",
           "1845-08-16T16:38:00-16:00",
           null,
           0,
           0
          ],
          [
           "INDONESIA",
           null,
           7.3,
           1.2,
           0
          ],
          [
           "NEW ZEALAND",
           "1846-05-07T00:00:00-07:00",
           null,
           0,
           0
          ],
          [
           "TURKEY",
           null,
           null,
           0,
           0
          ],
          [
           "ITALY",
           "1846-08-14T12:35:00-14:00",
           6.1,
           0,
           56
          ],
          [
           "ITALY",
           null,
           null,
           0,
           0
          ],
          [
           "ITALY",
           "1846-09-12T00:00:00-12:00",
           null,
           0,
           0
          ],
          [
           "ITALY",
           "1846-09-19T00:00:00-19:00",
           null,
           0,
           0
          ],
          [
           "ITALY",
           "1846-10-04T22:15:00-04:00",
           null,
           0,
           0
          ],
          [
           "ITALY",
           "1846-10-14T11:15:00-14:00",
           null,
           0,
           0
          ],
          [
           "ITALY",
           "1846-10-19T00:00:00-19:00",
           null,
           0,
           0
          ],
          [
           "ITALY",
           null,
           null,
           0,
           0
          ],
          [
           "ITALY",
           null,
           null,
           0,
           0
          ],
          [
           "ITALY",
           null,
           null,
           0,
           0
          ],
          [
           "ITALY",
           "1846-12-03T00:00:00-03:00",
           null,
           0,
           0
          ],
          [
           "ITALY",
           "1847-04-15T00:00:00-15:00",
           null,
           0,
           0
          ],
          [
           "ITALY",
           "1847-04-16T00:00:00-16:00",
           null,
           0,
           0
          ],
          [
           "ITALY",
           "1847-04-17T00:00:00-17:00",
           null,
           0,
           0
          ],
          [
           "PERU",
           "1847-05-23T00:00:00-23:00",
           null,
           2,
           0
          ],
          [
           "PORTUGAL",
           "1847-07-09T00:00:00-09:00",
           null,
           7,
           10
          ],
          [
           "ITALY",
           null,
           null,
           0,
           0
          ],
          [
           "JAPAN",
           null,
           null,
           0,
           335
          ],
          [
           "CHILE",
           "1847-10-19T00:00:00-19:00",
           null,
           0,
           0
          ],
          [
           "INDIA",
           null,
           null,
           0,
           0
          ],
          [
           "FRENCH POLYNESIA",
           "1848-07-12T00:00:00-12:00",
           null,
           0,
           0
          ],
          [
           "CANADA",
           null,
           null,
           0,
           0
          ],
          [
           "NEW ZEALAND",
           "1848-10-15T14:10:00-15:00",
           7.9,
           0.3,
           0
          ],
          [
           "NEW ZEALAND",
           "1848-10-17T04:10:00-17:00",
           6,
           0,
           0
          ],
          [
           "NEW ZEALAND",
           "1848-10-18T17:33:00-18:00",
           6,
           0,
           3
          ],
          [
           "USA TERRITORY",
           null,
           7.5,
           6.1,
           0
          ],
          [
           "RUSSIA",
           null,
           null,
           0,
           0
          ],
          [
           "CHILE",
           "1849-11-17T10:10:00-17:00",
           7.5,
           5,
           0
          ],
          [
           "ITALY",
           "1850-01-21T00:00:00-21:00",
           null,
           0,
           0
          ],
          [
           "ITALY",
           "1850-05-16T00:00:00-16:00",
           null,
           0,
           0
          ],
          [
           "JAPAN",
           "1850-07-20T00:00:00-20:00",
           null,
           2,
           0
          ],
          [
           "ITALY",
           "1850-10-20T00:00:00-20:00",
           null,
           0,
           0
          ],
          [
           "TURKEY",
           null,
           7.1,
           0.6,
           0
          ],
          [
           "CHILE",
           "1851-04-02T10:48:00-02:00",
           7.1,
           0,
           0
          ],
          [
           "TURKEY",
           "1851-04-03T00:00:00-03:00",
           null,
           1.8,
           0
          ],
          [
           "INDONESIA",
           "1851-05-04T00:00:00-04:00",
           null,
           1.5,
           0
          ],
          [
           "USA",
           "1851-05-15T16:10:00-15:00",
           null,
           0,
           0
          ],
          [
           "GREECE",
           "1851-05-23T00:00:00-23:00",
           null,
           0,
           0
          ],
          [
           "CHILE",
           null,
           7.2,
           3,
           0
          ],
          [
           "ITALY",
           null,
           4.1,
           0,
           0
          ],
          [
           "ALBANIA",
           "1851-10-12T06:00:00-12:00",
           6.6,
           0.66,
           2000
          ],
          [
           "USA",
           "1851-11-13T02:51:00-13:00",
           null,
           0,
           0
          ],
          [
           "ITALY",
           "1851-12-16T00:00:00-16:00",
           null,
           0,
           0
          ],
          [
           "INDONESIA",
           "1852-01-09T00:00:00-09:00",
           6.5,
           0,
           0
          ],
          [
           "ITALY",
           "1852-02-02T07:30:00-02:00",
           null,
           0,
           0
          ],
          [
           "TURKEY",
           "1852-05-12T02:00:00-12:00",
           null,
           0,
           0
          ],
          [
           "ITALY",
           null,
           null,
           0,
           0
          ],
          [
           "CUBA",
           "1852-07-17T00:00:00-17:00",
           null,
           0,
           0
          ],
          [
           "TURKEY",
           "1852-09-08T22:30:00-08:00",
           null,
           0,
           0
          ],
          [
           "PHILIPPINES",
           "1852-09-16T10:30:00-16:00",
           7.5,
           0,
           3
          ],
          [
           "INDONESIA",
           "1852-11-10T00:00:00-10:00",
           null,
           0,
           0
          ],
          [
           "ITALY",
           "1852-11-10T00:00:00-10:00",
           null,
           0,
           0
          ],
          [
           "INDONESIA",
           "1852-11-11T00:00:00-11:00",
           6.8,
           0,
           0
          ],
          [
           "INDONESIA",
           "1852-11-16T00:00:00-16:00",
           null,
           0,
           0
          ],
          [
           "INDONESIA",
           "1852-11-19T00:00:00-19:00",
           null,
           0,
           0
          ],
          [
           "INDONESIA",
           "1852-11-23T00:00:00-23:00",
           null,
           0,
           0
          ],
          [
           "USA",
           null,
           null,
           0,
           0
          ],
          [
           "INDONESIA",
           null,
           8.3,
           8,
           60
          ],
          [
           "PERU",
           null,
           null,
           0,
           0
          ],
          [
           "MEXICO",
           null,
           7,
           3,
           0
          ],
          [
           "MEXICO",
           "1852-12-04T00:00:00-04:00",
           7,
           0,
           1
          ],
          [
           "INDONESIA",
           null,
           7,
           0,
           0
          ],
          [
           "AUSTRALIA",
           null,
           null,
           1.2,
           0
          ],
          [
           "ITALY",
           "1853-04-08T17:50:00-08:00",
           null,
           0,
           0
          ],
          [
           "VENEZUELA",
           "1853-07-15T00:00:00-15:00",
           6.7,
           5,
           1000
          ],
          [
           "GREECE",
           "1853-08-18T08:30:00-18:00",
           null,
           0,
           17
          ],
          [
           "JAPAN",
           "1853-10-03T00:00:00-03:00",
           null,
           0,
           0
          ],
          [
           "TAIWAN",
           null,
           null,
           0,
           0
          ],
          [
           "MONTENEGRO",
           "1853-12-11T16:15:00-11:00",
           5.3,
           1,
           0
          ],
          [
           "TONGA",
           null,
           null,
           0,
           0
          ],
          [
           "INDONESIA",
           "1854-01-04T00:00:00-04:00",
           6,
           0,
           0
          ],
          [
           "NORTHWEST PACIFIC OCEAN",
           "1854-01-15T00:00:00-15:00",
           null,
           0,
           0
          ],
          [
           "USA",
           null,
           null,
           2.4,
           0
          ],
          [
           "FRANCE",
           null,
           null,
           0,
           0
          ],
          [
           "USA",
           null,
           null,
           0,
           0
          ],
          [
           "RUSSIA",
           null,
           7,
           0,
           0
          ],
          [
           "RUSSIA",
           "1854-07-09T00:00:00-09:00",
           null,
           0,
           0
          ],
          [
           "USA",
           null,
           null,
           0.1,
           0
          ],
          [
           "COSTA RICA",
           "1854-08-05T05:30:00-05:00",
           7.3,
           0,
           0
          ],
          [
           "COSTA RICA",
           "1854-08-07T00:00:00-07:00",
           7.2,
           0,
           0
          ],
          [
           "USA",
           "1854-08-18T00:00:00-18:00",
           null,
           0.03,
           0
          ],
          [
           "INDONESIA",
           null,
           null,
           0,
           0
          ],
          [
           "USA",
           "1854-10-04T18:19:00-04:00",
           null,
           0.03,
           0
          ],
          [
           "USA",
           "1854-10-22T03:35:00-22:00",
           null,
           0,
           0
          ],
          [
           "USA",
           "1854-11-01T00:00:00-01:00",
           null,
           0,
           0
          ],
          [
           "USA",
           "1854-11-10T00:00:00-10:00",
           null,
           0,
           0
          ],
          [
           "USA",
           "1854-12-01T00:00:00-01:00",
           null,
           0,
           0
          ],
          [
           "MEXICO",
           "1854-12-04T00:00:00-04:00",
           null,
           0,
           0
          ],
          [
           "JAPAN",
           "1854-12-23T00:46:00-23:00",
           8.3,
           21,
           1000
          ],
          [
           "JAPAN",
           null,
           8.4,
           28,
           3000
          ],
          [
           "FRANCE",
           null,
           null,
           0,
           0
          ],
          [
           "NEW ZEALAND",
           "1855-01-23T09:00:00-23:00",
           8,
           11,
           0
          ],
          [
           "NEW ZEALAND",
           "1855-02-03T00:00:00-03:00",
           null,
           0,
           0
          ],
          [
           "NEW ZEALAND",
           "1855-02-11T12:00:00-11:00",
           5.5,
           0,
           0
          ],
          [
           "TURKEY",
           "1855-02-13T00:00:00-13:00",
           null,
           0,
           0
          ],
          [
           "PORTUGAL",
           "1855-02-17T00:00:00-17:00",
           null,
           10,
           0
          ],
          [
           "USA",
           "1855-03-20T00:30:00-20:00",
           6,
           0,
           0
          ],
          [
           "INDONESIA",
           "1855-04-14T00:00:00-14:00",
           null,
           0,
           0
          ],
          [
           "FRANCE",
           "1855-05-18T14:00:00-18:00",
           null,
           0,
           0
          ],
          [
           "USA",
           "1855-07-11T04:15:00-11:00",
           6,
           0,
           0
          ],
          [
           "CHILE",
           "1855-08-11T09:15:00-11:00",
           null,
           0,
           0
          ],
          [
           "HONDURAS",
           null,
           null,
           0,
           0
          ],
          [
           "USA",
           "1855-10-22T03:45:00-22:00",
           null,
           0,
           0
          ],
          [
           "JAPAN",
           "1855-11-07T00:00:00-07:00",
           7,
           3,
           0
          ],
          [
           "JAPAN",
           "1855-11-11T00:00:00-11:00",
           7,
           0,
           6757
          ],
          [
           "JAPAN",
           "1855-12-03T00:00:00-03:00",
           7,
           0,
           0
          ],
          [
           "PORTUGAL",
           "1856-01-06T00:00:00-06:00",
           null,
           10,
           0
          ],
          [
           "USA",
           "1856-02-15T13:25:00-15:00",
           5.5,
           0.6,
           0
          ],
          [
           "INDONESIA",
           "1856-03-02T00:00:00-02:00",
           null,
           0,
           2806
          ],
          [
           "INDONESIA",
           null,
           null,
           0,
           0
          ],
          [
           "USA",
           null,
           null,
           0,
           0
          ],
          [
           "HONDURAS",
           "1856-08-04T00:00:00-04:00",
           7.5,
           5,
           0
          ],
          [
           "ALGERIA",
           "1856-08-21T21:45:00-21:00",
           null,
           3.75,
           5
          ],
          [
           "ALGERIA",
           "1856-08-22T11:40:00-22:00",
           null,
           5,
           8
          ],
          [
           "JAPAN",
           "1856-08-23T04:30:00-23:00",
           8,
           6,
           26
          ],
          [
           "GREECE",
           "1856-10-12T00:45:00-12:00",
           8.3,
           0,
           600
          ],
          [
           "GREECE",
           "1856-11-13T00:00:00-13:00",
           6.6,
           0,
           0
          ],
          [
           "SUDAN",
           "1857-01-06T19:00:00-06:00",
           5,
           0,
           0
          ],
          [
           "PAPUA NEW GUINEA",
           "1857-04-17T00:00:00-17:00",
           8,
           0,
           0
          ],
          [
           "INDONESIA",
           "1857-05-13T00:00:00-13:00",
           7,
           3.4,
           36
          ],
          [
           "ALGERIA",
           "1857-05-23T09:00:00-23:00",
           null,
           0,
           0
          ],
          [
           "JAPAN",
           "1857-07-13T22:00:00-13:00",
           6.4,
           0,
           0
          ],
          [
           "TURKEY",
           "1857-09-17T22:00:00-17:00",
           null,
           0,
           0
          ],
          [
           "INDONESIA",
           "1857-11-17T00:00:00-17:00",
           null,
           0,
           0
          ],
          [
           "INDONESIA",
           "1857-11-18T00:00:00-18:00",
           null,
           0,
           0
          ],
          [
           "AUSTRALIA",
           null,
           null,
           0,
           0
          ],
          [
           "GREECE",
           "1858-02-21T09:02:00-21:00",
           6.5,
           0,
           0
          ],
          [
           "CHILE",
           null,
           6.5,
           0,
           0
          ],
          [
           "UK",
           "1858-06-05T00:00:00-05:00",
           null,
           2.4,
           0
          ],
          [
           "NEW ZEALAND",
           "1858-08-06T00:00:00-06:00",
           null,
           0,
           0
          ],
          [
           "NEW ZEALAND",
           "1858-09-15T00:00:00-15:00",
           null,
           0,
           0
          ],
          [
           "INDONESIA",
           "1858-12-13T00:00:00-13:00",
           7.3,
           0,
           0
          ],
          [
           "INDONESIA",
           null,
           7,
           10,
           0
          ],
          [
           "INDONESIA",
           "1859-07-20T00:00:00-20:00",
           null,
           0,
           0
          ],
          [
           "INDONESIA",
           null,
           7.3,
           1,
           0
          ],
          [
           "TURKEY",
           "1859-08-21T11:55:00-21:00",
           6.9,
           0,
           0
          ],
          [
           "EL SALVADOR",
           null,
           6.2,
           0,
           0
          ],
          [
           "USA",
           null,
           null,
           4.6,
           0
          ],
          [
           "INDONESIA",
           null,
           6.8,
           0,
           0
          ],
          [
           "CHILE",
           "1859-10-05T12:00:00-05:00",
           7.6,
           6,
           10
          ],
          [
           "CHILE",
           "1859-10-11T00:00:00-11:00",
           null,
           0,
           0
          ],
          [
           "GREECE",
           "1859-10-20T00:00:00-20:00",
           null,
           0,
           0
          ],
          [
           "INDONESIA",
           "1859-10-20T00:00:00-20:00",
           null,
           0,
           2
          ],
          [
           "INDONESIA",
           null,
           null,
           0,
           0
          ],
          [
           "AUSTRALIA",
           "1859-11-22T00:00:00-22:00",
           null,
           0,
           0
          ],
          [
           "EL SALVADOR",
           "1859-12-09T02:00:00-09:00",
           7,
           0,
           0
          ],
          [
           "INDONESIA",
           "1859-12-17T00:00:00-17:00",
           null,
           0,
           0
          ],
          [
           "INDONESIA",
           null,
           null,
           0,
           0
          ],
          [
           "SPAIN",
           "1860-01-06T00:00:00-06:00",
           null,
           0,
           0
          ],
          [
           "MEXICO",
           "1860-03-17T00:00:00-17:00",
           null,
           0,
           0
          ],
          [
           "HAITI",
           "1860-04-08T00:00:00-08:00",
           7.5,
           0,
           0
          ],
          [
           "HAITI",
           "1860-04-17T15:10:00-17:00",
           null,
           0,
           0
          ],
          [
           "PERU",
           "1860-04-23T00:00:00-23:00",
           null,
           0,
           0
          ],
          [
           "INDONESIA",
           "1860-10-06T00:00:00-06:00",
           null,
           0,
           0
          ],
          [
           "USA",
           "1860-12-01T00:00:00-01:00",
           null,
           3.6,
           0
          ],
          [
           "INDONESIA",
           "1861-02-16T00:00:00-16:00",
           8.5,
           7,
           1105
          ],
          [
           "INDONESIA",
           "1861-02-21T00:00:00-21:00",
           null,
           0,
           0
          ],
          [
           "INDONESIA",
           "1861-03-09T00:00:00-09:00",
           7,
           0,
           950
          ],
          [
           "CHILE",
           "1861-03-20T00:00:00-20:00",
           null,
           0,
           0
          ],
          [
           "INDONESIA",
           null,
           7,
           0,
           0
          ],
          [
           "USA",
           "1861-05-04T00:00:00-04:00",
           null,
           0,
           0
          ],
          [
           "USA",
           "1861-05-05T00:00:00-05:00",
           null,
           0,
           0
          ],
          [
           "INDONESIA",
           "1861-06-05T00:00:00-05:00",
           null,
           0,
           0
          ],
          [
           "INDONESIA",
           "1861-06-17T00:00:00-17:00",
           6.8,
           0,
           0
          ],
          [
           "INDONESIA",
           null,
           6.5,
           0,
           0
          ],
          [
           "JAPAN",
           "1861-10-20T17:30:00-20:00",
           7.4,
           3.9,
           0
          ],
          [
           "GREECE",
           null,
           7.3,
           2.1,
           0
          ],
          [
           "GREECE",
           "1862-01-01T08:45:00-01:00",
           null,
           0,
           0
          ],
          [
           "RUSSIA",
           "1862-01-12T07:19:00-12:00",
           7.5,
           0,
           0
          ],
          [
           "USA",
           null,
           null,
           0,
           0
          ],
          [
           "PHILIPPINES",
           "1862-03-04T09:30:00-04:00",
           6,
           0,
           0
          ],
          [
           "FRANCE",
           "1862-03-18T00:00:00-18:00",
           null,
           0,
           0
          ],
          [
           "INDONESIA",
           "1862-04-08T00:00:00-08:00",
           null,
           2.1,
           0
          ],
          [
           "USA",
           null,
           5.9,
           1.2,
           0
          ],
          [
           "GHANA",
           "1862-07-10T00:00:00-10:00",
           6.5,
           0,
           3
          ],
          [
           "ITALY",
           null,
           null,
           0,
           0
          ],
          [
           "INDONESIA",
           "1863-03-16T00:00:00-16:00",
           null,
           0,
           0
          ],
          [
           "GREECE",
           "1863-04-22T20:30:00-22:00",
           7.8,
           0,
           300
          ],
          [
           "PHILIPPINES",
           "1863-06-03T11:20:00-03:00",
           6.5,
           0,
           400
          ],
          [
           "VANUATU",
           "1863-08-17T00:00:00-17:00",
           7.5,
           0,
           0
          ],
          [
           "JAPAN",
           "1863-09-20T00:00:00-20:00",
           6.4,
           0,
           0
          ],
          [
           "INDONESIA",
           "1864-02-16T00:00:00-16:00",
           null,
           0,
           0
          ],
          [
           "HAITI",
           "1864-05-19T00:00:00-19:00",
           null,
           0,
           0
          ],
          [
           "INDONESIA",
           "1864-05-23T00:00:00-23:00",
           7.8,
           3,
           250
          ],
          [
           "CANADA",
           null,
           null,
           0,
           0
          ],
          [
           "PERU",
           "1865-01-08T00:00:00-08:00",
           null,
           2,
           5
          ],
          [
           "JAPAN",
           "1865-03-01T00:00:00-01:00",
           null,
           0,
           0
          ],
          [
           "PERU",
           "1865-03-01T00:00:00-01:00",
           null,
           0,
           0
          ],
          [
           "USA",
           "1865-07-16T03:00:00-16:00",
           null,
           0,
           0
          ],
          [
           "USA",
           "1865-10-04T00:00:00-04:00",
           null,
           0,
           0
          ],
          [
           "USA",
           "1865-10-08T20:46:00-08:00",
           6.3,
           0,
           0
          ],
          [
           "PHILIPPINES",
           "1865-10-13T00:00:00-13:00",
           null,
           0,
           0
          ],
          [
           "PHILIPPINES",
           "1865-10-19T00:00:00-19:00",
           6,
           0,
           0
          ],
          [
           "TONGA",
           "1865-11-18T00:00:00-18:00",
           8,
           1.25,
           0
          ],
          [
           "PERU",
           null,
           null,
           0,
           0
          ],
          [
           "ALBANIA",
           "1866-01-02T00:00:00-02:00",
           6.6,
           0,
           60
          ],
          [
           "ALBANIA",
           "1866-01-06T00:00:00-06:00",
           null,
           0,
           0
          ],
          [
           "GREECE",
           "1866-01-19T00:00:00-19:00",
           6.8,
           0,
           0
          ],
          [
           "GREECE",
           null,
           6.1,
           0,
           0
          ],
          [
           "GREECE",
           "1866-02-02T00:00:00-02:00",
           6.4,
           0,
           0
          ],
          [
           "GREECE",
           "1866-02-06T00:00:00-06:00",
           6.8,
           8.6,
           0
          ],
          [
           "ALBANIA",
           "1866-03-02T15:30:00-02:00",
           6.3,
           0,
           60
          ],
          [
           "ALBANIA",
           "1866-03-06T00:00:00-06:00",
           6.3,
           0,
           0
          ],
          [
           "ALBANIA",
           "1866-03-13T00:00:00-13:00",
           5.5,
           0,
           0
          ],
          [
           "AUSTRALIA",
           "1866-08-09T00:00:00-09:00",
           null,
           0,
           0
          ],
          [
           "AUSTRALIA",
           "1866-08-15T00:00:00-15:00",
           null,
           0,
           0
          ],
          [
           "USA",
           "1866-09-05T13:00:00-05:00",
           null,
           0,
           0
          ],
          [
           "USA TERRITORY",
           "1866-09-12T00:00:00-12:00",
           null,
           0,
           0
          ],
          [
           "USA",
           "1866-12-20T00:00:00-20:00",
           null,
           0,
           0
          ],
          [
           "GREECE",
           "1867-02-04T04:19:00-04:00",
           7.4,
           0,
           223
          ],
          [
           "GREECE",
           "1867-03-07T00:00:00-07:00",
           7,
           0,
           563
          ],
          [
           "ITALY",
           "1867-03-15T18:00:00-15:00",
           null,
           0,
           16
          ],
          [
           "GREECE",
           "1867-04-10T00:00:00-10:00",
           null,
           0,
           0
          ],
          [
           "NORWAY",
           "1867-05-07T10:00:00-07:00",
           null,
           0,
           0
          ],
          [
           "INDONESIA",
           "1867-06-10T00:00:00-10:00",
           null,
           0,
           5
          ],
          [
           "AUSTRALIA",
           "1867-08-05T00:00:00-05:00",
           null,
           0,
           0
          ],
          [
           "GREECE",
           "1867-09-20T03:15:00-20:00",
           7.1,
           6,
           0
          ],
          [
           "GREECE",
           "1867-10-04T00:00:00-04:00",
           null,
           0,
           0
          ],
          [
           "USA TERRITORY",
           "1867-11-18T18:45:00-18:00",
           7.3,
           15.2,
           24
          ],
          [
           "GREECE",
           "1867-11-19T21:00:00-19:00",
           null,
           0,
           0
          ],
          [
           "TAIWAN",
           "1867-12-18T00:00:00-18:00",
           7,
           15,
           580
          ],
          [
           "USA TERRITORY",
           "1868-03-17T11:37:00-17:00",
           null,
           1.5,
           0
          ],
          [
           "USA",
           "1868-04-03T02:24:00-03:00",
           7.9,
           13.7,
           77
          ],
          [
           "USA",
           "1868-04-04T00:00:00-04:00",
           null,
           0,
           0
          ],
          [
           "USA",
           "1868-04-10T00:00:00-10:00",
           null,
           0,
           0
          ],
          [
           "USA",
           "1868-04-20T00:00:00-20:00",
           null,
           0,
           0
          ],
          [
           "UK",
           "1868-04-23T00:00:00-23:00",
           null,
           0,
           0
          ],
          [
           "USA",
           "1868-05-15T00:00:00-15:00",
           null,
           6.1,
           0
          ],
          [
           "ITALY",
           "1868-05-22T00:00:00-22:00",
           null,
           0,
           0
          ],
          [
           "MEXICO",
           null,
           null,
           0,
           0
          ],
          [
           "USA",
           "1868-06-13T00:00:00-13:00",
           null,
           0,
           0
          ],
          [
           "PERU",
           "1868-08-11T00:00:00-11:00",
           null,
           0,
           0
          ],
          [
           "MEXICO",
           "1868-08-12T00:00:00-12:00",
           null,
           0,
           0
          ],
          [
           "CHILE",
           "1868-08-13T21:30:00-13:00",
           8.5,
           18,
           25000
          ],
          [
           "VENEZUELA",
           "1868-08-13T00:00:00-13:00",
           8.5,
           0,
           0
          ],
          [
           "CHILE",
           "1868-08-14T01:30:00-14:00",
           8.5,
           0.17,
           0
          ],
          [
           "INDIA",
           "1868-08-19T00:00:00-19:00",
           null,
           4,
           0
          ],
          [
           "ITALY",
           "1868-09-05T02:00:00-05:00",
           null,
           0,
           0
          ],
          [
           "CHILE",
           "1868-09-14T00:00:00-14:00",
           null,
           1,
           0
          ],
          [
           "USA",
           "1868-10-02T07:30:00-02:00",
           null,
           6.1,
           0
          ],
          [
           "PERU",
           "1868-10-02T00:00:00-02:00",
           null,
           0,
           0
          ],
          [
           "CHILE",
           "1868-10-16T00:00:00-16:00",
           null,
           1,
           0
          ],
          [
           "NEW ZEALAND",
           "1868-10-18T12:35:00-18:00",
           7.6,
           3,
           0
          ],
          [
           "USA",
           "1868-10-21T15:53:00-21:00",
           6.8,
           4.5,
           30
          ],
          [
           "NEW ZEALAND",
           "1869-01-04T01:30:00-04:00",
           null,
           0,
           0
          ],
          [
           "CHILE",
           null,
           null,
           0,
           0
          ],
          [
           "CHILE",
           "1869-02-06T00:00:00-06:00",
           null,
           0,
           0
          ],
          [
           "USA",
           "1869-02-10T12:59:00-10:00",
           null,
           0,
           0
          ],
          [
           "USA",
           "1869-02-13T12:59:00-13:00",
           null,
           0,
           0
          ],
          [
           "NEW ZEALAND",
           "1869-03-02T00:00:00-02:00",
           null,
           0.6,
           0
          ],
          [
           "NEW ZEALAND",
           null,
           null,
           0,
           0
          ],
          [
           "PERU",
           "1869-04-22T00:00:00-22:00",
           null,
           0,
           0
          ],
          [
           "USA",
           "1869-06-01T00:00:00-01:00",
           null,
           0,
           0
          ],
          [
           "CHILE",
           null,
           null,
           0,
           0
          ],
          [
           "USA",
           null,
           null,
           8.2,
           0
          ],
          [
           "CHILE",
           "1869-08-09T00:00:00-09:00",
           null,
           3,
           0
          ],
          [
           "AUSTRALIA",
           "1869-08-11T00:00:00-11:00",
           null,
           0,
           0
          ],
          [
           "PHILIPPINES",
           "1869-08-16T07:00:00-16:00",
           7,
           0,
           0
          ],
          [
           "PERU",
           "1869-08-19T00:00:00-19:00",
           6.5,
           0,
           0
          ],
          [
           "CHILE",
           "1869-08-21T16:40:00-21:00",
           6.8,
           0,
           0
          ],
          [
           "CHILE",
           null,
           7.5,
           2,
           0
          ],
          [
           "GREECE",
           "1869-09-09T00:00:00-09:00",
           null,
           0,
           0
          ],
          [
           "UKRAINE",
           "1869-10-11T13:00:00-11:00",
           5.6,
           1,
           0
          ],
          [
           "GREECE",
           null,
           6.9,
           0,
           0
          ],
          [
           "NEW ZEALAND",
           "1870-04-06T19:30:00-06:00",
           null,
           0.6,
           0
          ],
          [
           "NEW ZEALAND",
           null,
           null,
           0,
           0
          ],
          [
           "MEXICO",
           "1870-05-11T23:30:00-11:00",
           7.9,
           0,
           24
          ],
          [
           "GUADELOUPE (FRENCH TERRITORY)",
           "1870-06-09T13:10:00-09:00",
           null,
           0,
           0
          ],
          [
           "EGYPT",
           null,
           null,
           0,
           0
          ],
          [
           "CROATIA",
           null,
           null,
           0,
           0
          ],
          [
           "GREECE",
           "1870-08-01T00:45:00-01:00",
           7,
           0,
           100
          ],
          [
           "CROATIA",
           "1870-08-06T00:00:00-06:00",
           null,
           0,
           0
          ],
          [
           "AUSTRALIA",
           "1870-08-12T00:00:00-12:00",
           null,
           0,
           0
          ],
          [
           "CANADA",
           "1870-10-20T00:00:00-20:00",
           null,
           0,
           2
          ],
          [
           "ITALY",
           null,
           null,
           0,
           0
          ],
          [
           "ITALY",
           "1870-11-02T03:30:00-02:00",
           null,
           0,
           0
          ],
          [
           "ITALY",
           "1871-01-17T00:00:00-17:00",
           null,
           0,
           0
          ],
          [
           "PERU",
           "1871-02-05T00:00:00-05:00",
           null,
           0,
           0
          ],
          [
           "MEXICO",
           "1871-02-07T00:00:00-07:00",
           null,
           0.3,
           0
          ],
          [
           "USA",
           "1871-02-18T00:00:00-18:00",
           null,
           0,
           0
          ],
          [
           "USA",
           "1871-02-20T08:41:00-20:00",
           7,
           0,
           0
          ],
          [
           "INDONESIA",
           "1871-03-03T00:00:00-03:00",
           null,
           25,
           400
          ],
          [
           "CHILE",
           null,
           7.5,
           1,
           0
          ],
          [
           "PHILIPPINES",
           null,
           null,
           0,
           0
          ],
          [
           "USA",
           "1871-06-18T00:00:00-18:00",
           null,
           0,
           0
          ],
          [
           "CHILE",
           "1871-08-20T00:00:00-20:00",
           null,
           0,
           0
          ],
          [
           "PERU",
           "1871-08-21T00:00:00-21:00",
           7,
           0,
           0
          ],
          [
           "INDONESIA",
           null,
           null,
           0,
           0
          ],
          [
           "FRANCE",
           "1871-09-07T00:00:00-07:00",
           null,
           0,
           0
          ],
          [
           "CHILE",
           "1871-10-05T09:00:00-05:00",
           null,
           0,
           0
          ],
          [
           "GREECE",
           "1871-10-05T00:00:00-05:00",
           null,
           0,
           0
          ],
          [
           "CHILE",
           null,
           null,
           0,
           0
          ],
          [
           "PERU",
           "1872-01-10T00:00:00-10:00",
           6.5,
           0,
           0
          ],
          [
           "USA",
           "1872-01-13T00:00:00-13:00",
           null,
           0,
           0
          ],
          [
           "USA",
           "1872-01-22T00:00:00-22:00",
           null,
           0,
           0
          ],
          [
           "PHILIPPINES",
           null,
           6,
           0,
           0
          ],
          [
           "JAPAN",
           "1872-03-14T08:20:00-14:00",
           7.4,
           3,
           804
          ],
          [
           "USA",
           null,
           7.3,
           0,
           0
          ],
          [
           "TURKEY",
           "1872-04-03T05:45:00-03:00",
           7.3,
           0,
           1800
          ],
          [
           "USA",
           "1872-06-13T00:00:00-13:00",
           null,
           0.6,
           0
          ],
          [
           "USA",
           "1872-08-23T18:06:00-23:00",
           null,
           1.3,
           0
          ],
          [
           "USA",
           null,
           null,
           0,
           0
          ],
          [
           "USA",
           "1872-09-16T00:00:00-16:00",
           null,
           0.1,
           0
          ],
          [
           "USA",
           "1872-11-17T00:00:00-17:00",
           null,
           0.51,
           0
          ],
          [
           "CHILE",
           "1873-07-07T00:00:00-07:00",
           null,
           0,
           0
          ],
          [
           "PANAMA",
           "1873-10-13T00:00:00-13:00",
           null,
           0,
           0
          ],
          [
           "GREECE",
           null,
           null,
           0,
           0
          ],
          [
           "CHILE",
           "1873-11-19T00:00:00-19:00",
           null,
           0,
           0
          ],
          [
           "USA",
           "1873-11-23T05:09:00-23:00",
           6.7,
           3.05,
           0
          ],
          [
           "USA TERRITORY",
           "1874-03-11T00:00:00-11:00",
           null,
           0,
           0
          ],
          [
           "AUSTRALIA",
           "1874-10-13T00:00:00-13:00",
           null,
           0,
           0
          ],
          [
           "MEXICO",
           null,
           6.5,
           0,
           0
          ],
          [
           "MEXICO",
           "1875-03-09T00:00:00-09:00",
           7.4,
           0,
           0
          ],
          [
           "ITALY",
           "1875-03-18T00:51:00-18:00",
           null,
           0,
           0
          ],
          [
           "NEW CALEDONIA",
           null,
           8,
           4,
           26
          ],
          [
           "VANUATU",
           null,
           null,
           0,
           0
          ],
          [
           "VANUATU",
           null,
           null,
           0,
           0
          ],
          [
           "VANUATU",
           "1875-05-10T00:00:00-10:00",
           7,
           0,
           0
          ],
          [
           "UKRAINE",
           null,
           5.5,
           0,
           0
          ],
          [
           "USA",
           "1875-10-12T00:00:00-12:00",
           null,
           0,
           0
          ],
          [
           "INDONESIA",
           null,
           6.8,
           0.3,
           0
          ],
          [
           "JAPAN",
           null,
           null,
           0,
           0
          ],
          [
           "ITALY",
           "1876-12-23T00:00:00-23:00",
           null,
           0,
           0
          ],
          [
           "USA",
           "1877-02-02T00:00:00-02:00",
           null,
           0,
           0
          ],
          [
           "USA",
           null,
           null,
           0,
           0
          ],
          [
           "USA",
           "1877-04-16T00:00:00-16:00",
           null,
           1.8,
           0
          ],
          [
           "USA",
           "1877-05-04T00:00:00-04:00",
           null,
           0,
           0
          ],
          [
           "CHILE",
           "1877-05-10T00:59:00-10:00",
           8.3,
           18,
           2385
          ],
          [
           "PERU",
           "1877-05-14T00:00:00-14:00",
           null,
           0,
           0
          ],
          [
           "CHILE",
           "1877-05-15T00:00:00-15:00",
           null,
           0,
           0
          ],
          [
           "CHILE",
           "1877-06-15T00:00:00-15:00",
           null,
           0,
           0
          ],
          [
           "CHILE",
           "1877-08-23T00:00:00-23:00",
           null,
           1,
           0
          ],
          [
           "CHILE",
           "1877-09-02T00:00:00-02:00",
           null,
           0,
           0
          ],
          [
           "CHILE",
           "1877-10-09T00:00:00-09:00",
           null,
           0,
           0
          ],
          [
           "COLOMBIA",
           "1877-10-11T00:00:00-11:00",
           null,
           0,
           0
          ],
          [
           "NEW ZEALAND",
           "1877-12-01T08:30:00-01:00",
           null,
           0,
           0
          ],
          [
           "VANUATU",
           "1878-01-10T00:00:00-10:00",
           7.5,
           12,
           0
          ],
          [
           "USA",
           "1878-01-14T00:00:00-14:00",
           null,
           0,
           0
          ],
          [
           "USA",
           "1878-01-20T00:00:00-20:00",
           null,
           3.6,
           0
          ],
          [
           "CHILE",
           "1878-01-23T12:05:00-23:00",
           7.9,
           0,
           0
          ],
          [
           "PERU",
           null,
           null,
           0,
           5
          ],
          [
           "CHILE",
           null,
           null,
           0,
           0
          ],
          [
           "CHILE",
           "1878-02-03T00:00:00-03:00",
           null,
           0,
           0
          ],
          [
           "PAPUA NEW GUINEA",
           "1878-02-04T00:00:00-04:00",
           null,
           0,
           1
          ],
          [
           "PERU",
           "1878-02-04T00:00:00-04:00",
           null,
           0,
           0
          ],
          [
           "VANUATU",
           "1878-02-11T00:00:00-11:00",
           8,
           0,
           0
          ],
          [
           "CHILE",
           "1878-02-14T00:00:00-14:00",
           null,
           0,
           0
          ],
          [
           "CHILE",
           "1878-03-12T00:00:00-12:00",
           null,
           0,
           0
          ],
          [
           "CHILE",
           "1878-04-12T00:00:00-12:00",
           null,
           0,
           0
          ],
          [
           "TURKEY",
           "1878-04-19T09:00:00-19:00",
           6.6,
           0,
           40
          ],
          [
           "CHILE",
           "1878-06-12T00:00:00-12:00",
           null,
           0,
           0
          ],
          [
           "CHILE",
           null,
           null,
           0,
           0
          ],
          [
           "USA",
           null,
           null,
           0,
           0
          ],
          [
           "CHILE",
           null,
           null,
           0,
           0
          ],
          [
           "RUSSIA",
           "1878-10-11T00:00:00-11:00",
           null,
           0,
           0
          ],
          [
           "USA",
           "1878-11-22T00:00:00-22:00",
           null,
           1,
           1
          ],
          [
           "CHILE",
           "1878-11-23T00:00:00-23:00",
           null,
           0,
           0
          ],
          [
           "ITALY",
           "1879-02-04T00:00:00-04:00",
           null,
           0,
           0
          ],
          [
           "NEW ZEALAND",
           null,
           null,
           0.9,
           0
          ],
          [
           "EGYPT",
           "1879-07-11T18:00:00-11:00",
           5.9,
           0,
           0
          ],
          [
           "CROATIA",
           null,
           null,
           0,
           0
          ],
          [
           "CHILE",
           "1879-08-08T00:00:00-08:00",
           null,
           0,
           0
          ],
          [
           "USA",
           "1879-08-10T21:07:00-10:00",
           null,
           0,
           0
          ],
          [
           "NORWAY",
           "1880-04-14T00:00:00-14:00",
           null,
           0,
           0
          ],
          [
           "ITALY",
           null,
           null,
           0,
           0
          ],
          [
           "PHILIPPINES",
           "1880-07-18T04:40:00-18:00",
           7.5,
           0,
           20
          ],
          [
           "CHILE",
           "1880-08-15T12:48:00-15:00",
           7.7,
           0,
           2
          ],
          [
           "GREECE",
           "1880-09-02T00:00:00-02:00",
           null,
           0,
           0
          ],
          [
           "NEW ZEALAND",
           "1880-09-08T09:30:00-08:00",
           7,
           0,
           0
          ],
          [
           "AUSTRALIA",
           "1880-09-23T00:00:00-23:00",
           null,
           0.08,
           0
          ],
          [
           "USA",
           null,
           6.3,
           0,
           0
          ],
          [
           "USA",
           null,
           6.3,
           1.8,
           0
          ],
          [
           "GREECE",
           "1881-04-03T11:40:00-03:00",
           6.5,
           0,
           7866
          ],
          [
           "GREECE",
           "1881-04-11T00:00:00-11:00",
           null,
           0,
           0
          ],
          [
           "NEW ZEALAND",
           null,
           null,
           3,
           0
          ],
          [
           "FIJI",
           "1881-07-12T00:00:00-12:00",
           null,
           0.46,
           0
          ],
          [
           "CHILE",
           "1881-07-14T00:00:00-14:00",
           null,
           1.4,
           0
          ],
          [
           "JAMAICA",
           "1881-08-12T00:00:00-12:00",
           null,
           0.46,
           0
          ],
          [
           "JAPAN",
           null,
           7,
           0,
           0
          ],
          [
           "CHILE",
           null,
           null,
           0,
           0
          ],
          [
           "TONGA",
           null,
           null,
           0,
           0
          ],
          [
           "GREECE",
           "1881-12-15T20:00:00-15:00",
           null,
           2,
           0
          ],
          [
           "INDIA",
           null,
           7.9,
           1.22,
           0
          ],
          [
           "CHILE",
           "1882-02-23T00:00:00-23:00",
           null,
           0,
           0
          ],
          [
           "NEW ZEALAND",
           "1882-04-13T00:00:00-13:00",
           null,
           1.2,
           0
          ],
          [
           "PANAMA",
           "1882-09-07T07:50:00-07:00",
           7.9,
           3,
           0
          ],
          [
           "CHILE",
           "1882-09-14T00:00:00-14:00",
           null,
           0,
           0
          ],
          [
           "INDONESIA",
           "1882-10-10T00:00:00-10:00",
           7.5,
           0,
           0
          ],
          [
           "TAIWAN",
           "1882-12-09T00:00:00-09:00",
           6.3,
           0,
           8
          ],
          [
           "MEXICO",
           "1883-03-12T00:00:00-12:00",
           null,
           0,
           0
          ],
          [
           "SAMOA",
           null,
           null,
           0,
           0
          ],
          [
           "INDONESIA",
           "1883-05-20T00:00:00-20:00",
           null,
           0,
           0
          ],
          [
           "INDONESIA",
           null,
           null,
           0,
           0
          ],
          [
           "GREECE",
           null,
           null,
           0,
           0
          ],
          [
           "INDONESIA",
           null,
           null,
           41,
           36417
          ],
          [
           "USA",
           "1883-10-06T19:04:00-06:00",
           null,
           9.14,
           8
          ],
          [
           "INDONESIA",
           "1883-10-10T00:00:00-10:00",
           null,
           0,
           0
          ],
          [
           "USA",
           "1883-11-14T00:00:00-14:00",
           null,
           0,
           0
          ],
          [
           "URUGUAY",
           "1884-01-14T00:00:00-14:00",
           null,
           0,
           0
          ],
          [
           "USA",
           null,
           null,
           0,
           0
          ],
          [
           "ERITREA",
           "1884-07-20T09:30:00-20:00",
           6.2,
           0,
           0
          ],
          [
           "USA",
           "1884-08-10T19:07:00-10:00",
           5.5,
           0,
           3
          ],
          [
           "USA",
           "1884-09-19T00:00:00-19:00",
           null,
           0,
           0
          ],
          [
           "PANAMA",
           "1884-11-05T00:00:00-05:00",
           7.5,
           0,
           0
          ],
          [
           "USA",
           "1884-11-12T00:00:00-12:00",
           null,
           0.1,
           0
          ],
          [
           "JAPAN",
           "1884-11-15T00:00:00-15:00",
           null,
           0,
           0
          ],
          [
           "USA",
           "1884-12-21T00:00:00-21:00",
           null,
           2.4,
           0
          ],
          [
           "FRANCE",
           "1885-01-16T08:00:00-16:00",
           null,
           0,
           0
          ],
          [
           "ALGERIA",
           null,
           null,
           0,
           0
          ],
          [
           "INDONESIA",
           null,
           7.3,
           1.2,
           0
          ],
          [
           "INDONESIA",
           null,
           6.8,
           0,
           0
          ],
          [
           "INDONESIA",
           "1885-08-03T00:00:00-03:00",
           null,
           0,
           0
          ],
          [
           "CHILE",
           "1885-11-12T00:00:00-12:00",
           null,
           1,
           0
          ],
          [
           "USA",
           "1885-11-19T00:00:00-19:00",
           null,
           0,
           0
          ],
          [
           "USA",
           null,
           null,
           0,
           0
          ],
          [
           "INDONESIA",
           "1885-12-14T00:00:00-14:00",
           null,
           0,
           0
          ],
          [
           "INDONESIA",
           null,
           null,
           0,
           0
          ],
          [
           "NEW ZEALAND",
           "1886-06-01T00:00:00-01:00",
           null,
           0.3,
           0
          ],
          [
           "GREECE",
           null,
           6.8,
           0,
           326
          ],
          [
           "CHILE",
           null,
           null,
           0,
           0
          ],
          [
           "USA",
           "1886-09-01T02:51:00-01:00",
           7.3,
           0,
           0
          ],
          [
           "PHILIPPINES",
           "1887-02-02T00:00:00-02:00",
           null,
           0,
           0
          ],
          [
           "USA",
           "1887-02-05T00:00:00-05:00",
           null,
           0,
           0
          ],
          [
           "ITALY",
           "1887-02-23T06:20:00-23:00",
           null,
           2,
           0
          ],
          [
           "MEXICO",
           "1887-05-03T09:00:00-03:00",
           7.4,
           0,
           51
          ],
          [
           "INDONESIA",
           "1887-05-19T00:00:00-19:00",
           null,
           0,
           0
          ],
          [
           "USA",
           "1887-07-08T00:00:00-08:00",
           null,
           0.06,
           0
          ],
          [
           "HAITI",
           "1887-09-23T12:00:00-23:00",
           null,
           0,
           0
          ],
          [
           "GREECE",
           "1887-10-03T00:00:00-03:00",
           6.2,
           0,
           0
          ],
          [
           "PAPUA NEW GUINEA",
           "1888-03-13T00:00:00-13:00",
           null,
           15,
           0
          ],
          [
           "INDONESIA",
           "1888-03-21T00:00:00-21:00",
           null,
           0,
           0
          ],
          [
           "NORWAY",
           "1888-04-23T00:00:00-23:00",
           null,
           7,
           1
          ],
          [
           "URUGUAY",
           "1888-06-05T00:00:00-05:00",
           null,
           0,
           0
          ],
          [
           "CHINA",
           "1888-06-13T00:00:00-13:00",
           7.5,
           0,
           0
          ],
          [
           "ITALY",
           null,
           null,
           0,
           0
          ],
          [
           "GREECE",
           "1888-09-09T15:04:00-09:00",
           6.1,
           0,
           0
          ],
          [
           "USA",
           "1889-01-01T00:00:00-01:00",
           null,
           0,
           0
          ],
          [
           "TONGA",
           "1889-03-08T00:00:00-08:00",
           null,
           11,
           0
          ],
          [
           "PHILIPPINES",
           null,
           6.8,
           0.1,
           0
          ],
          [
           "INDONESIA",
           "1889-08-16T00:00:00-16:00",
           null,
           0,
           0
          ],
          [
           "INDONESIA",
           "1889-09-06T12:00:00-06:00",
           8,
           4,
           0
          ],
          [
           "USA",
           "1889-09-08T00:00:00-08:00",
           null,
           0,
           0
          ],
          [
           "INDONESIA",
           "1889-09-08T00:00:00-08:00",
           null,
           0,
           0
          ],
          [
           "INDONESIA",
           "1889-11-23T00:00:00-23:00",
           6,
           0,
           0
          ],
          [
           "ITALY",
           "1889-12-08T00:00:00-08:00",
           null,
           0,
           0
          ],
          [
           "IRAN",
           "1890-07-11T07:55:00-11:00",
           7.2,
           0,
           171
          ],
          [
           "ALGERIA",
           "1891-01-15T03:55:00-15:00",
           null,
           0,
           36
          ],
          [
           "INDONESIA",
           "1891-05-19T00:00:00-19:00",
           null,
           0,
           0
          ],
          [
           "INDONESIA",
           "1891-06-10T00:00:00-10:00",
           null,
           0,
           0
          ],
          [
           "INDONESIA",
           "1891-06-20T00:00:00-20:00",
           null,
           0,
           0
          ],
          [
           "NEW ZEALAND",
           "1891-06-22T23:00:00-22:00",
           null,
           0,
           0
          ],
          [
           "MEXICO",
           null,
           null,
           0,
           0
          ],
          [
           "NEW ZEALAND",
           "1891-09-16T21:30:00-16:00",
           null,
           0,
           0
          ],
          [
           "INDONESIA",
           "1891-10-05T00:00:00-05:00",
           7,
           0,
           0
          ],
          [
           "USA",
           null,
           null,
           2.44,
           0
          ],
          [
           "INDONESIA",
           "1892-01-07T00:00:00-07:00",
           null,
           0,
           0
          ],
          [
           "CHILE",
           null,
           null,
           0,
           0
          ],
          [
           "URUGUAY",
           "1892-05-10T00:00:00-10:00",
           null,
           0,
           0
          ],
          [
           "USA TERRITORY",
           "1892-05-16T11:10:00-16:00",
           7.5,
           0,
           0
          ],
          [
           "INDONESIA",
           "1892-05-17T12:10:00-17:00",
           null,
           0,
           0
          ],
          [
           "INDONESIA",
           "1892-06-07T00:00:00-07:00",
           null,
           0.75,
           1532
          ],
          [
           "TONGA",
           null,
           null,
           0,
           0
          ],
          [
           "ITALY",
           "1892-11-15T11:20:00-15:00",
           null,
           0,
           0
          ],
          [
           "INDONESIA",
           "1892-11-18T00:00:00-18:00",
           7,
           0,
           0
          ],
          [
           "JAPAN",
           "1892-12-09T00:00:00-09:00",
           6.5,
           0,
           1
          ],
          [
           "GREECE",
           null,
           null,
           0,
           0
          ],
          [
           "GREECE",
           "1893-02-09T00:00:00-09:00",
           6.5,
           1,
           1
          ],
          [
           "JAMAICA",
           "1893-02-19T00:00:00-19:00",
           null,
           0,
           0
          ],
          [
           "GREECE",
           "1893-04-17T05:10:00-17:00",
           6.5,
           0,
           0
          ],
          [
           "RUSSIA",
           "1893-06-04T02:27:00-04:00",
           7,
           2.5,
           0
          ],
          [
           "JAPAN",
           "1893-06-13T00:00:00-13:00",
           6.9,
           0,
           0
          ],
          [
           "ALBANIA",
           "1893-06-14T00:00:00-14:00",
           7.5,
           0,
           0
          ],
          [
           "PHILIPPINES",
           "1893-06-21T06:50:00-21:00",
           null,
           0,
           0
          ],
          [
           "VANUATU",
           null,
           6,
           0,
           0
          ],
          [
           "VANUATU",
           null,
           null,
           0,
           0
          ],
          [
           "JAPAN",
           "1894-03-22T10:23:00-22:00",
           7.9,
           4,
           1
          ],
          [
           "GREECE",
           null,
           7,
           3,
           0
          ],
          [
           "MEXICO",
           "1894-05-10T00:00:00-10:00",
           null,
           6,
           0
          ],
          [
           "TURKEY",
           "1894-07-10T12:33:00-10:00",
           6.7,
           4.5,
           0
          ],
          [
           "JAPAN",
           "1894-10-22T08:35:00-22:00",
           7,
           0,
           726
          ],
          [
           "ITALY",
           "1894-11-16T18:52:00-16:00",
           null,
           0,
           101
          ],
          [
           "ATLANTIC OCEAN",
           "1894-11-21T00:00:00-21:00",
           null,
           12.2,
           0
          ],
          [
           "USA",
           null,
           null,
           3,
           2
          ],
          [
           "USA",
           null,
           null,
           0,
           0
          ],
          [
           "PAPUA NEW GUINEA",
           "1895-03-06T08:35:00-06:00",
           7.3,
           6,
           0
          ],
          [
           "USA",
           "1895-03-09T00:00:00-09:00",
           null,
           0,
           0
          ],
          [
           "JAPAN",
           null,
           null,
           0,
           0
          ],
          [
           "CHILE",
           null,
           null,
           0,
           0
          ],
          [
           "TURKMENISTAN",
           "1895-07-08T21:30:00-08:00",
           8.2,
           0,
           0
          ],
          [
           "NEW ZEALAND",
           "1895-07-09T05:30:00-09:00",
           null,
           5,
           0
          ],
          [
           "NEW ZEALAND",
           "1895-08-18T06:57:00-18:00",
           6,
           0,
           0
          ],
          [
           "USA",
           "1895-09-01T11:09:00-01:00",
           4.3,
           0,
           0
          ],
          [
           "USA",
           "1895-10-14T00:00:00-14:00",
           null,
           0,
           0
          ],
          [
           "USA",
           null,
           5.8,
           0,
           0
          ],
          [
           "ITALY",
           "1895-11-01T00:00:00-01:00",
           null,
           0,
           0
          ],
          [
           "JAPAN",
           "1896-01-09T00:00:00-09:00",
           7.6,
           0.25,
           0
          ],
          [
           "JAMAICA",
           "1896-02-16T18:00:00-16:00",
           null,
           0,
           0
          ],
          [
           "INDONESIA",
           "1896-04-18T00:00:00-18:00",
           null,
           0,
           250
          ],
          [
           "JAPAN",
           "1896-06-15T10:33:00-15:00",
           8.3,
           38.2,
           27122
          ],
          [
           "INDONESIA",
           "1896-10-10T00:00:00-10:00",
           6.8,
           0,
           0
          ],
          [
           "ITALY",
           "1896-10-16T06:15:00-16:00",
           null,
           0,
           0
          ],
          [
           "GREECE",
           "1896-11-05T02:50:00-05:00",
           null,
           0,
           0
          ],
          [
           "USA",
           "1896-12-17T00:00:00-17:00",
           null,
           2.5,
           0
          ],
          [
           "PHILIPPINES",
           "1897-01-03T00:00:00-03:00",
           8.2,
           0,
           100
          ],
          [
           "JAPAN",
           "1897-02-19T20:50:00-19:00",
           7.4,
           1,
           0
          ],
          [
           "INDONESIA",
           "1897-03-15T00:00:00-15:00",
           5.5,
           0,
           0
          ],
          [
           "SOLOMON ISLANDS",
           null,
           null,
           0,
           0
          ],
          [
           "USA",
           "1897-04-17T00:00:00-17:00",
           null,
           0,
           0
          ],
          [
           "NEW ZEALAND",
           null,
           null,
           0,
           0
          ],
          [
           "PHILIPPINES",
           "1897-05-13T11:22:00-13:00",
           null,
           0,
           0
          ],
          [
           "INDIA",
           "1897-06-12T11:06:46-12:00",
           8,
           3,
           1542
          ],
          [
           "MEXICO",
           "1897-06-20T00:00:00-20:00",
           7,
           0,
           0
          ],
          [
           "JAPAN",
           "1897-08-05T00:10:00-05:00",
           7.7,
           3.6,
           0
          ],
          [
           "PHILIPPINES",
           "1897-09-20T19:06:00-20:00",
           8.6,
           2,
           0
          ],
          [
           "PHILIPPINES",
           "1897-09-21T05:12:00-21:00",
           8.7,
           7,
           13
          ],
          [
           "NEW ZEALAND",
           "1897-09-21T07:14:00-21:00",
           null,
           1,
           0
          ],
          [
           "PHILIPPINES",
           "1897-10-18T23:48:00-18:00",
           8.1,
           0,
           0
          ],
          [
           "DOMINICAN REPUBLIC",
           null,
           null,
           0,
           0
          ],
          [
           "USA",
           null,
           6.2,
           0.31,
           0
          ],
          [
           "JAPAN",
           "1898-04-22T23:37:00-22:00",
           7.2,
           0.1,
           0
          ],
          [
           "GREECE",
           "1898-06-02T21:40:00-02:00",
           7,
           0,
           0
          ],
          [
           "CHILE",
           "1898-07-23T02:17:00-23:00",
           6.5,
           0,
           6
          ],
          [
           "GREECE",
           "1898-12-03T05:57:00-03:00",
           null,
           0.4,
           0
          ],
          [
           "PAPUA NEW GUINEA",
           "1899-01-15T00:00:00-15:00",
           null,
           0,
           0
          ],
          [
           "GREECE",
           "1899-01-22T08:30:00-22:00",
           6.5,
           1,
           0
          ],
          [
           "AUSTRALIA",
           null,
           null,
           1.8,
           0
          ],
          [
           "PORTUGAL",
           "1899-02-03T00:00:00-03:00",
           null,
           10,
           1
          ],
          [
           "CHILE",
           "1899-08-08T00:00:00-08:00",
           null,
           0,
           0
          ],
          [
           "USA",
           "1899-09-04T00:22:00-04:00",
           8.2,
           3.1,
           0
          ],
          [
           "USA",
           "1899-09-10T21:41:00-10:00",
           8.2,
           60.96,
           0
          ],
          [
           "INDONESIA",
           null,
           7.8,
           12,
           2460
          ],
          [
           "JAPAN",
           "1899-10-07T00:00:00-07:00",
           null,
           0,
           0
          ],
          [
           "PAPUA NEW GUINEA",
           "1899-10-19T09:16:00-19:00",
           null,
           0,
           0
          ],
          [
           "JAPAN",
           null,
           7.1,
           0.3,
           0
          ],
          [
           "JAPAN",
           null,
           6.9,
           0,
           0
          ],
          [
           "USA",
           null,
           6.4,
           0,
           0
          ],
          [
           "INDONESIA",
           "1900-01-10T00:00:00-10:00",
           null,
           0,
           0
          ],
          [
           "MEXICO",
           "1900-01-20T06:33:30-20:00",
           7.3,
           0,
           0
          ],
          [
           "MEXICO",
           "1900-05-16T20:12:00-16:00",
           6.9,
           0,
           0
          ],
          [
           "USA",
           "1900-08-11T04:40:00-11:00",
           null,
           0,
           5
          ],
          [
           "PAPUA NEW GUINEA",
           "1900-09-10T21:30:00-10:00",
           6.8,
           0,
           0
          ],
          [
           "PAPUA NEW GUINEA",
           "1900-09-17T21:45:00-17:00",
           7.1,
           3,
           0
          ],
          [
           "INDONESIA",
           "1900-10-07T21:04:00-07:00",
           6.9,
           0,
           5
          ],
          [
           "VENEZUELA",
           null,
           7.7,
           10,
           25
          ],
          [
           "USA",
           "1901-03-03T07:45:00-03:00",
           6.7,
           0,
           0
          ],
          [
           "BULGARIA",
           null,
           7.2,
           3,
           4
          ],
          [
           "JAPAN",
           "1901-06-15T00:00:00-15:00",
           6,
           0,
           0
          ],
          [
           "JAPAN",
           null,
           7.5,
           0.25,
           0
          ],
          [
           "JAPAN",
           "1901-08-09T09:23:30-09:00",
           7.2,
           0.6,
           0
          ],
          [
           "NEW CALEDONIA",
           "1901-08-09T13:01:00-09:00",
           7.9,
           1.2,
           0
          ],
          [
           "JAPAN",
           "1901-08-09T18:33:45-09:00",
           7.4,
           0.25,
           18
          ],
          [
           "JAPAN",
           "1901-08-09T20:00:00-09:00",
           6.3,
           0.02,
           0
          ],
          [
           "PHILIPPINES",
           "1901-09-10T00:30:00-10:00",
           7,
           0,
           0
          ],
          [
           "NICARAGUA",
           "1901-10-08T02:16:00-08:00",
           7,
           1.5,
           0
          ],
          [
           "USA",
           null,
           7.1,
           0,
           0
          ],
          [
           "GUATEMALA",
           "1902-01-18T23:23:00-18:00",
           6.3,
           0,
           0
          ],
          [
           "EL SALVADOR",
           null,
           7,
           0,
           185
          ],
          [
           "GREECE",
           "1902-04-11T18:35:00-11:00",
           5.7,
           0,
           0
          ],
          [
           "GUATEMALA",
           "1902-04-19T02:23:30-19:00",
           7.5,
           0,
           2000
          ],
          [
           "MARTINIQUE (FRENCH TERRITORY)",
           "1902-05-05T00:00:00-05:00",
           null,
           5,
           23
          ],
          [
           "SAINT VINCENT AND THE GRENADINES",
           "1902-05-07T00:00:00-07:00",
           null,
           1,
           1680
          ],
          [
           "MARTINIQUE (FRENCH TERRITORY)",
           "1902-05-08T12:06:00-08:00",
           null,
           2,
           28000
          ],
          [
           "FIJI",
           "1902-05-16T00:00:00-16:00",
           null,
           0,
           0
          ],
          [
           "MARTINIQUE (FRENCH TERRITORY)",
           "1902-05-20T09:24:00-20:00",
           null,
           4,
           0
          ],
          [
           "MARTINIQUE (FRENCH TERRITORY)",
           "1902-06-06T14:04:00-06:00",
           null,
           1,
           0
          ],
          [
           "GREECE",
           "1902-07-05T14:56:30-05:00",
           6.6,
           0,
           0
          ],
          [
           "MARTINIQUE (FRENCH TERRITORY)",
           "1902-07-10T00:24:00-10:00",
           null,
           0.6,
           0
          ],
          [
           "MEXICO",
           "1902-08-16T08:11:36-16:00",
           null,
           0,
           0
          ],
          [
           "PHILIPPINES",
           "1902-08-21T11:17:00-21:00",
           7.3,
           0,
           0
          ],
          [
           "MARTINIQUE (FRENCH TERRITORY)",
           null,
           null,
           3,
           1500
          ],
          [
           "GUATEMALA",
           null,
           null,
           0,
           0
          ],
          [
           "USA TERRITORY",
           "1903-02-10T02:28:00-10:00",
           null,
           0.15,
           0
          ],
          [
           "INDONESIA",
           null,
           6.5,
           1,
           0
          ],
          [
           "ITALY",
           "1903-05-13T00:00:00-13:00",
           null,
           0,
           0
          ],
          [
           "MEXICO",
           "1903-07-16T00:00:00-16:00",
           null,
           0,
           0
          ],
          [
           "TAIWAN",
           "1903-09-07T00:00:00-07:00",
           null,
           0,
           0
          ],
          [
           "CHILE",
           null,
           null,
           0,
           0
          ],
          [
           "USA",
           "1903-10-06T06:30:00-06:00",
           null,
           0,
           0
          ],
          [
           "USA",
           "1903-10-08T00:00:00-08:00",
           null,
           0,
           0
          ],
          [
           "CANADA",
           "1903-10-20T00:00:00-20:00",
           null,
           0,
           0
          ],
          [
           "USA",
           "1903-11-17T00:00:00-17:00",
           null,
           0,
           0
          ],
          [
           "USA",
           null,
           null,
           0,
           0
          ],
          [
           "USA",
           null,
           null,
           15.7,
           0
          ],
          [
           "CHILE",
           "1903-12-07T14:25:00-07:00",
           6.5,
           0,
           0
          ],
          [
           "COLOMBIA",
           "1904-01-20T14:52:06-20:00",
           7.9,
           0,
           0
          ],
          [
           "INDONESIA",
           "1904-02-02T00:00:00-02:00",
           null,
           0,
           0
          ],
          [
           "USA",
           null,
           null,
           0,
           0
          ],
          [
           "RUSSIA",
           null,
           8.3,
           0,
           0
          ],
          [
           "RUSSIA",
           null,
           8.1,
           0,
           0
          ],
          [
           "INDONESIA",
           "1904-07-05T00:00:00-05:00",
           null,
           0,
           0
          ],
          [
           "NEW ZEALAND",
           "1904-08-08T22:50:00-08:00",
           7.2,
           3,
           0
          ],
          [
           "NEW ZEALAND",
           null,
           null,
           0,
           0
          ],
          [
           "INDONESIA",
           "1904-09-07T00:00:00-07:00",
           null,
           0,
           0
          ],
          [
           "PANAMA",
           "1904-12-20T05:44:18-20:00",
           7.2,
           0,
           0
          ],
          [
           "COOK ISLANDS",
           null,
           null,
           0,
           0
          ],
          [
           "NORWAY",
           "1905-01-16T00:00:00-16:00",
           null,
           40.5,
           61
          ],
          [
           "GREECE",
           "1905-01-20T02:32:30-20:00",
           6.3,
           0,
           0
          ],
          [
           "COSTA RICA",
           "1905-01-20T18:23:00-20:00",
           6.8,
           0,
           0
          ],
          [
           "NEW ZEALAND",
           null,
           null,
           0,
           1
          ],
          [
           "VANUATU",
           "1905-03-19T00:00:00-19:00",
           null,
           0.6,
           0
          ],
          [
           "INDIA",
           "1905-04-04T00:49:59-04:00",
           7.9,
           0,
           19000
          ],
          [
           "USA",
           "1905-07-04T00:00:00-04:00",
           null,
           33.53,
           0
          ],
          [
           "JAPAN",
           "1905-07-06T16:21:00-06:00",
           7,
           0,
           57
          ],
          [
           "SAMOA",
           "1905-08-04T00:00:00-04:00",
           null,
           0,
           0
          ],
          [
           "ITALY",
           "1905-09-08T01:43:11-08:00",
           7.1,
           1.3,
           557
          ],
          [
           "RUSSIA",
           "1905-10-04T22:29:00-04:00",
           5.1,
           0.5,
           0
          ],
          [
           "GEORGIA",
           "1905-10-21T11:01:37-21:00",
           7.5,
           0,
           0
          ],
          [
           "GREECE",
           "1905-11-08T22:06:11-08:00",
           7.2,
           3,
           11
          ],
          [
           "VANUATU",
           "1905-11-22T00:00:00-22:00",
           null,
           0,
           0
          ],
          [
           "VANUATU",
           null,
           null,
           0,
           0
          ],
          [
           "PHILIPPINES",
           "1905-12-08T08:22:00-08:00",
           6.5,
           0,
           0
          ],
          [
           "ECUADOR",
           null,
           8.8,
           5,
           1000
          ],
          [
           "VENEZUELA",
           null,
           null,
           0,
           0
          ],
          [
           "ECUADOR",
           "1906-02-07T00:00:00-07:00",
           null,
           0.25,
           0
          ],
          [
           "COLOMBIA",
           "1906-02-21T00:00:00-21:00",
           null,
           0,
           0
          ],
          [
           "ITALY",
           "1906-04-04T00:00:00-04:00",
           null,
           0.4,
           350
          ],
          [
           "USA",
           "1906-04-18T13:12:00-18:00",
           7.9,
           0.1,
           0
          ],
          [
           "CHILE",
           "1906-05-07T00:00:00-07:00",
           null,
           0,
           0
          ],
          [
           "EL SALVADOR",
           null,
           null,
           0,
           0
          ],
          [
           "MARSHALL ISLANDS, REP. OF",
           "1906-07-01T00:00:00-01:00",
           null,
           0,
           0
          ],
          [
           "USA",
           "1906-08-07T00:00:00-07:00",
           null,
           0.02,
           0
          ],
          [
           "CHILE",
           "1906-08-17T00:40:00-17:00",
           8.2,
           3.5,
           4000
          ],
          [
           "PAPUA NEW GUINEA",
           "1906-09-14T16:04:18-14:00",
           8,
           1.5,
           0
          ],
          [
           "PAPUA NEW GUINEA",
           "1906-10-02T01:50:00-02:00",
           7.2,
           1.2,
           0
          ],
          [
           "USA",
           "1906-11-06T00:00:00-06:00",
           null,
           0,
           0
          ],
          [
           "GHANA",
           "1906-11-20T21:00:00-20:00",
           5,
           0,
           0
          ],
          [
           "SAMOA",
           null,
           null,
           0,
           0
          ],
          [
           "PERU",
           null,
           7.9,
           0,
           0
          ],
          [
           "INDONESIA",
           "1907-01-04T05:19:13-04:00",
           8.2,
           15,
           2188
          ],
          [
           "JAMAICA",
           "1907-01-14T20:38:12-14:00",
           6.2,
           2.5,
           1000
          ],
          [
           "INDONESIA",
           null,
           7.3,
           4,
           0
          ],
          [
           "MEXICO",
           "1907-04-14T06:08:06-14:00",
           8.1,
           2,
           8
          ],
          [
           "SAMOA",
           "1907-06-08T00:00:00-08:00",
           null,
           0,
           0
          ],
          [
           "SAMOA",
           "1907-06-19T00:00:00-19:00",
           null,
           0,
           0
          ],
          [
           "SAMOA",
           null,
           null,
           0,
           0
          ],
          [
           "SAMOA",
           "1907-07-09T00:00:00-09:00",
           null,
           0,
           0
          ],
          [
           "SAMOA",
           null,
           null,
           0,
           0
          ],
          [
           "USA",
           null,
           5.5,
           0.7,
           0
          ],
          [
           "SAMOA",
           "1907-10-06T00:00:00-06:00",
           null,
           3.6,
           0
          ],
          [
           "ITALY",
           "1907-10-23T20:28:19-23:00",
           5.9,
           0,
           158
          ],
          [
           "PAPUA NEW GUINEA",
           "1907-12-15T17:35:00-15:00",
           7.4,
           0,
           0
          ],
          [
           "INDONESIA",
           "1908-02-06T00:00:00-06:00",
           7.5,
           1.4,
           0
          ],
          [
           "USA",
           "1908-02-14T11:25:00-14:00",
           6,
           0,
           0
          ],
          [
           "INDONESIA",
           "1908-03-23T12:20:00-23:00",
           6.6,
           0,
           0
          ],
          [
           "CANADA",
           "1908-04-06T00:00:00-06:00",
           null,
           15,
           33
          ],
          [
           "UKRAINE",
           null,
           6.5,
           0,
           0
          ],
          [
           "CANADA",
           "1908-09-11T00:00:00-11:00",
           null,
           0,
           0
          ],
          [
           "USA",
           "1908-09-21T06:31:00-21:00",
           6.8,
           1.2,
           0
          ],
          [
           "PERU",
           "1908-12-12T12:08:00-12:00",
           null,
           0,
           0
          ],
          [
           "ITALY",
           null,
           7,
           13,
           80000
          ],
          [
           "COOK ISLANDS",
           "1909-03-07T00:00:00-07:00",
           null,
           3,
           0
          ],
          [
           "JAPAN",
           "1909-03-12T23:19:00-12:00",
           6.7,
           0,
           0
          ],
          [
           "JAPAN",
           "1909-03-13T14:29:00-13:00",
           7.5,
           0,
           0
          ],
          [
           "RUSSIA",
           "1909-04-08T00:30:00-08:00",
           null,
           4,
           0
          ],
          [
           "INDONESIA",
           "1909-06-03T18:40:48-03:00",
           7.6,
           0,
           0
          ],
          [
           "CHILE",
           "1909-06-08T05:46:30-08:00",
           7.6,
           0,
           0
          ],
          [
           "VANUATU",
           "1909-07-08T00:00:00-08:00",
           null,
           0,
           0
          ],
          [
           "MEXICO",
           null,
           7.4,
           9,
           0
          ],
          [
           "JAPAN",
           "1909-08-14T06:30:00-14:00",
           6.9,
           1.8,
           41
          ],
          [
           "USA",
           "1909-09-20T00:00:00-20:00",
           null,
           0,
           300
          ],
          [
           "USA",
           "1909-10-06T02:41:00-06:00",
           6,
           3.6,
           0
          ],
          [
           "USA TERRITORY",
           "1909-12-09T23:28:00-09:00",
           8,
           0,
           0
          ],
          [
           "PAPUA NEW GUINEA",
           null,
           6,
           0,
           0
          ],
          [
           "NEW ZEALAND",
           "1910-03-20T00:00:00-20:00",
           null,
           1.5,
           1
          ],
          [
           "USA",
           "1910-11-05T00:00:00-05:00",
           null,
           0,
           0
          ],
          [
           "VANUATU",
           "1910-11-10T12:19:54-10:00",
           7.2,
           0,
           0
          ],
          [
           "USA",
           "1910-11-21T12:45:00-21:00",
           null,
           0.3,
           0
          ],
          [
           "INDONESIA",
           "1910-12-18T02:42:00-18:00",
           6.7,
           0,
           0
          ],
          [
           "PHILIPPINES",
           null,
           6.2,
           0,
           0
          ],
          [
           "PHILIPPINES",
           null,
           null,
           3,
           1335
          ],
          [
           "ALBANIA",
           "1911-02-18T21:35:12-18:00",
           6.7,
           0,
           0
          ],
          [
           "PAPUA NEW GUINEA",
           "1911-05-08T00:00:00-08:00",
           null,
           0,
           0
          ],
          [
           "TOGO",
           "1911-05-11T00:00:00-11:00",
           6.6,
           5,
           0
          ],
          [
           "MEXICO",
           "1911-06-07T11:02:49-07:00",
           7.6,
           0,
           0
          ],
          [
           "JAPAN",
           "1911-06-15T14:26:00-15:00",
           8,
           0,
           12
          ],
          [
           "PHILIPPINES",
           "1911-07-12T04:07:36-12:00",
           7.8,
           0,
           0
          ],
          [
           "CHILE",
           "1911-09-15T13:10:00-15:00",
           7.3,
           0,
           0
          ],
          [
           "USA",
           "1911-09-22T05:01:24-22:00",
           6.9,
           0,
           0
          ],
          [
           "TRINIDAD AND TOBAGO",
           "1911-11-03T00:00:00-03:00",
           null,
           0,
           0
          ],
          [
           "GREECE",
           null,
           6.4,
           0,
           8
          ],
          [
           "USA",
           "1912-04-13T00:00:00-13:00",
           null,
           0,
           0
          ],
          [
           "JAPAN",
           "1912-06-08T04:42:00-08:00",
           6.6,
           0.5,
           0
          ],
          [
           "TURKEY",
           "1912-08-09T01:29:02-09:00",
           7.2,
           2.7,
           2800
          ],
          [
           "MICRONESIA, FED. STATES OF",
           null,
           6.9,
           0,
           0
          ],
          [
           "MICRONESIA, FED. STATES OF",
           "1912-12-06T00:00:00-06:00",
           null,
           0,
           0
          ],
          [
           "NEW ZEALAND",
           "1913-02-22T01:06:00-22:00",
           6.8,
           1.5,
           0
          ],
          [
           "INDONESIA",
           "1913-03-14T08:45:04-14:00",
           7.8,
           0,
           138
          ],
          [
           "USA",
           "1913-06-09T00:00:00-09:00",
           null,
           0,
           0
          ],
          [
           "PERU",
           null,
           7,
           0,
           0
          ],
          [
           "PERU",
           "1913-08-06T22:14:24-06:00",
           7.9,
           0,
           0
          ],
          [
           "PANAMA",
           "1913-10-02T04:23:28-02:00",
           6.7,
           0,
           0
          ],
          [
           "PAPUA NEW GUINEA",
           "1913-10-11T04:06:03-11:00",
           7,
           0.1,
           0
          ],
          [
           "USA",
           "1913-12-11T00:00:00-11:00",
           null,
           4.5,
           0
          ],
          [
           "JAPAN",
           "1914-01-12T09:28:00-12:00",
           7.1,
           3,
           63
          ],
          [
           "PERU",
           "1914-01-12T00:00:00-12:00",
           null,
           1,
           0
          ],
          [
           "ITALY",
           "1914-01-15T04:28:00-15:00",
           null,
           0,
           0
          ],
          [
           "PERU",
           null,
           7.2,
           0,
           0
          ],
          [
           "INDONESIA",
           "1914-03-14T00:00:00-14:00",
           null,
           0,
           0
          ],
          [
           "INDONESIA",
           null,
           8.1,
           0.1,
           0
          ],
          [
           "INDONESIA",
           null,
           7.6,
           0,
           20
          ],
          [
           "NEW ZEALAND",
           "1914-10-06T19:15:00-06:00",
           null,
           0,
           1
          ],
          [
           "GREECE",
           null,
           6.3,
           3,
           14
          ],
          [
           "INDONESIA",
           "1914-12-03T00:00:00-03:00",
           null,
           0,
           0
          ],
          [
           "GREECE",
           null,
           6.5,
           0,
           0
          ],
          [
           "USA TERRITORY",
           "1915-02-11T00:00:00-11:00",
           null,
           2.4,
           3
          ],
          [
           "INDONESIA",
           "1915-05-23T00:00:00-23:00",
           null,
           0.5,
           0
          ],
          [
           "JAPAN",
           "1915-06-19T00:00:00-19:00",
           null,
           0,
           0
          ],
          [
           "GREECE",
           "1915-08-07T15:04:03-07:00",
           6.7,
           1.5,
           0
          ],
          [
           "EL SALVADOR",
           "1915-09-07T01:20:48-07:00",
           7.9,
           0,
           0
          ],
          [
           "JAPAN",
           "1915-11-01T07:23:43-01:00",
           7.8,
           1,
           0
          ],
          [
           "INDONESIA",
           "1915-11-06T00:00:00-06:00",
           6,
           0,
           0
          ],
          [
           "PHILIPPINES",
           "1915-11-18T20:19:18-18:00",
           6.4,
           0,
           0
          ],
          [
           "PAPUA NEW GUINEA",
           "1916-01-01T13:20:49-01:00",
           7.9,
           0,
           0
          ],
          [
           "COSTA RICA",
           null,
           null,
           0,
           0
          ],
          [
           "PANAMA",
           null,
           7,
           1.3,
           0
          ],
          [
           "NORWAY",
           "1916-06-15T00:00:00-15:00",
           null,
           1,
           0
          ],
          [
           "ITALY",
           "1916-07-03T23:21:41-03:00",
           5.1,
           10,
           0
          ],
          [
           "ITALY",
           "1916-08-16T07:06:22-16:00",
           6,
           0,
           4
          ],
          [
           "DOMINICAN REPUBLIC",
           null,
           null,
           0,
           43
          ],
          [
           "VENEZUELA",
           "1916-11-12T00:00:00-12:00",
           null,
           0,
           0
          ],
          [
           "INDONESIA",
           "1917-01-09T00:00:00-09:00",
           null,
           0,
           0
          ],
          [
           "INDONESIA",
           "1917-01-20T23:11:34-20:00",
           6.6,
           2,
           1500
          ],
          [
           "CHINA",
           null,
           6.5,
           0,
           0
          ],
          [
           "RUSSIA",
           null,
           7.8,
           0,
           0
          ],
          [
           "PHILIPPINES",
           null,
           6.4,
           1.5,
           7
          ],
          [
           "INDONESIA",
           "1917-03-16T00:00:00-16:00",
           null,
           1.5,
           0
          ],
          [
           "NEW ZEALAND",
           "1917-05-01T18:27:00-01:00",
           8,
           0.3,
           0
          ],
          [
           "TAIWAN",
           "1917-05-06T12:19:00-06:00",
           5.8,
           0.5,
           0
          ],
          [
           "SAMOA",
           null,
           8.3,
           12.2,
           2
          ],
          [
           "PAPUA NEW GUINEA",
           null,
           7.5,
           0.9,
           0
          ],
          [
           "USA",
           "1917-08-16T00:00:00-16:00",
           null,
           2.4,
           1
          ],
          [
           "INDONESIA",
           "1917-08-23T00:00:00-23:00",
           null,
           0,
           0
          ],
          [
           "FRENCH POLYNESIA",
           "1917-09-01T00:00:00-01:00",
           null,
           1.9,
           0
          ],
          [
           "NEW ZEALAND",
           "1917-11-16T03:19:28-16:00",
           7.5,
           2.5,
           0
          ],
          [
           "CANADA",
           "1917-12-06T13:04:00-06:00",
           null,
           7,
           2000
          ],
          [
           "CHINA",
           "1918-02-13T06:07:13-13:00",
           7.5,
           0,
           2000
          ],
          [
           "CHILE",
           "1918-05-20T17:55:10-20:00",
           7.9,
           0,
           0
          ],
          [
           "INDONESIA",
           "1918-07-18T02:30:00-18:00",
           null,
           0.08,
           0
          ],
          [
           "CHINA",
           "1918-08-14T00:00:00-14:00",
           5.5,
           0,
           0
          ],
          [
           "PHILIPPINES",
           "1918-08-15T12:18:24-15:00",
           8.3,
           7.2,
           52
          ],
          [
           "RUSSIA",
           "1918-09-07T17:16:00-07:00",
           8.2,
           12,
           23
          ],
          [
           "USA TERRITORY",
           "1918-10-11T14:14:42-11:00",
           7.1,
           6.1,
           144
          ],
          [
           "USA TERRITORY",
           null,
           6.4,
           0,
           0
          ],
          [
           "RUSSIA",
           "1918-11-08T04:38:00-08:00",
           7.8,
           0.5,
           0
          ],
          [
           "CHILE",
           "1918-12-04T11:47:48-04:00",
           7.8,
           5,
           0
          ],
          [
           "PHILIPPINES",
           "1919-01-01T01:33:42-01:00",
           7.4,
           0.44,
           0
          ],
          [
           "TONGA",
           "1919-01-01T02:59:57-01:00",
           8.3,
           0.4,
           0
          ],
          [
           "INDONESIA",
           "1919-02-13T00:00:00-13:00",
           null,
           0,
           0
          ],
          [
           "INDONESIA",
           "1919-04-03T00:00:00-03:00",
           null,
           5,
           0
          ],
          [
           "USA",
           "1919-04-09T00:00:00-09:00",
           null,
           0,
           0
          ],
          [
           "TONGA",
           null,
           null,
           0,
           0
          ],
          [
           "TONGA",
           null,
           8.1,
           2.5,
           0
          ],
          [
           "PAPUA NEW GUINEA",
           "1919-05-06T19:41:13-06:00",
           8.2,
           0,
           0
          ],
          [
           "ITALY",
           "1919-05-22T17:45:00-22:00",
           null,
           0.75,
           4
          ],
          [
           "NICARAGUA",
           null,
           6.6,
           0,
           0
          ],
          [
           "VENEZUELA",
           "1919-08-19T00:00:00-19:00",
           null,
           0,
           0
          ],
          [
           "USA",
           "1919-10-02T00:00:00-02:00",
           null,
           4.3,
           0
          ],
          [
           "ITALY",
           "1919-10-22T06:06:00-22:00",
           5.6,
           0,
           0
          ],
          [
           "INDONESIA",
           "1919-11-21T00:00:00-21:00",
           null,
           0,
           0
          ],
          [
           "UKRAINE",
           null,
           null,
           0,
           0
          ],
          [
           "INDONESIA",
           null,
           null,
           2,
           0
          ],
          [
           "PAPUA NEW GUINEA",
           "1920-02-02T11:22:18-02:00",
           7.7,
           0,
           0
          ],
          [
           "CHILE",
           "1920-08-20T16:15:38-20:00",
           7,
           1.4,
           0
          ],
          [
           "VANUATU",
           "1920-09-20T14:39:00-20:00",
           7.8,
           0,
           0
          ],
          [
           "CHINA",
           "1920-12-16T12:05:54-16:00",
           8.3,
           0.75,
           0
          ],
          [
           "ALBANIA",
           "1920-12-18T02:01:36-18:00",
           6,
           0,
           0
          ],
          [
           "INDONESIA",
           "1921-05-14T11:17:45-14:00",
           6.2,
           1,
           0
          ],
          [
           "CHINA",
           "1921-08-04T00:00:00-04:00",
           null,
           0,
           0
          ],
          [
           "INDONESIA",
           "1921-09-11T04:01:38-11:00",
           7.5,
           0.1,
           0
          ],
          [
           "PHILIPPINES",
           "1921-11-11T18:36:08-11:00",
           7.5,
           0,
           0
          ],
          [
           "USA",
           "1921-12-16T00:00:00-16:00",
           null,
           0,
           0
          ],
          [
           "PERU",
           "1922-01-06T14:11:02-06:00",
           7.2,
           0,
           0
          ],
          [
           "PAPUA NEW GUINEA",
           "1922-01-19T21:58:58-19:00",
           6.9,
           1.8,
           0
          ],
          [
           "INDONESIA",
           "1922-02-22T00:00:00-22:00",
           null,
           0,
           0
          ],
          [
           "PHILIPPINES",
           null,
           6.3,
           0.7,
           5
          ],
          [
           "PHILIPPINES",
           "1922-03-01T09:10:23-01:00",
           6,
           0,
           0
          ],
          [
           "INDONESIA",
           "1922-04-10T00:00:00-10:00",
           null,
           0,
           0
          ],
          [
           "USA",
           "1922-05-02T00:00:00-02:00",
           null,
           0.64,
           0
          ],
          [
           "INDONESIA",
           "1922-07-08T00:00:00-08:00",
           null,
           0,
           0
          ],
          [
           "GREECE",
           "1922-08-08T03:49:20-08:00",
           5.9,
           0,
           0
          ],
          [
           "PHILIPPINES",
           "1922-09-01T13:10:00-01:00",
           6,
           0,
           0
          ],
          [
           "TAIWAN",
           "1922-09-01T19:16:06-01:00",
           7.6,
           0,
           5
          ],
          [
           "AUSTRALIA",
           "1922-10-22T00:00:00-22:00",
           null,
           0,
           0
          ],
          [
           "CHILE",
           "1922-11-07T23:00:09-07:00",
           7,
           0,
           0
          ],
          [
           "CHILE",
           "1922-11-11T04:32:51-11:00",
           8.5,
           9,
           700
          ],
          [
           "NEW ZEALAND",
           null,
           6.3,
           0.4,
           0
          ],
          [
           "USA",
           "1923-01-22T09:04:21-22:00",
           7.1,
           0.1,
           0
          ],
          [
           "RUSSIA",
           "1923-02-03T16:01:50-03:00",
           8.4,
           8,
           3
          ],
          [
           "CHILE",
           "1923-02-17T00:00:00-17:00",
           null,
           1.5,
           0
          ],
          [
           "PHILIPPINES",
           "1923-02-23T00:00:00-23:00",
           null,
           0,
           0
          ],
          [
           "PHILIPPINES",
           "1923-03-02T16:48:52-02:00",
           7.2,
           0,
           0
          ],
          [
           "CHILE",
           "1923-03-04T00:00:00-04:00",
           null,
           35,
           0
          ],
          [
           "RUSSIA",
           "1923-04-13T15:31:02-13:00",
           7.2,
           20,
           18
          ],
          [
           "CHILE",
           "1923-05-04T22:26:45-04:00",
           7,
           0,
           0
          ],
          [
           "CHILE",
           "1923-05-07T00:00:00-07:00",
           null,
           0,
           0
          ],
          [
           "JAPAN",
           "1923-06-01T17:24:00-01:00",
           7.3,
           0.4,
           0
          ],
          [
           "PHILIPPINES",
           "1923-07-18T02:24:19-18:00",
           5.5,
           0,
           0
          ],
          [
           "USA",
           "1923-08-06T00:00:00-06:00",
           null,
           0,
           2
          ],
          [
           "CHILE",
           "1923-08-12T00:00:00-12:00",
           null,
           0,
           0
          ],
          [
           "JAPAN",
           "1923-09-01T02:58:37-01:00",
           7.9,
           13,
           105385
          ],
          [
           "JAPAN",
           "1923-09-02T02:46:40-02:00",
           7.7,
           0.3,
           0
          ],
          [
           "USA",
           "1923-09-04T00:00:00-04:00",
           null,
           6.1,
           0
          ],
          [
           "PAPUA NEW GUINEA",
           "1923-11-02T21:08:11-02:00",
           7.1,
           0,
           0
          ],
          [
           "PAPUA NEW GUINEA",
           "1923-11-04T00:04:47-04:00",
           7.1,
           0,
           0
          ],
          [
           "GREECE",
           "1923-12-05T20:56:49-05:00",
           6.4,
           0,
           0
          ],
          [
           "COSTA RICA",
           "1924-03-04T10:07:52-04:00",
           6.7,
           0,
           0
          ],
          [
           "RUSSIA",
           "1924-03-15T10:31:24-15:00",
           6.8,
           0,
           0
          ],
          [
           "RUSSIA",
           "1924-04-13T00:00:00-13:00",
           null,
           0,
           0
          ],
          [
           "PHILIPPINES",
           "1924-04-14T16:20:23-14:00",
           8.3,
           0,
           0
          ],
          [
           "RUSSIA",
           "1924-04-16T00:00:00-16:00",
           null,
           0,
           0
          ],
          [
           "PHILIPPINES",
           "1924-05-06T16:09:20-06:00",
           6.5,
           0,
           0
          ],
          [
           "USA",
           null,
           null,
           5,
           0
          ],
          [
           "PHILIPPINES",
           "1924-06-02T00:00:00-02:00",
           null,
           0,
           0
          ],
          [
           "AUSTRALIA",
           null,
           7.8,
           0,
           0
          ],
          [
           "NEW ZEALAND",
           "1924-07-19T00:00:00-19:00",
           null,
           0,
           0
          ],
          [
           "USA",
           "1924-08-08T00:00:00-08:00",
           null,
           4.6,
           0
          ],
          [
           "ICELAND",
           null,
           null,
           0,
           0
          ],
          [
           "PHILIPPINES",
           null,
           7.3,
           0,
           0
          ],
          [
           "INDONESIA",
           "1925-01-08T00:00:00-08:00",
           null,
           1,
           0
          ],
          [
           "USA",
           "1925-02-23T23:53:36-23:00",
           6,
           1.4,
           0
          ],
          [
           "MEXICO",
           "1925-05-04T17:25:00-04:00",
           null,
           0,
           0
          ],
          [
           "PHILIPPINES",
           "1925-05-05T10:06:06-05:00",
           6.8,
           0,
           17
          ],
          [
           "ITALY",
           "1925-05-11T00:00:00-11:00",
           null,
           0,
           0
          ],
          [
           "CHILE",
           "1925-05-15T11:56:57-15:00",
           7.1,
           0,
           0
          ],
          [
           "PHILIPPINES",
           null,
           6.3,
           0,
           0
          ],
          [
           "USA",
           "1925-10-04T16:00:00-04:00",
           null,
           0.34,
           0
          ],
          [
           "PHILIPPINES",
           "1925-11-13T12:14:45-13:00",
           7.3,
           0,
           0
          ],
          [
           "MEXICO",
           "1925-11-16T11:54:54-16:00",
           7,
           11,
           0
          ],
          [
           "PHILIPPINES",
           null,
           null,
           0,
           0
          ],
          [
           "MICRONESIA, FED. STATES OF",
           "1925-12-22T00:00:00-22:00",
           null,
           0,
           0
          ],
          [
           "USA",
           "1926-01-09T00:00:00-09:00",
           null,
           3,
           0
          ],
          [
           "SOLOMON ISLANDS",
           null,
           7.5,
           0,
           0
          ],
          [
           "USA",
           "1926-03-20T09:03:00-20:00",
           null,
           1.5,
           0
          ],
          [
           "COOK ISLANDS",
           null,
           null,
           0,
           1
          ],
          [
           "INDONESIA",
           null,
           6.6,
           0,
           0
          ],
          [
           "UK",
           null,
           null,
           0,
           0
          ],
          [
           "ITALY",
           "1926-08-17T01:42:00-17:00",
           5.3,
           0,
           0
          ],
          [
           "GREECE",
           null,
           7.2,
           0,
           0
          ],
          [
           "PORTUGAL",
           null,
           5.8,
           0.3,
           9
          ],
          [
           "SOLOMON ISLANDS",
           "1926-09-16T17:59:15-16:00",
           6.9,
           2,
           0
          ],
          [
           "CHILE",
           "1926-12-09T00:00:00-09:00",
           6,
           0,
           0
          ],
          [
           "PORTUGAL",
           "1926-12-18T14:45:00-18:00",
           null,
           0,
           0
          ],
          [
           "USA",
           "1927-01-01T08:17:00-01:00",
           5.7,
           0,
           1
          ],
          [
           "NORWAY",
           null,
           5.1,
           0,
           0
          ],
          [
           "JAPAN",
           "1927-03-07T09:27:00-07:00",
           7.6,
           11.3,
           3022
          ],
          [
           "UKRAINE",
           null,
           6,
           0.7,
           0
          ],
          [
           "ISRAEL",
           "1927-07-11T13:04:00-11:00",
           6.3,
           1,
           268
          ],
          [
           "JAPAN",
           "1927-08-05T21:13:01-05:00",
           6.9,
           0.1,
           0
          ],
          [
           "JAPAN",
           "1927-08-18T19:28:00-18:00",
           6.4,
           0.4,
           0
          ],
          [
           "MEXICO",
           "1927-09-06T00:00:00-06:00",
           null,
           0,
           0
          ],
          [
           "UKRAINE",
           "1927-09-11T22:15:48-11:00",
           6.8,
           1,
           11
          ],
          [
           "UKRAINE",
           "1927-09-16T08:21:00-16:00",
           4.9,
           0,
           0
          ],
          [
           "USA",
           "1927-10-12T08:31:00-12:00",
           null,
           0,
           0
          ],
          [
           "USA",
           null,
           7.1,
           0,
           0
          ],
          [
           "USA",
           "1927-11-04T13:50:43-04:00",
           7.3,
           1.8,
           0
          ],
          [
           "CHILE",
           "1927-11-21T23:12:25-21:00",
           7.1,
           0,
           0
          ],
          [
           "INDONESIA",
           "1927-12-01T04:37:27-01:00",
           6.3,
           15,
           50
          ],
          [
           "RUSSIA",
           null,
           7.5,
           2,
           0
          ],
          [
           "CANADA",
           "1928-02-09T00:00:00-09:00",
           5.8,
           0,
           0
          ],
          [
           "MEXICO",
           "1928-03-22T04:17:00-22:00",
           7.7,
           0,
           0
          ],
          [
           "INDONESIA",
           null,
           null,
           4,
           0
          ],
          [
           "GREECE",
           null,
           6.5,
           0,
           170
          ],
          [
           "CHILE",
           null,
           null,
           0,
           0
          ],
          [
           "PERU",
           "1928-04-09T17:34:15-09:00",
           6.9,
           0,
           10
          ],
          [
           "GREECE",
           "1928-04-22T20:13:46-22:00",
           6,
           0.6,
           20
          ],
          [
           "GREECE",
           null,
           5,
           0,
           0
          ],
          [
           "GREECE",
           null,
           5.2,
           0,
           0
          ],
          [
           "PERU",
           null,
           6.8,
           0,
           0
          ],
          [
           "GREECE",
           null,
           null,
           0.6,
           0
          ],
          [
           "GREECE",
           "1928-05-02T21:54:32-02:00",
           6.2,
           0,
           0
          ],
          [
           "TURKEY",
           "1928-05-03T01:25:13-03:00",
           4.3,
           0,
           0
          ],
          [
           "TONGA",
           "1928-05-18T00:00:00-18:00",
           null,
           0,
           0
          ],
          [
           "JAPAN",
           null,
           7,
           0.45,
           0
          ],
          [
           "JAPAN",
           null,
           null,
           0,
           0
          ],
          [
           "PHILIPPINES",
           "1928-06-15T06:12:36-15:00",
           7,
           0,
           0
          ],
          [
           "MEXICO",
           "1928-06-17T03:19:33-17:00",
           7.7,
           0.2,
           4
          ],
          [
           "PERU",
           "1928-07-18T19:05:00-18:00",
           7,
           0,
           0
          ],
          [
           "INDONESIA",
           "1928-08-04T00:00:00-04:00",
           null,
           10,
           226
          ],
          [
           "VENEZUELA",
           "1928-09-13T00:00:00-13:00",
           null,
           0,
           0
          ],
          [
           "CHILE",
           "1928-11-20T20:35:07-20:00",
           7.1,
           0,
           0
          ],
          [
           "CHILE",
           "1928-12-01T04:06:12-01:00",
           7.6,
           1.5,
           279
          ],
          [
           "PHILIPPINES",
           "1928-12-19T11:37:10-19:00",
           7.3,
           0,
           97
          ],
          [
           "PHILIPPINES",
           null,
           6.9,
           0,
           0
          ],
          [
           "VENEZUELA",
           "1929-01-17T11:52:00-17:00",
           6.9,
           6,
           50
          ],
          [
           "USA",
           "1929-03-07T01:34:37-07:00",
           7.8,
           1,
           0
          ],
          [
           "JAPAN",
           "1929-05-21T16:35:00-21:00",
           7.1,
           0.7,
           0
          ],
          [
           "CANADA",
           null,
           7,
           1.5,
           0
          ],
          [
           "PHILIPPINES",
           "1929-06-13T09:24:34-13:00",
           7.2,
           2,
           0
          ],
          [
           "NEW ZEALAND",
           "1929-06-16T22:47:32-16:00",
           7.5,
           2.5,
           17
          ],
          [
           "USA",
           "1929-07-04T00:00:00-04:00",
           null,
           6,
           10
          ],
          [
           "CHILE",
           "1929-08-09T00:00:00-09:00",
           null,
           7.5,
           0
          ],
          [
           "USA",
           "1929-08-12T11:24:00-12:00",
           null,
           0,
           0
          ],
          [
           "INDONESIA",
           "1929-11-09T00:00:00-09:00",
           null,
           0,
           6
          ],
          [
           "CANADA",
           "1929-11-18T20:31:59-18:00",
           7.2,
           13,
           28
          ],
          [
           "CHINA",
           "1930-01-03T00:00:00-03:00",
           5.5,
           0,
           0
          ],
          [
           "SPAIN",
           "1930-02-16T00:00:00-16:00",
           null,
           0,
           0
          ],
          [
           "PORTUGAL",
           "1930-03-04T18:03:00-04:00",
           null,
           5,
           19
          ],
          [
           "INDONESIA",
           "1930-03-17T00:00:00-17:00",
           null,
           500,
           0
          ],
          [
           "NORWAY",
           "1930-05-02T00:00:00-02:00",
           null,
           0,
           0
          ],
          [
           "MYANMAR (BURMA)",
           "1930-05-05T13:46:01-05:00",
           7.4,
           1.06,
           500
          ],
          [
           "INDONESIA",
           "1930-06-19T13:07:27-19:00",
           6,
           1.5,
           0
          ],
          [
           "INDONESIA",
           "1930-07-19T15:20:12-19:00",
           6.5,
           0.1,
           0
          ],
          [
           "USA",
           null,
           5.2,
           3.05,
           1
          ],
          [
           "ITALY",
           "1930-09-11T09:52:00-11:00",
           null,
           2.5,
           6
          ],
          [
           "INDONESIA",
           "1930-09-11T00:00:00-11:00",
           null,
           0,
           0
          ],
          [
           "PAPUA NEW GUINEA",
           null,
           6.6,
           0,
           0
          ],
          [
           "ITALY",
           null,
           6,
           0,
           18
          ],
          [
           "KENYA",
           "1930-11-05T00:00:00-05:00",
           null,
           6,
           0
          ],
          [
           "PAPUA NEW GUINEA",
           "1930-12-23T21:35:36-23:00",
           6.5,
           12,
           27
          ],
          [
           "CHILE",
           null,
           6,
           1,
           0
          ],
          [
           "NEW ZEALAND",
           "1931-02-02T22:46:51-02:00",
           7.7,
           15,
           261
          ],
          [
           "NEW ZEALAND",
           "1931-02-13T01:27:16-13:00",
           7.1,
           0.1,
           0
          ],
          [
           "NEW ZEALAND",
           "1931-02-19T00:00:00-19:00",
           null,
           0,
           0
          ],
          [
           "JAPAN",
           "1931-03-09T03:49:00-09:00",
           7.6,
           0.4,
           0
          ],
          [
           "CHILE",
           "1931-03-18T08:02:23-18:00",
           7.1,
           0,
           0
          ],
          [
           "UK",
           "1931-06-07T00:25:21-07:00",
           6,
           0,
           0
          ],
          [
           "PHILIPPINES",
           "1931-07-12T16:45:29-12:00",
           6.5,
           0,
           0
          ],
          [
           "PAPUA NEW GUINEA",
           "1931-08-07T02:11:44-07:00",
           7,
           0,
           0
          ],
          [
           "USA",
           "1931-08-19T00:00:00-19:00",
           null,
           3,
           4
          ],
          [
           "PORTUGAL",
           null,
           null,
           0,
           0
          ],
          [
           "INDONESIA",
           null,
           7.4,
           1,
           0
          ],
          [
           "SOLOMON ISLANDS",
           "1931-10-03T19:13:20-03:00",
           7.8,
           9,
           50
          ],
          [
           "JAPAN",
           "1931-11-02T10:02:00-02:00",
           7.1,
           0.8,
           1
          ],
          [
           "CUBA",
           "1931-12-01T00:00:00-01:00",
           null,
           1,
           0
          ],
          [
           "CUBA",
           "1932-02-03T06:16:02-03:00",
           6.7,
           0,
           14
          ],
          [
           "PHILIPPINES",
           "1932-03-19T00:00:00-19:00",
           7.8,
           0,
           0
          ],
          [
           "ITALY",
           "1932-05-07T00:00:00-07:00",
           null,
           0,
           0
          ],
          [
           "MEXICO",
           "1932-06-03T10:36:58-03:00",
           8.1,
           10,
           400
          ],
          [
           "MEXICO",
           "1932-06-18T10:12:33-18:00",
           7.8,
           1,
           0
          ],
          [
           "MEXICO",
           "1932-06-22T12:59:30-22:00",
           7.7,
           10,
           75
          ],
          [
           "MEXICO",
           null,
           null,
           0,
           0
          ],
          [
           "INDONESIA",
           "1932-09-09T13:38:52-09:00",
           6.2,
           0,
           0
          ],
          [
           "NEW ZEALAND",
           "1932-09-15T13:54:54-15:00",
           6.8,
           0,
           0
          ],
          [
           "GREECE",
           null,
           6.9,
           2,
           161
          ],
          [
           "VENEZUELA",
           "1932-11-04T00:00:00-04:00",
           null,
           0,
           0
          ],
          [
           "USA",
           "1932-11-10T00:00:00-10:00",
           null,
           5.4,
           0
          ],
          [
           "RUSSIA",
           "1933-01-08T16:00:00-08:00",
           6,
           9,
           2
          ],
          [
           "MEXICO",
           "1933-02-20T17:00:00-20:00",
           4,
           1.13,
           0
          ],
          [
           "CHILE",
           "1933-02-23T08:09:12-23:00",
           7.6,
           0,
           0
          ],
          [
           "JAPAN",
           "1933-03-02T17:31:00-02:00",
           8.4,
           29,
           3022
          ],
          [
           "USA",
           "1933-03-11T01:54:07-11:00",
           6.3,
           0.1,
           120
          ],
          [
           "GREECE",
           "1933-04-23T05:57:35-23:00",
           6.4,
           2,
           181
          ],
          [
           "MEXICO",
           "1933-05-08T10:33:51-08:00",
           6.7,
           0,
           0
          ],
          [
           "TOGO",
           "1933-05-19T00:00:00-19:00",
           null,
           0,
           0
          ],
          [
           "JAPAN",
           "1933-06-18T21:37:00-18:00",
           7.1,
           0.2,
           0
          ],
          [
           "ECUADOR",
           "1933-10-02T15:29:21-02:00",
           6.9,
           0,
           0
          ],
          [
           "VANUATU",
           "1933-11-19T03:11:25-19:00",
           6.4,
           0,
           0
          ],
          [
           "PAPUA NEW GUINEA",
           "1933-12-12T14:11:18-12:00",
           null,
           0,
           0
          ],
          [
           "PHILIPPINES",
           null,
           null,
           0,
           9
          ],
          [
           "NEPAL",
           "1934-01-15T08:43:18-15:00",
           8,
           0,
           10600
          ],
          [
           "PHILIPPINES",
           "1934-02-14T03:59:34-14:00",
           7.9,
           0,
           0
          ],
          [
           "NORWAY",
           "1934-04-07T03:00:00-07:00",
           null,
           62.3,
           41
          ],
          [
           "ICELAND",
           "1934-06-03T00:00:00-03:00",
           null,
           0,
           0
          ],
          [
           "PANAMA",
           "1934-07-18T01:36:24-18:00",
           7.7,
           0,
           0
          ],
          [
           "SOLOMON ISLANDS",
           "1934-07-18T19:40:24-18:00",
           7.8,
           0.65,
           0
          ],
          [
           "SOLOMON ISLANDS",
           "1934-07-21T06:18:23-21:00",
           7.2,
           0,
           0
          ],
          [
           "USA",
           "1934-08-21T00:00:00-21:00",
           null,
           12,
           0
          ],
          [
           "MEXICO",
           null,
           7,
           0.11,
           0
          ],
          [
           "CHILE",
           "1934-12-04T17:24:38-04:00",
           6.9,
           0,
           0
          ],
          [
           "PAPUA NEW GUINEA",
           "1934-12-12T14:15:00-12:00",
           null,
           0,
           0
          ],
          [
           "TURKEY",
           "1935-01-04T14:41:30-04:00",
           6.4,
           0,
           5
          ],
          [
           "PAKISTAN",
           null,
           7.5,
           0,
           60000
          ],
          [
           "JAPAN",
           "1935-07-19T00:50:00-19:00",
           6.5,
           0.2,
           0
          ],
          [
           "PORTUGAL",
           "1935-08-22T20:00:00-22:00",
           null,
           0,
           0
          ],
          [
           "PAPUA NEW GUINEA",
           "1935-09-20T01:46:43-20:00",
           7.8,
           0,
           0
          ],
          [
           "JAPAN",
           "1935-10-12T16:45:00-12:00",
           7.2,
           0.3,
           0
          ],
          [
           "JAPAN",
           "1935-10-18T00:11:00-18:00",
           7,
           0.2,
           0
          ],
          [
           "USA",
           "1935-11-21T11:41:00-21:00",
           null,
           0,
           0
          ],
          [
           "INDONESIA",
           null,
           6.5,
           0,
           0
          ],
          [
           "CHINA",
           "1935-12-18T07:10:36-18:00",
           6,
           0,
           100
          ],
          [
           "INDONESIA",
           null,
           7.9,
           0,
           0
          ],
          [
           "NEW ZEALAND",
           "1936-02-02T00:00:00-02:00",
           null,
           0,
           0
          ],
          [
           "NAURU",
           null,
           null,
           0,
           0
          ],
          [
           "INDONESIA",
           "1936-04-01T02:09:15-01:00",
           7.7,
           3,
           0
          ],
          [
           "CHILE",
           "1936-07-13T11:12:15-13:00",
           7.3,
           1,
           1
          ],
          [
           "INDONESIA",
           "1936-08-23T21:12:13-23:00",
           7.3,
           0,
           9
          ],
          [
           "NORWAY",
           "1936-09-13T00:00:00-13:00",
           null,
           74,
           73
          ],
          [
           "NORWAY",
           "1936-09-21T00:00:00-21:00",
           null,
           40,
           0
          ],
          [
           "USA",
           null,
           null,
           149.35,
           0
          ],
          [
           "JAPAN",
           "1936-11-02T20:46:00-02:00",
           7.7,
           0.7,
           0
          ],
          [
           "NORWAY",
           "1936-11-11T00:00:00-11:00",
           null,
           74,
           0
          ],
          [
           "RUSSIA",
           "1936-11-13T12:31:00-13:00",
           7.3,
           13,
           0
          ],
          [
           "PAPUA NEW GUINEA",
           null,
           null,
           2.5,
           507
          ],
          [
           "PHILIPPINES",
           "1937-08-20T11:59:16-20:00",
           7.5,
           0,
           1
          ],
          [
           "RUSSIA",
           "1937-09-21T21:02:00-21:00",
           5.7,
           0,
           0
          ],
          [
           "USA",
           "1937-09-21T00:00:00-21:00",
           5.8,
           0,
           0
          ],
          [
           "RUSSIA",
           "1937-09-22T00:00:00-22:00",
           5.8,
           0,
           0
          ],
          [
           "INDONESIA",
           "1937-11-06T00:00:00-06:00",
           6,
           0.5,
           0
          ],
          [
           "CONGO",
           null,
           null,
           0,
           0
          ],
          [
           "INDONESIA",
           "1938-02-01T19:04:22-01:00",
           8.6,
           1,
           0
          ],
          [
           "AUSTRALIA",
           "1938-02-06T05:00:00-06:00",
           null,
           0,
           5
          ],
          [
           "INDONESIA",
           "1938-02-13T00:00:00-13:00",
           6,
           0.5,
           0
          ],
          [
           "PAPUA NEW GUINEA",
           "1938-03-06T01:56:00-06:00",
           null,
           0.03,
           0
          ],
          [
           "CANADA",
           "1938-03-22T15:22:00-22:00",
           6.3,
           0,
           0
          ],
          [
           "PAPUA NEW GUINEA",
           "1938-05-12T15:38:57-12:00",
           7.5,
           0,
           0
          ],
          [
           "INDONESIA",
           "1938-05-19T17:08:21-19:00",
           7.6,
           3,
           17
          ],
          [
           "JAPAN",
           "1938-05-23T07:18:00-23:00",
           7.1,
           0.83,
           0
          ],
          [
           "JAPAN",
           null,
           6.1,
           0.9,
           1
          ],
          [
           "JAPAN",
           "1938-06-10T09:53:44-10:00",
           7.6,
           1.5,
           0
          ],
          [
           "USA",
           "1938-07-13T00:00:00-13:00",
           null,
           0,
           5
          ],
          [
           "USA",
           "1938-09-21T00:00:00-21:00",
           null,
           0,
           0
          ],
          [
           "JAPAN",
           "1938-11-05T08:43:21-05:00",
           7.7,
           0.57,
           1
          ],
          [
           "JAPAN",
           "1938-11-05T10:50:15-05:00",
           7.6,
           0.56,
           0
          ],
          [
           "JAPAN",
           "1938-11-06T08:53:53-06:00",
           7.5,
           1.26,
           0
          ],
          [
           "JAPAN",
           "1938-11-06T21:38:47-06:00",
           7.1,
           1.25,
           0
          ],
          [
           "JAPAN",
           "1938-11-09T02:22:00-09:00",
           6.5,
           0,
           0
          ],
          [
           "USA",
           "1938-11-10T20:18:41-10:00",
           8.2,
           0.3,
           0
          ],
          [
           "JAPAN",
           "1938-11-13T22:31:00-13:00",
           6,
           0.75,
           0
          ],
          [
           "JAPAN",
           "1938-11-16T11:08:00-16:00",
           6.9,
           0,
           0
          ],
          [
           "JAPAN",
           "1938-11-22T01:14:00-22:00",
           6.9,
           0.3,
           0
          ],
          [
           "JAPAN",
           null,
           7,
           0.2,
           0
          ],
          [
           "CHILE",
           null,
           8.3,
           0,
           30000
          ],
          [
           "ITALY",
           null,
           null,
           0,
           0
          ],
          [
           "PAPUA NEW GUINEA",
           null,
           7.7,
           0,
           5
          ],
          [
           "JAPAN",
           "1939-03-20T03:22:00-20:00",
           6.6,
           0.8,
           1
          ],
          [
           "CHILE",
           "1939-04-18T06:22:45-18:00",
           7.4,
           0,
           0
          ],
          [
           "SOLOMON ISLANDS",
           null,
           7.9,
           10.5,
           12
          ],
          [
           "JAPAN",
           "1939-05-01T05:58:00-01:00",
           7,
           1.2,
           27
          ],
          [
           "PHILIPPINES",
           "1939-05-06T17:00:07-06:00",
           6.5,
           0,
           0
          ],
          [
           "PORTUGAL",
           "1939-05-08T01:46:53-08:00",
           6.7,
           0.2,
           0
          ],
          [
           "GHANA",
           "1939-06-22T19:19:33-22:00",
           6.4,
           0,
           22
          ],
          [
           "GRENADA",
           null,
           null,
           2,
           0
          ],
          [
           "CUBA",
           "1939-08-15T03:52:00-15:00",
           5.6,
           0,
           0
          ],
          [
           "INDONESIA",
           "1939-12-21T21:00:40-21:00",
           8,
           0,
           0
          ],
          [
           "TURKEY",
           null,
           7.8,
           0.53,
           32700
          ],
          [
           "ITALY",
           "1940-01-15T13:19:24-15:00",
           5.1,
           0,
           0
          ],
          [
           "PERU",
           null,
           8.2,
           2,
           179
          ],
          [
           "JAPAN",
           "1940-08-01T15:08:24-01:00",
           7.5,
           5,
           10
          ],
          [
           "NORWAY",
           null,
           null,
           0,
           0
          ],
          [
           "CHILE",
           "1940-10-04T07:54:42-04:00",
           7.3,
           0,
           0
          ],
          [
           "CHILE",
           "1940-10-11T18:41:13-11:00",
           7,
           0,
           0
          ],
          [
           "PAPUA NEW GUINEA",
           "1941-01-13T16:27:44-13:00",
           7.4,
           0.15,
           4
          ],
          [
           "CYPRUS",
           "1941-01-20T03:37:01-20:00",
           6,
           0,
           0
          ],
          [
           "USA",
           "1941-02-09T09:44:04-09:00",
           6.6,
           0,
           0
          ],
          [
           "ITALY",
           "1941-03-16T18:48:00-16:00",
           null,
           0,
           0
          ],
          [
           "MEXICO",
           "1941-04-15T19:09:56-15:00",
           7.6,
           0,
           84
          ],
          [
           "INDIA",
           null,
           8,
           1.5,
           0
          ],
          [
           "SPAIN",
           "1941-07-07T00:00:00-07:00",
           null,
           6,
           0
          ],
          [
           "JAPAN",
           "1941-11-18T16:46:00-18:00",
           7.4,
           1.2,
           2
          ],
          [
           "ATLANTIC OCEAN",
           null,
           7.8,
           0.23,
           0
          ],
          [
           "COSTA RICA",
           "1941-12-05T20:46:58-05:00",
           7.6,
           0.21,
           6
          ],
          [
           "COSTA RICA",
           "1941-12-06T21:24:40-06:00",
           6.9,
           0.12,
           0
          ],
          [
           "COLOMBIA",
           "1942-05-22T10:30:36-22:00",
           5.8,
           1,
           0
          ],
          [
           "PERU",
           null,
           8.2,
           2,
           30
          ],
          [
           "CHILE",
           "1943-04-06T16:07:15-06:00",
           8.2,
           1,
           11
          ],
          [
           "JAPAN",
           "1943-06-13T05:12:00-13:00",
           7.1,
           0.6,
           0
          ],
          [
           "USA",
           "1944-04-09T02:30:00-09:00",
           null,
           9.14,
           0
          ],
          [
           "ITALY",
           "1944-08-20T06:30:00-20:00",
           null,
           0,
           0
          ],
          [
           "USA",
           "1944-09-14T00:00:00-14:00",
           null,
           0,
           0
          ],
          [
           "TURKEY",
           "1944-10-06T02:34:47-06:00",
           6.7,
           0,
           30
          ],
          [
           "JAPAN",
           "1944-12-07T04:35:00-07:00",
           8.1,
           10,
           1223
          ],
          [
           "JAPAN",
           "1945-01-12T18:38:00-12:00",
           7.1,
           1,
           2306
          ],
          [
           "JAPAN",
           "1945-02-10T04:57:00-10:00",
           7.3,
           0.4,
           2
          ],
          [
           "PAKISTAN",
           null,
           8,
           17,
           300
          ],
          [
           "USA",
           "1946-04-01T12:29:01-01:00",
           8.6,
           42,
           168
          ],
          [
           "CANADA",
           "1946-06-23T17:13:19-23:00",
           7.3,
           9,
           1
          ],
          [
           "CHILE",
           "1946-08-02T19:18:48-02:00",
           7.9,
           0,
           2
          ],
          [
           "DOMINICAN REPUBLIC",
           "1946-08-04T17:51:05-04:00",
           7.9,
           5,
           1790
          ],
          [
           "DOMINICAN REPUBLIC",
           "1946-08-08T13:28:33-08:00",
           7.5,
           0.6,
           75
          ],
          [
           "PERU",
           null,
           7,
           0,
           0
          ],
          [
           "USA",
           "1946-11-01T11:14:24-01:00",
           7,
           0,
           0
          ],
          [
           "RUSSIA",
           "1946-11-13T06:00:00-13:00",
           null,
           0,
           0
          ],
          [
           "JAPAN",
           "1946-12-20T19:19:10-20:00",
           8.3,
           6.6,
           1362
          ],
          [
           "NEW ZEALAND",
           null,
           7.1,
           10,
           0
          ],
          [
           "NEW ZEALAND",
           "1947-05-17T07:06:00-17:00",
           6.9,
           6,
           0
          ],
          [
           "GREECE",
           "1947-10-06T19:55:37-06:00",
           7.3,
           1,
           3
          ],
          [
           "JAPAN",
           "1947-11-04T00:09:10-04:00",
           7,
           2,
           0
          ],
          [
           "PHILIPPINES",
           null,
           7.8,
           0,
           74
          ],
          [
           "GREECE",
           "1948-02-09T12:58:18-09:00",
           7.3,
           7.3,
           0
          ],
          [
           "JAPAN",
           "1948-04-17T16:11:00-17:00",
           7.2,
           0.6,
           0
          ],
          [
           "GREECE",
           "1948-04-22T10:42:47-22:00",
           6.5,
           1,
           7
          ],
          [
           "CHINA",
           "1948-05-23T09:13:18-23:00",
           6,
           3,
           0
          ],
          [
           "INDONESIA",
           "1948-06-01T18:58:18-01:00",
           6.3,
           0,
           0
          ],
          [
           "TONGA",
           "1948-09-08T15:09:00-08:00",
           7.8,
           0.1,
           0
          ],
          [
           "MEXICO",
           "1948-12-04T00:22:49-04:00",
           6.6,
           0,
           4
          ],
          [
           "CHILE",
           null,
           7,
           0,
           0
          ],
          [
           "RUSSIA",
           null,
           5.9,
           0,
           0
          ],
          [
           "GREECE",
           "1949-02-09T13:28:39-09:00",
           null,
           0,
           0
          ],
          [
           "USA",
           "1949-04-13T19:56:00-13:00",
           7,
           0,
           8
          ],
          [
           "USA",
           "1949-04-16T10:55:00-16:00",
           null,
           2.4,
           0
          ],
          [
           "CHILE",
           "1949-04-20T03:29:07-20:00",
           7.3,
           0,
           0
          ],
          [
           "INDONESIA",
           "1949-05-09T13:36:18-09:00",
           6.7,
           0,
           0
          ],
          [
           "GREECE",
           "1949-07-23T15:03:35-23:00",
           6.5,
           2,
           7
          ],
          [
           "USA",
           null,
           null,
           19.81,
           0
          ],
          [
           "CANADA",
           "1949-08-22T04:01:00-22:00",
           8.1,
           0.61,
           0
          ],
          [
           "PHILIPPINES",
           "1949-09-05T02:54:01-05:00",
           6.4,
           0.1,
           0
          ],
          [
           "USA",
           null,
           6.7,
           0,
           0
          ],
          [
           "PAPUA NEW GUINEA",
           "1949-10-19T21:00:19-19:00",
           7.5,
           0.3,
           0
          ],
          [
           "CHILE",
           "1949-12-17T06:53:30-17:00",
           7.8,
           0,
           1
          ],
          [
           "CHILE",
           "1949-12-17T15:07:55-17:00",
           7.8,
           0,
           3
          ],
          [
           "PHILIPPINES",
           null,
           7.2,
           0,
           16
          ],
          [
           "CHILE",
           null,
           7,
           0,
           0
          ],
          [
           "NEW ZEALAND",
           "1950-03-14T18:10:41-14:00",
           5.8,
           0,
           0
          ],
          [
           "PANAMA",
           null,
           null,
           0,
           0
          ],
          [
           "VENEZUELA",
           "1950-08-03T22:18:22-03:00",
           6.4,
           0,
           100
          ],
          [
           "INDIA",
           "1950-08-15T14:09:30-15:00",
           8.6,
           0.5,
           1530
          ],
          [
           "COSTA RICA",
           "1950-10-05T16:09:31-05:00",
           7.7,
           2,
           0
          ],
          [
           "INDONESIA",
           "1950-10-08T03:23:09-08:00",
           7.6,
           0,
           1
          ],
          [
           "NORWAY",
           "1950-10-08T00:00:00-08:00",
           null,
           0,
           0
          ],
          [
           "GUATEMALA",
           "1950-10-23T16:13:20-23:00",
           7.5,
           0.2,
           0
          ],
          [
           "SOLOMON ISLANDS",
           "1950-11-08T02:18:12-08:00",
           7.3,
           1.2,
           0
          ],
          [
           "VANUATU",
           "1950-12-02T19:51:49-02:00",
           7.8,
           2.5,
           0
          ],
          [
           "PERU",
           "1950-12-10T02:50:42-10:00",
           7,
           0.7,
           4
          ],
          [
           "MEXICO",
           "1950-12-14T14:15:49-14:00",
           7.5,
           0.3,
           0
          ],
          [
           "PAPUA NEW GUINEA",
           "1951-02-22T01:45:48-22:00",
           6.1,
           6,
           0
          ],
          [
           "USA",
           "1951-02-23T16:45:00-23:00",
           null,
           3,
           0
          ],
          [
           "NICARAGUA",
           "1951-08-03T00:23:58-03:00",
           6,
           0,
           0
          ],
          [
           "USA",
           "1951-08-21T10:57:00-21:00",
           6.9,
           3.6,
           0
          ],
          [
           "TAIWAN",
           "1951-10-22T05:43:01-22:00",
           7.3,
           0.3,
           68
          ],
          [
           "USA TERRITORY",
           "1951-12-02T00:00:00-02:00",
           null,
           0,
           0
          ],
          [
           "BARBADOS",
           "1951-12-02T00:00:00-02:00",
           null,
           0,
           0
          ],
          [
           "CHINA",
           "1951-12-21T08:37:29-21:00",
           6.3,
           2,
           0
          ],
          [
           "SOLOMON ISLANDS",
           "1951-12-22T00:00:00-22:00",
           null,
           0,
           0
          ],
          [
           "NORWAY",
           "1952-01-09T08:00:00-09:00",
           null,
           2,
           0
          ],
          [
           "JAPAN",
           "1952-03-04T01:22:41-04:00",
           8.1,
           6.54,
           33
          ],
          [
           "JAPAN",
           "1952-03-09T17:04:00-09:00",
           7,
           0.3,
           0
          ],
          [
           "USA",
           "1952-03-17T03:58:00-17:00",
           4.5,
           3,
           0
          ],
          [
           "USA",
           "1952-03-18T00:00:00-18:00",
           null,
           0,
           0
          ],
          [
           "PHILIPPINES",
           "1952-03-19T10:57:12-19:00",
           7.8,
           0.33,
           0
          ],
          [
           "USA",
           "1952-04-10T11:00:00-10:00",
           null,
           19.81,
           0
          ],
          [
           "USA",
           "1952-05-06T00:00:00-06:00",
           null,
           1.52,
           0
          ],
          [
           "COSTA RICA",
           "1952-05-13T19:31:42-13:00",
           6.4,
           0.07,
           0
          ],
          [
           "VANUATU",
           "1952-07-13T11:58:33-13:00",
           6.8,
           0,
           0
          ],
          [
           "USA TERRITORY",
           "1952-08-17T00:00:00-17:00",
           null,
           0,
           0
          ],
          [
           "JAPAN",
           "1952-09-16T02:50:00-16:00",
           null,
           0.28,
           0
          ],
          [
           "JAPAN",
           "1952-09-17T00:00:00-17:00",
           null,
           0,
           0
          ],
          [
           "JAPAN",
           "1952-09-23T04:20:00-23:00",
           null,
           0.05,
           0
          ],
          [
           "JAPAN",
           null,
           null,
           0.46,
           31
          ],
          [
           "JAPAN",
           null,
           null,
           0.36,
           0
          ],
          [
           "USA",
           "1952-10-13T13:00:00-13:00",
           null,
           0,
           0
          ],
          [
           "RUSSIA",
           "1952-11-04T16:58:27-04:00",
           9,
           23,
           10000
          ],
          [
           "BARBADOS",
           "1952-12-02T00:00:00-02:00",
           null,
           0,
           0
          ],
          [
           "GREENLAND",
           "1952-12-15T17:00:00-15:00",
           null,
           2.5,
           1
          ],
          [
           "USA",
           "1953-02-14T16:15:00-14:00",
           null,
           0,
           0
          ],
          [
           "PERU",
           "1953-02-15T00:00:00-15:00",
           5.5,
           0.7,
           0
          ],
          [
           "USA",
           "1953-02-16T11:43:00-16:00",
           null,
           4.8,
           0
          ],
          [
           "JAPAN",
           "1953-03-11T00:00:00-11:00",
           null,
           6,
           0
          ],
          [
           "RUSSIA",
           "1953-03-17T13:04:00-17:00",
           5.8,
           3,
           0
          ],
          [
           "JAPAN",
           null,
           null,
           0.05,
           0
          ],
          [
           "PAPUA NEW GUINEA",
           "1953-04-23T16:24:34-23:00",
           7.4,
           0,
           0
          ],
          [
           "CHILE",
           "1953-05-06T17:16:43-06:00",
           7.6,
           0,
           9
          ],
          [
           "DOMINICAN REPUBLIC",
           null,
           7.2,
           0.06,
           0
          ],
          [
           "PAPUA NEW GUINEA",
           null,
           null,
           0,
           0
          ],
          [
           "GREECE",
           "1953-08-11T03:32:00-11:00",
           6.8,
           1,
           0
          ],
          [
           "GREECE",
           "1953-08-12T09:23:52-12:00",
           7.2,
           0,
           476
          ],
          [
           "USA",
           "1953-08-19T19:00:00-19:00",
           null,
           0,
           0
          ],
          [
           "CYPRUS",
           "1953-09-10T04:06:04-10:00",
           6.3,
           0,
           40
          ],
          [
           "FIJI",
           "1953-09-14T00:26:36-14:00",
           6.4,
           15,
           8
          ],
          [
           "AUSTRALIA",
           "1953-11-14T00:00:00-14:00",
           null,
           2.4,
           1
          ],
          [
           "JAPAN",
           null,
           7.4,
           3,
           1
          ],
          [
           "PERU",
           "1953-12-12T17:31:25-12:00",
           7.4,
           1,
           6
          ],
          [
           "ARGENTINA",
           "1954-01-21T14:00:00-21:00",
           null,
           1,
           0
          ],
          [
           "CHINA",
           "1954-02-11T00:30:15-11:00",
           7.3,
           0,
           0
          ],
          [
           "USA",
           null,
           null,
           3,
           7
          ],
          [
           "ALGERIA",
           "1954-09-09T01:04:43-09:00",
           6.7,
           0.33,
           1243
          ],
          [
           "JAPAN",
           "1954-11-18T20:44:55-18:00",
           6.1,
           0,
           0
          ],
          [
           "VENEZUELA",
           "1955-01-18T00:00:00-18:00",
           5.5,
           0,
           0
          ],
          [
           "PHILIPPINES",
           null,
           7.4,
           0,
           465
          ],
          [
           "GREECE",
           "1955-04-19T16:47:19-19:00",
           6.2,
           0,
           8
          ],
          [
           "CHILE",
           "1955-04-19T20:24:05-19:00",
           7.1,
           1,
           1
          ],
          [
           "INDIA",
           "1955-05-17T14:49:49-17:00",
           7.3,
           0,
           0
          ],
          [
           "GREECE",
           "1955-07-16T07:07:14-16:00",
           6.6,
           2,
           23
          ],
          [
           "PAPUA NEW GUINEA",
           "1955-09-08T03:27:14-08:00",
           6.5,
           0,
           0
          ],
          [
           "CHINA",
           "1955-09-23T15:06:23-23:00",
           6.8,
           1,
           0
          ],
          [
           "PAPUA NEW GUINEA",
           "1955-10-10T08:57:52-10:00",
           7.3,
           0,
           0
          ],
          [
           "CHILE",
           "1956-01-08T20:54:13-08:00",
           7.1,
           0,
           0
          ],
          [
           "NEW ZEALAND",
           "1956-03-02T22:43:00-02:00",
           5.3,
           0.9,
           0
          ],
          [
           "JAPAN",
           "1956-03-05T23:29:00-05:00",
           6.3,
           0.4,
           0
          ],
          [
           "RUSSIA",
           null,
           null,
           0.3,
           0
          ],
          [
           "GREECE",
           "1956-07-09T03:11:45-09:00",
           7.7,
           30,
           56
          ],
          [
           "GREECE",
           "1956-07-09T03:24:00-09:00",
           6.8,
           10,
           0
          ],
          [
           "JAPAN",
           "1956-08-12T16:59:37-12:00",
           6.5,
           0,
           0
          ],
          [
           "GREECE",
           "1956-11-02T16:04:33-02:00",
           5.8,
           1.2,
           0
          ],
          [
           "CHILE",
           "1956-12-18T02:31:03-18:00",
           7,
           0,
           0
          ],
          [
           "USA",
           "1957-03-09T14:22:31-09:00",
           8.6,
           32,
           2
          ],
          [
           "INDONESIA",
           "1957-06-22T23:50:23-22:00",
           7.3,
           1.8,
           0
          ],
          [
           "MEXICO",
           null,
           7.9,
           1.3,
           65
          ],
          [
           "CHILE",
           null,
           7,
           0,
           0
          ],
          [
           "INDONESIA",
           null,
           5.5,
           0.7,
           0
          ],
          [
           "INDONESIA",
           null,
           6,
           0,
           0
          ],
          [
           "USA",
           "1957-11-01T05:00:00-01:00",
           null,
           0.1,
           0
          ],
          [
           "ECUADOR",
           "1958-01-19T14:07:27-19:00",
           7.6,
           0,
           115
          ],
          [
           "CHINA",
           "1958-02-07T23:23:36-07:00",
           6.2,
           0,
           0
          ],
          [
           "CANADA",
           "1958-04-05T17:31:00-05:00",
           null,
           0.46,
           0
          ],
          [
           "PERU",
           "1958-04-09T00:00:00-09:00",
           null,
           0,
           0
          ],
          [
           "INDONESIA",
           "1958-04-21T22:37:46-21:00",
           6.5,
           0,
           0
          ],
          [
           "USA",
           "1958-07-10T06:15:59-10:00",
           7.8,
           524.6,
           5
          ],
          [
           "RUSSIA",
           "1958-09-17T12:24:00-17:00",
           5,
           0.23,
           0
          ],
          [
           "VANUATU",
           "1958-10-07T10:00:00-07:00",
           null,
           0,
           0
          ],
          [
           "PACIFIC OCEAN",
           "1958-11-04T22:54:46-04:00",
           6.1,
           0.1,
           0
          ],
          [
           "RUSSIA",
           "1958-11-06T22:58:08-06:00",
           8.3,
           5,
           0
          ],
          [
           "RUSSIA",
           "1958-11-12T20:23:00-12:00",
           7,
           1,
           0
          ],
          [
           "JAPAN",
           "1959-01-22T05:10:00-22:00",
           6.8,
           0.8,
           0
          ],
          [
           "PERU",
           "1959-02-07T09:36:51-07:00",
           7.4,
           0.4,
           0
          ],
          [
           "GREECE",
           "1959-02-23T00:00:00-23:00",
           null,
           1,
           0
          ],
          [
           "RUSSIA",
           "1959-04-09T12:24:20-09:00",
           5,
           0.1,
           0
          ],
          [
           "RUSSIA",
           "1959-05-04T07:15:42-04:00",
           8.2,
           0.2,
           0
          ],
          [
           "NORWAY",
           "1959-05-07T00:00:00-07:00",
           null,
           4,
           9
          ],
          [
           "SOLOMON ISLANDS",
           "1959-08-17T21:04:40-17:00",
           7.3,
           1,
           0
          ],
          [
           "USA",
           "1959-08-18T06:37:20-18:00",
           7.2,
           1,
           28
          ],
          [
           "RUSSIA",
           null,
           6.5,
           0,
           0
          ],
          [
           "JAPAN",
           null,
           6.7,
           0.11,
           0
          ],
          [
           "PERU",
           "1960-01-13T15:40:34-13:00",
           7.8,
           5.7,
           0
          ],
          [
           "MOROCCO",
           null,
           6.8,
           0,
           13100
          ],
          [
           "JAPAN",
           "1960-03-20T17:07:30-20:00",
           7.5,
           1,
           0
          ],
          [
           "JAPAN",
           "1960-03-23T00:23:00-23:00",
           6.7,
           0.75,
           0
          ],
          [
           "CHILE",
           "1960-05-21T10:02:50-21:00",
           8.2,
           0.5,
           0
          ],
          [
           "CHILE",
           "1960-05-22T19:11:17-22:00",
           9.5,
           25,
           2226
          ],
          [
           "CHILE",
           null,
           6.7,
           0,
           0
          ],
          [
           "PAPUA NEW GUINEA",
           "1960-06-11T15:14:09-11:00",
           6.6,
           0,
           0
          ],
          [
           "JAPAN",
           null,
           6.7,
           0.3,
           0
          ],
          [
           "CHILE",
           "1960-11-01T08:45:59-01:00",
           7.4,
           0,
           0
          ],
          [
           "PERU",
           "1960-11-20T22:01:56-20:00",
           6.8,
           9,
           66
          ],
          [
           "JAPAN",
           "1961-01-16T07:20:00-16:00",
           6.8,
           0.4,
           0
          ],
          [
           "JAPAN",
           "1961-01-16T11:19:00-16:00",
           6.4,
           0.4,
           0
          ],
          [
           "JAPAN",
           "1961-01-16T12:12:00-16:00",
           6.5,
           0.4,
           0
          ],
          [
           "RUSSIA",
           "1961-02-12T21:53:00-12:00",
           6.6,
           1,
           0
          ],
          [
           "JAPAN",
           null,
           7.6,
           0.65,
           2
          ],
          [
           "SOLOMON ISLANDS",
           "1961-03-18T00:00:00-18:00",
           null,
           3.6,
           0
          ],
          [
           "TURKEY",
           "1961-05-23T02:45:19-23:00",
           6.4,
           0,
           0
          ],
          [
           "ITALY",
           "1961-06-06T00:00:00-06:00",
           null,
           0.9,
           0
          ],
          [
           "COLOMBIA",
           "1961-06-16T10:31:57-16:00",
           6.5,
           0,
           0
          ],
          [
           "JAPAN",
           "1961-07-18T14:04:00-18:00",
           6.6,
           0.2,
           0
          ],
          [
           "VANUATU",
           "1961-07-23T21:51:10-23:00",
           7.3,
           0.9,
           0
          ],
          [
           "SOLOMON ISLANDS",
           "1961-08-01T05:39:54-01:00",
           6.4,
           0.9,
           0
          ],
          [
           "JAPAN",
           "1961-08-11T15:51:00-11:00",
           7,
           0.1,
           0
          ],
          [
           "CHILE",
           "1961-10-18T16:51:57-18:00",
           6.5,
           0,
           0
          ],
          [
           "JAPAN",
           "1961-11-15T07:17:00-15:00",
           6.9,
           0.1,
           0
          ],
          [
           "CROATIA",
           "1962-01-11T05:05:00-11:00",
           6.1,
           0.04,
           1
          ],
          [
           "PANAMA",
           "1962-03-12T11:40:16-12:00",
           6.8,
           0.1,
           0
          ],
          [
           "JAPAN",
           "1962-04-12T00:52:43-12:00",
           7.2,
           1,
           0
          ],
          [
           "JAPAN",
           "1962-04-23T05:58:00-23:00",
           7,
           0.1,
           0
          ],
          [
           "MEXICO",
           "1962-05-11T14:11:54-11:00",
           7,
           0.81,
           4
          ],
          [
           "MEXICO",
           "1962-05-19T14:58:15-19:00",
           7.2,
           0.34,
           3
          ],
          [
           "JAPAN",
           "1962-05-21T12:21:00-21:00",
           5.7,
           0.1,
           0
          ],
          [
           "GREECE",
           null,
           4.5,
           0,
           0
          ],
          [
           "USA",
           "1962-12-21T08:42:43-21:00",
           6.5,
           0,
           0
          ],
          [
           "GREECE",
           "1963-02-07T19:28:00-07:00",
           null,
           6,
           2
          ],
          [
           "TAIWAN",
           "1963-02-13T08:50:04-13:00",
           7.3,
           0.2,
           15
          ],
          [
           "CANADA",
           null,
           null,
           5.5,
           1
          ],
          [
           "INDONESIA",
           null,
           null,
           0,
           1028
          ],
          [
           "TURKEY",
           "1963-09-18T16:58:14-18:00",
           6.2,
           1,
           1
          ],
          [
           "PERU",
           null,
           7,
           0,
           1
          ],
          [
           "ITALY",
           "1963-10-09T21:39:00-09:00",
           null,
           235,
           2000
          ],
          [
           "RUSSIA",
           "1963-10-12T11:27:00-12:00",
           7.1,
           0.12,
           0
          ],
          [
           "RUSSIA",
           "1963-10-13T05:17:53-13:00",
           8.5,
           4.5,
           0
          ],
          [
           "RUSSIA",
           "1963-10-20T00:53:10-20:00",
           7.9,
           15,
           0
          ],
          [
           "INDONESIA",
           "1963-12-16T01:51:31-16:00",
           6.6,
           0,
           0
          ],
          [
           "TONGA",
           "1963-12-18T00:30:00-18:00",
           7.2,
           0,
           0
          ],
          [
           "USA",
           "1964-03-20T16:00:00-20:00",
           null,
           0.08,
           0
          ],
          [
           "USA",
           null,
           9.2,
           51.8,
           139
          ],
          [
           "INDONESIA",
           "1964-04-02T01:11:51-02:00",
           7,
           0,
           0
          ],
          [
           "JAPAN",
           "1964-05-07T07:58:00-07:00",
           6.9,
           0.6,
           0
          ],
          [
           "JAPAN",
           "1964-05-07T20:13:00-07:00",
           6.6,
           0,
           0
          ],
          [
           "USA",
           "1964-05-19T00:00:00-19:00",
           null,
           0.28,
           0
          ],
          [
           "JAPAN",
           "1964-06-16T04:01:44-16:00",
           7.5,
           5.8,
           26
          ],
          [
           "RUSSIA",
           null,
           6.8,
           0.08,
           0
          ],
          [
           "PAPUA NEW GUINEA",
           "1964-11-17T08:15:39-17:00",
           7.6,
           0.05,
           0
          ],
          [
           "JAPAN",
           "1964-12-10T15:11:07-10:00",
           6.3,
           0.1,
           0
          ],
          [
           "INDONESIA",
           null,
           7.6,
           0,
           71
          ],
          [
           "USA",
           null,
           null,
           0,
           1
          ],
          [
           "USA",
           "1965-02-04T05:01:22-04:00",
           8.7,
           10.7,
           0
          ],
          [
           "CHILE",
           "1965-02-19T00:00:00-19:00",
           null,
           60,
           27
          ],
          [
           "CHILE",
           "1965-02-23T22:11:46-23:00",
           7,
           0,
           0
          ],
          [
           "GREECE",
           "1965-03-09T17:57:53-09:00",
           6.3,
           0,
           38
          ],
          [
           "CHILE",
           "1965-03-22T22:56:28-22:00",
           6,
           0,
           0
          ],
          [
           "USA",
           null,
           7.6,
           0.1,
           0
          ],
          [
           "JAPAN",
           "1965-04-19T23:42:00-19:00",
           6,
           0.1,
           0
          ],
          [
           "RUSSIA",
           "1965-06-11T03:34:02-11:00",
           7.2,
           0.1,
           0
          ],
          [
           "USA",
           "1965-07-02T20:58:38-02:00",
           6.5,
           0.08,
           0
          ],
          [
           "GREECE",
           "1965-07-06T03:18:45-06:00",
           6.1,
           3,
           2
          ],
          [
           "VANUATU",
           "1965-08-11T22:31:45-11:00",
           7,
           7,
           0
          ],
          [
           "VANUATU",
           "1965-08-13T12:40:32-13:00",
           7.4,
           2,
           0
          ],
          [
           "MEXICO",
           "1965-08-23T19:46:02-23:00",
           7.8,
           0.4,
           6
          ],
          [
           "PHILIPPINES",
           null,
           null,
           4.7,
           355
          ],
          [
           "CHILE",
           "1965-10-03T16:14:56-03:00",
           6.5,
           0,
           0
          ],
          [
           "GRENADA",
           null,
           null,
           0,
           0
          ],
          [
           "TAIWAN",
           "1966-03-12T16:31:21-12:00",
           7.6,
           0.1,
           7
          ],
          [
           "NORWAY",
           "1966-05-08T00:00:00-08:00",
           null,
           6,
           0
          ],
          [
           "SOLOMON ISLANDS",
           "1966-06-15T00:59:42-15:00",
           7.1,
           0.2,
           0
          ],
          [
           "RUSSIA",
           "1966-07-12T18:53:00-12:00",
           5.5,
           0.2,
           0
          ],
          [
           "PERU",
           "1966-10-17T21:41:56-17:00",
           8.1,
           3,
           110
          ],
          [
           "SOLOMON ISLANDS",
           null,
           null,
           0,
           0
          ],
          [
           "CHILE",
           null,
           7.8,
           0.42,
           3
          ],
          [
           "SOLOMON ISLANDS",
           null,
           7.8,
           2,
           0
          ],
          [
           "SOLOMON ISLANDS",
           null,
           7.2,
           0.8,
           0
          ],
          [
           "ICELAND",
           "1967-01-15T13:47:55-15:00",
           null,
           75,
           0
          ],
          [
           "RUSSIA",
           "1967-03-19T04:01:38-19:00",
           7,
           0,
           0
          ],
          [
           "INDONESIA",
           "1967-04-11T05:09:12-11:00",
           5.5,
           0,
           71
          ],
          [
           "INDONESIA",
           "1967-04-12T04:51:50-12:00",
           6.1,
           0,
           14
          ],
          [
           "VENEZUELA",
           null,
           6.6,
           0.08,
           300
          ],
          [
           "PAPUA NEW GUINEA",
           "1967-08-13T22:15:10-13:00",
           6.4,
           0.1,
           0
          ],
          [
           "PERU",
           "1967-09-03T00:00:00-03:00",
           7,
           2,
           0
          ],
          [
           "CHILE",
           "1967-11-15T21:31:54-15:00",
           5.9,
           0,
           0
          ],
          [
           "ANTARCTICA",
           "1967-12-04T00:00:00-04:00",
           null,
           1,
           0
          ],
          [
           "USA TERRITORY",
           "1967-12-04T00:00:00-04:00",
           null,
           0,
           0
          ],
          [
           "CHILE",
           "1967-12-21T02:25:23-21:00",
           7.5,
           0,
           1
          ],
          [
           "RUSSIA",
           null,
           7.3,
           0.18,
           0
          ],
          [
           "GREECE",
           "1968-02-19T22:45:45-19:00",
           7.2,
           1.2,
           20
          ],
          [
           "JAPAN",
           "1968-04-01T00:42:04-01:00",
           7.5,
           3.07,
           1
          ],
          [
           "ITALY",
           "1968-04-18T19:38:15-18:00",
           4.6,
           3,
           0
          ],
          [
           "CHILE",
           "1968-05-04T00:00:00-04:00",
           null,
           0,
           0
          ],
          [
           "JAPAN",
           "1968-05-16T00:48:55-16:00",
           8.2,
           6,
           52
          ],
          [
           "JAPAN",
           "1968-05-16T10:39:01-16:00",
           7.5,
           0.58,
           0
          ],
          [
           "JAPAN",
           "1968-06-12T13:41:50-12:00",
           7.2,
           0.95,
           0
          ],
          [
           "NEW ZEALAND",
           null,
           7.3,
           0.05,
           0
          ],
          [
           "PHILIPPINES",
           "1968-08-01T20:19:21-01:00",
           7.3,
           0.16,
           270
          ],
          [
           "MEXICO",
           "1968-08-02T14:06:43-02:00",
           7.3,
           0,
           18
          ],
          [
           "JAPAN",
           "1968-08-05T07:17:00-05:00",
           6.5,
           0.03,
           0
          ],
          [
           "INDONESIA",
           "1968-08-10T02:07:04-10:00",
           7.6,
           0.4,
           0
          ],
          [
           "INDONESIA",
           "1968-08-14T22:14:19-14:00",
           7.8,
           10,
           200
          ],
          [
           "TURKEY",
           "1968-09-03T08:19:52-03:00",
           6.6,
           3,
           24
          ],
          [
           "VENEZUELA",
           "1968-09-20T06:00:05-20:00",
           6.5,
           0,
           3
          ],
          [
           "MEXICO",
           null,
           6.1,
           2,
           20
          ],
          [
           "INDONESIA",
           "1969-02-23T00:36:58-23:00",
           7,
           4,
           664
          ],
          [
           "PORTUGAL",
           null,
           7.8,
           0.9,
           25
          ],
          [
           "PHILIPPINES",
           "1969-03-21T00:00:00-21:00",
           null,
           0,
           3
          ],
          [
           "EGYPT",
           null,
           7,
           0,
           2
          ],
          [
           "SWEDEN",
           "1969-04-12T05:44:00-12:00",
           null,
           5,
           0
          ],
          [
           "JAPAN",
           "1969-04-21T07:19:00-21:00",
           6.5,
           0.1,
           0
          ],
          [
           "ATLANTIC OCEAN",
           "1969-07-17T05:00:00-17:00",
           null,
           0.06,
           0
          ],
          [
           "CHINA",
           "1969-07-18T05:24:50-18:00",
           7.4,
           0.1,
           10
          ],
          [
           "PAPUA NEW GUINEA",
           "1969-08-02T04:30:29-02:00",
           5.4,
           0,
           0
          ],
          [
           "RUSSIA",
           "1969-08-11T21:26:36-11:00",
           8.2,
           5,
           0
          ],
          [
           "SOUTH AFRICA",
           null,
           null,
           2.9,
           0
          ],
          [
           "RUSSIA",
           "1969-11-22T23:09:37-22:00",
           7.7,
           15,
           0
          ],
          [
           "GUADELOUPE (FRENCH TERRITORY)",
           null,
           7.2,
           0.23,
           0
          ],
          [
           "PHILIPPINES",
           "1970-01-10T12:07:08-10:00",
           7.6,
           0.06,
           0
          ],
          [
           "USA",
           "1970-03-11T22:38:34-11:00",
           6,
           0.03,
           0
          ],
          [
           "PHILIPPINES",
           "1970-04-07T05:34:05-07:00",
           7.3,
           4.27,
           15
          ],
          [
           "RUSSIA",
           "1970-05-14T18:12:00-14:00",
           6.5,
           0,
           0
          ],
          [
           "PERU",
           null,
           7.9,
           0.46,
           66794
          ],
          [
           "CHILE",
           "1970-06-14T00:00:00-14:00",
           6,
           0,
           0
          ],
          [
           "CHILE",
           "1970-06-19T10:56:13-19:00",
           6.4,
           0,
           0
          ],
          [
           "JAPAN",
           null,
           7,
           0.32,
           0
          ],
          [
           "NEW ZEALAND",
           null,
           5.1,
           1,
           0
          ],
          [
           "PHILIPPINES",
           null,
           6,
           0,
           0
          ],
          [
           "PAPUA NEW GUINEA",
           null,
           7.3,
           3,
           18
          ],
          [
           "CHILE",
           null,
           6,
           0,
           0
          ],
          [
           "RUSSIA",
           "1970-12-04T01:59:25-04:00",
           5.1,
           0.8,
           0
          ],
          [
           "PERU",
           "1971-03-19T00:00:00-19:00",
           null,
           30,
           600
          ],
          [
           "USA",
           "1971-05-02T06:08:27-02:00",
           7.1,
           0.04,
           0
          ],
          [
           "CHILE",
           "1971-07-09T03:03:18-09:00",
           7.8,
           0.6,
           83
          ],
          [
           "PAPUA NEW GUINEA",
           "1971-07-14T06:11:29-14:00",
           7.9,
           6,
           3
          ],
          [
           "PAPUA NEW GUINEA",
           null,
           7.9,
           10,
           0
          ],
          [
           "JAPAN",
           "1971-08-02T07:24:56-02:00",
           7.3,
           0.51,
           0
          ],
          [
           "RUSSIA",
           "1971-09-05T18:35:25-05:00",
           7.1,
           2,
           0
          ],
          [
           "RUSSIA",
           "1971-09-06T13:37:10-06:00",
           5.5,
           0.32,
           0
          ],
          [
           "SOLOMON ISLANDS",
           "1971-09-06T20:00:00-06:00",
           null,
           0,
           0
          ],
          [
           "RUSSIA",
           "1971-09-08T11:48:23-08:00",
           6.6,
           0.09,
           0
          ],
          [
           "RUSSIA",
           "1971-09-08T16:59:52-08:00",
           6.2,
           0.07,
           0
          ],
          [
           "PAPUA NEW GUINEA",
           null,
           7,
           1.8,
           0
          ],
          [
           "RUSSIA",
           null,
           6,
           0.03,
           0
          ],
          [
           "USA",
           "1971-11-06T22:00:00-06:00",
           5.7,
           0.1,
           0
          ],
          [
           "RUSSIA",
           "1971-12-15T08:29:55-15:00",
           7.8,
           0.47,
           0
          ],
          [
           "TAIWAN",
           null,
           7.5,
           0.05,
           1
          ],
          [
           "JAPAN",
           null,
           7.4,
           0.42,
           0
          ],
          [
           "CHILE",
           "1972-06-08T18:53:41-08:00",
           6.6,
           0,
           0
          ],
          [
           "USA",
           null,
           7.6,
           0.1,
           0
          ],
          [
           "PAPUA NEW GUINEA",
           "1972-08-17T23:44:05-17:00",
           7.1,
           0.6,
           0
          ],
          [
           "PAPUA NEW GUINEA",
           null,
           null,
           1.5,
           0
          ],
          [
           "JAPAN",
           "1972-09-06T11:42:23-06:00",
           5.2,
           0,
           0
          ],
          [
           "PAPUA NEW GUINEA",
           "1972-10-09T00:00:00-09:00",
           null,
           0,
           0
          ],
          [
           "PHILIPPINES",
           "1972-12-02T00:19:47-02:00",
           7.4,
           0.5,
           0
          ],
          [
           "JAPAN",
           "1972-12-04T10:16:12-04:00",
           7.4,
           0.5,
           0
          ],
          [
           "CHILE",
           null,
           5.4,
           0,
           0
          ],
          [
           "MEXICO",
           null,
           7.5,
           1.13,
           56
          ],
          [
           "RUSSIA",
           null,
           7.2,
           1.5,
           0
          ],
          [
           "PHILIPPINES",
           "1973-03-17T08:30:51-17:00",
           7.5,
           1.3,
           15
          ],
          [
           "JAPAN",
           "1973-06-17T03:55:02-17:00",
           7.7,
           5.96,
           0
          ],
          [
           "RUSSIA",
           null,
           7.1,
           0.64,
           0
          ],
          [
           "RUSSIA",
           null,
           6.6,
           0.21,
           0
          ],
          [
           "CHILE",
           "1973-10-05T05:47:51-05:00",
           6.7,
           0.2,
           0
          ],
          [
           "SOLOMON ISLANDS",
           null,
           7,
           1.5,
           0
          ],
          [
           "SOLOMON ISLANDS",
           "1974-02-01T03:12:33-01:00",
           7.1,
           4.5,
           0
          ],
          [
           "JAPAN",
           "1974-05-08T23:33:25-08:00",
           6.7,
           0.2,
           30
          ],
          [
           "CHILE",
           "1974-08-18T10:44:12-18:00",
           7.1,
           0,
           0
          ],
          [
           "RUSSIA",
           null,
           6.7,
           0.37,
           0
          ],
          [
           "PERU",
           "1974-10-03T14:21:29-03:00",
           8.1,
           0.92,
           78
          ],
          [
           "CANADA",
           "1974-10-17T19:05:00-17:00",
           null,
           2.8,
           0
          ],
          [
           "PAPUA NEW GUINEA",
           "1974-10-17T00:00:00-17:00",
           null,
           0.5,
           0
          ],
          [
           "PAKISTAN",
           null,
           6.2,
           0,
           5300
          ],
          [
           "INDONESIA",
           "1975-01-15T09:42:24-15:00",
           5.9,
           0,
           0
          ],
          [
           "INDONESIA",
           "1975-03-05T00:22:19-05:00",
           6.6,
           1.2,
           0
          ],
          [
           "CHILE",
           "1975-03-13T15:26:42-13:00",
           6.9,
           0,
           2
          ],
          [
           "CANADA",
           null,
           null,
           4.1,
           0
          ],
          [
           "ATLANTIC OCEAN",
           null,
           7.8,
           0.5,
           0
          ],
          [
           "RUSSIA",
           "1975-06-10T13:47:14-10:00",
           7,
           5.5,
           0
          ],
          [
           "PAPUA NEW GUINEA",
           "1975-07-20T14:37:39-20:00",
           7.9,
           2,
           0
          ],
          [
           "PHILIPPINES",
           null,
           7.6,
           3,
           1
          ],
          [
           "USA",
           null,
           7.7,
           14.3,
           2
          ],
          [
           "FIJI",
           "1975-12-16T21:01:39-16:00",
           4.9,
           0.25,
           0
          ],
          [
           "SAMOA",
           null,
           7.8,
           0.38,
           0
          ],
          [
           "NEW ZEALAND",
           "1976-01-14T16:47:33-14:00",
           8,
           0.9,
           0
          ],
          [
           "RUSSIA",
           "1976-01-21T10:05:24-21:00",
           7,
           0.38,
           0
          ],
          [
           "GUATEMALA",
           "1976-02-04T09:01:43-04:00",
           7.5,
           0.12,
           23000
          ],
          [
           "PANAMA",
           "1976-07-11T16:54:31-11:00",
           6.7,
           0,
           5
          ],
          [
           "PHILIPPINES",
           "1976-08-16T16:11:07-16:00",
           8,
           9,
           8000
          ],
          [
           "BRAZIL",
           "1977-03-08T00:00:00-08:00",
           null,
           0,
           1
          ],
          [
           "SAMOA",
           "1977-04-02T07:15:22-02:00",
           7.6,
           0.08,
           0
          ],
          [
           "SOLOMON ISLANDS",
           "1977-04-20T23:13:10-20:00",
           6.8,
           0.15,
           34
          ],
          [
           "SOLOMON ISLANDS",
           "1977-04-20T23:42:50-20:00",
           7.6,
           0,
           0
          ],
          [
           "SOLOMON ISLANDS",
           "1977-04-21T04:24:09-21:00",
           8.1,
           0.04,
           18
          ],
          [
           "TONGA",
           "1977-06-22T12:08:33-22:00",
           7.2,
           0.4,
           1
          ],
          [
           "INDONESIA",
           "1977-08-19T06:08:55-19:00",
           8.3,
           15,
           189
          ],
          [
           "PAPUA NEW GUINEA",
           "1977-08-20T00:00:00-20:00",
           5.5,
           0.5,
           0
          ],
          [
           "PAPUA NEW GUINEA",
           null,
           5.5,
           0.6,
           0
          ],
          [
           "TONGA",
           "1977-10-10T11:53:53-10:00",
           7.2,
           0.03,
           0
          ],
          [
           "JAPAN",
           "1978-01-14T03:24:39-14:00",
           6.6,
           0.35,
           25
          ],
          [
           "RUSSIA",
           "1978-03-22T00:50:32-22:00",
           6.7,
           0.07,
           0
          ],
          [
           "RUSSIA",
           "1978-03-22T21:34:33-22:00",
           6.6,
           0.05,
           0
          ],
          [
           "RUSSIA",
           "1978-03-23T00:31:02-23:00",
           6.8,
           0.17,
           0
          ],
          [
           "RUSSIA",
           "1978-03-23T03:15:20-23:00",
           7.5,
           0.3,
           0
          ],
          [
           "RUSSIA",
           null,
           7.6,
           0.65,
           0
          ],
          [
           "NORWAY",
           null,
           null,
           6.8,
           1
          ],
          [
           "JAPAN",
           "1978-06-12T08:14:26-12:00",
           7.7,
           0.6,
           28
          ],
          [
           "INDIA",
           "1978-06-12T00:00:00-12:00",
           null,
           0,
           0
          ],
          [
           "PHILIPPINES",
           "1978-06-14T12:32:33-14:00",
           6.9,
           0.03,
           0
          ],
          [
           "GREECE",
           "1978-06-20T20:03:21-20:00",
           6.4,
           0.45,
           50
          ],
          [
           "ITALY",
           "1978-06-21T00:00:00-21:00",
           null,
           3,
           0
          ],
          [
           "TAIWAN",
           "1978-07-23T14:42:36-23:00",
           7.4,
           0.05,
           0
          ],
          [
           "SPAIN",
           "1978-08-14T14:17:50-14:00",
           4.4,
           0.12,
           0
          ],
          [
           "NEW ZEALAND",
           "1978-10-10T00:00:00-10:00",
           null,
           0,
           0
          ],
          [
           "MEXICO",
           null,
           7.8,
           1.5,
           9
          ],
          [
           "JAPAN",
           "1979-02-20T06:32:32-20:00",
           6.4,
           0.12,
           0
          ],
          [
           "USA",
           null,
           7.5,
           0.15,
           0
          ],
          [
           "MEXICO",
           "1979-03-14T11:07:16-14:00",
           7.6,
           1.3,
           5
          ],
          [
           "JAPAN",
           null,
           null,
           4.8,
           3
          ],
          [
           "MONTENEGRO",
           "1979-04-09T02:10:20-09:00",
           5.3,
           0,
           0
          ],
          [
           "MONTENEGRO",
           "1979-04-15T06:19:44-15:00",
           6.9,
           3,
           131
          ],
          [
           "GREECE",
           "1979-05-15T06:59:21-15:00",
           5.6,
           0,
           0
          ],
          [
           "INDONESIA",
           "1979-07-18T00:00:00-18:00",
           null,
           9,
           1239
          ],
          [
           "INDONESIA",
           "1979-08-09T00:00:00-09:00",
           null,
           0,
           0
          ],
          [
           "VENEZUELA",
           "1979-09-03T02:12:00-03:00",
           5,
           0,
           0
          ],
          [
           "INDONESIA",
           "1979-09-12T05:17:51-12:00",
           7.9,
           2,
           115
          ],
          [
           "NORWAY",
           "1979-10-06T00:00:00-06:00",
           null,
           2,
           0
          ],
          [
           "FRANCE",
           "1979-10-16T13:57:00-16:00",
           null,
           10,
           9
          ],
          [
           "FIJI",
           "1979-11-16T15:21:25-16:00",
           6.9,
           0,
           0
          ],
          [
           "COLOMBIA",
           "1979-12-12T07:59:05-12:00",
           8.1,
           6,
           600
          ],
          [
           "PORTUGAL",
           "1980-01-01T16:42:42-01:00",
           6.9,
           0.41,
           69
          ],
          [
           "RUSSIA",
           "1980-02-23T05:51:03-23:00",
           7,
           0.16,
           0
          ],
          [
           "VANUATU",
           "1980-05-12T16:37:34-12:00",
           6.1,
           0,
           0
          ],
          [
           "USA",
           "1980-05-18T00:00:00-18:00",
           null,
           250,
           61
          ],
          [
           "PORTUGAL",
           "1980-05-22T00:00:00-22:00",
           null,
           0,
           0
          ],
          [
           "JAPAN",
           null,
           6.2,
           0.56,
           0
          ],
          [
           "VANUATU",
           "1980-07-08T23:19:19-08:00",
           7.5,
           0,
           0
          ],
          [
           "SOLOMON ISLANDS",
           "1980-07-17T19:42:23-17:00",
           7.9,
           0.14,
           0
          ],
          [
           "ALGERIA",
           "1980-10-10T12:25:26-10:00",
           7.1,
           0.7,
           5000
          ],
          [
           "JAPAN",
           "1981-01-18T18:17:24-18:00",
           6.9,
           0.37,
           0
          ],
          [
           "GREECE",
           null,
           6.7,
           1,
           22
          ],
          [
           "GREECE",
           "1981-03-04T21:58:05-04:00",
           6.4,
           1,
           0
          ],
          [
           "SOUTH AFRICA",
           "1981-05-11T07:10:00-11:00",
           null,
           0.29,
           0
          ],
          [
           "NEW ZEALAND",
           null,
           7.6,
           0.3,
           0
          ],
          [
           "SAMOA",
           "1981-09-01T09:29:31-01:00",
           7.7,
           1,
           0
          ],
          [
           "INDONESIA",
           "1981-10-20T00:00:00-20:00",
           null,
           2,
           0
          ],
          [
           "MEXICO",
           null,
           7.3,
           0.09,
           3
          ],
          [
           "PHILIPPINES",
           "1982-01-11T06:10:06-11:00",
           7.1,
           0.1,
           0
          ],
          [
           "INDONESIA",
           null,
           5.4,
           0,
           0
          ],
          [
           "INDONESIA",
           "1982-03-11T10:32:27-11:00",
           6.6,
           0.1,
           0
          ],
          [
           "JAPAN",
           "1982-03-21T02:32:07-21:00",
           6.9,
           1.3,
           110
          ],
          [
           "JAPAN",
           "1982-07-23T14:23:53-23:00",
           7.2,
           0.4,
           0
          ],
          [
           "TONGA",
           "1982-12-19T17:43:54-19:00",
           7.5,
           0.2,
           0
          ],
          [
           "INDONESIA",
           null,
           6,
           0,
           13
          ],
          [
           "JAPAN",
           null,
           6.4,
           0.19,
           0
          ],
          [
           "GREECE",
           "1983-01-17T12:41:29-17:00",
           7.2,
           0,
           0
          ],
          [
           "INDONESIA",
           "1983-03-12T01:36:35-12:00",
           6.9,
           3,
           0
          ],
          [
           "PAPUA NEW GUINEA",
           "1983-03-18T09:05:50-18:00",
           7.9,
           0.13,
           0
          ],
          [
           "COSTA RICA",
           "1983-04-03T02:50:02-03:00",
           7.5,
           0.13,
           6
          ],
          [
           "JAPAN",
           null,
           7.8,
           14.93,
           104
          ],
          [
           "JAPAN",
           "1983-06-09T12:49:03-09:00",
           5.9,
           0.6,
           0
          ],
          [
           "JAPAN",
           "1983-06-21T06:25:27-21:00",
           6.9,
           1,
           0
          ],
          [
           "GREECE",
           "1983-08-06T15:43:51-06:00",
           7,
           0,
           0
          ],
          [
           "RUSSIA",
           "1983-08-17T10:55:54-17:00",
           7.1,
           0.1,
           0
          ],
          [
           "PHILIPPINES",
           "1983-08-17T12:17:56-17:00",
           6.6,
           0,
           16
          ],
          [
           "INDONESIA",
           "1983-08-17T00:00:00-17:00",
           null,
           0,
           0
          ],
          [
           "NORWAY",
           "1983-08-18T09:00:00-18:00",
           null,
           7,
           0
          ],
          [
           "CHILE",
           "1983-10-04T18:52:13-04:00",
           7.7,
           0.2,
           5
          ],
          [
           "UK TERRITORY",
           null,
           7.7,
           1.5,
           0
          ],
          [
           "INDONESIA",
           "1984-01-08T15:24:13-08:00",
           6.8,
           0,
           2
          ],
          [
           "GREECE",
           "1984-02-11T08:02:52-11:00",
           5.6,
           0,
           0
          ],
          [
           "RUSSIA",
           null,
           7.2,
           0.2,
           0
          ],
          [
           "JAPAN",
           "1984-06-13T02:29:25-13:00",
           5.5,
           0.5,
           0
          ],
          [
           "JAPAN",
           "1984-08-06T19:06:38-06:00",
           7,
           0.2,
           0
          ],
          [
           "CAMEROON",
           "1984-08-15T00:00:00-15:00",
           null,
           5,
           37
          ],
          [
           "JAPAN",
           "1984-09-18T17:02:44-18:00",
           6.9,
           0.13,
           0
          ],
          [
           "RUSSIA",
           null,
           6.8,
           0.2,
           0
          ],
          [
           "CHILE",
           "1985-03-03T22:47:09-03:00",
           8,
           3.5,
           180
          ],
          [
           "GUADELOUPE (FRENCH TERRITORY)",
           "1985-03-16T14:54:00-16:00",
           6.4,
           0.12,
           0
          ],
          [
           "INDONESIA",
           "1985-04-13T01:06:00-13:00",
           6.2,
           2,
           0
          ],
          [
           "CHINA",
           "1985-06-12T00:00:00-12:00",
           null,
           54,
           10
          ],
          [
           "PAPUA NEW GUINEA",
           "1985-07-03T04:36:51-03:00",
           7.3,
           1.3,
           0
          ],
          [
           "MEXICO",
           "1985-09-19T13:17:47-19:00",
           8,
           3,
           9500
          ],
          [
           "MEXICO",
           "1985-09-21T01:37:13-21:00",
           7.6,
           1.2,
           0
          ],
          [
           "USA",
           "1986-05-07T22:47:10-07:00",
           8,
           0.9,
           0
          ],
          [
           "USA",
           "1986-05-17T16:20:22-17:00",
           6.4,
           0,
           0
          ],
          [
           "CAMEROON",
           "1986-08-21T00:00:00-21:00",
           null,
           75,
           1700
          ],
          [
           "NEW ZEALAND",
           "1986-10-20T06:46:09-20:00",
           7.8,
           0.22,
           0
          ],
          [
           "TAIWAN",
           "1986-11-14T21:20:10-14:00",
           7.8,
           0.3,
           15
          ],
          [
           "JAPAN",
           "1987-02-06T13:16:17-06:00",
           6.7,
           0.1,
           0
          ],
          [
           "PAPUA NEW GUINEA",
           "1987-02-08T18:33:58-08:00",
           7.4,
           1.5,
           3
          ],
          [
           "NORWAY",
           "1987-02-21T07:40:00-21:00",
           null,
           3,
           0
          ],
          [
           "CHILE",
           "1987-03-05T09:17:05-05:00",
           7.6,
           0.2,
           1
          ],
          [
           "JAPAN",
           "1987-03-18T03:36:30-18:00",
           6.7,
           0.04,
           2
          ],
          [
           "JAPAN",
           null,
           5.1,
           0.16,
           0
          ],
          [
           "NEW ZEALAND",
           "1987-05-20T00:00:00-20:00",
           null,
           0,
           0
          ],
          [
           "PHILIPPINES",
           "1987-06-07T05:49:43-07:00",
           6.1,
           0,
           0
          ],
          [
           "SOLOMON ISLANDS",
           "1987-06-18T14:03:16-18:00",
           6.3,
           0,
           0
          ],
          [
           "VANUATU",
           "1987-07-06T02:49:42-06:00",
           6.7,
           0.1,
           0
          ],
          [
           "TONGA",
           "1987-10-06T04:19:06-06:00",
           7.3,
           0.25,
           0
          ],
          [
           "PAPUA NEW GUINEA",
           "1987-10-12T13:57:04-12:00",
           7,
           0.04,
           0
          ],
          [
           "PAPUA NEW GUINEA",
           "1987-10-16T20:48:01-16:00",
           7.4,
           0.07,
           0
          ],
          [
           "USA",
           "1987-11-17T08:46:53-17:00",
           7.2,
           0.06,
           0
          ],
          [
           "INDONESIA",
           null,
           6.6,
           0.1,
           0
          ],
          [
           "USA",
           null,
           7.9,
           0.43,
           0
          ],
          [
           "CHILE",
           "1988-02-05T14:01:02-05:00",
           7.2,
           0.1,
           0
          ],
          [
           "USA",
           "1988-03-06T22:35:36-06:00",
           7.8,
           0.19,
           0
          ],
          [
           "ITALY",
           "1988-04-20T05:30:00-20:00",
           null,
           2,
           0
          ],
          [
           "USA",
           null,
           null,
           0,
           0
          ],
          [
           "PHILIPPINES",
           null,
           5.4,
           1.03,
           0
          ],
          [
           "PAPUA NEW GUINEA",
           "1988-07-05T20:32:07-05:00",
           6.8,
           0,
           0
          ],
          [
           "BANGLADESH",
           "1988-08-06T00:36:24-06:00",
           7.2,
           0,
           5
          ],
          [
           "SOLOMON ISLANDS",
           "1988-08-10T04:38:29-10:00",
           7.6,
           0.09,
           1
          ],
          [
           "BANGLADESH",
           "1988-08-20T23:09:09-20:00",
           6.6,
           0,
           998
          ],
          [
           "AUSTRALIA",
           "1989-05-23T10:54:46-23:00",
           8.1,
           0.15,
           0
          ],
          [
           "USA",
           null,
           6.5,
           0.29,
           0
          ],
          [
           "USA",
           "1989-09-04T13:14:58-04:00",
           7.1,
           0.1,
           0
          ],
          [
           "USA",
           "1989-10-18T00:04:15-18:00",
           6.9,
           1,
           62
          ],
          [
           "JAPAN",
           null,
           6.5,
           0.11,
           0
          ],
          [
           "ALGERIA",
           null,
           5.9,
           0,
           30
          ],
          [
           "USA TERRITORY",
           "1989-11-01T10:25:52-01:00",
           4.4,
           0.1,
           0
          ],
          [
           "JAPAN",
           "1989-11-01T18:25:34-01:00",
           7.4,
           0.9,
           0
          ],
          [
           "PHILIPPINES",
           "1990-02-08T07:15:32-08:00",
           6.6,
           2.1,
           6
          ],
          [
           "JAPAN",
           "1990-02-20T06:53:39-20:00",
           6.4,
           0.16,
           0
          ],
          [
           "COSTA RICA",
           null,
           7.3,
           1,
           0
          ],
          [
           "USA TERRITORY",
           "1990-04-05T21:12:35-05:00",
           7.5,
           1.8,
           0
          ],
          [
           "IRAN",
           "1990-06-20T21:00:09-20:00",
           7.3,
           2,
           40000
          ],
          [
           "PHILIPPINES",
           "1990-07-16T07:26:34-16:00",
           7.8,
           2,
           2412
          ],
          [
           "JAPAN",
           "1990-09-23T21:13:07-23:00",
           6.5,
           0.2,
           0
          ],
          [
           "ITALY",
           "1990-12-13T00:24:25-13:00",
           5.3,
           0,
           19
          ],
          [
           "TAIWAN",
           "1990-12-13T19:50:17-13:00",
           6.3,
           0.04,
           0
          ],
          [
           "GREECE",
           "1991-01-04T00:00:00-04:00",
           null,
           0,
           0
          ],
          [
           "SOLOMON ISLANDS",
           "1991-02-09T16:18:58-09:00",
           6.9,
           0.02,
           0
          ],
          [
           "RUSSIA",
           "1991-02-16T01:23:40-16:00",
           5.7,
           0.1,
           0
          ],
          [
           "USA",
           "1991-02-21T02:35:34-21:00",
           6.7,
           0.15,
           0
          ],
          [
           "COSTA RICA",
           "1991-04-22T21:56:51-22:00",
           7.6,
           3,
           90
          ],
          [
           "GREECE",
           "1991-05-07T00:00:00-07:00",
           null,
           0.5,
           0
          ],
          [
           "SOLOMON ISLANDS",
           "1991-10-14T15:58:12-14:00",
           7.2,
           0.15,
           0
          ],
          [
           "RUSSIA",
           "1991-12-22T08:43:13-22:00",
           7.6,
           0.52,
           0
          ],
          [
           "CHINA",
           "1992-01-05T06:00:00-05:00",
           3.7,
           0.8,
           0
          ],
          [
           "USA",
           null,
           7.2,
           1.8,
           0
          ],
          [
           "PHILIPPINES",
           "1992-05-17T10:15:31-17:00",
           7.3,
           6,
           0
          ],
          [
           "SOLOMON ISLANDS",
           null,
           7.1,
           0,
           0
          ],
          [
           "USA",
           "1992-07-03T00:00:00-03:00",
           null,
           3,
           0
          ],
          [
           "JAPAN",
           "1992-07-18T08:36:58-18:00",
           7,
           0.3,
           0
          ],
          [
           "JAPAN",
           "1992-08-11T15:14:55-11:00",
           6.3,
           0,
           0
          ],
          [
           "NICARAGUA",
           "1992-09-02T00:16:03-02:00",
           7.6,
           9.9,
           170
          ],
          [
           "INDONESIA",
           "1992-12-12T05:29:26-12:00",
           7.8,
           26.2,
           2500
          ],
          [
           "JAPAN",
           "1993-02-07T13:27:42-07:00",
           6.3,
           0.5,
           0
          ],
          [
           "WALLIS AND FUTUNA (FRENCH TERRITORY)",
           "1993-03-12T14:01:35-12:00",
           6.4,
           0,
           5
          ],
          [
           "RUSSIA",
           "1993-06-08T13:03:36-08:00",
           7.5,
           0.1,
           0
          ],
          [
           "NEW ZEALAND",
           "1993-06-18T11:52:54-18:00",
           6.6,
           0,
           0
          ],
          [
           "JAPAN",
           "1993-07-12T13:17:11-12:00",
           7.7,
           32,
           231
          ],
          [
           "JAPAN",
           "1993-08-07T19:42:41-07:00",
           6.3,
           0.16,
           0
          ],
          [
           "USA TERRITORY",
           "1993-08-08T08:34:24-08:00",
           7.8,
           2.4,
           0
          ],
          [
           "RUSSIA",
           "1993-11-13T01:18:04-13:00",
           7,
           0.05,
           0
          ],
          [
           "USA",
           "1994-01-04T00:00:00-04:00",
           null,
           1.5,
           0
          ],
          [
           "USA",
           "1994-01-17T12:30:55-17:00",
           6.7,
           0.1,
           57
          ],
          [
           "INDONESIA",
           "1994-01-21T02:24:29-21:00",
           7,
           2,
           9
          ],
          [
           "VANUATU",
           "1994-02-12T17:58:23-12:00",
           7,
           0.03,
           0
          ],
          [
           "INDONESIA",
           "1994-02-15T17:07:43-15:00",
           6.9,
           0,
           0
          ],
          [
           "JAPAN",
           "1994-04-08T01:10:40-08:00",
           6.4,
           0.11,
           0
          ],
          [
           "NORWAY",
           null,
           null,
           4,
           0
          ],
          [
           "TAIWAN",
           null,
           6.5,
           0.02,
           0
          ],
          [
           "INDONESIA",
           "1994-06-02T18:17:34-02:00",
           7.8,
           13.9,
           238
          ],
          [
           "INDONESIA",
           "1994-06-03T21:06:59-03:00",
           6.6,
           3.7,
           0
          ],
          [
           "INDONESIA",
           "1994-06-04T00:57:50-04:00",
           6.5,
           0,
           0
          ],
          [
           "INDONESIA",
           "1994-06-05T01:45:02-05:00",
           6.1,
           3,
           0
          ],
          [
           "USA",
           "1994-07-08T00:00:00-08:00",
           null,
           0,
           0
          ],
          [
           "VANUATU",
           "1994-07-13T02:35:56-13:00",
           7.2,
           0.08,
           0
          ],
          [
           "USA",
           "1994-09-01T15:15:53-01:00",
           7,
           0.07,
           0
          ],
          [
           "TAIWAN",
           "1994-09-16T06:20:18-16:00",
           6.7,
           0.24,
           1
          ],
          [
           "PAPUA NEW GUINEA",
           "1994-09-17T16:51:33-17:00",
           4.6,
           0.3,
           0
          ],
          [
           "PAPUA NEW GUINEA",
           "1994-09-18T00:00:00-18:00",
           null,
           3,
           4
          ],
          [
           "RUSSIA",
           "1994-10-04T13:22:55-04:00",
           8.3,
           10.4,
           11
          ],
          [
           "INDONESIA",
           "1994-10-08T21:44:07-08:00",
           6.8,
           3,
           1
          ],
          [
           "RUSSIA",
           "1994-10-09T07:55:39-09:00",
           7.3,
           0.2,
           0
          ],
          [
           "USA",
           "1994-11-04T04:12:00-04:00",
           null,
           9,
           1
          ],
          [
           "PHILIPPINES",
           "1994-11-14T19:15:30-14:00",
           7.1,
           7.3,
           81
          ],
          [
           "JAPAN",
           null,
           7.8,
           0.53,
           3
          ],
          [
           "JAPAN",
           "1995-01-16T20:46:53-16:00",
           6.9,
           0.34,
           6434
          ],
          [
           "SAMOA",
           "1995-04-07T22:06:56-07:00",
           7.4,
           0.09,
           0
          ],
          [
           "PHILIPPINES",
           "1995-04-21T00:34:46-21:00",
           7.2,
           2,
           0
          ],
          [
           "PHILIPPINES",
           "1995-04-21T05:17:01-21:00",
           6.8,
           0.1,
           0
          ],
          [
           "GREECE",
           "1995-05-13T08:47:12-13:00",
           6.6,
           0,
           0
          ],
          [
           "INDONESIA",
           "1995-05-14T11:33:21-14:00",
           6.9,
           4,
           11
          ],
          [
           "NEW CALEDONIA",
           "1995-05-16T20:12:44-16:00",
           7.7,
           8,
           0
          ],
          [
           "RUSSIA",
           null,
           7.1,
           0.1,
           1989
          ],
          [
           "GREECE",
           "1995-06-15T00:15:48-15:00",
           6.5,
           1,
           26
          ],
          [
           "CHILE",
           null,
           8,
           3,
           3
          ],
          [
           "PAPUA NEW GUINEA",
           "1995-08-16T10:27:28-16:00",
           7.7,
           0.28,
           0
          ],
          [
           "MEXICO",
           "1995-09-14T14:04:31-14:00",
           7.4,
           0.4,
           3
          ],
          [
           "MEXICO",
           "1995-10-09T15:35:53-09:00",
           8,
           11,
           50
          ],
          [
           "JAPAN",
           "1995-10-18T10:37:26-18:00",
           7.1,
           2.59,
           0
          ],
          [
           "JAPAN",
           "1995-10-19T02:41:36-19:00",
           6.8,
           1.5,
           0
          ],
          [
           "CHILE",
           "1995-11-01T00:35:32-01:00",
           6.7,
           0.07,
           0
          ],
          [
           "EGYPT",
           "1995-11-22T04:15:11-22:00",
           7.2,
           4,
           11
          ],
          [
           "RUSSIA",
           "1995-12-03T18:01:08-03:00",
           7.9,
           1.1,
           0
          ],
          [
           "INDONESIA",
           "1996-01-01T08:05:10-01:00",
           7.9,
           3.43,
           9
          ],
          [
           "GREECE",
           "1996-01-01T00:00:00-01:00",
           null,
           2,
           0
          ],
          [
           "RUSSIA",
           "1996-01-02T15:40:00-02:00",
           null,
           30,
           0
          ],
          [
           "INDONESIA",
           "1996-02-17T05:59:30-17:00",
           8.2,
           7.7,
           164
          ],
          [
           "PERU",
           "1996-02-21T12:51:01-21:00",
           7.5,
           5.04,
           12
          ],
          [
           "MEXICO",
           null,
           7.1,
           0.1,
           0
          ],
          [
           "SWITZERLAND",
           null,
           null,
           0.5,
           0
          ],
          [
           "USA",
           "1996-06-10T04:03:35-10:00",
           7.9,
           0.51,
           0
          ],
          [
           "USA",
           "1996-06-10T15:24:56-10:00",
           7.3,
           0.18,
           0
          ],
          [
           "JAPAN",
           "1996-09-04T18:16:01-04:00",
           5.7,
           0.3,
           0
          ],
          [
           "CHILE",
           "1996-09-05T08:14:14-05:00",
           6.9,
           0.09,
           0
          ],
          [
           "TAIWAN",
           "1996-09-05T23:42:06-05:00",
           6.8,
           0.11,
           0
          ],
          [
           "JAPAN",
           "1996-10-18T10:50:20-18:00",
           6.6,
           0.2,
           0
          ],
          [
           "JAPAN",
           "1996-10-19T14:44:40-19:00",
           6.7,
           0.55,
           0
          ],
          [
           "PERU",
           "1996-11-12T16:59:44-12:00",
           7.7,
           0.4,
           14
          ],
          [
           "JAPAN",
           "1996-12-02T22:17:59-02:00",
           6.7,
           0.2,
           0
          ],
          [
           "NEW CALEDONIA",
           "1997-03-12T00:00:00-12:00",
           null,
           2,
           0
          ],
          [
           "HONDURAS",
           "1997-04-10T00:00:00-10:00",
           null,
           15,
           0
          ],
          [
           "AUSTRALIA",
           "1997-04-18T00:00:00-18:00",
           null,
           0,
           0
          ],
          [
           "SOLOMON ISLANDS",
           "1997-04-21T12:02:26-21:00",
           7.7,
           3,
           0
          ],
          [
           "VENEZUELA",
           "1997-07-09T19:24:13-09:00",
           7,
           0,
           81
          ],
          [
           "JAPAN",
           null,
           6.2,
           0.03,
           0
          ],
          [
           "TONGA",
           "1997-10-14T09:53:18-14:00",
           7.7,
           0.1,
           0
          ],
          [
           "RUSSIA",
           "1997-12-05T11:26:54-05:00",
           7.8,
           8,
           0
          ],
          [
           "RUSSIA",
           "1997-12-14T03:30:00-14:00",
           null,
           8,
           0
          ],
          [
           "MONTSERRAT",
           null,
           null,
           3,
           0
          ],
          [
           "NORWAY",
           "1998-03-19T18:30:00-19:00",
           null,
           6,
           0
          ],
          [
           "ANTARCTICA",
           null,
           8.1,
           0.08,
           0
          ],
          [
           "TAIWAN",
           "1998-05-03T23:30:21-03:00",
           7.5,
           0.13,
           0
          ],
          [
           "JAPAN",
           null,
           6.2,
           0.01,
           0
          ],
          [
           "PAPUA NEW GUINEA",
           "1998-07-17T08:49:16-17:00",
           7,
           15.03,
           1636
          ],
          [
           "INDONESIA",
           null,
           7.7,
           2.75,
           41
          ],
          [
           "MONTSERRAT",
           "1999-01-20T00:00:00-20:00",
           null,
           2,
           0
          ],
          [
           "TURKEY",
           "1999-08-17T00:01:39-17:00",
           7.6,
           2.52,
           17118
          ],
          [
           "FRENCH POLYNESIA",
           "1999-09-13T00:00:00-13:00",
           null,
           8,
           0
          ],
          [
           "VANUATU",
           null,
           7.5,
           6.6,
           10
          ],
          [
           "PHILIPPINES",
           "1999-12-11T18:03:36-11:00",
           7.3,
           1.5,
           5
          ],
          [
           "PHILIPPINES",
           null,
           null,
           20,
           0
          ],
          [
           "GREECE",
           "2000-04-05T04:36:59-05:00",
           5.5,
           0.5,
           0
          ],
          [
           "INDONESIA",
           "2000-05-04T04:21:16-04:00",
           7.6,
           6,
           54
          ],
          [
           "AUSTRALIA",
           "2000-06-18T14:44:13-18:00",
           7.9,
           0.3,
           0
          ],
          [
           "JAPAN",
           "2000-07-01T07:01:55-01:00",
           6.1,
           0.07,
           1
          ],
          [
           "RUSSIA",
           "2000-07-08T00:00:00-08:00",
           null,
           0.5,
           0
          ],
          [
           "JAPAN",
           "2000-07-15T01:30:30-15:00",
           6.1,
           0.07,
           0
          ],
          [
           "PHILIPPINES",
           "2000-07-16T03:21:45-16:00",
           6.4,
           0.4,
           0
          ],
          [
           "JAPAN",
           null,
           6.5,
           0.14,
           0
          ],
          [
           "USA",
           "2000-11-04T19:30:00-04:00",
           null,
           4.6,
           0
          ],
          [
           "PAPUA NEW GUINEA",
           "2000-11-16T04:54:55-16:00",
           8,
           3,
           2
          ],
          [
           "GREENLAND",
           "2000-11-21T18:04:50-21:00",
           null,
           50,
           0
          ],
          [
           "EL SALVADOR",
           "2001-01-13T17:33:32-13:00",
           7.7,
           0.25,
           844
          ],
          [
           "PERU",
           "2001-06-23T20:33:14-23:00",
           8.4,
           8.8,
           103
          ],
          [
           "CANADA",
           "2001-10-12T05:02:34-12:00",
           6.1,
           0.11,
           0
          ],
          [
           "TAIWAN",
           "2001-12-18T04:02:58-18:00",
           6.8,
           0.16,
           0
          ],
          [
           "VANUATU",
           "2002-01-02T17:22:48-02:00",
           7.2,
           3,
           0
          ],
          [
           "PHILIPPINES",
           "2002-03-05T21:16:09-05:00",
           7.5,
           3,
           15
          ],
          [
           "GREECE",
           null,
           null,
           4,
           0
          ],
          [
           "JAPAN",
           null,
           6.4,
           0.05,
           0
          ],
          [
           "TAIWAN",
           null,
           7.1,
           0.2,
           5
          ],
          [
           "BRAZIL",
           "2002-09-07T00:00:00-07:00",
           null,
           0.7,
           0
          ],
          [
           "PAPUA NEW GUINEA",
           "2002-09-08T18:44:25-08:00",
           7.6,
           5.5,
           4
          ],
          [
           "INDIA",
           "2002-09-13T22:28:29-13:00",
           6.5,
           0,
           2
          ],
          [
           "INDONESIA",
           "2002-10-10T10:50:20-10:00",
           7.6,
           5,
           8
          ],
          [
           "NEW ZEALAND",
           "2002-11-04T00:00:00-04:00",
           null,
           0,
           0
          ],
          [
           "ITALY",
           null,
           null,
           10.9,
           0
          ],
          [
           "SOLOMON ISLANDS",
           "2003-01-20T08:43:06-20:00",
           7.3,
           2,
           0
          ],
          [
           "MEXICO",
           "2003-01-22T02:06:34-22:00",
           7.5,
           0.61,
           29
          ],
          [
           "PHILIPPINES",
           "2003-02-15T11:01:59-15:00",
           6.3,
           1,
           0
          ],
          [
           "ALGERIA",
           "2003-05-21T18:44:20-21:00",
           6.8,
           3,
           2287
          ],
          [
           "ALGERIA",
           null,
           5.7,
           0.08,
           9
          ],
          [
           "USA",
           "2003-07-04T00:00:00-04:00",
           null,
           0,
           7
          ],
          [
           "MONTSERRAT",
           "2003-07-12T00:00:00-12:00",
           null,
           4,
           0
          ],
          [
           "CHINA",
           "2003-07-14T00:00:00-14:00",
           null,
           39,
           24
          ],
          [
           "ANTARCTICA",
           "2003-08-04T04:37:20-04:00",
           7.6,
           0,
           0
          ],
          [
           "GREECE",
           "2003-08-14T05:14:54-14:00",
           6.3,
           0.5,
           0
          ],
          [
           "NEW ZEALAND",
           "2003-08-21T12:12:49-21:00",
           7.2,
           4,
           0
          ],
          [
           "JAPAN",
           null,
           8.3,
           4.4,
           2
          ],
          [
           "JAPAN",
           null,
           7,
           0.32,
           0
          ],
          [
           "USA",
           "2003-11-17T06:43:06-17:00",
           7.8,
           0.33,
           0
          ],
          [
           "NEW CALEDONIA",
           null,
           7.3,
           0.15,
           0
          ],
          [
           "NEW CALEDONIA",
           "2004-01-03T16:23:21-03:00",
           7.1,
           0.07,
           0
          ],
          [
           "INDONESIA",
           null,
           6.7,
           0,
           0
          ],
          [
           "JORDAN",
           "2004-02-11T08:15:03-11:00",
           5.3,
           1,
           0
          ],
          [
           "FRANCE",
           null,
           null,
           0,
           0
          ],
          [
           "JAPAN",
           "2004-09-05T10:07:07-05:00",
           7.2,
           0.63,
           0
          ],
          [
           "JAPAN",
           "2004-09-05T14:57:18-05:00",
           7.4,
           0.93,
           0
          ],
          [
           "CANADA",
           "2004-11-02T10:02:12-02:00",
           6.6,
           0.06,
           0
          ],
          [
           "INDONESIA",
           "2004-11-11T21:26:41-11:00",
           7.5,
           2,
           34
          ],
          [
           "GUADELOUPE (FRENCH TERRITORY)",
           "2004-11-21T11:41:07-21:00",
           6.3,
           2,
           1
          ],
          [
           "NEW ZEALAND",
           "2004-11-22T20:26:23-22:00",
           7.1,
           0,
           0
          ],
          [
           "JAPAN",
           null,
           7,
           0.12,
           0
          ],
          [
           "AUSTRALIA",
           "2004-12-23T14:59:04-23:00",
           8.1,
           0.3,
           0
          ],
          [
           "INDONESIA",
           null,
           9.1,
           50.9,
           227899
          ],
          [
           "JAPAN",
           "2005-01-19T06:11:36-19:00",
           6.6,
           0.39,
           0
          ],
          [
           "GUADELOUPE (FRENCH TERRITORY)",
           "2005-02-14T18:05:59-14:00",
           5.8,
           0,
           0
          ],
          [
           "INDONESIA",
           null,
           8.6,
           4.2,
           1319
          ],
          [
           "INDONESIA",
           "2005-04-10T10:29:11-10:00",
           6.7,
           0.4,
           0
          ],
          [
           "USA",
           "2005-06-15T02:50:53-15:00",
           7.2,
           0.1,
           0
          ],
          [
           "JAPAN",
           "2005-08-16T02:46:28-16:00",
           7.2,
           0.05,
           0
          ],
          [
           "JAPAN",
           "2005-11-14T21:38:51-14:00",
           7,
           0.42,
           0
          ],
          [
           "CANADA",
           "2005-12-09T01:57:00-09:00",
           null,
           0.08,
           0
          ],
          [
           "JAPAN",
           "2006-01-01T07:11:57-01:00",
           5.6,
           0,
           0
          ],
          [
           "INDONESIA",
           "2006-03-14T06:57:33-14:00",
           6.7,
           3.5,
           4
          ],
          [
           "TONGA",
           "2006-05-03T15:26:40-03:00",
           8,
           0.27,
           0
          ],
          [
           "MONTSERRAT",
           "2006-05-20T11:20:00-20:00",
           null,
           1,
           0
          ],
          [
           "SPAIN",
           "2006-06-15T00:00:00-15:00",
           null,
           6,
           0
          ],
          [
           "INDONESIA",
           "2006-07-17T08:19:26-17:00",
           7.7,
           20.9,
           802
          ],
          [
           "SOUTH KOREA",
           null,
           null,
           0,
           1
          ],
          [
           "SAMOA",
           null,
           6.9,
           0.08,
           0
          ],
          [
           "USA",
           "2006-10-15T17:07:49-15:00",
           6.7,
           0.1,
           0
          ],
          [
           "JAPAN",
           "2006-10-23T21:17:19-23:00",
           6.4,
           0.16,
           0
          ],
          [
           "TAIWAN",
           "2006-11-13T08:02:44-13:00",
           5.2,
           0.15,
           0
          ],
          [
           "RUSSIA",
           "2006-11-15T11:14:13-15:00",
           8.3,
           21.9,
           0
          ],
          [
           "TAIWAN",
           null,
           7,
           0.12,
           2
          ],
          [
           "RUSSIA",
           "2007-01-13T04:23:21-13:00",
           8.1,
           0.4,
           0
          ],
          [
           "VANUATU",
           null,
           7.1,
           0.08,
           0
          ],
          [
           "JAPAN",
           null,
           6.7,
           0.1,
           1
          ],
          [
           "SOUTH KOREA",
           null,
           null,
           1.65,
           4
          ],
          [
           "SOLOMON ISLANDS",
           "2007-04-01T20:39:56-01:00",
           8.1,
           12.1,
           52
          ],
          [
           "CHILE",
           "2007-04-21T17:53:46-21:00",
           6.2,
           50,
           10
          ],
          [
           "BULGARIA",
           "2007-05-07T00:00:00-07:00",
           null,
           3,
           0
          ],
          [
           "PAPUA NEW GUINEA",
           "2007-05-19T00:00:00-19:00",
           null,
           10,
           0
          ],
          [
           "CHINA",
           "2007-06-15T00:00:00-15:00",
           null,
           50,
           8
          ],
          [
           "JAPAN",
           "2007-07-16T01:13:22-16:00",
           6.6,
           0,
           9
          ],
          [
           "RUSSIA",
           "2007-08-02T02:37:42-02:00",
           6.2,
           3.2,
           2
          ],
          [
           "USA",
           "2007-08-02T03:21:42-02:00",
           6.7,
           0.03,
           0
          ],
          [
           "PERU",
           "2007-08-15T23:40:57-15:00",
           8,
           10.05,
           514
          ],
          [
           "SOLOMON ISLANDS",
           "2007-09-02T01:05:18-02:00",
           7.2,
           0.05,
           0
          ],
          [
           "INDONESIA",
           "2007-09-12T11:10:26-12:00",
           8.4,
           5,
           25
          ],
          [
           "NEW ZEALAND",
           null,
           7.4,
           0.35,
           0
          ],
          [
           "MEXICO",
           "2007-11-05T02:32:00-05:00",
           null,
           50,
           19
          ],
          [
           "CHILE",
           "2007-11-14T15:40:50-14:00",
           7.7,
           0.28,
           2
          ],
          [
           "MARTINIQUE (FRENCH TERRITORY)",
           null,
           7.4,
           0,
           0
          ],
          [
           "CANADA",
           "2007-12-04T00:00:00-04:00",
           null,
           38,
           0
          ],
          [
           "KERMADEC ISLANDS",
           "2007-12-09T07:28:20-09:00",
           7.8,
           0.03,
           0
          ],
          [
           "INDONESIA",
           null,
           6.5,
           0.12,
           0
          ],
          [
           "NEW CALEDONIA",
           "2008-04-09T12:46:12-09:00",
           7.3,
           0.16,
           0
          ],
          [
           "VANUATU",
           null,
           6.4,
           0.03,
           0
          ],
          [
           "SOUTH KOREA",
           "2008-05-04T00:00:00-04:00",
           null,
           1.3,
           9
          ],
          [
           "CHINA",
           "2008-05-12T06:28:00-12:00",
           7.9,
           0,
           87652
          ],
          [
           "JAPAN",
           "2008-06-13T23:43:45-13:00",
           6.9,
           2.5,
           23
          ],
          [
           "JAPAN",
           "2008-07-19T02:39:28-19:00",
           6.9,
           0.2,
           0
          ],
          [
           "USA",
           "2008-08-08T00:00:00-08:00",
           null,
           0.19,
           0
          ],
          [
           "SOUTH AFRICA",
           "2008-08-20T23:00:00-20:00",
           null,
           2.55,
           0
          ],
          [
           "JAPAN",
           "2008-09-11T00:20:50-11:00",
           6.8,
           0.09,
           6
          ],
          [
           "USA",
           null,
           null,
           3.6,
           0
          ],
          [
           "INDONESIA",
           "2008-11-16T17:02:32-16:00",
           7.3,
           0.13,
           6
          ],
          [
           "CHINA",
           "2008-11-23T00:00:00-23:00",
           null,
           13.1,
           0
          ],
          [
           "INDONESIA",
           "2009-01-03T19:43:50-03:00",
           7.6,
           0.39,
           5
          ],
          [
           "INDONESIA",
           "2009-01-03T22:33:40-03:00",
           7.3,
           0,
           0
          ],
          [
           "RUSSIA",
           "2009-01-15T17:49:39-15:00",
           7.4,
           0.11,
           0
          ],
          [
           "USA",
           "2009-01-16T00:00:00-16:00",
           null,
           9,
           0
          ],
          [
           "INDONESIA",
           "2009-02-11T17:34:50-11:00",
           7.2,
           0.13,
           0
          ],
          [
           "EAST CHINA SEA",
           null,
           null,
           1.45,
           0
          ],
          [
           "TONGA",
           "2009-03-19T18:17:40-19:00",
           7.6,
           0.15,
           0
          ],
          [
           "HONDURAS",
           null,
           7.3,
           4,
           7
          ],
          [
           "PAPUA NEW GUINEA",
           "2009-06-23T14:19:22-23:00",
           6.7,
           0,
           0
          ],
          [
           "GREECE",
           "2009-07-01T09:30:10-01:00",
           6.4,
           0.3,
           0
          ],
          [
           "NEW ZEALAND",
           "2009-07-15T09:22:29-15:00",
           7.8,
           0.47,
           0
          ],
          [
           "CHINA",
           "2009-07-20T00:00:00-20:00",
           null,
           30,
           2
          ],
          [
           "INDIA",
           "2009-08-10T19:55:35-10:00",
           7.5,
           0.01,
           0
          ],
          [
           "JAPAN",
           "2009-08-10T20:07:09-10:00",
           6.4,
           0.6,
           1
          ],
          [
           "INDONESIA",
           "2009-08-16T07:38:21-16:00",
           6.7,
           0.18,
           0
          ],
          [
           "USA",
           null,
           null,
           0,
           0
          ],
          [
           "INDONESIA",
           "2009-09-02T07:55:01-02:00",
           7,
           0.4,
           81
          ],
          [
           "SAMOA",
           null,
           8.1,
           22.35,
           192
          ],
          [
           "INDONESIA",
           null,
           7.5,
           0.27,
           1117
          ],
          [
           "VANUATU",
           "2009-10-07T22:03:14-07:00",
           7.6,
           0.29,
           0
          ],
          [
           "BRAZIL",
           "2009-11-19T00:00:00-19:00",
           null,
           3,
           0
          ],
          [
           "SOUTH KOREA",
           "2010-01-02T00:00:00-02:00",
           null,
           0,
           1
          ],
          [
           "SOLOMON ISLANDS",
           "2010-01-03T21:48:05-03:00",
           6.6,
           0.01,
           0
          ],
          [
           "SOLOMON ISLANDS",
           "2010-01-03T22:36:27-03:00",
           7.1,
           7.52,
           0
          ],
          [
           "SOLOMON ISLANDS",
           "2010-01-05T12:15:32-05:00",
           6.8,
           0.03,
           0
          ],
          [
           "HAITI",
           "2010-01-12T21:53:10-12:00",
           7,
           3.21,
           316000
          ],
          [
           "JAPAN",
           null,
           7,
           0.1,
           0
          ],
          [
           "CHILE",
           null,
           8.8,
           29,
           558
          ],
          [
           "CHILE",
           "2010-03-11T14:39:43-11:00",
           6.9,
           0.14,
           0
          ],
          [
           "INDONESIA",
           "2010-04-06T22:15:01-06:00",
           7.8,
           0.44,
           0
          ],
          [
           "PERU",
           "2010-04-13T00:00:00-13:00",
           null,
           23,
           1
          ],
          [
           "COOK ISLANDS",
           "2010-04-13T00:00:00-13:00",
           null,
           0,
           0
          ],
          [
           "VANUATU",
           null,
           7.2,
           0.04,
           0
          ],
          [
           "USA TERRITORY",
           null,
           null,
           0.04,
           0
          ],
          [
           "INDIA",
           "2010-06-12T19:26:50-12:00",
           7.5,
           0.03,
           0
          ],
          [
           "PAPUA NEW GUINEA",
           "2010-07-18T13:34:59-18:00",
           7.3,
           0.06,
           0
          ],
          [
           "VANUATU",
           "2010-08-10T05:23:44-10:00",
           7.2,
           0.23,
           0
          ],
          [
           "USA TERRITORY",
           "2010-08-13T21:19:33-13:00",
           6.9,
           0.07,
           0
          ],
          [
           "INDONESIA",
           null,
           7.8,
           16.9,
           431
          ],
          [
           "JAPAN",
           "2010-12-21T17:19:40-21:00",
           7.4,
           0.13,
           0
          ],
          [
           "VANUATU",
           null,
           7.3,
           4.1,
           0
          ],
          [
           "VANUATU",
           "2011-01-09T10:03:44-09:00",
           6.5,
           0.03,
           0
          ],
          [
           "VANUATU",
           "2011-01-13T16:16:41-13:00",
           7,
           0.04,
           0
          ],
          [
           "CHILE",
           "2011-02-11T20:05:30-11:00",
           6.8,
           0.15,
           0
          ],
          [
           "NORWAY",
           "2011-02-17T00:00:00-17:00",
           null,
           0.3,
           0
          ],
          [
           "NEW ZEALAND",
           "2011-02-21T23:51:42-21:00",
           6.1,
           3.5,
           185
          ],
          [
           "JAPAN",
           "2011-03-09T02:45:20-09:00",
           7.3,
           0.6,
           0
          ],
          [
           "JAPAN",
           "2011-03-09T21:24:01-09:00",
           6.3,
           0.06,
           0
          ],
          [
           "JAPAN",
           "2011-03-11T05:46:24-11:00",
           9.1,
           39.26,
           18428
          ],
          [
           "JAPAN",
           "2011-04-07T14:32:43-07:00",
           7.1,
           0.08,
           3
          ],
          [
           "NEW CALEDONIA",
           "2011-05-10T08:55:09-10:00",
           6.8,
           0.03,
           0
          ],
          [
           "USA",
           null,
           7.3,
           0.1,
           0
          ],
          [
           "UK",
           null,
           null,
           0.4,
           0
          ],
          [
           "NEW ZEALAND",
           "2011-07-06T19:03:18-06:00",
           7.6,
           1.2,
           0
          ],
          [
           "JAPAN",
           "2011-07-10T00:57:10-10:00",
           7,
           0.09,
           0
          ],
          [
           "NORWAY",
           null,
           null,
           1.5,
           0
          ],
          [
           "NORWAY",
           "2011-08-06T12:55:00-06:00",
           null,
           0,
           0
          ],
          [
           "VANUATU",
           "2011-08-20T16:55:02-20:00",
           7.1,
           0.19,
           0
          ],
          [
           "VANUATU",
           "2011-08-20T18:19:23-20:00",
           7,
           0.15,
           0
          ],
          [
           "USA",
           "2011-09-02T10:55:53-02:00",
           6.8,
           0.06,
           0
          ],
          [
           "NEW ZEALAND",
           "2011-10-21T17:57:16-21:00",
           7.4,
           0.14,
           0
          ],
          [
           "SOLOMON ISLANDS",
           "2012-01-09T04:07:14-09:00",
           6.4,
           0.03,
           0
          ],
          [
           "VANUATU",
           "2012-02-02T13:34:40-02:00",
           7,
           0.08,
           0
          ],
          [
           "PHILIPPINES",
           "2012-02-06T03:49:12-06:00",
           6.7,
           5,
           51
          ],
          [
           "NEW CALEDONIA",
           "2012-03-03T12:19:55-03:00",
           6.6,
           0.04,
           0
          ],
          [
           "VANUATU",
           "2012-03-09T07:09:50-09:00",
           6.7,
           0.05,
           0
          ],
          [
           "JAPAN",
           "2012-03-14T09:08:35-14:00",
           6.9,
           0.2,
           0
          ],
          [
           "MEXICO",
           "2012-03-20T18:02:47-20:00",
           7.4,
           0.2,
           2
          ],
          [
           "INDONESIA",
           "2012-04-11T08:38:36-11:00",
           8.6,
           1.08,
           10
          ],
          [
           "INDONESIA",
           "2012-04-11T10:43:10-11:00",
           8.2,
           0,
           0
          ],
          [
           "VANUATU",
           "2012-04-14T22:05:26-14:00",
           6.3,
           0,
           0
          ],
          [
           "GREENLAND",
           "2012-07-15T00:00:00-15:00",
           null,
           0,
           0
          ],
          [
           "EL SALVADOR",
           null,
           7.3,
           6.3,
           0
          ],
          [
           "PHILIPPINES",
           null,
           7.6,
           0.15,
           1
          ],
          [
           "COSTA RICA",
           "2012-09-05T14:42:07-05:00",
           7.6,
           0.16,
           2
          ],
          [
           "CANADA",
           null,
           7.7,
           12.98,
           1
          ],
          [
           "GUATEMALA",
           "2012-11-07T16:35:46-07:00",
           7.3,
           0.35,
           48
          ],
          [
           "JAPAN",
           "2012-12-07T08:18:23-07:00",
           7.2,
           1,
           0
          ],
          [
           "CHINA",
           null,
           null,
           5.2,
           0
          ],
          [
           "USA",
           "2013-01-05T08:58:19-05:00",
           7.5,
           1.5,
           0
          ],
          [
           "SOLOMON ISLANDS",
           "2013-02-06T01:12:25-06:00",
           7.9,
           11,
           10
          ],
          [
           "SOLOMON ISLANDS",
           "2013-02-08T15:26:38-08:00",
           7,
           0.09,
           0
          ],
          [
           "ARGENTINA",
           "2013-02-11T00:00:00-11:00",
           null,
           2,
           0
          ],
          [
           "RUSSIA",
           "2013-04-19T03:05:52-19:00",
           7.2,
           0.2,
           0
          ],
          [
           "MEXICO",
           "2013-04-22T01:16:32-22:00",
           6,
           0.13,
           0
          ],
          [
           "USA",
           "2013-06-13T00:00:00-13:00",
           null,
           1.8,
           0
          ],
          [
           "GREECE",
           "2013-06-15T16:11:02-15:00",
           6.2,
           0.01,
           0
          ],
          [
           "NEW ZEALAND",
           "2013-07-21T05:09:31-21:00",
           6.5,
           0.07,
           0
          ],
          [
           "NEW ZEALAND",
           "2013-08-16T02:31:05-16:00",
           6.5,
           0.08,
           0
          ],
          [
           "PAKISTAN",
           null,
           7.7,
           0.57,
           825
          ],
          [
           "NEW ZEALAND",
           null,
           6.5,
           0.07,
           0
          ],
          [
           "GREECE",
           "2013-10-12T13:11:53-12:00",
           6.6,
           0.01,
           0
          ],
          [
           "JAPAN",
           null,
           7.1,
           0.4,
           0
          ],
          [
           "ANTARCTICA",
           "2013-11-17T09:04:55-17:00",
           7.7,
           0.15,
           0
          ],
          [
           "NORWAY",
           null,
           null,
           8.2,
           0
          ],
          [
           "BRAZIL",
           "2014-02-09T10:30:00-09:00",
           null,
           1,
           0
          ],
          [
           "CHILE",
           "2014-03-16T21:16:29-16:00",
           6.7,
           0.26,
           0
          ],
          [
           "CHILE",
           "2014-04-01T23:46:47-01:00",
           8.2,
           4.63,
           7
          ],
          [
           "CHILE",
           "2014-04-03T02:43:13-03:00",
           7.7,
           0.74,
           0
          ],
          [
           "SOLOMON ISLANDS",
           "2014-04-12T20:14:39-12:00",
           7.6,
           0.05,
           0
          ],
          [
           "SOLOMON ISLANDS",
           "2014-04-13T12:36:19-13:00",
           7.4,
           0.16,
           0
          ],
          [
           "MEXICO",
           "2014-04-18T14:27:24-18:00",
           7.2,
           0.43,
           0
          ],
          [
           "PAPUA NEW GUINEA",
           "2014-04-19T13:29:21-19:00",
           7.5,
           0.11,
           0
          ],
          [
           "GREECE",
           null,
           6.9,
           0.16,
           3
          ],
          [
           "NEW ZEALAND",
           "2014-06-23T19:19:15-23:00",
           6.9,
           0.13,
           0
          ],
          [
           "USA",
           "2014-06-23T20:53:09-23:00",
           7.9,
           0.17,
           0
          ],
          [
           "SPAIN",
           "2014-06-23T00:00:00-23:00",
           null,
           2.5,
           0
          ],
          [
           "UKRAINE",
           null,
           null,
           2,
           0
          ],
          [
           "GREENLAND",
           "2014-07-02T14:06:00-02:00",
           null,
           10,
           0
          ],
          [
           "JAPAN",
           "2014-07-11T19:23:00-11:00",
           6.5,
           0.2,
           0
          ],
          [
           "ICELAND",
           "2014-07-21T23:24:00-21:00",
           null,
           60,
           0
          ],
          [
           "USA",
           null,
           6,
           0.08,
           0
          ],
          [
           "CHILE",
           "2014-10-09T02:14:31-09:00",
           7,
           0.47,
           0
          ],
          [
           "EL SALVADOR",
           "2014-10-14T03:51:34-14:00",
           7.3,
           0.02,
           1
          ],
          [
           "INDONESIA",
           "2014-11-15T02:31:41-15:00",
           7.1,
           0.09,
           0
          ],
          [
           "JAPAN",
           "2015-02-16T23:06:28-16:00",
           6.7,
           0.27,
           0
          ],
          [
           "VANUATU",
           "2015-02-19T13:18:32-19:00",
           6.4,
           8,
           0
          ],
          [
           "PAPUA NEW GUINEA",
           null,
           7.5,
           0.5,
           0
          ],
          [
           "JAPAN",
           "2015-05-02T16:50:43-02:00",
           5.7,
           0.6,
           0
          ],
          [
           "PAPUA NEW GUINEA",
           "2015-05-05T01:44:06-05:00",
           7.5,
           1,
           0
          ],
          [
           "NORWAY",
           "2015-05-10T00:00:00-10:00",
           null,
           0,
           0
          ],
          [
           "CHINA",
           null,
           null,
           6.2,
           2
          ],
          [
           "SCOTLAND",
           "2015-07-01T00:00:00-01:00",
           null,
           0.18,
           0
          ],
          [
           "SOLOMON ISLANDS",
           "2015-07-10T04:12:42-10:00",
           6.7,
           0.01,
           0
          ],
          [
           "SOLOMON ISLANDS",
           "2015-07-18T02:27:33-18:00",
           7,
           0.09,
           0
          ],
          [
           "USA",
           null,
           6.9,
           0.08,
           0
          ],
          [
           "CHILE",
           "2015-09-16T22:54:32-16:00",
           8.3,
           13.6,
           15
          ],
          [
           "USA",
           "2015-10-18T05:19:00-18:00",
           null,
           193,
           0
          ],
          [
           "CHILE",
           "2015-11-11T01:54:38-11:00",
           6.9,
           0.55,
           0
          ],
          [
           "JAPAN",
           "2015-11-13T20:51:31-13:00",
           6.7,
           0.3,
           0
          ],
          [
           "GREECE",
           "2015-11-17T07:10:07-17:00",
           6.5,
           0.15,
           2
          ],
          [
           "SOLOMON ISLANDS",
           "2015-11-18T18:31:04-18:00",
           6.8,
           0.1,
           0
          ],
          [
           "MOROCCO",
           null,
           6.3,
           0.02,
           1
          ],
          [
           "INDONESIA",
           "2016-03-02T12:49:48-02:00",
           7.8,
           0.21,
           0
          ],
          [
           "VANUATU",
           "2016-04-03T08:23:52-03:00",
           6.9,
           0.03,
           0
          ],
          [
           "ECUADOR",
           "2016-04-16T23:58:37-16:00",
           7.8,
           0.6,
           663
          ],
          [
           "VANUATU",
           null,
           7,
           0.02,
           0
          ],
          [
           "NEW CALEDONIA",
           "2016-08-12T01:26:36-12:00",
           7.2,
           0.19,
           0
          ],
          [
           "UK TERRITORY",
           "2016-08-19T07:32:22-19:00",
           7.4,
           0.1,
           0
          ],
          [
           "JAPAN",
           "2016-08-20T09:01:26-20:00",
           6,
           0.01,
           0
          ],
          [
           "NEW ZEALAND",
           "2016-09-01T16:37:57-01:00",
           7,
           0.21,
           0
          ],
          [
           "BRAZIL",
           "2016-10-16T00:00:00-16:00",
           null,
           0,
           1
          ],
          [
           "NEW ZEALAND",
           "2016-11-13T11:02:56-13:00",
           7.8,
           6.5,
           2
          ],
          [
           "JAPAN",
           "2016-11-21T20:59:49-21:00",
           6.9,
           1.44,
           0
          ],
          [
           "NICARAGUA",
           null,
           6.9,
           0.08,
           0
          ],
          [
           "SOLOMON ISLANDS",
           "2016-12-08T17:38:46-08:00",
           7.8,
           0.43,
           1
          ],
          [
           "SOLOMON ISLANDS",
           "2016-12-09T19:10:06-09:00",
           6.9,
           0.05,
           0
          ],
          [
           "PAPUA NEW GUINEA",
           "2016-12-17T10:51:10-17:00",
           7.9,
           0.08,
           0
          ],
          [
           "CHILE",
           null,
           7.6,
           0.44,
           0
          ],
          [
           "FIJI",
           "2017-01-03T21:52:30-03:00",
           6.9,
           0.07,
           0
          ],
          [
           "PAPUA NEW GUINEA",
           "2017-01-22T04:30:23-22:00",
           7.9,
           0.04,
           3
          ],
          [
           "IRAN",
           "2017-03-19T04:30:00-19:00",
           null,
           3,
           5
          ],
          [
           "CHILE",
           null,
           6.9,
           0.16,
           0
          ],
          [
           "PHILIPPINES",
           null,
           6.9,
           0.2,
           0
          ],
          [
           "USA",
           "2017-05-01T12:31:03-01:00",
           6.2,
           0.06,
           0
          ],
          [
           "NETHERLANDS",
           null,
           null,
           2,
           0
          ],
          [
           "GREECE",
           "2017-06-12T12:28:39-12:00",
           6.3,
           0.2,
           1
          ],
          [
           "GREENLAND",
           "2017-06-17T23:39:17-17:00",
           null,
           90,
           4
          ],
          [
           "PAPUA NEW GUINEA",
           "2017-07-13T03:36:08-13:00",
           6.4,
           0.04,
           0
          ],
          [
           "RUSSIA",
           "2017-07-17T23:34:13-17:00",
           7.7,
           0.1,
           0
          ],
          [
           "COLOMBIA",
           "2017-07-19T12:50:00-19:00",
           null,
           8,
           0
          ],
          [
           "TURKEY",
           "2017-07-20T22:31:11-20:00",
           6.6,
           1.9,
           2
          ],
          [
           "MEXICO",
           "2017-09-08T04:49:19-08:00",
           8.2,
           2.7,
           98
          ],
          [
           "NEW CALEDONIA",
           null,
           6.7,
           0.15,
           0
          ],
          [
           "NEW CALEDONIA",
           "2017-11-01T02:23:57-01:00",
           6.6,
           0.1,
           0
          ],
          [
           "VIETNAM",
           "2017-11-05T09:00:00-05:00",
           null,
           8.5,
           1
          ],
          [
           "NEW CALEDONIA",
           "2017-11-19T09:25:48-19:00",
           6.3,
           0.05,
           0
          ],
          [
           "NEW CALEDONIA",
           "2017-11-19T15:09:02-19:00",
           6.6,
           0.08,
           0
          ],
          [
           "NEW CALEDONIA",
           "2017-11-19T22:43:29-19:00",
           7,
           0.37,
           0
          ],
          [
           "KERMADEC ISLANDS",
           "2017-12-08T00:00:00-08:00",
           null,
           0.5,
           0
          ],
          [
           "HONDURAS",
           "2018-01-10T02:51:33-10:00",
           7.5,
           0.4,
           0
          ],
          [
           "PERU",
           "2018-01-14T09:18:45-14:00",
           7.1,
           0.15,
           0
          ],
          [
           "USA",
           "2018-01-23T09:31:40-23:00",
           7.9,
           0.25,
           0
          ],
          [
           "PAPUA NEW GUINEA",
           "2018-02-09T00:00:00-09:00",
           null,
           1,
           0
          ],
          [
           "USA",
           "2018-05-04T22:32:37-04:00",
           6.9,
           0.4,
           0
          ],
          [
           "JAPAN",
           "2018-05-06T06:03:59-06:00",
           5.4,
           0.15,
           0
          ],
          [
           "USA",
           "2018-05-15T00:00:00-15:00",
           null,
           0.22,
           0
          ],
          [
           "SPAIN",
           "2018-07-16T00:00:00-16:00",
           null,
           0.75,
           1
          ],
          [
           "INDONESIA",
           null,
           6.4,
           2.5,
           17
          ],
          [
           "INDONESIA",
           "2018-08-05T11:46:38-05:00",
           6.9,
           2,
           560
          ],
          [
           "FIJI",
           "2018-08-19T00:19:40-19:00",
           8.2,
           0,
           0
          ],
          [
           "INDONESIA",
           "2018-08-19T04:11:04-19:00",
           6.3,
           0,
           2
          ],
          [
           "VENEZUELA",
           "2018-08-21T21:31:47-21:00",
           7.3,
           0,
           5
          ],
          [
           "NEW CALEDONIA",
           null,
           7.1,
           0.27,
           0
          ],
          [
           "INDONESIA",
           null,
           7.5,
           10.73,
           4340
          ],
          [
           "CHINA",
           "2018-10-10T00:00:00-10:00",
           null,
           0,
           0
          ],
          [
           "NEW CALEDONIA",
           "2018-10-16T01:03:43-16:00",
           6.5,
           0.05,
           0
          ],
          [
           "GREECE",
           null,
           6.8,
           1.5,
           0
          ],
          [
           "NEW CALEDONIA",
           "2018-12-05T04:18:42-05:00",
           7.5,
           4,
           0
          ],
          [
           "RUSSIA",
           "2018-12-11T04:48:00-11:00",
           null,
           90,
           0
          ],
          [
           "RUSSIA",
           "2018-12-20T17:01:55-20:00",
           7.3,
           0,
           0
          ],
          [
           "INDONESIA",
           "2018-12-22T13:55:00-22:00",
           null,
           85,
           437
          ],
          [
           "ANTARCTICA",
           "2019-03-14T00:00:00-14:00",
           null,
           0.58,
           0
          ],
          [
           "JAPAN",
           "2019-03-20T00:00:00-20:00",
           null,
           2.9,
           0
          ],
          [
           "USA",
           "2019-04-14T23:17:00-14:00",
           null,
           1.2,
           0
          ],
          [
           "COSTA RICA",
           "2019-05-02T18:53:00-02:00",
           null,
           0,
           0
          ],
          [
           "PAPUA NEW GUINEA",
           "2019-05-14T12:58:25-14:00",
           7.6,
           0,
           0
          ],
          [
           "CHILE",
           "2019-06-14T00:19:12-14:00",
           6.4,
           0.07,
           0
          ],
          [
           "NEW ZEALAND",
           "2019-06-15T22:55:02-15:00",
           7.2,
           0.14,
           0
          ],
          [
           "JAPAN",
           "2019-06-18T13:22:19-18:00",
           6.4,
           0.11,
           0
          ],
          [
           "RUSSIA",
           null,
           6.3,
           0,
           0
          ],
          [
           "ITALY",
           "2019-07-03T14:45:42-03:00",
           null,
           1.3,
           1
          ],
          [
           "INDONESIA",
           "2019-08-02T12:03:27-02:00",
           6.9,
           0,
           8
          ],
          [
           "ITALY",
           null,
           null,
           0.3,
           0
          ],
          [
           "BRAZIL",
           null,
           null,
           0.59,
           0
          ],
          [
           "INDONESIA",
           "2019-11-14T16:17:40-14:00",
           7.1,
           0.11,
           1
          ],
          [
           "USA TERRITORY",
           "2020-01-07T08:24:26-07:00",
           6.4,
           0.06,
           4
          ],
          [
           "CUBA",
           null,
           7.7,
           0.11,
           0
          ],
          [
           "BRAZIL",
           "2020-02-23T00:00:00-23:00",
           null,
           0,
           0
          ],
          [
           "KERMADEC ISLANDS",
           "2020-03-14T10:01:17-14:00",
           6.4,
           0.02,
           0
          ],
          [
           "BRAZIL",
           "2020-03-14T00:00:00-14:00",
           null,
           0,
           0
          ],
          [
           "RUSSIA",
           null,
           7.5,
           0.25,
           0
          ],
          [
           "USA",
           "2020-04-23T00:00:00-23:00",
           null,
           0.5,
           0
          ],
          [
           "GREECE",
           "2020-05-02T12:51:06-02:00",
           6.6,
           0.95,
           0
          ],
          [
           "INDONESIA",
           null,
           null,
           3,
           1
          ],
          [
           "USA",
           "2020-06-13T00:00:00-13:00",
           null,
           0.5,
           0
          ],
          [
           "NEW ZEALAND",
           "2020-06-18T12:49:53-18:00",
           7.4,
           0.11,
           0
          ],
          [
           "MEXICO",
           "2020-06-23T15:29:05-23:00",
           7.4,
           1.57,
           10
          ],
          [
           "USA",
           "2020-07-22T06:12:44-22:00",
           7.8,
           0.24,
           0
          ],
          [
           "USA",
           "2020-10-19T20:54:39-19:00",
           7.6,
           0.76,
           0
          ],
          [
           "TURKEY",
           null,
           7,
           5.3,
           118
          ],
          [
           "SPAIN",
           "2020-11-14T15:00:00-14:00",
           null,
           0.5,
           0
          ],
          [
           "CANADA",
           null,
           null,
           0,
           0
          ],
          [
           "CHILE",
           null,
           6.7,
           0.16,
           0
          ],
          [
           "ANTARCTICA",
           "2021-01-23T23:36:50-23:00",
           6.9,
           0.04,
           0
          ],
          [
           "NEW CALEDONIA",
           "2021-02-10T13:19:55-10:00",
           7.7,
           0.78,
           0
          ],
          [
           "JAPAN",
           "2021-02-13T14:07:50-13:00",
           7.1,
           0.1,
           1
          ],
          [
           "NEW ZEALAND",
           "2021-03-04T13:27:36-04:00",
           7.3,
           0.28,
           0
          ],
          [
           "NEW ZEALAND",
           "2021-03-04T17:41:25-04:00",
           7.4,
           0.31,
           0
          ],
          [
           "NEW ZEALAND",
           "2021-03-04T19:28:31-04:00",
           8.1,
           1,
           0
          ],
          [
           "ALGERIA",
           "2021-03-18T00:04:06-18:00",
           6,
           0.05,
           0
          ],
          [
           "SAINT VINCENT AND THE GRENADINES",
           "2021-04-19T00:00:00-19:00",
           null,
           0.1,
           0
          ],
          [
           "ITALY",
           "2021-05-19T12:51:00-19:00",
           null,
           0.36,
           0
          ],
          [
           "INDONESIA",
           "2021-06-16T04:43:07-16:00",
           5.8,
           0.51,
           0
          ],
          [
           "USA",
           null,
           8.2,
           0.42,
           0
          ],
          [
           "PHILIPPINES",
           "2021-08-11T17:46:14-11:00",
           7.1,
           0.05,
           1
          ],
          [
           "UK TERRITORY",
           "2021-08-12T18:35:20-12:00",
           8.1,
           0.64,
           0
          ],
          [
           "HAITI",
           "2021-08-14T12:29:08-14:00",
           7.2,
           0,
           2248
          ],
          [
           "MEXICO",
           "2021-09-08T01:47:47-08:00",
           7,
           0.48,
           3
          ],
          [
           "GREECE",
           "2021-10-12T09:24:03-12:00",
           6.4,
           0,
           0
          ],
          [
           "INDONESIA",
           "2021-12-14T03:20:24-14:00",
           7.3,
           0.07,
           0
          ],
          [
           "TONGA",
           "2022-01-13T00:00:00-13:00",
           null,
           0.15,
           0
          ],
          [
           "TONGA",
           "2022-01-15T04:14:45-15:00",
           null,
           22,
           6
          ],
          [
           "TONGA",
           "2022-01-16T00:00:00-16:00",
           null,
           0.36,
           0
          ],
          [
           "NEW ZEALAND",
           null,
           6.5,
           0.1,
           0
          ],
          [
           "JAPAN",
           "2022-03-16T14:36:33-16:00",
           7.3,
           0.31,
           4
          ],
          [
           "NEW CALEDONIA",
           null,
           6.9,
           0.07,
           0
          ],
          [
           "NEW CALEDONIA",
           null,
           7,
           0.05,
           0
          ],
          [
           "PHILIPPINES",
           "2022-04-12T07:00:00-12:00",
           null,
           0,
           170
          ],
          [
           "USA",
           "2022-05-08T03:40:00-08:00",
           null,
           0.06,
           0
          ],
          [
           "MEXICO",
           null,
           5.5,
           0.24,
           0
          ],
          [
           "CHILE",
           null,
           null,
           0.8,
           0
          ],
          [
           "PHILIPPINES",
           null,
           7,
           0.08,
           11
          ],
          [
           "MEXICO",
           "2022-09-19T18:05:06-19:00",
           7.6,
           0.79,
           2
          ],
          [
           "MEXICO",
           "2022-09-22T06:16:09-22:00",
           6.8,
           0.09,
           2
          ],
          [
           "ITALY",
           "2022-10-09T07:23:00-09:00",
           null,
           0.04,
           0
          ],
          [
           "TONGA",
           "2022-11-11T10:48:45-11:00",
           7.3,
           0.12,
           0
          ],
          [
           "INDONESIA",
           "2022-11-18T13:37:08-18:00",
           6.9,
           0.25,
           0
          ],
          [
           "SOLOMON ISLANDS",
           "2022-11-22T02:03:07-22:00",
           7,
           0.03,
           0
          ],
          [
           "NEW ZEALAND",
           null,
           5.4,
           1,
           0
          ],
          [
           "ITALY",
           "2022-12-04T00:00:00-04:00",
           null,
           0.75,
           0
          ],
          [
           "ARGENTINA",
           "2022-12-07T00:00:00-07:00",
           null,
           0.46,
           0
          ],
          [
           "INDONESIA",
           "2023-01-09T17:47:35-09:00",
           7.6,
           0.09,
           1
          ],
          [
           "VANUATU",
           null,
           null,
           0.05,
           0
          ],
          [
           "TURKEY",
           "2023-02-06T01:17:35-06:00",
           7.8,
           0.25,
           56697
          ],
          [
           "TURKEY",
           "2023-02-06T10:24:29-06:00",
           7.5,
           0,
           0
          ],
          [
           "TURKEY",
           "2023-02-20T17:04:29-20:00",
           6.3,
           0,
           6
          ],
          [
           "KERMADEC ISLANDS",
           "2023-03-16T00:56:02-16:00",
           7,
           0.11,
           0
          ],
          [
           "NEW ZEALAND",
           null,
           7.1,
           0.11,
           0
          ],
          [
           "INDONESIA",
           null,
           7.1,
           0.11,
           0
          ],
          [
           "JAPAN",
           "2023-05-05T05:42:04-05:00",
           6.2,
           0.1,
           1
          ],
          [
           "NEW CALEDONIA",
           "2023-05-19T02:57:06-19:00",
           7.7,
           0.61,
           0
          ],
          [
           "NEW CALEDONIA",
           "2023-05-20T01:51:01-20:00",
           7.1,
           0.14,
           0
          ],
          [
           "USA",
           "2023-06-21T00:00:00-21:00",
           null,
           0.6,
           0
          ],
          [
           "USA",
           "2023-07-16T06:48:22-16:00",
           7.2,
           0.15,
           1
          ],
          [
           "CANADA",
           null,
           null,
           0.15,
           0
          ],
          [
           "GREENLAND",
           "2023-09-16T12:35:03-16:00",
           null,
           200,
           0
          ],
          [
           "JAPAN",
           "2023-10-05T01:59:58-05:00",
           6.1,
           0.2,
           0
          ],
          [
           "JAPAN",
           "2023-10-06T01:31:17-06:00",
           6.1,
           0.08,
           0
          ],
          [
           "JAPAN",
           "2023-10-08T00:00:00-08:00",
           null,
           0.6,
           0
          ],
          [
           "VANUATU",
           "2023-11-22T04:47:33-22:00",
           6.7,
           0.06,
           0
          ],
          [
           "PHILIPPINES",
           "2023-12-02T14:37:03-02:00",
           7.6,
           0.32,
           3
          ],
          [
           "VANUATU",
           "2023-12-07T12:56:30-07:00",
           7.1,
           0.08,
           0
          ],
          [
           "JAPAN",
           "2024-01-01T07:10:09-01:00",
           7.5,
           7.23,
           549
          ],
          [
           "TAIWAN",
           "2024-04-02T23:58:11-02:00",
           7.4,
           1,
           20
          ],
          [
           "PERU",
           null,
           7.2,
           0.2,
           0
          ],
          [
           "USA",
           "2024-08-07T12:54:49-07:00",
           null,
           17,
           0
          ],
          [
           "JAPAN",
           "2024-08-08T07:42:55-08:00",
           7.1,
           0.5,
           0
          ],
          [
           "RUSSIA",
           "2024-08-17T19:10:26-17:00",
           7,
           0,
           0
          ],
          [
           "JAPAN",
           "2024-09-23T23:14:19-23:00",
           5.6,
           0.5,
           0
          ],
          [
           "USA",
           "2024-11-16T00:00:00-16:00",
           null,
           9,
           0
          ],
          [
           "USA",
           "2024-12-05T18:44:21-05:00",
           7,
           0.09,
           0
          ],
          [
           "VANUATU",
           "2024-12-17T01:47:26-17:00",
           7.3,
           0.25,
           14
          ],
          [
           "CANADA",
           "2024-12-23T00:00:00-23:00",
           null,
           2.5,
           0
          ],
          [
           "PERU",
           null,
           null,
           4,
           3
          ]
         ],
         "geo": "geo",
         "hovertemplate": "<b>%{hovertext}</b><br><br>Latitude=%{lat}<br>Longitude=%{lon}<br>Country=%{customdata[0]}<br>Full Datetime=%{customdata[1]}<br>Earthquake Magnitude=%{marker.color}<br>Maximum Water Height (m)=%{customdata[3]}<br>Total Deaths=%{customdata[4]}<extra></extra>",
         "hovertext": [
          "CASCADIA SUBDUCTION ZONE",
          "NAGASAKI PREFECTURE",
          "TSUSHIMA, NAGASAKI PREFECTURE",
          "YELLOW SEA",
          "LATIUM",
          "LIGURIA-COTE D'AZUR",
          "OFF SW BOSO PENINSULA",
          "NORTHERN CHILE",
          "TENERIFE, CANARY ISLANDS",
          "BAY OF NAPLES",
          "ENSHUNADA",
          "NANKAIDO",
          "TOKAIDO",
          "BANDA SEA",
          "BANDA SEA",
          "HUNAN PROVINCE",
          "BANDA SEA",
          "SEIONAIKAI, JAPAN",
          "CAMPANIA",
          "AVA (INNWA)",
          "PERU",
          "SEIKAIDO",
          "TAAL, LUZON ISLAND",
          "TOKAIDO",
          "BALEARIC ISLANDS",
          "ISE BAY, JAPAN",
          "TAVIRA, ALGARVE",
          "IONIAN SEA",
          "BAY OF NAPLES",
          "S. PERU",
          "BONE (ANNABA)",
          "MARSEILLES",
          "KATSUYAMA",
          "NORTHERN SICILY",
          "SICILY CHANNEL",
          "TORRE ANNUNZIATA",
          "CENTRAL CHILE",
          "KASHIMA",
          "WESTERN NORWAY",
          "TYRRHENIAN SEA",
          "SANRIKU",
          "S. MEXICO",
          "KUJUKURI BEACH, JAPAN",
          "E. LUZON ISLAND",
          "CALCUTTA",
          "KAMCHATKA",
          "KAMCHATKA",
          "SOUTHERN CHILE",
          "MILOS ISLAND, AEGEAN ISLANDS",
          "ISLAND OF RHODES",
          "W. HOKKAIDO ISLAND",
          "LIVORNO",
          "CORINTH GULF",
          "GULF OF CORINTH",
          "CENTRAL CHILE",
          "N. KURIL ISLANDS",
          "TUSCANY COAST",
          "IONIAN AND ADRIATIC SEAS",
          "ANTALYA, TURKEY",
          "MATINA",
          "CENTRAL PERU",
          "PORTUGAL",
          "CORINTHOS-PATRAS GULF",
          "TAAL, LUZON ISLAND",
          "RIJEKA",
          "NW. HONSHU ISLAND",
          "CENTRAL CHILE",
          "MIYAGI",
          "PORT-AU-PRINCE",
          "AZUA  DE COMPOSTELA",
          "LESSER ANTILLES",
          "LIGURIAN SEA",
          "PORT-AU-PRINCE",
          "PORTUGAL",
          "LATAKIA",
          "BANDA SEA",
          "S. MEXICO",
          "MARMARA SEA",
          "BANDA SEA",
          "MARMARA SEA",
          "TAAL, LUZON ISLAND",
          "LAKE ONTARIO",
          "LISBON",
          "SW PORTUGAL",
          "RIVER TEES, ENGLAND",
          "CORUNA",
          "MASSACHUSETTS: EAST OF CAPE ANN",
          "SW PORTUGAL",
          "BALEARES",
          "ILFRACOMBE, ENGLAND",
          "LISBON",
          "GARGANO PENINSULA",
          "AZORES",
          "SCILLY ISLANDS, ENGLAND",
          "JAKARTA",
          "AKKO",
          "ISRAEL AND LEBANON COASTS",
          "GERMANY & DENMARK",
          "BAY OF NAPLES",
          "SW PORTUGAL",
          "MOUNT'S BAY, ENGLAND",
          "GUERNSEY, ENGLISH CHANNEL",
          "NORTHERN BAY OF BENGAL",
          "NORWAY: BERGEN",
          "THE THAMES, ENGLAND",
          "NW. HONSHU ISLAND",
          "SANRIKU",
          "N. SANRIKU",
          "SANRIKU, HACHIONHE",
          "BANDA SEA",
          "WEYMOUTH, ENGLAND",
          "BRISTOL, ENGLAND",
          "LISBON",
          "SWEDEN",
          "SANRIKU",
          "MARMARA SEA",
          "SANTIAGO DE CUBA",
          "CUMANA",
          "MARTINIQUE & BARBADOS",
          "IRELAND",
          "SOUTH CHINA SEA",
          "LONDON, ENGLAND",
          "CAPE SAINT GEORGE, NEW IRELAND",
          "RYUKYU ISLANDS",
          "PORT-AU-PRINCE",
          "SW. KYUSHU ISLAND",
          "PORT-AU-PRINCE",
          "RYUKYU ISLANDS",
          "N. MOLUCCAS ISLANDS",
          "AEGEAN SEA",
          "TANGIERS",
          "GUATEMALA-NICARAGUA",
          "LIVORNO",
          "MEDITERRANEAN SEA",
          "SANTIAGO DE CUBA",
          "AMBON ISLAND",
          "ISLAND OF CORSICA",
          "HAITI & DOMINICAN REPUBLIC",
          "SWEDEN: SUNDVAL",
          "BALTIC SEA",
          "AEGEAN SEA",
          "S. KURIL ISLANDS",
          "S. KURIL ISLANDS",
          "SW. KYUSHU ISLAND",
          "BAY OF KOTOR",
          "SAVANNA LA MAR",
          "SW. KYUSHU ISLAND",
          "SW. KYUSHU ISLAND",
          "JAMAICA: UNKNOWN LOCATION",
          "JAMAICA",
          "TAIWAN STRAIT",
          "ODAWARA, SAGAMI BAY",
          "TYRRHENIAN CALABRIA",
          "TYRRHENIAN CALABRIA",
          "MESSINA STRAITS",
          "TYRRHENIAN CALABRIA",
          "TYRRHENIAN CALABRIA",
          "MESSINA STRAITS",
          "TYRRHENIAN CALABRIA",
          "IONIAN CALABRIA",
          "TYRRHENIAN CALABRIA",
          "MESSINA STRAITS",
          "S. MEXICO",
          "S. PERU",
          "SAN MARCOS",
          "SAN MARCOS",
          "MONTEGO BAY",
          "IRISH SEA",
          "ALASKA PENINSULA, AK",
          "SHUMAGIN ISLANDS, AK",
          "E. ALEUTIAN ISLANDS, AK",
          "ORAN",
          "KAMCHATKA",
          "RYUKYU ISLANDS",
          "OASAKA BAY",
          "IONIAN SEA",
          "AZORES",
          "NORTH SEA",
          "SHIMABARA BAY, KYUSHU ISLAND",
          "W. HOKKAIDO ISLAND",
          "TAINAN",
          "KAMCHATKA",
          "TOKAIDO",
          "W. OFF AOMORI",
          "SANRIKU",
          "PLYMOUTH, ENGLAND",
          "CORINTH GULF",
          "BOGOSLOF ISLAND, AK",
          "LUZON ISLAND",
          "SW. SUMATRA",
          "SW. KYUSHU ISLAND",
          "MATINA",
          "FRANCE: AIGEUS-MORTES",
          "ICELAND: BASINDER",
          "SW. HONSHU ISLAND",
          "AZORES",
          "BAKAR",
          "ANTIGUA ISLAND & ST. CHRISTOPHER",
          "SW ENGLAND",
          "CUMANA",
          "BLACK SEA",
          "HARBOUR OF ALGIERS",
          "NW. HONSHU ISLAND",
          "PELOPONNESUS, GREECE",
          "ALBORAN SEA",
          "CORINTHOS-PATRAS GULF",
          "NW. HONSHU ISLAND",
          "BAY OF NAPLES",
          "GULF OF PATRAS",
          "NORFOLK ISLAND",
          "CAMPANIA",
          "SANTA BARBARA, S. CALIFORNIA",
          "TERRACINA",
          "CENTRAL PERU",
          "ITALIAN COAST",
          "E. AWA, TOKUSHIMA PREFECTURE",
          "TOKAIDO",
          "GULF OF LA SPEZIA",
          "PORTUGAL",
          "CAPE OF GOOD HOPE",
          "CRETE",
          "MEXICO",
          "NW. HONSHU ISLAND",
          "CENTRAL CHILE",
          "AR: NE -  NEW MADRID EARTHQUAKES",
          "AR: NE  - NEW MADRID EARTHQUAKES",
          "NEW MADRID, MO",
          "NEW MADRID, MO",
          "LA GUAIRA",
          "MARSEILLES",
          "KINGSTON",
          "S. CALIFORNIA",
          "CAMPANIA",
          "TAMBORA",
          "AMBON ISLAND",
          "BALI SEA",
          "LISBON",
          "MALACCA STRAIT",
          "CENTRAL MEXICO",
          "W. IZU PENIN., JAPAN",
          "IONIAN SEA",
          "PHILADELPHIA, PENNSYLVANIA",
          "SICILY CHANNEL",
          "CORINTHOS-PATRAS GULF",
          "EASTERN SICILY",
          "LIGURIA-COTE D'AZUR",
          "BENGKULU, SUMATRA",
          "CENTRAL MEXICO",
          "BALI SEA",
          "GENOA",
          "GENOA",
          "NORTHERN CHILE",
          "KUTCH",
          "NORWAY:  RANA REGION: LUROY",
          "E. ALEUTIAN ISLANDS, AK",
          "ISLAND OF LEVKAS",
          "S. MEXICO",
          "GENOA",
          "FLORES SEA",
          "ISLAND OF ZAKYNTHOS",
          "IONIAN SEA",
          "LA MATINA",
          "ASSATEAGUE ISLAND, VA",
          "BLACK SEA",
          "BEIRUT",
          "CALABRIAN ARC",
          "MATINA",
          "ANTIOCHIA",
          "CENTRAL CHILE",
          "PALERMO",
          "LAKE ERIE",
          "DUBROVNIK",
          "JAVA",
          "SAINT PIERRE",
          "BASSE TERRE",
          "W. LUZON ISLAND",
          "SAINT PIERRE",
          "DENMARK",
          "IONIAN SEA",
          "SANTA MARTA",
          "UNIMAK ISLAND, AK",
          "PORT-OF-SPAIN",
          "SENIGALLIA",
          "UNIMAK ISLAND, AK",
          "N. CALIFORNIA",
          "ALASKA PENINSULA, AK",
          "KAMCHATKA",
          "ECUADOR",
          "CENTRAL PERU",
          "AMAKUSA SEA",
          "GENOA",
          "W. LUZON ISLAND",
          "NW. HONSHU ISLAND",
          "FLORES SEA",
          "CONSTANTINOPLE",
          "SC. CHILE",
          "HOLLAND",
          "W. LUZON ISLAND",
          "W. LUZON ISLAND",
          "SAN REMO",
          "SCIACCA",
          "TRINIDAD & ST. CHRISTOPHER",
          "CUTRO",
          "ALBANIA",
          "S. MEXICO",
          "YUNNAN PROVINCE",
          "S. PERU",
          "SW. SUMATRA",
          "NW. HONSHU ISLAND",
          "W. HOKKAIDO ISLAND",
          "S. MEXICO",
          "CENTRAL CHILE",
          "IONIAN ISLANDS",
          "SANRIKU",
          "MIYAGI, JAPAN",
          "TASMANIA",
          "FLORES SEA",
          "ROSSANO",
          "NORTHERN CHILE",
          "SANRIKU",
          "FLORES SEA",
          "ISRAEL and SYRIAN COASTS",
          "VLISSINGEN",
          "VIRGIN ISLANDS",
          "ACAPULCO",
          "BANDA ACEH",
          "MEXICO CITY",
          "SOUTHERN CHILE",
          "BLACK SEA",
          "CENTRAL CHILE",
          "RIJEKA",
          "MARTINIQUE",
          "CENTRAL CHILE",
          "SE. HOKKAIDO ISLAND",
          "JAVA",
          "S. CALIFORNIA",
          "CENTRAL PERU",
          "N. MOLUCCAS ISLANDS",
          "PHILIPPINE SEA",
          "WHITIANGA",
          "PHILADELPHIA, PENNSYLVANIA",
          "KAMCHATKA",
          "MOLUCCAS ISLANDS",
          "BANDA SEA",
          "PELOPONNESUS, GREECE",
          "CAP-HAITIAN",
          "ST. LAWRENCE",
          "BAY OF BENGAL:  NORTHERN END",
          "SW. SUMATRA",
          "BALI SEA",
          "POINTE-A-PITRE",
          "MARIE-GALANTE ISLAND",
          "SE. HOKKAIDO ISLAND",
          "CORNWALL, ENGLAND",
          "NEW ZEALAND",
          "DUBROVNIK",
          "ISLAND OF CHALKI",
          "DUBROVNIK",
          "IAMACHI, JAPAN",
          "DUBROVNIK",
          "CELEBES SEA",
          "S. MEXICO",
          "ISLAND OF SICILY",
          "RANN OF KUTCH",
          "N. NEW ZEALAND",
          "DUBROVNIK",
          "TERNATE ISLAND, N. MOLUCCAS ISLANDS",
          "LAKE TAUPO, NORTH ISLAND",
          "IZMIR",
          "LIVORNO",
          "TUSCANY",
          "TUSCANY",
          "TUSCANY",
          "TUSCANY",
          "TUSCANY",
          "TUSCANY",
          "TUSCANY",
          "TUSCANY",
          "TUSCANY",
          "TUSCANY",
          "LIVORNO",
          "LIVORNO",
          "LIVORNO",
          "CENTRAL PERU",
          "AZORES",
          "NAPLES",
          "SANRIKU",
          "CENTRAL CHILE",
          "LITTLE NICOBAR ISLAND",
          "TAHITI",
          "FISHING SHIPS HARBOUR, NEWFOUNDLAND",
          "COOK STRAIT",
          "COOK STRAIT",
          "WELLINGTON",
          "GUAM, MARIANA ISLANDS",
          "KAMCHATKA",
          "CENTRAL CHILE",
          "LIVORNO",
          "LIVORNO",
          "SANRIKU",
          "LIVORNO",
          "FETIYE, ASIA MINOR",
          "CENTRAL CHILE",
          "ASIA MINOR",
          "LAMPUNG BAY",
          "N. CALIFORNIA",
          "KHALKI ISLET",
          "NORTHERN CHILE",
          "LIGURIAN SEA",
          "ALBANIAN COASTS",
          "SAN FRANCISCO BAY, N. CALIFORNIA",
          "LIVORNO",
          "JAVA",
          "LIVORNO",
          "ASIA MINOR",
          "LIVORNO",
          "SANTIAGO DE CUBA",
          "ASIA MINOR",
          "W. LUZON ISLAND",
          "BANDA SEA",
          "LIVORNO - LIGURIAN SEA",
          "SIBOLGA, SUMATRA",
          "BANDA SEA",
          "AMBON ISLAND, BANDA SEA",
          "BANDA SEA",
          "SAN FRANCISCO, N. CALIFORNIA",
          "BANDA SEA",
          "PERU",
          "N. MEXICO",
          "S. MEXICO",
          "BANDANEIRA",
          "TASMANIA",
          "TYRRHENIAN SEA -SALERNO",
          "CUMANA",
          "CENTRAL GREECE (EVOIKOS GULF)",
          "OKINAWA ISLAND",
          "E. TAIWAN-RYUKYU ISLANDS",
          "DALMATIA - ADRIATIC SEA",
          "TONGATAPU ISLAND",
          "BANDA SEA",
          "PHILIPPINE SEA",
          "KODIAK ISLAND, AK",
          "LIGURIAN SEA",
          "S. CALIFORNIA",
          "N. KURIL ISLANDS",
          "N. KURIL ISLANDS",
          "S. CALIFORNIA",
          "COSTA RICA-PANAMA",
          "COSTA RICA-PANAMA",
          "S. CALIFORNIA",
          "N. MOLUCCAS ISLANDS",
          "N. CALIFORNIA",
          "N. CALIFORNIA",
          "N. CALIFORNIA",
          "N. CALIFORNIA",
          "N. CALIFORNIA",
          "S. MEXICO",
          "ENSHUNADA SEA",
          "NANKAIDO",
          "LIGURIAN SEA",
          "NORTHERN ISLAND",
          "WHARANUI",
          null,
          "ASIA MINOR",
          "AZORES",
          "N. CALIFORNIA",
          "FLORES ISLAND",
          "LIGURIAN SEA  - NICE",
          "S. CALIFORNIA",
          "CENTRAL CHILE",
          "TRUJILLO",
          "N. CALIFORNIA",
          "ENSHUNADA",
          "TOKAIDO",
          "NANKAIDO",
          "AZORES",
          "N. CALIFORNIA",
          "SANGIHE ISLAND",
          "JAVA-FLORES SEA",
          "UNIMAK ISLAND, AK",
          "BAY OF HONDURAS",
          "SEA OF ALBORAN",
          "SEA OF ALBORAN",
          "SE. HOKKAIDO ISLAND",
          "CRETE",
          "CHIOS ISLAND, AEGEAN ISLANDS",
          "NILE RIVER",
          "BISMARCK SEA",
          "BALI SEA",
          "SEA OF ALBORAN",
          "TOKAIDO",
          "MARMARA SEA",
          "KEMA, SULAWESI I, N. MOLUCCAS IS",
          "KEMA, SULAWESI I, N. MOLUCCAS IS",
          "TASMAN SEA",
          "GULF OF CORINTH",
          "CENTRAL CHILE",
          "DOVER STRAITS, ENGLAND",
          null,
          "SE. NEW ZEALAND",
          "N. MOLUCCAS ISLANDS",
          "N. MOLUCCAS ISLANDS",
          "LONTOR ISLAND, BANDA SEA",
          "N. MOLUCCAS ISLANDS",
          "IMROZ - AEGEAN SEA",
          "EL SALVADOR",
          "HALF MOON BAY, N. CALIFORNIA",
          "BANDA SEA",
          "NORTHERN CHILE",
          "N. CENTRAL CHILE",
          "PIREAUS",
          "SOUTH OF JAVA",
          "N. MOLUCCAS ISLANDS",
          "TASMANIA",
          "EL SALVADOR",
          "N. MOLUCCAS ISLANDS",
          "N. MOLUCCAS ISLANDS",
          "SEA OF ALBORAN",
          "S. MEXICO",
          "ANSE-A-VEAU",
          "PETIT TROU NIPPES",
          "CENTRAL PERU",
          "CERAM SEA",
          "HAWAII",
          "SW. SUMATRA",
          "WANAIDJAS",
          "SW. SUMATRA",
          "SC. CHILE",
          "SW. SUMATRA",
          "N. CALIFORNIA",
          "N. CALIFORNIA",
          "JAVA",
          "SW. SUMATRA",
          "SW. SUMATRA",
          "OFF MIYAGI",
          "CORINTH GULF",
          "IONIAN SEA",
          "LAKE BAYKAL (BAIKAL)",
          "HAWAII",
          "W. LUZON ISLAND",
          "LIGURIAN SEA",
          "CHERIBON DISTRICT, JAVA",
          "S. CALIFORNIA",
          "GOLD COAST",
          "GULF OF GENOVA",
          "JAVA",
          "AEGEAN SEA",
          "W. LUZON ISLAND",
          "VANUATU ISLANDS",
          "NW. HOKKAIDO ISLAND",
          "SW. SUMATRA",
          "JACMEL",
          "NW. IRIAN JAYA",
          "SW AVALON PENINSULA, NEWFOUNDLAND",
          "CENTRAL PERU",
          "RYUKYU ISLANDS",
          "CALLAO",
          "UNALASKA ISLAND, AK",
          "SAN FRANCISCO, CA",
          "N. CALIFORNIA",
          "SULU SEA",
          "PHILIPPINES",
          "TONGA ISLANDS",
          "CENTRAL PERU",
          "ALBANIAN COASTS",
          "ALBANIAN COASTS",
          "CHIOS ISLAND, AEGEAN ISLANDS",
          "THERA ISLAND (SANTORINI)",
          "E. SPORADES ISLANDS, AEGEAN ISLANDS",
          "S. COASTS PELOPONNESUS, GREECE",
          "ALBANIAN COASTS",
          "BAY OF VLORE",
          "ALBANIAN COASTS",
          "SYDNEY HARBOR",
          "SYDNEY HARBOR",
          "KODIAK ISLAND, AK",
          "MANUA ISLANDS, AMERICAN SAMOA",
          "PORT TOWNSEND, WA",
          "IONIAN SEA",
          "LESBOS",
          "LAKE MAGGIORE",
          "LIXOURI",
          "WESTERN NORWAY",
          "JAVA",
          "SYDNEY HARBOR",
          "PELOPONNESUS, GREECE",
          "IONIAN SEA",
          "VIRGIN ISLANDS",
          "AEGEAN SEA",
          "E. CHINA SEA",
          "VIRGIN ISLANDS",
          "HAWAII",
          "HAWAII",
          "HAWAII",
          "HAWAII",
          "SW ENGLAND",
          "SHUMAGIN ISLANDS, AK",
          "LAKE GARDA",
          "S. MEXICO",
          "S. CALIFORNIA",
          "PERU-NORTHERN CHILE",
          "S. MEXICO",
          "NORTHERN CHILE",
          "RIO CARIBE",
          "NORTHERN CHILE",
          "ANDAMAN ISLANDS",
          "CALABRIAN ARC",
          "CENTRAL CHILE",
          "HAWAII",
          "S. PERU",
          "CENTRAL CHILE",
          "NEW ZEALAND",
          "N. CALIFORNIA",
          "NORTH ISLAND",
          "CENTRAL CHILE",
          "SOUTHERN CHILE",
          "N. CALIFORNIA",
          "N. CALIFORNIA",
          "NEW ZEALAND",
          "SOUTH ISlAND",
          "PERU",
          "N. CALIFORNIA",
          "NORTHERN CHILE",
          "OFF COAST OF HAWAII",
          "CENTRAL CHILE",
          "SYDNEY HARBOR",
          "SULU SEA",
          "S. PERU",
          "NORTHERN CHILE",
          "NORTHERN CHILE",
          "AEGEAN SEA",
          "BLACK SEA",
          "IONIAN SEA",
          "WELLINGTON",
          "WESTPORT",
          "PUERTO ANGEL, MEXICO",
          "GUADELOUPE",
          "ALEXANDRIA",
          "ADRIATIC SEA",
          "IONIAN SEA",
          "ADRIATIC SEA",
          "SYDNEY HARBOR",
          "CAPE TRINITY, QUEBEC",
          "TYRRHENIAN SEA",
          "CALABRIAN ARC",
          "LIGURIAN SEA",
          "S. PERU",
          "S. MEXICO",
          "HAWAII",
          "HAWAII",
          "RUANG",
          "CENTRAL CHILE",
          "SULU SEA",
          "LONG ISLAND, NEW YORK",
          "CENTRAL CHILE",
          "S. PERU",
          "N. MOLUCCAS ISLANDS",
          "NORTHERN FRANCE: ILLE-ET-VILAINE",
          "NORTHERN CHILE",
          "CORINTH GULF",
          "SOUTHERN CHILE",
          "S. PERU",
          "HAWAII",
          "HAWAII",
          "PHILIPPINES",
          "SW. HONSHU ISLAND",
          "S. CALIFORNIA",
          "SAMANDAG (SUAIDIYA)",
          "LAKE ONTARIO",
          "FOX ISLANDS, ALEUTIAN ISLANDS, AK",
          "HAWAII",
          "SAN FRANCISCO, N. CALIFORNIA",
          "PENOBSCOT BAY, MAINE",
          "NC. CHILE/ SC. CHILE",
          "PANAMA CITY",
          "IONIAN SEA",
          "NORTHERN CHILE",
          "N. CALIFORNIA",
          "VIRGIN ISLANDS",
          "TASMANIA",
          "S. MEXICO",
          "CENTRAL MEXICO",
          "ADRIATIC SEA",
          "LIFOU ISLAND, LOYALTY ISLANDS",
          "VANUATU ISLANDS",
          "VANUATU ISLANDS",
          "VANUATU ISLANDS",
          "CRIMEA",
          "N. CALIFORNIA",
          "CERAM SEA",
          "RYUKYU ISLANDS",
          "LIGURIAN SEA",
          "S.W. COAST OF HAWAII",
          "S.W. COAST OF HAWAII",
          "N. TO S. CALIFORNIA",
          "HAWAII",
          "NORTHERN CHILE",
          "CENTRAL PERU",
          "NORTHERN CHILE",
          "NORTHERN CHILE",
          "NORTHERN CHILE",
          "CENTRAL CHILE",
          "NORTHERN CHILE",
          "BUENAVENTURA",
          "WAIPIRO BAY",
          "TANNA ISLAND",
          "CALIFORNIA",
          "ALEUTIAN ISLANDS, AK",
          "NORTHERN CHILE",
          "CENTRAL PERU",
          "CENTRAL CHILE",
          "NORTHERN CHILE",
          "BISMARCK SEA",
          "CENTRAL PERU",
          "TANNA ISLAND",
          "CENTRAL CHILE",
          "NORTHERN CHILE",
          "NORTHERN CHILE",
          "GULF OF IZMIT",
          "NORTHERN CHILE",
          "NORTHERN CHILE",
          "UNALASKA ISLAND, AK",
          "NORTHERN CHILE",
          "TATAR STRAIT",
          "S. CALIFORNIA",
          "CENTRAL CHILE",
          "STROMBOLI ISLAND",
          "GREYMOUTH",
          "GULF OF SUEZ",
          "ADRIATIC SEA",
          "CENTRAL CHILE",
          "S. CALIFORNIA",
          "WESTERN NORWAY",
          "CALIBRIAN ARC",
          "E. LUZON ISLAND",
          "CENTRAL CHILE",
          "IONIAN SEA",
          "GISBORNE",
          "SYDNEY HARBOR",
          "CHIRIKOF ISLAND, AK",
          "SITKA, AK",
          "CHIOS ISLAND, AEGEAN ISLANDS",
          "CHIOS ISLAND, AEGEAN ISLANDS",
          "PIGEON BAY (BANKS PENINSULA)",
          "FIJI ISLANDS",
          "NORTHERN CHILE",
          "KINGSTON",
          "HOKKAIDO ISLAND",
          "NORTHERN CHILE",
          "ISLAND OF TONGATAPU",
          "AETOLIKO LAGOON",
          "BAY OF BENGAL: W OF CAR NICOBAR IS",
          "CENTRAL CHILE",
          "GLENBURN, WAIRARAPA",
          "SAN BLAS ARCHIPELAGO",
          "NORTHERN CHILE",
          "BANDA SEA",
          "SOUTH CHINA SEA",
          "S. MEXICO",
          "SAMOA",
          "HORN ISLAND [AYER ISLAND], JAKARTA",
          "BANKA ISLAND",
          "IONIAN ISLANDS",
          "KRAKATAU",
          "COOK INLET, AK",
          "JAVA-S. JAVA",
          "PUUNALUU, HAWAII",
          "MONTEVIDEO",
          "N. CALIFORNIA",
          "OFFSHORE MASSAWA",
          "ROCKAWAY BEACH, NEW YORK",
          "IN THE DETROIT RIVER, MI",
          "GULF OF PANAMA",
          "N. CALIFORNIA",
          "OKAYAMA PREFECTURE",
          "NEW HAVEN, CT",
          "LIGURIAN SEA",
          "ALGERIA",
          "MOLUCCAS ISLANDS",
          "AJERBANGIS, SUMATRA",
          "SULAWESI ISLAND",
          "NORTHERN CHILE",
          "N. CALIFORNIA",
          "N. CALIFORNIA",
          "BANDA ACEH",
          "BANDA ACEH",
          "LAKE TARAWERA, NORTH ISLAND",
          "IONIAN SEA",
          "SC. CHILE",
          "CHARLESTON, SC",
          "PANAY ISLAND",
          "HAWAII",
          "LIGURIAN SEA",
          "N. MEXICO",
          "SIGLI, ACEH, SUMATRA",
          "N. CALIFORNIA",
          "MOLE SAINT-NICOLAS",
          "PELOPONNESUS, GREECE",
          "RITTER ISLAND",
          "BREUEH ISLAND",
          "MID-NORWAY",
          "LA PLATA RIVER",
          "BOHAI GULF",
          "LIGURIAN SEA",
          "GULF OF CORINTH",
          "HAWAII",
          "TONGA",
          "MINDORO ISLAND",
          "JAVA-S. JAVA",
          "N. MOLUCCAS ISLANDS",
          "ASBURY PARK, NJ",
          "MOLUCCAS ISLANDS",
          "JAVA",
          "GARGANO PENINSULA",
          "CASPIAN SEA",
          "SEA OF ALBORAN",
          "SIGLI, ACEH, SUMATRA",
          "N. MOLUCCAS ISLANDS",
          "BANDA SEA",
          "NEW ZEALAND",
          "N. MEXICO",
          "NEW BRIGHTON",
          "TIMOR SEA",
          "WASHINGTON",
          "AURI, HALMAHERA",
          "NORTHERN CHILE",
          "MONTEVIDEO",
          "GUAM, MARIANA ISLANDS",
          "NORTHEAST SUMATRA",
          "AWU VOLCANO, SANGIHE ISLAND",
          "TOFUA",
          "TYRRHENIAN SEA",
          "SERAM ISLAND",
          "SW. HONSHU ISLAND",
          "SAMOTHRACE",
          "SAMOTHRACE",
          "KINGSTON",
          "IONIAN SEA",
          "S. KURIL ISLANDS",
          "NEMURO, JAPAN",
          "ALBANIAN COASTS",
          "AGUSAN RIVER",
          "PORT VILA, EFATE ISLAND",
          "PORT VILA, EFATE ISLAND",
          "SE. HOKKAIDO ISLAND",
          "NORTH EVOIKOS GULF",
          "OFF WEST COAST",
          "MARMARA SEA",
          "YAMAGATA, JAPAN",
          "CALABRIAN ARC",
          "ATLANTIC OCEAN",
          "PUYALLUP RIVER DELTA, TACOMA, WA",
          "HAWAII",
          "SOLOMON SEA",
          "S. CALIFORNIA",
          "W. KYUSHU ISLAND",
          "NORTHERN CHILE",
          "CASPIAN SEA",
          "PIEGON BAY",
          "LAKE TAUPO, NORTH ISLAND",
          "HIGH BRIDGE, NJ",
          "N. CALIFORNIA",
          "CHARLESTON, MO",
          "TYRRHENIAN SEA",
          "KASHIMA, JAPAN",
          "KINGSTON",
          "TIMOR ISLAND",
          "SANRIKU",
          "SW. SUMATRA",
          "LIGURIAN SEA",
          "IONIAN SEA",
          "SANTA BARBARA, CA",
          "CELEBES SEA",
          "SANRIKU",
          "FLORES SEA",
          "TINAKULA, SANTA CRUZ ISLANDS",
          "GULF OF ALASKA, AK",
          "OFF EAST COAST OF SOUTH ISLAND",
          "SAMAR SEA",
          "ASSAM",
          "S. MEXICO",
          "SANRIKU",
          "SULU SEA",
          "SULU SEA",
          "WELLINGTON",
          "SAMAR ISLAND",
          "SANTO DOMINGO",
          "OAKLAND, N. CALIFORNIA",
          "HONSHU ISLAND",
          "PELOPONNESUS, GREECE",
          "CENTRAL CHILE",
          "IONIAN ISLANDS",
          "EAST COAST, NEW IRELAND",
          "IONIAN SEA",
          "NORTHERN AUSTRALIA",
          "AZORES",
          "CENTRAL CHILE",
          "CAPE YAKATAGA, AK",
          "YAKUTAT BAY, AK",
          "BANDA SEA",
          "TAGONOURA",
          "BISMARCK SEA",
          "SEIKAIDO",
          "SEIKAIDO",
          "S. CALIFORNIA",
          "GALELA, HALMAHERA ISLAND",
          "MEXICO",
          "MEXICO",
          "LITUYA BAY, AK",
          "BISMARCK SEA",
          "RABAUL HARBOR",
          "BISMARCK SEA",
          "MANCUTO",
          "MONTEREY BAY, N. CALIFORNIA",
          "BLACK SEA",
          "IWATE, JAPAN",
          "RYUKYU ISLANDS",
          "OFF NORTHEAST COAST HONSHU",
          "LOYALTY ISLANDS",
          "OFF NORTHEAST COAST HONSHU",
          "OFF NORTHEAST COAST HONSHU",
          "E. LUZON ISLAND",
          "NICARAGUA",
          "FOX ISLANDS, ALEUTIAN ISLANDS, AK",
          "OCOSA",
          "EL SALVADOR-GUATEMALA",
          "CENTRAL GREECE (EVOIKOS GULF)",
          "OCOS",
          "MOUNT PELEE",
          "SOUFRIERE VOLCANO",
          "MOUNT PELEE",
          "LAKEBA ISLAND",
          "MOUNT PELEE",
          "FORT-DE-FRANCE",
          "AEGEAN SEA",
          "MARTINIQUE",
          "MEXICO",
          "ILLANA BAY, CELEBES SEA",
          "MOUNT PELEE",
          "OCOS",
          "GUAM, MARIANA ISLANDS",
          "BANDA SEA",
          "CALABRIAN ARC",
          "S. MEXICO",
          "TAIWAN",
          "NORTHERN CHILE",
          "HAWAII",
          "HAWAII",
          "BLACKLEAD ISLAND, CUMBERLAND SOUND",
          "HAWAII",
          "HAWAII",
          "HAWAII",
          "NORTHERN CHILE",
          "OFF THE COAST PANAMA-COLOMBIA",
          "CELEBES SEA",
          "WASHINGTON-OREGON",
          "KAMCHATKA PENINSULA, RUSSIA",
          "KAMCHATKA PENINSULA, RUSSIA",
          "BANDA SEA",
          "CAPE TURNAGAIN",
          "NEW ZEALAND",
          "S. JAVA",
          "BOCAS DEL TORO",
          "COOK IS.",
          "LOEN",
          "AEGEAN SEA",
          "GULF OF NICOYA",
          "N. NEW ZEALAND",
          "MALO PASS",
          "KANGRA, INDIA",
          "DISENCHANTMENT BAY, AK",
          "JAPAN:  OFF FUKUSHIMA",
          "MATAVANU VOLCANO",
          "TYRRHENIAN CALABRIA",
          "BLACK SEA",
          "CAUCASUS",
          "NORTH AEGEAN SEA",
          "PORT VILA",
          "PORT VILA",
          "W. LUZON ISLAND",
          "OFF COAST",
          "CARACAS",
          "COLOMBIA-ECUADOR",
          "BUENAVENTURA",
          "TYRRHENIAN SEA",
          "N. CALIFORNIA",
          "NORTHERN CHILE",
          "OFF COAST",
          "MARSHALL ISLANDS",
          "S. CALIFORNIA",
          "CENTRAL CHILE",
          "SOLOMON SEA",
          "BISMARCK SEA",
          "WASHINGTON-OREGON",
          "GOLD COAST",
          "MATAVANU VOLCANO",
          "S. PERU",
          "NW. SUMATRA",
          "JAMAICA",
          "KARAKELONG, TALAUD ISLANDS",
          "S. MEXICO",
          "MATAVANU VOLCANO",
          "MATAVANU VOLCANO",
          "MATAVANU VOLCANO",
          "MATAVANU VOLCANO",
          "MATAVANU VOLCANO",
          "SKAGWAY, AK",
          "MATAVANU VOLCANO",
          "IONIAN CALABRIA",
          "BISMARCK SEA",
          "SW. SUMATRA",
          "PRINCE WILLIAM SOUND, AK",
          "TIMOR SEA",
          "NOTRE DAME DE LA SALETTE",
          "CRIMEA",
          "GULF OF SAINT LAWRENCE",
          "HAWAII",
          "S. PERU",
          "MESSINA STRAIT, IONIAN SEA",
          "RAROTONGA",
          "OFF BOSO PENINSULA",
          "OFF BOSO PENINSULA",
          "BLACK SEA",
          "SUMATRA",
          "NORTHERN CHILE",
          "VANUATU ISLANDS",
          "S. MEXICO",
          "ANEGAWA, JAPAN",
          "LOUISIANA: GRAND ISLE",
          "UTAH",
          "GUAM, MARIANA ISLANDS",
          "MATUPI HARBOR",
          "LAKE TAUPO, NORTH ISLAND",
          "NOME, AK",
          "VANUATU ISLANDS",
          "SAN FRANCISCO, CA",
          "SULAWESI",
          "SULU SEA",
          "TAAL, LUZON ISLAND",
          "OCHRIDA LAKE",
          "BLANCHE BAY, BISMARCK SEA",
          "GOLD COAST",
          "MEXICO",
          "RYUKYU ISLANDS",
          "PHILIPPINE TRENCH",
          "NORTHERN CHILE",
          "PRINCE WILLIAM SOUND, AK",
          "TRINIDAD",
          "IONIAN SEA",
          "SOUTHERN SHORE, LAKE ERIE (OHIO)",
          "SANRIKU",
          "MARMARA SEA",
          "CAROLINE ISLANDS",
          "YAP ISLANDS, CAROLINE ISLANDS",
          "TASMAN SEA",
          "SANGIHE ISLAND",
          "LONGPORT, NJ",
          "S. PERU",
          "S. PERU",
          "OFF COAST",
          "SOLOMON SEA",
          "SANTA BARBARA, S. CALIFORNIA",
          "SEIKAIDO",
          "CENTRAL PERU",
          "LIGURIAN SEA",
          "S. PERU",
          "INDONESIA",
          "NW. IRIAN JAYA",
          "INDONESIA",
          "TOLAGA BAY, NORTH ISLAND",
          "IONIAN SEA",
          "AMBON ISLAND",
          "IONIAN SEA",
          "MANUA ISLANDS, AMERICAN SAMOA",
          "KAIMANA",
          "MYOJINSHO SUBMARINE VOLCANO",
          "IONIAN SEA",
          "EL SALVADOR",
          "SANRIKU",
          "NW. IRIAN JAYA",
          "W. LUZON ISLAND",
          "BISMARCK SEA",
          "COSTA RICA-PANAMA",
          "BOCAS DEL TORO",
          "DRAMSFJORD",
          "STROMBOLI ISLAND",
          "CENTRAL ADRIATIC",
          "SANTO DOMINGO",
          "OCUMARE DE LA COSTA DE ORO",
          "CELEBES SEA",
          "BALI SEA",
          "SOUTH CHINA SEA",
          "KAMCHATKA",
          "CELEBES SEA",
          "JAVA SEA",
          "KERMADEC ISLANDS",
          "TAIWAN",
          "SAMOA ISLANDS",
          "BISMARCK SEA",
          "TAKU INLET, JUNEAU, AK",
          "BANDA SEA",
          "MAUPIHAA",
          "KERMADEC ISLANDS",
          "HALIFAX, NOVA SCOTIA",
          "GUANGDONG PROVINCE",
          "NORTHERN CHILE",
          "SULAWESI",
          "YUNNAN PROVINCE",
          "CELEBES SEA",
          "S. KURIL ISLANDS",
          "PUERTO RICO: MONA PASSAGE",
          "PUERTO RICO",
          "S. KURIL ISLANDS",
          "NORTHERN CHILE",
          "MINDANAO ISLAND, PHILIPPINES",
          "TONGA ISLANDS",
          "TIMOR SEA",
          "SULAWESI",
          "HAWAII",
          "TONGA ISLANDS",
          "TONGA ISLANDS",
          "SOLOMON SEA",
          "STROMBOLI ISLAND",
          "GULF OF FONSECA",
          "LAGO DE MARACAIBO",
          "ALIKA, HAWAII",
          "TYRRHENIAN SEA",
          "NW. IRIAN JAYA",
          "CRIMEA",
          "N. MOLUCCAS ISLANDS",
          "SOLOMON SEA",
          "CENTRAL CHILE",
          "VANUATU ISLANDS",
          "CHINA: GANSU AND SHANXI PROVINCES",
          "ALBANIAN COASTS",
          "MAKASSAR STRAIT",
          "XIAOSI, DANDONG, LIAONING",
          "JAVA",
          "PHILIPPINE TRENCH",
          "HAWAII",
          "S. PERU",
          "BISMARCK SEA",
          "BANDA SEA",
          "CEBU ISLAND",
          "SULU SEA",
          "SW. SUMATRA",
          "GULF OF MEXICO",
          "LHOKNGA, ACEH",
          "AEGEAN SEA",
          "NEGROS ISLAND",
          "TAIWAN",
          "TASMAN SEA",
          "NORTHERN CHILE",
          "NORTHERN CHILE",
          "SE. NEW ZEALAND",
          "N. CALIFORNIA",
          "KAMCHATKA",
          "CENTRAL CHILE",
          "PHILIPPINES",
          "MINDANAO ISLAND, PHILIPPINES",
          "SAN FELIX ISLAND",
          "KAMCHATKA",
          "NORTHERN CHILE",
          "NORTHERN CHILE",
          "KASHIMA, JAPAN",
          "BUTUAN, SULU SEA",
          "ROCKAWAY BEACH, NY",
          "NORTHERN CHILE",
          "SAGAMI BAY",
          "RYUKYU ISLANDS",
          "N. CALIFORNIA",
          "BISMARCK SEA",
          "NEW BRITAIN",
          "NORTH AEGEAN SEA",
          "COSTA RICA",
          "TATAR STRAIT",
          "TATAR STRAIT",
          "E. MINDANAO ISLAND",
          "TATAR STRAIT",
          "PHILIPPINES",
          "HAWAII",
          "W. LUZON ISLAND",
          "MACQUARIE ISLAND",
          "CHATHAM I.",
          "CONEY ISLAND, NY",
          "ICELAND: REYKJAVIK",
          "E. MINDANAO ISLAND",
          "BANDA SEA",
          "GULF OF ALASKA, AK",
          "MEXICO",
          "W. LUZON ISLAND",
          "CALABRIAN ARC",
          "NORTHERN CHILE",
          "W. LUZON ISLAND",
          "CALIFORNIA",
          "PHILIPPINE SEA",
          "S. MEXICO",
          "SULU SEA",
          "CAROLINE ISLANDS",
          "BERNARD, ME",
          "SOLOMON SEA",
          "HAWAII",
          "COOK ISLANDS",
          "SW. SUMATRA",
          "ENGLISH CHANNEL",
          "AEOLIAN ISLANDS",
          "ARGOLIKOS GULF",
          "AZORES",
          "SOLOMON ISLANDS",
          "NORTHERN CHILE",
          "PORTUGAL",
          "S. CALIFORNIA",
          "WESTERN NORWAY",
          "SW. HONSHU ISLAND",
          "CRIMEA, BLACK SEA",
          "DEAD SEA",
          "SANRIKU",
          "KASHIMA, JAPAN",
          "MEXICO",
          "CRIMEA, BLACK SEA",
          "CRIMEA, BLACK SEA",
          "SE. ALASKA, AK",
          "SE. ALASKA, AK",
          "S. CALIFORNIA",
          "SOUTHERN CHILE",
          "SULAWESI",
          "KAMCHATKA",
          "BRITISH COLUMBIA",
          "MEXICO",
          "KRAKATAU",
          "EAST AEGEAN",
          "NORTHERN CHILE",
          "S. PERU",
          "CORINTHOS-PATRAS GULF",
          "AEGEAN SEA",
          "GRECIAN ARCHIPELAGO, CRETE",
          "S. PERU",
          "AEGEAN SEA",
          "NORTH AEGEAN",
          "WESTERN TURKEY",
          "LIFUKA ISLAND",
          "SANRIKU",
          "SAPPORO",
          "SULU SEA",
          "S. MEXICO",
          "N. PERU",
          "FLORES SEA",
          "CARUPANO",
          "NORTHERN CHILE",
          "CENTRAL CHILE",
          "CELEBES SEA",
          "PHILIPPINES",
          "CUMANA",
          "FOX ISLANDS, ALEUTIAN ISLANDS, AK",
          "HYUGANADA SEA",
          "BRITISH COLUMBIA",
          "E. MINDANAO ISLAND",
          "TASMAN SEA",
          "GRAND HAVEN, MICHIGAN",
          "NORTHERN CHILE",
          "ATTICA, NEW YORK",
          "TJALANG, N.W. SUMATRA",
          "GRAND BANKS, NEWFOUNDLAND",
          "JIANGSU PROVINCE",
          "OFF SOUTHERN COAST",
          "MADEIRA ISLAND",
          "KRAKATAU",
          "MID-NORWAY",
          "MYANMAR COAST",
          "SOUTH OF JAVA",
          "SOUTH OF JAVA",
          "S. CALIFORNIA",
          "STROMBOLI ISLAND",
          "CELEBES SEA",
          "BISMARCK SEA",
          "CENTRAL ADRIATIC",
          "MOMBASA",
          "BISMARCK SEA",
          "NORTHERN CHILE",
          "N. NEW ZEALAND",
          "N. NEW ZEALAND",
          "N. NEW ZEALAND",
          "SANRIKU",
          "CENTRAL CHILE",
          "DOGGER BANK, ENGLAND",
          "PHILIPPINES",
          "BISMARCK SEA",
          "ATLANTIC CITY, NJ",
          "AZORES",
          "SW. SUMATRA",
          "SAN CRISTOBAL ISLAND",
          "SEIKAIDO",
          "NORTHERN COAST (LAS VILLAS)",
          "SANTIAGO DE CUBA",
          "MINDANAO ISLAND, PHILIPPINES",
          "CALABRIAN ARC",
          "CENTRAL MEXICO",
          "CENTRAL MEXICO",
          "CENTRAL MEXICO",
          "S. MEXICO",
          "BANDA SEA",
          "N. NEW ZEALAND",
          "NORTH AEGEAN",
          "CUMANA",
          "WILLETTS POINT, NEW YORK",
          "KHARIMKOTAN, N. KURIL ISLANDS",
          "MEXICO",
          "NORTHERN CHILE",
          "SANRIKU",
          "S. CALIFORNIA",
          "COS, DODECANESE",
          "MEXICO",
          "GOLD COAST",
          "SANRIKU",
          "ECUADOR",
          "VANUATU ISLANDS",
          "BISMARCK SEA",
          "E. SAMAR ISLAND",
          "BIHAR-NEPAL, GANGES RIVER",
          "SOUTH CHINA SEA",
          "TAFJORD",
          "ICELAND",
          "COSTA RICA-PANAMA",
          "SOLOMON ISLANDS",
          "SOLOMON ISLANDS",
          "S. CALIFORNIA",
          "MEXICO",
          "NORTHERN CHILE",
          "BISMARCK SEA",
          "MARMARA SEA",
          "QUETTA",
          "JAPAN",
          "AZORES",
          "BISMARCK SEA",
          "SANRIKU",
          "SANRIKU",
          "HAWAII",
          "CELEBES SEA",
          "SICHUAN PROVINCE",
          "SW. SUMATRA",
          "GOOSE BAY, SOUTH ISLAND",
          "NAURU, OCEAN ISLAND",
          "SULAWESI",
          "NORTHERN CHILE",
          "OFF NORTHWEST COAST",
          "LOEN",
          "LAKE LOVATNET",
          "LITUYA BAY, AK",
          "SANRIKU",
          "LAKE LOVATNET",
          "KAMCHATKA",
          "RABAUL",
          "W. LUZON ISLAND",
          "KAMCHATKA",
          "BERING SEA, AK",
          "KAMCHATKA",
          "BANDA SEA",
          "NYAMURAGIRA",
          "BANDA SEA",
          "BONDI BEACH, SYDNEY",
          "BANDA SEA",
          "SOLOMON SEA",
          "BRITISH COLUMBIA",
          "SOLOMON SEA",
          "MAKASSAR STRAIT",
          "JAPAN TRENCH",
          "E. HOKKAIDO ISLAND",
          "RYUKYU ISLANDS",
          "HOLLAND, MICHIGAN",
          "NEW JERSEY COAST",
          "SANRIKU",
          "SANRIKU",
          "OFF FUKUSHIMA PREFECTURE",
          "OFF FUKUSHIMA PREFECTURE",
          "SANRIKU",
          "SHUMAGIN ISLANDS, AK",
          "SANRIKU",
          "SANRIKU",
          "SANRIKU",
          "SANRIKU",
          "CENTRAL CHILE",
          "CALABRIAN ARC",
          "SOLOMON SEA",
          "SEIKAIDO",
          "NORTHERN CHILE",
          "SOLOMON ISLANDS",
          "NW. HONSHU ISLAND",
          "TAYABAS BAY, SULU SEA",
          "AZORES",
          "GOLD COAST",
          "KICK 'EM JENNY VOLCANO",
          "SANTA CLARA",
          "N. MOLUCCAS ISLANDS",
          "SOUTH BLACK SEA",
          "NORTHERN SICILY",
          "CENTRAL PERU",
          "W. HOKKAIDO ISLAND",
          "NORTHERN NORWAY",
          "NORTHERN CHILE",
          "SOUTHERN CHILE",
          "BISMARCK SEA",
          "LEVANTIAN SEA",
          "NORTHERN CALIFORNIA",
          "CALABRIAN ARC",
          "MEXICO",
          "ANDAMAN SEA, E. COAST INDIA",
          "TENERIFE, CANARY ISLANDS",
          "SEIKAIDO",
          "AZORES GIBRALTAR FRACTURE ZONE",
          "COSTA RICA-PANAMA",
          "COSTA RICA-PANAMA",
          "COLOMBIA",
          "S. PERU",
          "CENTRAL CHILE",
          "SE. HOKKAIDO ISLAND",
          "COLUMBIA RIVER VALLEY, WA",
          "STROMBOLI ISLAND",
          "NEW JERSEY COAST",
          "EDREMIT GULF, AEGEAN SEA",
          "OFF SOUTHEAST COAST KII PENINSULA",
          "TOKAIDO",
          "SANRIKU",
          "MAKRAN COAST",
          "UNIMAK ISLAND, AK",
          "BRITISH COLUMBIA",
          "NORTHERN CHILE",
          "NORTHEASTERN COAST",
          "NORTHEASTERN COAST",
          "S. PERU",
          "ANDREANOF ISLANDS, AK",
          "N. KURIL ISLANDS",
          "HONSHU: S COAST",
          "OFF COAST OF NORTH ISLAND",
          "OFF COAST OF NORTH ISLAND",
          "PELOPONNESUS, GREECE",
          "W. HOKKAIDO ISLAND",
          "SULU SEA",
          "DODECANESE, KARPATHOS IS.",
          "TOKAIDO",
          "IONIAN SEA",
          "SHANDONG PROVINCE",
          "OFF NORTHWEST COAST",
          "TONGA TRENCH",
          "MEXICO",
          "NORTHERN CHILE",
          "KAMCHATKA",
          "WEST COAST OF GREECE",
          "PUGET SOUND, WA",
          "PUGET SOUND, WA",
          "CENTRAL CHILE",
          "BANDA ACEH",
          "CHIOS ISLAND, AEGEAN ISLANDS",
          "COLUMBIA RIVER VALLEY, WA",
          "BRITISH COLUMBIA",
          "NORTHERN LUZON ISLAND",
          "GULF OF ALASKA, AK",
          "SOLOMON SEA",
          "SOUTHERN CHILE",
          "SOUTHERN CHILE",
          "E. LUZON ISLAND",
          "SOUTHERN CHILE",
          "N. NEW ZEALAND",
          "OFF COAST",
          "EL TOCUYO",
          "INDIA-CHINA",
          "COSTA RICA-NICARAGUA",
          "BANDA SEA",
          "MID-NORWAY",
          "GUATEMALA",
          "SOLOMON SEA",
          "VANUATU ISLANDS",
          "S. PERU",
          "S. MEXICO",
          "BISMARCK SEA",
          "COLUMBIA RIVER VALLEY, WA",
          "COSIGUINA VOLCANO",
          "HAWAII",
          "TAIWAN",
          "PUERTO RICO",
          "BARBADOS",
          "CHINA: GANSU AND SHANXI PROVINCES",
          "KAVACHI",
          "MID-NORWAY",
          "SE. HOKKAIDO ISLAND",
          "SE. HOKKAIDO ISLAND",
          "HAWAII",
          "MISSISSIPPI RIVER",
          "E. OF MINDANO, PHILIPPINES",
          "COLUMBIA RIVER VALLEY, WA",
          "LAKE HURON, MI",
          "COSTA RICA-PANAMA",
          "OFF EAST COAST OF VANUATU",
          "DESECHEO ISLAND",
          "MYOJINSHO SUBMARINE VOLCANO",
          "MYOJINSHO SUBMARINE VOLCANO",
          "MYOJINSHO SUBMARINE VOLCANO",
          "MYOJINSHO SUBMARINE VOLCANO",
          "MYOJINSHO SUBMARINE VOLCANO",
          "COLUMBIA RIVER VALLEY, WA",
          "KAMCHATKA",
          "BARBADOS",
          "SOUTH COAST OF NUUSSUAQ, GREENLAND",
          "COLUMBIA RIVER VALLEY, WA",
          "CENTRAL PERU",
          "COLUMBIA RIVER VALLEY, WA",
          "MYOJINSHO SUBMARINE VOLCANO",
          "N. KURIL ISLANDS",
          "MYOJINSHO SUBMARINE VOLCANO",
          "RABAUL, NEW BRITAIN",
          "CENTRAL CHILE",
          "PUERTO PLATA",
          "BISMARCK SEA",
          "IONIAN SEA",
          "IONIAN SEA",
          "COLUMBIA RIVER VALLEY, WA",
          "LEVANTIAN SEA",
          "FIJI ISLANDS",
          "TASMANIA",
          "KASHIMA, JAPAN",
          "N. PERU",
          "MAR DEL PLATA",
          "CHINA: GANSU AND SHANXI PROVINCES",
          "MICHIGAN CITY, IN (LAKE MICHIGAN)",
          "SEA OF ALBORAN",
          "MIYAGI, JAPAN",
          "OFF THE COAST NEAR LA VELA",
          "LAKE LANAO",
          "VOLOS GULF",
          "CENTRAL CHILE",
          "LITTLE NICOBAR ISLAND",
          "EAST AEGEAN SEA",
          "SOLOMON SEA",
          "JINSHA RIVER, YUNNAN PROVINCE",
          "BISMARCK SEA",
          "NORTHERN CHILE",
          "LAKE TAUPO, NORTH ISLAND",
          "NE. HOKKAIDO ISLAND",
          "KAMCHATKA",
          "CYCLADES",
          "AMORGOS ISLAND, AEGEAN ISLANDS",
          "IZU PENINSULA",
          "NORTH AEGEAN",
          "NORTHERN CHILE",
          "ANDREANOF ISLANDS, AK",
          "NW. IRIAN JAYA",
          "S. MEXICO",
          "NORTHERN CHILE",
          "SOUTH OF JAVA",
          "MAKASSAR STRAIT",
          "HAWAII",
          "COLOMBIA-ECUADOR",
          "SICHUAN PROVINCE",
          "RIPPLE ROCK, BC",
          "PERU",
          "BENGKULU, SUMATRA",
          "SE. ALASKA, AK",
          "N. KURIL ISLANDS",
          "KUWAE VOLCANO",
          "EAST PACIFIC RISE",
          "S. KURIL ISLANDS",
          "S. KURIL ISLANDS",
          "SANRIKU",
          "N. PERU",
          "GRECIAN ARCHIPELAGO, CRETE",
          "S. KURIL ISLANDS",
          "KAMCHATKA",
          "NORTHERN NORWAY",
          "SOLOMON ISLANDS",
          "HEGBEN LAKE, MONTANA",
          "LAKE BAYKAL (BAIKAL)",
          "SANRIKU",
          "S. PERU",
          "MOROCCO",
          "SANRIKU",
          "SANRIKU",
          "CENTRAL CHILE",
          "SOUTHERN CHILE",
          "SOUTHERN CHILE",
          "SOLOMON SEA",
          "SANRIKU",
          "SOUTHERN CHILE",
          "N. PERU",
          "KASHIMA, JAPAN",
          "KASHIMA, JAPAN",
          "KASHIMA, JAPAN",
          "S. KURIL ISLANDS",
          "SEIKAIDO",
          "HONIARA, GUADALCANAL",
          "ASIA MINOR",
          "AEGEAN SEA",
          "NORTHEASTERN",
          "RYUKYU ISLANDS",
          "VANUATU ISLANDS",
          "SOLOMON SEA",
          "SE. HOKKAIDO ISLAND",
          "CENTRAL CHILE",
          "SE. HOKKAIDO ISLAND",
          "DALMATIAN COASTS",
          "COSTA RICA-PANAMA",
          "SANRIKU",
          "SE. HOKKAIDO ISLAND",
          "S. MEXICO",
          "S. MEXICO",
          "OFF COAST OF HONSHU ISLAND",
          "NORTH AEGEAN SEA",
          "FOX ISLANDS, ALEUTIAN ISLANDS, AK",
          "CORINTH GULF",
          "E. TAIWAN-RYUKYU ISLANDS",
          "GRAHAM ISLAND, BRITISH COLUMBIA",
          "LESSER SUNDA: BALI: AGUNG VOLCANO",
          "MARMARA SEA",
          "CENTRAL PERU",
          "VAJONT DAM, VAJONT RIVER",
          "S. KURIL ISLANDS",
          "S. KURIL ISLANDS",
          "S. KURIL ISLANDS",
          "JAVA",
          "TONGA TRENCH",
          "GULF OF ALASKA, AK",
          "PRINCE WILLIAM SOUND, AK",
          "OFF NORTHWEST COAST OF INDONESIA",
          "NW. HONSHU ISLAND",
          "NW. HONSHU ISLAND",
          "LONG ISLAND, NY",
          "NW. HONSHU ISLAND",
          "S. KURIL ISLANDS",
          "NEW BRITAIN",
          "NW. HONSHU ISLAND",
          "SANANA ISLAND",
          "COLUMBIA RIVER VALLEY, WA",
          "RAT ISLANDS, ALEUTIAN ISLANDS, AK",
          "SOUTHERN CHILE",
          "NORTHERN CHILE",
          "AEGEAN SEA",
          "CENTRAL CHILE",
          "RAT ISLANDS, ALEUTIAN ISLANDS, AK",
          "AICHI PREFECTURE",
          "S. KURIL ISLANDS",
          "FOX ISLANDS, ALEUTIAN ISLANDS, AK",
          "NORTH CORINTH GULF",
          "VANUATU ISLANDS",
          "VANUATU ISLANDS",
          "MEXICO",
          "TAAL, LUZON ISLAND",
          "SOUTHERN CHILE",
          "KICK 'EM JENNY VOLCANO",
          "E. TAIWAN-RYUKYU ISLANDS",
          "EASTERN NORWAY",
          "SOLOMON ISLANDS",
          "BLACK SEA",
          "CENTRAL PERU",
          "MOHAWK BAY, SANTA CRUZ ISLANDS",
          "NORTHERN CHILE",
          "SANTA CRUZ ISLANDS",
          "SANTA CRUZ ISLANDS",
          "ICELAND: CENTRAL-SOUTH",
          "S. KURIL ISLANDS",
          "MAKASSAR STRAIT",
          "NORTHEAST SUMATRA",
          "CARACAS",
          "BISMARCK SEA",
          "CENTRAL PERU",
          "NORTHERN CHILE",
          "TELEPHONE BAY, DECEPCION ISLAND",
          "NORTHERN COAST OF PUERTO RICO",
          "NORTHERN CHILE",
          "S. KURIL ISLANDS",
          "LEMNOS ISLAND, NORTH AEGEAN SEA",
          "SEIKAIDO",
          "LIGURIA-COTE D'AZUR",
          "EASTER ISLAND REGION",
          "OFF EAST COAST OF HONSHU ISLAND",
          "OFF COAST OF HONSHU ISLAND",
          "SANRIKU",
          "KERMADEC ISLANDS",
          "E. LUZON ISLAND",
          "ACAPULCO",
          "SEIKAIDO-NANKAIDO",
          "N. MOLUCCAS ISLANDS",
          "BANDA SEA",
          "BLACK SEA",
          "CARUPANO",
          "S. MEXICO-GUATEMALA-NICARAGUA",
          "MAKASSAR STRAIT",
          "PORTUGAL",
          "LUZON ISLAND",
          "GULF OF SUEZ",
          "NORSALV RIVER",
          "RYUKYU ISLANDS",
          "SOUTHWEST IBERIAN",
          "BOHAI SEA",
          "BISMARCK SEA",
          "S. KURIL ISLANDS",
          "SOUTH AFRICA",
          "KAMCHATKA",
          "GRAND BOURG",
          "PHILIPPINE TRENCH",
          "ANDREANOF ISLANDS, AK",
          "PHILIPPINE SEA",
          "CASPIAN SEA",
          "N. PERU",
          "SOUTHERN CHILE",
          "NORTHERN CHILE",
          "SEIKAIDO",
          "NEW ZEALAND",
          "PHILIPPINE TRENCH",
          "PAPUA NEW GUINEA",
          "NORTHERN CHILE",
          "BLACK SEA",
          "CHUNGAR",
          "ANDREANOF ISLANDS, AK",
          "CENTRAL CHILE",
          "SOLOMON SEA",
          "SOLOMON SEA",
          "JAPAN TRENCH",
          "TATAR STRAIT",
          "TATAR STRAIT",
          "TINAKULA, SANTA CRUZ ISLANDS",
          "TATAR STRAIT",
          "TATAR STRAIT",
          "BISMARCK SEA",
          "TATAR STRAIT",
          "RAT ISLANDS, ALEUTIAN ISLANDS, AK",
          "KAMCHATKA",
          "E. TAIWAN",
          "EAST OFF HACHIJO ISLAND",
          "CENTRAL CHILE",
          "SE. ALASKA, AK",
          "SOLOMON SEA",
          "SOLOMON SEA",
          "JAPAN",
          "RITTER ISLAND, PAPUA NEW GUINEA",
          "MINDANAO ISLAND, PHILIPPINES",
          "CHICHI JIMA",
          "CENTRAL CHILE",
          "S. MEXICO",
          "N. KURIL ISLANDS",
          "QUEZON",
          "HOKKAIDO ISLAND",
          "S. KURIL ISLANDS",
          "S. KURIL ISLANDS",
          "CENTRAL CHILE",
          "SOLOMON ISLANDS",
          "SOLOMON ISLANDS",
          "TOKAIDO",
          "SOUTHERN CHILE",
          "S. KURIL ISLANDS",
          "CENTRAL PERU",
          "KITIMAT INLET, BRITISH COLOMBIA",
          "RITTER ISLAND, PAPUA NEW GUINEA",
          "PAKISTAN",
          "BANDA SEA",
          "SANANA ISLAND",
          "CENTRAL CHILE",
          "KITIMAT INLET, BRITISH COLUMBIA",
          "AZORES GIBRALTAR FRACTURE ZONE",
          "S. KURIL ISLANDS",
          "SOLOMON SEA",
          "PHILIPPINE TRENCH",
          "HAWAII",
          "FIJI ISLANDS",
          "SAMOA ISLANDS",
          "KERMADEC ISLANDS",
          "S. KURIL ISLANDS",
          "GUATEMALA",
          "PANAMA",
          "MORO GULF",
          "CASSINO BEACH, RIO GRANDE DO SUL",
          "SAMOA ISLANDS",
          "SOLOMON ISLANDS",
          "SOLOMON ISLANDS",
          "SOLOMON ISLANDS",
          "TONGA TRENCH",
          "SUNDA ISLANDS",
          "ADMIRALTY ISLANDS",
          "ADMIRALTY ISLANDS",
          "TONGA TRENCH",
          "TOKAIDO",
          "S. KURIL ISLANDS",
          "S. KURIL ISLANDS",
          "S. KURIL ISLANDS",
          "S. KURIL ISLANDS",
          "S. KURIL ISLANDS",
          "NORWAY: RISSA",
          "SANRIKU",
          "INDIA",
          "MINDANAO ISLAND, PHILIPPINES",
          "THESSALONIKI (SALONICA), GREECE",
          "EASTERN ITALY, ADRIATIC SEA",
          "TAIWAN",
          "CADIZ",
          "OFF EAST COAST OF SOUTH ISLAND",
          "MEXICO",
          "IWATE, JAPAN",
          "SE. ALASKA, AK",
          "S. MEXICO",
          "NAGASAKI, JAPAN",
          "MONTENEGRO: BAR ULCINJ",
          "MONTENEGRO",
          "CRETE",
          "LOMBLEN ISLAND [LEMBATA]",
          "LOMBLEN ISLAND [LEMBATA]",
          "PUERTO CUMAREBO",
          "IRIAN JAYA",
          "NORTHERN NORWAY",
          "FRENCH RIVIERA (LIGURIAN SEA)",
          "FIJI ISLANDS",
          "COLOMBIA: OFF SHORE, PACIFIC OCEAN",
          "AZORES",
          "S. KURIL ISLANDS",
          "VANUATU ISLANDS",
          "WASHINGTON",
          "AZORES",
          "HONSHU ISLAND",
          "SANTA CRUZ IS. VANUATU",
          "SOLOMON ISLANDS",
          "EL ASNAM",
          "E. HONSHU ISLAND",
          "ATHENS-EASTERN GULF OF CORINTH",
          "GULF OF CORINTH",
          "AGULHAS BANK",
          "NEW ZEALAND",
          "SAMOA ISLANDS",
          "KRAKATAU",
          "MEXICO",
          "PHILIPPINES",
          "JAVA TRENCH",
          "SUMBAWA ISLAND",
          "HOKKAIDO ISLAND",
          "IBARAKI, JAPAN",
          "KERMADEC ISLANDS",
          "FLORES SEA",
          "S. OF HONSHU ISLAND",
          "IONIAN SEA",
          "BANDA SEA",
          "NEW BRITAIN",
          "COSTA RICA",
          "NOSHIRO, JAPAN",
          "NOSHIRO, JAPAN",
          "N. HONSHU ISLAND",
          "NORTH AEGEAN SEA",
          "KAMCHATKA BAY, RUSSIA",
          "LUZON ISLAND",
          "LESSER SUNDA ISLANDS",
          "WESTERN NORWAY",
          "NORTHERN CHILE",
          "CHAGOS ARCHIPELAGO REGION",
          "SULAWESI",
          "CORINTHOS GULF, GREECE",
          "S. KURIL ISLANDS",
          "TORI SHIMA, OKINAWA",
          "KYUSHU, JAPAN",
          "LAKE MONOUN",
          "HONSHU ISLAND",
          "KAMCHATKA",
          "CENTRAL CHILE",
          "GUADELOUPE",
          "BALI ISLAND",
          "QUYUAN, ZIGUI COUNTY",
          "NEW IRELAND",
          "MEXICO",
          "MEXICO",
          "ANDREANOF ISLANDS, AK",
          "ANDREANOF ISLANDS, AK",
          "LAKE NYOS",
          "KERMADEC ISLANDS",
          "TAIWAN",
          "E. HONSHU ISLAND",
          "SOLOMON SEA",
          "WESTERN NORWAY",
          "NORTHERN CHILE",
          "KYUSHU ISLAND",
          "HONSHU ISLAND",
          "DEEP COVE",
          "SABTANG ISLAND",
          "SOLOMON ISLANDS",
          "VANUATU ISLANDS",
          "TONGA ISLANDS",
          "SOLOMON SEA",
          "SOLOMON SEA",
          "GULF OF ALASKA, AK",
          "TIMOR SEA",
          "GULF OF ALASKA, AK",
          "NORTHERN CHILE",
          "GULF OF ALASKA, AK",
          "LA FOSSA VOLCANO, VULCANO IS.",
          "S. CALIFORNIA",
          "NORTH OF LUZON ISLAND",
          "PAPUA NEW GUINEA",
          "JAMUNA RIVER, ARICHA, BANGLADESH",
          "SOLOMON ISLANDS",
          "BANGLADESH",
          "MACQUARIE ISLAND",
          "HAWAII",
          "SEMIDI ISLANDS, AK",
          "N. CALIFORNIA",
          "N. HONSHU ISLAND",
          "ALGIERS, CHERCHELL, TIPAZA",
          "PUERTO RICO",
          "JAPAN",
          "PHILIPPINES",
          "JAPAN",
          "COSTA RICA",
          "MARIANA TRENCH, N. MARIANA ISLANDS",
          "CASPIAN SEA",
          "W. LUZON ISLAND",
          "W. OF BONIN ISLANDS, IZU IS., JAPAN",
          "EASTERN SICILY",
          "TAIWAN",
          "EAST AEGEAN SEA",
          "SOLOMON ISLANDS",
          "N. KURIL ISLANDS",
          "BERING SEA, AK",
          "LIMON, PANDORA",
          "EAST AEGEAN SEA",
          "SOLOMON ISLANDS",
          "S. KURIL ISLANDS",
          "SOUTH CHINA SEA",
          "CAPE MENDOCINO, N. CALIFORNIA",
          "PHILIPPINES",
          "SANTA CRUZ ISLANDS",
          "DAYTONA BEACH, FL",
          "HONSHU ISLAND",
          "HONSHU",
          "NICARAGUA",
          "FLORES SEA",
          "HONSHU ISLAND",
          "FUTUNA",
          "KAMCHATKA",
          "KERMADEC ISLANDS",
          "SEA OF JAPAN",
          "JAPAN",
          "GUAM, MARIANA ISLANDS",
          "KAMCHATKA",
          "COREA HARBOR, MAINE",
          "WEST COAST, USA",
          "HALMAHERA",
          "VANUATU ISLANDS",
          "SOUTHERN SUMATRA",
          "HOKKAIDO ISLAND",
          "WESTERN NORWAY",
          "TAIWAN",
          "SOUTH OF JAVA",
          "SOUTH OF JAVA",
          "SOUTH OF JAVA",
          "SOUTH OF JAVA",
          "HAWAII",
          "VANUATU ISLANDS",
          "N. CALIFORNIA",
          "TAIWAN STRAIT",
          "RABAUL HARBOR",
          "PAPUA NEW GUINEA",
          "S. KURIL ISLANDS",
          "HALMAHERA",
          "S. KURIL ISLANDS",
          "SKAGWAY, AK",
          "PHILIPPINE ISLANDS",
          "TOHUKU, JAPAN",
          "KOBE, JAPAN",
          "SAMOA ISLANDS",
          "SAMAR ISLAND",
          "SAMAR ISLAND",
          "GREECE",
          "TIMOR SEA",
          "LOYALTY ISLANDS",
          "SAKHALIN ISLAND",
          "GULF OF CORINTH: AIYION",
          "NORTHERN CHILE",
          "SOLOMON SEA",
          "S. MEXICO",
          "S. MEXICO",
          "RYUKYU ISLANDS",
          "RYUKYU ISLANDS",
          "NORTHERN CHILE",
          "GULF OF ELAT-AQABA",
          "S. KURIL ISLANDS",
          "SULAWESI",
          "W. CORINTH GULF",
          "KARYMSKOYE, KAMCHATKA, RUSSIA",
          "IRIAN JAYA",
          "N. PERU",
          "MEXICO",
          "LAKE BRIENZ",
          "ANDREANOF ISLANDS, AK",
          "ANDREANOF ISLANDS, AK",
          "HONSHU ISLAND",
          "EASTER ISLAND REGION",
          "TAIWAN REGION",
          "KYUSHU ISLAND",
          "KYUSHU ISLAND",
          "S. PERU",
          "SEA OF JAPAN",
          "NEW CALEDONIA",
          "GULF OF FONSECA",
          "NORFOLK ISLAND",
          "SANTA CRUZ IS. VANUATU",
          "CARIACO-CUMANA",
          "S. OF HONSHU ISLAND",
          "TONGA ISLANDS",
          "KAMCHATKA",
          "KAMCHATKA",
          "WHITE RIVER VALLEY",
          "WESTERN NORWAY",
          "BALLENY ISLANDS",
          "TAIWAN:  SOUTHEAST OF",
          "SANRIKU",
          "PAPUA NEW GUINEA",
          "TALIABU ISLAND",
          "SOUFRIERE HILLS VOLCANO",
          "KOCAELI, TURKEY",
          "FATU HIVA",
          "VANUATU ISLANDS",
          "LUZON ISLAND",
          "TAWI-TAWI, PHILIPPINES",
          "CRETE",
          "SULAWESI",
          "SOUTH INDIAN OCEAN",
          "KOZU-SHIMA ISLAND, HONSHU",
          "KERCH STRAIT",
          "HONSHU: S COAST",
          "PHILIPPINE TRENCH",
          "HONSHU: S COAST",
          "POINT ARGUELLO, S. CALIFORNIA",
          "BISMARCK SEA",
          "PAATUUT, GREENLAND",
          "EL SALVADOR",
          "S. PERU",
          "QUEEN CHARLOTTE ISLANDS",
          "TAIWAN",
          "VANUATU ISLANDS",
          "MINDANAO ISLAND, PHILIPPINES",
          "DODECANESE ISLANDS",
          "JAPAN",
          "TAIWAN",
          "ARRAIAL DO CABO",
          "BISMARCK SEA",
          "ANDAMAN ISLANDS, INDIA",
          "IRIAN JAYA",
          "ALBERT TOWN",
          "STROMBOLI ISLAND",
          "SOLOMON ISLANDS",
          "S. MEXICO",
          "SAMAR SEA",
          "N. ALGERIA",
          "ALGIERS",
          "WARREN DUNES, MICHIGAN",
          "SOUFRIERE HILLS VOLCANO",
          "QINGGAN RIVER, HUBEI PROVINCE",
          "SCOTIA SEA",
          "IONIAN SEA",
          "SOUTH ISLAND",
          "HOKKAIDO ISLAND",
          "E. HONSHU ISLAND",
          "RAT ISLANDS, ALEUTIAN ISLANDS, AK",
          "LOYALTY ISLANDS",
          "LOYALTY ISLANDS",
          "SERAM ISLAND",
          "DEAD SEA",
          "MARSEILLES",
          "SOUTH COAST HONSHU ISLAND",
          "SOUTH COAST HONSHU ISLAND",
          "VANCOUVER ISLAND",
          "KEPULAUAN ALOR",
          "BASSE-TERRE, LES SAINTES",
          "PUYSEGUR TRENCH",
          "HOKKAIDO ISLAND",
          "MACQUARIE ISLAND",
          "OFF W. COAST OF SUMATRA",
          "E. HONSHU ISLAND",
          "DOMINICA PASSAGE",
          "INDONESIA",
          "KEPULAUAN MENTAWAI",
          "N. CALIFORNIA",
          "E. COAST HONSHU ISLAND",
          "E. COAST HONSHU ISLAND",
          "BRITISH COLUMBIA",
          "S. OF HONSHU ISLAND",
          "SERAM ISLAND",
          "TONGA",
          "SOUFRIERE HILLS VOLCANO",
          "CIUTADELLA, MENORCA ISLAND",
          "SOUTH OF JAVA",
          "YELLOW SEA",
          "SAMOA ISLANDS",
          "HAWAII",
          "IZU ISLANDS, JAPAN",
          "SOUTH CHINA SEA",
          "S. KURIL ISLANDS",
          "TAIWAN",
          "S. KURIL ISLANDS",
          "VANUATU ISLANDS",
          "HONSHU: W COAST",
          "YELLOW SEA",
          "SOLOMON ISLANDS",
          "SOUTHERN CHILE",
          "BLACK SEA",
          "RITTER ISLAND, PAPUA NEW GUINEA",
          "DAYANTANG, ENSHI",
          "HONSHU: W COAST",
          "TATAR STRAIT",
          "ALEUTIAN ISLANDS, AK",
          "S. PERU",
          "SANTA CRUZ ISLANDS",
          "SUMATRA",
          "AUCKLAND ISLANDS",
          "JUAN DE GRIJALVA, CHIAPAS",
          "NORTHERN CHILE",
          "MARTINIQUE",
          "CHEHALIS LAKE, CHILLIWACK",
          "KERMADEC ISLANDS",
          "SUMATRA",
          "LOYALTY ISLANDS",
          "VANUATU ISLANDS",
          "YELLOW SEA",
          "SICHUAN PROVINCE",
          "ARATOZAWA, JAPAN",
          "OFF EAST COAST OF HONSHU ISLAND",
          "KASATOCHI VOLCANO, ALEUTIAN IS, AK",
          "SOUTHERN ATLANTIC OCEAN",
          "HOKKAIDO ISLAND",
          "MAINE",
          "SULAWESI",
          "WU GORGE, WUSHAN COUNTY",
          "NEAR NORTH COAST",
          "NEAR NORTH COAST",
          "KAMCHATKA",
          "COLUMBIA RIVER VALLEY, WA",
          "CELEBES SEA",
          "E. CHINA SEA-S.JAPAN",
          "TONGA",
          "OFF COAST OF HONDURAS",
          "SOLOMON SEA",
          "CRETE",
          "OFF WEST COAST OF SOUTH ISLAND",
          "XIAOWAN RESERVOIR, YUNNAN PROVINCE",
          "ANDAMAN ISLANDS",
          "HONSHU: S COAST",
          "SUMATRA",
          "COLUMBIA RIVER VALLEY, WA",
          "JAVA SEA",
          "SAMOA ISLANDS",
          "SUMATRA",
          "VANUATU ISLANDS",
          "PANTANO DO SUL, SANTA CATARINA",
          "CHEJU (JEJU) STRAIT",
          "SOLOMON ISLANDS",
          "SOLOMON ISLANDS",
          "SOLOMON ISLANDS",
          "HAITI & DOMINICAN REPUBLIC",
          "RYUKYU ISLANDS",
          "CENTRAL CHILE",
          "CENTRAL CHILE",
          "SUMATRA",
          "513 LAKE, HUALCAN GLACIER",
          "MANGAIA ISLAND, COOK ISLANDS",
          "VANUATU ISLANDS",
          "SOUTH OF SARIGAN IS, N. MARIANA IS",
          "LITTLE NICOBAR ISLAND",
          "SOLOMON SEA",
          "VANUATU ISLANDS",
          "GUAM, MARIANA ISLANDS",
          "SUMATRA",
          "BONIN ISLANDS",
          "VANUATU ISLANDS",
          "VANUATU ISLANDS",
          "VANUATU ISLANDS",
          "CENTRAL CHILE",
          "SVALBARD",
          "SOUTH ISLAND",
          "HONSHU ISLAND",
          "OFF SANRIKU",
          "HONSHU ISLAND",
          "E. COAST HONSHU ISLAND",
          "LOYALTY ISLANDS",
          "ATKA, ALEUTIAN ISLANDS, AK",
          "PLYMOUTH, ENGLAND",
          "KERMADEC ISLANDS",
          "OFF EAST COAST OF HONSHU ISLAND",
          "LYSEFJOREN, WESTERN NORWAY",
          "LYSEFJOREN, WESTERN NORWAY",
          "VANUATU ISLANDS",
          "VANUATU ISLANDS",
          "FOX ISLANDS, ALEUTIAN ISLANDS, AK",
          "KERMADEC ISLANDS",
          "SANTA CRUZ ISLANDS",
          "VANUATU ISLANDS",
          "TANON STRAIT",
          "LOYALTY ISLANDS",
          "OFF EAST COAST OF VANUATU",
          "HOKKAIDO ISLAND",
          "S. MEXICO",
          "OFF W. COAST OF N SUMATRA",
          "OFF W. COAST OF N SUMATRA",
          "VANUATU ISLANDS",
          "ILULISSAT ICEFJORD, GREENLAND",
          "EL SALVADOR-NICARAGUA",
          "PHILIPPINE ISLANDS",
          "COSTA RICA",
          "BRITISH COLUMBIA",
          "GUATEMALA",
          "OFF EAST COAST OF HONSHU ISLAND",
          "ZHAOJUN BRIDGE, HUBEI PROVINCE",
          "SE. ALASKA, AK",
          "SANTA CRUZ ISLANDS",
          "SANTA CRUZ ISLANDS",
          "LAGO ARGENTINO",
          "S. KURIL ISLANDS",
          "MEXICO",
          "NORTHWEST ATLANTIC OCEAN",
          "CRETE",
          "COOK STRAIT",
          "WELLINGTON",
          "OFF COAST GWADAR",
          "S OF RAOUL ISLAND, KERMADEC ISLANDS",
          "CRETE",
          "E. COAST HONSHU ISLAND",
          "SCOTIA SEA",
          "STATLAND",
          "CASSINO BEACH, RIO GRANDE DO SUL",
          "NORTHERN CHILE",
          "NORTHERN CHILE",
          "NORTHERN CHILE",
          "SOLOMON ISLANDS",
          "SOLOMON ISLANDS",
          "S. MEXICO",
          "SOLOMON SEA",
          "NORTH AEGEAN SEA",
          "S OF RAOUL ISLAND, KERMADEC ISLANDS",
          "ALEUTIAN ISLANDS, AK",
          "MEDITERRANEAN AND BLACK SEAS",
          "ODESSA",
          "ILULISSAT ICEFJORD, GREENLAND",
          "SANRIKU",
          "ASKJA LAKE",
          "PALMA BAY, AK",
          "EASTER ISLAND REGION",
          "GULF OF FONSECA",
          "N. MOLUCCAS ISLANDS",
          "HONSHU",
          "VANUATU ISLANDS",
          "BISMARCK SEA",
          "S. OF HONSHU ISLAND",
          "NEW BRITAIN",
          "NORTHERN NORWAY",
          "WUSHAN, CHONGQING",
          "NORTH SEA",
          "SOLOMON ISLANDS",
          "SANTA CRUZ ISLANDS",
          "FOX ISLANDS, ALEUTIAN ISLANDS, AK",
          "CENTRAL CHILE",
          "ICY BAY, AK",
          "CENTRAL CHILE",
          "JAPAN",
          "IONIAN SEA",
          "SOLOMON ISLANDS",
          "MOROCCO",
          "SW. SUMATRA",
          "VANUATU ISLANDS",
          "OFF COAST",
          "VANUATU ISLANDS",
          "LOYALTY ISLANDS",
          "SOUTHERN ATLANTIC OCEAN",
          "SANRIKU",
          "GISBORNE",
          "ARARANGUA",
          "OFF EAST COAST OF SOUTH ISLAND",
          "E. COAST HONSHU ISLAND",
          "NICARAGUA",
          "SOLOMON ISLANDS",
          "SOLOMON ISLANDS",
          "SOLOMON SEA",
          "SOUTHERN CHILE",
          "FIJI ISLANDS",
          "BOUGAINVILLE ISLAND",
          "PERSIAN GULF",
          "CENTRAL CHILE",
          "SOCCSKSARGEN, PHILIPPINES",
          "SKAGWAY, AK",
          "NORTH SEA",
          "LESBOS",
          "KARRAT FJORD, GREENLAND",
          "SOLOMON SEA",
          "BERING ISLAND",
          "OFF THE COAST NEAR SANTA MARTA",
          "GULF OF GÖKOVA",
          "S. MEXICO",
          "LOYALTY ISLANDS",
          "LOYALTY ISLANDS",
          "QUANG NAM",
          "LOYALTY ISLANDS",
          "LOYALTY ISLANDS",
          "LOYALTY ISLANDS",
          "KERMADEC ISLANDS",
          "OFF COAST OF HONDURAS",
          "S. PERU",
          "KODIAK ISLAND, AK",
          "KADOVAR ISLAND, PAPUA NEW GUINEA",
          "HAWAII",
          "S. OF HONSHU ISLAND",
          "NORTHEAST U.S.A.",
          "BALEARIC ISLANDS",
          "BALI SEA",
          "BALI SEA",
          "FIJI ISLANDS",
          "BALI SEA",
          "SUCRE",
          "LOYALTY ISLANDS",
          "SULAWESI",
          "BAIGE (JINSHA RIVER)",
          "LOYALTY ISLANDS",
          "IONIAN SEA",
          "LOYALTY ISLANDS",
          "BUREYA, FAR EASTERN RUSSIA",
          "KAMCHATKA",
          "KRAKATAU",
          "DALK GLACIER",
          "NAGASAKI, JAPAN",
          "LAKE ERIE",
          "IRAZU VOLCANO",
          "RABAUL, NEW BRITAIN",
          "CENTRAL CHILE",
          "S OF RAOUL ISLAND, KERMADEC ISLANDS",
          "NIIGATA",
          "KAMCHATKA",
          "STROMBOLI ISLAND",
          "W. JAVA",
          "STROMBOLI ISLAND",
          "IMBITUBA, SANTA CATARINA",
          "N. MOLUCCAS ISLANDS",
          "PUERTO RICO",
          "OFF SE COAST OF CUBA",
          "UBATUBA, SAO PAULO",
          "KERMADEC ISLANDS",
          "CASSINO BEACH, RIO GRANDE DO SUL",
          "N. KURIL ISLANDS",
          "GULF OF MEXICO",
          "CRETE",
          "LESSER SUNDA: BALI: IJEN VOLCANO",
          "GULF OF MEXICO",
          "S OF RAOUL ISLAND, KERMADEC ISLANDS",
          "OFF COAST OF OAXACA",
          "SHUMAGIN ISLANDS, AK",
          "SHUMAGIN ISLANDS, AK",
          "AEGEAN SEA",
          "VALLE GRAN REY, LA GOMERA ISLAND",
          "ELLIOT CREEK, BC",
          "CENTRAL CHILE",
          "SCOTIA SEA",
          "LOYALTY ISLANDS",
          "OFF FUKUSHIMA PREFECTURE",
          "GISBORNE",
          "S OF RAOUL ISLAND, KERMADEC ISLANDS",
          "S OF RAOUL ISLAND, KERMADEC ISLANDS",
          "N. ALGERIA",
          "SOUFRIERE VOLCANO",
          "STROMBOLI ISLAND",
          "BANDA SEA",
          "KODIAK ISLAND, AK",
          "MINDANAO ISLAND, PHILIPPINES",
          "SOUTHERN ATLANTIC OCEAN",
          "PORT-AU-PRINCE",
          "S. MEXICO",
          "CRETE",
          "FLORES SEA",
          "TONGA ISLANDS",
          "TONGA ISLANDS",
          "TONGA ISLANDS",
          "KERMADEC ISLANDS",
          "OFF FUKUSHIMA PREFECTURE",
          "LOYALTY ISLANDS",
          "LOYALTY ISLANDS",
          "ABUYOG, LEYTE",
          "RESURRECTION BAY, AK",
          "S. MEXICO",
          "TODOS LOS SANTOS LAKE",
          "N. LUZON ISLAND",
          "MEXICO",
          "S. MEXICO",
          "STROMBOLI ISLAND",
          "TONGA ISLANDS",
          "SW. SUMATRA",
          "SOLOMON ISLANDS",
          "LAKE TAUPO, NORTH ISLAND",
          "STROMBOLI ISLAND",
          "MAR DEL PLATA",
          "SOUTH MALUKU",
          "EAST EPI VOLCANO",
          "GULF OF ISKENDERUN",
          "EASTERN TURKEY",
          "ANTALYA, TURKEY",
          "SE RAOUL ISLAND, KERMADEC ISLANDS",
          "S OF RAOUL ISLAND, KERMADEC ISLANDS",
          "SW. SUMATRA",
          "NOTO PENINSULA, JAPAN",
          "LOYALTY ISLANDS",
          "LOYALTY ISLANDS",
          "GULF OF MEXICO",
          "SAND POINT, AK",
          "VANCOUVER ISLAND",
          "DICKSON FJORD, GREENLAND",
          "IZU ISLANDS, JAPAN",
          "IZU ISLANDS, JAPAN",
          "IZU ISLANDS, JAPAN",
          "VANUATU ISLANDS",
          "E. MINDANAO ISLAND",
          "VANUATU ISLANDS",
          "HONSHU: W COAST",
          "E. TAIWAN-RYUKYU ISLANDS",
          "S. PERU",
          "PEDERSEN LAGOON, AK",
          "HYUGANADA SEA",
          "KAMCHATKA",
          "IZU ISLANDS, JAPAN",
          "COLUMBIA RIVER VALLEY, WA",
          "CAPE MENDOCINO, N. CALIFORNIA",
          "VANUATU ISLANDS",
          "WHITEHORSE, YUKON",
          "PERU-ECUADOR-CHILE"
         ],
         "lat": {
          "bdata": "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",
          "dtype": "f8"
         },
         "legendgroup": "",
         "lon": {
          "bdata": "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",
          "dtype": "f8"
         },
         "marker": {
          "color": {
           "bdata": "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",
           "dtype": "f8"
          },
          "coloraxis": "coloraxis",
          "symbol": "circle"
         },
         "mode": "markers",
         "name": "",
         "showlegend": false,
         "type": "scattergeo"
        }
       ],
       "layout": {
        "coloraxis": {
         "colorbar": {
          "title": {
           "text": "Earthquake Magnitude"
          }
         },
         "colorscale": [
          [
           0,
           "#0d0887"
          ],
          [
           0.1111111111111111,
           "#46039f"
          ],
          [
           0.2222222222222222,
           "#7201a8"
          ],
          [
           0.3333333333333333,
           "#9c179e"
          ],
          [
           0.4444444444444444,
           "#bd3786"
          ],
          [
           0.5555555555555556,
           "#d8576b"
          ],
          [
           0.6666666666666666,
           "#ed7953"
          ],
          [
           0.7777777777777778,
           "#fb9f3a"
          ],
          [
           0.8888888888888888,
           "#fdca26"
          ],
          [
           1,
           "#f0f921"
          ]
         ]
        },
        "geo": {
         "center": {},
         "domain": {
          "x": [
           0,
           1
          ],
          "y": [
           0,
           1
          ]
         },
         "projection": {
          "type": "natural earth"
         }
        },
        "legend": {
         "tracegroupgap": 0
        },
        "template": {
         "data": {
          "bar": [
           {
            "error_x": {
             "color": "#2a3f5f"
            },
            "error_y": {
             "color": "#2a3f5f"
            },
            "marker": {
             "line": {
              "color": "#E5ECF6",
              "width": 0.5
             },
             "pattern": {
              "fillmode": "overlay",
              "size": 10,
              "solidity": 0.2
             }
            },
            "type": "bar"
           }
          ],
          "barpolar": [
           {
            "marker": {
             "line": {
              "color": "#E5ECF6",
              "width": 0.5
             },
             "pattern": {
              "fillmode": "overlay",
              "size": 10,
              "solidity": 0.2
             }
            },
            "type": "barpolar"
           }
          ],
          "carpet": [
           {
            "aaxis": {
             "endlinecolor": "#2a3f5f",
             "gridcolor": "white",
             "linecolor": "white",
             "minorgridcolor": "white",
             "startlinecolor": "#2a3f5f"
            },
            "baxis": {
             "endlinecolor": "#2a3f5f",
             "gridcolor": "white",
             "linecolor": "white",
             "minorgridcolor": "white",
             "startlinecolor": "#2a3f5f"
            },
            "type": "carpet"
           }
          ],
          "choropleth": [
           {
            "colorbar": {
             "outlinewidth": 0,
             "ticks": ""
            },
            "type": "choropleth"
           }
          ],
          "contour": [
           {
            "colorbar": {
             "outlinewidth": 0,
             "ticks": ""
            },
            "colorscale": [
             [
              0,
              "#0d0887"
             ],
             [
              0.1111111111111111,
              "#46039f"
             ],
             [
              0.2222222222222222,
              "#7201a8"
             ],
             [
              0.3333333333333333,
              "#9c179e"
             ],
             [
              0.4444444444444444,
              "#bd3786"
             ],
             [
              0.5555555555555556,
              "#d8576b"
             ],
             [
              0.6666666666666666,
              "#ed7953"
             ],
             [
              0.7777777777777778,
              "#fb9f3a"
             ],
             [
              0.8888888888888888,
              "#fdca26"
             ],
             [
              1,
              "#f0f921"
             ]
            ],
            "type": "contour"
           }
          ],
          "contourcarpet": [
           {
            "colorbar": {
             "outlinewidth": 0,
             "ticks": ""
            },
            "type": "contourcarpet"
           }
          ],
          "heatmap": [
           {
            "colorbar": {
             "outlinewidth": 0,
             "ticks": ""
            },
            "colorscale": [
             [
              0,
              "#0d0887"
             ],
             [
              0.1111111111111111,
              "#46039f"
             ],
             [
              0.2222222222222222,
              "#7201a8"
             ],
             [
              0.3333333333333333,
              "#9c179e"
             ],
             [
              0.4444444444444444,
              "#bd3786"
             ],
             [
              0.5555555555555556,
              "#d8576b"
             ],
             [
              0.6666666666666666,
              "#ed7953"
             ],
             [
              0.7777777777777778,
              "#fb9f3a"
             ],
             [
              0.8888888888888888,
              "#fdca26"
             ],
             [
              1,
              "#f0f921"
             ]
            ],
            "type": "heatmap"
           }
          ],
          "histogram": [
           {
            "marker": {
             "pattern": {
              "fillmode": "overlay",
              "size": 10,
              "solidity": 0.2
             }
            },
            "type": "histogram"
           }
          ],
          "histogram2d": [
           {
            "colorbar": {
             "outlinewidth": 0,
             "ticks": ""
            },
            "colorscale": [
             [
              0,
              "#0d0887"
             ],
             [
              0.1111111111111111,
              "#46039f"
             ],
             [
              0.2222222222222222,
              "#7201a8"
             ],
             [
              0.3333333333333333,
              "#9c179e"
             ],
             [
              0.4444444444444444,
              "#bd3786"
             ],
             [
              0.5555555555555556,
              "#d8576b"
             ],
             [
              0.6666666666666666,
              "#ed7953"
             ],
             [
              0.7777777777777778,
              "#fb9f3a"
             ],
             [
              0.8888888888888888,
              "#fdca26"
             ],
             [
              1,
              "#f0f921"
             ]
            ],
            "type": "histogram2d"
           }
          ],
          "histogram2dcontour": [
           {
            "colorbar": {
             "outlinewidth": 0,
             "ticks": ""
            },
            "colorscale": [
             [
              0,
              "#0d0887"
             ],
             [
              0.1111111111111111,
              "#46039f"
             ],
             [
              0.2222222222222222,
              "#7201a8"
             ],
             [
              0.3333333333333333,
              "#9c179e"
             ],
             [
              0.4444444444444444,
              "#bd3786"
             ],
             [
              0.5555555555555556,
              "#d8576b"
             ],
             [
              0.6666666666666666,
              "#ed7953"
             ],
             [
              0.7777777777777778,
              "#fb9f3a"
             ],
             [
              0.8888888888888888,
              "#fdca26"
             ],
             [
              1,
              "#f0f921"
             ]
            ],
            "type": "histogram2dcontour"
           }
          ],
          "mesh3d": [
           {
            "colorbar": {
             "outlinewidth": 0,
             "ticks": ""
            },
            "type": "mesh3d"
           }
          ],
          "parcoords": [
           {
            "line": {
             "colorbar": {
              "outlinewidth": 0,
              "ticks": ""
             }
            },
            "type": "parcoords"
           }
          ],
          "pie": [
           {
            "automargin": true,
            "type": "pie"
           }
          ],
          "scatter": [
           {
            "fillpattern": {
             "fillmode": "overlay",
             "size": 10,
             "solidity": 0.2
            },
            "type": "scatter"
           }
          ],
          "scatter3d": [
           {
            "line": {
             "colorbar": {
              "outlinewidth": 0,
              "ticks": ""
             }
            },
            "marker": {
             "colorbar": {
              "outlinewidth": 0,
              "ticks": ""
             }
            },
            "type": "scatter3d"
           }
          ],
          "scattercarpet": [
           {
            "marker": {
             "colorbar": {
              "outlinewidth": 0,
              "ticks": ""
             }
            },
            "type": "scattercarpet"
           }
          ],
          "scattergeo": [
           {
            "marker": {
             "colorbar": {
              "outlinewidth": 0,
              "ticks": ""
             }
            },
            "type": "scattergeo"
           }
          ],
          "scattergl": [
           {
            "marker": {
             "colorbar": {
              "outlinewidth": 0,
              "ticks": ""
             }
            },
            "type": "scattergl"
           }
          ],
          "scattermap": [
           {
            "marker": {
             "colorbar": {
              "outlinewidth": 0,
              "ticks": ""
             }
            },
            "type": "scattermap"
           }
          ],
          "scattermapbox": [
           {
            "marker": {
             "colorbar": {
              "outlinewidth": 0,
              "ticks": ""
             }
            },
            "type": "scattermapbox"
           }
          ],
          "scatterpolar": [
           {
            "marker": {
             "colorbar": {
              "outlinewidth": 0,
              "ticks": ""
             }
            },
            "type": "scatterpolar"
           }
          ],
          "scatterpolargl": [
           {
            "marker": {
             "colorbar": {
              "outlinewidth": 0,
              "ticks": ""
             }
            },
            "type": "scatterpolargl"
           }
          ],
          "scatterternary": [
           {
            "marker": {
             "colorbar": {
              "outlinewidth": 0,
              "ticks": ""
             }
            },
            "type": "scatterternary"
           }
          ],
          "surface": [
           {
            "colorbar": {
             "outlinewidth": 0,
             "ticks": ""
            },
            "colorscale": [
             [
              0,
              "#0d0887"
             ],
             [
              0.1111111111111111,
              "#46039f"
             ],
             [
              0.2222222222222222,
              "#7201a8"
             ],
             [
              0.3333333333333333,
              "#9c179e"
             ],
             [
              0.4444444444444444,
              "#bd3786"
             ],
             [
              0.5555555555555556,
              "#d8576b"
             ],
             [
              0.6666666666666666,
              "#ed7953"
             ],
             [
              0.7777777777777778,
              "#fb9f3a"
             ],
             [
              0.8888888888888888,
              "#fdca26"
             ],
             [
              1,
              "#f0f921"
             ]
            ],
            "type": "surface"
           }
          ],
          "table": [
           {
            "cells": {
             "fill": {
              "color": "#EBF0F8"
             },
             "line": {
              "color": "white"
             }
            },
            "header": {
             "fill": {
              "color": "#C8D4E3"
             },
             "line": {
              "color": "white"
             }
            },
            "type": "table"
           }
          ]
         },
         "layout": {
          "annotationdefaults": {
           "arrowcolor": "#2a3f5f",
           "arrowhead": 0,
           "arrowwidth": 1
          },
          "autotypenumbers": "strict",
          "coloraxis": {
           "colorbar": {
            "outlinewidth": 0,
            "ticks": ""
           }
          },
          "colorscale": {
           "diverging": [
            [
             0,
             "#8e0152"
            ],
            [
             0.1,
             "#c51b7d"
            ],
            [
             0.2,
             "#de77ae"
            ],
            [
             0.3,
             "#f1b6da"
            ],
            [
             0.4,
             "#fde0ef"
            ],
            [
             0.5,
             "#f7f7f7"
            ],
            [
             0.6,
             "#e6f5d0"
            ],
            [
             0.7,
             "#b8e186"
            ],
            [
             0.8,
             "#7fbc41"
            ],
            [
             0.9,
             "#4d9221"
            ],
            [
             1,
             "#276419"
            ]
           ],
           "sequential": [
            [
             0,
             "#0d0887"
            ],
            [
             0.1111111111111111,
             "#46039f"
            ],
            [
             0.2222222222222222,
             "#7201a8"
            ],
            [
             0.3333333333333333,
             "#9c179e"
            ],
            [
             0.4444444444444444,
             "#bd3786"
            ],
            [
             0.5555555555555556,
             "#d8576b"
            ],
            [
             0.6666666666666666,
             "#ed7953"
            ],
            [
             0.7777777777777778,
             "#fb9f3a"
            ],
            [
             0.8888888888888888,
             "#fdca26"
            ],
            [
             1,
             "#f0f921"
            ]
           ],
           "sequentialminus": [
            [
             0,
             "#0d0887"
            ],
            [
             0.1111111111111111,
             "#46039f"
            ],
            [
             0.2222222222222222,
             "#7201a8"
            ],
            [
             0.3333333333333333,
             "#9c179e"
            ],
            [
             0.4444444444444444,
             "#bd3786"
            ],
            [
             0.5555555555555556,
             "#d8576b"
            ],
            [
             0.6666666666666666,
             "#ed7953"
            ],
            [
             0.7777777777777778,
             "#fb9f3a"
            ],
            [
             0.8888888888888888,
             "#fdca26"
            ],
            [
             1,
             "#f0f921"
            ]
           ]
          },
          "colorway": [
           "#636efa",
           "#EF553B",
           "#00cc96",
           "#ab63fa",
           "#FFA15A",
           "#19d3f3",
           "#FF6692",
           "#B6E880",
           "#FF97FF",
           "#FECB52"
          ],
          "font": {
           "color": "#2a3f5f"
          },
          "geo": {
           "bgcolor": "white",
           "lakecolor": "white",
           "landcolor": "#E5ECF6",
           "showlakes": true,
           "showland": true,
           "subunitcolor": "white"
          },
          "hoverlabel": {
           "align": "left"
          },
          "hovermode": "closest",
          "mapbox": {
           "style": "light"
          },
          "paper_bgcolor": "white",
          "plot_bgcolor": "#E5ECF6",
          "polar": {
           "angularaxis": {
            "gridcolor": "white",
            "linecolor": "white",
            "ticks": ""
           },
           "bgcolor": "#E5ECF6",
           "radialaxis": {
            "gridcolor": "white",
            "linecolor": "white",
            "ticks": ""
           }
          },
          "scene": {
           "xaxis": {
            "backgroundcolor": "#E5ECF6",
            "gridcolor": "white",
            "gridwidth": 2,
            "linecolor": "white",
            "showbackground": true,
            "ticks": "",
            "zerolinecolor": "white"
           },
           "yaxis": {
            "backgroundcolor": "#E5ECF6",
            "gridcolor": "white",
            "gridwidth": 2,
            "linecolor": "white",
            "showbackground": true,
            "ticks": "",
            "zerolinecolor": "white"
           },
           "zaxis": {
            "backgroundcolor": "#E5ECF6",
            "gridcolor": "white",
            "gridwidth": 2,
            "linecolor": "white",
            "showbackground": true,
            "ticks": "",
            "zerolinecolor": "white"
           }
          },
          "shapedefaults": {
           "line": {
            "color": "#2a3f5f"
           }
          },
          "ternary": {
           "aaxis": {
            "gridcolor": "white",
            "linecolor": "white",
            "ticks": ""
           },
           "baxis": {
            "gridcolor": "white",
            "linecolor": "white",
            "ticks": ""
           },
           "bgcolor": "#E5ECF6",
           "caxis": {
            "gridcolor": "white",
            "linecolor": "white",
            "ticks": ""
           }
          },
          "title": {
           "x": 0.05
          },
          "xaxis": {
           "automargin": true,
           "gridcolor": "white",
           "linecolor": "white",
           "ticks": "",
           "title": {
            "standoff": 15
           },
           "zerolinecolor": "white",
           "zerolinewidth": 2
          },
          "yaxis": {
           "automargin": true,
           "gridcolor": "white",
           "linecolor": "white",
           "ticks": "",
           "title": {
            "standoff": 15
           },
           "zerolinecolor": "white",
           "zerolinewidth": 2
          }
         }
        },
        "title": {
         "text": "Ocorrências de Tsunamis pelo Mundo"
        }
       }
      }
     },
     "metadata": {},
     "output_type": "display_data"
    }
   ],
   "source": [
    "fig = px.scatter_geo (\n",
    "    df,\n",
    "    lat='Latitude',\n",
    "    lon='Longitude',\n",
    "    hover_name='Location Name',\n",
    "    hover_data={\n",
    "        'Country': True,\n",
    "        'Full Datetime': True,\n",
    "        'Earthquake Magnitude': True,\n",
    "        'Maximum Water Height (m)': True,\n",
    "        'Total Deaths': True\n",
    "    },\n",
    "    color='Earthquake Magnitude',\n",
    "    projection='natural earth',\n",
    "    title='Ocorrências de Tsunamis pelo Mundo'\n",
    ")\n",
    "\n",
    "fig.show()"
   ]
  },
  {
   "cell_type": "markdown",
   "id": "341f5159",
   "metadata": {},
   "source": [
    "# Conclusão\n",
    "\n",
    "Durante a análise dos dados dos tsunamis, foi possível observar diversos padrões e relações importantes entre as magnitudes dos terremotos e seus impactos. Através das visualizações geradas, destacamos alguns pontos-chave:\n",
    "\n",
    "1. **Distribuição das Magnitudes dos Terremotos**: \n",
    "   A análise da magnitude dos terremotos demonstrou que a maioria dos eventos de tsunami está relacionada a terremotos de magnitudes elevadas, especialmente acima de 7.0. Essa informação é crucial para entender a correlação entre a intensidade do terremoto e o impacto subsequente do tsunami.\n",
    "\n",
    "2. **Impacto Humano**: \n",
    "   Observou-se que, em geral, os tsunamis mais devastadores, em termos de número de mortes, estão associados a terremotos de maior magnitude. O gráfico de Magnitude vs Mortes vs Altura da Água demonstrou que, embora a altura da água tenha um papel importante, a magnitude do terremoto parece ser o fator determinante para o número de mortes.\n",
    "\n",
    "3. **Altura da Água**: \n",
    "   A altura máxima da água foi um fator relevante para os impactos, mas não teve uma correlação tão forte quanto a magnitude do terremoto. Isso sugere que, embora tsunamis com grandes alturas de água possam ser mais destrutivos, a proximidade do epicentro e a intensidade do terremoto também desempenham papéis cruciais.\n",
    "\n",
    "4. **Países Mais Afetados**: \n",
    "   O gráfico de distribuição de tsunamis por país revelou que algumas regiões, como o Sudeste Asiático e o Japão, são mais frequentemente afetadas por tsunamis. Isso pode ser explicado pela localização geológica dessas regiões, que estão próximas às placas tectônicas responsáveis pelos terremotos submarinos.\n",
    "\n",
    "5. **Conclusão Geral**: \n",
    "   Em resumo, os dados mostram que os tsunamis mais devastadores estão relacionados a terremotos de maior magnitude, com uma forte relação entre a magnitude do terremoto e o número de mortes. Países próximos a zonas sísmicas ativas, como o Japão e a Indonésia, estão mais suscetíveis a esses desastres. \n",
    "\n",
    "Esta análise pode ser um ponto de partida para estudar a preparação e resposta a tsunamis, além de guiar políticas públicas para mitigar os impactos desses desastres naturais.\n",
    "\n",
    "# Limitações da Análise\n",
    "\n",
    "É importante notar que a análise foi baseada em dados disponíveis, e valores ausentes ou inconsistentes podem ter afetado as conclusões. Além disso, a interação entre fatores geográficos, ambientais e humanos pode ser complexa e requer um estudo mais aprofundado.\n",
    "\n"
   ]
  }
 ],
 "metadata": {
  "kernelspec": {
   "display_name": "Python 3",
   "language": "python",
   "name": "python3"
  },
  "language_info": {
   "codemirror_mode": {
    "name": "ipython",
    "version": 3
   },
   "file_extension": ".py",
   "mimetype": "text/x-python",
   "name": "python",
   "nbconvert_exporter": "python",
   "pygments_lexer": "ipython3",
   "version": "3.13.3"
  }
 },
 "nbformat": 4,
 "nbformat_minor": 5
}
